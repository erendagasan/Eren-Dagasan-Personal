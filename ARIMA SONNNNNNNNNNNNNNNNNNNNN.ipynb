{
  "nbformat": 4,
  "nbformat_minor": 0,
  "metadata": {
    "colab": {
      "provenance": [],
      "gpuType": "T4",
      "include_colab_link": true
    },
    "kernelspec": {
      "name": "python3",
      "display_name": "Python 3"
    },
    "language_info": {
      "name": "python"
    },
    "accelerator": "GPU"
  },
  "cells": [
    {
      "cell_type": "markdown",
      "metadata": {
        "id": "view-in-github",
        "colab_type": "text"
      },
      "source": [
        "<a href=\"https://colab.research.google.com/github/erendagasan/Eren-Dagasan-Personal/blob/main/ARIMA%20SONNNNNNNNNNNNNNNNNNNNN.ipynb\" target=\"_parent\"><img src=\"https://colab.research.google.com/assets/colab-badge.svg\" alt=\"Open In Colab\"/></a>"
      ]
    },
    {
      "cell_type": "code",
      "source": [
        "!pip install pmdarima"
      ],
      "metadata": {
        "id": "7y_Qvqk2vlh2"
      },
      "execution_count": null,
      "outputs": []
    },
    {
      "cell_type": "code",
      "source": [
        "import os\n",
        "import warnings\n",
        "warnings.filterwarnings('ignore')\n",
        "import numpy as np\n",
        "import pandas as pd\n",
        "import matplotlib.pyplot as plt\n",
        "from statsmodels.tsa.stattools import adfuller\n",
        "from statsmodels.tsa.seasonal import seasonal_decompose\n",
        "from statsmodels.tsa.arima_model import ARIMA\n",
        "from pmdarima.arima import auto_arima\n",
        "from sklearn.metrics import mean_squared_error, mean_absolute_error\n",
        "import math\n",
        "import yfinance as yf\n",
        "\n",
        "stock = \"TCELL.IS\"\n",
        "\n",
        "dateparse = lambda dates: pd.datetime.strptime(dates, '%Y-%m-%d')\n",
        "stock_data = yf.download(stock, start=\"2006-01-01\", end=\"2023-09-14\")\n",
        "\n",
        "df_close = stock_data['Close']\n",
        "df_log = np.log(df_close)\n",
        "train_data, test_data = df_log[3:int(len(df_log)*0.9)], df_log[int(len(df_log)*0.9):]\n",
        "\n",
        "model_autoARIMA = auto_arima(train_data, start_p=0, start_q=0,\n",
        "                      test='adf',\n",
        "                      max_p=3, max_q=3,\n",
        "                      m=1,\n",
        "                      d=None,\n",
        "                      seasonal=False,\n",
        "                      start_P=0,\n",
        "                      D=0,\n",
        "                      trace=True,\n",
        "                      error_action='ignore',\n",
        "                      suppress_warnings=True,\n",
        "                      stepwise=True)\n",
        "\n",
        "best_order = model_autoARIMA.order\n",
        "print(\"Best ARIMA Order:\", best_order)"
      ],
      "metadata": {
        "id": "yQHoHzSHntPE",
        "colab": {
          "base_uri": "https://localhost:8080/"
        },
        "outputId": "762462b2-5571-438f-8cd0-e491546e9b9d"
      },
      "execution_count": 256,
      "outputs": [
        {
          "output_type": "stream",
          "name": "stdout",
          "text": [
            "\r[*********************100%%**********************]  1 of 1 completed\n",
            "Performing stepwise search to minimize aic\n",
            " ARIMA(0,0,0)(0,0,0)[0]             : AIC=18647.754, Time=0.07 sec\n",
            " ARIMA(1,0,0)(0,0,0)[0]             : AIC=inf, Time=3.14 sec\n",
            " ARIMA(0,0,1)(0,0,0)[0]             : AIC=inf, Time=1.76 sec\n",
            " ARIMA(1,0,1)(0,0,0)[0]             : AIC=-20025.630, Time=4.41 sec\n",
            " ARIMA(2,0,1)(0,0,0)[0]             : AIC=inf, Time=7.85 sec\n",
            " ARIMA(1,0,2)(0,0,0)[0]             : AIC=-20039.614, Time=9.60 sec\n",
            " ARIMA(0,0,2)(0,0,0)[0]             : AIC=7845.219, Time=2.82 sec\n",
            " ARIMA(2,0,2)(0,0,0)[0]             : AIC=inf, Time=5.87 sec\n",
            " ARIMA(1,0,3)(0,0,0)[0]             : AIC=-20042.581, Time=6.02 sec\n",
            " ARIMA(0,0,3)(0,0,0)[0]             : AIC=3506.012, Time=1.94 sec\n",
            " ARIMA(2,0,3)(0,0,0)[0]             : AIC=inf, Time=4.32 sec\n",
            " ARIMA(1,0,3)(0,0,0)[0] intercept   : AIC=-20048.484, Time=1.46 sec\n",
            " ARIMA(0,0,3)(0,0,0)[0] intercept   : AIC=-11902.748, Time=2.78 sec\n",
            " ARIMA(1,0,2)(0,0,0)[0] intercept   : AIC=-20045.981, Time=4.68 sec\n",
            " ARIMA(2,0,3)(0,0,0)[0] intercept   : AIC=-20046.773, Time=1.72 sec\n",
            " ARIMA(0,0,2)(0,0,0)[0] intercept   : AIC=-9286.843, Time=2.22 sec\n",
            " ARIMA(2,0,2)(0,0,0)[0] intercept   : AIC=-20005.127, Time=4.36 sec\n",
            "\n",
            "Best model:  ARIMA(1,0,3)(0,0,0)[0] intercept\n",
            "Total fit time: 65.077 seconds\n",
            "Best ARIMA Order: (1, 0, 3)\n"
          ]
        }
      ]
    },
    {
      "cell_type": "code",
      "source": [
        "from statsmodels.tsa.arima.model import ARIMA\n",
        "from datetime import datetime, timedelta\n",
        "\n",
        "start=\"2023-08-14\"\n",
        "end=\"2023-09-14\"\n",
        "\n",
        "stock_data = yf.download(stock, start=start, end=end, progress=False)\n",
        "new_date_index = stock_data.index + pd.Timedelta(days=7)\n",
        "model = ARIMA(np.log(stock_data[\"Close\"]), order=best_order)\n",
        "fitted = model.fit()"
      ],
      "metadata": {
        "id": "DsNaI26cwFv_"
      },
      "execution_count": 257,
      "outputs": []
    },
    {
      "cell_type": "code",
      "source": [
        "forecast_results = fitted.get_forecast(steps=len(stock_data), alpha=0.05)\n",
        "\n",
        "fc = forecast_results.predicted_mean\n",
        "conf = forecast_results.conf_int()\n",
        "\n",
        "fc_series = pd.Series(fc, index=test_data.index)\n",
        "lower_series = pd.Series(conf.iloc[:, 0], index=test_data.index)\n",
        "upper_series = pd.Series(conf.iloc[:, 1], index=test_data.index)\n",
        "\n",
        "plt.figure(figsize=(16,6), dpi=100)\n",
        "# plt.plot(np.exp(train_data[3500:]), label='Training data', color=\"black\")\n",
        "plt.plot(np.exp(test_data), color='blue', label='Test data')\n",
        "\n",
        "# plt.plot(test_data.index, np.exp(fc), color='orange', label='Predicted Stock Price')  # Convert back to original scale\n",
        "# plt.fill_between(test_data.index, np.exp(conf.iloc[:, 0]), np.exp(conf.iloc[:, 1]),\n",
        "#                  color='k', alpha=.10)\n",
        "\n",
        "# plt.plot(stock_data[\"Close\"], color='red', label='Excluded stock data')\n",
        "\n",
        "plt.plot(new_date_index, np.exp(fc), color='red', label='Predicted stock price')  # Convert back to original scale\n",
        "plt.fill_between(new_date_index, np.exp(conf.iloc[:, 0]), np.exp(conf.iloc[:, 1]),\n",
        "                 color='black', alpha=.10)\n",
        "\n",
        "\n",
        "plt.axhline(np.exp(conf.iloc[:, 1].max()), color=\"green\")\n",
        "plt.axhline(np.exp(conf.iloc[:, 0].min()), color=\"red\")\n",
        "\n",
        "plt.xlabel('Time')\n",
        "plt.ylabel('Price')\n",
        "plt.legend(loc='lower left', fontsize=8)\n",
        "plt.show()"
      ],
      "metadata": {
        "id": "4mfH8NaHwOHz"
      },
      "execution_count": null,
      "outputs": []
    },
    {
      "cell_type": "code",
      "source": [
        "# report performance\n",
        "mse = mean_squared_error(test_data, fc)\n",
        "print('MSE: '+str(mse))\n",
        "mae = mean_absolute_error(test_data, fc)\n",
        "print('MAE: '+str(mae))\n",
        "rmse = math.sqrt(mean_squared_error(test_data, fc))\n",
        "print('RMSE: '+str(rmse))\n",
        "mape = np.mean(np.abs(fc.to_numpy() - test_data)/np.abs(test_data))\n",
        "print('MAPE: '+str(mape))"
      ],
      "metadata": {
        "id": "M8QtrLQzxTyI"
      },
      "execution_count": null,
      "outputs": []
    },
    {
      "cell_type": "code",
      "source": [
        "forecast_results = fitted.get_forecast(steps=len(test_data), alpha=0.05)\n",
        "\n",
        "fc = forecast_results.predicted_mean\n",
        "conf = forecast_results.conf_int()\n",
        "\n",
        "fc_series = pd.Series(fc, index=test_data.index)\n",
        "lower_series = pd.Series(conf.iloc[:, 0], index=test_data.index)\n",
        "upper_series = pd.Series(conf.iloc[:, 1], index=test_data.index)\n",
        "\n",
        "# Assuming you already have the forecast_results, fc, conf, fc_series, lower_series, and upper_series\n",
        "\n",
        "# Extend the time horizon by 30 days\n",
        "extended_steps = 50\n",
        "forecast_extended = fitted.get_forecast(steps=len(test_data) + extended_steps, alpha=0.05)\n",
        "\n",
        "# Extract the extended forecast and confidence intervals\n",
        "fc_extended = forecast_extended.predicted_mean\n",
        "conf_extended = forecast_extended.conf_int()\n",
        "\n",
        "# Create Series for the extended forecast and confidence intervals\n",
        "fc_series_extended = pd.Series(fc_extended, index=fc_series.index.append(pd.date_range(start=test_data.index[-1] + pd.DateOffset(1), periods=extended_steps)))\n",
        "lower_series_extended = pd.Series(conf_extended.iloc[:, 0], index=lower_series.index.append(pd.date_range(start=test_data.index[-1] + pd.DateOffset(1), periods=extended_steps)))\n",
        "upper_series_extended = pd.Series(conf_extended.iloc[:, 1], index=upper_series.index.append(pd.date_range(start=test_data.index[-1] + pd.DateOffset(1), periods=extended_steps)))\n",
        "\n",
        "# Plot the extended forecast\n",
        "plt.figure(figsize=(10, 5), dpi=100)\n",
        "plt.plot(np.exp(test_data), color='blue', label='Actual Stock Price')\n",
        "plt.plot(test_data.index, np.exp(fc), color='orange', label='Predicted Stock Price')\n",
        "plt.plot(fc_series_extended.index, np.exp(fc_extended), color='purple', linestyle='--', label='Extended Predicted Stock Price')  # Convert back to original scale\n",
        "\n",
        "# Fill the area between the confidence intervals\n",
        "plt.fill_between(test_data.index, np.exp(conf.iloc[:, 0]), np.exp(conf.iloc[:, 1]), color='k', alpha=.10)\n",
        "plt.fill_between(fc_series_extended.index, np.exp(conf_extended.iloc[:, 0]), np.exp(conf_extended.iloc[:, 1]), color='purple', alpha=.10)\n",
        "\n",
        "# Add horizontal lines for the maximum and minimum bounds of the confidence intervals\n",
        "plt.axhline(np.exp(conf.iloc[:, 1].max()), color=\"green\")\n",
        "plt.axhline(np.exp(conf.iloc[:, 0].min()), color=\"red\")\n",
        "\n",
        "plt.xlabel('Time')\n",
        "plt.ylabel('Price')\n",
        "plt.legend(loc='upper left', fontsize=8)\n",
        "plt.show()\n"
      ],
      "metadata": {
        "id": "CE3uHgMZJ_NG"
      },
      "execution_count": null,
      "outputs": []
    },
    {
      "cell_type": "code",
      "source": [],
      "metadata": {
        "id": "7xZsSAsxQe_y"
      },
      "execution_count": null,
      "outputs": []
    }
  ]
}
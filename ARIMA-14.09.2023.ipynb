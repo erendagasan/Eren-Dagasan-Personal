{
  "nbformat": 4,
  "nbformat_minor": 0,
  "metadata": {
    "colab": {
      "provenance": [],
      "include_colab_link": true
    },
    "kernelspec": {
      "name": "python3",
      "display_name": "Python 3"
    },
    "language_info": {
      "name": "python"
    }
  },
  "cells": [
    {
      "cell_type": "markdown",
      "metadata": {
        "id": "view-in-github",
        "colab_type": "text"
      },
      "source": [
        "<a href=\"https://colab.research.google.com/github/erendagasan/Eren-Dagasan-Personal/blob/main/ARIMA-14.09.2023.ipynb\" target=\"_parent\"><img src=\"https://colab.research.google.com/assets/colab-badge.svg\" alt=\"Open In Colab\"/></a>"
      ]
    },
    {
      "cell_type": "code",
      "source": [
        "!pip install pmdarima"
      ],
      "metadata": {
        "id": "7y_Qvqk2vlh2"
      },
      "execution_count": null,
      "outputs": []
    },
    {
      "cell_type": "code",
      "source": [
        "import os\n",
        "import warnings\n",
        "warnings.filterwarnings('ignore')\n",
        "import numpy as np\n",
        "import pandas as pd\n",
        "import matplotlib.pyplot as plt\n",
        "from statsmodels.tsa.stattools import adfuller\n",
        "from statsmodels.tsa.seasonal import seasonal_decompose\n",
        "from statsmodels.tsa.arima.model import ARIMA\n",
        "from pmdarima.arima import auto_arima\n",
        "from sklearn.metrics import mean_squared_error, mean_absolute_error\n",
        "import math\n",
        "import yfinance as yf\n",
        "\n",
        "stock = \"BIIB\"\n",
        "\n",
        "dateparse = lambda dates: pd.datetime.strptime(dates, '%Y-%m-%d')\n",
        "stock_data = yf.download(stock, start=\"2006-01-01\", end=\"2023-09-14\")\n",
        "\n",
        "df_close = stock_data['Close']\n",
        "df_log = np.log(df_close)\n",
        "train_data, test_data = df_log[3:int(len(df_log)*0.9)], df_log[int(len(df_log)*0.9):]\n",
        "\n",
        "model_autoARIMA = auto_arima(train_data, start_p=0, start_q=0,\n",
        "                      test='adf',\n",
        "                      max_p=3, max_q=3,\n",
        "                      m=1,\n",
        "                      d=None,\n",
        "                      seasonal=False,\n",
        "                      start_P=0,\n",
        "                      D=0,\n",
        "                      trace=True,\n",
        "                      error_action='ignore',\n",
        "                      suppress_warnings=True,\n",
        "                      stepwise=True)\n",
        "\n",
        "best_order = model_autoARIMA.order\n",
        "print(\"Best ARIMA Order:\", best_order)"
      ],
      "metadata": {
        "id": "yQHoHzSHntPE",
        "colab": {
          "base_uri": "https://localhost:8080/"
        },
        "outputId": "dc05316f-9bbc-49e8-dc83-38e1878edf28"
      },
      "execution_count": 27,
      "outputs": [
        {
          "output_type": "stream",
          "name": "stdout",
          "text": [
            "\r[*********************100%%**********************]  1 of 1 completed\n",
            "Performing stepwise search to minimize aic\n",
            " ARIMA(0,1,0)(0,0,0)[0] intercept   : AIC=-18249.433, Time=1.12 sec\n",
            " ARIMA(1,1,0)(0,0,0)[0] intercept   : AIC=-18254.756, Time=1.59 sec\n",
            " ARIMA(0,1,1)(0,0,0)[0] intercept   : AIC=-18254.949, Time=1.87 sec\n",
            " ARIMA(0,1,0)(0,0,0)[0]             : AIC=-18250.420, Time=0.42 sec\n",
            " ARIMA(1,1,1)(0,0,0)[0] intercept   : AIC=-18258.049, Time=3.24 sec\n",
            " ARIMA(2,1,1)(0,0,0)[0] intercept   : AIC=-18264.923, Time=6.04 sec\n",
            " ARIMA(2,1,0)(0,0,0)[0] intercept   : AIC=-18253.304, Time=2.89 sec\n",
            " ARIMA(3,1,1)(0,0,0)[0] intercept   : AIC=-18258.573, Time=3.13 sec\n",
            " ARIMA(2,1,2)(0,0,0)[0] intercept   : AIC=-18258.890, Time=4.02 sec\n",
            " ARIMA(1,1,2)(0,0,0)[0] intercept   : AIC=-18254.860, Time=8.64 sec\n",
            " ARIMA(3,1,0)(0,0,0)[0] intercept   : AIC=-18260.445, Time=3.64 sec\n",
            " ARIMA(3,1,2)(0,0,0)[0] intercept   : AIC=-18257.161, Time=2.60 sec\n",
            " ARIMA(2,1,1)(0,0,0)[0]             : AIC=-18252.274, Time=1.58 sec\n",
            "\n",
            "Best model:  ARIMA(2,1,1)(0,0,0)[0] intercept\n",
            "Total fit time: 40.870 seconds\n",
            "Best ARIMA Order: (2, 1, 1)\n"
          ]
        }
      ]
    },
    {
      "cell_type": "code",
      "source": [
        "from statsmodels.tsa.arima.model import ARIMA\n",
        "from datetime import datetime, timedelta\n",
        "\n",
        "start=\"2023-08-28\"\n",
        "end=\"2023-09-11\"\n",
        "\n",
        "stock_data = yf.download(stock, start=start, end=end, progress=False)\n",
        "new_date_index = stock_data.index + pd.Timedelta(days=(pd.Timestamp(end)-pd.Timestamp(start)+pd.Timedelta(1)).days)\n",
        "model = ARIMA(np.log(stock_data[\"Close\"]), order=best_order)\n",
        "fitted = model.fit()\n",
        "\n",
        "print(len(stock_data))"
      ],
      "metadata": {
        "id": "DsNaI26cwFv_",
        "outputId": "56d89b82-ab43-4adb-cc70-eb1c3a83ed3e",
        "colab": {
          "base_uri": "https://localhost:8080/"
        }
      },
      "execution_count": 38,
      "outputs": [
        {
          "output_type": "stream",
          "name": "stdout",
          "text": [
            "9\n"
          ]
        }
      ]
    },
    {
      "cell_type": "code",
      "source": [
        "forecast_results = fitted.get_forecast(steps=len(stock_data), alpha=0.05)\n",
        "\n",
        "fc = forecast_results.predicted_mean\n",
        "conf = forecast_results.conf_int()\n",
        "\n",
        "fc_series = pd.Series(fc, index=stock_data.index)\n",
        "lower_series = pd.DataFrame([new_date_index,conf.iloc[:, 0]]).T\n",
        "\n",
        "plt.figure(figsize=(16,6), dpi=100)\n",
        "plt.plot(np.exp(test_data), color='black', label='Test data')\n",
        "\n",
        "import datetime\n",
        "def get_last_weekday_date():\n",
        "    today = datetime.date.today()\n",
        "    while today.weekday() >= 5:\n",
        "        today -= datetime.timedelta(days=1)\n",
        "    return today\n",
        "last_weekday_date = get_last_weekday_date()\n",
        "last_weekday_date = last_weekday_date.strftime(\"%Y-%m-%d\")\n",
        "tomorrow = pd.Timestamp(last_weekday_date)\n",
        "tomorrow+=datetime.timedelta(days=1)\n",
        "tomorrow = tomorrow.strftime(\"%Y-%m-%d\")\n",
        "\n",
        "stock_data = yf.download(stock, start=end, end=tomorrow, progress=False)\n",
        "plt.plot(stock_data.index, stock_data[\"Close\"], color='red', label='Excluded stock data')\n",
        "\n",
        "plt.plot(new_date_index, np.exp(fc), color='blue', label='Predicted stock price')  # Convert back to original scale\n",
        "plt.fill_between(new_date_index, np.exp(conf.iloc[:, 0]), np.exp(conf.iloc[:, 1]),\n",
        "                 color='k', alpha=.10)\n",
        "\n",
        "plt.axhline(np.exp(conf.iloc[:, 1].max()), color=\"green\")\n",
        "plt.axhline(np.exp(conf.iloc[:, 0].min()), color=\"red\")\n",
        "\n",
        "print(\"FİYAT: \", round(stock_data[\"Close\"].iloc[-1], 2), \"TL\\n\")\n",
        "print(\"ÜST PROJEKSİYON: \", round(np.exp(conf.iloc[:, 1].max()), 2), \"TL\")\n",
        "print(\"ALT PROJEKSİYON: \", round(np.exp(conf.iloc[:, 0].min()), 2), \"TL\\n\")\n",
        "\n",
        "plt.xlabel('Time')\n",
        "plt.ylabel('Price')\n",
        "\n",
        "plt.legend(loc='lower left', fontsize=8)\n",
        "plt.show()"
      ],
      "metadata": {
        "id": "4mfH8NaHwOHz",
        "outputId": "b5ba6372-9f8f-47b1-c4c4-4230f8fce911",
        "colab": {
          "base_uri": "https://localhost:8080/",
          "height": 629
        }
      },
      "execution_count": 39,
      "outputs": [
        {
          "output_type": "stream",
          "name": "stdout",
          "text": [
            "FİYAT:  253.79 TL\n",
            "\n",
            "ÜST PROJEKSİYON:  278.26 TL\n",
            "ALT PROJEKSİYON:  208.17 TL\n",
            "\n"
          ]
        },
        {
          "output_type": "display_data",
          "data": {
            "text/plain": [
              "<Figure size 1600x600 with 1 Axes>"
            ],
            "image/png": "[encoded data removed]"
          },
          "metadata": {}
        }
      ]
    },
    {
      "cell_type": "code",
      "source": [
        "model = ARIMA(train_data, order=best_order)\n",
        "fitted = model.fit()\n",
        "\n",
        "forecast_results = fitted.get_forecast(steps=len(test_data), alpha=0.05)\n",
        "\n",
        "fc = forecast_results.predicted_mean\n",
        "conf = forecast_results.conf_int()\n",
        "\n",
        "fc_series = pd.Series(fc, index=test_data.index)\n",
        "lower_series = pd.Series(conf.iloc[:, 0], index=test_data.index)\n",
        "upper_series = pd.Series(conf.iloc[:, 1], index=test_data.index)\n",
        "\n",
        "plt.figure(figsize=(16,6), dpi=100)\n",
        "plt.plot(np.exp(train_data[1000:]), label='Training data', color=\"black\")\n",
        "plt.plot(np.exp(test_data), color='blue', label='Test data')\n",
        "\n",
        "plt.plot(test_data.index, np.exp(fc), color='orange', label='Predicted Stock Price')  # Convert back to original scale\n",
        "plt.fill_between(test_data.index, np.exp(conf.iloc[:, 0]), np.exp(conf.iloc[:, 1]),\n",
        "                 color='k', alpha=.10)\n",
        "\n",
        "\n",
        "plt.axhline(np.exp(conf.iloc[:, 1].max()), color=\"green\")\n",
        "plt.axhline(np.exp(conf.iloc[:, 0].min()), color=\"red\")\n",
        "\n",
        "plt.xlabel('Time')\n",
        "plt.ylabel('Price')\n",
        "\n",
        "plt.legend(loc='lower left', fontsize=8)\n",
        "plt.show()"
      ],
      "metadata": {
        "id": "YhZP21g9luhk"
      },
      "execution_count": null,
      "outputs": []
    },
    {
      "cell_type": "code",
      "source": [
        "# report performance\n",
        "mse = mean_squared_error(test_data, fc)\n",
        "print('MSE: '+str(mse))\n",
        "mae = mean_absolute_error(test_data, fc)\n",
        "print('MAE: '+str(mae))\n",
        "rmse = math.sqrt(mean_squared_error(test_data, fc))\n",
        "print('RMSE: '+str(rmse))\n",
        "mape = np.mean(np.abs(fc.to_numpy() - test_data)/np.abs(test_data))\n",
        "print('MAPE: '+str(mape))"
      ],
      "metadata": {
        "id": "M8QtrLQzxTyI",
        "colab": {
          "base_uri": "https://localhost:8080/"
        },
        "outputId": "cec367fc-37dd-40e8-b946-55c4d8dc8638"
      },
      "execution_count": null,
      "outputs": [
        {
          "output_type": "stream",
          "name": "stdout",
          "text": [
            "MSE: 0.09320256713184302\n",
            "MAE: 0.273399075797982\n",
            "RMSE: 0.3052909548804927\n",
            "MAPE: 0.026874539387259498\n"
          ]
        }
      ]
    },
    {
      "cell_type": "code",
      "source": [
        ";import requests\n",
        "from bs4 import BeautifulSoup\n",
        "import warnings\n",
        "warnings.filterwarnings('ignore')\n",
        "import numpy as np\n",
        "import pandas as pd\n",
        "import matplotlib.pyplot as plt\n",
        "from statsmodels.tsa.stattools import adfuller\n",
        "from statsmodels.tsa.seasonal import seasonal_decompose\n",
        "from statsmodels.tsa.arima.model import ARIMA\n",
        "from pmdarima.arima import auto_arima\n",
        "from sklearn.metrics import mean_squared_error, mean_absolute_error\n",
        "import math\n",
        "import yfinance as yf\n",
        "\n",
        "market = []\n",
        "\n",
        "url = f\"https://tr.tradingview.com/symbols/NASDAQ-NDX/components/\"\n",
        "response = requests.get(url)\n",
        "\n",
        "if response.status_code == 200:\n",
        "  soup = BeautifulSoup(response.text, 'html.parser')\n",
        "  elements = soup.find_all(class_=\"apply-common-tooltip tickerNameBox-GrtoTeat tickerName-GrtoTeat\")\n",
        "\n",
        "  for element in elements:\n",
        "    text = element.get_text()\n",
        "    market.append(text)\n",
        "\n",
        "# nasdaq100 = ['MARA', 'AAPL', 'MSFT', 'GOOGL', 'GOOG', 'AMZN',\n",
        "#              'NVDA', 'TSLA', 'META', 'AVGO', 'ASML',\n",
        "#              'PEP', 'COST', 'ADBE', 'AZN', 'CSCO',\n",
        "#              'NFLX', 'AMD', 'CMCSA', 'TMUS', 'TXN',\n",
        "#              'QCOM', 'HON', 'INTU', 'INTC', 'SNY',\n",
        "#              'VZ', 'AMGN', 'SBUX', 'ISRG', 'AMAT',\n",
        "#              'BKNG', 'ADI', 'MDLZ', 'PDD', 'GILD',\n",
        "#              'ADP', 'VRTX', 'ABNB', 'LRCX', 'PYPL',\n",
        "#              'REGN', 'EQIX', 'MU', 'CSX', 'SNPS',\n",
        "#              'CME', 'CDNS', 'KLAC', 'NTES']\n",
        "\n",
        "# sheet_id = \"1RSqOXkFTAO7g4H9LEY3d3IX6H6bJaYk1\"\n",
        "# sheet_name = \"Sheet_1\"\n",
        "# url = f\"https://docs.google.com/spreadsheets/d/{sheet_id}/gviz/tq?tqx=out:csv&sheet={sheet_name}\"\n",
        "# result_df = pd.read_csv(url)\n",
        "\n",
        "bist_best_orders = pd.DataFrame()\n",
        "\n",
        "for stock in market:\n",
        "  try:\n",
        "    print(stock)\n",
        "    dateparse = lambda dates: pd.datetime.strptime(dates, '%Y-%m-%d')\n",
        "    stock_data = yf.download(stock, start=\"2006-01-01\", end=\"2023-09-14\", progress=False)\n",
        "\n",
        "    df_close = stock_data['Close']\n",
        "    df_log = np.log(df_close)\n",
        "    train_data, test_data = df_log[3:int(len(df_log)*0.9)], df_log[int(len(df_log)*0.9):]\n",
        "\n",
        "    model_autoARIMA = auto_arima(train_data, start_p=0, start_q=0,\n",
        "                          test='adf',\n",
        "                          max_p=3, max_q=3,\n",
        "                          m=1,\n",
        "                          d=None,\n",
        "                          seasonal=False,\n",
        "                          start_P=0,\n",
        "                          D=0,\n",
        "                          trace=False,\n",
        "                          error_action='ignore',\n",
        "                          suppress_warnings=True,\n",
        "                          stepwise=True)\n",
        "\n",
        "    best_order = model_autoARIMA.order\n",
        "    bist_best_orders = pd.concat([bist_best_orders, pd.DataFrame([[stock, best_order]], columns=[\"STOCK\", \"BEST ORDER\"])])\n",
        "\n",
        "  except:\n",
        "    pass\n",
        "\n",
        "bist_best_orders.to_excel(\"NASDAQ_ORDERS.xls\")"
      ],
      "metadata": {
        "id": "7xZsSAsxQe_y"
      },
      "execution_count": null,
      "outputs": []
    },
    {
      "cell_type": "code",
      "source": [
        "import requests\n",
        "from bs4 import BeautifulSoup\n",
        "import warnings\n",
        "warnings.filterwarnings('ignore')\n",
        "import numpy as np\n",
        "import pandas as pd\n",
        "import matplotlib.pyplot as plt\n",
        "from statsmodels.tsa.stattools import adfuller\n",
        "from statsmodels.tsa.seasonal import seasonal_decompose\n",
        "from statsmodels.tsa.arima.model import ARIMA\n",
        "from pmdarima.arima import auto_arima\n",
        "from sklearn.metrics import mean_squared_error, mean_absolute_error\n",
        "import math\n",
        "import yfinance as yf\n",
        "import ast\n",
        "\n",
        "order_df = pd.read_excel(\"NASDAQ_ORDERS.xls\")\n",
        "\n",
        "for stock in order_df[\"STOCK\"].unique():\n",
        "  print(stock)\n",
        "  best_order = order_df[order_df[\"STOCK\"] == stock][\"BEST ORDER\"]\n",
        "\n",
        "  start=\"2023-08-28\"\n",
        "  end=\"2023-09-11\"\n",
        "\n",
        "  stock_data = yf.download(stock, start=start, end=end, progress=False)\n",
        "  new_date_index = stock_data.index + pd.Timedelta(days=(pd.Timestamp(end)-pd.Timestamp(start)+pd.Timedelta(1)).days)\n",
        "\n",
        "  model = ARIMA(np.log(stock_data[\"Close\"]), order=ast.literal_eval(best_order.values[0]))\n",
        "  fitted = model.fit()\n",
        "\n",
        "  forecast_results = fitted.get_forecast(steps=len(stock_data), alpha=0.05)\n",
        "\n",
        "  fc = forecast_results.predicted_mean\n",
        "  conf = forecast_results.conf_int()\n",
        "\n",
        "  fc_series = pd.Series(fc, index=stock_data.index)\n",
        "  lower_series = pd.DataFrame([new_date_index, conf.iloc[:, 0]]).T\n",
        "\n",
        "  import datetime\n",
        "  def get_last_weekday_date():\n",
        "      today = datetime.date.today()\n",
        "      while today.weekday() >= 5:\n",
        "          today -= datetime.timedelta(days=1)\n",
        "      return today\n",
        "  last_weekday_date = get_last_weekday_date()\n",
        "  last_weekday_date = last_weekday_date.strftime(\"%Y-%m-%d\")\n",
        "\n",
        "  tomorrow = pd.Timestamp(last_weekday_date)\n",
        "  tomorrow+=datetime.timedelta(days=1)\n",
        "  tomorrow = tomorrow.strftime(\"%Y-%m-%d\")\n",
        "\n",
        "  stock_data = yf.download(stock, start=\"2023-09-01\", end=tomorrow, progress=False)\n",
        "\n",
        "  if (fc.iloc[-1] > ((fc.iloc[0]) + ((fc.iloc[0])*1/100))):\n",
        "    print(f\"\\nUP --> {stock}\\n\")\n",
        "  if ((fc.iloc[-1] + (fc.iloc[-1]*1/100)) < (fc.iloc[0])):\n",
        "    print(f\"\\nDOWN --> {stock}\\n\")"
      ],
      "metadata": {
        "id": "A2K-SZKAsksJ",
        "outputId": "e166892d-bc30-4904-fed2-dc1c09ed740c",
        "colab": {
          "base_uri": "https://localhost:8080/"
        }
      },
      "execution_count": 26,
      "outputs": [
        {
          "output_type": "stream",
          "name": "stdout",
          "text": [
            "AAPL\n",
            "ABNB\n",
            "ADBE\n",
            "ADI\n",
            "ADP\n",
            "ADSK\n",
            "AEP\n",
            "ALGN\n",
            "AMAT\n",
            "AMD\n",
            "AMGN\n",
            "AMZN\n",
            "ANSS\n",
            "ASML\n",
            "AVGO\n",
            "AZN\n",
            "BIIB\n",
            "\n",
            "DOWN --> BIIB\n",
            "\n",
            "BKNG\n",
            "BKR\n",
            "CDNS\n",
            "CEG\n",
            "CHTR\n",
            "CMCSA\n",
            "COST\n",
            "CPRT\n",
            "CRWD\n",
            "CSCO\n",
            "CSGP\n",
            "CSX\n",
            "CTAS\n",
            "CTSH\n",
            "DDOG\n",
            "DLTR\n",
            "DXCM\n",
            "EA\n",
            "EBAY\n",
            "ENPH\n",
            "EXC\n",
            "FANG\n",
            "FAST\n",
            "FTNT\n",
            "GEHC\n",
            "GFS\n",
            "GILD\n",
            "GOOG\n",
            "GOOGL\n",
            "HON\n",
            "IDXX\n",
            "ILMN\n",
            "INTC\n",
            "INTU\n",
            "ISRG\n",
            "JD\n",
            "KDP\n",
            "KHC\n",
            "KLAC\n",
            "LCID\n",
            "LRCX\n",
            "LULU\n",
            "MAR\n",
            "MCHP\n",
            "MDLZ\n",
            "MELI\n",
            "META\n",
            "MNST\n",
            "MRNA\n",
            "MRVL\n",
            "MSFT\n",
            "MU\n",
            "NFLX\n",
            "NVDA\n",
            "NXPI\n",
            "ODFL\n",
            "ON\n",
            "ORLY\n",
            "PANW\n",
            "PAYX\n",
            "PCAR\n",
            "PDD\n",
            "PEP\n",
            "PYPL\n",
            "QCOM\n",
            "REGN\n",
            "ROST\n",
            "SBUX\n",
            "SGEN\n",
            "SIRI\n",
            "SNPS\n",
            "TEAM\n",
            "TMUS\n",
            "TSLA\n",
            "TTD\n",
            "TXN\n",
            "VRSK\n",
            "VRTX\n",
            "WBA\n",
            "WBD\n",
            "WDAY\n",
            "XEL\n",
            "ZM\n"
          ]
        }
      ]
    },
    {
      "cell_type": "code",
      "source": [],
      "metadata": {
        "id": "QTlZDbRS9t4S"
      },
      "execution_count": null,
      "outputs": []
    }
  ]
}
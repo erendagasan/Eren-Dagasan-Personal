{
  "nbformat": 4,
  "nbformat_minor": 0,
  "metadata": {
    "colab": {
      "provenance": [],
      "include_colab_link": true
    },
    "kernelspec": {
      "name": "python3",
      "display_name": "Python 3"
    },
    "language_info": {
      "name": "python"
    }
  },
  "cells": [
    {
      "cell_type": "markdown",
      "metadata": {
        "id": "view-in-github",
        "colab_type": "text"
      },
      "source": [
        "<a href=\"https://colab.research.google.com/github/erendagasan/Eren-Dagasan-Personal/blob/main/ARIMA-14.09.2023.ipynb\" target=\"_parent\"><img src=\"https://colab.research.google.com/assets/colab-badge.svg\" alt=\"Open In Colab\"/></a>"
      ]
    },
    {
      "cell_type": "code",
      "source": [
        "!pip install pmdarima"
      ],
      "metadata": {
        "id": "7y_Qvqk2vlh2",
        "colab": {
          "base_uri": "https://localhost:8080/"
        },
        "outputId": "a9bb9f13-2cc1-4891-8def-4b2bb63cecab"
      },
      "execution_count": 1,
      "outputs": [
        {
          "output_type": "stream",
          "name": "stdout",
          "text": [
            "Requirement already satisfied: pmdarima in /usr/local/lib/python3.10/dist-packages (2.0.3)\n",
            "Requirement already satisfied: joblib>=0.11 in /usr/local/lib/python3.10/dist-packages (from pmdarima) (1.3.2)\n",
            "Requirement already satisfied: Cython!=0.29.18,!=0.29.31,>=0.29 in /usr/local/lib/python3.10/dist-packages (from pmdarima) (3.0.2)\n",
            "Requirement already satisfied: numpy>=1.21.2 in /usr/local/lib/python3.10/dist-packages (from pmdarima) (1.23.5)\n",
            "Requirement already satisfied: pandas>=0.19 in /usr/local/lib/python3.10/dist-packages (from pmdarima) (1.5.3)\n",
            "Requirement already satisfied: scikit-learn>=0.22 in /usr/local/lib/python3.10/dist-packages (from pmdarima) (1.2.2)\n",
            "Requirement already satisfied: scipy>=1.3.2 in /usr/local/lib/python3.10/dist-packages (from pmdarima) (1.11.2)\n",
            "Requirement already satisfied: statsmodels>=0.13.2 in /usr/local/lib/python3.10/dist-packages (from pmdarima) (0.14.0)\n",
            "Requirement already satisfied: urllib3 in /usr/local/lib/python3.10/dist-packages (from pmdarima) (2.0.4)\n",
            "Requirement already satisfied: setuptools!=50.0.0,>=38.6.0 in /usr/local/lib/python3.10/dist-packages (from pmdarima) (67.7.2)\n",
            "Requirement already satisfied: python-dateutil>=2.8.1 in /usr/local/lib/python3.10/dist-packages (from pandas>=0.19->pmdarima) (2.8.2)\n",
            "Requirement already satisfied: pytz>=2020.1 in /usr/local/lib/python3.10/dist-packages (from pandas>=0.19->pmdarima) (2023.3.post1)\n",
            "Requirement already satisfied: threadpoolctl>=2.0.0 in /usr/local/lib/python3.10/dist-packages (from scikit-learn>=0.22->pmdarima) (3.2.0)\n",
            "Requirement already satisfied: patsy>=0.5.2 in /usr/local/lib/python3.10/dist-packages (from statsmodels>=0.13.2->pmdarima) (0.5.3)\n",
            "Requirement already satisfied: packaging>=21.3 in /usr/local/lib/python3.10/dist-packages (from statsmodels>=0.13.2->pmdarima) (23.1)\n",
            "Requirement already satisfied: six in /usr/local/lib/python3.10/dist-packages (from patsy>=0.5.2->statsmodels>=0.13.2->pmdarima) (1.16.0)\n"
          ]
        }
      ]
    },
    {
      "cell_type": "code",
      "source": [
        "import os\n",
        "import warnings\n",
        "warnings.filterwarnings('ignore')\n",
        "import numpy as np\n",
        "import pandas as pd\n",
        "import matplotlib.pyplot as plt\n",
        "from statsmodels.tsa.stattools import adfuller\n",
        "from statsmodels.tsa.seasonal import seasonal_decompose\n",
        "from statsmodels.tsa.arima.model import ARIMA\n",
        "from pmdarima.arima import auto_arima\n",
        "from sklearn.metrics import mean_squared_error, mean_absolute_error\n",
        "import math\n",
        "import yfinance as yf\n",
        "\n",
        "stock = \"bjkas.is\"\n",
        "\n",
        "dateparse = lambda dates: pd.datetime.strptime(dates, '%Y-%m-%d')\n",
        "stock_data = yf.download(stock, start=\"2006-01-01\", end=\"2023-09-14\")\n",
        "\n",
        "df_close = stock_data['Close']\n",
        "df_log = np.log(df_close)\n",
        "train_data, test_data = df_log[3:int(len(df_log)*0.9)], df_log[int(len(df_log)*0.9):]\n",
        "\n",
        "model_autoARIMA = auto_arima(train_data, start_p=0, start_q=0,\n",
        "                      test='adf',\n",
        "                      max_p=3, max_q=3,\n",
        "                      m=1,\n",
        "                      d=None,\n",
        "                      seasonal=False,\n",
        "                      start_P=0,\n",
        "                      D=0,\n",
        "                      trace=True,\n",
        "                      error_action='ignore',\n",
        "                      suppress_warnings=True,\n",
        "                      stepwise=True)\n",
        "\n",
        "best_order = model_autoARIMA.order\n",
        "print(\"Best ARIMA Order:\", best_order)"
      ],
      "metadata": {
        "id": "yQHoHzSHntPE",
        "colab": {
          "base_uri": "https://localhost:8080/"
        },
        "outputId": "73b8c614-2d02-47f7-a843-65ee1078299e"
      },
      "execution_count": 55,
      "outputs": [
        {
          "output_type": "stream",
          "name": "stdout",
          "text": [
            "\r[*********************100%%**********************]  1 of 1 completed\n",
            "Performing stepwise search to minimize aic\n",
            " ARIMA(0,1,0)(0,0,0)[0] intercept   : AIC=-10119.925, Time=0.81 sec\n",
            " ARIMA(1,1,0)(0,0,0)[0] intercept   : AIC=-10194.474, Time=0.76 sec\n",
            " ARIMA(0,1,1)(0,0,0)[0] intercept   : AIC=-10190.516, Time=1.54 sec\n",
            " ARIMA(0,1,0)(0,0,0)[0]             : AIC=-10121.744, Time=0.64 sec\n",
            " ARIMA(2,1,0)(0,0,0)[0] intercept   : AIC=-10193.814, Time=3.33 sec\n",
            " ARIMA(1,1,1)(0,0,0)[0] intercept   : AIC=-10194.913, Time=3.14 sec\n",
            " ARIMA(2,1,1)(0,0,0)[0] intercept   : AIC=-10191.372, Time=4.64 sec\n",
            " ARIMA(1,1,2)(0,0,0)[0] intercept   : AIC=-10193.797, Time=4.03 sec\n",
            " ARIMA(0,1,2)(0,0,0)[0] intercept   : AIC=-10191.256, Time=3.06 sec\n",
            " ARIMA(2,1,2)(0,0,0)[0] intercept   : AIC=-10195.963, Time=0.72 sec\n",
            " ARIMA(3,1,2)(0,0,0)[0] intercept   : AIC=-10195.078, Time=1.42 sec\n",
            " ARIMA(2,1,3)(0,0,0)[0] intercept   : AIC=-10194.696, Time=0.86 sec\n",
            " ARIMA(1,1,3)(0,0,0)[0] intercept   : AIC=-10196.743, Time=2.38 sec\n",
            " ARIMA(0,1,3)(0,0,0)[0] intercept   : AIC=-10199.032, Time=2.14 sec\n",
            " ARIMA(0,1,3)(0,0,0)[0]             : AIC=-10200.913, Time=0.32 sec\n",
            " ARIMA(0,1,2)(0,0,0)[0]             : AIC=-10193.125, Time=0.68 sec\n",
            " ARIMA(1,1,3)(0,0,0)[0]             : AIC=-10198.621, Time=0.84 sec\n",
            " ARIMA(1,1,2)(0,0,0)[0]             : AIC=-10195.683, Time=2.68 sec\n",
            "\n",
            "Best model:  ARIMA(0,1,3)(0,0,0)[0]          \n",
            "Total fit time: 34.068 seconds\n",
            "Best ARIMA Order: (0, 1, 3)\n"
          ]
        }
      ]
    },
    {
      "cell_type": "code",
      "source": [
        "from statsmodels.tsa.arima.model import ARIMA\n",
        "from datetime import datetime, timedelta\n",
        "\n",
        "start=\"2023-09-01\"\n",
        "end=\"2023-09-12\"\n",
        "\n",
        "stock_data = yf.download(stock, start=start, end=end, progress=False)\n",
        "new_date_index = stock_data.index + pd.Timedelta(days=(pd.Timestamp(end)-pd.Timestamp(start)+pd.Timedelta(1)).days)\n",
        "model = ARIMA(np.log(stock_data[\"Close\"]), order=best_order)\n",
        "fitted = model.fit()\n",
        "\n",
        "print(len(stock_data))"
      ],
      "metadata": {
        "id": "DsNaI26cwFv_",
        "colab": {
          "base_uri": "https://localhost:8080/"
        },
        "outputId": "8992006c-6789-4719-a95c-09a5bd5e19e8"
      },
      "execution_count": 56,
      "outputs": [
        {
          "output_type": "stream",
          "name": "stdout",
          "text": [
            "7\n"
          ]
        }
      ]
    },
    {
      "cell_type": "code",
      "source": [
        "forecast_results = fitted.get_forecast(steps=len(stock_data), alpha=0.05)\n",
        "\n",
        "fc = forecast_results.predicted_mean\n",
        "conf = forecast_results.conf_int()\n",
        "\n",
        "fc_series = pd.Series(fc, index=stock_data.index)\n",
        "lower_series = pd.DataFrame([new_date_index,conf.iloc[:, 0]]).T\n",
        "\n",
        "plt.figure(figsize=(16,6), dpi=100)\n",
        "plt.plot(np.exp(test_data), color='black', label='Test data')\n",
        "\n",
        "import datetime\n",
        "def get_last_weekday_date():\n",
        "    today = datetime.date.today()\n",
        "    while today.weekday() >= 5:\n",
        "        today -= datetime.timedelta(days=1)\n",
        "    return today\n",
        "last_weekday_date = get_last_weekday_date()\n",
        "last_weekday_date = last_weekday_date.strftime(\"%Y-%m-%d\")\n",
        "tomorrow = pd.Timestamp(last_weekday_date)\n",
        "tomorrow+=datetime.timedelta(days=1)\n",
        "tomorrow = tomorrow.strftime(\"%Y-%m-%d\")\n",
        "\n",
        "stock_data = yf.download(stock, start=end, end=tomorrow, progress=False)\n",
        "plt.plot(stock_data.index, stock_data[\"Close\"], color='red', label='Excluded stock data')\n",
        "\n",
        "plt.plot(new_date_index, np.exp(fc), color='blue', label='Predicted stock price')  # Convert back to original scale\n",
        "plt.fill_between(new_date_index, np.exp(conf.iloc[:, 0]), np.exp(conf.iloc[:, 1]),\n",
        "                 color='k', alpha=.10)\n",
        "\n",
        "plt.axhline(np.exp(conf.iloc[:, 1].max()), color=\"green\")\n",
        "plt.axhline(np.exp(conf.iloc[:, 0].min()), color=\"red\")\n",
        "\n",
        "print(\"FİYAT: \", round(stock_data[\"Close\"].iloc[-1], 2), \"TL\\n\")\n",
        "print(\"ÜST PROJEKSİYON: \", round(np.exp(conf.iloc[:, 1].max()), 2), \"TL\")\n",
        "print(\"ALT PROJEKSİYON: \", round(np.exp(conf.iloc[:, 0].min()), 2), \"TL\\n\")\n",
        "\n",
        "plt.xlabel('Time')\n",
        "plt.ylabel('Price')\n",
        "\n",
        "plt.legend(loc='lower left', fontsize=8)\n",
        "plt.show()"
      ],
      "metadata": {
        "id": "4mfH8NaHwOHz"
      },
      "execution_count": null,
      "outputs": []
    },
    {
      "cell_type": "code",
      "source": [
        "stock_data"
      ],
      "metadata": {
        "id": "Vc_zBswevNPb"
      },
      "execution_count": null,
      "outputs": []
    },
    {
      "cell_type": "code",
      "source": [
        "model = ARIMA(train_data, order=best_order)\n",
        "fitted = model.fit()\n",
        "\n",
        "forecast_results = fitted.get_forecast(steps=len(test_data), alpha=0.05)\n",
        "\n",
        "fc = forecast_results.predicted_mean\n",
        "conf = forecast_results.conf_int()\n",
        "\n",
        "fc_series = pd.Series(fc, index=test_data.index)\n",
        "lower_series = pd.Series(conf.iloc[:, 0], index=test_data.index)\n",
        "upper_series = pd.Series(conf.iloc[:, 1], index=test_data.index)\n",
        "\n",
        "plt.figure(figsize=(16,6), dpi=100)\n",
        "plt.plot(np.exp(train_data[1000:]), label='Training data', color=\"black\")\n",
        "plt.plot(np.exp(test_data), color='blue', label='Test data')\n",
        "\n",
        "plt.plot(test_data.index, np.exp(fc), color='orange', label='Predicted Stock Price')  # Convert back to original scale\n",
        "plt.fill_between(test_data.index, np.exp(conf.iloc[:, 0]), np.exp(conf.iloc[:, 1]),\n",
        "                 color='k', alpha=.10)\n",
        "\n",
        "\n",
        "plt.axhline(np.exp(conf.iloc[:, 1].max()), color=\"green\")\n",
        "plt.axhline(np.exp(conf.iloc[:, 0].min()), color=\"red\")\n",
        "\n",
        "plt.xlabel('Time')\n",
        "plt.ylabel('Price')\n",
        "\n",
        "plt.legend(loc='lower left', fontsize=8)\n",
        "plt.show()"
      ],
      "metadata": {
        "id": "YhZP21g9luhk"
      },
      "execution_count": null,
      "outputs": []
    },
    {
      "cell_type": "code",
      "source": [
        "# report performance\n",
        "mse = mean_squared_error(test_data, fc)\n",
        "print('MSE: '+str(mse))\n",
        "mae = mean_absolute_error(test_data, fc)\n",
        "print('MAE: '+str(mae))\n",
        "rmse = math.sqrt(mean_squared_error(test_data, fc))\n",
        "print('RMSE: '+str(rmse))\n",
        "mape = np.mean(np.abs(fc.to_numpy() - test_data)/np.abs(test_data))\n",
        "print('MAPE: '+str(mape))"
      ],
      "metadata": {
        "id": "M8QtrLQzxTyI",
        "colab": {
          "base_uri": "https://localhost:8080/"
        },
        "outputId": "b63d2a8b-bc20-44f2-aff6-cc593458aad1"
      },
      "execution_count": null,
      "outputs": [
        {
          "output_type": "stream",
          "name": "stdout",
          "text": [
            "MSE: 0.8400894859991368\n",
            "MAE: 0.8397957206298835\n",
            "RMSE: 0.9165639563059071\n",
            "MAPE: 0.1332965771008238\n"
          ]
        }
      ]
    },
    {
      "cell_type": "code",
      "source": [
        "import requests\n",
        "from bs4 import BeautifulSoup\n",
        "import warnings\n",
        "warnings.filterwarnings('ignore')\n",
        "import numpy as np\n",
        "import pandas as pd\n",
        "import matplotlib.pyplot as plt\n",
        "from statsmodels.tsa.stattools import adfuller\n",
        "from statsmodels.tsa.seasonal import seasonal_decompose\n",
        "from statsmodels.tsa.arima.model import ARIMA\n",
        "from pmdarima.arima import auto_arima\n",
        "from sklearn.metrics import mean_squared_error, mean_absolute_error\n",
        "import math\n",
        "import yfinance as yf\n",
        "\n",
        "market = []\n",
        "\n",
        "url = f\"https://tr.tradingview.com/symbols/NASDAQ-NDX/components/\"\n",
        "response = requests.get(url)\n",
        "\n",
        "if response.status_code == 200:\n",
        "  soup = BeautifulSoup(response.text, 'html.parser')\n",
        "  elements = soup.find_all(class_=\"apply-common-tooltip tickerNameBox-GrtoTeat tickerName-GrtoTeat\")\n",
        "\n",
        "  for element in elements:\n",
        "    text = element.get_text()\n",
        "    market.append(text)\n",
        "\n",
        "# nasdaq100 = ['MARA', 'AAPL', 'MSFT', 'GOOGL', 'GOOG', 'AMZN',\n",
        "#              'NVDA', 'TSLA', 'META', 'AVGO', 'ASML',\n",
        "#              'PEP', 'COST', 'ADBE', 'AZN', 'CSCO',\n",
        "#              'NFLX', 'AMD', 'CMCSA', 'TMUS', 'TXN',\n",
        "#              'QCOM', 'HON', 'INTU', 'INTC', 'SNY',\n",
        "#              'VZ', 'AMGN', 'SBUX', 'ISRG', 'AMAT',\n",
        "#              'BKNG', 'ADI', 'MDLZ', 'PDD', 'GILD',\n",
        "#              'ADP', 'VRTX', 'ABNB', 'LRCX', 'PYPL',\n",
        "#              'REGN', 'EQIX', 'MU', 'CSX', 'SNPS',\n",
        "#              'CME', 'CDNS', 'KLAC', 'NTES']\n",
        "\n",
        "# sheet_id = \"1RSqOXkFTAO7g4H9LEY3d3IX6H6bJaYk1\"\n",
        "# sheet_name = \"Sheet_1\"\n",
        "# url = f\"https://docs.google.com/spreadsheets/d/{sheet_id}/gviz/tq?tqx=out:csv&sheet={sheet_name}\"\n",
        "# result_df = pd.read_csv(url)\n",
        "\n",
        "bist_best_orders = pd.DataFrame()\n",
        "\n",
        "for stock in market:\n",
        "  try:\n",
        "    print(stock)\n",
        "    dateparse = lambda dates: pd.datetime.strptime(dates, '%Y-%m-%d')\n",
        "    stock_data = yf.download(stock, start=\"2006-01-01\", end=\"2023-09-14\", progress=False)\n",
        "\n",
        "    df_close = stock_data['Close']\n",
        "    df_log = np.log(df_close)\n",
        "    train_data, test_data = df_log[3:int(len(df_log)*0.9)], df_log[int(len(df_log)*0.9):]\n",
        "\n",
        "    model_autoARIMA = auto_arima(train_data, start_p=0, start_q=0,\n",
        "                          test='adf',\n",
        "                          max_p=3, max_q=3,\n",
        "                          m=1,\n",
        "                          d=None,\n",
        "                          seasonal=False,\n",
        "                          start_P=0,\n",
        "                          D=0,\n",
        "                          trace=False,\n",
        "                          error_action='ignore',\n",
        "                          suppress_warnings=True,\n",
        "                          stepwise=True)\n",
        "\n",
        "    best_order = model_autoARIMA.order\n",
        "    bist_best_orders = pd.concat([bist_best_orders, pd.DataFrame([[stock, best_order]], columns=[\"STOCK\", \"BEST ORDER\"])])\n",
        "\n",
        "  except:\n",
        "    pass\n",
        "\n",
        "bist_best_orders.to_excel(\"NASDAQ_ORDERS.xls\")"
      ],
      "metadata": {
        "id": "7xZsSAsxQe_y"
      },
      "execution_count": null,
      "outputs": []
    },
    {
      "cell_type": "code",
      "source": [
        "import requests\n",
        "from bs4 import BeautifulSoup\n",
        "import warnings\n",
        "warnings.filterwarnings('ignore')\n",
        "import numpy as np\n",
        "import pandas as pd\n",
        "import matplotlib.pyplot as plt\n",
        "from statsmodels.tsa.stattools import adfuller\n",
        "from statsmodels.tsa.seasonal import seasonal_decompose\n",
        "from statsmodels.tsa.arima.model import ARIMA\n",
        "from pmdarima.arima import auto_arima\n",
        "from sklearn.metrics import mean_squared_error, mean_absolute_error\n",
        "import math\n",
        "import yfinance as yf\n",
        "import ast\n",
        "\n",
        "order_df = pd.read_excel(\"XUTUM_ORDERS.xls\")\n",
        "\n",
        "for stock in order_df[\"STOCK\"].unique():\n",
        "  print(stock)\n",
        "  best_order = order_df[order_df[\"STOCK\"] == stock][\"BEST ORDER\"]\n",
        "  start=\"2023-09-01\"\n",
        "  end=\"2023-09-12\"\n",
        "\n",
        "  stock_data = yf.download(stock, start=start, end=end, progress=False)\n",
        "  new_date_index = stock_data.index + pd.Timedelta(days=(pd.Timestamp(end)-pd.Timestamp(start)+pd.Timedelta(1)).days)\n",
        "\n",
        "  model = ARIMA(np.log(stock_data[\"Close\"]), order=ast.literal_eval(best_order.values[0]))\n",
        "  fitted = model.fit()\n",
        "\n",
        "  forecast_results = fitted.get_forecast(steps=len(stock_data), alpha=0.05)\n",
        "\n",
        "  fc = forecast_results.predicted_mean\n",
        "  conf = forecast_results.conf_int()\n",
        "\n",
        "  fc_series = pd.Series(fc, index=stock_data.index)\n",
        "  lower_series = pd.DataFrame([new_date_index, conf.iloc[:, 0]]).T\n",
        "\n",
        "  # import datetime\n",
        "  # def get_last_weekday_date():\n",
        "  #     today = datetime.date.today()\n",
        "  #     while today.weekday() >= 5:\n",
        "  #         today -= datetime.timedelta(days=1)\n",
        "  #     return today\n",
        "  # last_weekday_date = get_last_weekday_date()\n",
        "  # last_weekday_date = last_weekday_date.strftime(\"%Y-%m-%d\")\n",
        "\n",
        "  # tomorrow = pd.Timestamp(last_weekday_date)\n",
        "  # tomorrow+=datetime.timedelta(days=1)\n",
        "  # tomorrow = tomorrow.strftime(\"%Y-%m-%d\")\n",
        "\n",
        "  # stock_data = yf.download(stock, start=\"2023-09-01\", end=tomorrow, progress=False)\n",
        "\n",
        "  if (fc.iloc[-1] > ((fc.iloc[0]) + ((fc.iloc[0])*0.5/100))):\n",
        "    print(f\"\\nUP --> {stock}\\n\")\n",
        "  if ((fc.iloc[-1] + (fc.iloc[-1]*0.5/100)) < (fc.iloc[0])):\n",
        "    print(f\"\\nDOWN --> {stock}\\n\")"
      ],
      "metadata": {
        "id": "A2K-SZKAsksJ"
      },
      "execution_count": null,
      "outputs": []
    },
    {
      "cell_type": "code",
      "source": [
        "import numpy as np\n",
        "import pandas as pd\n",
        "import matplotlib.pyplot as plt\n",
        "from statsmodels.tsa.statespace.sarimax import SARIMAX\n",
        "from sklearn.metrics import mean_squared_error\n",
        "from sklearn.model_selection import train_test_split, ParameterGrid\n",
        "from ta import momentum, trend\n",
        "import yfinance as yf\n",
        "\n",
        "stock_symbol = 'AMZN'\n",
        "start_date = '2000-01-01'\n",
        "end_date = '2023-12-31'\n",
        "\n",
        "data = yf.download(stock_symbol, start=start_date, end=end_date)\n",
        "\n",
        "data['RSI'] = momentum.RSIIndicator(data['Close'], window=14).rsi()\n",
        "data['SMA-9'] = trend.SMAIndicator(data['Close'], window=9).sma_indicator()\n",
        "data['SMA-14'] = trend.SMAIndicator(data['Close'], window=14).sma_indicator()\n",
        "data['EMA-9'] = trend.EMAIndicator(data['Close'], window=9).ema_indicator()\n",
        "data['EMA-14'] = trend.EMAIndicator(data['Close'], window=14).ema_indicator()\n",
        "\n",
        "\n",
        "data.dropna(inplace=True)\n",
        "\n",
        "train_size = int(0.8 * len(data))\n",
        "train_data, test_data = data.iloc[:train_size], data.iloc[train_size:]\n",
        "\n",
        "p_values = [0, 1, 2]\n",
        "d_values = [0, 1]\n",
        "q_values = [0, 1, 2]\n",
        "P_values = [0, 1, 2]\n",
        "D_values = [0, 1]\n",
        "Q_values = [0, 1, 2]\n",
        "s_values = [12]\n",
        "\n",
        "best_order = (5,1,0)\n",
        "best_seasonal_order = (1,1,1,12)\n",
        "\n",
        "# for param in ParameterGrid({'p': p_values, 'd': d_values, 'q': q_values,\n",
        "#                             'P': P_values, 'D': D_values, 'Q': Q_values, 's': s_values}):\n",
        "#     try:\n",
        "#         order = (param['p'], param['d'], param['q'])\n",
        "#         seasonal_order = (param['P'], param['D'], param['Q'], param['s'])\n",
        "\n",
        "#         model = SARIMAX(train_data['Close'], exog=train_data[['RSI', 'SMA-9', 'SMA-14', 'EMA-9', \"EMA-14\"]], order=order, seasonal_order=seasonal_order)\n",
        "#         model_fit = model.fit(disp=0)\n",
        "\n",
        "#         exog_test = test_data[['RSI', 'SMA-9', 'SMA-14', 'EMA-9', \"EMA-14\"]]\n",
        "#         predictions = model_fit.forecast(steps=len(test_data), exog=exog_test)\n",
        "\n",
        "#         mse = mean_squared_error(test_data['Close'], predictions)\n",
        "#         rmse = np.sqrt(mse)\n",
        "\n",
        "#         if rmse < best_rmse:\n",
        "#             best_rmse = rmse\n",
        "#             best_order = order\n",
        "#             best_seasonal_order = seasonal_order\n",
        "\n",
        "#     except Exception as e:\n",
        "#         continue\n",
        "\n",
        "# Best SARIMA Order: (0, 0, 2)\n",
        "# Best SARIMA Seasonal Order: (2, 1, 1, 12)\n",
        "\n",
        "best_model = SARIMAX(train_data['Close'], exog=train_data[['RSI', 'SMA-9', 'SMA-14', 'EMA-9', \"EMA-14\"]], order=(0,0,2), seasonal_order=(2,1,1,12))\n",
        "best_model_fit = best_model.fit(disp=0)\n",
        "best_predictions = best_model_fit.forecast(steps=len(test_data), exog=test_data[['RSI', 'SMA-9', 'SMA-14', 'EMA-9', \"EMA-14\"]])\n",
        "\n",
        "mse = mean_squared_error(test_data['Close'], best_predictions)\n",
        "rmse = np.sqrt(mse)\n",
        "print(f\"Best SARIMA Order: {best_order}\")\n",
        "print(f\"Best SARIMA Seasonal Order: {best_seasonal_order}\")\n",
        "print(f\"Best Root Mean Squared Error (RMSE): {rmse}\")\n",
        "\n",
        "plt.figure(figsize=(12, 6))\n",
        "plt.plot(test_data.index, test_data['Close'], label='Actual', color='blue')\n",
        "plt.plot(test_data.index, best_predictions, label='Predicted', color='red')\n",
        "plt.title(f'Stock Price Prediction for {stock_symbol} with Best SARIMA Model and Exogenous Features')\n",
        "plt.xlabel('Date')\n",
        "plt.ylabel('Closing Price')\n",
        "plt.legend()\n",
        "plt.show()"
      ],
      "metadata": {
        "id": "pgIu-ZD1Mf6M",
        "colab": {
          "base_uri": "https://localhost:8080/"
        },
        "outputId": "e116beea-e31b-4ded-c8fd-8c69eb6fb18b"
      },
      "execution_count": null,
      "outputs": [
        {
          "output_type": "stream",
          "name": "stdout",
          "text": [
            "\r[*********************100%%**********************]  1 of 1 completed\n"
          ]
        },
        {
          "output_type": "stream",
          "name": "stderr",
          "text": [
            "/usr/local/lib/python3.10/dist-packages/statsmodels/tsa/base/tsa_model.py:473: ValueWarning: A date index has been provided, but it has no associated frequency information and so will be ignored when e.g. forecasting.\n",
            "  self._init_dates(dates, freq)\n",
            "/usr/local/lib/python3.10/dist-packages/statsmodels/tsa/base/tsa_model.py:473: ValueWarning: A date index has been provided, but it has no associated frequency information and so will be ignored when e.g. forecasting.\n",
            "  self._init_dates(dates, freq)\n"
          ]
        }
      ]
    },
    {
      "cell_type": "code",
      "source": [
        "from datetime import datetime, timedelta\n",
        "\n",
        "input_date_str = test_data.index[-1] + timedelta(days=1)\n",
        "input_date_str = input_date_str.strftime(\"%Y-%m-%d\")\n",
        "input_date = datetime.strptime(input_date_str, \"%Y-%m-%d\")\n",
        "future_date = input_date + timedelta(days=6)\n",
        "date_list = []\n",
        "current_date = input_date\n",
        "while current_date <= future_date:\n",
        "    date_list.append(current_date)\n",
        "    current_date += timedelta(days=1)\n",
        "\n",
        "forecast_period = 7\n",
        "exog_forecast = data[['RSI', 'SMA-9', 'SMA-14', 'EMA-9', \"EMA-14\"]].tail(forecast_period)\n",
        "forecast = best_model_fit.forecast(steps=forecast_period, exog=exog_forecast)\n",
        "\n",
        "plt.figure(figsize=(12, 6))\n",
        "plt.plot(test_data.index, test_data['Close'], label='Actual', color='blue')\n",
        "plt.plot(test_data.index, best_predictions, label='Predicted', color='red')\n",
        "plt.plot(date_list, forecast.values, label='Future Prediction', color='orange')\n",
        "plt.title(f'Stock Price Prediction for {stock_symbol} with Best SARIMA Model and Exogenous Features')\n",
        "plt.xlabel('Date')\n",
        "plt.ylabel('Closing Price')\n",
        "plt.legend()\n",
        "plt.show()"
      ],
      "metadata": {
        "id": "KJtQNxuECz47"
      },
      "execution_count": null,
      "outputs": []
    },
    {
      "cell_type": "code",
      "source": [],
      "metadata": {
        "id": "m7g6fDO-KA5F"
      },
      "execution_count": null,
      "outputs": []
    }
  ]
}
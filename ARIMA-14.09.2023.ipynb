{
  "nbformat": 4,
  "nbformat_minor": 0,
  "metadata": {
    "colab": {
      "provenance": [],
      "include_colab_link": true
    },
    "kernelspec": {
      "name": "python3",
      "display_name": "Python 3"
    },
    "language_info": {
      "name": "python"
    }
  },
  "cells": [
    {
      "cell_type": "markdown",
      "metadata": {
        "id": "view-in-github",
        "colab_type": "text"
      },
      "source": [
        "<a href=\"https://colab.research.google.com/github/erendagasan/Eren-Dagasan-Personal/blob/main/ARIMA-14.09.2023.ipynb\" target=\"_parent\"><img src=\"https://colab.research.google.com/assets/colab-badge.svg\" alt=\"Open In Colab\"/></a>"
      ]
    },
    {
      "cell_type": "code",
      "source": [
        "!pip install pmdarima"
      ],
      "metadata": {
        "id": "7y_Qvqk2vlh2",
        "colab": {
          "base_uri": "https://localhost:8080/"
        },
        "outputId": "e78a5e02-8524-4680-b192-91e44b86310c"
      },
      "execution_count": 1,
      "outputs": [
        {
          "output_type": "stream",
          "name": "stdout",
          "text": [
            "Requirement already satisfied: pmdarima in /usr/local/lib/python3.10/dist-packages (2.0.3)\n",
            "Requirement already satisfied: joblib>=0.11 in /usr/local/lib/python3.10/dist-packages (from pmdarima) (1.3.2)\n",
            "Requirement already satisfied: Cython!=0.29.18,!=0.29.31,>=0.29 in /usr/local/lib/python3.10/dist-packages (from pmdarima) (3.0.2)\n",
            "Requirement already satisfied: numpy>=1.21.2 in /usr/local/lib/python3.10/dist-packages (from pmdarima) (1.23.5)\n",
            "Requirement already satisfied: pandas>=0.19 in /usr/local/lib/python3.10/dist-packages (from pmdarima) (1.5.3)\n",
            "Requirement already satisfied: scikit-learn>=0.22 in /usr/local/lib/python3.10/dist-packages (from pmdarima) (1.2.2)\n",
            "Requirement already satisfied: scipy>=1.3.2 in /usr/local/lib/python3.10/dist-packages (from pmdarima) (1.11.2)\n",
            "Requirement already satisfied: statsmodels>=0.13.2 in /usr/local/lib/python3.10/dist-packages (from pmdarima) (0.14.0)\n",
            "Requirement already satisfied: urllib3 in /usr/local/lib/python3.10/dist-packages (from pmdarima) (2.0.4)\n",
            "Requirement already satisfied: setuptools!=50.0.0,>=38.6.0 in /usr/local/lib/python3.10/dist-packages (from pmdarima) (67.7.2)\n",
            "Requirement already satisfied: python-dateutil>=2.8.1 in /usr/local/lib/python3.10/dist-packages (from pandas>=0.19->pmdarima) (2.8.2)\n",
            "Requirement already satisfied: pytz>=2020.1 in /usr/local/lib/python3.10/dist-packages (from pandas>=0.19->pmdarima) (2023.3.post1)\n",
            "Requirement already satisfied: threadpoolctl>=2.0.0 in /usr/local/lib/python3.10/dist-packages (from scikit-learn>=0.22->pmdarima) (3.2.0)\n",
            "Requirement already satisfied: patsy>=0.5.2 in /usr/local/lib/python3.10/dist-packages (from statsmodels>=0.13.2->pmdarima) (0.5.3)\n",
            "Requirement already satisfied: packaging>=21.3 in /usr/local/lib/python3.10/dist-packages (from statsmodels>=0.13.2->pmdarima) (23.1)\n",
            "Requirement already satisfied: six in /usr/local/lib/python3.10/dist-packages (from patsy>=0.5.2->statsmodels>=0.13.2->pmdarima) (1.16.0)\n"
          ]
        }
      ]
    },
    {
      "cell_type": "code",
      "source": [
        "import os\n",
        "import warnings\n",
        "warnings.filterwarnings('ignore')\n",
        "import numpy as np\n",
        "import pandas as pd\n",
        "import matplotlib.pyplot as plt\n",
        "from statsmodels.tsa.stattools import adfuller\n",
        "from statsmodels.tsa.seasonal import seasonal_decompose\n",
        "from statsmodels.tsa.arima_model import ARIMA\n",
        "from pmdarima.arima import auto_arima\n",
        "from sklearn.metrics import mean_squared_error, mean_absolute_error\n",
        "import math\n",
        "import yfinance as yf\n",
        "\n",
        "stock = \"AEFES.IS\"\n",
        "\n",
        "dateparse = lambda dates: pd.datetime.strptime(dates, '%Y-%m-%d')\n",
        "stock_data = yf.download(stock, start=\"2006-01-01\", end=\"2023-09-14\")\n",
        "\n",
        "df_close = stock_data['Close']\n",
        "df_log = np.log(df_close)\n",
        "train_data, test_data = df_log[3:int(len(df_log)*0.9)], df_log[int(len(df_log)*0.9):]\n",
        "\n",
        "model_autoARIMA = auto_arima(train_data, start_p=0, start_q=0,\n",
        "                      test='adf',\n",
        "                      max_p=3, max_q=3,\n",
        "                      m=1,\n",
        "                      d=None,\n",
        "                      seasonal=False,\n",
        "                      start_P=0,\n",
        "                      D=0,\n",
        "                      trace=True,\n",
        "                      error_action='ignore',\n",
        "                      suppress_warnings=True,\n",
        "                      stepwise=True)\n",
        "\n",
        "best_order = model_autoARIMA.order\n",
        "print(\"Best ARIMA Order:\", best_order)"
      ],
      "metadata": {
        "id": "yQHoHzSHntPE",
        "colab": {
          "base_uri": "https://localhost:8080/"
        },
        "outputId": "e1cf0e0a-8137-4ec9-b90b-8d25dbaa6714"
      },
      "execution_count": null,
      "outputs": [
        {
          "output_type": "stream",
          "name": "stdout",
          "text": [
            "\r[*********************100%%**********************]  1 of 1 completed\n",
            "Performing stepwise search to minimize aic\n",
            " ARIMA(0,1,0)(0,0,0)[0] intercept   : AIC=-19679.841, Time=0.48 sec\n",
            " ARIMA(1,1,0)(0,0,0)[0] intercept   : AIC=-19681.183, Time=0.29 sec\n",
            " ARIMA(0,1,1)(0,0,0)[0] intercept   : AIC=-19681.119, Time=2.05 sec\n",
            " ARIMA(0,1,0)(0,0,0)[0]             : AIC=-19681.387, Time=0.47 sec\n"
          ]
        }
      ]
    },
    {
      "cell_type": "code",
      "source": [
        "from statsmodels.tsa.arima.model import ARIMA\n",
        "from datetime import datetime, timedelta\n",
        "\n",
        "start=\"2023-06-05\"\n",
        "end=\"2023-08-07\"\n",
        "\n",
        "stock_data = yf.download(stock, start=start, end=end, progress=False)\n",
        "new_date_index = stock_data.index + pd.Timedelta(days=(pd.Timestamp(end)-pd.Timestamp(start)+pd.Timedelta(1)).days)\n",
        "model = ARIMA(np.log(stock_data[\"Close\"]), order=best_order)\n",
        "fitted = model.fit()\n",
        "\n",
        "print(len(stock_data))"
      ],
      "metadata": {
        "id": "DsNaI26cwFv_"
      },
      "execution_count": null,
      "outputs": []
    },
    {
      "cell_type": "code",
      "source": [
        "forecast_results = fitted.get_forecast(steps=len(stock_data), alpha=0.05)\n",
        "\n",
        "fc = forecast_results.predicted_mean\n",
        "conf = forecast_results.conf_int()\n",
        "\n",
        "fc_series = pd.Series(fc, index=stock_data.index)\n",
        "lower_series = pd.DataFrame([new_date_index,conf.iloc[:, 0]]).T\n",
        "# upper_series = pd.Series(stock_data.index, conf.iloc[:, 1])\n",
        "\n",
        "plt.figure(figsize=(16,6), dpi=100)\n",
        "# plt.plot(np.exp(train_data[3500:]), label='Training data', color=\"black\")\n",
        "plt.plot(np.exp(test_data[100:]), color='black', label='Test data')\n",
        "\n",
        "# plt.plot(test_data.index, np.exp(fc), color='orange', label='Predicted Stock Price')  # Convert back to original scale\n",
        "# plt.fill_between(test_data.index, np.exp(conf.iloc[:, 0]), np.exp(conf.iloc[:, 1]),\n",
        "#                  color='k', alpha=.10)\n",
        "\n",
        "\n",
        "from datetime import datetime, timedelta\n",
        "today = datetime.now()\n",
        "tomorrow = today + timedelta(days=1)\n",
        "formatted_date = tomorrow.strftime(\"%Y-%m-%d\")\n",
        "today = today.strftime(\"%Y-%m-%d\")\n",
        "\n",
        "stock_data = yf.download(stock, start=end, end=formatted_date, progress=False)\n",
        "plt.plot(stock_data.index, stock_data[\"Close\"], color='red', label='Excluded stock data')\n",
        "\n",
        "plt.plot(new_date_index, np.exp(fc), color='blue', label='Predicted stock price')  # Convert back to original scale\n",
        "plt.fill_between(new_date_index, np.exp(conf.iloc[:, 0]), np.exp(conf.iloc[:, 1]),\n",
        "                 color='k', alpha=.10)\n",
        "\n",
        "plt.axhline(np.exp(conf.iloc[:, 1].max()), color=\"green\")\n",
        "plt.axhline(np.exp(conf.iloc[:, 0].min()), color=\"red\")\n",
        "\n",
        "print(\"FİYAT: \", round(stock_data[\"Close\"].iloc[-1], 2), \"TL\\n\")\n",
        "\n",
        "print(\"ÜST PROJEKSİYON: \", round(np.exp(conf.iloc[:, 1].max()), 2), \"TL\")\n",
        "print(\"ALT PROJEKSİYON: \", round(np.exp(conf.iloc[:, 0].min()), 2), \"TL\\n\")\n",
        "\n",
        "print(\"Günlük AL noktası: \", round(np.exp(float(lower_series[1][lower_series[0] == pd.Timestamp(today)])), 2), \"TL\")\n",
        "\n",
        "plt.xlabel('Time')\n",
        "plt.ylabel('Price')\n",
        "\n",
        "plt.legend(loc='lower left', fontsize=8)\n",
        "plt.show()"
      ],
      "metadata": {
        "id": "4mfH8NaHwOHz"
      },
      "execution_count": null,
      "outputs": []
    },
    {
      "cell_type": "code",
      "source": [
        "model = ARIMA(train_data, order=best_order)\n",
        "fitted = model.fit()\n",
        "\n",
        "forecast_results = fitted.get_forecast(steps=len(test_data), alpha=0.05)\n",
        "\n",
        "fc = forecast_results.predicted_mean\n",
        "conf = forecast_results.conf_int()\n",
        "\n",
        "fc_series = pd.Series(fc, index=test_data.index)\n",
        "lower_series = pd.Series(conf.iloc[:, 0], index=test_data.index)\n",
        "upper_series = pd.Series(conf.iloc[:, 1], index=test_data.index)\n",
        "\n",
        "plt.figure(figsize=(16,6), dpi=100)\n",
        "plt.plot(np.exp(train_data[1000:]), label='Training data', color=\"black\")\n",
        "plt.plot(np.exp(test_data), color='blue', label='Test data')\n",
        "\n",
        "plt.plot(test_data.index, np.exp(fc), color='orange', label='Predicted Stock Price')  # Convert back to original scale\n",
        "plt.fill_between(test_data.index, np.exp(conf.iloc[:, 0]), np.exp(conf.iloc[:, 1]),\n",
        "                 color='k', alpha=.10)\n",
        "\n",
        "\n",
        "plt.axhline(np.exp(conf.iloc[:, 1].max()), color=\"green\")\n",
        "plt.axhline(np.exp(conf.iloc[:, 0].min()), color=\"red\")\n",
        "\n",
        "plt.xlabel('Time')\n",
        "plt.ylabel('Price')\n",
        "\n",
        "plt.legend(loc='lower left', fontsize=8)\n",
        "plt.show()"
      ],
      "metadata": {
        "id": "YhZP21g9luhk"
      },
      "execution_count": null,
      "outputs": []
    },
    {
      "cell_type": "code",
      "source": [
        "# report performance\n",
        "mse = mean_squared_error(test_data, fc)\n",
        "print('MSE: '+str(mse))\n",
        "mae = mean_absolute_error(test_data, fc)\n",
        "print('MAE: '+str(mae))\n",
        "rmse = math.sqrt(mean_squared_error(test_data, fc))\n",
        "print('RMSE: '+str(rmse))\n",
        "mape = np.mean(np.abs(fc.to_numpy() - test_data)/np.abs(test_data))\n",
        "print('MAPE: '+str(mape))"
      ],
      "metadata": {
        "id": "M8QtrLQzxTyI",
        "colab": {
          "base_uri": "https://localhost:8080/"
        },
        "outputId": "4c619443-8654-4ba9-f365-5c0b19cc9912"
      },
      "execution_count": 27,
      "outputs": [
        {
          "output_type": "stream",
          "name": "stdout",
          "text": [
            "MSE: 0.2674679937215887\n",
            "MAE: 0.4483644851402625\n",
            "RMSE: 0.5171730790766169\n",
            "MAPE: 0.08581938413187133\n"
          ]
        }
      ]
    },
    {
      "cell_type": "code",
      "source": [
        "import requests\n",
        "from bs4 import BeautifulSoup\n",
        "\n",
        "market = []\n",
        "\n",
        "url = f\"https://tr.tradingview.com/symbols/BIST-XU100/components/\"\n",
        "response = requests.get(url)\n",
        "\n",
        "if response.status_code == 200:\n",
        "  soup = BeautifulSoup(response.text, 'html.parser')\n",
        "  elements = soup.find_all(class_=\"apply-common-tooltip tickerNameBox-GrtoTeat tickerName-GrtoTeat\")\n",
        "\n",
        "  for element in elements:\n",
        "    text = element.get_text()\n",
        "    market.append(text)\n",
        "\n",
        "for stock in market:\n",
        "  try:\n",
        "    print(stock)\n",
        "    stock = stock+\".IS\"\n",
        "    dateparse = lambda dates: pd.datetime.strptime(dates, '%Y-%m-%d')\n",
        "    stock_data = yf.download(stock, start=\"2006-01-01\", end=\"2023-09-14\", progress=False)\n",
        "\n",
        "    df_close = stock_data['Close']\n",
        "    df_log = np.log(df_close)\n",
        "    train_data, test_data = df_log[3:int(len(df_log)*0.9)], df_log[int(len(df_log)*0.9):]\n",
        "\n",
        "    model_autoARIMA = auto_arima(train_data, start_p=0, start_q=0,\n",
        "                          test='adf',\n",
        "                          max_p=3, max_q=3,\n",
        "                          m=1,\n",
        "                          d=None,\n",
        "                          seasonal=False,\n",
        "                          start_P=0,\n",
        "                          D=0,\n",
        "                          trace=False,\n",
        "                          error_action='ignore',\n",
        "                          suppress_warnings=True,\n",
        "                          stepwise=True)\n",
        "\n",
        "    best_order = model_autoARIMA.order\n",
        "\n",
        "    print(\"Best param search is done. \\n\")\n",
        "    # print(\"Best ARIMA Order:\", best_order)\n",
        "\n",
        "    start=\"2023-06-05\"\n",
        "    end=\"2023-08-07\"\n",
        "\n",
        "    stock_data = yf.download(stock, start=start, end=end, progress=False)\n",
        "    new_date_index = stock_data.index + pd.Timedelta(days=(pd.Timestamp(end)-pd.Timestamp(start)+pd.Timedelta(1)).days)\n",
        "    model = ARIMA(np.log(stock_data[\"Close\"]), order=best_order)\n",
        "    fitted = model.fit()\n",
        "\n",
        "    # print(len(stock_data))\n",
        "\n",
        "    forecast_results = fitted.get_forecast(steps=len(stock_data), alpha=0.05)\n",
        "\n",
        "    fc = forecast_results.predicted_mean\n",
        "    conf = forecast_results.conf_int()\n",
        "\n",
        "    fc_series = pd.Series(fc, index=stock_data.index)\n",
        "    lower_series = pd.DataFrame([new_date_index,conf.iloc[:, 0]]).T\n",
        "\n",
        "    from datetime import datetime, timedelta\n",
        "    today = datetime.now()\n",
        "    tomorrow = today + timedelta(days=1)\n",
        "    formatted_date = tomorrow.strftime(\"%Y-%m-%d\")\n",
        "    today = today.strftime(\"%Y-%m-%d\")\n",
        "\n",
        "    stock_data = yf.download(stock, start=\"2006-01-01\", end=\"2023-09-14\", progress=False)\n",
        "\n",
        "    if round(stock_data[\"Close\"].iloc[-1], 2) < round(np.exp(float(lower_series[1][lower_series[0] == pd.Timestamp(today)])), 2):\n",
        "      print(\"****************\",stock,\"****************\", \"\\n\")\n",
        "  except:\n",
        "    print(\"Error with this stock.\\n\")"
      ],
      "metadata": {
        "id": "7xZsSAsxQe_y",
        "colab": {
          "base_uri": "https://localhost:8080/"
        },
        "outputId": "ca82d6c1-d775-4dc1-8e41-bcdc3eb42eee"
      },
      "execution_count": null,
      "outputs": [
        {
          "output_type": "stream",
          "name": "stdout",
          "text": [
            "Error with this stock.\n",
            "\n",
            "BRYAT\n",
            "Error with this stock.\n",
            "\n",
            "BUCIM\n",
            "Error with this stock.\n",
            "\n",
            "CANTE\n"
          ]
        },
        {
          "output_type": "stream",
          "name": "stderr",
          "text": [
            "ERROR:yfinance:\n",
            "1 Failed download:\n",
            "ERROR:yfinance:['BIOEN.IS']: Exception(\"%ticker%: Period 'max' is invalid, must be one of ['1d', '5d']\")\n"
          ]
        },
        {
          "output_type": "stream",
          "name": "stdout",
          "text": [
            "Error with this stock.\n",
            "\n",
            "CCOLA\n",
            "Error with this stock.\n",
            "\n",
            "CEMTS\n",
            "Error with this stock.\n",
            "\n",
            "CIMSA\n",
            "Error with this stock.\n",
            "\n",
            "DOAS\n",
            "Error with this stock.\n",
            "\n",
            "DOHOL\n",
            "Error with this stock.\n",
            "\n",
            "ECILC\n",
            "Error with this stock.\n",
            "\n",
            "ECZYT\n",
            "Error with this stock.\n",
            "\n",
            "EGEEN\n"
          ]
        }
      ]
    }
  ]
}
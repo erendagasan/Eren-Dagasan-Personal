{
  "nbformat": 4,
  "nbformat_minor": 0,
  "metadata": {
    "colab": {
      "provenance": [],
      "authorship_tag": "ABX9TyN0jtHrqgeioiFm34UhhAlC",
      "include_colab_link": true
    },
    "kernelspec": {
      "name": "python3",
      "display_name": "Python 3"
    },
    "language_info": {
      "name": "python"
    }
  },
  "cells": [
    {
      "cell_type": "markdown",
      "metadata": {
        "id": "view-in-github",
        "colab_type": "text"
      },
      "source": [
        "<a href=\"https://colab.research.google.com/github/erendagasan/Eren-Dagasan-Personal/blob/main/DAMPFER.ipynb\" target=\"_parent\"><img src=\"https://colab.research.google.com/assets/colab-badge.svg\" alt=\"Open In Colab\"/></a>"
      ]
    },
    {
      "cell_type": "code",
      "execution_count": 1,
      "metadata": {
        "id": "0o-afNfoeBDg"
      },
      "outputs": [],
      "source": [
        "import numpy as np\n",
        "import pandas as pd\n",
        "import matplotlib.pyplot as plt"
      ]
    },
    {
      "cell_type": "code",
      "source": [
        "life_time_final = 60 * 60 * 24 * 30 * 12 * 20\n",
        "time_step = 300\n",
        "Pinitial = 2000\n",
        "Pambient = 1000\n",
        "V = 0.001\n",
        "Pcritic = 1500\n",
        "Qinitial_vals = np.arange(1.1E-9, 1E-8, 1e-9)\n",
        "time_actual = np.arange(time_step, life_time_final, time_step)\n",
        "\n",
        "df_list = []\n",
        "\n",
        "for Qinitial in Qinitial_vals[:1]:\n",
        "    # Defining starting variables\n",
        "    Premain_start = Pinitial - (Qinitial * time_step / V)\n",
        "    Q_start = (Qinitial * ((Premain_start**2) - (Pambient**2)) / ((Pinitial**2) - (Pambient**2)))\n",
        "    Pambient_start = Pambient+Pinitial-Premain_start\n",
        "\n",
        "    # Premain_list = []\n",
        "    # Premain_list.append(Pinitial)\n",
        "    # Premain_list.append(Premain_start)\n",
        "\n",
        "    # Pambient_list = []\n",
        "    # Pambient_list.append(Pambient)\n",
        "    # Pambient_list.append(Pambient_start)\n",
        "\n",
        "    # Q_calc_future_list = []\n",
        "    # Q_calc_future_list.append(Qinitial)\n",
        "    # Q_calc_future_list.append(Q_start)\n",
        "\n",
        "    # Premain_calc_buffer = Premain_start\n",
        "    # Premain_calc_buffer_before = Premain_start\n",
        "    # Pambient_calc_buffer = Pambient_start\n",
        "\n",
        "    # Q_buffer_calc = Q_start\n",
        "\n",
        "    # i = 0\n",
        "    # while Premain_calc_buffer > Pcritic and Pambient_calc_buffer < Pcritic:\n",
        "    #     Premain_calc_buffer = Premain_calc_buffer - (Q_buffer_calc * time_step / V)\n",
        "    #     Premain_list.append(Premain_calc_buffer)\n",
        "\n",
        "    #     Pambient_calc_buffer = Pambient + (Pinitial-Premain_calc_buffer)\n",
        "    #     Pambient_list.append(Pambient_calc_buffer)\n",
        "\n",
        "    #     calc = Q_buffer_calc * ((Premain_calc_buffer**2) - (Pambient**2)) / ((Premain_calc_buffer_before**2) - (Pambient**2))\n",
        "    #     Q_calc_future_list.append(calc)\n",
        "    #     Q_buffer_calc = calc\n",
        "\n",
        "    #     if (i % 2) != 0:\n",
        "    #         Premain_calc_buffer_before = Premain_calc_buffer\n",
        "\n",
        "    #     i+=1\n",
        "\n",
        "\n",
        "    Premain_real_list = []\n",
        "    Premain_real_list.append(Pinitial)\n",
        "    Premain_real_list.append(Premain_start)\n",
        "\n",
        "    Pambient_real_list = []\n",
        "    Pambient_real_list.append(Pambient)\n",
        "    Pambient_real_list.append(Pambient_start)\n",
        "\n",
        "    Q_real_future_list = []\n",
        "    Q_real_future_list.append(Qinitial)\n",
        "    Q_real_future_list.append(Q_start)\n",
        "\n",
        "    Premain_real_buffer = Premain_start\n",
        "    Premain_real_buffer_before = Premain_start\n",
        "    Pambient_real_buffer = Pambient_start\n",
        "    Pambient_real_buffer_before = Pambient_start\n",
        "\n",
        "    Q_buffer_real = Q_start\n",
        "\n",
        "    i = 0\n",
        "    while Premain_real_buffer > Pcritic and Pambient_real_buffer < Pcritic:\n",
        "        Premain_real_buffer = Premain_real_buffer - (Q_buffer_real * time_step / V)\n",
        "        Premain_real_list.append(Premain_real_buffer)\n",
        "\n",
        "        Pambient_real_buffer = Pambient + (Pinitial-Premain_real_buffer)\n",
        "        Pambient_real_list.append(Pambient_real_buffer)\n",
        "\n",
        "        calc = Q_buffer_real * ((Premain_real_buffer**2) - (Pambient_real_buffer**2)) / ((Premain_real_buffer_before**2) - (Pambient_real_buffer_before**2))\n",
        "        Q_real_future_list.append(calc)\n",
        "        Q_buffer_real = calc\n",
        "\n",
        "        if (i % 2) != 0:\n",
        "            Premain_real_buffer_before = Premain_real_buffer\n",
        "            Pambient_real_buffer_before = Pambient_real_buffer\n",
        "\n",
        "        i+=1\n",
        "\n",
        "    # Q_diff = np.array(Q_real_future_list)-np.array(Q_calc_future_list)\n",
        "\n",
        "    # df = pd.DataFrame({'Qcalc': Q_calc_future_list, 'Qreal': Q_real_future_list, 'Qdiff': Q_diff, 'Pinternal': Premain_list, 'Penv': Pambient_list, 'Duration': time_actual[:len(Premain_list)]})\n",
        "\n",
        "    # #Converting duration in seconds to specified time variables\n",
        "    # df['Duration_min']   = df['Duration']/60\n",
        "    # df['Duration_hour']  = df['Duration_min']/60\n",
        "    # df['Duration_day']   = df['Duration_hour']/24\n",
        "    # df['Duration_month'] = df['Duration_day']/30\n",
        "    # df['Duration_year']  = df['Duration_month']/12\n",
        "\n",
        "    # #Adding all the df's that depends different Qinitial values to a list\n",
        "    # df_list.append(df)"
      ],
      "metadata": {
        "id": "64AVSFqCeC2R"
      },
      "execution_count": null,
      "outputs": []
    },
    {
      "cell_type": "code",
      "source": [
        "data = {\n",
        "    \"Qreal\": Q_real_future_list,\n",
        "    \"Penv_real\": Pambient_real_list,\n",
        "    \"Pint_real\": Premain_real_list,\n",
        "}\n",
        "\n",
        "data = pd.DataFrame(data)\n",
        "data[\"Qreal\"].iloc[3]"
      ],
      "metadata": {
        "colab": {
          "base_uri": "https://localhost:8080/"
        },
        "id": "WBx_hN3OeGDi",
        "outputId": "f0f3a3b2-8461-48eb-c271-d1f51a1736b5"
      },
      "execution_count": 14,
      "outputs": [
        {
          "output_type": "execute_result",
          "data": {
            "text/plain": [
              "1.0999973380019565e-09"
            ]
          },
          "metadata": {},
          "execution_count": 14
        }
      ]
    },
    {
      "cell_type": "code",
      "source": [
        "data = {\n",
        "    \"Qcalc\": Q_calc_future_list,\n",
        "    \"Penv_calc\": Pambient_list,\n",
        "    \"Pint_calc\": Premain_list,\n",
        "}\n",
        "\n",
        "data = pd.DataFrame(data)\n",
        "data[\"Qcalc\"].iloc[5]"
      ],
      "metadata": {
        "colab": {
          "base_uri": "https://localhost:8080/"
        },
        "id": "zlkhu2_Pe8hW",
        "outputId": "212f1116-2393-46ff-cc87-7abc1757a2e4"
      },
      "execution_count": 18,
      "outputs": [
        {
          "output_type": "execute_result",
          "data": {
            "text/plain": [
              "1.0999966120065085e-09"
            ]
          },
          "metadata": {},
          "execution_count": 18
        }
      ]
    },
    {
      "cell_type": "code",
      "source": [],
      "metadata": {
        "id": "PGsE84m1fDfn"
      },
      "execution_count": null,
      "outputs": []
    }
  ]
}
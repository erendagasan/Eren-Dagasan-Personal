{
  "cells": [
    {
      "cell_type": "markdown",
      "metadata": {
        "id": "view-in-github",
        "colab_type": "text"
      },
      "source": [
        "<a href=\"https://colab.research.google.com/github/erendagasan/Eren-Dagasan-Personal/blob/main/DENEME.ipynb\" target=\"_parent\"><img src=\"https://colab.research.google.com/assets/colab-badge.svg\" alt=\"Open In Colab\"/></a>"
      ]
    },
    {
      "cell_type": "markdown",
      "source": [
        "#PIP Installs"
      ],
      "metadata": {
        "id": "Zeakwf7Y1VSr"
      }
    },
    {
      "cell_type": "code",
      "execution_count": 2,
      "metadata": {
        "id": "CILEt1NgoCJG",
        "colab": {
          "base_uri": "https://localhost:8080/"
        },
        "outputId": "178202eb-8704-4381-9820-0994d9ea8ade"
      },
      "outputs": [
        {
          "output_type": "stream",
          "name": "stdout",
          "text": [
            "\u001b[?25l     \u001b[90m━━━━━━━━━━━━━━━━━━━━━━━━━━━━━━━━━━━━━━━━\u001b[0m \u001b[32m0.0/92.2 kB\u001b[0m \u001b[31m?\u001b[0m eta \u001b[36m-:--:--\u001b[0m\r\u001b[2K     \u001b[90m━━━━━━━━━━━━━━━━━━━━━━━━━━━━━━━━━━━━━━━━\u001b[0m \u001b[32m92.2/92.2 kB\u001b[0m \u001b[31m4.3 MB/s\u001b[0m eta \u001b[36m0:00:00\u001b[0m\n",
            "\u001b[?25h  Preparing metadata (setup.py) ... \u001b[?25l\u001b[?25hdone\n",
            "  Building wheel for ta (setup.py) ... \u001b[?25l\u001b[?25hdone\n"
          ]
        }
      ],
      "source": [
        "!pip install -q bta-lib\n",
        "!pip install -q ta\n",
        "!pip install -q yfinance"
      ]
    },
    {
      "cell_type": "markdown",
      "source": [
        "#Libraries"
      ],
      "metadata": {
        "id": "P1BAPm2u1SAx"
      }
    },
    {
      "cell_type": "code",
      "source": [
        "import yfinance as yf\n",
        "import btalib\n",
        "import numpy as np\n",
        "import pandas as pd\n",
        "from ta.trend import PSARIndicator\n",
        "from ta.momentum import WilliamsRIndicator\n",
        "from ta.trend import AroonIndicator\n",
        "from ta.volume import VolumePriceTrendIndicator\n",
        "from ta.trend import CCIIndicator\n",
        "from ta.momentum import ROCIndicator\n",
        "from ta.trend import ADXIndicator\n",
        "from datetime import datetime, timedelta\n",
        "from sklearn.preprocessing import MinMaxScaler\n",
        "import random\n",
        "import numpy as np\n",
        "import warnings\n",
        "from google.colab import drive\n",
        "\n",
        "drive.mount('/content/drive')\n",
        "path = '/content/drive/My Drive/output.csv'\n",
        "\n",
        "warnings.filterwarnings(\"ignore\", category=FutureWarning)\n",
        "warnings.filterwarnings(\"ignore\", category=RuntimeWarning)\n",
        "pd.set_option('display.float_format', lambda x: '%.2f' % x)\n",
        "pd.set_option('display.max_rows', 500)"
      ],
      "metadata": {
        "id": "WWvB2_sVlTqN",
        "colab": {
          "base_uri": "https://localhost:8080/"
        },
        "outputId": "bb2c22d4-325e-491b-afac-7632c6ff6b80"
      },
      "execution_count": 12,
      "outputs": [
        {
          "output_type": "stream",
          "name": "stdout",
          "text": [
            "Drive already mounted at /content/drive; to attempt to forcibly remount, call drive.mount(\"/content/drive\", force_remount=True).\n"
          ]
        }
      ]
    },
    {
      "cell_type": "markdown",
      "source": [
        "#Stock Lists"
      ],
      "metadata": {
        "id": "E5UEw2nX1OMK"
      }
    },
    {
      "cell_type": "code",
      "source": [
        "xu030 = [\n",
        "        'AKBNK.IS',\n",
        "        'AKSEN.IS',\n",
        "        'ALARK.IS',\n",
        "        'ARCLK.IS',\n",
        "        'ASELS.IS',\n",
        "        'BIMAS.IS',\n",
        "        'EKGYO.IS',\n",
        "        'ENKAI.IS',\n",
        "        'EREGL.IS',\n",
        "        'FROTO.IS',\n",
        "        'GARAN.IS',\n",
        "        'GUBRF.IS',\n",
        "        'HEKTS.IS',\n",
        "        'KRDMD.IS',\n",
        "        'KCHOL.IS',\n",
        "        'KOZAL.IS',\n",
        "        'KOZAA.IS',\n",
        "        'ODAS.IS',\n",
        "        'PGSUS.IS',\n",
        "        'SAHOL.IS',\n",
        "        'SASA.IS',\n",
        "        'PETKM.IS',\n",
        "        'SISE.IS',\n",
        "        'TAVHL.IS',\n",
        "        'THYAO.IS',\n",
        "        'TUPRS.IS',\n",
        "        'TOASO.IS',\n",
        "        'TCELL.IS',\n",
        "        'ISCTR.IS',\n",
        "        'YKBNK.IS'\n",
        "          ]\n",
        "\n",
        "xu100 = ['ADESE.IS',\n",
        "        'AGHOL.IS',\n",
        "        'AKBNK.IS',\n",
        "        'AKSA.IS',\n",
        "        'AKSEN.IS',\n",
        "        'ALGYO.IS',\n",
        "        'ALARK.IS',\n",
        "        'ALKIM.IS',\n",
        "        'AEFES.IS',\n",
        "        'ARCLK.IS',\n",
        "        'ARDYZ.IS',\n",
        "        'ASELS.IS',\n",
        "        'AYDEM.IS',\n",
        "        'BERA.IS',\n",
        "        'BIMAS.IS',\n",
        "        'BRYAT.IS',\n",
        "        'BRISA.IS',\n",
        "        'CCOLA.IS',\n",
        "        'CANTE.IS',\n",
        "        'CEMAS.IS',\n",
        "        'CIMSA.IS',\n",
        "        'DOHOL.IS',\n",
        "        'DOAS.IS',\n",
        "        'EGEEN.IS',\n",
        "        'ECILC.IS',\n",
        "        'EKGYO.IS',\n",
        "        'ENJSA.IS',\n",
        "        'ENKAI.IS',\n",
        "        'ERBOS.IS',\n",
        "        'EREGL.IS',\n",
        "        'FROTO.IS',\n",
        "        'GENIL.IS',\n",
        "        'GESAN.IS',\n",
        "        'GLYHO.IS',\n",
        "        'GOZDE.IS',\n",
        "        'GUBRF.IS',\n",
        "        'SAHOL.IS',\n",
        "        'HEKTS.IS',\n",
        "        'INDES.IS',\n",
        "        'IPEKE.IS',\n",
        "        'ISDMR.IS',\n",
        "        'ISFIN.IS',\n",
        "        'ISGYO.IS',\n",
        "        'ISMEN.IS',\n",
        "        'IZMDC.IS',\n",
        "        'KRDMD.IS',\n",
        "        'KARSN.IS',\n",
        "        'KARTN.IS',\n",
        "        'KERVT.IS',\n",
        "        'KRVGD.IS',\n",
        "        'KCHOL.IS',\n",
        "        'KORDS.IS',\n",
        "        'KOZAL.IS',\n",
        "        'KOZAA.IS',\n",
        "        'LOGO.IS',\n",
        "        'MAVI.IS',\n",
        "        'MGROS.IS',\n",
        "        'NTHOL.IS',\n",
        "        'ODAS.IS',\n",
        "        'OTKAR.IS',\n",
        "        'OYAKC.IS',\n",
        "        'PARSN.IS',\n",
        "        'PGSUS.IS',\n",
        "        'PETKM.IS',\n",
        "        'QUAGR.IS',\n",
        "        'RTALB.IS',\n",
        "        'SARKY.IS',\n",
        "        'SASA.IS',\n",
        "        'SELEC.IS',\n",
        "        'SKBNK.IS',\n",
        "        'SOKM.IS',\n",
        "        'TAVHL.IS',\n",
        "        'TKFEN.IS',\n",
        "        'TKNSA.IS',\n",
        "        'TOASO.IS',\n",
        "        'TRGYO.IS',\n",
        "        'TCELL.IS',\n",
        "        'TUPRS.IS',\n",
        "        'THYAO.IS',\n",
        "        'TTKOM.IS',\n",
        "        'TTRAK.IS',\n",
        "        'GARAN.IS',\n",
        "        'HALKB.IS',\n",
        "        'ISCTR.IS',\n",
        "        'TSKB.IS',\n",
        "        'TURSG.IS',\n",
        "        'SISE.IS',\n",
        "        'VAKBN.IS',\n",
        "        'ULKER.IS',\n",
        "        'VERUS.IS',\n",
        "        'VESBE.IS',\n",
        "        'VESTL.IS',\n",
        "        'YKBNK.IS',\n",
        "        'YATAS.IS',\n",
        "        'ZRGYO.IS',\n",
        "        'ZOREN.IS']\n",
        "\n",
        "url = 'https://en.m.wikipedia.org/wiki/Nasdaq-100'\n",
        "nasdaq100 = pd.read_html(url, attrs={'id': \"constituents\"})[0]\n",
        "nasdaq100 = nasdaq100[\"Ticker\"].to_list()"
      ],
      "metadata": {
        "id": "TUKxemqyjEYd"
      },
      "execution_count": 4,
      "outputs": []
    },
    {
      "cell_type": "markdown",
      "source": [
        "#Functions"
      ],
      "metadata": {
        "id": "u5DYqqBlwX4H"
      }
    },
    {
      "cell_type": "code",
      "source": [
        "  def create_indicators(data):\n",
        "    # 15 DKLIK İCİN\n",
        "    # EMA 33, 165, 660\n",
        "\n",
        "    # ICHIMOKU\n",
        "    # MOMENTUM INDIKATORU EKLE\n",
        "    # ELLIOT EKLE\n",
        "    # FIBONACCI\n",
        "\n",
        "    # 50 - 200Ü KIRIYORSA GOLDEN CROSS - TAM TERSİ SAĞLAM SAT (DATA COK BÜYÜYOR)\n",
        "\n",
        "    # Below 30 is oversold, upper 70 is overbought\n",
        "    data[\"RSI\"] = btalib.rsi(data[\"Close\"], period=14).df\n",
        "\n",
        "    #If little period conflicts with the bigger one it means buy else sell.\n",
        "    data[\"SMA5\"] = btalib.sma(data['Close'], period=5).df\n",
        "    data[\"SMA9\"] = btalib.sma(data['Close'], period=9).df\n",
        "    data[\"SMA10\"] = btalib.sma(data['Close'], period=10).df\n",
        "    data[\"SMA14\"] = btalib.sma(data['Close'], period=14).df\n",
        "    data[\"SMA20\"] = btalib.sma(data['Close'], period=20).df\n",
        "    data[\"SMA21\"] = btalib.sma(data['Close'], period=21).df\n",
        "    data[\"SMA50\"] = btalib.sma(data['Close'], period=50).df\n",
        "    data[\"SMA200\"] = btalib.sma(data['Close'], period=200).df\n",
        "\n",
        "    data[\"EMA5\"] = btalib.ema(data['Close'], period=5).df\n",
        "    data[\"EMA14\"] = btalib.ema(data['Close'], period=14).df\n",
        "    data[\"EMA21\"] = btalib.ema(data['Close'], period=21).df\n",
        "    data[\"EMA50\"] = btalib.ema(data['Close'], period=50).df\n",
        "\n",
        "    #A reading below 20 generally represents an oversold market and a reading above 80 an overbought market. Look only STOCH-D.\n",
        "    data[\"STOCH-K\"] = btalib.stoch(data['High'], data['Low'], data['Close']).df[\"k\"]\n",
        "    data[\"STOCH-D\"] = btalib.stoch(data['High'], data['Low'], data['Close']).df[\"d\"]\n",
        "\n",
        "    #When the MACD line crosses above the signal line, it generates a buy signal. This indicates a potential bullish trend reversal.\n",
        "    #Additionally, monitor the MACD histogram. When the histogram bars turn positive (change from negative to positive), it confirms the buy signal and suggests increasing buying pressure.\n",
        "    data[\"MACD\"] = btalib.macd(data['Close']).df[\"macd\"]\n",
        "    data[\"SIGNAL\"] = btalib.macd(data['Close']).df[\"signal\"]\n",
        "    data[\"HISTOGRAM\"] = btalib.macd(data['Close']).df[\"histogram\"]\n",
        "\n",
        "    #Buy Signal: When the price of the stock touches or crosses below the lower Bollinger Band, it can be considered a buy signal.\n",
        "    #This suggests that the stock may be oversold, and a potential price rebound is expected.\n",
        "    #Sell Signal: When the price of the stock touches or crosses above the upper Bollinger Band, it can be considered a sell signal.\n",
        "    #This indicates that the stock may be overbought, and a potential price correction is expected.\n",
        "    data[\"BB-UPPER\"] = btalib.bbands(data['Close']).df['top']\n",
        "    data[\"BB-MID\"] = btalib.bbands(data['Close']).df['mid']\n",
        "    data[\"BB-LOWER\"] = btalib.bbands(data['Close']).df['bot']\n",
        "\n",
        "    #When the current price of the stock falls below a certain number of standard deviations (GET THE MIN AND MAX VALUE OF THE COLUMN AND MAKE IT THE THRESHOLD)\n",
        "    #from the mean, it generates a buy signal. This suggests that the price has deviated significantly from the average and may present a buying opportunity.\n",
        "    data[\"STDEV\"] = data[\"Close\"].rolling(window=10).std()\n",
        "\n",
        "    #Generate a buy signal when the price crosses above the PSAR.\n",
        "    #This indicates a potential reversal in the downward trend and suggests a buying opportunity.\n",
        "    data[\"PSAR\"] = PSARIndicator(data[\"High\"], data[\"Low\"], data[\"Close\"]).psar()\n",
        "\n",
        "    #Williams\n",
        "    #Use the Williams Percent Range (%R) formula to calculate the %R values based on historical price data.\n",
        "    #The %R values range from -100 to 0, where values close to -100 indicate oversold conditions and values close to 0 indicate overbought conditions.\n",
        "    #Generate a buy signal when the %R value crosses above a certain threshold (e.g., -80) from below.\n",
        "    #This indicates a potential reversal from oversold conditions and suggests a buying opportunity.\n",
        "    data[\"WILLIAMS\"] = WilliamsRIndicator(data[\"High\"], data[\"Low\"], data[\"Close\"]).williams_r()\n",
        "\n",
        "    #The difference between these two lines indicates whether there is overbought (a positive number) or oversold (a negative number).\n",
        "    data[\"AROON\"] = AroonIndicator(close=data[\"Close\"], window=25).aroon_indicator()\n",
        "\n",
        "    #obv\n",
        "    data[\"OBV\"] = VolumePriceTrendIndicator(close=data['Close'], volume=data['Volume']).volume_price_trend()\n",
        "\n",
        "    #CCI\n",
        "    data['CCI'] = CCIIndicator(close=data['Close'], low=data[\"Low\"], high=data[\"High\"], window=14).cci()\n",
        "\n",
        "    #ROC\n",
        "    data['ROC'] = ROCIndicator(close=data['Close'], window=5).roc()\n",
        "\n",
        "    #BULLBEARPOWER\n",
        "    data['BULL'] = data['High'] - (data['High'].rolling(13).max() + data['Low'].rolling(13).min()) / 2\n",
        "    data['BEAR'] = data['Low'] - (data['High'].rolling(13).max() + data['Low'].rolling(13).min()) / 2\n",
        "\n",
        "    #ADX\n",
        "    adx_indicator = ADXIndicator(high=data['High'], low=data['Low'], close=data['Close'], window=14)\n",
        "    data['ADX'] = adx_indicator.adx()\n",
        "    data['+DI'] = adx_indicator.adx_pos()\n",
        "    data['-DI'] = adx_indicator.adx_neg()\n",
        "\n",
        "    data = data.dropna()\n",
        "    data = data.reset_index()\n",
        "    return data\n",
        "\n",
        "  def score(data):\n",
        "    scaler = MinMaxScaler(feature_range=(0, 100))\n",
        "    scores = []\n",
        "\n",
        "    for row in range(data.shape[0]):\n",
        "      score = 0\n",
        "\n",
        "      if data[\"RSI\"][row] < 30:\n",
        "        score+=1\n",
        "      elif data[\"RSI\"][row] > 70:\n",
        "        score-=1\n",
        "\n",
        "      if row > 0 and data[\"RSI\"].iloc[row-1] > 63 and data[\"RSI\"].iloc[row] < 63:\n",
        "        score-=1\n",
        "\n",
        "      if row > 0 and data[\"RSI\"].iloc[row-1] > 49 and data[\"RSI\"].iloc[row] < 49:\n",
        "        score-=1.5\n",
        "      elif row > 0 and data[\"RSI\"].iloc[row-1] < 50 and data[\"RSI\"].iloc[row] > 50:\n",
        "        score+=1.5\n",
        "\n",
        "      if data[\"SMA5\"].iloc[row] > data[\"SMA10\"].iloc[row]:\n",
        "        score+=1.5\n",
        "      else:\n",
        "        score-=1.5\n",
        "\n",
        "      if row > 0 and data['SMA5'].iloc[row-1] < data['SMA10'].iloc[row-1] and data['SMA5'].iloc[row] > data['SMA10'].iloc[row]:\n",
        "        score+=1\n",
        "      else:\n",
        "        score-=1\n",
        "\n",
        "      # if data[\"SMA9\"][row] > data[\"SMA14\"][row]:\n",
        "      #   score+=1\n",
        "      # else:\n",
        "      #   score-=1\n",
        "\n",
        "      # if row > 0 and data['SMA9'].iloc[row-1] < data['SMA14'].iloc[row-1] and data['SMA9'].iloc[row] > data['SMA14'].iloc[row]:\n",
        "      #   score+=1\n",
        "      # else:\n",
        "      #   score-=1\n",
        "\n",
        "      if data[\"SMA14\"][row] > data[\"SMA21\"][row]:\n",
        "        score+=1\n",
        "      else:\n",
        "        score-=1\n",
        "\n",
        "      if row > 0 and data['SMA14'].iloc[row-1] < data['SMA21'].iloc[row-1] and data['SMA14'].iloc[row] > data['SMA21'].iloc[row]:\n",
        "        score+=1\n",
        "      else:\n",
        "        score-=1\n",
        "\n",
        "      if row > 1 and data['SMA20'].iloc[row-1] < data[\"Close\"].iloc[row-1] and data['SMA20'].iloc[row] < data[\"Close\"].iloc[row]:\n",
        "        score+=1\n",
        "      else:\n",
        "        score-=1\n",
        "\n",
        "      if data[\"SMA21\"][row] > data[\"SMA50\"][row]:\n",
        "        score+=1\n",
        "      else:\n",
        "        score-=1\n",
        "\n",
        "      if row > 0 and data['SMA21'].iloc[row-1] < data['SMA50'].iloc[row-1] and data['SMA21'].iloc[row] > data['SMA50'].iloc[row]:\n",
        "        score+=1\n",
        "      else:\n",
        "        score-=1\n",
        "\n",
        "      if row > 0 and data['SMA50'].iloc[row-1] < data['SMA200'].iloc[row-1] and data['SMA50'].iloc[row] > data['SMA200'].iloc[row]:\n",
        "        score+=2\n",
        "\n",
        "      # if data['Close'][row] > data[\"EMA14\"][row]:\n",
        "      #   score+=1\n",
        "      # else:\n",
        "      #   score-=1\n",
        "\n",
        "      # if data[\"EMA5\"][row] > data[\"EMA14\"][row]:\n",
        "      #   score+=0.5\n",
        "      # else:\n",
        "      #   score-=0.5\n",
        "\n",
        "      # if row > 0 and data['EMA5'].iloc[row-1] < data['EMA14'].iloc[row-1] and data['EMA5'].iloc[row] > data['EMA14'].iloc[row]:\n",
        "      #   score+=0.5\n",
        "      # else:\n",
        "      #   score-=0.5\n",
        "\n",
        "      # if data[\"EMA14\"][row] > data[\"EMA21\"][row]:\n",
        "      #   score+=1\n",
        "      # else:\n",
        "      #   score-=1\n",
        "\n",
        "      # if row > 0 and data['EMA14'].iloc[row-1] < data['EMA21'].iloc[row-1] and data['EMA14'].iloc[row] > data['EMA21'].iloc[row]:\n",
        "      #   score+=1\n",
        "      # else:\n",
        "      #   score-=1\n",
        "\n",
        "      # if data[\"EMA21\"][row] > data[\"EMA50\"][row]:\n",
        "      #   score+=1\n",
        "      # else:\n",
        "      #   score-=1\n",
        "\n",
        "      # if row > 0 and data['EMA21'].iloc[row-1] < data['EMA50'].iloc[row-1] and data['EMA21'].iloc[row] > data['EMA50'].iloc[row]:\n",
        "      #   score+=1\n",
        "      # else:\n",
        "      #   score-=1\n",
        "\n",
        "      if data[\"STOCH-D\"][row] <= 20:\n",
        "        score+=1\n",
        "      elif data[\"STOCH-D\"][row] >= 80:\n",
        "        score-=1\n",
        "\n",
        "      if row > 0 and data[\"STOCH-D\"][row-1] > 65 and data[\"STOCH-D\"][row] < 65:\n",
        "        score-=1\n",
        "      elif row > 0 and data[\"STOCH-D\"][row-1] < 35 and data[\"STOCH-D\"][row] > 35:\n",
        "        score=+1\n",
        "\n",
        "      if data[\"MACD\"][row] > data[\"SIGNAL\"][row]:\n",
        "        score+=1\n",
        "      if row > 0 and data[\"MACD\"][row] > data[\"SIGNAL\"][row] and data[\"HISTOGRAM\"][row-1] < 0 and data[\"HISTOGRAM\"][row] > 0:\n",
        "        score+=1\n",
        "      if row > 0 and data[\"MACD\"][row] < data[\"SIGNAL\"][row] and data[\"HISTOGRAM\"][row-1] > 0 and data[\"HISTOGRAM\"][row] < 0:\n",
        "        score-=1\n",
        "      if data[\"MACD\"][row] < data[\"SIGNAL\"][row]:\n",
        "        score-=1\n",
        "\n",
        "      if data['MACD'].tail(7).mean() > 0:\n",
        "        score+=1\n",
        "      else:\n",
        "        score-=1\n",
        "\n",
        "      if data['MACD'].tail(30).mean() > 0:\n",
        "        score+=1\n",
        "      else:\n",
        "        score-=1\n",
        "\n",
        "      # if data[\"BB-LOWER\"].iloc[row] > data[\"Close\"].iloc[row]:\n",
        "      #     score+=1\n",
        "      # elif data[\"BB-UPPER\"].iloc[row] < data[\"Close\"].iloc[row]:\n",
        "      #     score-=1\n",
        "      # if data[\"BB-MID\"].iloc[row] < data[\"Close\"].iloc[row] and data[\"BB-LOWER\"].iloc[row] - data[\"Close\"].iloc[row] < data[\"BB-MID\"].iloc[row] - data[\"Close\"].iloc[row]:\n",
        "      #     score+=1\n",
        "      # elif data[\"BB-MID\"].iloc[row] > data[\"Close\"].iloc[row] and data[\"BB-UPPER\"].iloc[row] - data[\"Close\"].iloc[row] < data[\"BB-MID\"].iloc[row] - data[\"Close\"].iloc[row]:\n",
        "      #     score-=1\n",
        "\n",
        "      if (data[\"STDEV\"].max() + data[\"STDEV\"].min()) / 2 > data[\"STDEV\"][row]:\n",
        "        score+=1\n",
        "      else:\n",
        "        score-=1\n",
        "\n",
        "      if data[\"PSAR\"][row] < data[\"Close\"][row]:\n",
        "        score+=1\n",
        "      else:\n",
        "        score-=1\n",
        "\n",
        "      if data[\"WILLIAMS\"][row] < -80:\n",
        "        score+=1\n",
        "      elif data[\"WILLIAMS\"][row] > -20:\n",
        "        score-=1\n",
        "\n",
        "      if data[\"AROON\"][row] > 0:\n",
        "        score-=1\n",
        "      else:\n",
        "        score+=1\n",
        "\n",
        "      if row > 0 and data[\"OBV\"][row-1] < data[\"OBV\"][row] and data[\"Close\"][row] > data[\"Close\"][row-1]:\n",
        "        score+=1\n",
        "      elif row > 0 and data[\"OBV\"][row-1] > data[\"OBV\"][row] and data[\"Close\"][row] < data[\"Close\"][row-1]:\n",
        "        score-=1\n",
        "\n",
        "      if row > 0 and (data['CCI'][row] > -100) & (data['CCI'][row-1] <= -100):\n",
        "        score+=1\n",
        "      elif row > 0 and (data['CCI'][row] < 100) & (data['CCI'][row-1] >= 100):\n",
        "        score-=1\n",
        "\n",
        "      if data[\"ROC\"][row] > 0:\n",
        "        score+=1\n",
        "      elif data[\"ROC\"][row] < 0:\n",
        "        score-=1\n",
        "\n",
        "      if data[\"BULL\"][row] > 0:\n",
        "        score+=1\n",
        "      elif data[\"BEAR\"][row] < 0:\n",
        "        score-=1\n",
        "\n",
        "      if (data['ADX'][row] > 25) and (data['+DI'][row] > data['-DI'][row]):\n",
        "        score+=1\n",
        "      if data['ADX'][row] > data['+DI'][row] and data['ADX'][row] > data['-DI'][row]:\n",
        "        score+=1\n",
        "      if data['ADX'][row] < data['+DI'][row] and data['ADX'][row] < data['-DI'][row]:\n",
        "        score-=1\n",
        "\n",
        "      elif (data['ADX'][row] > 40) and (data['+DI'][row] < data['-DI'][row]):\n",
        "        score-=1\n",
        "\n",
        "      scores.append(score)\n",
        "\n",
        "    data[\"SCORE\"] = scores\n",
        "    data[\"SCORE\"] = scaler.fit_transform(data[\"SCORE\"].values.reshape(-1, 1))\n",
        "    return data\n",
        "\n",
        "  def save_to_excel(stock, data):\n",
        "    output_file = stock + \":\" + start + \":\" + end + '.xlsx'\n",
        "    writer = pd.ExcelWriter(output_file)\n",
        "    data.to_excel(writer, index=True, sheet_name=stock)\n",
        "    writer.save()\n",
        "\n",
        "  def buy_or_sell(stock, data, balance, upper_score, lower_score):\n",
        "    stock_balance = 0\n",
        "    transactions = []\n",
        "\n",
        "    for row in range(data.shape[0]):\n",
        "      if row > 0 and data[\"SCORE\"].iloc[row] >= upper_score and data[\"SCORE\"].iloc[row-1] < upper_score and balance > data[\"Close\"].iloc[row]:\n",
        "        stock_balance = balance / data[\"Close\"].iloc[row]\n",
        "        balance-= stock_balance*data[\"Close\"].iloc[row]\n",
        "        transactions.append([stock, \"BUY\", data[\"Date\"].iloc[row], data[\"Close\"].iloc[row], stock_balance, balance, data[\"SCORE\"].iloc[row]])\n",
        "\n",
        "      elif row > 0 and data[\"SCORE\"].iloc[row] <= lower_score and data[\"SCORE\"].iloc[row-1] > lower_score and stock_balance > 1:\n",
        "        balance+=stock_balance*data[\"Close\"].iloc[row]\n",
        "        stock_balance-=stock_balance\n",
        "        transactions.append([stock,\"SELL\", data[\"Date\"].iloc[row], data[\"Close\"].iloc[row], stock_balance, balance, data[\"SCORE\"].iloc[row]])\n",
        "\n",
        "    transactions_df = pd.DataFrame(transactions, columns=[\"STOCK\",\"B/S\", \"DATE\", \"PRICE\", \"STOCK BALANCE\", \"TRY BALANCE\", \"SCORE\"])\n",
        "    if transactions_df.empty != True:\n",
        "      transactions_df[\"LAST PRICE\"] = data[\"Close\"].iloc[-1]\n",
        "    return transactions_df\n",
        "\n",
        "  def test_the_market(market, buy_threshold, sell_threshold, start, end, balance, today):\n",
        "    test_df = pd.DataFrame()\n",
        "\n",
        "    for stock in market:\n",
        "      try:\n",
        "        data = yf.download(stock, start, end, progress=False)\n",
        "        data = create_indicators(data)\n",
        "        data = score(data)\n",
        "        simulation_df = buy_or_sell(stock, data, balance=balance, upper_score=buy_threshold, lower_score=sell_threshold)\n",
        "        test_df = pd.concat([test_df, simulation_df])\n",
        "\n",
        "      except:\n",
        "        print(\"Data error with stock named: \" + stock)\n",
        "\n",
        "    test_df = test_df.reset_index().drop([\"index\"], axis=1)\n",
        "    return_df = pd.DataFrame()\n",
        "\n",
        "    for stock in xu030:\n",
        "      stock_df = test_df[test_df[\"STOCK\"] == stock]\n",
        "\n",
        "      if stock_df.empty != True:\n",
        "        if stock_df['B/S'].iloc[-1] == \"BUY\":\n",
        "          add = pd.DataFrame({\"STOCK\": [stock_df[\"STOCK\"].iloc[-1]], \"B/S\": [\"CLOSE\"], \"DATE\": [today], \"PRICE\": [stock_df[\"LAST PRICE\"].iloc[-1]],\n",
        "                              'STOCK BALANCE': [0], 'TRY BALANCE': [(stock_df[\"STOCK BALANCE\"].iloc[-1]) * stock_df[\"LAST PRICE\"].iloc[-1]], 'LAST PRICE' :[stock_df[\"LAST PRICE\"].iloc[-1]]})\n",
        "\n",
        "          stock_df = stock_df.append(add)\n",
        "          return_df = pd.concat([return_df, stock_df], ignore_index=True)\n",
        "        else:\n",
        "          return_df = pd.concat([return_df, stock_df], ignore_index=True)\n",
        "\n",
        "    return return_df"
      ],
      "metadata": {
        "id": "YJK_7ot1ipoG"
      },
      "execution_count": 5,
      "outputs": []
    },
    {
      "cell_type": "markdown",
      "source": [
        "#Variables"
      ],
      "metadata": {
        "id": "Gjl62JSewb2H"
      }
    },
    {
      "cell_type": "code",
      "source": [
        "today = datetime.today().date()\n",
        "tomorrow = today + timedelta(days=1)\n",
        "\n",
        "start=\"2021-06-01\"\n",
        "end = tomorrow.strftime(\"%Y-%m-%d\")\n",
        "\n",
        "balance = 2000\n",
        "buy_threshold = 77\n",
        "sell_threshold = 51"
      ],
      "metadata": {
        "id": "myQQY_GteXzb"
      },
      "execution_count": 6,
      "outputs": []
    },
    {
      "cell_type": "markdown",
      "source": [
        "#Buy or Sell Informations on Stocks"
      ],
      "metadata": {
        "id": "oGKAhpzWwdkL"
      }
    },
    {
      "cell_type": "code",
      "source": [
        "buy_stocks = []\n",
        "sell_stocks = []\n",
        "simulation_stocks = pd.DataFrame()\n",
        "\n",
        "lookup_table = []\n",
        "portfolio = []\n",
        "\n",
        "for stock in xu030:\n",
        "  try:\n",
        "    data = yf.download(stock, start=start, end=end, progress=False)\n",
        "    data = create_indicators(data)\n",
        "    data = score(data)\n",
        "\n",
        "    if stock in lookup_table:\n",
        "      # save_to_excel(stock, data)\n",
        "      portfolio.append([data.tail(1)[\"Date\"].item(), stock, data.tail(1)[\"Close\"].item(), data.tail(1)[\"SCORE\"].item(),\n",
        "                        \"BUY\" if data[\"SCORE\"].iloc[-1] > buy_threshold and data[\"SCORE\"].iloc[-2] < buy_threshold else\n",
        "                        \"SELL\" if data[\"SCORE\"].iloc[-1] < sell_threshold and data[\"SCORE\"].iloc[-2] > sell_threshold else\n",
        "                        \"SELL\" if data[\"SCORE\"].iloc[-1] < sell_threshold else \"HOLD\"])\n",
        "\n",
        "    if data[\"SCORE\"].iloc[-1] > buy_threshold and data[\"SCORE\"].iloc[-2] < buy_threshold:\n",
        "      buy_stocks.append([data.tail(1)[\"Date\"].item(), stock, data.tail(1)[\"Close\"].item(), data.tail(1)[\"SCORE\"].item(), \"BUY\"])\n",
        "      simulation_df = buy_or_sell(stock, data, balance=2000, upper_score=buy_threshold, lower_score=sell_threshold)\n",
        "      simulation_stocks = pd.concat([simulation_stocks, simulation_df])\n",
        "\n",
        "    elif data[\"SCORE\"].iloc[-1] < sell_threshold and data[\"SCORE\"].iloc[-2] > sell_threshold:\n",
        "      sell_stocks.append([data.tail(1)[\"Date\"].item(), stock, data.tail(1)[\"Close\"].item(), data.tail(1)[\"SCORE\"].item(), \"SELL\"])\n",
        "\n",
        "  except:\n",
        "    print(\"Data error at the stock named: \" + stock)"
      ],
      "metadata": {
        "id": "4y32Lax5l9cq"
      },
      "execution_count": null,
      "outputs": []
    },
    {
      "cell_type": "code",
      "source": [
        "portfolio = pd.DataFrame(portfolio, columns=[\"DATE\",\"STOCK\", \"PRICE\",\"SCORE\", \"B/S/H\"])\n",
        "portfolio = portfolio.sort_values(by='SCORE', ascending=False)\n",
        "portfolio"
      ],
      "metadata": {
        "id": "73Miv1W8IJek",
        "colab": {
          "base_uri": "https://localhost:8080/",
          "height": 49
        },
        "outputId": "7dc2054c-a644-4c10-bf89-f5c048f11e94"
      },
      "execution_count": null,
      "outputs": [
        {
          "output_type": "execute_result",
          "data": {
            "text/plain": [
              "Empty DataFrame\n",
              "Columns: [DATE, STOCK, PRICE, SCORE, B/S/H]\n",
              "Index: []"
            ],
            "text/html": [
              "\n",
              "  <div id=\"df-dae6e9d3-a565-4d9e-b7ab-70ee974f3de6\">\n",
              "    <div class=\"colab-df-container\">\n",
              "      <div>\n",
              "<style scoped>\n",
              "    .dataframe tbody tr th:only-of-type {\n",
              "        vertical-align: middle;\n",
              "    }\n",
              "\n",
              "    .dataframe tbody tr th {\n",
              "        vertical-align: top;\n",
              "    }\n",
              "\n",
              "    .dataframe thead th {\n",
              "        text-align: right;\n",
              "    }\n",
              "</style>\n",
              "<table border=\"1\" class=\"dataframe\">\n",
              "  <thead>\n",
              "    <tr style=\"text-align: right;\">\n",
              "      <th></th>\n",
              "      <th>DATE</th>\n",
              "      <th>STOCK</th>\n",
              "      <th>PRICE</th>\n",
              "      <th>SCORE</th>\n",
              "      <th>B/S/H</th>\n",
              "    </tr>\n",
              "  </thead>\n",
              "  <tbody>\n",
              "  </tbody>\n",
              "</table>\n",
              "</div>\n",
              "      <button class=\"colab-df-convert\" onclick=\"convertToInteractive('df-dae6e9d3-a565-4d9e-b7ab-70ee974f3de6')\"\n",
              "              title=\"Convert this dataframe to an interactive table.\"\n",
              "              style=\"display:none;\">\n",
              "        \n",
              "  <svg xmlns=\"http://www.w3.org/2000/svg\" height=\"24px\"viewBox=\"0 0 24 24\"\n",
              "       width=\"24px\">\n",
              "    <path d=\"M0 0h24v24H0V0z\" fill=\"none\"/>\n",
              "    <path d=\"M18.56 5.44l.94 2.06.94-2.06 2.06-.94-2.06-.94-.94-2.06-.94 2.06-2.06.94zm-11 1L8.5 8.5l.94-2.06 2.06-.94-2.06-.94L8.5 2.5l-.94 2.06-2.06.94zm10 10l.94 2.06.94-2.06 2.06-.94-2.06-.94-.94-2.06-.94 2.06-2.06.94z\"/><path d=\"M17.41 7.96l-1.37-1.37c-.4-.4-.92-.59-1.43-.59-.52 0-1.04.2-1.43.59L10.3 9.45l-7.72 7.72c-.78.78-.78 2.05 0 2.83L4 21.41c.39.39.9.59 1.41.59.51 0 1.02-.2 1.41-.59l7.78-7.78 2.81-2.81c.8-.78.8-2.07 0-2.86zM5.41 20L4 18.59l7.72-7.72 1.47 1.35L5.41 20z\"/>\n",
              "  </svg>\n",
              "      </button>\n",
              "      \n",
              "  <style>\n",
              "    .colab-df-container {\n",
              "      display:flex;\n",
              "      flex-wrap:wrap;\n",
              "      gap: 12px;\n",
              "    }\n",
              "\n",
              "    .colab-df-convert {\n",
              "      background-color: #E8F0FE;\n",
              "      border: none;\n",
              "      border-radius: 50%;\n",
              "      cursor: pointer;\n",
              "      display: none;\n",
              "      fill: #1967D2;\n",
              "      height: 32px;\n",
              "      padding: 0 0 0 0;\n",
              "      width: 32px;\n",
              "    }\n",
              "\n",
              "    .colab-df-convert:hover {\n",
              "      background-color: #E2EBFA;\n",
              "      box-shadow: 0px 1px 2px rgba(60, 64, 67, 0.3), 0px 1px 3px 1px rgba(60, 64, 67, 0.15);\n",
              "      fill: #174EA6;\n",
              "    }\n",
              "\n",
              "    [theme=dark] .colab-df-convert {\n",
              "      background-color: #3B4455;\n",
              "      fill: #D2E3FC;\n",
              "    }\n",
              "\n",
              "    [theme=dark] .colab-df-convert:hover {\n",
              "      background-color: #434B5C;\n",
              "      box-shadow: 0px 1px 3px 1px rgba(0, 0, 0, 0.15);\n",
              "      filter: drop-shadow(0px 1px 2px rgba(0, 0, 0, 0.3));\n",
              "      fill: #FFFFFF;\n",
              "    }\n",
              "  </style>\n",
              "\n",
              "      <script>\n",
              "        const buttonEl =\n",
              "          document.querySelector('#df-dae6e9d3-a565-4d9e-b7ab-70ee974f3de6 button.colab-df-convert');\n",
              "        buttonEl.style.display =\n",
              "          google.colab.kernel.accessAllowed ? 'block' : 'none';\n",
              "\n",
              "        async function convertToInteractive(key) {\n",
              "          const element = document.querySelector('#df-dae6e9d3-a565-4d9e-b7ab-70ee974f3de6');\n",
              "          const dataTable =\n",
              "            await google.colab.kernel.invokeFunction('convertToInteractive',\n",
              "                                                     [key], {});\n",
              "          if (!dataTable) return;\n",
              "\n",
              "          const docLinkHtml = 'Like what you see? Visit the ' +\n",
              "            '<a target=\"_blank\" href=https://colab.research.google.com/notebooks/data_table.ipynb>data table notebook</a>'\n",
              "            + ' to learn more about interactive tables.';\n",
              "          element.innerHTML = '';\n",
              "          dataTable['output_type'] = 'display_data';\n",
              "          await google.colab.output.renderOutput(dataTable, element);\n",
              "          const docLink = document.createElement('div');\n",
              "          docLink.innerHTML = docLinkHtml;\n",
              "          element.appendChild(docLink);\n",
              "        }\n",
              "      </script>\n",
              "    </div>\n",
              "  </div>\n",
              "  "
            ]
          },
          "metadata": {},
          "execution_count": 157
        }
      ]
    },
    {
      "cell_type": "code",
      "source": [
        "buy_stocks = pd.DataFrame(buy_stocks, columns=[\"DATE\",\"STOCK\", \"PRICE\",\"SCORE\", \"B/S/H\"])\n",
        "buy_stocks = buy_stocks.sort_values(by='SCORE', ascending=False)\n",
        "buy_stocks"
      ],
      "metadata": {
        "id": "0LGv0qSgv8JS",
        "colab": {
          "base_uri": "https://localhost:8080/",
          "height": 175
        },
        "outputId": "8e2c40d5-abec-4d42-fd6a-4533a701575e"
      },
      "execution_count": null,
      "outputs": [
        {
          "output_type": "execute_result",
          "data": {
            "text/plain": [
              "        DATE     STOCK  PRICE  SCORE B/S/H\n",
              "0 2023-06-23  EKGYO.IS   7.28  47.37   BUY\n",
              "1 2023-06-23  KOZAL.IS  23.38  43.86   BUY\n",
              "2 2023-06-23   SASA.IS  55.40  43.86   BUY\n",
              "3 2023-06-23  TCELL.IS  35.50  42.11   BUY"
            ],
            "text/html": [
              "\n",
              "  <div id=\"df-16132a4e-e98a-4807-be19-a2f672be1648\">\n",
              "    <div class=\"colab-df-container\">\n",
              "      <div>\n",
              "<style scoped>\n",
              "    .dataframe tbody tr th:only-of-type {\n",
              "        vertical-align: middle;\n",
              "    }\n",
              "\n",
              "    .dataframe tbody tr th {\n",
              "        vertical-align: top;\n",
              "    }\n",
              "\n",
              "    .dataframe thead th {\n",
              "        text-align: right;\n",
              "    }\n",
              "</style>\n",
              "<table border=\"1\" class=\"dataframe\">\n",
              "  <thead>\n",
              "    <tr style=\"text-align: right;\">\n",
              "      <th></th>\n",
              "      <th>DATE</th>\n",
              "      <th>STOCK</th>\n",
              "      <th>PRICE</th>\n",
              "      <th>SCORE</th>\n",
              "      <th>B/S/H</th>\n",
              "    </tr>\n",
              "  </thead>\n",
              "  <tbody>\n",
              "    <tr>\n",
              "      <th>0</th>\n",
              "      <td>2023-06-23</td>\n",
              "      <td>EKGYO.IS</td>\n",
              "      <td>7.28</td>\n",
              "      <td>47.37</td>\n",
              "      <td>BUY</td>\n",
              "    </tr>\n",
              "    <tr>\n",
              "      <th>1</th>\n",
              "      <td>2023-06-23</td>\n",
              "      <td>KOZAL.IS</td>\n",
              "      <td>23.38</td>\n",
              "      <td>43.86</td>\n",
              "      <td>BUY</td>\n",
              "    </tr>\n",
              "    <tr>\n",
              "      <th>2</th>\n",
              "      <td>2023-06-23</td>\n",
              "      <td>SASA.IS</td>\n",
              "      <td>55.40</td>\n",
              "      <td>43.86</td>\n",
              "      <td>BUY</td>\n",
              "    </tr>\n",
              "    <tr>\n",
              "      <th>3</th>\n",
              "      <td>2023-06-23</td>\n",
              "      <td>TCELL.IS</td>\n",
              "      <td>35.50</td>\n",
              "      <td>42.11</td>\n",
              "      <td>BUY</td>\n",
              "    </tr>\n",
              "  </tbody>\n",
              "</table>\n",
              "</div>\n",
              "      <button class=\"colab-df-convert\" onclick=\"convertToInteractive('df-16132a4e-e98a-4807-be19-a2f672be1648')\"\n",
              "              title=\"Convert this dataframe to an interactive table.\"\n",
              "              style=\"display:none;\">\n",
              "        \n",
              "  <svg xmlns=\"http://www.w3.org/2000/svg\" height=\"24px\"viewBox=\"0 0 24 24\"\n",
              "       width=\"24px\">\n",
              "    <path d=\"M0 0h24v24H0V0z\" fill=\"none\"/>\n",
              "    <path d=\"M18.56 5.44l.94 2.06.94-2.06 2.06-.94-2.06-.94-.94-2.06-.94 2.06-2.06.94zm-11 1L8.5 8.5l.94-2.06 2.06-.94-2.06-.94L8.5 2.5l-.94 2.06-2.06.94zm10 10l.94 2.06.94-2.06 2.06-.94-2.06-.94-.94-2.06-.94 2.06-2.06.94z\"/><path d=\"M17.41 7.96l-1.37-1.37c-.4-.4-.92-.59-1.43-.59-.52 0-1.04.2-1.43.59L10.3 9.45l-7.72 7.72c-.78.78-.78 2.05 0 2.83L4 21.41c.39.39.9.59 1.41.59.51 0 1.02-.2 1.41-.59l7.78-7.78 2.81-2.81c.8-.78.8-2.07 0-2.86zM5.41 20L4 18.59l7.72-7.72 1.47 1.35L5.41 20z\"/>\n",
              "  </svg>\n",
              "      </button>\n",
              "      \n",
              "  <style>\n",
              "    .colab-df-container {\n",
              "      display:flex;\n",
              "      flex-wrap:wrap;\n",
              "      gap: 12px;\n",
              "    }\n",
              "\n",
              "    .colab-df-convert {\n",
              "      background-color: #E8F0FE;\n",
              "      border: none;\n",
              "      border-radius: 50%;\n",
              "      cursor: pointer;\n",
              "      display: none;\n",
              "      fill: #1967D2;\n",
              "      height: 32px;\n",
              "      padding: 0 0 0 0;\n",
              "      width: 32px;\n",
              "    }\n",
              "\n",
              "    .colab-df-convert:hover {\n",
              "      background-color: #E2EBFA;\n",
              "      box-shadow: 0px 1px 2px rgba(60, 64, 67, 0.3), 0px 1px 3px 1px rgba(60, 64, 67, 0.15);\n",
              "      fill: #174EA6;\n",
              "    }\n",
              "\n",
              "    [theme=dark] .colab-df-convert {\n",
              "      background-color: #3B4455;\n",
              "      fill: #D2E3FC;\n",
              "    }\n",
              "\n",
              "    [theme=dark] .colab-df-convert:hover {\n",
              "      background-color: #434B5C;\n",
              "      box-shadow: 0px 1px 3px 1px rgba(0, 0, 0, 0.15);\n",
              "      filter: drop-shadow(0px 1px 2px rgba(0, 0, 0, 0.3));\n",
              "      fill: #FFFFFF;\n",
              "    }\n",
              "  </style>\n",
              "\n",
              "      <script>\n",
              "        const buttonEl =\n",
              "          document.querySelector('#df-16132a4e-e98a-4807-be19-a2f672be1648 button.colab-df-convert');\n",
              "        buttonEl.style.display =\n",
              "          google.colab.kernel.accessAllowed ? 'block' : 'none';\n",
              "\n",
              "        async function convertToInteractive(key) {\n",
              "          const element = document.querySelector('#df-16132a4e-e98a-4807-be19-a2f672be1648');\n",
              "          const dataTable =\n",
              "            await google.colab.kernel.invokeFunction('convertToInteractive',\n",
              "                                                     [key], {});\n",
              "          if (!dataTable) return;\n",
              "\n",
              "          const docLinkHtml = 'Like what you see? Visit the ' +\n",
              "            '<a target=\"_blank\" href=https://colab.research.google.com/notebooks/data_table.ipynb>data table notebook</a>'\n",
              "            + ' to learn more about interactive tables.';\n",
              "          element.innerHTML = '';\n",
              "          dataTable['output_type'] = 'display_data';\n",
              "          await google.colab.output.renderOutput(dataTable, element);\n",
              "          const docLink = document.createElement('div');\n",
              "          docLink.innerHTML = docLinkHtml;\n",
              "          element.appendChild(docLink);\n",
              "        }\n",
              "      </script>\n",
              "    </div>\n",
              "  </div>\n",
              "  "
            ]
          },
          "metadata": {},
          "execution_count": 158
        }
      ]
    },
    {
      "cell_type": "code",
      "source": [
        "sell_stocks = pd.DataFrame(sell_stocks, columns=[\"DATE\",\"STOCK\", \"PRICE\",\"SCORE\", \"B/S/H\"])\n",
        "sell_stocks = sell_stocks.sort_values(by=\"SCORE\", ascending=False)\n",
        "sell_stocks"
      ],
      "metadata": {
        "id": "OH1kbNQ10LPw",
        "colab": {
          "base_uri": "https://localhost:8080/",
          "height": 81
        },
        "outputId": "26d0c5ee-fae7-4960-a9f1-b3120c90ed21"
      },
      "execution_count": null,
      "outputs": [
        {
          "output_type": "execute_result",
          "data": {
            "text/plain": [
              "        DATE     STOCK  PRICE  SCORE B/S/H\n",
              "0 2023-06-23  TUPRS.IS  76.75  50.00  SELL"
            ],
            "text/html": [
              "\n",
              "  <div id=\"df-55883c5f-20fb-4f85-b1ee-3277fa9ae182\">\n",
              "    <div class=\"colab-df-container\">\n",
              "      <div>\n",
              "<style scoped>\n",
              "    .dataframe tbody tr th:only-of-type {\n",
              "        vertical-align: middle;\n",
              "    }\n",
              "\n",
              "    .dataframe tbody tr th {\n",
              "        vertical-align: top;\n",
              "    }\n",
              "\n",
              "    .dataframe thead th {\n",
              "        text-align: right;\n",
              "    }\n",
              "</style>\n",
              "<table border=\"1\" class=\"dataframe\">\n",
              "  <thead>\n",
              "    <tr style=\"text-align: right;\">\n",
              "      <th></th>\n",
              "      <th>DATE</th>\n",
              "      <th>STOCK</th>\n",
              "      <th>PRICE</th>\n",
              "      <th>SCORE</th>\n",
              "      <th>B/S/H</th>\n",
              "    </tr>\n",
              "  </thead>\n",
              "  <tbody>\n",
              "    <tr>\n",
              "      <th>0</th>\n",
              "      <td>2023-06-23</td>\n",
              "      <td>TUPRS.IS</td>\n",
              "      <td>76.75</td>\n",
              "      <td>50.00</td>\n",
              "      <td>SELL</td>\n",
              "    </tr>\n",
              "  </tbody>\n",
              "</table>\n",
              "</div>\n",
              "      <button class=\"colab-df-convert\" onclick=\"convertToInteractive('df-55883c5f-20fb-4f85-b1ee-3277fa9ae182')\"\n",
              "              title=\"Convert this dataframe to an interactive table.\"\n",
              "              style=\"display:none;\">\n",
              "        \n",
              "  <svg xmlns=\"http://www.w3.org/2000/svg\" height=\"24px\"viewBox=\"0 0 24 24\"\n",
              "       width=\"24px\">\n",
              "    <path d=\"M0 0h24v24H0V0z\" fill=\"none\"/>\n",
              "    <path d=\"M18.56 5.44l.94 2.06.94-2.06 2.06-.94-2.06-.94-.94-2.06-.94 2.06-2.06.94zm-11 1L8.5 8.5l.94-2.06 2.06-.94-2.06-.94L8.5 2.5l-.94 2.06-2.06.94zm10 10l.94 2.06.94-2.06 2.06-.94-2.06-.94-.94-2.06-.94 2.06-2.06.94z\"/><path d=\"M17.41 7.96l-1.37-1.37c-.4-.4-.92-.59-1.43-.59-.52 0-1.04.2-1.43.59L10.3 9.45l-7.72 7.72c-.78.78-.78 2.05 0 2.83L4 21.41c.39.39.9.59 1.41.59.51 0 1.02-.2 1.41-.59l7.78-7.78 2.81-2.81c.8-.78.8-2.07 0-2.86zM5.41 20L4 18.59l7.72-7.72 1.47 1.35L5.41 20z\"/>\n",
              "  </svg>\n",
              "      </button>\n",
              "      \n",
              "  <style>\n",
              "    .colab-df-container {\n",
              "      display:flex;\n",
              "      flex-wrap:wrap;\n",
              "      gap: 12px;\n",
              "    }\n",
              "\n",
              "    .colab-df-convert {\n",
              "      background-color: #E8F0FE;\n",
              "      border: none;\n",
              "      border-radius: 50%;\n",
              "      cursor: pointer;\n",
              "      display: none;\n",
              "      fill: #1967D2;\n",
              "      height: 32px;\n",
              "      padding: 0 0 0 0;\n",
              "      width: 32px;\n",
              "    }\n",
              "\n",
              "    .colab-df-convert:hover {\n",
              "      background-color: #E2EBFA;\n",
              "      box-shadow: 0px 1px 2px rgba(60, 64, 67, 0.3), 0px 1px 3px 1px rgba(60, 64, 67, 0.15);\n",
              "      fill: #174EA6;\n",
              "    }\n",
              "\n",
              "    [theme=dark] .colab-df-convert {\n",
              "      background-color: #3B4455;\n",
              "      fill: #D2E3FC;\n",
              "    }\n",
              "\n",
              "    [theme=dark] .colab-df-convert:hover {\n",
              "      background-color: #434B5C;\n",
              "      box-shadow: 0px 1px 3px 1px rgba(0, 0, 0, 0.15);\n",
              "      filter: drop-shadow(0px 1px 2px rgba(0, 0, 0, 0.3));\n",
              "      fill: #FFFFFF;\n",
              "    }\n",
              "  </style>\n",
              "\n",
              "      <script>\n",
              "        const buttonEl =\n",
              "          document.querySelector('#df-55883c5f-20fb-4f85-b1ee-3277fa9ae182 button.colab-df-convert');\n",
              "        buttonEl.style.display =\n",
              "          google.colab.kernel.accessAllowed ? 'block' : 'none';\n",
              "\n",
              "        async function convertToInteractive(key) {\n",
              "          const element = document.querySelector('#df-55883c5f-20fb-4f85-b1ee-3277fa9ae182');\n",
              "          const dataTable =\n",
              "            await google.colab.kernel.invokeFunction('convertToInteractive',\n",
              "                                                     [key], {});\n",
              "          if (!dataTable) return;\n",
              "\n",
              "          const docLinkHtml = 'Like what you see? Visit the ' +\n",
              "            '<a target=\"_blank\" href=https://colab.research.google.com/notebooks/data_table.ipynb>data table notebook</a>'\n",
              "            + ' to learn more about interactive tables.';\n",
              "          element.innerHTML = '';\n",
              "          dataTable['output_type'] = 'display_data';\n",
              "          await google.colab.output.renderOutput(dataTable, element);\n",
              "          const docLink = document.createElement('div');\n",
              "          docLink.innerHTML = docLinkHtml;\n",
              "          element.appendChild(docLink);\n",
              "        }\n",
              "      </script>\n",
              "    </div>\n",
              "  </div>\n",
              "  "
            ]
          },
          "metadata": {},
          "execution_count": 159
        }
      ]
    },
    {
      "cell_type": "code",
      "source": [
        "# simulation_stocks"
      ],
      "metadata": {
        "id": "QAnMWfQZe5vj"
      },
      "execution_count": null,
      "outputs": []
    },
    {
      "cell_type": "markdown",
      "source": [
        "#Profit Calculation"
      ],
      "metadata": {
        "id": "NeCOSzSCwizX"
      }
    },
    {
      "cell_type": "code",
      "source": [
        "test_df = test_the_market([\"THYAO.IS\"], buy_threshold, sell_threshold, start=start, end=end, balance=balance, today=today)\n",
        "\n",
        "profit_or_loss = []\n",
        "\n",
        "for stock in [\"THYAO.IS\"]:\n",
        "  stock_df = test_df[test_df[\"STOCK\"] == stock]\n",
        "\n",
        "  if stock_df.empty != True:\n",
        "    profit_or_loss.append([stock_df[\"STOCK\"].iloc[-1] ,stock_df['TRY BALANCE'].tail(1).item() - balance])\n",
        "\n",
        "profit_df = pd.DataFrame(profit_or_loss)\n",
        "print(\"\\nTOPLAM KÂR: \" + str(int(sum(profit_df[1]))) + \"TL\")\n",
        "profit_df"
      ],
      "metadata": {
        "id": "1TqcSZyACdDK",
        "colab": {
          "base_uri": "https://localhost:8080/",
          "height": 115
        },
        "outputId": "75ee9886-d60e-43ac-84da-54a0a4cd1120"
      },
      "execution_count": 80,
      "outputs": [
        {
          "output_type": "stream",
          "name": "stdout",
          "text": [
            "\n",
            "TOPLAM KÂR: 6351TL\n"
          ]
        },
        {
          "output_type": "execute_result",
          "data": {
            "text/plain": [
              "          0       1\n",
              "0  THYAO.IS 6351.70"
            ],
            "text/html": [
              "\n",
              "  <div id=\"df-003c49e2-f1d9-4330-a3f2-3a72b631f261\">\n",
              "    <div class=\"colab-df-container\">\n",
              "      <div>\n",
              "<style scoped>\n",
              "    .dataframe tbody tr th:only-of-type {\n",
              "        vertical-align: middle;\n",
              "    }\n",
              "\n",
              "    .dataframe tbody tr th {\n",
              "        vertical-align: top;\n",
              "    }\n",
              "\n",
              "    .dataframe thead th {\n",
              "        text-align: right;\n",
              "    }\n",
              "</style>\n",
              "<table border=\"1\" class=\"dataframe\">\n",
              "  <thead>\n",
              "    <tr style=\"text-align: right;\">\n",
              "      <th></th>\n",
              "      <th>0</th>\n",
              "      <th>1</th>\n",
              "    </tr>\n",
              "  </thead>\n",
              "  <tbody>\n",
              "    <tr>\n",
              "      <th>0</th>\n",
              "      <td>THYAO.IS</td>\n",
              "      <td>6351.70</td>\n",
              "    </tr>\n",
              "  </tbody>\n",
              "</table>\n",
              "</div>\n",
              "      <button class=\"colab-df-convert\" onclick=\"convertToInteractive('df-003c49e2-f1d9-4330-a3f2-3a72b631f261')\"\n",
              "              title=\"Convert this dataframe to an interactive table.\"\n",
              "              style=\"display:none;\">\n",
              "        \n",
              "  <svg xmlns=\"http://www.w3.org/2000/svg\" height=\"24px\"viewBox=\"0 0 24 24\"\n",
              "       width=\"24px\">\n",
              "    <path d=\"M0 0h24v24H0V0z\" fill=\"none\"/>\n",
              "    <path d=\"M18.56 5.44l.94 2.06.94-2.06 2.06-.94-2.06-.94-.94-2.06-.94 2.06-2.06.94zm-11 1L8.5 8.5l.94-2.06 2.06-.94-2.06-.94L8.5 2.5l-.94 2.06-2.06.94zm10 10l.94 2.06.94-2.06 2.06-.94-2.06-.94-.94-2.06-.94 2.06-2.06.94z\"/><path d=\"M17.41 7.96l-1.37-1.37c-.4-.4-.92-.59-1.43-.59-.52 0-1.04.2-1.43.59L10.3 9.45l-7.72 7.72c-.78.78-.78 2.05 0 2.83L4 21.41c.39.39.9.59 1.41.59.51 0 1.02-.2 1.41-.59l7.78-7.78 2.81-2.81c.8-.78.8-2.07 0-2.86zM5.41 20L4 18.59l7.72-7.72 1.47 1.35L5.41 20z\"/>\n",
              "  </svg>\n",
              "      </button>\n",
              "      \n",
              "  <style>\n",
              "    .colab-df-container {\n",
              "      display:flex;\n",
              "      flex-wrap:wrap;\n",
              "      gap: 12px;\n",
              "    }\n",
              "\n",
              "    .colab-df-convert {\n",
              "      background-color: #E8F0FE;\n",
              "      border: none;\n",
              "      border-radius: 50%;\n",
              "      cursor: pointer;\n",
              "      display: none;\n",
              "      fill: #1967D2;\n",
              "      height: 32px;\n",
              "      padding: 0 0 0 0;\n",
              "      width: 32px;\n",
              "    }\n",
              "\n",
              "    .colab-df-convert:hover {\n",
              "      background-color: #E2EBFA;\n",
              "      box-shadow: 0px 1px 2px rgba(60, 64, 67, 0.3), 0px 1px 3px 1px rgba(60, 64, 67, 0.15);\n",
              "      fill: #174EA6;\n",
              "    }\n",
              "\n",
              "    [theme=dark] .colab-df-convert {\n",
              "      background-color: #3B4455;\n",
              "      fill: #D2E3FC;\n",
              "    }\n",
              "\n",
              "    [theme=dark] .colab-df-convert:hover {\n",
              "      background-color: #434B5C;\n",
              "      box-shadow: 0px 1px 3px 1px rgba(0, 0, 0, 0.15);\n",
              "      filter: drop-shadow(0px 1px 2px rgba(0, 0, 0, 0.3));\n",
              "      fill: #FFFFFF;\n",
              "    }\n",
              "  </style>\n",
              "\n",
              "      <script>\n",
              "        const buttonEl =\n",
              "          document.querySelector('#df-003c49e2-f1d9-4330-a3f2-3a72b631f261 button.colab-df-convert');\n",
              "        buttonEl.style.display =\n",
              "          google.colab.kernel.accessAllowed ? 'block' : 'none';\n",
              "\n",
              "        async function convertToInteractive(key) {\n",
              "          const element = document.querySelector('#df-003c49e2-f1d9-4330-a3f2-3a72b631f261');\n",
              "          const dataTable =\n",
              "            await google.colab.kernel.invokeFunction('convertToInteractive',\n",
              "                                                     [key], {});\n",
              "          if (!dataTable) return;\n",
              "\n",
              "          const docLinkHtml = 'Like what you see? Visit the ' +\n",
              "            '<a target=\"_blank\" href=https://colab.research.google.com/notebooks/data_table.ipynb>data table notebook</a>'\n",
              "            + ' to learn more about interactive tables.';\n",
              "          element.innerHTML = '';\n",
              "          dataTable['output_type'] = 'display_data';\n",
              "          await google.colab.output.renderOutput(dataTable, element);\n",
              "          const docLink = document.createElement('div');\n",
              "          docLink.innerHTML = docLinkHtml;\n",
              "          element.appendChild(docLink);\n",
              "        }\n",
              "      </script>\n",
              "    </div>\n",
              "  </div>\n",
              "  "
            ]
          },
          "metadata": {},
          "execution_count": 80
        }
      ]
    },
    {
      "cell_type": "code",
      "source": [
        "test_df[test_df[\"STOCK\"] == \"THYAO.IS\"]"
      ],
      "metadata": {
        "id": "QO2wI8wQpcLo",
        "colab": {
          "base_uri": "https://localhost:8080/",
          "height": 802
        },
        "outputId": "addb1240-89b7-4516-a089-712c3150994c"
      },
      "execution_count": 82,
      "outputs": [
        {
          "output_type": "execute_result",
          "data": {
            "text/plain": [
              "       STOCK   B/S       DATE  PRICE  STOCK BALANCE  TRY BALANCE  LAST PRICE\n",
              "0   THYAO.IS   BUY 2022-03-22  28.52          70.13         0.00      189.10\n",
              "1   THYAO.IS  SELL 2022-06-08  46.72           0.00      3276.30      189.10\n",
              "2   THYAO.IS   BUY 2022-06-20  50.85          64.43         0.00      189.10\n",
              "3   THYAO.IS  SELL 2022-06-29  46.18           0.00      2975.41      189.10\n",
              "4   THYAO.IS   BUY 2022-07-07  49.20          60.48         0.00      189.10\n",
              "5   THYAO.IS  SELL 2022-09-16  73.95           0.00      4472.18      189.10\n",
              "6   THYAO.IS   BUY 2022-10-04  80.80          55.35         0.00      189.10\n",
              "7   THYAO.IS  SELL 2022-11-17 107.20           0.00      5933.39      189.10\n",
              "8   THYAO.IS   BUY 2022-11-24 111.60          53.17         0.00      189.10\n",
              "9   THYAO.IS  SELL 2022-12-30 140.90           0.00      7491.17      189.10\n",
              "10  THYAO.IS   BUY 2023-01-03 147.40          50.82         0.00      189.10\n",
              "11  THYAO.IS  SELL 2023-01-09 138.40           0.00      7033.77      189.10\n",
              "12  THYAO.IS   BUY 2023-01-17 147.40          47.72        -0.00      189.10\n",
              "13  THYAO.IS  SELL 2023-01-20 152.90           0.00      7296.22      189.10\n",
              "14  THYAO.IS   BUY 2023-01-25 151.80          48.06         0.00      189.10\n",
              "15  THYAO.IS  SELL 2023-01-30 144.80           0.00      6959.77      189.10\n",
              "16  THYAO.IS   BUY 2023-03-03 138.70          50.18         0.00      189.10\n",
              "17  THYAO.IS  SELL 2023-03-08 140.10           0.00      7030.02      189.10\n",
              "18  THYAO.IS   BUY 2023-04-06 127.20          55.27         0.00      189.10\n",
              "19  THYAO.IS  SELL 2023-04-20 134.00           0.00      7405.84      189.10\n",
              "20  THYAO.IS   BUY 2023-05-11 136.30          54.33         0.00      189.10\n",
              "21  THYAO.IS  SELL 2023-05-15 124.40           0.00      6759.26      189.10\n",
              "22  THYAO.IS   BUY 2023-05-17 137.10          49.30         0.00      189.10\n",
              "23  THYAO.IS  SELL 2023-06-21 169.40           0.00      8351.70      189.10"
            ],
            "text/html": [
              "\n",
              "  <div id=\"df-58f34450-dc52-47fd-b400-010586114ab8\">\n",
              "    <div class=\"colab-df-container\">\n",
              "      <div>\n",
              "<style scoped>\n",
              "    .dataframe tbody tr th:only-of-type {\n",
              "        vertical-align: middle;\n",
              "    }\n",
              "\n",
              "    .dataframe tbody tr th {\n",
              "        vertical-align: top;\n",
              "    }\n",
              "\n",
              "    .dataframe thead th {\n",
              "        text-align: right;\n",
              "    }\n",
              "</style>\n",
              "<table border=\"1\" class=\"dataframe\">\n",
              "  <thead>\n",
              "    <tr style=\"text-align: right;\">\n",
              "      <th></th>\n",
              "      <th>STOCK</th>\n",
              "      <th>B/S</th>\n",
              "      <th>DATE</th>\n",
              "      <th>PRICE</th>\n",
              "      <th>STOCK BALANCE</th>\n",
              "      <th>TRY BALANCE</th>\n",
              "      <th>LAST PRICE</th>\n",
              "    </tr>\n",
              "  </thead>\n",
              "  <tbody>\n",
              "    <tr>\n",
              "      <th>0</th>\n",
              "      <td>THYAO.IS</td>\n",
              "      <td>BUY</td>\n",
              "      <td>2022-03-22</td>\n",
              "      <td>28.52</td>\n",
              "      <td>70.13</td>\n",
              "      <td>0.00</td>\n",
              "      <td>189.10</td>\n",
              "    </tr>\n",
              "    <tr>\n",
              "      <th>1</th>\n",
              "      <td>THYAO.IS</td>\n",
              "      <td>SELL</td>\n",
              "      <td>2022-06-08</td>\n",
              "      <td>46.72</td>\n",
              "      <td>0.00</td>\n",
              "      <td>3276.30</td>\n",
              "      <td>189.10</td>\n",
              "    </tr>\n",
              "    <tr>\n",
              "      <th>2</th>\n",
              "      <td>THYAO.IS</td>\n",
              "      <td>BUY</td>\n",
              "      <td>2022-06-20</td>\n",
              "      <td>50.85</td>\n",
              "      <td>64.43</td>\n",
              "      <td>0.00</td>\n",
              "      <td>189.10</td>\n",
              "    </tr>\n",
              "    <tr>\n",
              "      <th>3</th>\n",
              "      <td>THYAO.IS</td>\n",
              "      <td>SELL</td>\n",
              "      <td>2022-06-29</td>\n",
              "      <td>46.18</td>\n",
              "      <td>0.00</td>\n",
              "      <td>2975.41</td>\n",
              "      <td>189.10</td>\n",
              "    </tr>\n",
              "    <tr>\n",
              "      <th>4</th>\n",
              "      <td>THYAO.IS</td>\n",
              "      <td>BUY</td>\n",
              "      <td>2022-07-07</td>\n",
              "      <td>49.20</td>\n",
              "      <td>60.48</td>\n",
              "      <td>0.00</td>\n",
              "      <td>189.10</td>\n",
              "    </tr>\n",
              "    <tr>\n",
              "      <th>5</th>\n",
              "      <td>THYAO.IS</td>\n",
              "      <td>SELL</td>\n",
              "      <td>2022-09-16</td>\n",
              "      <td>73.95</td>\n",
              "      <td>0.00</td>\n",
              "      <td>4472.18</td>\n",
              "      <td>189.10</td>\n",
              "    </tr>\n",
              "    <tr>\n",
              "      <th>6</th>\n",
              "      <td>THYAO.IS</td>\n",
              "      <td>BUY</td>\n",
              "      <td>2022-10-04</td>\n",
              "      <td>80.80</td>\n",
              "      <td>55.35</td>\n",
              "      <td>0.00</td>\n",
              "      <td>189.10</td>\n",
              "    </tr>\n",
              "    <tr>\n",
              "      <th>7</th>\n",
              "      <td>THYAO.IS</td>\n",
              "      <td>SELL</td>\n",
              "      <td>2022-11-17</td>\n",
              "      <td>107.20</td>\n",
              "      <td>0.00</td>\n",
              "      <td>5933.39</td>\n",
              "      <td>189.10</td>\n",
              "    </tr>\n",
              "    <tr>\n",
              "      <th>8</th>\n",
              "      <td>THYAO.IS</td>\n",
              "      <td>BUY</td>\n",
              "      <td>2022-11-24</td>\n",
              "      <td>111.60</td>\n",
              "      <td>53.17</td>\n",
              "      <td>0.00</td>\n",
              "      <td>189.10</td>\n",
              "    </tr>\n",
              "    <tr>\n",
              "      <th>9</th>\n",
              "      <td>THYAO.IS</td>\n",
              "      <td>SELL</td>\n",
              "      <td>2022-12-30</td>\n",
              "      <td>140.90</td>\n",
              "      <td>0.00</td>\n",
              "      <td>7491.17</td>\n",
              "      <td>189.10</td>\n",
              "    </tr>\n",
              "    <tr>\n",
              "      <th>10</th>\n",
              "      <td>THYAO.IS</td>\n",
              "      <td>BUY</td>\n",
              "      <td>2023-01-03</td>\n",
              "      <td>147.40</td>\n",
              "      <td>50.82</td>\n",
              "      <td>0.00</td>\n",
              "      <td>189.10</td>\n",
              "    </tr>\n",
              "    <tr>\n",
              "      <th>11</th>\n",
              "      <td>THYAO.IS</td>\n",
              "      <td>SELL</td>\n",
              "      <td>2023-01-09</td>\n",
              "      <td>138.40</td>\n",
              "      <td>0.00</td>\n",
              "      <td>7033.77</td>\n",
              "      <td>189.10</td>\n",
              "    </tr>\n",
              "    <tr>\n",
              "      <th>12</th>\n",
              "      <td>THYAO.IS</td>\n",
              "      <td>BUY</td>\n",
              "      <td>2023-01-17</td>\n",
              "      <td>147.40</td>\n",
              "      <td>47.72</td>\n",
              "      <td>-0.00</td>\n",
              "      <td>189.10</td>\n",
              "    </tr>\n",
              "    <tr>\n",
              "      <th>13</th>\n",
              "      <td>THYAO.IS</td>\n",
              "      <td>SELL</td>\n",
              "      <td>2023-01-20</td>\n",
              "      <td>152.90</td>\n",
              "      <td>0.00</td>\n",
              "      <td>7296.22</td>\n",
              "      <td>189.10</td>\n",
              "    </tr>\n",
              "    <tr>\n",
              "      <th>14</th>\n",
              "      <td>THYAO.IS</td>\n",
              "      <td>BUY</td>\n",
              "      <td>2023-01-25</td>\n",
              "      <td>151.80</td>\n",
              "      <td>48.06</td>\n",
              "      <td>0.00</td>\n",
              "      <td>189.10</td>\n",
              "    </tr>\n",
              "    <tr>\n",
              "      <th>15</th>\n",
              "      <td>THYAO.IS</td>\n",
              "      <td>SELL</td>\n",
              "      <td>2023-01-30</td>\n",
              "      <td>144.80</td>\n",
              "      <td>0.00</td>\n",
              "      <td>6959.77</td>\n",
              "      <td>189.10</td>\n",
              "    </tr>\n",
              "    <tr>\n",
              "      <th>16</th>\n",
              "      <td>THYAO.IS</td>\n",
              "      <td>BUY</td>\n",
              "      <td>2023-03-03</td>\n",
              "      <td>138.70</td>\n",
              "      <td>50.18</td>\n",
              "      <td>0.00</td>\n",
              "      <td>189.10</td>\n",
              "    </tr>\n",
              "    <tr>\n",
              "      <th>17</th>\n",
              "      <td>THYAO.IS</td>\n",
              "      <td>SELL</td>\n",
              "      <td>2023-03-08</td>\n",
              "      <td>140.10</td>\n",
              "      <td>0.00</td>\n",
              "      <td>7030.02</td>\n",
              "      <td>189.10</td>\n",
              "    </tr>\n",
              "    <tr>\n",
              "      <th>18</th>\n",
              "      <td>THYAO.IS</td>\n",
              "      <td>BUY</td>\n",
              "      <td>2023-04-06</td>\n",
              "      <td>127.20</td>\n",
              "      <td>55.27</td>\n",
              "      <td>0.00</td>\n",
              "      <td>189.10</td>\n",
              "    </tr>\n",
              "    <tr>\n",
              "      <th>19</th>\n",
              "      <td>THYAO.IS</td>\n",
              "      <td>SELL</td>\n",
              "      <td>2023-04-20</td>\n",
              "      <td>134.00</td>\n",
              "      <td>0.00</td>\n",
              "      <td>7405.84</td>\n",
              "      <td>189.10</td>\n",
              "    </tr>\n",
              "    <tr>\n",
              "      <th>20</th>\n",
              "      <td>THYAO.IS</td>\n",
              "      <td>BUY</td>\n",
              "      <td>2023-05-11</td>\n",
              "      <td>136.30</td>\n",
              "      <td>54.33</td>\n",
              "      <td>0.00</td>\n",
              "      <td>189.10</td>\n",
              "    </tr>\n",
              "    <tr>\n",
              "      <th>21</th>\n",
              "      <td>THYAO.IS</td>\n",
              "      <td>SELL</td>\n",
              "      <td>2023-05-15</td>\n",
              "      <td>124.40</td>\n",
              "      <td>0.00</td>\n",
              "      <td>6759.26</td>\n",
              "      <td>189.10</td>\n",
              "    </tr>\n",
              "    <tr>\n",
              "      <th>22</th>\n",
              "      <td>THYAO.IS</td>\n",
              "      <td>BUY</td>\n",
              "      <td>2023-05-17</td>\n",
              "      <td>137.10</td>\n",
              "      <td>49.30</td>\n",
              "      <td>0.00</td>\n",
              "      <td>189.10</td>\n",
              "    </tr>\n",
              "    <tr>\n",
              "      <th>23</th>\n",
              "      <td>THYAO.IS</td>\n",
              "      <td>SELL</td>\n",
              "      <td>2023-06-21</td>\n",
              "      <td>169.40</td>\n",
              "      <td>0.00</td>\n",
              "      <td>8351.70</td>\n",
              "      <td>189.10</td>\n",
              "    </tr>\n",
              "  </tbody>\n",
              "</table>\n",
              "</div>\n",
              "      <button class=\"colab-df-convert\" onclick=\"convertToInteractive('df-58f34450-dc52-47fd-b400-010586114ab8')\"\n",
              "              title=\"Convert this dataframe to an interactive table.\"\n",
              "              style=\"display:none;\">\n",
              "        \n",
              "  <svg xmlns=\"http://www.w3.org/2000/svg\" height=\"24px\"viewBox=\"0 0 24 24\"\n",
              "       width=\"24px\">\n",
              "    <path d=\"M0 0h24v24H0V0z\" fill=\"none\"/>\n",
              "    <path d=\"M18.56 5.44l.94 2.06.94-2.06 2.06-.94-2.06-.94-.94-2.06-.94 2.06-2.06.94zm-11 1L8.5 8.5l.94-2.06 2.06-.94-2.06-.94L8.5 2.5l-.94 2.06-2.06.94zm10 10l.94 2.06.94-2.06 2.06-.94-2.06-.94-.94-2.06-.94 2.06-2.06.94z\"/><path d=\"M17.41 7.96l-1.37-1.37c-.4-.4-.92-.59-1.43-.59-.52 0-1.04.2-1.43.59L10.3 9.45l-7.72 7.72c-.78.78-.78 2.05 0 2.83L4 21.41c.39.39.9.59 1.41.59.51 0 1.02-.2 1.41-.59l7.78-7.78 2.81-2.81c.8-.78.8-2.07 0-2.86zM5.41 20L4 18.59l7.72-7.72 1.47 1.35L5.41 20z\"/>\n",
              "  </svg>\n",
              "      </button>\n",
              "      \n",
              "  <style>\n",
              "    .colab-df-container {\n",
              "      display:flex;\n",
              "      flex-wrap:wrap;\n",
              "      gap: 12px;\n",
              "    }\n",
              "\n",
              "    .colab-df-convert {\n",
              "      background-color: #E8F0FE;\n",
              "      border: none;\n",
              "      border-radius: 50%;\n",
              "      cursor: pointer;\n",
              "      display: none;\n",
              "      fill: #1967D2;\n",
              "      height: 32px;\n",
              "      padding: 0 0 0 0;\n",
              "      width: 32px;\n",
              "    }\n",
              "\n",
              "    .colab-df-convert:hover {\n",
              "      background-color: #E2EBFA;\n",
              "      box-shadow: 0px 1px 2px rgba(60, 64, 67, 0.3), 0px 1px 3px 1px rgba(60, 64, 67, 0.15);\n",
              "      fill: #174EA6;\n",
              "    }\n",
              "\n",
              "    [theme=dark] .colab-df-convert {\n",
              "      background-color: #3B4455;\n",
              "      fill: #D2E3FC;\n",
              "    }\n",
              "\n",
              "    [theme=dark] .colab-df-convert:hover {\n",
              "      background-color: #434B5C;\n",
              "      box-shadow: 0px 1px 3px 1px rgba(0, 0, 0, 0.15);\n",
              "      filter: drop-shadow(0px 1px 2px rgba(0, 0, 0, 0.3));\n",
              "      fill: #FFFFFF;\n",
              "    }\n",
              "  </style>\n",
              "\n",
              "      <script>\n",
              "        const buttonEl =\n",
              "          document.querySelector('#df-58f34450-dc52-47fd-b400-010586114ab8 button.colab-df-convert');\n",
              "        buttonEl.style.display =\n",
              "          google.colab.kernel.accessAllowed ? 'block' : 'none';\n",
              "\n",
              "        async function convertToInteractive(key) {\n",
              "          const element = document.querySelector('#df-58f34450-dc52-47fd-b400-010586114ab8');\n",
              "          const dataTable =\n",
              "            await google.colab.kernel.invokeFunction('convertToInteractive',\n",
              "                                                     [key], {});\n",
              "          if (!dataTable) return;\n",
              "\n",
              "          const docLinkHtml = 'Like what you see? Visit the ' +\n",
              "            '<a target=\"_blank\" href=https://colab.research.google.com/notebooks/data_table.ipynb>data table notebook</a>'\n",
              "            + ' to learn more about interactive tables.';\n",
              "          element.innerHTML = '';\n",
              "          dataTable['output_type'] = 'display_data';\n",
              "          await google.colab.output.renderOutput(dataTable, element);\n",
              "          const docLink = document.createElement('div');\n",
              "          docLink.innerHTML = docLinkHtml;\n",
              "          element.appendChild(docLink);\n",
              "        }\n",
              "      </script>\n",
              "    </div>\n",
              "  </div>\n",
              "  "
            ]
          },
          "metadata": {},
          "execution_count": 82
        }
      ]
    },
    {
      "cell_type": "markdown",
      "source": [
        "#Graph"
      ],
      "metadata": {
        "id": "mCQ8gwSJArWT"
      }
    },
    {
      "cell_type": "code",
      "source": [
        "import plotly.graph_objects as go\n",
        "\n",
        "stock = \"VAKBN.IS\"\n",
        "data = yf.download(stock, start=\"2010-06-01\", end=end, progress=False)\n",
        "data = create_indicators(data)\n",
        "data = score(data)\n",
        "\n",
        "fig = go.Figure(data=[go.Candlestick(x=data['Date'],\n",
        "                open=data['Open'],\n",
        "                high=data['High'],\n",
        "                low=data['Low'],\n",
        "                close=data['Close'])])\n",
        "\n",
        "for row in range(test_df.shape[0]):\n",
        "  test_df[\"DATE\"].iloc[row] = str(test_df[\"DATE\"].iloc[row])[:10]\n",
        "\n",
        "filtered_df = test_df[test_df[\"STOCK\"] == stock]\n",
        "\n",
        "filtered_buy_df = filtered_df[filtered_df[\"B/S\"] == \"BUY\"][\"DATE\"]\n",
        "filtered_sell_df = filtered_df[filtered_df[\"B/S\"] == \"SELL\"][\"DATE\"]\n",
        "\n",
        "buy_dates = filtered_buy_df\n",
        "buy_dates = [datetime.strptime(date, '%Y-%m-%d').date() for date in buy_dates]\n",
        "\n",
        "buy_scatter = go.Scatter(\n",
        "    x=buy_dates,\n",
        "    y=data.loc[data['Date'].isin(buy_dates), 'Close'],\n",
        "    mode='markers',\n",
        "    marker=dict(symbol='arrow-up', size=10, color='blue'),\n",
        "    name='BUY'\n",
        ")\n",
        "\n",
        "sell_dates = filtered_sell_df\n",
        "sell_dates = [datetime.strptime(date, '%Y-%m-%d').date() for date in sell_dates]\n",
        "\n",
        "sell_scatter = go.Scatter(\n",
        "    x=sell_dates,\n",
        "    y=data.loc[data['Date'].isin(sell_dates), 'Close'],\n",
        "    mode='markers',\n",
        "    marker=dict(symbol='arrow-down', size=10, color='purple'),\n",
        "    name='SELL'\n",
        ")\n",
        "\n",
        "fig.add_trace(buy_scatter)\n",
        "fig.add_trace(sell_scatter)\n",
        "\n",
        "fig.show()"
      ],
      "metadata": {
        "id": "GV_bF0wrjYTl"
      },
      "execution_count": null,
      "outputs": []
    },
    {
      "cell_type": "markdown",
      "source": [
        "#Finding Optimal Thresholds w/ this Buying Strategy"
      ],
      "metadata": {
        "id": "tYDrDUvmwl6t"
      }
    },
    {
      "cell_type": "code",
      "source": [
        "df = pd.DataFrame()\n",
        "\n",
        "for stock in [\"THYAO.IS\"]:\n",
        "  data = yf.download(stock, start=start, end=end, progress=False)\n",
        "  data = create_indicators(data)\n",
        "  data = score(data)\n",
        "  data[\"STOCK\"] = stock\n",
        "  df = pd.concat([df, data], ignore_index=True)\n",
        "\n",
        "tries = []\n",
        "\n",
        "for buy_threshold in range(40, 80):\n",
        "  print(f\"Tried buy threshold is: {buy_threshold}\")\n",
        "  for sell_threshold in range(40, 80):\n",
        "    print(f\"Tried sell threshold is: {sell_threshold}\")\n",
        "    profit_or_loss = []\n",
        "\n",
        "    for stock in [\"THYAO.IS\"]:\n",
        "      stock_df = df[df[\"STOCK\"] == stock]\n",
        "      buy_sell_df = buy_or_sell(stock, stock_df, balance=balance, upper_score=buy_threshold, lower_score=sell_threshold)\n",
        "\n",
        "      if buy_sell_df.empty != True:\n",
        "\n",
        "        if buy_sell_df['B/S'].iloc[-1] == \"BUY\":\n",
        "          add = pd.DataFrame({\"STOCK\": [buy_sell_df[\"STOCK\"].iloc[-1]], \"B/S\": [\"CLOSE\"], \"DATE\": [today], \"PRICE\": [buy_sell_df[\"LAST PRICE\"].iloc[-1]],\n",
        "                              'STOCK BALANCE': [0], 'TRY BALANCE': [(buy_sell_df[\"STOCK BALANCE\"].iloc[-1]) * buy_sell_df[\"LAST PRICE\"].iloc[-1]], 'LAST PRICE' :[buy_sell_df[\"LAST PRICE\"].iloc[-1]]})\n",
        "\n",
        "          buy_sell_df = pd.concat([buy_sell_df, add])\n",
        "\n",
        "        if buy_sell_df['TRY BALANCE'].empty != True:\n",
        "          profit_or_loss.append(buy_sell_df['TRY BALANCE'].tail(1).item() - balance)\n",
        "\n",
        "    tries.append([buy_threshold, sell_threshold, sum(profit_or_loss)])"
      ],
      "metadata": {
        "id": "F9T_7DN0wzNg",
        "colab": {
          "base_uri": "https://localhost:8080/"
        },
        "outputId": "e30e8c7c-f02c-4811-8f5e-f7f8d56f195b"
      },
      "execution_count": 77,
      "outputs": [
        {
          "output_type": "stream",
          "name": "stdout",
          "text": [
            "Tried buy threshold is: 40\n",
            "Tried sell threshold is: 40\n",
            "Tried sell threshold is: 41\n",
            "Tried sell threshold is: 42\n",
            "Tried sell threshold is: 43\n",
            "Tried sell threshold is: 44\n",
            "Tried sell threshold is: 45\n",
            "Tried sell threshold is: 46\n",
            "Tried sell threshold is: 47\n",
            "Tried sell threshold is: 48\n",
            "Tried sell threshold is: 49\n",
            "Tried sell threshold is: 50\n",
            "Tried sell threshold is: 51\n",
            "Tried sell threshold is: 52\n",
            "Tried sell threshold is: 53\n",
            "Tried sell threshold is: 54\n",
            "Tried sell threshold is: 55\n",
            "Tried sell threshold is: 56\n",
            "Tried sell threshold is: 57\n",
            "Tried sell threshold is: 58\n",
            "Tried sell threshold is: 59\n",
            "Tried sell threshold is: 60\n",
            "Tried sell threshold is: 61\n",
            "Tried sell threshold is: 62\n",
            "Tried sell threshold is: 63\n",
            "Tried sell threshold is: 64\n",
            "Tried sell threshold is: 65\n",
            "Tried sell threshold is: 66\n",
            "Tried sell threshold is: 67\n",
            "Tried sell threshold is: 68\n",
            "Tried sell threshold is: 69\n",
            "Tried sell threshold is: 70\n",
            "Tried sell threshold is: 71\n",
            "Tried sell threshold is: 72\n",
            "Tried sell threshold is: 73\n",
            "Tried sell threshold is: 74\n",
            "Tried sell threshold is: 75\n",
            "Tried sell threshold is: 76\n",
            "Tried sell threshold is: 77\n",
            "Tried sell threshold is: 78\n",
            "Tried sell threshold is: 79\n",
            "Tried buy threshold is: 41\n",
            "Tried sell threshold is: 40\n",
            "Tried sell threshold is: 41\n",
            "Tried sell threshold is: 42\n",
            "Tried sell threshold is: 43\n",
            "Tried sell threshold is: 44\n",
            "Tried sell threshold is: 45\n",
            "Tried sell threshold is: 46\n",
            "Tried sell threshold is: 47\n",
            "Tried sell threshold is: 48\n",
            "Tried sell threshold is: 49\n",
            "Tried sell threshold is: 50\n",
            "Tried sell threshold is: 51\n",
            "Tried sell threshold is: 52\n",
            "Tried sell threshold is: 53\n",
            "Tried sell threshold is: 54\n",
            "Tried sell threshold is: 55\n",
            "Tried sell threshold is: 56\n",
            "Tried sell threshold is: 57\n",
            "Tried sell threshold is: 58\n",
            "Tried sell threshold is: 59\n",
            "Tried sell threshold is: 60\n",
            "Tried sell threshold is: 61\n",
            "Tried sell threshold is: 62\n",
            "Tried sell threshold is: 63\n",
            "Tried sell threshold is: 64\n",
            "Tried sell threshold is: 65\n",
            "Tried sell threshold is: 66\n",
            "Tried sell threshold is: 67\n",
            "Tried sell threshold is: 68\n",
            "Tried sell threshold is: 69\n",
            "Tried sell threshold is: 70\n",
            "Tried sell threshold is: 71\n",
            "Tried sell threshold is: 72\n",
            "Tried sell threshold is: 73\n",
            "Tried sell threshold is: 74\n",
            "Tried sell threshold is: 75\n",
            "Tried sell threshold is: 76\n",
            "Tried sell threshold is: 77\n",
            "Tried sell threshold is: 78\n",
            "Tried sell threshold is: 79\n",
            "Tried buy threshold is: 42\n",
            "Tried sell threshold is: 40\n",
            "Tried sell threshold is: 41\n",
            "Tried sell threshold is: 42\n",
            "Tried sell threshold is: 43\n",
            "Tried sell threshold is: 44\n",
            "Tried sell threshold is: 45\n",
            "Tried sell threshold is: 46\n",
            "Tried sell threshold is: 47\n",
            "Tried sell threshold is: 48\n",
            "Tried sell threshold is: 49\n",
            "Tried sell threshold is: 50\n",
            "Tried sell threshold is: 51\n",
            "Tried sell threshold is: 52\n",
            "Tried sell threshold is: 53\n",
            "Tried sell threshold is: 54\n",
            "Tried sell threshold is: 55\n",
            "Tried sell threshold is: 56\n",
            "Tried sell threshold is: 57\n",
            "Tried sell threshold is: 58\n",
            "Tried sell threshold is: 59\n",
            "Tried sell threshold is: 60\n",
            "Tried sell threshold is: 61\n",
            "Tried sell threshold is: 62\n",
            "Tried sell threshold is: 63\n",
            "Tried sell threshold is: 64\n",
            "Tried sell threshold is: 65\n",
            "Tried sell threshold is: 66\n",
            "Tried sell threshold is: 67\n",
            "Tried sell threshold is: 68\n",
            "Tried sell threshold is: 69\n",
            "Tried sell threshold is: 70\n",
            "Tried sell threshold is: 71\n",
            "Tried sell threshold is: 72\n",
            "Tried sell threshold is: 73\n",
            "Tried sell threshold is: 74\n",
            "Tried sell threshold is: 75\n",
            "Tried sell threshold is: 76\n",
            "Tried sell threshold is: 77\n",
            "Tried sell threshold is: 78\n",
            "Tried sell threshold is: 79\n",
            "Tried buy threshold is: 43\n",
            "Tried sell threshold is: 40\n",
            "Tried sell threshold is: 41\n",
            "Tried sell threshold is: 42\n",
            "Tried sell threshold is: 43\n",
            "Tried sell threshold is: 44\n",
            "Tried sell threshold is: 45\n",
            "Tried sell threshold is: 46\n",
            "Tried sell threshold is: 47\n",
            "Tried sell threshold is: 48\n",
            "Tried sell threshold is: 49\n",
            "Tried sell threshold is: 50\n",
            "Tried sell threshold is: 51\n",
            "Tried sell threshold is: 52\n",
            "Tried sell threshold is: 53\n",
            "Tried sell threshold is: 54\n",
            "Tried sell threshold is: 55\n",
            "Tried sell threshold is: 56\n",
            "Tried sell threshold is: 57\n",
            "Tried sell threshold is: 58\n",
            "Tried sell threshold is: 59\n",
            "Tried sell threshold is: 60\n",
            "Tried sell threshold is: 61\n",
            "Tried sell threshold is: 62\n",
            "Tried sell threshold is: 63\n",
            "Tried sell threshold is: 64\n",
            "Tried sell threshold is: 65\n",
            "Tried sell threshold is: 66\n",
            "Tried sell threshold is: 67\n",
            "Tried sell threshold is: 68\n",
            "Tried sell threshold is: 69\n",
            "Tried sell threshold is: 70\n",
            "Tried sell threshold is: 71\n",
            "Tried sell threshold is: 72\n",
            "Tried sell threshold is: 73\n",
            "Tried sell threshold is: 74\n",
            "Tried sell threshold is: 75\n",
            "Tried sell threshold is: 76\n",
            "Tried sell threshold is: 77\n",
            "Tried sell threshold is: 78\n",
            "Tried sell threshold is: 79\n",
            "Tried buy threshold is: 44\n",
            "Tried sell threshold is: 40\n",
            "Tried sell threshold is: 41\n",
            "Tried sell threshold is: 42\n",
            "Tried sell threshold is: 43\n",
            "Tried sell threshold is: 44\n",
            "Tried sell threshold is: 45\n",
            "Tried sell threshold is: 46\n",
            "Tried sell threshold is: 47\n",
            "Tried sell threshold is: 48\n",
            "Tried sell threshold is: 49\n",
            "Tried sell threshold is: 50\n",
            "Tried sell threshold is: 51\n",
            "Tried sell threshold is: 52\n",
            "Tried sell threshold is: 53\n",
            "Tried sell threshold is: 54\n",
            "Tried sell threshold is: 55\n",
            "Tried sell threshold is: 56\n",
            "Tried sell threshold is: 57\n",
            "Tried sell threshold is: 58\n",
            "Tried sell threshold is: 59\n",
            "Tried sell threshold is: 60\n",
            "Tried sell threshold is: 61\n",
            "Tried sell threshold is: 62\n",
            "Tried sell threshold is: 63\n",
            "Tried sell threshold is: 64\n",
            "Tried sell threshold is: 65\n",
            "Tried sell threshold is: 66\n",
            "Tried sell threshold is: 67\n",
            "Tried sell threshold is: 68\n",
            "Tried sell threshold is: 69\n",
            "Tried sell threshold is: 70\n",
            "Tried sell threshold is: 71\n",
            "Tried sell threshold is: 72\n",
            "Tried sell threshold is: 73\n",
            "Tried sell threshold is: 74\n",
            "Tried sell threshold is: 75\n",
            "Tried sell threshold is: 76\n",
            "Tried sell threshold is: 77\n",
            "Tried sell threshold is: 78\n",
            "Tried sell threshold is: 79\n",
            "Tried buy threshold is: 45\n",
            "Tried sell threshold is: 40\n",
            "Tried sell threshold is: 41\n",
            "Tried sell threshold is: 42\n",
            "Tried sell threshold is: 43\n",
            "Tried sell threshold is: 44\n",
            "Tried sell threshold is: 45\n",
            "Tried sell threshold is: 46\n",
            "Tried sell threshold is: 47\n",
            "Tried sell threshold is: 48\n",
            "Tried sell threshold is: 49\n",
            "Tried sell threshold is: 50\n",
            "Tried sell threshold is: 51\n",
            "Tried sell threshold is: 52\n",
            "Tried sell threshold is: 53\n",
            "Tried sell threshold is: 54\n",
            "Tried sell threshold is: 55\n",
            "Tried sell threshold is: 56\n",
            "Tried sell threshold is: 57\n",
            "Tried sell threshold is: 58\n",
            "Tried sell threshold is: 59\n",
            "Tried sell threshold is: 60\n",
            "Tried sell threshold is: 61\n",
            "Tried sell threshold is: 62\n",
            "Tried sell threshold is: 63\n",
            "Tried sell threshold is: 64\n",
            "Tried sell threshold is: 65\n",
            "Tried sell threshold is: 66\n",
            "Tried sell threshold is: 67\n",
            "Tried sell threshold is: 68\n",
            "Tried sell threshold is: 69\n",
            "Tried sell threshold is: 70\n",
            "Tried sell threshold is: 71\n",
            "Tried sell threshold is: 72\n",
            "Tried sell threshold is: 73\n",
            "Tried sell threshold is: 74\n",
            "Tried sell threshold is: 75\n",
            "Tried sell threshold is: 76\n",
            "Tried sell threshold is: 77\n",
            "Tried sell threshold is: 78\n",
            "Tried sell threshold is: 79\n",
            "Tried buy threshold is: 46\n",
            "Tried sell threshold is: 40\n",
            "Tried sell threshold is: 41\n",
            "Tried sell threshold is: 42\n",
            "Tried sell threshold is: 43\n",
            "Tried sell threshold is: 44\n",
            "Tried sell threshold is: 45\n",
            "Tried sell threshold is: 46\n",
            "Tried sell threshold is: 47\n",
            "Tried sell threshold is: 48\n",
            "Tried sell threshold is: 49\n",
            "Tried sell threshold is: 50\n",
            "Tried sell threshold is: 51\n",
            "Tried sell threshold is: 52\n",
            "Tried sell threshold is: 53\n",
            "Tried sell threshold is: 54\n",
            "Tried sell threshold is: 55\n",
            "Tried sell threshold is: 56\n",
            "Tried sell threshold is: 57\n",
            "Tried sell threshold is: 58\n",
            "Tried sell threshold is: 59\n",
            "Tried sell threshold is: 60\n",
            "Tried sell threshold is: 61\n",
            "Tried sell threshold is: 62\n",
            "Tried sell threshold is: 63\n",
            "Tried sell threshold is: 64\n",
            "Tried sell threshold is: 65\n",
            "Tried sell threshold is: 66\n",
            "Tried sell threshold is: 67\n",
            "Tried sell threshold is: 68\n",
            "Tried sell threshold is: 69\n",
            "Tried sell threshold is: 70\n",
            "Tried sell threshold is: 71\n",
            "Tried sell threshold is: 72\n",
            "Tried sell threshold is: 73\n",
            "Tried sell threshold is: 74\n",
            "Tried sell threshold is: 75\n",
            "Tried sell threshold is: 76\n",
            "Tried sell threshold is: 77\n",
            "Tried sell threshold is: 78\n",
            "Tried sell threshold is: 79\n",
            "Tried buy threshold is: 47\n",
            "Tried sell threshold is: 40\n",
            "Tried sell threshold is: 41\n",
            "Tried sell threshold is: 42\n",
            "Tried sell threshold is: 43\n",
            "Tried sell threshold is: 44\n",
            "Tried sell threshold is: 45\n",
            "Tried sell threshold is: 46\n",
            "Tried sell threshold is: 47\n",
            "Tried sell threshold is: 48\n",
            "Tried sell threshold is: 49\n",
            "Tried sell threshold is: 50\n",
            "Tried sell threshold is: 51\n",
            "Tried sell threshold is: 52\n",
            "Tried sell threshold is: 53\n",
            "Tried sell threshold is: 54\n",
            "Tried sell threshold is: 55\n",
            "Tried sell threshold is: 56\n",
            "Tried sell threshold is: 57\n",
            "Tried sell threshold is: 58\n",
            "Tried sell threshold is: 59\n",
            "Tried sell threshold is: 60\n",
            "Tried sell threshold is: 61\n",
            "Tried sell threshold is: 62\n",
            "Tried sell threshold is: 63\n",
            "Tried sell threshold is: 64\n",
            "Tried sell threshold is: 65\n",
            "Tried sell threshold is: 66\n",
            "Tried sell threshold is: 67\n",
            "Tried sell threshold is: 68\n",
            "Tried sell threshold is: 69\n",
            "Tried sell threshold is: 70\n",
            "Tried sell threshold is: 71\n",
            "Tried sell threshold is: 72\n",
            "Tried sell threshold is: 73\n",
            "Tried sell threshold is: 74\n",
            "Tried sell threshold is: 75\n",
            "Tried sell threshold is: 76\n",
            "Tried sell threshold is: 77\n",
            "Tried sell threshold is: 78\n",
            "Tried sell threshold is: 79\n",
            "Tried buy threshold is: 48\n",
            "Tried sell threshold is: 40\n",
            "Tried sell threshold is: 41\n",
            "Tried sell threshold is: 42\n",
            "Tried sell threshold is: 43\n",
            "Tried sell threshold is: 44\n",
            "Tried sell threshold is: 45\n",
            "Tried sell threshold is: 46\n",
            "Tried sell threshold is: 47\n",
            "Tried sell threshold is: 48\n",
            "Tried sell threshold is: 49\n",
            "Tried sell threshold is: 50\n",
            "Tried sell threshold is: 51\n",
            "Tried sell threshold is: 52\n",
            "Tried sell threshold is: 53\n",
            "Tried sell threshold is: 54\n",
            "Tried sell threshold is: 55\n",
            "Tried sell threshold is: 56\n",
            "Tried sell threshold is: 57\n",
            "Tried sell threshold is: 58\n",
            "Tried sell threshold is: 59\n",
            "Tried sell threshold is: 60\n",
            "Tried sell threshold is: 61\n",
            "Tried sell threshold is: 62\n",
            "Tried sell threshold is: 63\n",
            "Tried sell threshold is: 64\n",
            "Tried sell threshold is: 65\n",
            "Tried sell threshold is: 66\n",
            "Tried sell threshold is: 67\n",
            "Tried sell threshold is: 68\n",
            "Tried sell threshold is: 69\n",
            "Tried sell threshold is: 70\n",
            "Tried sell threshold is: 71\n",
            "Tried sell threshold is: 72\n",
            "Tried sell threshold is: 73\n",
            "Tried sell threshold is: 74\n",
            "Tried sell threshold is: 75\n",
            "Tried sell threshold is: 76\n",
            "Tried sell threshold is: 77\n",
            "Tried sell threshold is: 78\n",
            "Tried sell threshold is: 79\n",
            "Tried buy threshold is: 49\n",
            "Tried sell threshold is: 40\n",
            "Tried sell threshold is: 41\n",
            "Tried sell threshold is: 42\n",
            "Tried sell threshold is: 43\n",
            "Tried sell threshold is: 44\n",
            "Tried sell threshold is: 45\n",
            "Tried sell threshold is: 46\n",
            "Tried sell threshold is: 47\n",
            "Tried sell threshold is: 48\n",
            "Tried sell threshold is: 49\n",
            "Tried sell threshold is: 50\n",
            "Tried sell threshold is: 51\n",
            "Tried sell threshold is: 52\n",
            "Tried sell threshold is: 53\n",
            "Tried sell threshold is: 54\n",
            "Tried sell threshold is: 55\n",
            "Tried sell threshold is: 56\n",
            "Tried sell threshold is: 57\n",
            "Tried sell threshold is: 58\n",
            "Tried sell threshold is: 59\n",
            "Tried sell threshold is: 60\n",
            "Tried sell threshold is: 61\n",
            "Tried sell threshold is: 62\n",
            "Tried sell threshold is: 63\n",
            "Tried sell threshold is: 64\n",
            "Tried sell threshold is: 65\n",
            "Tried sell threshold is: 66\n",
            "Tried sell threshold is: 67\n",
            "Tried sell threshold is: 68\n",
            "Tried sell threshold is: 69\n",
            "Tried sell threshold is: 70\n",
            "Tried sell threshold is: 71\n",
            "Tried sell threshold is: 72\n",
            "Tried sell threshold is: 73\n",
            "Tried sell threshold is: 74\n",
            "Tried sell threshold is: 75\n",
            "Tried sell threshold is: 76\n",
            "Tried sell threshold is: 77\n",
            "Tried sell threshold is: 78\n",
            "Tried sell threshold is: 79\n",
            "Tried buy threshold is: 50\n",
            "Tried sell threshold is: 40\n",
            "Tried sell threshold is: 41\n",
            "Tried sell threshold is: 42\n",
            "Tried sell threshold is: 43\n",
            "Tried sell threshold is: 44\n",
            "Tried sell threshold is: 45\n",
            "Tried sell threshold is: 46\n",
            "Tried sell threshold is: 47\n",
            "Tried sell threshold is: 48\n",
            "Tried sell threshold is: 49\n",
            "Tried sell threshold is: 50\n",
            "Tried sell threshold is: 51\n",
            "Tried sell threshold is: 52\n",
            "Tried sell threshold is: 53\n",
            "Tried sell threshold is: 54\n",
            "Tried sell threshold is: 55\n",
            "Tried sell threshold is: 56\n",
            "Tried sell threshold is: 57\n",
            "Tried sell threshold is: 58\n",
            "Tried sell threshold is: 59\n",
            "Tried sell threshold is: 60\n",
            "Tried sell threshold is: 61\n",
            "Tried sell threshold is: 62\n",
            "Tried sell threshold is: 63\n",
            "Tried sell threshold is: 64\n",
            "Tried sell threshold is: 65\n",
            "Tried sell threshold is: 66\n",
            "Tried sell threshold is: 67\n",
            "Tried sell threshold is: 68\n",
            "Tried sell threshold is: 69\n",
            "Tried sell threshold is: 70\n",
            "Tried sell threshold is: 71\n",
            "Tried sell threshold is: 72\n",
            "Tried sell threshold is: 73\n",
            "Tried sell threshold is: 74\n",
            "Tried sell threshold is: 75\n",
            "Tried sell threshold is: 76\n",
            "Tried sell threshold is: 77\n",
            "Tried sell threshold is: 78\n",
            "Tried sell threshold is: 79\n",
            "Tried buy threshold is: 51\n",
            "Tried sell threshold is: 40\n",
            "Tried sell threshold is: 41\n",
            "Tried sell threshold is: 42\n",
            "Tried sell threshold is: 43\n",
            "Tried sell threshold is: 44\n",
            "Tried sell threshold is: 45\n",
            "Tried sell threshold is: 46\n",
            "Tried sell threshold is: 47\n",
            "Tried sell threshold is: 48\n",
            "Tried sell threshold is: 49\n",
            "Tried sell threshold is: 50\n",
            "Tried sell threshold is: 51\n",
            "Tried sell threshold is: 52\n",
            "Tried sell threshold is: 53\n",
            "Tried sell threshold is: 54\n",
            "Tried sell threshold is: 55\n",
            "Tried sell threshold is: 56\n",
            "Tried sell threshold is: 57\n",
            "Tried sell threshold is: 58\n",
            "Tried sell threshold is: 59\n",
            "Tried sell threshold is: 60\n",
            "Tried sell threshold is: 61\n",
            "Tried sell threshold is: 62\n",
            "Tried sell threshold is: 63\n",
            "Tried sell threshold is: 64\n",
            "Tried sell threshold is: 65\n",
            "Tried sell threshold is: 66\n",
            "Tried sell threshold is: 67\n",
            "Tried sell threshold is: 68\n",
            "Tried sell threshold is: 69\n",
            "Tried sell threshold is: 70\n",
            "Tried sell threshold is: 71\n",
            "Tried sell threshold is: 72\n",
            "Tried sell threshold is: 73\n",
            "Tried sell threshold is: 74\n",
            "Tried sell threshold is: 75\n",
            "Tried sell threshold is: 76\n",
            "Tried sell threshold is: 77\n",
            "Tried sell threshold is: 78\n",
            "Tried sell threshold is: 79\n",
            "Tried buy threshold is: 52\n",
            "Tried sell threshold is: 40\n",
            "Tried sell threshold is: 41\n",
            "Tried sell threshold is: 42\n",
            "Tried sell threshold is: 43\n",
            "Tried sell threshold is: 44\n",
            "Tried sell threshold is: 45\n",
            "Tried sell threshold is: 46\n",
            "Tried sell threshold is: 47\n",
            "Tried sell threshold is: 48\n",
            "Tried sell threshold is: 49\n",
            "Tried sell threshold is: 50\n",
            "Tried sell threshold is: 51\n",
            "Tried sell threshold is: 52\n",
            "Tried sell threshold is: 53\n",
            "Tried sell threshold is: 54\n",
            "Tried sell threshold is: 55\n",
            "Tried sell threshold is: 56\n",
            "Tried sell threshold is: 57\n",
            "Tried sell threshold is: 58\n",
            "Tried sell threshold is: 59\n",
            "Tried sell threshold is: 60\n",
            "Tried sell threshold is: 61\n",
            "Tried sell threshold is: 62\n",
            "Tried sell threshold is: 63\n",
            "Tried sell threshold is: 64\n",
            "Tried sell threshold is: 65\n",
            "Tried sell threshold is: 66\n",
            "Tried sell threshold is: 67\n",
            "Tried sell threshold is: 68\n",
            "Tried sell threshold is: 69\n",
            "Tried sell threshold is: 70\n",
            "Tried sell threshold is: 71\n",
            "Tried sell threshold is: 72\n",
            "Tried sell threshold is: 73\n",
            "Tried sell threshold is: 74\n",
            "Tried sell threshold is: 75\n",
            "Tried sell threshold is: 76\n",
            "Tried sell threshold is: 77\n",
            "Tried sell threshold is: 78\n",
            "Tried sell threshold is: 79\n",
            "Tried buy threshold is: 53\n",
            "Tried sell threshold is: 40\n",
            "Tried sell threshold is: 41\n",
            "Tried sell threshold is: 42\n",
            "Tried sell threshold is: 43\n",
            "Tried sell threshold is: 44\n",
            "Tried sell threshold is: 45\n",
            "Tried sell threshold is: 46\n",
            "Tried sell threshold is: 47\n",
            "Tried sell threshold is: 48\n",
            "Tried sell threshold is: 49\n",
            "Tried sell threshold is: 50\n",
            "Tried sell threshold is: 51\n",
            "Tried sell threshold is: 52\n",
            "Tried sell threshold is: 53\n",
            "Tried sell threshold is: 54\n",
            "Tried sell threshold is: 55\n",
            "Tried sell threshold is: 56\n",
            "Tried sell threshold is: 57\n",
            "Tried sell threshold is: 58\n",
            "Tried sell threshold is: 59\n",
            "Tried sell threshold is: 60\n",
            "Tried sell threshold is: 61\n",
            "Tried sell threshold is: 62\n",
            "Tried sell threshold is: 63\n",
            "Tried sell threshold is: 64\n",
            "Tried sell threshold is: 65\n",
            "Tried sell threshold is: 66\n",
            "Tried sell threshold is: 67\n",
            "Tried sell threshold is: 68\n",
            "Tried sell threshold is: 69\n",
            "Tried sell threshold is: 70\n",
            "Tried sell threshold is: 71\n",
            "Tried sell threshold is: 72\n",
            "Tried sell threshold is: 73\n",
            "Tried sell threshold is: 74\n",
            "Tried sell threshold is: 75\n",
            "Tried sell threshold is: 76\n",
            "Tried sell threshold is: 77\n",
            "Tried sell threshold is: 78\n",
            "Tried sell threshold is: 79\n",
            "Tried buy threshold is: 54\n",
            "Tried sell threshold is: 40\n",
            "Tried sell threshold is: 41\n",
            "Tried sell threshold is: 42\n",
            "Tried sell threshold is: 43\n",
            "Tried sell threshold is: 44\n",
            "Tried sell threshold is: 45\n",
            "Tried sell threshold is: 46\n",
            "Tried sell threshold is: 47\n",
            "Tried sell threshold is: 48\n",
            "Tried sell threshold is: 49\n",
            "Tried sell threshold is: 50\n",
            "Tried sell threshold is: 51\n",
            "Tried sell threshold is: 52\n",
            "Tried sell threshold is: 53\n",
            "Tried sell threshold is: 54\n",
            "Tried sell threshold is: 55\n",
            "Tried sell threshold is: 56\n",
            "Tried sell threshold is: 57\n",
            "Tried sell threshold is: 58\n",
            "Tried sell threshold is: 59\n",
            "Tried sell threshold is: 60\n",
            "Tried sell threshold is: 61\n",
            "Tried sell threshold is: 62\n",
            "Tried sell threshold is: 63\n",
            "Tried sell threshold is: 64\n",
            "Tried sell threshold is: 65\n",
            "Tried sell threshold is: 66\n",
            "Tried sell threshold is: 67\n",
            "Tried sell threshold is: 68\n",
            "Tried sell threshold is: 69\n",
            "Tried sell threshold is: 70\n",
            "Tried sell threshold is: 71\n",
            "Tried sell threshold is: 72\n",
            "Tried sell threshold is: 73\n",
            "Tried sell threshold is: 74\n",
            "Tried sell threshold is: 75\n",
            "Tried sell threshold is: 76\n",
            "Tried sell threshold is: 77\n",
            "Tried sell threshold is: 78\n",
            "Tried sell threshold is: 79\n",
            "Tried buy threshold is: 55\n",
            "Tried sell threshold is: 40\n",
            "Tried sell threshold is: 41\n",
            "Tried sell threshold is: 42\n",
            "Tried sell threshold is: 43\n",
            "Tried sell threshold is: 44\n",
            "Tried sell threshold is: 45\n",
            "Tried sell threshold is: 46\n",
            "Tried sell threshold is: 47\n",
            "Tried sell threshold is: 48\n",
            "Tried sell threshold is: 49\n",
            "Tried sell threshold is: 50\n",
            "Tried sell threshold is: 51\n",
            "Tried sell threshold is: 52\n",
            "Tried sell threshold is: 53\n",
            "Tried sell threshold is: 54\n",
            "Tried sell threshold is: 55\n",
            "Tried sell threshold is: 56\n",
            "Tried sell threshold is: 57\n",
            "Tried sell threshold is: 58\n",
            "Tried sell threshold is: 59\n",
            "Tried sell threshold is: 60\n",
            "Tried sell threshold is: 61\n",
            "Tried sell threshold is: 62\n",
            "Tried sell threshold is: 63\n",
            "Tried sell threshold is: 64\n",
            "Tried sell threshold is: 65\n",
            "Tried sell threshold is: 66\n",
            "Tried sell threshold is: 67\n",
            "Tried sell threshold is: 68\n",
            "Tried sell threshold is: 69\n",
            "Tried sell threshold is: 70\n",
            "Tried sell threshold is: 71\n",
            "Tried sell threshold is: 72\n",
            "Tried sell threshold is: 73\n",
            "Tried sell threshold is: 74\n",
            "Tried sell threshold is: 75\n",
            "Tried sell threshold is: 76\n",
            "Tried sell threshold is: 77\n",
            "Tried sell threshold is: 78\n",
            "Tried sell threshold is: 79\n",
            "Tried buy threshold is: 56\n",
            "Tried sell threshold is: 40\n",
            "Tried sell threshold is: 41\n",
            "Tried sell threshold is: 42\n",
            "Tried sell threshold is: 43\n",
            "Tried sell threshold is: 44\n",
            "Tried sell threshold is: 45\n",
            "Tried sell threshold is: 46\n",
            "Tried sell threshold is: 47\n",
            "Tried sell threshold is: 48\n",
            "Tried sell threshold is: 49\n",
            "Tried sell threshold is: 50\n",
            "Tried sell threshold is: 51\n",
            "Tried sell threshold is: 52\n",
            "Tried sell threshold is: 53\n",
            "Tried sell threshold is: 54\n",
            "Tried sell threshold is: 55\n",
            "Tried sell threshold is: 56\n",
            "Tried sell threshold is: 57\n",
            "Tried sell threshold is: 58\n",
            "Tried sell threshold is: 59\n",
            "Tried sell threshold is: 60\n",
            "Tried sell threshold is: 61\n",
            "Tried sell threshold is: 62\n",
            "Tried sell threshold is: 63\n",
            "Tried sell threshold is: 64\n",
            "Tried sell threshold is: 65\n",
            "Tried sell threshold is: 66\n",
            "Tried sell threshold is: 67\n",
            "Tried sell threshold is: 68\n",
            "Tried sell threshold is: 69\n",
            "Tried sell threshold is: 70\n",
            "Tried sell threshold is: 71\n",
            "Tried sell threshold is: 72\n",
            "Tried sell threshold is: 73\n",
            "Tried sell threshold is: 74\n",
            "Tried sell threshold is: 75\n",
            "Tried sell threshold is: 76\n",
            "Tried sell threshold is: 77\n",
            "Tried sell threshold is: 78\n",
            "Tried sell threshold is: 79\n",
            "Tried buy threshold is: 57\n",
            "Tried sell threshold is: 40\n",
            "Tried sell threshold is: 41\n",
            "Tried sell threshold is: 42\n",
            "Tried sell threshold is: 43\n",
            "Tried sell threshold is: 44\n",
            "Tried sell threshold is: 45\n",
            "Tried sell threshold is: 46\n",
            "Tried sell threshold is: 47\n",
            "Tried sell threshold is: 48\n",
            "Tried sell threshold is: 49\n",
            "Tried sell threshold is: 50\n",
            "Tried sell threshold is: 51\n",
            "Tried sell threshold is: 52\n",
            "Tried sell threshold is: 53\n",
            "Tried sell threshold is: 54\n",
            "Tried sell threshold is: 55\n",
            "Tried sell threshold is: 56\n",
            "Tried sell threshold is: 57\n",
            "Tried sell threshold is: 58\n",
            "Tried sell threshold is: 59\n",
            "Tried sell threshold is: 60\n",
            "Tried sell threshold is: 61\n",
            "Tried sell threshold is: 62\n",
            "Tried sell threshold is: 63\n",
            "Tried sell threshold is: 64\n",
            "Tried sell threshold is: 65\n",
            "Tried sell threshold is: 66\n",
            "Tried sell threshold is: 67\n",
            "Tried sell threshold is: 68\n",
            "Tried sell threshold is: 69\n",
            "Tried sell threshold is: 70\n",
            "Tried sell threshold is: 71\n",
            "Tried sell threshold is: 72\n",
            "Tried sell threshold is: 73\n",
            "Tried sell threshold is: 74\n",
            "Tried sell threshold is: 75\n",
            "Tried sell threshold is: 76\n",
            "Tried sell threshold is: 77\n",
            "Tried sell threshold is: 78\n",
            "Tried sell threshold is: 79\n",
            "Tried buy threshold is: 58\n",
            "Tried sell threshold is: 40\n",
            "Tried sell threshold is: 41\n",
            "Tried sell threshold is: 42\n",
            "Tried sell threshold is: 43\n",
            "Tried sell threshold is: 44\n",
            "Tried sell threshold is: 45\n",
            "Tried sell threshold is: 46\n",
            "Tried sell threshold is: 47\n",
            "Tried sell threshold is: 48\n",
            "Tried sell threshold is: 49\n",
            "Tried sell threshold is: 50\n",
            "Tried sell threshold is: 51\n",
            "Tried sell threshold is: 52\n",
            "Tried sell threshold is: 53\n",
            "Tried sell threshold is: 54\n",
            "Tried sell threshold is: 55\n",
            "Tried sell threshold is: 56\n",
            "Tried sell threshold is: 57\n",
            "Tried sell threshold is: 58\n",
            "Tried sell threshold is: 59\n",
            "Tried sell threshold is: 60\n",
            "Tried sell threshold is: 61\n",
            "Tried sell threshold is: 62\n",
            "Tried sell threshold is: 63\n",
            "Tried sell threshold is: 64\n",
            "Tried sell threshold is: 65\n",
            "Tried sell threshold is: 66\n",
            "Tried sell threshold is: 67\n",
            "Tried sell threshold is: 68\n",
            "Tried sell threshold is: 69\n",
            "Tried sell threshold is: 70\n",
            "Tried sell threshold is: 71\n",
            "Tried sell threshold is: 72\n",
            "Tried sell threshold is: 73\n",
            "Tried sell threshold is: 74\n",
            "Tried sell threshold is: 75\n",
            "Tried sell threshold is: 76\n",
            "Tried sell threshold is: 77\n",
            "Tried sell threshold is: 78\n",
            "Tried sell threshold is: 79\n",
            "Tried buy threshold is: 59\n",
            "Tried sell threshold is: 40\n",
            "Tried sell threshold is: 41\n",
            "Tried sell threshold is: 42\n",
            "Tried sell threshold is: 43\n",
            "Tried sell threshold is: 44\n",
            "Tried sell threshold is: 45\n",
            "Tried sell threshold is: 46\n",
            "Tried sell threshold is: 47\n",
            "Tried sell threshold is: 48\n",
            "Tried sell threshold is: 49\n",
            "Tried sell threshold is: 50\n",
            "Tried sell threshold is: 51\n",
            "Tried sell threshold is: 52\n",
            "Tried sell threshold is: 53\n",
            "Tried sell threshold is: 54\n",
            "Tried sell threshold is: 55\n",
            "Tried sell threshold is: 56\n",
            "Tried sell threshold is: 57\n",
            "Tried sell threshold is: 58\n",
            "Tried sell threshold is: 59\n",
            "Tried sell threshold is: 60\n",
            "Tried sell threshold is: 61\n",
            "Tried sell threshold is: 62\n",
            "Tried sell threshold is: 63\n",
            "Tried sell threshold is: 64\n",
            "Tried sell threshold is: 65\n",
            "Tried sell threshold is: 66\n",
            "Tried sell threshold is: 67\n",
            "Tried sell threshold is: 68\n",
            "Tried sell threshold is: 69\n",
            "Tried sell threshold is: 70\n",
            "Tried sell threshold is: 71\n",
            "Tried sell threshold is: 72\n",
            "Tried sell threshold is: 73\n",
            "Tried sell threshold is: 74\n",
            "Tried sell threshold is: 75\n",
            "Tried sell threshold is: 76\n",
            "Tried sell threshold is: 77\n",
            "Tried sell threshold is: 78\n",
            "Tried sell threshold is: 79\n",
            "Tried buy threshold is: 60\n",
            "Tried sell threshold is: 40\n",
            "Tried sell threshold is: 41\n",
            "Tried sell threshold is: 42\n",
            "Tried sell threshold is: 43\n",
            "Tried sell threshold is: 44\n",
            "Tried sell threshold is: 45\n",
            "Tried sell threshold is: 46\n",
            "Tried sell threshold is: 47\n",
            "Tried sell threshold is: 48\n",
            "Tried sell threshold is: 49\n",
            "Tried sell threshold is: 50\n",
            "Tried sell threshold is: 51\n",
            "Tried sell threshold is: 52\n",
            "Tried sell threshold is: 53\n",
            "Tried sell threshold is: 54\n",
            "Tried sell threshold is: 55\n",
            "Tried sell threshold is: 56\n",
            "Tried sell threshold is: 57\n",
            "Tried sell threshold is: 58\n",
            "Tried sell threshold is: 59\n",
            "Tried sell threshold is: 60\n",
            "Tried sell threshold is: 61\n",
            "Tried sell threshold is: 62\n",
            "Tried sell threshold is: 63\n",
            "Tried sell threshold is: 64\n",
            "Tried sell threshold is: 65\n",
            "Tried sell threshold is: 66\n",
            "Tried sell threshold is: 67\n",
            "Tried sell threshold is: 68\n",
            "Tried sell threshold is: 69\n",
            "Tried sell threshold is: 70\n",
            "Tried sell threshold is: 71\n",
            "Tried sell threshold is: 72\n",
            "Tried sell threshold is: 73\n",
            "Tried sell threshold is: 74\n",
            "Tried sell threshold is: 75\n",
            "Tried sell threshold is: 76\n",
            "Tried sell threshold is: 77\n",
            "Tried sell threshold is: 78\n",
            "Tried sell threshold is: 79\n",
            "Tried buy threshold is: 61\n",
            "Tried sell threshold is: 40\n",
            "Tried sell threshold is: 41\n",
            "Tried sell threshold is: 42\n",
            "Tried sell threshold is: 43\n",
            "Tried sell threshold is: 44\n",
            "Tried sell threshold is: 45\n",
            "Tried sell threshold is: 46\n",
            "Tried sell threshold is: 47\n",
            "Tried sell threshold is: 48\n",
            "Tried sell threshold is: 49\n",
            "Tried sell threshold is: 50\n",
            "Tried sell threshold is: 51\n",
            "Tried sell threshold is: 52\n",
            "Tried sell threshold is: 53\n",
            "Tried sell threshold is: 54\n",
            "Tried sell threshold is: 55\n",
            "Tried sell threshold is: 56\n",
            "Tried sell threshold is: 57\n",
            "Tried sell threshold is: 58\n",
            "Tried sell threshold is: 59\n",
            "Tried sell threshold is: 60\n",
            "Tried sell threshold is: 61\n",
            "Tried sell threshold is: 62\n",
            "Tried sell threshold is: 63\n",
            "Tried sell threshold is: 64\n",
            "Tried sell threshold is: 65\n",
            "Tried sell threshold is: 66\n",
            "Tried sell threshold is: 67\n",
            "Tried sell threshold is: 68\n",
            "Tried sell threshold is: 69\n",
            "Tried sell threshold is: 70\n",
            "Tried sell threshold is: 71\n",
            "Tried sell threshold is: 72\n",
            "Tried sell threshold is: 73\n",
            "Tried sell threshold is: 74\n",
            "Tried sell threshold is: 75\n",
            "Tried sell threshold is: 76\n",
            "Tried sell threshold is: 77\n",
            "Tried sell threshold is: 78\n",
            "Tried sell threshold is: 79\n",
            "Tried buy threshold is: 62\n",
            "Tried sell threshold is: 40\n",
            "Tried sell threshold is: 41\n",
            "Tried sell threshold is: 42\n",
            "Tried sell threshold is: 43\n",
            "Tried sell threshold is: 44\n",
            "Tried sell threshold is: 45\n",
            "Tried sell threshold is: 46\n",
            "Tried sell threshold is: 47\n",
            "Tried sell threshold is: 48\n",
            "Tried sell threshold is: 49\n",
            "Tried sell threshold is: 50\n",
            "Tried sell threshold is: 51\n",
            "Tried sell threshold is: 52\n",
            "Tried sell threshold is: 53\n",
            "Tried sell threshold is: 54\n",
            "Tried sell threshold is: 55\n",
            "Tried sell threshold is: 56\n",
            "Tried sell threshold is: 57\n",
            "Tried sell threshold is: 58\n",
            "Tried sell threshold is: 59\n",
            "Tried sell threshold is: 60\n",
            "Tried sell threshold is: 61\n",
            "Tried sell threshold is: 62\n",
            "Tried sell threshold is: 63\n",
            "Tried sell threshold is: 64\n",
            "Tried sell threshold is: 65\n",
            "Tried sell threshold is: 66\n",
            "Tried sell threshold is: 67\n",
            "Tried sell threshold is: 68\n",
            "Tried sell threshold is: 69\n",
            "Tried sell threshold is: 70\n",
            "Tried sell threshold is: 71\n",
            "Tried sell threshold is: 72\n",
            "Tried sell threshold is: 73\n",
            "Tried sell threshold is: 74\n",
            "Tried sell threshold is: 75\n",
            "Tried sell threshold is: 76\n",
            "Tried sell threshold is: 77\n",
            "Tried sell threshold is: 78\n",
            "Tried sell threshold is: 79\n",
            "Tried buy threshold is: 63\n",
            "Tried sell threshold is: 40\n",
            "Tried sell threshold is: 41\n",
            "Tried sell threshold is: 42\n",
            "Tried sell threshold is: 43\n",
            "Tried sell threshold is: 44\n",
            "Tried sell threshold is: 45\n",
            "Tried sell threshold is: 46\n",
            "Tried sell threshold is: 47\n",
            "Tried sell threshold is: 48\n",
            "Tried sell threshold is: 49\n",
            "Tried sell threshold is: 50\n",
            "Tried sell threshold is: 51\n",
            "Tried sell threshold is: 52\n",
            "Tried sell threshold is: 53\n",
            "Tried sell threshold is: 54\n",
            "Tried sell threshold is: 55\n",
            "Tried sell threshold is: 56\n",
            "Tried sell threshold is: 57\n",
            "Tried sell threshold is: 58\n",
            "Tried sell threshold is: 59\n",
            "Tried sell threshold is: 60\n",
            "Tried sell threshold is: 61\n",
            "Tried sell threshold is: 62\n",
            "Tried sell threshold is: 63\n",
            "Tried sell threshold is: 64\n",
            "Tried sell threshold is: 65\n",
            "Tried sell threshold is: 66\n",
            "Tried sell threshold is: 67\n",
            "Tried sell threshold is: 68\n",
            "Tried sell threshold is: 69\n",
            "Tried sell threshold is: 70\n",
            "Tried sell threshold is: 71\n",
            "Tried sell threshold is: 72\n",
            "Tried sell threshold is: 73\n",
            "Tried sell threshold is: 74\n",
            "Tried sell threshold is: 75\n",
            "Tried sell threshold is: 76\n",
            "Tried sell threshold is: 77\n",
            "Tried sell threshold is: 78\n",
            "Tried sell threshold is: 79\n",
            "Tried buy threshold is: 64\n",
            "Tried sell threshold is: 40\n",
            "Tried sell threshold is: 41\n",
            "Tried sell threshold is: 42\n",
            "Tried sell threshold is: 43\n",
            "Tried sell threshold is: 44\n",
            "Tried sell threshold is: 45\n",
            "Tried sell threshold is: 46\n",
            "Tried sell threshold is: 47\n",
            "Tried sell threshold is: 48\n",
            "Tried sell threshold is: 49\n",
            "Tried sell threshold is: 50\n",
            "Tried sell threshold is: 51\n",
            "Tried sell threshold is: 52\n",
            "Tried sell threshold is: 53\n",
            "Tried sell threshold is: 54\n",
            "Tried sell threshold is: 55\n",
            "Tried sell threshold is: 56\n",
            "Tried sell threshold is: 57\n",
            "Tried sell threshold is: 58\n",
            "Tried sell threshold is: 59\n",
            "Tried sell threshold is: 60\n",
            "Tried sell threshold is: 61\n",
            "Tried sell threshold is: 62\n",
            "Tried sell threshold is: 63\n",
            "Tried sell threshold is: 64\n",
            "Tried sell threshold is: 65\n",
            "Tried sell threshold is: 66\n",
            "Tried sell threshold is: 67\n",
            "Tried sell threshold is: 68\n",
            "Tried sell threshold is: 69\n",
            "Tried sell threshold is: 70\n",
            "Tried sell threshold is: 71\n",
            "Tried sell threshold is: 72\n",
            "Tried sell threshold is: 73\n",
            "Tried sell threshold is: 74\n",
            "Tried sell threshold is: 75\n",
            "Tried sell threshold is: 76\n",
            "Tried sell threshold is: 77\n",
            "Tried sell threshold is: 78\n",
            "Tried sell threshold is: 79\n",
            "Tried buy threshold is: 65\n",
            "Tried sell threshold is: 40\n",
            "Tried sell threshold is: 41\n",
            "Tried sell threshold is: 42\n",
            "Tried sell threshold is: 43\n",
            "Tried sell threshold is: 44\n",
            "Tried sell threshold is: 45\n",
            "Tried sell threshold is: 46\n",
            "Tried sell threshold is: 47\n",
            "Tried sell threshold is: 48\n",
            "Tried sell threshold is: 49\n",
            "Tried sell threshold is: 50\n",
            "Tried sell threshold is: 51\n",
            "Tried sell threshold is: 52\n",
            "Tried sell threshold is: 53\n",
            "Tried sell threshold is: 54\n",
            "Tried sell threshold is: 55\n",
            "Tried sell threshold is: 56\n",
            "Tried sell threshold is: 57\n",
            "Tried sell threshold is: 58\n",
            "Tried sell threshold is: 59\n",
            "Tried sell threshold is: 60\n",
            "Tried sell threshold is: 61\n",
            "Tried sell threshold is: 62\n",
            "Tried sell threshold is: 63\n",
            "Tried sell threshold is: 64\n",
            "Tried sell threshold is: 65\n",
            "Tried sell threshold is: 66\n",
            "Tried sell threshold is: 67\n",
            "Tried sell threshold is: 68\n",
            "Tried sell threshold is: 69\n",
            "Tried sell threshold is: 70\n",
            "Tried sell threshold is: 71\n",
            "Tried sell threshold is: 72\n",
            "Tried sell threshold is: 73\n",
            "Tried sell threshold is: 74\n",
            "Tried sell threshold is: 75\n",
            "Tried sell threshold is: 76\n",
            "Tried sell threshold is: 77\n",
            "Tried sell threshold is: 78\n",
            "Tried sell threshold is: 79\n",
            "Tried buy threshold is: 66\n",
            "Tried sell threshold is: 40\n",
            "Tried sell threshold is: 41\n",
            "Tried sell threshold is: 42\n",
            "Tried sell threshold is: 43\n",
            "Tried sell threshold is: 44\n",
            "Tried sell threshold is: 45\n",
            "Tried sell threshold is: 46\n",
            "Tried sell threshold is: 47\n",
            "Tried sell threshold is: 48\n",
            "Tried sell threshold is: 49\n",
            "Tried sell threshold is: 50\n",
            "Tried sell threshold is: 51\n",
            "Tried sell threshold is: 52\n",
            "Tried sell threshold is: 53\n",
            "Tried sell threshold is: 54\n",
            "Tried sell threshold is: 55\n",
            "Tried sell threshold is: 56\n",
            "Tried sell threshold is: 57\n",
            "Tried sell threshold is: 58\n",
            "Tried sell threshold is: 59\n",
            "Tried sell threshold is: 60\n",
            "Tried sell threshold is: 61\n",
            "Tried sell threshold is: 62\n",
            "Tried sell threshold is: 63\n",
            "Tried sell threshold is: 64\n",
            "Tried sell threshold is: 65\n",
            "Tried sell threshold is: 66\n",
            "Tried sell threshold is: 67\n",
            "Tried sell threshold is: 68\n",
            "Tried sell threshold is: 69\n",
            "Tried sell threshold is: 70\n",
            "Tried sell threshold is: 71\n",
            "Tried sell threshold is: 72\n",
            "Tried sell threshold is: 73\n",
            "Tried sell threshold is: 74\n",
            "Tried sell threshold is: 75\n",
            "Tried sell threshold is: 76\n",
            "Tried sell threshold is: 77\n",
            "Tried sell threshold is: 78\n",
            "Tried sell threshold is: 79\n",
            "Tried buy threshold is: 67\n",
            "Tried sell threshold is: 40\n",
            "Tried sell threshold is: 41\n",
            "Tried sell threshold is: 42\n",
            "Tried sell threshold is: 43\n",
            "Tried sell threshold is: 44\n",
            "Tried sell threshold is: 45\n",
            "Tried sell threshold is: 46\n",
            "Tried sell threshold is: 47\n",
            "Tried sell threshold is: 48\n",
            "Tried sell threshold is: 49\n",
            "Tried sell threshold is: 50\n",
            "Tried sell threshold is: 51\n",
            "Tried sell threshold is: 52\n",
            "Tried sell threshold is: 53\n",
            "Tried sell threshold is: 54\n",
            "Tried sell threshold is: 55\n",
            "Tried sell threshold is: 56\n",
            "Tried sell threshold is: 57\n",
            "Tried sell threshold is: 58\n",
            "Tried sell threshold is: 59\n",
            "Tried sell threshold is: 60\n",
            "Tried sell threshold is: 61\n",
            "Tried sell threshold is: 62\n",
            "Tried sell threshold is: 63\n",
            "Tried sell threshold is: 64\n",
            "Tried sell threshold is: 65\n",
            "Tried sell threshold is: 66\n",
            "Tried sell threshold is: 67\n",
            "Tried sell threshold is: 68\n",
            "Tried sell threshold is: 69\n",
            "Tried sell threshold is: 70\n",
            "Tried sell threshold is: 71\n",
            "Tried sell threshold is: 72\n",
            "Tried sell threshold is: 73\n",
            "Tried sell threshold is: 74\n",
            "Tried sell threshold is: 75\n",
            "Tried sell threshold is: 76\n",
            "Tried sell threshold is: 77\n",
            "Tried sell threshold is: 78\n",
            "Tried sell threshold is: 79\n",
            "Tried buy threshold is: 68\n",
            "Tried sell threshold is: 40\n",
            "Tried sell threshold is: 41\n",
            "Tried sell threshold is: 42\n",
            "Tried sell threshold is: 43\n",
            "Tried sell threshold is: 44\n",
            "Tried sell threshold is: 45\n",
            "Tried sell threshold is: 46\n",
            "Tried sell threshold is: 47\n",
            "Tried sell threshold is: 48\n",
            "Tried sell threshold is: 49\n",
            "Tried sell threshold is: 50\n",
            "Tried sell threshold is: 51\n",
            "Tried sell threshold is: 52\n",
            "Tried sell threshold is: 53\n",
            "Tried sell threshold is: 54\n",
            "Tried sell threshold is: 55\n",
            "Tried sell threshold is: 56\n",
            "Tried sell threshold is: 57\n",
            "Tried sell threshold is: 58\n",
            "Tried sell threshold is: 59\n",
            "Tried sell threshold is: 60\n",
            "Tried sell threshold is: 61\n",
            "Tried sell threshold is: 62\n",
            "Tried sell threshold is: 63\n",
            "Tried sell threshold is: 64\n",
            "Tried sell threshold is: 65\n",
            "Tried sell threshold is: 66\n",
            "Tried sell threshold is: 67\n",
            "Tried sell threshold is: 68\n",
            "Tried sell threshold is: 69\n",
            "Tried sell threshold is: 70\n",
            "Tried sell threshold is: 71\n",
            "Tried sell threshold is: 72\n",
            "Tried sell threshold is: 73\n",
            "Tried sell threshold is: 74\n",
            "Tried sell threshold is: 75\n",
            "Tried sell threshold is: 76\n",
            "Tried sell threshold is: 77\n",
            "Tried sell threshold is: 78\n",
            "Tried sell threshold is: 79\n",
            "Tried buy threshold is: 69\n",
            "Tried sell threshold is: 40\n",
            "Tried sell threshold is: 41\n",
            "Tried sell threshold is: 42\n",
            "Tried sell threshold is: 43\n",
            "Tried sell threshold is: 44\n",
            "Tried sell threshold is: 45\n",
            "Tried sell threshold is: 46\n",
            "Tried sell threshold is: 47\n",
            "Tried sell threshold is: 48\n",
            "Tried sell threshold is: 49\n",
            "Tried sell threshold is: 50\n",
            "Tried sell threshold is: 51\n",
            "Tried sell threshold is: 52\n",
            "Tried sell threshold is: 53\n",
            "Tried sell threshold is: 54\n",
            "Tried sell threshold is: 55\n",
            "Tried sell threshold is: 56\n",
            "Tried sell threshold is: 57\n",
            "Tried sell threshold is: 58\n",
            "Tried sell threshold is: 59\n",
            "Tried sell threshold is: 60\n",
            "Tried sell threshold is: 61\n",
            "Tried sell threshold is: 62\n",
            "Tried sell threshold is: 63\n",
            "Tried sell threshold is: 64\n",
            "Tried sell threshold is: 65\n",
            "Tried sell threshold is: 66\n",
            "Tried sell threshold is: 67\n",
            "Tried sell threshold is: 68\n",
            "Tried sell threshold is: 69\n",
            "Tried sell threshold is: 70\n",
            "Tried sell threshold is: 71\n",
            "Tried sell threshold is: 72\n",
            "Tried sell threshold is: 73\n",
            "Tried sell threshold is: 74\n",
            "Tried sell threshold is: 75\n",
            "Tried sell threshold is: 76\n",
            "Tried sell threshold is: 77\n",
            "Tried sell threshold is: 78\n",
            "Tried sell threshold is: 79\n",
            "Tried buy threshold is: 70\n",
            "Tried sell threshold is: 40\n",
            "Tried sell threshold is: 41\n",
            "Tried sell threshold is: 42\n",
            "Tried sell threshold is: 43\n",
            "Tried sell threshold is: 44\n",
            "Tried sell threshold is: 45\n",
            "Tried sell threshold is: 46\n",
            "Tried sell threshold is: 47\n",
            "Tried sell threshold is: 48\n",
            "Tried sell threshold is: 49\n",
            "Tried sell threshold is: 50\n",
            "Tried sell threshold is: 51\n",
            "Tried sell threshold is: 52\n",
            "Tried sell threshold is: 53\n",
            "Tried sell threshold is: 54\n",
            "Tried sell threshold is: 55\n",
            "Tried sell threshold is: 56\n",
            "Tried sell threshold is: 57\n",
            "Tried sell threshold is: 58\n",
            "Tried sell threshold is: 59\n",
            "Tried sell threshold is: 60\n",
            "Tried sell threshold is: 61\n",
            "Tried sell threshold is: 62\n",
            "Tried sell threshold is: 63\n",
            "Tried sell threshold is: 64\n",
            "Tried sell threshold is: 65\n",
            "Tried sell threshold is: 66\n",
            "Tried sell threshold is: 67\n",
            "Tried sell threshold is: 68\n",
            "Tried sell threshold is: 69\n",
            "Tried sell threshold is: 70\n",
            "Tried sell threshold is: 71\n",
            "Tried sell threshold is: 72\n",
            "Tried sell threshold is: 73\n",
            "Tried sell threshold is: 74\n",
            "Tried sell threshold is: 75\n",
            "Tried sell threshold is: 76\n",
            "Tried sell threshold is: 77\n",
            "Tried sell threshold is: 78\n",
            "Tried sell threshold is: 79\n",
            "Tried buy threshold is: 71\n",
            "Tried sell threshold is: 40\n",
            "Tried sell threshold is: 41\n",
            "Tried sell threshold is: 42\n",
            "Tried sell threshold is: 43\n",
            "Tried sell threshold is: 44\n",
            "Tried sell threshold is: 45\n",
            "Tried sell threshold is: 46\n",
            "Tried sell threshold is: 47\n",
            "Tried sell threshold is: 48\n",
            "Tried sell threshold is: 49\n",
            "Tried sell threshold is: 50\n",
            "Tried sell threshold is: 51\n",
            "Tried sell threshold is: 52\n",
            "Tried sell threshold is: 53\n",
            "Tried sell threshold is: 54\n",
            "Tried sell threshold is: 55\n",
            "Tried sell threshold is: 56\n",
            "Tried sell threshold is: 57\n",
            "Tried sell threshold is: 58\n",
            "Tried sell threshold is: 59\n",
            "Tried sell threshold is: 60\n",
            "Tried sell threshold is: 61\n",
            "Tried sell threshold is: 62\n",
            "Tried sell threshold is: 63\n",
            "Tried sell threshold is: 64\n",
            "Tried sell threshold is: 65\n",
            "Tried sell threshold is: 66\n",
            "Tried sell threshold is: 67\n",
            "Tried sell threshold is: 68\n",
            "Tried sell threshold is: 69\n",
            "Tried sell threshold is: 70\n",
            "Tried sell threshold is: 71\n",
            "Tried sell threshold is: 72\n",
            "Tried sell threshold is: 73\n",
            "Tried sell threshold is: 74\n",
            "Tried sell threshold is: 75\n",
            "Tried sell threshold is: 76\n",
            "Tried sell threshold is: 77\n",
            "Tried sell threshold is: 78\n",
            "Tried sell threshold is: 79\n",
            "Tried buy threshold is: 72\n",
            "Tried sell threshold is: 40\n",
            "Tried sell threshold is: 41\n",
            "Tried sell threshold is: 42\n",
            "Tried sell threshold is: 43\n",
            "Tried sell threshold is: 44\n",
            "Tried sell threshold is: 45\n",
            "Tried sell threshold is: 46\n",
            "Tried sell threshold is: 47\n",
            "Tried sell threshold is: 48\n",
            "Tried sell threshold is: 49\n",
            "Tried sell threshold is: 50\n",
            "Tried sell threshold is: 51\n",
            "Tried sell threshold is: 52\n",
            "Tried sell threshold is: 53\n",
            "Tried sell threshold is: 54\n",
            "Tried sell threshold is: 55\n",
            "Tried sell threshold is: 56\n",
            "Tried sell threshold is: 57\n",
            "Tried sell threshold is: 58\n",
            "Tried sell threshold is: 59\n",
            "Tried sell threshold is: 60\n",
            "Tried sell threshold is: 61\n",
            "Tried sell threshold is: 62\n",
            "Tried sell threshold is: 63\n",
            "Tried sell threshold is: 64\n",
            "Tried sell threshold is: 65\n",
            "Tried sell threshold is: 66\n",
            "Tried sell threshold is: 67\n",
            "Tried sell threshold is: 68\n",
            "Tried sell threshold is: 69\n",
            "Tried sell threshold is: 70\n",
            "Tried sell threshold is: 71\n",
            "Tried sell threshold is: 72\n",
            "Tried sell threshold is: 73\n",
            "Tried sell threshold is: 74\n",
            "Tried sell threshold is: 75\n",
            "Tried sell threshold is: 76\n",
            "Tried sell threshold is: 77\n",
            "Tried sell threshold is: 78\n",
            "Tried sell threshold is: 79\n",
            "Tried buy threshold is: 73\n",
            "Tried sell threshold is: 40\n",
            "Tried sell threshold is: 41\n",
            "Tried sell threshold is: 42\n",
            "Tried sell threshold is: 43\n",
            "Tried sell threshold is: 44\n",
            "Tried sell threshold is: 45\n",
            "Tried sell threshold is: 46\n",
            "Tried sell threshold is: 47\n",
            "Tried sell threshold is: 48\n",
            "Tried sell threshold is: 49\n",
            "Tried sell threshold is: 50\n",
            "Tried sell threshold is: 51\n",
            "Tried sell threshold is: 52\n",
            "Tried sell threshold is: 53\n",
            "Tried sell threshold is: 54\n",
            "Tried sell threshold is: 55\n",
            "Tried sell threshold is: 56\n",
            "Tried sell threshold is: 57\n",
            "Tried sell threshold is: 58\n",
            "Tried sell threshold is: 59\n",
            "Tried sell threshold is: 60\n",
            "Tried sell threshold is: 61\n",
            "Tried sell threshold is: 62\n",
            "Tried sell threshold is: 63\n",
            "Tried sell threshold is: 64\n",
            "Tried sell threshold is: 65\n",
            "Tried sell threshold is: 66\n",
            "Tried sell threshold is: 67\n",
            "Tried sell threshold is: 68\n",
            "Tried sell threshold is: 69\n",
            "Tried sell threshold is: 70\n",
            "Tried sell threshold is: 71\n",
            "Tried sell threshold is: 72\n",
            "Tried sell threshold is: 73\n",
            "Tried sell threshold is: 74\n",
            "Tried sell threshold is: 75\n",
            "Tried sell threshold is: 76\n",
            "Tried sell threshold is: 77\n",
            "Tried sell threshold is: 78\n",
            "Tried sell threshold is: 79\n",
            "Tried buy threshold is: 74\n",
            "Tried sell threshold is: 40\n",
            "Tried sell threshold is: 41\n",
            "Tried sell threshold is: 42\n",
            "Tried sell threshold is: 43\n",
            "Tried sell threshold is: 44\n",
            "Tried sell threshold is: 45\n",
            "Tried sell threshold is: 46\n",
            "Tried sell threshold is: 47\n",
            "Tried sell threshold is: 48\n",
            "Tried sell threshold is: 49\n",
            "Tried sell threshold is: 50\n",
            "Tried sell threshold is: 51\n",
            "Tried sell threshold is: 52\n",
            "Tried sell threshold is: 53\n",
            "Tried sell threshold is: 54\n",
            "Tried sell threshold is: 55\n",
            "Tried sell threshold is: 56\n",
            "Tried sell threshold is: 57\n",
            "Tried sell threshold is: 58\n",
            "Tried sell threshold is: 59\n",
            "Tried sell threshold is: 60\n",
            "Tried sell threshold is: 61\n",
            "Tried sell threshold is: 62\n",
            "Tried sell threshold is: 63\n",
            "Tried sell threshold is: 64\n",
            "Tried sell threshold is: 65\n",
            "Tried sell threshold is: 66\n",
            "Tried sell threshold is: 67\n",
            "Tried sell threshold is: 68\n",
            "Tried sell threshold is: 69\n",
            "Tried sell threshold is: 70\n",
            "Tried sell threshold is: 71\n",
            "Tried sell threshold is: 72\n",
            "Tried sell threshold is: 73\n",
            "Tried sell threshold is: 74\n",
            "Tried sell threshold is: 75\n",
            "Tried sell threshold is: 76\n",
            "Tried sell threshold is: 77\n",
            "Tried sell threshold is: 78\n",
            "Tried sell threshold is: 79\n",
            "Tried buy threshold is: 75\n",
            "Tried sell threshold is: 40\n",
            "Tried sell threshold is: 41\n",
            "Tried sell threshold is: 42\n",
            "Tried sell threshold is: 43\n",
            "Tried sell threshold is: 44\n",
            "Tried sell threshold is: 45\n",
            "Tried sell threshold is: 46\n",
            "Tried sell threshold is: 47\n",
            "Tried sell threshold is: 48\n",
            "Tried sell threshold is: 49\n",
            "Tried sell threshold is: 50\n",
            "Tried sell threshold is: 51\n",
            "Tried sell threshold is: 52\n",
            "Tried sell threshold is: 53\n",
            "Tried sell threshold is: 54\n",
            "Tried sell threshold is: 55\n",
            "Tried sell threshold is: 56\n",
            "Tried sell threshold is: 57\n",
            "Tried sell threshold is: 58\n",
            "Tried sell threshold is: 59\n",
            "Tried sell threshold is: 60\n",
            "Tried sell threshold is: 61\n",
            "Tried sell threshold is: 62\n",
            "Tried sell threshold is: 63\n",
            "Tried sell threshold is: 64\n",
            "Tried sell threshold is: 65\n",
            "Tried sell threshold is: 66\n",
            "Tried sell threshold is: 67\n",
            "Tried sell threshold is: 68\n",
            "Tried sell threshold is: 69\n",
            "Tried sell threshold is: 70\n",
            "Tried sell threshold is: 71\n",
            "Tried sell threshold is: 72\n",
            "Tried sell threshold is: 73\n",
            "Tried sell threshold is: 74\n",
            "Tried sell threshold is: 75\n",
            "Tried sell threshold is: 76\n",
            "Tried sell threshold is: 77\n",
            "Tried sell threshold is: 78\n",
            "Tried sell threshold is: 79\n",
            "Tried buy threshold is: 76\n",
            "Tried sell threshold is: 40\n",
            "Tried sell threshold is: 41\n",
            "Tried sell threshold is: 42\n",
            "Tried sell threshold is: 43\n",
            "Tried sell threshold is: 44\n",
            "Tried sell threshold is: 45\n",
            "Tried sell threshold is: 46\n",
            "Tried sell threshold is: 47\n",
            "Tried sell threshold is: 48\n",
            "Tried sell threshold is: 49\n",
            "Tried sell threshold is: 50\n",
            "Tried sell threshold is: 51\n",
            "Tried sell threshold is: 52\n",
            "Tried sell threshold is: 53\n",
            "Tried sell threshold is: 54\n",
            "Tried sell threshold is: 55\n",
            "Tried sell threshold is: 56\n",
            "Tried sell threshold is: 57\n",
            "Tried sell threshold is: 58\n",
            "Tried sell threshold is: 59\n",
            "Tried sell threshold is: 60\n",
            "Tried sell threshold is: 61\n",
            "Tried sell threshold is: 62\n",
            "Tried sell threshold is: 63\n",
            "Tried sell threshold is: 64\n",
            "Tried sell threshold is: 65\n",
            "Tried sell threshold is: 66\n",
            "Tried sell threshold is: 67\n",
            "Tried sell threshold is: 68\n",
            "Tried sell threshold is: 69\n",
            "Tried sell threshold is: 70\n",
            "Tried sell threshold is: 71\n",
            "Tried sell threshold is: 72\n",
            "Tried sell threshold is: 73\n",
            "Tried sell threshold is: 74\n",
            "Tried sell threshold is: 75\n",
            "Tried sell threshold is: 76\n",
            "Tried sell threshold is: 77\n",
            "Tried sell threshold is: 78\n",
            "Tried sell threshold is: 79\n",
            "Tried buy threshold is: 77\n",
            "Tried sell threshold is: 40\n",
            "Tried sell threshold is: 41\n",
            "Tried sell threshold is: 42\n",
            "Tried sell threshold is: 43\n",
            "Tried sell threshold is: 44\n",
            "Tried sell threshold is: 45\n",
            "Tried sell threshold is: 46\n",
            "Tried sell threshold is: 47\n",
            "Tried sell threshold is: 48\n",
            "Tried sell threshold is: 49\n",
            "Tried sell threshold is: 50\n",
            "Tried sell threshold is: 51\n",
            "Tried sell threshold is: 52\n",
            "Tried sell threshold is: 53\n",
            "Tried sell threshold is: 54\n",
            "Tried sell threshold is: 55\n",
            "Tried sell threshold is: 56\n",
            "Tried sell threshold is: 57\n",
            "Tried sell threshold is: 58\n",
            "Tried sell threshold is: 59\n",
            "Tried sell threshold is: 60\n",
            "Tried sell threshold is: 61\n",
            "Tried sell threshold is: 62\n",
            "Tried sell threshold is: 63\n",
            "Tried sell threshold is: 64\n",
            "Tried sell threshold is: 65\n",
            "Tried sell threshold is: 66\n",
            "Tried sell threshold is: 67\n",
            "Tried sell threshold is: 68\n",
            "Tried sell threshold is: 69\n",
            "Tried sell threshold is: 70\n",
            "Tried sell threshold is: 71\n",
            "Tried sell threshold is: 72\n",
            "Tried sell threshold is: 73\n",
            "Tried sell threshold is: 74\n",
            "Tried sell threshold is: 75\n",
            "Tried sell threshold is: 76\n",
            "Tried sell threshold is: 77\n",
            "Tried sell threshold is: 78\n",
            "Tried sell threshold is: 79\n",
            "Tried buy threshold is: 78\n",
            "Tried sell threshold is: 40\n",
            "Tried sell threshold is: 41\n",
            "Tried sell threshold is: 42\n",
            "Tried sell threshold is: 43\n",
            "Tried sell threshold is: 44\n",
            "Tried sell threshold is: 45\n",
            "Tried sell threshold is: 46\n",
            "Tried sell threshold is: 47\n",
            "Tried sell threshold is: 48\n",
            "Tried sell threshold is: 49\n",
            "Tried sell threshold is: 50\n",
            "Tried sell threshold is: 51\n",
            "Tried sell threshold is: 52\n",
            "Tried sell threshold is: 53\n",
            "Tried sell threshold is: 54\n",
            "Tried sell threshold is: 55\n",
            "Tried sell threshold is: 56\n",
            "Tried sell threshold is: 57\n",
            "Tried sell threshold is: 58\n",
            "Tried sell threshold is: 59\n",
            "Tried sell threshold is: 60\n",
            "Tried sell threshold is: 61\n",
            "Tried sell threshold is: 62\n",
            "Tried sell threshold is: 63\n",
            "Tried sell threshold is: 64\n",
            "Tried sell threshold is: 65\n",
            "Tried sell threshold is: 66\n",
            "Tried sell threshold is: 67\n",
            "Tried sell threshold is: 68\n",
            "Tried sell threshold is: 69\n",
            "Tried sell threshold is: 70\n",
            "Tried sell threshold is: 71\n",
            "Tried sell threshold is: 72\n",
            "Tried sell threshold is: 73\n",
            "Tried sell threshold is: 74\n",
            "Tried sell threshold is: 75\n",
            "Tried sell threshold is: 76\n",
            "Tried sell threshold is: 77\n",
            "Tried sell threshold is: 78\n",
            "Tried sell threshold is: 79\n",
            "Tried buy threshold is: 79\n",
            "Tried sell threshold is: 40\n",
            "Tried sell threshold is: 41\n",
            "Tried sell threshold is: 42\n",
            "Tried sell threshold is: 43\n",
            "Tried sell threshold is: 44\n",
            "Tried sell threshold is: 45\n",
            "Tried sell threshold is: 46\n",
            "Tried sell threshold is: 47\n",
            "Tried sell threshold is: 48\n",
            "Tried sell threshold is: 49\n",
            "Tried sell threshold is: 50\n",
            "Tried sell threshold is: 51\n",
            "Tried sell threshold is: 52\n",
            "Tried sell threshold is: 53\n",
            "Tried sell threshold is: 54\n",
            "Tried sell threshold is: 55\n",
            "Tried sell threshold is: 56\n",
            "Tried sell threshold is: 57\n",
            "Tried sell threshold is: 58\n",
            "Tried sell threshold is: 59\n",
            "Tried sell threshold is: 60\n",
            "Tried sell threshold is: 61\n",
            "Tried sell threshold is: 62\n",
            "Tried sell threshold is: 63\n",
            "Tried sell threshold is: 64\n",
            "Tried sell threshold is: 65\n",
            "Tried sell threshold is: 66\n",
            "Tried sell threshold is: 67\n",
            "Tried sell threshold is: 68\n",
            "Tried sell threshold is: 69\n",
            "Tried sell threshold is: 70\n",
            "Tried sell threshold is: 71\n",
            "Tried sell threshold is: 72\n",
            "Tried sell threshold is: 73\n",
            "Tried sell threshold is: 74\n",
            "Tried sell threshold is: 75\n",
            "Tried sell threshold is: 76\n",
            "Tried sell threshold is: 77\n",
            "Tried sell threshold is: 78\n",
            "Tried sell threshold is: 79\n"
          ]
        }
      ]
    },
    {
      "cell_type": "code",
      "source": [
        "tries = pd.DataFrame(tries).sort_values(by=2, ascending=False)\n",
        "tries"
      ],
      "metadata": {
        "colab": {
          "base_uri": "https://localhost:8080/",
          "height": 424
        },
        "id": "z0NBQ67rwOMV",
        "outputId": "e3a095e8-72cc-49d5-e763-9245f14f3be2"
      },
      "execution_count": 78,
      "outputs": [
        {
          "output_type": "execute_result",
          "data": {
            "text/plain": [
              "       0   1       2\n",
              "1491  77  51 6351.70\n",
              "1454  76  54 6351.70\n",
              "1450  76  50 6351.70\n",
              "1494  77  54 6351.70\n",
              "1493  77  53 6351.70\n",
              "...   ..  ..     ...\n",
              "542   53  62  259.82\n",
              "581   54  61  259.82\n",
              "582   54  62  259.82\n",
              "620   55  60  259.82\n",
              "580   54  60  259.82\n",
              "\n",
              "[1600 rows x 3 columns]"
            ],
            "text/html": [
              "\n",
              "  <div id=\"df-1cc9d258-54e6-4146-9f19-0fc86a03fc08\">\n",
              "    <div class=\"colab-df-container\">\n",
              "      <div>\n",
              "<style scoped>\n",
              "    .dataframe tbody tr th:only-of-type {\n",
              "        vertical-align: middle;\n",
              "    }\n",
              "\n",
              "    .dataframe tbody tr th {\n",
              "        vertical-align: top;\n",
              "    }\n",
              "\n",
              "    .dataframe thead th {\n",
              "        text-align: right;\n",
              "    }\n",
              "</style>\n",
              "<table border=\"1\" class=\"dataframe\">\n",
              "  <thead>\n",
              "    <tr style=\"text-align: right;\">\n",
              "      <th></th>\n",
              "      <th>0</th>\n",
              "      <th>1</th>\n",
              "      <th>2</th>\n",
              "    </tr>\n",
              "  </thead>\n",
              "  <tbody>\n",
              "    <tr>\n",
              "      <th>1491</th>\n",
              "      <td>77</td>\n",
              "      <td>51</td>\n",
              "      <td>6351.70</td>\n",
              "    </tr>\n",
              "    <tr>\n",
              "      <th>1454</th>\n",
              "      <td>76</td>\n",
              "      <td>54</td>\n",
              "      <td>6351.70</td>\n",
              "    </tr>\n",
              "    <tr>\n",
              "      <th>1450</th>\n",
              "      <td>76</td>\n",
              "      <td>50</td>\n",
              "      <td>6351.70</td>\n",
              "    </tr>\n",
              "    <tr>\n",
              "      <th>1494</th>\n",
              "      <td>77</td>\n",
              "      <td>54</td>\n",
              "      <td>6351.70</td>\n",
              "    </tr>\n",
              "    <tr>\n",
              "      <th>1493</th>\n",
              "      <td>77</td>\n",
              "      <td>53</td>\n",
              "      <td>6351.70</td>\n",
              "    </tr>\n",
              "    <tr>\n",
              "      <th>...</th>\n",
              "      <td>...</td>\n",
              "      <td>...</td>\n",
              "      <td>...</td>\n",
              "    </tr>\n",
              "    <tr>\n",
              "      <th>542</th>\n",
              "      <td>53</td>\n",
              "      <td>62</td>\n",
              "      <td>259.82</td>\n",
              "    </tr>\n",
              "    <tr>\n",
              "      <th>581</th>\n",
              "      <td>54</td>\n",
              "      <td>61</td>\n",
              "      <td>259.82</td>\n",
              "    </tr>\n",
              "    <tr>\n",
              "      <th>582</th>\n",
              "      <td>54</td>\n",
              "      <td>62</td>\n",
              "      <td>259.82</td>\n",
              "    </tr>\n",
              "    <tr>\n",
              "      <th>620</th>\n",
              "      <td>55</td>\n",
              "      <td>60</td>\n",
              "      <td>259.82</td>\n",
              "    </tr>\n",
              "    <tr>\n",
              "      <th>580</th>\n",
              "      <td>54</td>\n",
              "      <td>60</td>\n",
              "      <td>259.82</td>\n",
              "    </tr>\n",
              "  </tbody>\n",
              "</table>\n",
              "<p>1600 rows × 3 columns</p>\n",
              "</div>\n",
              "      <button class=\"colab-df-convert\" onclick=\"convertToInteractive('df-1cc9d258-54e6-4146-9f19-0fc86a03fc08')\"\n",
              "              title=\"Convert this dataframe to an interactive table.\"\n",
              "              style=\"display:none;\">\n",
              "        \n",
              "  <svg xmlns=\"http://www.w3.org/2000/svg\" height=\"24px\"viewBox=\"0 0 24 24\"\n",
              "       width=\"24px\">\n",
              "    <path d=\"M0 0h24v24H0V0z\" fill=\"none\"/>\n",
              "    <path d=\"M18.56 5.44l.94 2.06.94-2.06 2.06-.94-2.06-.94-.94-2.06-.94 2.06-2.06.94zm-11 1L8.5 8.5l.94-2.06 2.06-.94-2.06-.94L8.5 2.5l-.94 2.06-2.06.94zm10 10l.94 2.06.94-2.06 2.06-.94-2.06-.94-.94-2.06-.94 2.06-2.06.94z\"/><path d=\"M17.41 7.96l-1.37-1.37c-.4-.4-.92-.59-1.43-.59-.52 0-1.04.2-1.43.59L10.3 9.45l-7.72 7.72c-.78.78-.78 2.05 0 2.83L4 21.41c.39.39.9.59 1.41.59.51 0 1.02-.2 1.41-.59l7.78-7.78 2.81-2.81c.8-.78.8-2.07 0-2.86zM5.41 20L4 18.59l7.72-7.72 1.47 1.35L5.41 20z\"/>\n",
              "  </svg>\n",
              "      </button>\n",
              "      \n",
              "  <style>\n",
              "    .colab-df-container {\n",
              "      display:flex;\n",
              "      flex-wrap:wrap;\n",
              "      gap: 12px;\n",
              "    }\n",
              "\n",
              "    .colab-df-convert {\n",
              "      background-color: #E8F0FE;\n",
              "      border: none;\n",
              "      border-radius: 50%;\n",
              "      cursor: pointer;\n",
              "      display: none;\n",
              "      fill: #1967D2;\n",
              "      height: 32px;\n",
              "      padding: 0 0 0 0;\n",
              "      width: 32px;\n",
              "    }\n",
              "\n",
              "    .colab-df-convert:hover {\n",
              "      background-color: #E2EBFA;\n",
              "      box-shadow: 0px 1px 2px rgba(60, 64, 67, 0.3), 0px 1px 3px 1px rgba(60, 64, 67, 0.15);\n",
              "      fill: #174EA6;\n",
              "    }\n",
              "\n",
              "    [theme=dark] .colab-df-convert {\n",
              "      background-color: #3B4455;\n",
              "      fill: #D2E3FC;\n",
              "    }\n",
              "\n",
              "    [theme=dark] .colab-df-convert:hover {\n",
              "      background-color: #434B5C;\n",
              "      box-shadow: 0px 1px 3px 1px rgba(0, 0, 0, 0.15);\n",
              "      filter: drop-shadow(0px 1px 2px rgba(0, 0, 0, 0.3));\n",
              "      fill: #FFFFFF;\n",
              "    }\n",
              "  </style>\n",
              "\n",
              "      <script>\n",
              "        const buttonEl =\n",
              "          document.querySelector('#df-1cc9d258-54e6-4146-9f19-0fc86a03fc08 button.colab-df-convert');\n",
              "        buttonEl.style.display =\n",
              "          google.colab.kernel.accessAllowed ? 'block' : 'none';\n",
              "\n",
              "        async function convertToInteractive(key) {\n",
              "          const element = document.querySelector('#df-1cc9d258-54e6-4146-9f19-0fc86a03fc08');\n",
              "          const dataTable =\n",
              "            await google.colab.kernel.invokeFunction('convertToInteractive',\n",
              "                                                     [key], {});\n",
              "          if (!dataTable) return;\n",
              "\n",
              "          const docLinkHtml = 'Like what you see? Visit the ' +\n",
              "            '<a target=\"_blank\" href=https://colab.research.google.com/notebooks/data_table.ipynb>data table notebook</a>'\n",
              "            + ' to learn more about interactive tables.';\n",
              "          element.innerHTML = '';\n",
              "          dataTable['output_type'] = 'display_data';\n",
              "          await google.colab.output.renderOutput(dataTable, element);\n",
              "          const docLink = document.createElement('div');\n",
              "          docLink.innerHTML = docLinkHtml;\n",
              "          element.appendChild(docLink);\n",
              "        }\n",
              "      </script>\n",
              "    </div>\n",
              "  </div>\n",
              "  "
            ]
          },
          "metadata": {},
          "execution_count": 78
        }
      ]
    },
    {
      "cell_type": "markdown",
      "source": [
        "#DENEME"
      ],
      "metadata": {
        "id": "bFuDsMUKnhcp"
      }
    },
    {
      "cell_type": "code",
      "source": [
        "scaler = MinMaxScaler(feature_range=(0, 100))\n",
        "\n",
        "result_df = pd.DataFrame()\n",
        "\n",
        "for stock in xu030:\n",
        "  print(stock)\n",
        "  data = yf.download(stock, start=start, end=end, progress=False)\n",
        "  data = create_indicators(data)\n",
        "  data[\"STOCK\"] = stock\n",
        "\n",
        "  for i in range(10):\n",
        "    print(f\"{i}. Deneme\")\n",
        "    scores = []\n",
        "\n",
        "    rsi1 = random.randint(0,5)\n",
        "    rsi2 = random.randint(0,5)\n",
        "    rsi3 = random.randint(0,5)\n",
        "    rsi4 = random.randint(0,5)\n",
        "    rsi5 = random.randint(0,5)\n",
        "    rsi6 = random.randint(0,5)\n",
        "    rsi7 = random.randint(0,5)\n",
        "\n",
        "    sma5_1 = random.randint(0,5)\n",
        "    sma5_2 = random.randint(0,5)\n",
        "    sma5_3 = random.randint(0,5)\n",
        "    sma5_4 = random.randint(0,5)\n",
        "\n",
        "    sma9_1 = random.randint(0,5)\n",
        "    sma9_2 = random.randint(0,5)\n",
        "    sma9_3 = random.randint(0,5)\n",
        "    sma9_4 = random.randint(0,5)\n",
        "\n",
        "    sma14_1 = random.randint(0,5)\n",
        "    sma14_2 = random.randint(0,5)\n",
        "    sma14_3 = random.randint(0,5)\n",
        "    sma14_4 = random.randint(0,5)\n",
        "\n",
        "    sma20_1 = random.randint(0,5)\n",
        "    sma20_2 = random.randint(0,5)\n",
        "\n",
        "    sma21_1 = random.randint(0,5)\n",
        "    sma21_2 = random.randint(0,5)\n",
        "    sma21_3 = random.randint(0,5)\n",
        "    sma21_4 = random.randint(0,5)\n",
        "\n",
        "    sma50 = random.randint(0,5)\n",
        "\n",
        "    ema_close_1 = random.randint(0,5)\n",
        "    ema_close_2 = random.randint(0,5)\n",
        "\n",
        "    ema5_1 = random.randint(0,5)\n",
        "    ema5_2 = random.randint(0,5)\n",
        "    ema5_3 = random.randint(0,5)\n",
        "    ema5_4 = random.randint(0,5)\n",
        "\n",
        "    ema14_1 = random.randint(0,5)\n",
        "    ema14_2 = random.randint(0,5)\n",
        "    ema14_3 = random.randint(0,5)\n",
        "    ema14_4 = random.randint(0,5)\n",
        "\n",
        "    ema21_1 = random.randint(0,5)\n",
        "    ema21_2 = random.randint(0,5)\n",
        "    ema21_3 = random.randint(0,5)\n",
        "    ema21_4 = random.randint(0,5)\n",
        "\n",
        "    stoch_1 = random.randint(0,5)\n",
        "    stoch_2 = random.randint(0,5)\n",
        "    stoch_3 = random.randint(0,5)\n",
        "    stoch_4 = random.randint(0,5)\n",
        "\n",
        "    macd_1 = random.randint(0,5)\n",
        "    macd_2 = random.randint(0,5)\n",
        "    macd_3 = random.randint(0,5)\n",
        "    macd_4 = random.randint(0,5)\n",
        "    macd_5 = random.randint(0,5)\n",
        "    macd_6 = random.randint(0,5)\n",
        "    macd_7 = random.randint(0,5)\n",
        "    macd_8 = random.randint(0,5)\n",
        "\n",
        "    bb1 = random.randint(0,5)\n",
        "    bb2 = random.randint(0,5)\n",
        "    bb3 = random.randint(0,5)\n",
        "    bb4 = random.randint(0,5)\n",
        "\n",
        "    adx1 = random.randint(0,5)\n",
        "    adx2 = random.randint(0,5)\n",
        "    adx3 = random.randint(0,5)\n",
        "    adx4 = random.randint(0,5)\n",
        "\n",
        "    add = 1\n",
        "\n",
        "    indicators = [rsi1, rsi2, rsi3, rsi4, rsi5, sma5_1, sma5_2, sma5_3, sma5_4, sma9_1, sma9_2, sma9_3, sma9_4, sma14_1, sma14_2, sma14_3, sma14_4, sma20_1, sma20_2, sma21_1, sma21_2, sma21_3, sma21_4, sma50,\n",
        "              ema_close_1, ema_close_2, ema5_1, ema5_2, ema5_3, ema5_4, ema14_1, ema14_2, ema14_3, ema14_4, ema21_1, ema21_2, ema21_3, ema21_4, stoch_1, stoch_2, stoch_3, stoch_4, macd_1, macd_2, macd_3, macd_4, macd_5,\n",
        "              macd_6, macd_7, macd_8, bb1, bb2, bb3, bb4, adx1, adx2, adx3, adx4, rsi6, rsi7]\n",
        "\n",
        "    for row in range(data.shape[0]):\n",
        "      score = 0\n",
        "\n",
        "      if data[\"RSI\"][row] < 30:\n",
        "        score+=rsi1\n",
        "      elif data[\"RSI\"][row] > 70:\n",
        "        score-=rsi2\n",
        "\n",
        "      if data[\"RSI\"][row] >= 75:\n",
        "        score+=rsi6\n",
        "      elif row > 0 and data[\"RSI\"][row-1] > 73 and data[\"RSI\"][row] < 73:\n",
        "        score-=rsi7\n",
        "\n",
        "      if row > 0 and data[\"RSI\"].iloc[row-1] > 63 and data[\"RSI\"].iloc[row] < 63:\n",
        "        score-=rsi3\n",
        "      if row > 0 and data[\"RSI\"].iloc[row-1] > 49 and data[\"RSI\"].iloc[row] < 49:\n",
        "        score-=rsi4\n",
        "      elif row > 0 and data[\"RSI\"].iloc[row-1] < 50 and data[\"RSI\"].iloc[row] > 50:\n",
        "        score+=rsi5\n",
        "\n",
        "      if data[\"SMA5\"].iloc[row] > data[\"SMA10\"].iloc[row]:\n",
        "        score+=sma5_1\n",
        "      else:\n",
        "        score-=sma5_2\n",
        "\n",
        "      if row > 0 and data['SMA5'].iloc[row-1] < data['SMA10'].iloc[row-1] and data['SMA5'].iloc[row] > data['SMA10'].iloc[row]:\n",
        "        score+=sma5_3\n",
        "      else:\n",
        "        score-=sma5_4\n",
        "\n",
        "      if data[\"SMA9\"][row] > data[\"SMA14\"][row]:\n",
        "        score+=sma9_1\n",
        "      else:\n",
        "        score-=sma9_2\n",
        "\n",
        "      if row > 0 and data['SMA9'].iloc[row-1] < data['SMA14'].iloc[row-1] and data['SMA9'].iloc[row] > data['SMA14'].iloc[row]:\n",
        "        score+=sma9_3\n",
        "      else:\n",
        "        score-=sma9_4\n",
        "\n",
        "      if data[\"SMA14\"][row] > data[\"SMA21\"][row]:\n",
        "        score+=sma14_1\n",
        "      else:\n",
        "        score-=sma14_2\n",
        "\n",
        "      if row > 0 and data['SMA14'].iloc[row-1] < data['SMA21'].iloc[row-1] and data['SMA14'].iloc[row] > data['SMA21'].iloc[row]:\n",
        "        score+=sma14_3\n",
        "      else:\n",
        "        score-=sma14_4\n",
        "\n",
        "      if row > 1 and data['SMA20'].iloc[row-1] < data[\"Close\"].iloc[row-1] and data['SMA20'].iloc[row] < data[\"Close\"].iloc[row]:\n",
        "        score+=sma20_1\n",
        "      else:\n",
        "        score-=sma20_2\n",
        "\n",
        "      if data[\"SMA21\"][row] > data[\"SMA50\"][row]:\n",
        "        score+=sma21_1\n",
        "      else:\n",
        "        score-=sma21_2\n",
        "\n",
        "      if row > 0 and data['SMA21'].iloc[row-1] < data['SMA50'].iloc[row-1] and data['SMA21'].iloc[row] > data['SMA50'].iloc[row]:\n",
        "        score+=sma21_3\n",
        "      else:\n",
        "        score-=sma21_4\n",
        "\n",
        "      if row > 0 and data['SMA50'].iloc[row-1] < data['SMA200'].iloc[row-1] and data['SMA50'].iloc[row] > data['SMA200'].iloc[row]:\n",
        "        score+=sma50\n",
        "\n",
        "      if data['Close'][row] > data[\"EMA14\"][row]:\n",
        "        score+=ema_close_1\n",
        "      else:\n",
        "        score-=ema_close_2\n",
        "\n",
        "      if data[\"EMA5\"][row] > data[\"EMA14\"][row]:\n",
        "        score+=ema5_1\n",
        "      else:\n",
        "        score-=ema5_2\n",
        "\n",
        "      if row > 0 and data['EMA5'].iloc[row-1] < data['EMA14'].iloc[row-1] and data['EMA5'].iloc[row] > data['EMA14'].iloc[row]:\n",
        "        score+=ema5_3\n",
        "      else:\n",
        "        score-=ema5_4\n",
        "\n",
        "      if data[\"EMA14\"][row] > data[\"EMA21\"][row]:\n",
        "        score+=ema14_1\n",
        "      else:\n",
        "        score-=ema14_2\n",
        "\n",
        "      if row > 0 and data['EMA14'].iloc[row-1] < data['EMA21'].iloc[row-1] and data['EMA14'].iloc[row] > data['EMA21'].iloc[row]:\n",
        "        score+=ema14_3\n",
        "      else:\n",
        "        score-=ema14_4\n",
        "\n",
        "      if data[\"EMA21\"][row] > data[\"EMA50\"][row]:\n",
        "        score+=ema21_1\n",
        "      else:\n",
        "        score-=ema21_2\n",
        "\n",
        "      if row > 0 and data['EMA21'].iloc[row-1] < data['EMA50'].iloc[row-1] and data['EMA21'].iloc[row] > data['EMA50'].iloc[row]:\n",
        "        score+=ema21_3\n",
        "      else:\n",
        "        score-=ema21_4\n",
        "\n",
        "      if data[\"STOCH-D\"][row] <= 20:\n",
        "        score+=stoch_1\n",
        "      elif data[\"STOCH-D\"][row] >= 80:\n",
        "        score-=stoch_2\n",
        "\n",
        "      if row > 0 and data[\"STOCH-D\"][row-1] > 65 and data[\"STOCH-D\"][row] < 65:\n",
        "        score-=stoch_3\n",
        "      elif row > 0 and data[\"STOCH-D\"][row-1] < 35 and data[\"STOCH-D\"][row] > 35:\n",
        "        score=+stoch_4\n",
        "\n",
        "      if data[\"MACD\"][row] > data[\"SIGNAL\"][row]:\n",
        "        score+=macd_1\n",
        "      if row > 0 and data[\"MACD\"][row] > data[\"SIGNAL\"][row] and data[\"HISTOGRAM\"][row-1] < 0 and data[\"HISTOGRAM\"][row] > 0:\n",
        "        score+=macd_2\n",
        "      if row > 0 and data[\"MACD\"][row] < data[\"SIGNAL\"][row] and data[\"HISTOGRAM\"][row-1] > 0 and data[\"HISTOGRAM\"][row] < 0:\n",
        "        score-=macd_3\n",
        "      if data[\"MACD\"][row] < data[\"SIGNAL\"][row]:\n",
        "        score-=macd_4\n",
        "\n",
        "      if data['MACD'].tail(7).mean() > 0:\n",
        "        score+=macd_5\n",
        "      else:\n",
        "        score-=macd_6\n",
        "\n",
        "      if data['MACD'].tail(30).mean() > 0:\n",
        "        score+=macd_7\n",
        "      else:\n",
        "        score-=macd_8\n",
        "\n",
        "      if data[\"BB-LOWER\"].iloc[row] > data[\"Close\"].iloc[row]:\n",
        "          score+=bb1\n",
        "      elif data[\"BB-UPPER\"].iloc[row] < data[\"Close\"].iloc[row]:\n",
        "          score-=bb2\n",
        "      if data[\"BB-MID\"].iloc[row] < data[\"Close\"].iloc[row] and data[\"BB-LOWER\"].iloc[row] - data[\"Close\"].iloc[row] < data[\"BB-MID\"].iloc[row] - data[\"Close\"].iloc[row]:\n",
        "          score+=bb3\n",
        "      elif data[\"BB-MID\"].iloc[row] > data[\"Close\"].iloc[row] and data[\"BB-UPPER\"].iloc[row] - data[\"Close\"].iloc[row] < data[\"BB-MID\"].iloc[row] - data[\"Close\"].iloc[row]:\n",
        "          score-=bb4\n",
        "\n",
        "      if (data[\"STDEV\"].max() + data[\"STDEV\"].min()) / 2 > data[\"STDEV\"][row]:\n",
        "        score+=add\n",
        "      else:\n",
        "        score-=add\n",
        "\n",
        "      if data[\"PSAR\"][row] < data[\"Close\"][row]:\n",
        "        score+=add\n",
        "      else:\n",
        "        score-=add\n",
        "\n",
        "      if data[\"WILLIAMS\"][row] < -80:\n",
        "        score+=add\n",
        "      elif data[\"WILLIAMS\"][row] > -20:\n",
        "        score-=add\n",
        "\n",
        "      if data[\"AROON\"][row] > 0:\n",
        "        score-=add\n",
        "      else:\n",
        "        score+=add\n",
        "\n",
        "      if row > 0 and data[\"OBV\"][row-1] < data[\"OBV\"][row] and data[\"Close\"][row] > data[\"Close\"][row-1]:\n",
        "        score+=add\n",
        "      elif row > 0 and data[\"OBV\"][row-1] > data[\"OBV\"][row] and data[\"Close\"][row] < data[\"Close\"][row-1]:\n",
        "        score-=add\n",
        "\n",
        "      if row > 0 and (data['CCI'][row] > -100) & (data['CCI'][row-1] <= -100):\n",
        "        score+=add\n",
        "      elif row > 0 and (data['CCI'][row] < 100) & (data['CCI'][row-1] >= 100):\n",
        "        score-=add\n",
        "\n",
        "      if data[\"ROC\"][row] > 0:\n",
        "        score+=add\n",
        "      elif data[\"ROC\"][row] < 0:\n",
        "        score-=add\n",
        "\n",
        "      if data[\"BULL\"][row] > 0:\n",
        "        score+=add\n",
        "      elif data[\"BEAR\"][row] < 0:\n",
        "        score-=add\n",
        "\n",
        "      if (data['ADX'][row] > 25) and (data['+DI'][row] > data['-DI'][row]):\n",
        "        score+=adx1\n",
        "      if data['ADX'][row] > data['+DI'][row] and data['ADX'][row] > data['-DI'][row]:\n",
        "        score+=adx2\n",
        "      if data['ADX'][row] < data['+DI'][row] and data['ADX'][row] < data['-DI'][row]:\n",
        "        score-=adx3\n",
        "      elif (data['ADX'][row] > 40) and (data['+DI'][row] < data['-DI'][row]):\n",
        "        score-=adx4\n",
        "\n",
        "      scores.append(score)\n",
        "\n",
        "    data[\"SCORE\"] = scores\n",
        "    data[\"SCORE\"] = scaler.fit_transform(data[\"SCORE\"].values.reshape(-1, 1))\n",
        "\n",
        "    tries = []\n",
        "\n",
        "    for buy_threshold in range(40, 80):\n",
        "      for sell_threshold in range(40, 80):\n",
        "        profit_or_loss = []\n",
        "\n",
        "        for stock in [stock]:\n",
        "          stock_df = data[data[\"STOCK\"] == stock]\n",
        "          buy_sell_df = buy_or_sell(stock, stock_df, balance=balance, upper_score=buy_threshold, lower_score=sell_threshold)\n",
        "\n",
        "          if buy_sell_df.empty != True:\n",
        "\n",
        "            if buy_sell_df['B/S'].iloc[-1] == \"BUY\":\n",
        "              add = pd.DataFrame({\"STOCK\": [buy_sell_df[\"STOCK\"].iloc[-1]], \"B/S\": [\"CLOSE\"], \"DATE\": [today], \"PRICE\": [buy_sell_df[\"LAST PRICE\"].iloc[-1]],\n",
        "                                  'STOCK BALANCE': [0], 'TRY BALANCE': [(buy_sell_df[\"STOCK BALANCE\"].iloc[-1]) * buy_sell_df[\"LAST PRICE\"].iloc[-1]], 'LAST PRICE' :[buy_sell_df[\"LAST PRICE\"].iloc[-1]]})\n",
        "\n",
        "              buy_sell_df = pd.concat([buy_sell_df, add])\n",
        "\n",
        "            if buy_sell_df['TRY BALANCE'].empty != True:\n",
        "              profit_or_loss.append(buy_sell_df['TRY BALANCE'].tail(1).item() - balance)\n",
        "\n",
        "        tries.append([buy_threshold, sell_threshold, sum(profit_or_loss)])\n",
        "\n",
        "    tries = pd.DataFrame(tries).sort_values(by=2, ascending=False).reset_index().drop([\"index\"], axis=1)\n",
        "    print(tries.head())\n",
        "    concat_df = pd.DataFrame(np.array([stock, indicators, tries[0][0], tries[1][0], tries[2][0]]).reshape(1,5), columns=[\"STOCK\", \"WEIGHTS\", \"BUY TH\", \"SELL TH\", \"PROFIT\"])\n",
        "    result_df = result_df.append(concat_df, ignore_index=True)\n",
        "    result_df.to_excel('/content/drive/MyDrive/stockmarket/'+ \"bist30\" +'.xlsx', index=False)\n",
        "\n",
        "\n",
        "result_df"
      ],
      "metadata": {
        "colab": {
          "base_uri": "https://localhost:8080/",
          "height": 1000
        },
        "id": "00mA1WCwnf9k",
        "outputId": "5b2443b6-2b02-4419-b80d-9bf470377ffc"
      },
      "execution_count": 16,
      "outputs": [
        {
          "metadata": {
            "tags": null
          },
          "name": "stdout",
          "output_type": "stream",
          "text": [
            "AKBNK.IS\n",
            "0. Deneme\n",
            "    0   1       2\n",
            "0  61  67 3170.91\n",
            "1  76  79 2739.80\n",
            "2  70  75 2736.94\n",
            "3  70  74 2736.94\n",
            "4  41  70 2718.96\n",
            "1. Deneme\n"
          ]
        },
        {
          "metadata": {
            "tags": null
          },
          "name": "stderr",
          "output_type": "stream",
          "text": [
            "<ipython-input-16-d0b2c8d24563>:316: VisibleDeprecationWarning: Creating an ndarray from ragged nested sequences (which is a list-or-tuple of lists-or-tuples-or ndarrays with different lengths or shapes) is deprecated. If you meant to do this, you must specify 'dtype=object' when creating the ndarray.\n",
            "  concat_df = pd.DataFrame(np.array([stock, indicators, tries[0][0], tries[1][0], tries[2][0]]).reshape(1,5), columns=[\"STOCK\", \"WEIGHTS\", \"BUY TH\", \"SELL TH\", \"PROFIT\"])\n"
          ]
        },
        {
          "metadata": {
            "tags": null
          },
          "name": "stdout",
          "output_type": "stream",
          "text": [
            "    0   1       2\n",
            "0  40  77 3355.63\n",
            "1  41  77 3355.63\n",
            "2  40  74 3308.14\n",
            "3  41  74 3308.14\n",
            "4  40  79 2980.76\n",
            "2. Deneme\n"
          ]
        },
        {
          "metadata": {
            "tags": null
          },
          "name": "stderr",
          "output_type": "stream",
          "text": [
            "<ipython-input-16-d0b2c8d24563>:316: VisibleDeprecationWarning: Creating an ndarray from ragged nested sequences (which is a list-or-tuple of lists-or-tuples-or ndarrays with different lengths or shapes) is deprecated. If you meant to do this, you must specify 'dtype=object' when creating the ndarray.\n",
            "  concat_df = pd.DataFrame(np.array([stock, indicators, tries[0][0], tries[1][0], tries[2][0]]).reshape(1,5), columns=[\"STOCK\", \"WEIGHTS\", \"BUY TH\", \"SELL TH\", \"PROFIT\"])\n"
          ]
        },
        {
          "metadata": {
            "tags": null
          },
          "name": "stdout",
          "output_type": "stream",
          "text": [
            "    0   1       2\n",
            "0  72  79 3895.96\n",
            "1  71  79 3895.96\n",
            "2  40  73 3675.38\n",
            "3  40  72 3675.38\n",
            "4  75  79 3557.74\n",
            "3. Deneme\n"
          ]
        },
        {
          "metadata": {
            "tags": null
          },
          "name": "stderr",
          "output_type": "stream",
          "text": [
            "<ipython-input-16-d0b2c8d24563>:316: VisibleDeprecationWarning: Creating an ndarray from ragged nested sequences (which is a list-or-tuple of lists-or-tuples-or ndarrays with different lengths or shapes) is deprecated. If you meant to do this, you must specify 'dtype=object' when creating the ndarray.\n",
            "  concat_df = pd.DataFrame(np.array([stock, indicators, tries[0][0], tries[1][0], tries[2][0]]).reshape(1,5), columns=[\"STOCK\", \"WEIGHTS\", \"BUY TH\", \"SELL TH\", \"PROFIT\"])\n"
          ]
        },
        {
          "metadata": {
            "tags": null
          },
          "name": "stdout",
          "output_type": "stream",
          "text": [
            "    0   1       2\n",
            "0  40  74 3567.95\n",
            "1  41  74 3473.97\n",
            "2  42  74 3473.97\n",
            "3  44  74 3447.56\n",
            "4  43  74 3319.64\n",
            "4. Deneme\n"
          ]
        },
        {
          "metadata": {
            "tags": null
          },
          "name": "stderr",
          "output_type": "stream",
          "text": [
            "<ipython-input-16-d0b2c8d24563>:316: VisibleDeprecationWarning: Creating an ndarray from ragged nested sequences (which is a list-or-tuple of lists-or-tuples-or ndarrays with different lengths or shapes) is deprecated. If you meant to do this, you must specify 'dtype=object' when creating the ndarray.\n",
            "  concat_df = pd.DataFrame(np.array([stock, indicators, tries[0][0], tries[1][0], tries[2][0]]).reshape(1,5), columns=[\"STOCK\", \"WEIGHTS\", \"BUY TH\", \"SELL TH\", \"PROFIT\"])\n"
          ]
        },
        {
          "metadata": {
            "tags": null
          },
          "name": "stdout",
          "output_type": "stream",
          "text": [
            "    0   1       2\n",
            "0  46  79 4137.25\n",
            "1  41  70 4038.48\n",
            "2  42  79 3875.00\n",
            "3  48  79 3823.47\n",
            "4  47  79 3823.47\n",
            "5. Deneme\n"
          ]
        },
        {
          "metadata": {
            "tags": null
          },
          "name": "stderr",
          "output_type": "stream",
          "text": [
            "<ipython-input-16-d0b2c8d24563>:316: VisibleDeprecationWarning: Creating an ndarray from ragged nested sequences (which is a list-or-tuple of lists-or-tuples-or ndarrays with different lengths or shapes) is deprecated. If you meant to do this, you must specify 'dtype=object' when creating the ndarray.\n",
            "  concat_df = pd.DataFrame(np.array([stock, indicators, tries[0][0], tries[1][0], tries[2][0]]).reshape(1,5), columns=[\"STOCK\", \"WEIGHTS\", \"BUY TH\", \"SELL TH\", \"PROFIT\"])\n"
          ]
        },
        {
          "metadata": {
            "tags": null
          },
          "name": "stdout",
          "output_type": "stream",
          "text": [
            "    0   1       2\n",
            "0  64  69 3456.12\n",
            "1  65  69 3456.12\n",
            "2  64  68 3314.00\n",
            "3  65  68 3314.00\n",
            "4  43  72 3292.23\n",
            "6. Deneme\n"
          ]
        },
        {
          "metadata": {
            "tags": null
          },
          "name": "stderr",
          "output_type": "stream",
          "text": [
            "<ipython-input-16-d0b2c8d24563>:316: VisibleDeprecationWarning: Creating an ndarray from ragged nested sequences (which is a list-or-tuple of lists-or-tuples-or ndarrays with different lengths or shapes) is deprecated. If you meant to do this, you must specify 'dtype=object' when creating the ndarray.\n",
            "  concat_df = pd.DataFrame(np.array([stock, indicators, tries[0][0], tries[1][0], tries[2][0]]).reshape(1,5), columns=[\"STOCK\", \"WEIGHTS\", \"BUY TH\", \"SELL TH\", \"PROFIT\"])\n"
          ]
        },
        {
          "metadata": {
            "tags": null
          },
          "name": "stdout",
          "output_type": "stream",
          "text": [
            "    0   1       2\n",
            "0  70  70 3408.70\n",
            "1  74  70 3321.25\n",
            "2  73  70 3321.25\n",
            "3  77  70 3270.64\n",
            "4  78  70 3270.64\n",
            "7. Deneme\n"
          ]
        },
        {
          "metadata": {
            "tags": null
          },
          "name": "stderr",
          "output_type": "stream",
          "text": [
            "<ipython-input-16-d0b2c8d24563>:316: VisibleDeprecationWarning: Creating an ndarray from ragged nested sequences (which is a list-or-tuple of lists-or-tuples-or ndarrays with different lengths or shapes) is deprecated. If you meant to do this, you must specify 'dtype=object' when creating the ndarray.\n",
            "  concat_df = pd.DataFrame(np.array([stock, indicators, tries[0][0], tries[1][0], tries[2][0]]).reshape(1,5), columns=[\"STOCK\", \"WEIGHTS\", \"BUY TH\", \"SELL TH\", \"PROFIT\"])\n"
          ]
        },
        {
          "metadata": {
            "tags": null
          },
          "name": "stdout",
          "output_type": "stream",
          "text": [
            "    0   1       2\n",
            "0  45  76 6203.90\n",
            "1  46  76 6203.90\n",
            "2  47  76 6203.90\n",
            "3  42  76 5943.39\n",
            "4  43  76 5943.39\n",
            "8. Deneme\n"
          ]
        },
        {
          "metadata": {
            "tags": null
          },
          "name": "stderr",
          "output_type": "stream",
          "text": [
            "<ipython-input-16-d0b2c8d24563>:316: VisibleDeprecationWarning: Creating an ndarray from ragged nested sequences (which is a list-or-tuple of lists-or-tuples-or ndarrays with different lengths or shapes) is deprecated. If you meant to do this, you must specify 'dtype=object' when creating the ndarray.\n",
            "  concat_df = pd.DataFrame(np.array([stock, indicators, tries[0][0], tries[1][0], tries[2][0]]).reshape(1,5), columns=[\"STOCK\", \"WEIGHTS\", \"BUY TH\", \"SELL TH\", \"PROFIT\"])\n"
          ]
        },
        {
          "metadata": {
            "tags": null
          },
          "name": "stdout",
          "output_type": "stream",
          "text": [
            "    0   1       2\n",
            "0  40  54 4025.90\n",
            "1  40  52 3805.55\n",
            "2  40  51 3805.55\n",
            "3  40  53 3805.55\n",
            "4  42  54 3601.65\n",
            "9. Deneme\n"
          ]
        },
        {
          "metadata": {
            "tags": null
          },
          "name": "stderr",
          "output_type": "stream",
          "text": [
            "<ipython-input-16-d0b2c8d24563>:316: VisibleDeprecationWarning: Creating an ndarray from ragged nested sequences (which is a list-or-tuple of lists-or-tuples-or ndarrays with different lengths or shapes) is deprecated. If you meant to do this, you must specify 'dtype=object' when creating the ndarray.\n",
            "  concat_df = pd.DataFrame(np.array([stock, indicators, tries[0][0], tries[1][0], tries[2][0]]).reshape(1,5), columns=[\"STOCK\", \"WEIGHTS\", \"BUY TH\", \"SELL TH\", \"PROFIT\"])\n"
          ]
        },
        {
          "metadata": {
            "tags": null
          },
          "name": "stdout",
          "output_type": "stream",
          "text": [
            "    0   1       2\n",
            "0  40  75 2821.04\n",
            "1  40  76 2821.04\n",
            "2  40  77 2526.43\n",
            "3  57  65 2452.60\n",
            "4  58  65 2452.60\n",
            "AKSEN.IS\n"
          ]
        },
        {
          "metadata": {
            "tags": null
          },
          "name": "stderr",
          "output_type": "stream",
          "text": [
            "<ipython-input-16-d0b2c8d24563>:316: VisibleDeprecationWarning: Creating an ndarray from ragged nested sequences (which is a list-or-tuple of lists-or-tuples-or ndarrays with different lengths or shapes) is deprecated. If you meant to do this, you must specify 'dtype=object' when creating the ndarray.\n",
            "  concat_df = pd.DataFrame(np.array([stock, indicators, tries[0][0], tries[1][0], tries[2][0]]).reshape(1,5), columns=[\"STOCK\", \"WEIGHTS\", \"BUY TH\", \"SELL TH\", \"PROFIT\"])\n"
          ]
        },
        {
          "metadata": {
            "tags": null
          },
          "name": "stdout",
          "output_type": "stream",
          "text": [
            "0. Deneme\n",
            "    0   1       2\n",
            "0  47  60 6865.65\n",
            "1  47  59 6865.65\n",
            "2  48  59 6865.65\n",
            "3  48  60 6865.65\n",
            "4  47  57 6719.35\n",
            "1. Deneme\n"
          ]
        },
        {
          "metadata": {
            "tags": null
          },
          "name": "stderr",
          "output_type": "stream",
          "text": [
            "<ipython-input-16-d0b2c8d24563>:316: VisibleDeprecationWarning: Creating an ndarray from ragged nested sequences (which is a list-or-tuple of lists-or-tuples-or ndarrays with different lengths or shapes) is deprecated. If you meant to do this, you must specify 'dtype=object' when creating the ndarray.\n",
            "  concat_df = pd.DataFrame(np.array([stock, indicators, tries[0][0], tries[1][0], tries[2][0]]).reshape(1,5), columns=[\"STOCK\", \"WEIGHTS\", \"BUY TH\", \"SELL TH\", \"PROFIT\"])\n"
          ]
        },
        {
          "metadata": {
            "tags": null
          },
          "name": "stdout",
          "output_type": "stream",
          "text": [
            "    0   1       2\n",
            "0  46  59 6319.77\n",
            "1  49  59 6319.77\n",
            "2  45  59 6319.77\n",
            "3  48  59 6319.77\n",
            "4  47  59 6319.77\n",
            "2. Deneme\n"
          ]
        },
        {
          "metadata": {
            "tags": null
          },
          "name": "stderr",
          "output_type": "stream",
          "text": [
            "<ipython-input-16-d0b2c8d24563>:316: VisibleDeprecationWarning: Creating an ndarray from ragged nested sequences (which is a list-or-tuple of lists-or-tuples-or ndarrays with different lengths or shapes) is deprecated. If you meant to do this, you must specify 'dtype=object' when creating the ndarray.\n",
            "  concat_df = pd.DataFrame(np.array([stock, indicators, tries[0][0], tries[1][0], tries[2][0]]).reshape(1,5), columns=[\"STOCK\", \"WEIGHTS\", \"BUY TH\", \"SELL TH\", \"PROFIT\"])\n"
          ]
        },
        {
          "metadata": {
            "tags": null
          },
          "name": "stdout",
          "output_type": "stream",
          "text": [
            "    0   1       2\n",
            "0  52  62 5741.36\n",
            "1  52  61 5677.68\n",
            "2  43  62 5400.97\n",
            "3  43  61 5340.09\n",
            "4  64  68 5324.10\n",
            "3. Deneme\n"
          ]
        },
        {
          "metadata": {
            "tags": null
          },
          "name": "stderr",
          "output_type": "stream",
          "text": [
            "<ipython-input-16-d0b2c8d24563>:316: VisibleDeprecationWarning: Creating an ndarray from ragged nested sequences (which is a list-or-tuple of lists-or-tuples-or ndarrays with different lengths or shapes) is deprecated. If you meant to do this, you must specify 'dtype=object' when creating the ndarray.\n",
            "  concat_df = pd.DataFrame(np.array([stock, indicators, tries[0][0], tries[1][0], tries[2][0]]).reshape(1,5), columns=[\"STOCK\", \"WEIGHTS\", \"BUY TH\", \"SELL TH\", \"PROFIT\"])\n"
          ]
        },
        {
          "metadata": {
            "tags": null
          },
          "name": "stdout",
          "output_type": "stream",
          "text": [
            "    0   1       2\n",
            "0  46  54 5642.50\n",
            "1  47  54 5642.50\n",
            "2  47  53 5642.50\n",
            "3  46  53 5642.50\n",
            "4  46  52 5590.14\n",
            "4. Deneme\n"
          ]
        },
        {
          "metadata": {
            "tags": null
          },
          "name": "stderr",
          "output_type": "stream",
          "text": [
            "<ipython-input-16-d0b2c8d24563>:316: VisibleDeprecationWarning: Creating an ndarray from ragged nested sequences (which is a list-or-tuple of lists-or-tuples-or ndarrays with different lengths or shapes) is deprecated. If you meant to do this, you must specify 'dtype=object' when creating the ndarray.\n",
            "  concat_df = pd.DataFrame(np.array([stock, indicators, tries[0][0], tries[1][0], tries[2][0]]).reshape(1,5), columns=[\"STOCK\", \"WEIGHTS\", \"BUY TH\", \"SELL TH\", \"PROFIT\"])\n"
          ]
        },
        {
          "metadata": {
            "tags": null
          },
          "name": "stdout",
          "output_type": "stream",
          "text": [
            "    0   1       2\n",
            "0  46  56 6533.41\n",
            "1  46  57 6533.41\n",
            "2  45  57 6533.41\n",
            "3  45  56 6533.41\n",
            "4  44  56 6290.09\n",
            "5. Deneme\n"
          ]
        },
        {
          "metadata": {
            "tags": null
          },
          "name": "stderr",
          "output_type": "stream",
          "text": [
            "<ipython-input-16-d0b2c8d24563>:316: VisibleDeprecationWarning: Creating an ndarray from ragged nested sequences (which is a list-or-tuple of lists-or-tuples-or ndarrays with different lengths or shapes) is deprecated. If you meant to do this, you must specify 'dtype=object' when creating the ndarray.\n",
            "  concat_df = pd.DataFrame(np.array([stock, indicators, tries[0][0], tries[1][0], tries[2][0]]).reshape(1,5), columns=[\"STOCK\", \"WEIGHTS\", \"BUY TH\", \"SELL TH\", \"PROFIT\"])\n"
          ]
        },
        {
          "metadata": {
            "tags": null
          },
          "name": "stdout",
          "output_type": "stream",
          "text": [
            "    0   1       2\n",
            "0  49  59 5336.01\n",
            "1  49  60 5336.01\n",
            "2  48  59 5336.01\n",
            "3  48  60 5336.01\n",
            "4  50  59 5262.65\n",
            "6. Deneme\n"
          ]
        },
        {
          "metadata": {
            "tags": null
          },
          "name": "stderr",
          "output_type": "stream",
          "text": [
            "<ipython-input-16-d0b2c8d24563>:316: VisibleDeprecationWarning: Creating an ndarray from ragged nested sequences (which is a list-or-tuple of lists-or-tuples-or ndarrays with different lengths or shapes) is deprecated. If you meant to do this, you must specify 'dtype=object' when creating the ndarray.\n",
            "  concat_df = pd.DataFrame(np.array([stock, indicators, tries[0][0], tries[1][0], tries[2][0]]).reshape(1,5), columns=[\"STOCK\", \"WEIGHTS\", \"BUY TH\", \"SELL TH\", \"PROFIT\"])\n"
          ]
        },
        {
          "metadata": {
            "tags": null
          },
          "name": "stdout",
          "output_type": "stream",
          "text": [
            "    0   1       2\n",
            "0  47  52 5623.60\n",
            "1  47  51 5623.60\n",
            "2  47  53 5623.60\n",
            "3  47  50 5422.74\n",
            "4  49  52 5419.41\n",
            "7. Deneme\n"
          ]
        },
        {
          "metadata": {
            "tags": null
          },
          "name": "stderr",
          "output_type": "stream",
          "text": [
            "<ipython-input-16-d0b2c8d24563>:316: VisibleDeprecationWarning: Creating an ndarray from ragged nested sequences (which is a list-or-tuple of lists-or-tuples-or ndarrays with different lengths or shapes) is deprecated. If you meant to do this, you must specify 'dtype=object' when creating the ndarray.\n",
            "  concat_df = pd.DataFrame(np.array([stock, indicators, tries[0][0], tries[1][0], tries[2][0]]).reshape(1,5), columns=[\"STOCK\", \"WEIGHTS\", \"BUY TH\", \"SELL TH\", \"PROFIT\"])\n"
          ]
        },
        {
          "metadata": {
            "tags": null
          },
          "name": "stdout",
          "output_type": "stream",
          "text": [
            "    0   1       2\n",
            "0  51  50 4818.51\n",
            "1  51  51 4818.51\n",
            "2  56  62 4803.59\n",
            "3  56  63 4803.59\n",
            "4  56  64 4764.19\n",
            "8. Deneme\n"
          ]
        },
        {
          "metadata": {
            "tags": null
          },
          "name": "stderr",
          "output_type": "stream",
          "text": [
            "<ipython-input-16-d0b2c8d24563>:316: VisibleDeprecationWarning: Creating an ndarray from ragged nested sequences (which is a list-or-tuple of lists-or-tuples-or ndarrays with different lengths or shapes) is deprecated. If you meant to do this, you must specify 'dtype=object' when creating the ndarray.\n",
            "  concat_df = pd.DataFrame(np.array([stock, indicators, tries[0][0], tries[1][0], tries[2][0]]).reshape(1,5), columns=[\"STOCK\", \"WEIGHTS\", \"BUY TH\", \"SELL TH\", \"PROFIT\"])\n"
          ]
        },
        {
          "metadata": {
            "tags": null
          },
          "name": "stdout",
          "output_type": "stream",
          "text": [
            "    0   1       2\n",
            "0  54  61 5600.13\n",
            "1  54  60 5600.13\n",
            "2  54  62 5486.35\n",
            "3  55  62 5457.83\n",
            "4  57  62 5457.83\n",
            "9. Deneme\n"
          ]
        },
        {
          "metadata": {
            "tags": null
          },
          "name": "stderr",
          "output_type": "stream",
          "text": [
            "<ipython-input-16-d0b2c8d24563>:316: VisibleDeprecationWarning: Creating an ndarray from ragged nested sequences (which is a list-or-tuple of lists-or-tuples-or ndarrays with different lengths or shapes) is deprecated. If you meant to do this, you must specify 'dtype=object' when creating the ndarray.\n",
            "  concat_df = pd.DataFrame(np.array([stock, indicators, tries[0][0], tries[1][0], tries[2][0]]).reshape(1,5), columns=[\"STOCK\", \"WEIGHTS\", \"BUY TH\", \"SELL TH\", \"PROFIT\"])\n"
          ]
        },
        {
          "metadata": {
            "tags": null
          },
          "name": "stdout",
          "output_type": "stream",
          "text": [
            "    0   1       2\n",
            "0  41  57 6275.44\n",
            "1  41  58 6275.44\n",
            "2  41  59 6208.87\n",
            "3  41  56 6148.29\n",
            "4  41  55 6148.29\n",
            "ALARK.IS\n"
          ]
        },
        {
          "metadata": {
            "tags": null
          },
          "name": "stderr",
          "output_type": "stream",
          "text": [
            "<ipython-input-16-d0b2c8d24563>:316: VisibleDeprecationWarning: Creating an ndarray from ragged nested sequences (which is a list-or-tuple of lists-or-tuples-or ndarrays with different lengths or shapes) is deprecated. If you meant to do this, you must specify 'dtype=object' when creating the ndarray.\n",
            "  concat_df = pd.DataFrame(np.array([stock, indicators, tries[0][0], tries[1][0], tries[2][0]]).reshape(1,5), columns=[\"STOCK\", \"WEIGHTS\", \"BUY TH\", \"SELL TH\", \"PROFIT\"])\n"
          ]
        },
        {
          "metadata": {
            "tags": null
          },
          "name": "stdout",
          "output_type": "stream",
          "text": [
            "0. Deneme\n",
            "    0   1       2\n",
            "0  52  41 6349.03\n",
            "1  53  41 6349.03\n",
            "2  54  41 6034.90\n",
            "3  56  41 6034.90\n",
            "4  55  41 6034.90\n",
            "1. Deneme\n"
          ]
        },
        {
          "metadata": {
            "tags": null
          },
          "name": "stderr",
          "output_type": "stream",
          "text": [
            "<ipython-input-16-d0b2c8d24563>:316: VisibleDeprecationWarning: Creating an ndarray from ragged nested sequences (which is a list-or-tuple of lists-or-tuples-or ndarrays with different lengths or shapes) is deprecated. If you meant to do this, you must specify 'dtype=object' when creating the ndarray.\n",
            "  concat_df = pd.DataFrame(np.array([stock, indicators, tries[0][0], tries[1][0], tries[2][0]]).reshape(1,5), columns=[\"STOCK\", \"WEIGHTS\", \"BUY TH\", \"SELL TH\", \"PROFIT\"])\n"
          ]
        },
        {
          "metadata": {
            "tags": null
          },
          "name": "stdout",
          "output_type": "stream",
          "text": [
            "    0   1       2\n",
            "0  70  43 5333.74\n",
            "1  70  42 5333.74\n",
            "2  70  44 5333.74\n",
            "3  71  42 5333.74\n",
            "4  71  43 5333.74\n",
            "2. Deneme\n"
          ]
        },
        {
          "metadata": {
            "tags": null
          },
          "name": "stderr",
          "output_type": "stream",
          "text": [
            "<ipython-input-16-d0b2c8d24563>:316: VisibleDeprecationWarning: Creating an ndarray from ragged nested sequences (which is a list-or-tuple of lists-or-tuples-or ndarrays with different lengths or shapes) is deprecated. If you meant to do this, you must specify 'dtype=object' when creating the ndarray.\n",
            "  concat_df = pd.DataFrame(np.array([stock, indicators, tries[0][0], tries[1][0], tries[2][0]]).reshape(1,5), columns=[\"STOCK\", \"WEIGHTS\", \"BUY TH\", \"SELL TH\", \"PROFIT\"])\n"
          ]
        },
        {
          "metadata": {
            "tags": null
          },
          "name": "stdout",
          "output_type": "stream",
          "text": [
            "    0   1       2\n",
            "0  75  46 7800.33\n",
            "1  75  45 7800.33\n",
            "2  75  41 7800.33\n",
            "3  75  40 7800.33\n",
            "4  75  42 7800.33\n",
            "3. Deneme\n"
          ]
        },
        {
          "metadata": {
            "tags": null
          },
          "name": "stderr",
          "output_type": "stream",
          "text": [
            "<ipython-input-16-d0b2c8d24563>:316: VisibleDeprecationWarning: Creating an ndarray from ragged nested sequences (which is a list-or-tuple of lists-or-tuples-or ndarrays with different lengths or shapes) is deprecated. If you meant to do this, you must specify 'dtype=object' when creating the ndarray.\n",
            "  concat_df = pd.DataFrame(np.array([stock, indicators, tries[0][0], tries[1][0], tries[2][0]]).reshape(1,5), columns=[\"STOCK\", \"WEIGHTS\", \"BUY TH\", \"SELL TH\", \"PROFIT\"])\n"
          ]
        },
        {
          "metadata": {
            "tags": null
          },
          "name": "stdout",
          "output_type": "stream",
          "text": [
            "    0   1       2\n",
            "0  73  42 5973.21\n",
            "1  73  41 5973.21\n",
            "2  73  40 5973.21\n",
            "3  73  44 5968.26\n",
            "4  73  43 5968.26\n",
            "4. Deneme\n"
          ]
        },
        {
          "metadata": {
            "tags": null
          },
          "name": "stderr",
          "output_type": "stream",
          "text": [
            "<ipython-input-16-d0b2c8d24563>:316: VisibleDeprecationWarning: Creating an ndarray from ragged nested sequences (which is a list-or-tuple of lists-or-tuples-or ndarrays with different lengths or shapes) is deprecated. If you meant to do this, you must specify 'dtype=object' when creating the ndarray.\n",
            "  concat_df = pd.DataFrame(np.array([stock, indicators, tries[0][0], tries[1][0], tries[2][0]]).reshape(1,5), columns=[\"STOCK\", \"WEIGHTS\", \"BUY TH\", \"SELL TH\", \"PROFIT\"])\n"
          ]
        },
        {
          "metadata": {
            "tags": null
          },
          "name": "stdout",
          "output_type": "stream",
          "text": [
            "    0   1       2\n",
            "0  76  40 6598.46\n",
            "1  74  40 6598.46\n",
            "2  77  40 6598.46\n",
            "3  75  40 6598.46\n",
            "4  70  40 6593.38\n",
            "5. Deneme\n"
          ]
        },
        {
          "metadata": {
            "tags": null
          },
          "name": "stderr",
          "output_type": "stream",
          "text": [
            "<ipython-input-16-d0b2c8d24563>:316: VisibleDeprecationWarning: Creating an ndarray from ragged nested sequences (which is a list-or-tuple of lists-or-tuples-or ndarrays with different lengths or shapes) is deprecated. If you meant to do this, you must specify 'dtype=object' when creating the ndarray.\n",
            "  concat_df = pd.DataFrame(np.array([stock, indicators, tries[0][0], tries[1][0], tries[2][0]]).reshape(1,5), columns=[\"STOCK\", \"WEIGHTS\", \"BUY TH\", \"SELL TH\", \"PROFIT\"])\n"
          ]
        },
        {
          "metadata": {
            "tags": null
          },
          "name": "stdout",
          "output_type": "stream",
          "text": [
            "    0   1       2\n",
            "0  77  40 6228.60\n",
            "1  78  40 6228.60\n",
            "2  79  40 6228.60\n",
            "3  78  42 5824.91\n",
            "4  77  41 5824.91\n",
            "6. Deneme\n"
          ]
        },
        {
          "metadata": {
            "tags": null
          },
          "name": "stderr",
          "output_type": "stream",
          "text": [
            "<ipython-input-16-d0b2c8d24563>:316: VisibleDeprecationWarning: Creating an ndarray from ragged nested sequences (which is a list-or-tuple of lists-or-tuples-or ndarrays with different lengths or shapes) is deprecated. If you meant to do this, you must specify 'dtype=object' when creating the ndarray.\n",
            "  concat_df = pd.DataFrame(np.array([stock, indicators, tries[0][0], tries[1][0], tries[2][0]]).reshape(1,5), columns=[\"STOCK\", \"WEIGHTS\", \"BUY TH\", \"SELL TH\", \"PROFIT\"])\n"
          ]
        },
        {
          "metadata": {
            "tags": null
          },
          "name": "stdout",
          "output_type": "stream",
          "text": [
            "    0   1       2\n",
            "0  79  40 6831.83\n",
            "1  78  40 6033.31\n",
            "2  77  40 5961.01\n",
            "3  76  40 5875.94\n",
            "4  75  40 5875.94\n",
            "7. Deneme\n"
          ]
        },
        {
          "metadata": {
            "tags": null
          },
          "name": "stderr",
          "output_type": "stream",
          "text": [
            "<ipython-input-16-d0b2c8d24563>:316: VisibleDeprecationWarning: Creating an ndarray from ragged nested sequences (which is a list-or-tuple of lists-or-tuples-or ndarrays with different lengths or shapes) is deprecated. If you meant to do this, you must specify 'dtype=object' when creating the ndarray.\n",
            "  concat_df = pd.DataFrame(np.array([stock, indicators, tries[0][0], tries[1][0], tries[2][0]]).reshape(1,5), columns=[\"STOCK\", \"WEIGHTS\", \"BUY TH\", \"SELL TH\", \"PROFIT\"])\n"
          ]
        },
        {
          "metadata": {
            "tags": null
          },
          "name": "stdout",
          "output_type": "stream",
          "text": [
            "    0   1       2\n",
            "0  74  42 9448.69\n",
            "1  77  40 9448.69\n",
            "2  73  41 9448.69\n",
            "3  73  40 9448.69\n",
            "4  76  40 9448.69\n",
            "8. Deneme\n"
          ]
        },
        {
          "metadata": {
            "tags": null
          },
          "name": "stderr",
          "output_type": "stream",
          "text": [
            "<ipython-input-16-d0b2c8d24563>:316: VisibleDeprecationWarning: Creating an ndarray from ragged nested sequences (which is a list-or-tuple of lists-or-tuples-or ndarrays with different lengths or shapes) is deprecated. If you meant to do this, you must specify 'dtype=object' when creating the ndarray.\n",
            "  concat_df = pd.DataFrame(np.array([stock, indicators, tries[0][0], tries[1][0], tries[2][0]]).reshape(1,5), columns=[\"STOCK\", \"WEIGHTS\", \"BUY TH\", \"SELL TH\", \"PROFIT\"])\n"
          ]
        },
        {
          "metadata": {
            "tags": null
          },
          "name": "stdout",
          "output_type": "stream",
          "text": [
            "    0   1       2\n",
            "0  79  42 6964.86\n",
            "1  78  42 6964.86\n",
            "2  78  41 6733.14\n",
            "3  79  40 6733.14\n",
            "4  79  41 6733.14\n",
            "9. Deneme\n"
          ]
        },
        {
          "metadata": {
            "tags": null
          },
          "name": "stderr",
          "output_type": "stream",
          "text": [
            "<ipython-input-16-d0b2c8d24563>:316: VisibleDeprecationWarning: Creating an ndarray from ragged nested sequences (which is a list-or-tuple of lists-or-tuples-or ndarrays with different lengths or shapes) is deprecated. If you meant to do this, you must specify 'dtype=object' when creating the ndarray.\n",
            "  concat_df = pd.DataFrame(np.array([stock, indicators, tries[0][0], tries[1][0], tries[2][0]]).reshape(1,5), columns=[\"STOCK\", \"WEIGHTS\", \"BUY TH\", \"SELL TH\", \"PROFIT\"])\n"
          ]
        },
        {
          "metadata": {
            "tags": null
          },
          "name": "stdout",
          "output_type": "stream",
          "text": [
            "    0   1       2\n",
            "0  71  52 5410.15\n",
            "1  72  53 5410.15\n",
            "2  72  52 5410.15\n",
            "3  71  53 5410.15\n",
            "4  72  40 5324.95\n",
            "ARCLK.IS\n"
          ]
        },
        {
          "metadata": {
            "tags": null
          },
          "name": "stderr",
          "output_type": "stream",
          "text": [
            "<ipython-input-16-d0b2c8d24563>:316: VisibleDeprecationWarning: Creating an ndarray from ragged nested sequences (which is a list-or-tuple of lists-or-tuples-or ndarrays with different lengths or shapes) is deprecated. If you meant to do this, you must specify 'dtype=object' when creating the ndarray.\n",
            "  concat_df = pd.DataFrame(np.array([stock, indicators, tries[0][0], tries[1][0], tries[2][0]]).reshape(1,5), columns=[\"STOCK\", \"WEIGHTS\", \"BUY TH\", \"SELL TH\", \"PROFIT\"])\n"
          ]
        },
        {
          "metadata": {
            "tags": null
          },
          "name": "stdout",
          "output_type": "stream",
          "text": [
            "0. Deneme\n",
            "    0   1       2\n",
            "0  40  44 2805.62\n",
            "1  40  42 2777.88\n",
            "2  40  43 2777.88\n",
            "3  43  44 2587.19\n",
            "4  45  44 2587.19\n",
            "1. Deneme\n"
          ]
        },
        {
          "metadata": {
            "tags": null
          },
          "name": "stderr",
          "output_type": "stream",
          "text": [
            "<ipython-input-16-d0b2c8d24563>:316: VisibleDeprecationWarning: Creating an ndarray from ragged nested sequences (which is a list-or-tuple of lists-or-tuples-or ndarrays with different lengths or shapes) is deprecated. If you meant to do this, you must specify 'dtype=object' when creating the ndarray.\n",
            "  concat_df = pd.DataFrame(np.array([stock, indicators, tries[0][0], tries[1][0], tries[2][0]]).reshape(1,5), columns=[\"STOCK\", \"WEIGHTS\", \"BUY TH\", \"SELL TH\", \"PROFIT\"])\n"
          ]
        },
        {
          "metadata": {
            "tags": null
          },
          "name": "stdout",
          "output_type": "stream",
          "text": [
            "    0   1       2\n",
            "0  60  45 3799.98\n",
            "1  57  45 3783.78\n",
            "2  58  45 3783.78\n",
            "3  59  45 3783.78\n",
            "4  60  40 3654.64\n",
            "2. Deneme\n"
          ]
        },
        {
          "metadata": {
            "tags": null
          },
          "name": "stderr",
          "output_type": "stream",
          "text": [
            "<ipython-input-16-d0b2c8d24563>:316: VisibleDeprecationWarning: Creating an ndarray from ragged nested sequences (which is a list-or-tuple of lists-or-tuples-or ndarrays with different lengths or shapes) is deprecated. If you meant to do this, you must specify 'dtype=object' when creating the ndarray.\n",
            "  concat_df = pd.DataFrame(np.array([stock, indicators, tries[0][0], tries[1][0], tries[2][0]]).reshape(1,5), columns=[\"STOCK\", \"WEIGHTS\", \"BUY TH\", \"SELL TH\", \"PROFIT\"])\n"
          ]
        },
        {
          "metadata": {
            "tags": null
          },
          "name": "stdout",
          "output_type": "stream",
          "text": [
            "    0   1       2\n",
            "0  63  45 3497.31\n",
            "1  62  45 3497.31\n",
            "2  61  45 3493.28\n",
            "3  56  45 3493.28\n",
            "4  59  45 3493.28\n",
            "3. Deneme\n"
          ]
        },
        {
          "metadata": {
            "tags": null
          },
          "name": "stderr",
          "output_type": "stream",
          "text": [
            "<ipython-input-16-d0b2c8d24563>:316: VisibleDeprecationWarning: Creating an ndarray from ragged nested sequences (which is a list-or-tuple of lists-or-tuples-or ndarrays with different lengths or shapes) is deprecated. If you meant to do this, you must specify 'dtype=object' when creating the ndarray.\n",
            "  concat_df = pd.DataFrame(np.array([stock, indicators, tries[0][0], tries[1][0], tries[2][0]]).reshape(1,5), columns=[\"STOCK\", \"WEIGHTS\", \"BUY TH\", \"SELL TH\", \"PROFIT\"])\n"
          ]
        },
        {
          "metadata": {
            "tags": null
          },
          "name": "stdout",
          "output_type": "stream",
          "text": [
            "    0   1       2\n",
            "0  60  68 3636.91\n",
            "1  60  67 3636.91\n",
            "2  58  68 3483.17\n",
            "3  58  67 3483.17\n",
            "4  59  67 3483.17\n",
            "4. Deneme\n"
          ]
        },
        {
          "metadata": {
            "tags": null
          },
          "name": "stderr",
          "output_type": "stream",
          "text": [
            "<ipython-input-16-d0b2c8d24563>:316: VisibleDeprecationWarning: Creating an ndarray from ragged nested sequences (which is a list-or-tuple of lists-or-tuples-or ndarrays with different lengths or shapes) is deprecated. If you meant to do this, you must specify 'dtype=object' when creating the ndarray.\n",
            "  concat_df = pd.DataFrame(np.array([stock, indicators, tries[0][0], tries[1][0], tries[2][0]]).reshape(1,5), columns=[\"STOCK\", \"WEIGHTS\", \"BUY TH\", \"SELL TH\", \"PROFIT\"])\n"
          ]
        },
        {
          "metadata": {
            "tags": null
          },
          "name": "stdout",
          "output_type": "stream",
          "text": [
            "    0   1       2\n",
            "0  55  40 3347.99\n",
            "1  55  41 3347.99\n",
            "2  56  40 3347.99\n",
            "3  56  41 3347.99\n",
            "4  59  40 3259.90\n",
            "5. Deneme\n"
          ]
        },
        {
          "metadata": {
            "tags": null
          },
          "name": "stderr",
          "output_type": "stream",
          "text": [
            "<ipython-input-16-d0b2c8d24563>:316: VisibleDeprecationWarning: Creating an ndarray from ragged nested sequences (which is a list-or-tuple of lists-or-tuples-or ndarrays with different lengths or shapes) is deprecated. If you meant to do this, you must specify 'dtype=object' when creating the ndarray.\n",
            "  concat_df = pd.DataFrame(np.array([stock, indicators, tries[0][0], tries[1][0], tries[2][0]]).reshape(1,5), columns=[\"STOCK\", \"WEIGHTS\", \"BUY TH\", \"SELL TH\", \"PROFIT\"])\n"
          ]
        },
        {
          "metadata": {
            "tags": null
          },
          "name": "stdout",
          "output_type": "stream",
          "text": [
            "    0   1       2\n",
            "0  64  65 3068.85\n",
            "1  65  65 3068.85\n",
            "2  65  64 3068.85\n",
            "3  64  64 3068.85\n",
            "4  54  57 3057.81\n",
            "6. Deneme\n"
          ]
        },
        {
          "metadata": {
            "tags": null
          },
          "name": "stderr",
          "output_type": "stream",
          "text": [
            "<ipython-input-16-d0b2c8d24563>:316: VisibleDeprecationWarning: Creating an ndarray from ragged nested sequences (which is a list-or-tuple of lists-or-tuples-or ndarrays with different lengths or shapes) is deprecated. If you meant to do this, you must specify 'dtype=object' when creating the ndarray.\n",
            "  concat_df = pd.DataFrame(np.array([stock, indicators, tries[0][0], tries[1][0], tries[2][0]]).reshape(1,5), columns=[\"STOCK\", \"WEIGHTS\", \"BUY TH\", \"SELL TH\", \"PROFIT\"])\n"
          ]
        },
        {
          "metadata": {
            "tags": null
          },
          "name": "stdout",
          "output_type": "stream",
          "text": [
            "    0   1       2\n",
            "0  64  72 3337.77\n",
            "1  65  72 3279.39\n",
            "2  64  73 3273.15\n",
            "3  63  72 3249.11\n",
            "4  61  72 3249.11\n",
            "7. Deneme\n"
          ]
        },
        {
          "metadata": {
            "tags": null
          },
          "name": "stderr",
          "output_type": "stream",
          "text": [
            "<ipython-input-16-d0b2c8d24563>:316: VisibleDeprecationWarning: Creating an ndarray from ragged nested sequences (which is a list-or-tuple of lists-or-tuples-or ndarrays with different lengths or shapes) is deprecated. If you meant to do this, you must specify 'dtype=object' when creating the ndarray.\n",
            "  concat_df = pd.DataFrame(np.array([stock, indicators, tries[0][0], tries[1][0], tries[2][0]]).reshape(1,5), columns=[\"STOCK\", \"WEIGHTS\", \"BUY TH\", \"SELL TH\", \"PROFIT\"])\n"
          ]
        },
        {
          "metadata": {
            "tags": null
          },
          "name": "stdout",
          "output_type": "stream",
          "text": [
            "    0   1       2\n",
            "0  64  71 2869.74\n",
            "1  64  70 2869.74\n",
            "2  63  71 2869.74\n",
            "3  63  70 2869.74\n",
            "4  60  70 2859.45\n",
            "8. Deneme\n"
          ]
        },
        {
          "metadata": {
            "tags": null
          },
          "name": "stderr",
          "output_type": "stream",
          "text": [
            "<ipython-input-16-d0b2c8d24563>:316: VisibleDeprecationWarning: Creating an ndarray from ragged nested sequences (which is a list-or-tuple of lists-or-tuples-or ndarrays with different lengths or shapes) is deprecated. If you meant to do this, you must specify 'dtype=object' when creating the ndarray.\n",
            "  concat_df = pd.DataFrame(np.array([stock, indicators, tries[0][0], tries[1][0], tries[2][0]]).reshape(1,5), columns=[\"STOCK\", \"WEIGHTS\", \"BUY TH\", \"SELL TH\", \"PROFIT\"])\n"
          ]
        },
        {
          "metadata": {
            "tags": null
          },
          "name": "stdout",
          "output_type": "stream",
          "text": [
            "    0   1       2\n",
            "0  65  75 3028.03\n",
            "1  65  79 2865.80\n",
            "2  65  76 2786.90\n",
            "3  65  74 2754.77\n",
            "4  65  71 2744.39\n",
            "9. Deneme\n"
          ]
        },
        {
          "metadata": {
            "tags": null
          },
          "name": "stderr",
          "output_type": "stream",
          "text": [
            "<ipython-input-16-d0b2c8d24563>:316: VisibleDeprecationWarning: Creating an ndarray from ragged nested sequences (which is a list-or-tuple of lists-or-tuples-or ndarrays with different lengths or shapes) is deprecated. If you meant to do this, you must specify 'dtype=object' when creating the ndarray.\n",
            "  concat_df = pd.DataFrame(np.array([stock, indicators, tries[0][0], tries[1][0], tries[2][0]]).reshape(1,5), columns=[\"STOCK\", \"WEIGHTS\", \"BUY TH\", \"SELL TH\", \"PROFIT\"])\n"
          ]
        },
        {
          "metadata": {
            "tags": null
          },
          "name": "stdout",
          "output_type": "stream",
          "text": [
            "    0   1       2\n",
            "0  64  70 3911.98\n",
            "1  63  70 3911.98\n",
            "2  62  70 3911.98\n",
            "3  61  70 3900.25\n",
            "4  64  71 3859.16\n",
            "ASELS.IS\n"
          ]
        },
        {
          "metadata": {
            "tags": null
          },
          "name": "stderr",
          "output_type": "stream",
          "text": [
            "<ipython-input-16-d0b2c8d24563>:316: VisibleDeprecationWarning: Creating an ndarray from ragged nested sequences (which is a list-or-tuple of lists-or-tuples-or ndarrays with different lengths or shapes) is deprecated. If you meant to do this, you must specify 'dtype=object' when creating the ndarray.\n",
            "  concat_df = pd.DataFrame(np.array([stock, indicators, tries[0][0], tries[1][0], tries[2][0]]).reshape(1,5), columns=[\"STOCK\", \"WEIGHTS\", \"BUY TH\", \"SELL TH\", \"PROFIT\"])\n"
          ]
        },
        {
          "metadata": {
            "tags": null
          },
          "name": "stdout",
          "output_type": "stream",
          "text": [
            "0. Deneme\n",
            "    0   1       2\n",
            "0  66  68 3765.42\n",
            "1  67  68 3765.42\n",
            "2  41  58 3118.40\n",
            "3  41  57 3118.40\n",
            "4  40  58 3118.40\n",
            "1. Deneme\n"
          ]
        },
        {
          "metadata": {
            "tags": null
          },
          "name": "stderr",
          "output_type": "stream",
          "text": [
            "<ipython-input-16-d0b2c8d24563>:316: VisibleDeprecationWarning: Creating an ndarray from ragged nested sequences (which is a list-or-tuple of lists-or-tuples-or ndarrays with different lengths or shapes) is deprecated. If you meant to do this, you must specify 'dtype=object' when creating the ndarray.\n",
            "  concat_df = pd.DataFrame(np.array([stock, indicators, tries[0][0], tries[1][0], tries[2][0]]).reshape(1,5), columns=[\"STOCK\", \"WEIGHTS\", \"BUY TH\", \"SELL TH\", \"PROFIT\"])\n"
          ]
        },
        {
          "metadata": {
            "tags": null
          },
          "name": "stdout",
          "output_type": "stream",
          "text": [
            "    0   1       2\n",
            "0  69  54 2665.38\n",
            "1  71  75 2644.89\n",
            "2  71  74 2644.89\n",
            "3  70  75 2644.89\n",
            "4  70  74 2644.89\n",
            "2. Deneme\n"
          ]
        },
        {
          "metadata": {
            "tags": null
          },
          "name": "stderr",
          "output_type": "stream",
          "text": [
            "<ipython-input-16-d0b2c8d24563>:316: VisibleDeprecationWarning: Creating an ndarray from ragged nested sequences (which is a list-or-tuple of lists-or-tuples-or ndarrays with different lengths or shapes) is deprecated. If you meant to do this, you must specify 'dtype=object' when creating the ndarray.\n",
            "  concat_df = pd.DataFrame(np.array([stock, indicators, tries[0][0], tries[1][0], tries[2][0]]).reshape(1,5), columns=[\"STOCK\", \"WEIGHTS\", \"BUY TH\", \"SELL TH\", \"PROFIT\"])\n"
          ]
        },
        {
          "metadata": {
            "tags": null
          },
          "name": "stdout",
          "output_type": "stream",
          "text": [
            "    0   1       2\n",
            "0  60  67 3619.53\n",
            "1  59  67 3619.53\n",
            "2  59  66 3546.84\n",
            "3  60  66 3546.84\n",
            "4  59  65 3546.84\n",
            "3. Deneme\n"
          ]
        },
        {
          "metadata": {
            "tags": null
          },
          "name": "stderr",
          "output_type": "stream",
          "text": [
            "<ipython-input-16-d0b2c8d24563>:316: VisibleDeprecationWarning: Creating an ndarray from ragged nested sequences (which is a list-or-tuple of lists-or-tuples-or ndarrays with different lengths or shapes) is deprecated. If you meant to do this, you must specify 'dtype=object' when creating the ndarray.\n",
            "  concat_df = pd.DataFrame(np.array([stock, indicators, tries[0][0], tries[1][0], tries[2][0]]).reshape(1,5), columns=[\"STOCK\", \"WEIGHTS\", \"BUY TH\", \"SELL TH\", \"PROFIT\"])\n"
          ]
        },
        {
          "metadata": {
            "tags": null
          },
          "name": "stdout",
          "output_type": "stream",
          "text": [
            "    0   1       2\n",
            "0  47  66 3018.25\n",
            "1  47  65 3018.25\n",
            "2  48  66 3018.25\n",
            "3  48  65 3018.25\n",
            "4  75  78 2998.31\n",
            "4. Deneme\n"
          ]
        },
        {
          "metadata": {
            "tags": null
          },
          "name": "stderr",
          "output_type": "stream",
          "text": [
            "<ipython-input-16-d0b2c8d24563>:316: VisibleDeprecationWarning: Creating an ndarray from ragged nested sequences (which is a list-or-tuple of lists-or-tuples-or ndarrays with different lengths or shapes) is deprecated. If you meant to do this, you must specify 'dtype=object' when creating the ndarray.\n",
            "  concat_df = pd.DataFrame(np.array([stock, indicators, tries[0][0], tries[1][0], tries[2][0]]).reshape(1,5), columns=[\"STOCK\", \"WEIGHTS\", \"BUY TH\", \"SELL TH\", \"PROFIT\"])\n"
          ]
        },
        {
          "metadata": {
            "tags": null
          },
          "name": "stdout",
          "output_type": "stream",
          "text": [
            "    0   1       2\n",
            "0  63  65 3619.71\n",
            "1  64  65 3619.71\n",
            "2  64  69 3375.48\n",
            "3  63  69 3375.48\n",
            "4  64  67 3284.03\n",
            "5. Deneme\n"
          ]
        },
        {
          "metadata": {
            "tags": null
          },
          "name": "stderr",
          "output_type": "stream",
          "text": [
            "<ipython-input-16-d0b2c8d24563>:316: VisibleDeprecationWarning: Creating an ndarray from ragged nested sequences (which is a list-or-tuple of lists-or-tuples-or ndarrays with different lengths or shapes) is deprecated. If you meant to do this, you must specify 'dtype=object' when creating the ndarray.\n",
            "  concat_df = pd.DataFrame(np.array([stock, indicators, tries[0][0], tries[1][0], tries[2][0]]).reshape(1,5), columns=[\"STOCK\", \"WEIGHTS\", \"BUY TH\", \"SELL TH\", \"PROFIT\"])\n"
          ]
        },
        {
          "metadata": {
            "tags": null
          },
          "name": "stdout",
          "output_type": "stream",
          "text": [
            "    0   1       2\n",
            "0  64  68 2712.08\n",
            "1  65  68 2398.36\n",
            "2  64  66 2351.36\n",
            "3  64  67 2351.36\n",
            "4  64  62 2310.16\n",
            "6. Deneme\n"
          ]
        },
        {
          "metadata": {
            "tags": null
          },
          "name": "stderr",
          "output_type": "stream",
          "text": [
            "<ipython-input-16-d0b2c8d24563>:316: VisibleDeprecationWarning: Creating an ndarray from ragged nested sequences (which is a list-or-tuple of lists-or-tuples-or ndarrays with different lengths or shapes) is deprecated. If you meant to do this, you must specify 'dtype=object' when creating the ndarray.\n",
            "  concat_df = pd.DataFrame(np.array([stock, indicators, tries[0][0], tries[1][0], tries[2][0]]).reshape(1,5), columns=[\"STOCK\", \"WEIGHTS\", \"BUY TH\", \"SELL TH\", \"PROFIT\"])\n"
          ]
        },
        {
          "metadata": {
            "tags": null
          },
          "name": "stdout",
          "output_type": "stream",
          "text": [
            "    0   1       2\n",
            "0  75  78 3003.03\n",
            "1  71  72 2942.99\n",
            "2  70  72 2942.99\n",
            "3  75  76 2809.86\n",
            "4  75  77 2809.86\n",
            "7. Deneme\n"
          ]
        },
        {
          "metadata": {
            "tags": null
          },
          "name": "stderr",
          "output_type": "stream",
          "text": [
            "<ipython-input-16-d0b2c8d24563>:316: VisibleDeprecationWarning: Creating an ndarray from ragged nested sequences (which is a list-or-tuple of lists-or-tuples-or ndarrays with different lengths or shapes) is deprecated. If you meant to do this, you must specify 'dtype=object' when creating the ndarray.\n",
            "  concat_df = pd.DataFrame(np.array([stock, indicators, tries[0][0], tries[1][0], tries[2][0]]).reshape(1,5), columns=[\"STOCK\", \"WEIGHTS\", \"BUY TH\", \"SELL TH\", \"PROFIT\"])\n"
          ]
        },
        {
          "metadata": {
            "tags": null
          },
          "name": "stdout",
          "output_type": "stream",
          "text": [
            "    0   1       2\n",
            "0  66  69 3070.61\n",
            "1  66  68 3070.61\n",
            "2  65  68 3070.61\n",
            "3  65  69 3070.61\n",
            "4  67  69 3051.77\n",
            "8. Deneme\n"
          ]
        },
        {
          "metadata": {
            "tags": null
          },
          "name": "stderr",
          "output_type": "stream",
          "text": [
            "<ipython-input-16-d0b2c8d24563>:316: VisibleDeprecationWarning: Creating an ndarray from ragged nested sequences (which is a list-or-tuple of lists-or-tuples-or ndarrays with different lengths or shapes) is deprecated. If you meant to do this, you must specify 'dtype=object' when creating the ndarray.\n",
            "  concat_df = pd.DataFrame(np.array([stock, indicators, tries[0][0], tries[1][0], tries[2][0]]).reshape(1,5), columns=[\"STOCK\", \"WEIGHTS\", \"BUY TH\", \"SELL TH\", \"PROFIT\"])\n"
          ]
        },
        {
          "metadata": {
            "tags": null
          },
          "name": "stdout",
          "output_type": "stream",
          "text": [
            "    0   1       2\n",
            "0  57  61 3057.94\n",
            "1  56  61 3057.94\n",
            "2  56  62 3057.94\n",
            "3  57  62 3057.94\n",
            "4  56  63 2977.29\n",
            "9. Deneme\n"
          ]
        },
        {
          "metadata": {
            "tags": null
          },
          "name": "stderr",
          "output_type": "stream",
          "text": [
            "<ipython-input-16-d0b2c8d24563>:316: VisibleDeprecationWarning: Creating an ndarray from ragged nested sequences (which is a list-or-tuple of lists-or-tuples-or ndarrays with different lengths or shapes) is deprecated. If you meant to do this, you must specify 'dtype=object' when creating the ndarray.\n",
            "  concat_df = pd.DataFrame(np.array([stock, indicators, tries[0][0], tries[1][0], tries[2][0]]).reshape(1,5), columns=[\"STOCK\", \"WEIGHTS\", \"BUY TH\", \"SELL TH\", \"PROFIT\"])\n"
          ]
        },
        {
          "metadata": {
            "tags": null
          },
          "name": "stdout",
          "output_type": "stream",
          "text": [
            "    0   1       2\n",
            "0  67  71 2940.40\n",
            "1  67  70 2940.40\n",
            "2  68  70 2940.40\n",
            "3  68  71 2940.40\n",
            "4  68  72 2916.54\n",
            "BIMAS.IS\n"
          ]
        },
        {
          "metadata": {
            "tags": null
          },
          "name": "stderr",
          "output_type": "stream",
          "text": [
            "<ipython-input-16-d0b2c8d24563>:316: VisibleDeprecationWarning: Creating an ndarray from ragged nested sequences (which is a list-or-tuple of lists-or-tuples-or ndarrays with different lengths or shapes) is deprecated. If you meant to do this, you must specify 'dtype=object' when creating the ndarray.\n",
            "  concat_df = pd.DataFrame(np.array([stock, indicators, tries[0][0], tries[1][0], tries[2][0]]).reshape(1,5), columns=[\"STOCK\", \"WEIGHTS\", \"BUY TH\", \"SELL TH\", \"PROFIT\"])\n"
          ]
        },
        {
          "metadata": {
            "tags": null
          },
          "name": "stdout",
          "output_type": "stream",
          "text": [
            "0. Deneme\n",
            "    0   1       2\n",
            "0  61  50 1791.03\n",
            "1  62  50 1791.03\n",
            "2  63  50 1774.12\n",
            "3  72  50 1770.11\n",
            "4  70  50 1770.11\n",
            "1. Deneme\n"
          ]
        },
        {
          "metadata": {
            "tags": null
          },
          "name": "stderr",
          "output_type": "stream",
          "text": [
            "<ipython-input-16-d0b2c8d24563>:316: VisibleDeprecationWarning: Creating an ndarray from ragged nested sequences (which is a list-or-tuple of lists-or-tuples-or ndarrays with different lengths or shapes) is deprecated. If you meant to do this, you must specify 'dtype=object' when creating the ndarray.\n",
            "  concat_df = pd.DataFrame(np.array([stock, indicators, tries[0][0], tries[1][0], tries[2][0]]).reshape(1,5), columns=[\"STOCK\", \"WEIGHTS\", \"BUY TH\", \"SELL TH\", \"PROFIT\"])\n"
          ]
        },
        {
          "metadata": {
            "tags": null
          },
          "name": "stdout",
          "output_type": "stream",
          "text": [
            "    0   1       2\n",
            "0  65  68 2563.44\n",
            "1  66  69 2563.44\n",
            "2  66  68 2563.44\n",
            "3  65  69 2563.44\n",
            "4  66  70 2403.61\n",
            "2. Deneme\n"
          ]
        },
        {
          "metadata": {
            "tags": null
          },
          "name": "stderr",
          "output_type": "stream",
          "text": [
            "<ipython-input-16-d0b2c8d24563>:316: VisibleDeprecationWarning: Creating an ndarray from ragged nested sequences (which is a list-or-tuple of lists-or-tuples-or ndarrays with different lengths or shapes) is deprecated. If you meant to do this, you must specify 'dtype=object' when creating the ndarray.\n",
            "  concat_df = pd.DataFrame(np.array([stock, indicators, tries[0][0], tries[1][0], tries[2][0]]).reshape(1,5), columns=[\"STOCK\", \"WEIGHTS\", \"BUY TH\", \"SELL TH\", \"PROFIT\"])\n"
          ]
        },
        {
          "metadata": {
            "tags": null
          },
          "name": "stdout",
          "output_type": "stream",
          "text": [
            "    0   1       2\n",
            "0  53  61 2077.39\n",
            "1  58  61 2060.57\n",
            "2  57  61 2060.57\n",
            "3  60  61 2050.84\n",
            "4  59  61 2050.84\n",
            "3. Deneme\n"
          ]
        },
        {
          "metadata": {
            "tags": null
          },
          "name": "stderr",
          "output_type": "stream",
          "text": [
            "<ipython-input-16-d0b2c8d24563>:316: VisibleDeprecationWarning: Creating an ndarray from ragged nested sequences (which is a list-or-tuple of lists-or-tuples-or ndarrays with different lengths or shapes) is deprecated. If you meant to do this, you must specify 'dtype=object' when creating the ndarray.\n",
            "  concat_df = pd.DataFrame(np.array([stock, indicators, tries[0][0], tries[1][0], tries[2][0]]).reshape(1,5), columns=[\"STOCK\", \"WEIGHTS\", \"BUY TH\", \"SELL TH\", \"PROFIT\"])\n"
          ]
        },
        {
          "metadata": {
            "tags": null
          },
          "name": "stdout",
          "output_type": "stream",
          "text": [
            "    0   1       2\n",
            "0  48  52 1763.12\n",
            "1  48  51 1763.12\n",
            "2  49  52 1763.12\n",
            "3  49  51 1763.12\n",
            "4  53  52 1722.57\n",
            "4. Deneme\n"
          ]
        },
        {
          "metadata": {
            "tags": null
          },
          "name": "stderr",
          "output_type": "stream",
          "text": [
            "<ipython-input-16-d0b2c8d24563>:316: VisibleDeprecationWarning: Creating an ndarray from ragged nested sequences (which is a list-or-tuple of lists-or-tuples-or ndarrays with different lengths or shapes) is deprecated. If you meant to do this, you must specify 'dtype=object' when creating the ndarray.\n",
            "  concat_df = pd.DataFrame(np.array([stock, indicators, tries[0][0], tries[1][0], tries[2][0]]).reshape(1,5), columns=[\"STOCK\", \"WEIGHTS\", \"BUY TH\", \"SELL TH\", \"PROFIT\"])\n"
          ]
        },
        {
          "metadata": {
            "tags": null
          },
          "name": "stdout",
          "output_type": "stream",
          "text": [
            "    0   1       2\n",
            "0  46  54 1704.65\n",
            "1  72  42 1668.83\n",
            "2  71  42 1668.83\n",
            "3  70  42 1668.83\n",
            "4  45  54 1659.39\n",
            "5. Deneme\n"
          ]
        },
        {
          "metadata": {
            "tags": null
          },
          "name": "stderr",
          "output_type": "stream",
          "text": [
            "<ipython-input-16-d0b2c8d24563>:316: VisibleDeprecationWarning: Creating an ndarray from ragged nested sequences (which is a list-or-tuple of lists-or-tuples-or ndarrays with different lengths or shapes) is deprecated. If you meant to do this, you must specify 'dtype=object' when creating the ndarray.\n",
            "  concat_df = pd.DataFrame(np.array([stock, indicators, tries[0][0], tries[1][0], tries[2][0]]).reshape(1,5), columns=[\"STOCK\", \"WEIGHTS\", \"BUY TH\", \"SELL TH\", \"PROFIT\"])\n"
          ]
        },
        {
          "metadata": {
            "tags": null
          },
          "name": "stdout",
          "output_type": "stream",
          "text": [
            "    0   1       2\n",
            "0  41  69 1815.19\n",
            "1  40  69 1815.19\n",
            "2  54  69 1805.99\n",
            "3  53  69 1805.99\n",
            "4  55  69 1781.45\n",
            "6. Deneme\n"
          ]
        },
        {
          "metadata": {
            "tags": null
          },
          "name": "stderr",
          "output_type": "stream",
          "text": [
            "<ipython-input-16-d0b2c8d24563>:316: VisibleDeprecationWarning: Creating an ndarray from ragged nested sequences (which is a list-or-tuple of lists-or-tuples-or ndarrays with different lengths or shapes) is deprecated. If you meant to do this, you must specify 'dtype=object' when creating the ndarray.\n",
            "  concat_df = pd.DataFrame(np.array([stock, indicators, tries[0][0], tries[1][0], tries[2][0]]).reshape(1,5), columns=[\"STOCK\", \"WEIGHTS\", \"BUY TH\", \"SELL TH\", \"PROFIT\"])\n"
          ]
        },
        {
          "metadata": {
            "tags": null
          },
          "name": "stdout",
          "output_type": "stream",
          "text": [
            "    0   1       2\n",
            "0  60  40 1881.08\n",
            "1  62  40 1790.53\n",
            "2  61  40 1790.53\n",
            "3  56  40 1781.08\n",
            "4  55  40 1781.08\n",
            "7. Deneme\n"
          ]
        },
        {
          "metadata": {
            "tags": null
          },
          "name": "stderr",
          "output_type": "stream",
          "text": [
            "<ipython-input-16-d0b2c8d24563>:316: VisibleDeprecationWarning: Creating an ndarray from ragged nested sequences (which is a list-or-tuple of lists-or-tuples-or ndarrays with different lengths or shapes) is deprecated. If you meant to do this, you must specify 'dtype=object' when creating the ndarray.\n",
            "  concat_df = pd.DataFrame(np.array([stock, indicators, tries[0][0], tries[1][0], tries[2][0]]).reshape(1,5), columns=[\"STOCK\", \"WEIGHTS\", \"BUY TH\", \"SELL TH\", \"PROFIT\"])\n"
          ]
        },
        {
          "metadata": {
            "tags": null
          },
          "name": "stdout",
          "output_type": "stream",
          "text": [
            "    0   1       2\n",
            "0  57  64 2350.69\n",
            "1  60  64 2350.69\n",
            "2  57  65 2350.69\n",
            "3  59  65 2350.69\n",
            "4  58  64 2350.69\n",
            "8. Deneme\n"
          ]
        },
        {
          "metadata": {
            "tags": null
          },
          "name": "stderr",
          "output_type": "stream",
          "text": [
            "<ipython-input-16-d0b2c8d24563>:316: VisibleDeprecationWarning: Creating an ndarray from ragged nested sequences (which is a list-or-tuple of lists-or-tuples-or ndarrays with different lengths or shapes) is deprecated. If you meant to do this, you must specify 'dtype=object' when creating the ndarray.\n",
            "  concat_df = pd.DataFrame(np.array([stock, indicators, tries[0][0], tries[1][0], tries[2][0]]).reshape(1,5), columns=[\"STOCK\", \"WEIGHTS\", \"BUY TH\", \"SELL TH\", \"PROFIT\"])\n"
          ]
        },
        {
          "metadata": {
            "tags": null
          },
          "name": "stdout",
          "output_type": "stream",
          "text": [
            "    0   1       2\n",
            "0  68  74 1978.73\n",
            "1  69  74 1978.73\n",
            "2  69  76 1941.91\n",
            "3  69  75 1941.91\n",
            "4  68  76 1941.91\n",
            "9. Deneme\n"
          ]
        },
        {
          "metadata": {
            "tags": null
          },
          "name": "stderr",
          "output_type": "stream",
          "text": [
            "<ipython-input-16-d0b2c8d24563>:316: VisibleDeprecationWarning: Creating an ndarray from ragged nested sequences (which is a list-or-tuple of lists-or-tuples-or ndarrays with different lengths or shapes) is deprecated. If you meant to do this, you must specify 'dtype=object' when creating the ndarray.\n",
            "  concat_df = pd.DataFrame(np.array([stock, indicators, tries[0][0], tries[1][0], tries[2][0]]).reshape(1,5), columns=[\"STOCK\", \"WEIGHTS\", \"BUY TH\", \"SELL TH\", \"PROFIT\"])\n"
          ]
        },
        {
          "metadata": {
            "tags": null
          },
          "name": "stdout",
          "output_type": "stream",
          "text": [
            "    0   1       2\n",
            "0  40  48 1814.67\n",
            "1  40  49 1814.67\n",
            "2  41  49 1814.67\n",
            "3  41  48 1814.67\n",
            "4  67  78 1794.33\n",
            "EKGYO.IS\n"
          ]
        },
        {
          "metadata": {
            "tags": null
          },
          "name": "stderr",
          "output_type": "stream",
          "text": [
            "<ipython-input-16-d0b2c8d24563>:316: VisibleDeprecationWarning: Creating an ndarray from ragged nested sequences (which is a list-or-tuple of lists-or-tuples-or ndarrays with different lengths or shapes) is deprecated. If you meant to do this, you must specify 'dtype=object' when creating the ndarray.\n",
            "  concat_df = pd.DataFrame(np.array([stock, indicators, tries[0][0], tries[1][0], tries[2][0]]).reshape(1,5), columns=[\"STOCK\", \"WEIGHTS\", \"BUY TH\", \"SELL TH\", \"PROFIT\"])\n"
          ]
        },
        {
          "metadata": {
            "tags": null
          },
          "name": "stdout",
          "output_type": "stream",
          "text": [
            "0. Deneme\n",
            "    0   1       2\n",
            "0  69  74 5148.94\n",
            "1  68  74 5148.94\n",
            "2  70  74 4804.22\n",
            "3  41  53 4632.66\n",
            "4  42  53 4632.66\n",
            "1. Deneme\n"
          ]
        },
        {
          "metadata": {
            "tags": null
          },
          "name": "stderr",
          "output_type": "stream",
          "text": [
            "<ipython-input-16-d0b2c8d24563>:316: VisibleDeprecationWarning: Creating an ndarray from ragged nested sequences (which is a list-or-tuple of lists-or-tuples-or ndarrays with different lengths or shapes) is deprecated. If you meant to do this, you must specify 'dtype=object' when creating the ndarray.\n",
            "  concat_df = pd.DataFrame(np.array([stock, indicators, tries[0][0], tries[1][0], tries[2][0]]).reshape(1,5), columns=[\"STOCK\", \"WEIGHTS\", \"BUY TH\", \"SELL TH\", \"PROFIT\"])\n"
          ]
        },
        {
          "metadata": {
            "tags": null
          },
          "name": "stdout",
          "output_type": "stream",
          "text": [
            "    0   1       2\n",
            "0  40  62 4355.50\n",
            "1  40  63 4355.50\n",
            "2  54  62 4324.18\n",
            "3  54  63 4324.18\n",
            "4  53  63 4324.18\n",
            "2. Deneme\n"
          ]
        },
        {
          "metadata": {
            "tags": null
          },
          "name": "stderr",
          "output_type": "stream",
          "text": [
            "<ipython-input-16-d0b2c8d24563>:316: VisibleDeprecationWarning: Creating an ndarray from ragged nested sequences (which is a list-or-tuple of lists-or-tuples-or ndarrays with different lengths or shapes) is deprecated. If you meant to do this, you must specify 'dtype=object' when creating the ndarray.\n",
            "  concat_df = pd.DataFrame(np.array([stock, indicators, tries[0][0], tries[1][0], tries[2][0]]).reshape(1,5), columns=[\"STOCK\", \"WEIGHTS\", \"BUY TH\", \"SELL TH\", \"PROFIT\"])\n"
          ]
        },
        {
          "metadata": {
            "tags": null
          },
          "name": "stdout",
          "output_type": "stream",
          "text": [
            "    0   1       2\n",
            "0  75  76 4434.43\n",
            "1  74  76 4434.43\n",
            "2  76  76 4294.24\n",
            "3  79  77 4149.32\n",
            "4  79  78 4149.32\n",
            "3. Deneme\n"
          ]
        },
        {
          "metadata": {
            "tags": null
          },
          "name": "stderr",
          "output_type": "stream",
          "text": [
            "<ipython-input-16-d0b2c8d24563>:316: VisibleDeprecationWarning: Creating an ndarray from ragged nested sequences (which is a list-or-tuple of lists-or-tuples-or ndarrays with different lengths or shapes) is deprecated. If you meant to do this, you must specify 'dtype=object' when creating the ndarray.\n",
            "  concat_df = pd.DataFrame(np.array([stock, indicators, tries[0][0], tries[1][0], tries[2][0]]).reshape(1,5), columns=[\"STOCK\", \"WEIGHTS\", \"BUY TH\", \"SELL TH\", \"PROFIT\"])\n"
          ]
        },
        {
          "metadata": {
            "tags": null
          },
          "name": "stdout",
          "output_type": "stream",
          "text": [
            "    0   1       2\n",
            "0  40  56 5440.42\n",
            "1  40  52 5259.96\n",
            "2  41  56 5246.81\n",
            "3  40  54 5206.18\n",
            "4  40  53 5206.18\n",
            "4. Deneme\n"
          ]
        },
        {
          "metadata": {
            "tags": null
          },
          "name": "stderr",
          "output_type": "stream",
          "text": [
            "<ipython-input-16-d0b2c8d24563>:316: VisibleDeprecationWarning: Creating an ndarray from ragged nested sequences (which is a list-or-tuple of lists-or-tuples-or ndarrays with different lengths or shapes) is deprecated. If you meant to do this, you must specify 'dtype=object' when creating the ndarray.\n",
            "  concat_df = pd.DataFrame(np.array([stock, indicators, tries[0][0], tries[1][0], tries[2][0]]).reshape(1,5), columns=[\"STOCK\", \"WEIGHTS\", \"BUY TH\", \"SELL TH\", \"PROFIT\"])\n"
          ]
        },
        {
          "metadata": {
            "tags": null
          },
          "name": "stdout",
          "output_type": "stream",
          "text": [
            "    0   1       2\n",
            "0  58  64 5924.19\n",
            "1  57  64 5924.19\n",
            "2  59  64 5703.29\n",
            "3  60  64 5703.29\n",
            "4  66  66 5671.26\n",
            "5. Deneme\n"
          ]
        },
        {
          "metadata": {
            "tags": null
          },
          "name": "stderr",
          "output_type": "stream",
          "text": [
            "<ipython-input-16-d0b2c8d24563>:316: VisibleDeprecationWarning: Creating an ndarray from ragged nested sequences (which is a list-or-tuple of lists-or-tuples-or ndarrays with different lengths or shapes) is deprecated. If you meant to do this, you must specify 'dtype=object' when creating the ndarray.\n",
            "  concat_df = pd.DataFrame(np.array([stock, indicators, tries[0][0], tries[1][0], tries[2][0]]).reshape(1,5), columns=[\"STOCK\", \"WEIGHTS\", \"BUY TH\", \"SELL TH\", \"PROFIT\"])\n"
          ]
        },
        {
          "metadata": {
            "tags": null
          },
          "name": "stdout",
          "output_type": "stream",
          "text": [
            "    0   1       2\n",
            "0  59  65 4441.40\n",
            "1  60  65 4326.63\n",
            "2  59  64 4005.94\n",
            "3  62  65 3960.09\n",
            "4  61  65 3960.09\n",
            "6. Deneme\n"
          ]
        },
        {
          "metadata": {
            "tags": null
          },
          "name": "stderr",
          "output_type": "stream",
          "text": [
            "<ipython-input-16-d0b2c8d24563>:316: VisibleDeprecationWarning: Creating an ndarray from ragged nested sequences (which is a list-or-tuple of lists-or-tuples-or ndarrays with different lengths or shapes) is deprecated. If you meant to do this, you must specify 'dtype=object' when creating the ndarray.\n",
            "  concat_df = pd.DataFrame(np.array([stock, indicators, tries[0][0], tries[1][0], tries[2][0]]).reshape(1,5), columns=[\"STOCK\", \"WEIGHTS\", \"BUY TH\", \"SELL TH\", \"PROFIT\"])\n"
          ]
        },
        {
          "metadata": {
            "tags": null
          },
          "name": "stdout",
          "output_type": "stream",
          "text": [
            "    0   1       2\n",
            "0  42  45 4075.15\n",
            "1  41  46 3869.70\n",
            "2  44  45 3772.90\n",
            "3  43  45 3772.90\n",
            "4  41  45 3692.50\n",
            "7. Deneme\n"
          ]
        },
        {
          "metadata": {
            "tags": null
          },
          "name": "stderr",
          "output_type": "stream",
          "text": [
            "<ipython-input-16-d0b2c8d24563>:316: VisibleDeprecationWarning: Creating an ndarray from ragged nested sequences (which is a list-or-tuple of lists-or-tuples-or ndarrays with different lengths or shapes) is deprecated. If you meant to do this, you must specify 'dtype=object' when creating the ndarray.\n",
            "  concat_df = pd.DataFrame(np.array([stock, indicators, tries[0][0], tries[1][0], tries[2][0]]).reshape(1,5), columns=[\"STOCK\", \"WEIGHTS\", \"BUY TH\", \"SELL TH\", \"PROFIT\"])\n"
          ]
        },
        {
          "metadata": {
            "tags": null
          },
          "name": "stdout",
          "output_type": "stream",
          "text": [
            "    0   1       2\n",
            "0  62  63 4172.00\n",
            "1  59  54 4093.49\n",
            "2  58  54 4066.41\n",
            "3  66  64 3982.21\n",
            "4  64  64 3982.21\n",
            "8. Deneme\n"
          ]
        },
        {
          "metadata": {
            "tags": null
          },
          "name": "stderr",
          "output_type": "stream",
          "text": [
            "<ipython-input-16-d0b2c8d24563>:316: VisibleDeprecationWarning: Creating an ndarray from ragged nested sequences (which is a list-or-tuple of lists-or-tuples-or ndarrays with different lengths or shapes) is deprecated. If you meant to do this, you must specify 'dtype=object' when creating the ndarray.\n",
            "  concat_df = pd.DataFrame(np.array([stock, indicators, tries[0][0], tries[1][0], tries[2][0]]).reshape(1,5), columns=[\"STOCK\", \"WEIGHTS\", \"BUY TH\", \"SELL TH\", \"PROFIT\"])\n"
          ]
        },
        {
          "metadata": {
            "tags": null
          },
          "name": "stdout",
          "output_type": "stream",
          "text": [
            "    0   1       2\n",
            "0  63  74 4687.07\n",
            "1  63  73 4687.07\n",
            "2  64  74 4687.07\n",
            "3  64  73 4687.07\n",
            "4  68  73 4555.13\n",
            "9. Deneme\n"
          ]
        },
        {
          "metadata": {
            "tags": null
          },
          "name": "stderr",
          "output_type": "stream",
          "text": [
            "<ipython-input-16-d0b2c8d24563>:316: VisibleDeprecationWarning: Creating an ndarray from ragged nested sequences (which is a list-or-tuple of lists-or-tuples-or ndarrays with different lengths or shapes) is deprecated. If you meant to do this, you must specify 'dtype=object' when creating the ndarray.\n",
            "  concat_df = pd.DataFrame(np.array([stock, indicators, tries[0][0], tries[1][0], tries[2][0]]).reshape(1,5), columns=[\"STOCK\", \"WEIGHTS\", \"BUY TH\", \"SELL TH\", \"PROFIT\"])\n"
          ]
        },
        {
          "metadata": {
            "tags": null
          },
          "name": "stdout",
          "output_type": "stream",
          "text": [
            "    0   1       2\n",
            "0  43  43 5138.39\n",
            "1  43  44 5138.39\n",
            "2  42  42 5138.39\n",
            "3  43  42 5138.39\n",
            "4  42  43 5138.39\n",
            "ENKAI.IS\n"
          ]
        },
        {
          "metadata": {
            "tags": null
          },
          "name": "stderr",
          "output_type": "stream",
          "text": [
            "<ipython-input-16-d0b2c8d24563>:316: VisibleDeprecationWarning: Creating an ndarray from ragged nested sequences (which is a list-or-tuple of lists-or-tuples-or ndarrays with different lengths or shapes) is deprecated. If you meant to do this, you must specify 'dtype=object' when creating the ndarray.\n",
            "  concat_df = pd.DataFrame(np.array([stock, indicators, tries[0][0], tries[1][0], tries[2][0]]).reshape(1,5), columns=[\"STOCK\", \"WEIGHTS\", \"BUY TH\", \"SELL TH\", \"PROFIT\"])\n"
          ]
        },
        {
          "metadata": {
            "tags": null
          },
          "name": "stdout",
          "output_type": "stream",
          "text": [
            "0. Deneme\n",
            "    0   1       2\n",
            "0  77  79 1981.33\n",
            "1  78  79 1981.33\n",
            "2  76  79 1750.59\n",
            "3  40  49 1743.73\n",
            "4  60  67 1715.71\n",
            "1. Deneme\n"
          ]
        },
        {
          "metadata": {
            "tags": null
          },
          "name": "stderr",
          "output_type": "stream",
          "text": [
            "<ipython-input-16-d0b2c8d24563>:316: VisibleDeprecationWarning: Creating an ndarray from ragged nested sequences (which is a list-or-tuple of lists-or-tuples-or ndarrays with different lengths or shapes) is deprecated. If you meant to do this, you must specify 'dtype=object' when creating the ndarray.\n",
            "  concat_df = pd.DataFrame(np.array([stock, indicators, tries[0][0], tries[1][0], tries[2][0]]).reshape(1,5), columns=[\"STOCK\", \"WEIGHTS\", \"BUY TH\", \"SELL TH\", \"PROFIT\"])\n"
          ]
        },
        {
          "metadata": {
            "tags": null
          },
          "name": "stdout",
          "output_type": "stream",
          "text": [
            "    0   1       2\n",
            "0  65  69 2035.16\n",
            "1  64  69 2035.16\n",
            "2  64  67 1960.68\n",
            "3  65  67 1960.68\n",
            "4  63  79 1907.37\n",
            "2. Deneme\n"
          ]
        },
        {
          "metadata": {
            "tags": null
          },
          "name": "stderr",
          "output_type": "stream",
          "text": [
            "<ipython-input-16-d0b2c8d24563>:316: VisibleDeprecationWarning: Creating an ndarray from ragged nested sequences (which is a list-or-tuple of lists-or-tuples-or ndarrays with different lengths or shapes) is deprecated. If you meant to do this, you must specify 'dtype=object' when creating the ndarray.\n",
            "  concat_df = pd.DataFrame(np.array([stock, indicators, tries[0][0], tries[1][0], tries[2][0]]).reshape(1,5), columns=[\"STOCK\", \"WEIGHTS\", \"BUY TH\", \"SELL TH\", \"PROFIT\"])\n"
          ]
        },
        {
          "metadata": {
            "tags": null
          },
          "name": "stdout",
          "output_type": "stream",
          "text": [
            "    0   1       2\n",
            "0  64  40 2142.81\n",
            "1  60  40 2050.24\n",
            "2  59  40 2050.24\n",
            "3  63  68 2044.30\n",
            "4  63  40 2035.03\n",
            "3. Deneme\n"
          ]
        },
        {
          "metadata": {
            "tags": null
          },
          "name": "stderr",
          "output_type": "stream",
          "text": [
            "<ipython-input-16-d0b2c8d24563>:316: VisibleDeprecationWarning: Creating an ndarray from ragged nested sequences (which is a list-or-tuple of lists-or-tuples-or ndarrays with different lengths or shapes) is deprecated. If you meant to do this, you must specify 'dtype=object' when creating the ndarray.\n",
            "  concat_df = pd.DataFrame(np.array([stock, indicators, tries[0][0], tries[1][0], tries[2][0]]).reshape(1,5), columns=[\"STOCK\", \"WEIGHTS\", \"BUY TH\", \"SELL TH\", \"PROFIT\"])\n"
          ]
        },
        {
          "metadata": {
            "tags": null
          },
          "name": "stdout",
          "output_type": "stream",
          "text": [
            "    0   1       2\n",
            "0  66  72 2644.99\n",
            "1  66  71 2439.06\n",
            "2  67  72 2168.58\n",
            "3  66  70 2107.61\n",
            "4  66  73 2100.00\n",
            "4. Deneme\n"
          ]
        },
        {
          "metadata": {
            "tags": null
          },
          "name": "stderr",
          "output_type": "stream",
          "text": [
            "<ipython-input-16-d0b2c8d24563>:316: VisibleDeprecationWarning: Creating an ndarray from ragged nested sequences (which is a list-or-tuple of lists-or-tuples-or ndarrays with different lengths or shapes) is deprecated. If you meant to do this, you must specify 'dtype=object' when creating the ndarray.\n",
            "  concat_df = pd.DataFrame(np.array([stock, indicators, tries[0][0], tries[1][0], tries[2][0]]).reshape(1,5), columns=[\"STOCK\", \"WEIGHTS\", \"BUY TH\", \"SELL TH\", \"PROFIT\"])\n"
          ]
        },
        {
          "metadata": {
            "tags": null
          },
          "name": "stdout",
          "output_type": "stream",
          "text": [
            "    0   1       2\n",
            "0  61  65 1515.34\n",
            "1  40  40 1443.72\n",
            "2  40  41 1443.72\n",
            "3  52  56 1421.95\n",
            "4  52  57 1421.95\n",
            "5. Deneme\n"
          ]
        },
        {
          "metadata": {
            "tags": null
          },
          "name": "stderr",
          "output_type": "stream",
          "text": [
            "<ipython-input-16-d0b2c8d24563>:316: VisibleDeprecationWarning: Creating an ndarray from ragged nested sequences (which is a list-or-tuple of lists-or-tuples-or ndarrays with different lengths or shapes) is deprecated. If you meant to do this, you must specify 'dtype=object' when creating the ndarray.\n",
            "  concat_df = pd.DataFrame(np.array([stock, indicators, tries[0][0], tries[1][0], tries[2][0]]).reshape(1,5), columns=[\"STOCK\", \"WEIGHTS\", \"BUY TH\", \"SELL TH\", \"PROFIT\"])\n"
          ]
        },
        {
          "metadata": {
            "tags": null
          },
          "name": "stdout",
          "output_type": "stream",
          "text": [
            "    0   1       2\n",
            "0  71  75 2356.78\n",
            "1  71  74 2186.01\n",
            "2  71  73 2186.01\n",
            "3  43  51 1940.75\n",
            "4  44  51 1940.75\n",
            "6. Deneme\n"
          ]
        },
        {
          "metadata": {
            "tags": null
          },
          "name": "stderr",
          "output_type": "stream",
          "text": [
            "<ipython-input-16-d0b2c8d24563>:316: VisibleDeprecationWarning: Creating an ndarray from ragged nested sequences (which is a list-or-tuple of lists-or-tuples-or ndarrays with different lengths or shapes) is deprecated. If you meant to do this, you must specify 'dtype=object' when creating the ndarray.\n",
            "  concat_df = pd.DataFrame(np.array([stock, indicators, tries[0][0], tries[1][0], tries[2][0]]).reshape(1,5), columns=[\"STOCK\", \"WEIGHTS\", \"BUY TH\", \"SELL TH\", \"PROFIT\"])\n"
          ]
        },
        {
          "metadata": {
            "tags": null
          },
          "name": "stdout",
          "output_type": "stream",
          "text": [
            "    0   1       2\n",
            "0  49  57 2434.81\n",
            "1  49  58 2434.81\n",
            "2  48  58 2434.81\n",
            "3  48  57 2434.81\n",
            "4  50  58 2319.00\n",
            "7. Deneme\n"
          ]
        },
        {
          "metadata": {
            "tags": null
          },
          "name": "stderr",
          "output_type": "stream",
          "text": [
            "<ipython-input-16-d0b2c8d24563>:316: VisibleDeprecationWarning: Creating an ndarray from ragged nested sequences (which is a list-or-tuple of lists-or-tuples-or ndarrays with different lengths or shapes) is deprecated. If you meant to do this, you must specify 'dtype=object' when creating the ndarray.\n",
            "  concat_df = pd.DataFrame(np.array([stock, indicators, tries[0][0], tries[1][0], tries[2][0]]).reshape(1,5), columns=[\"STOCK\", \"WEIGHTS\", \"BUY TH\", \"SELL TH\", \"PROFIT\"])\n"
          ]
        },
        {
          "metadata": {
            "tags": null
          },
          "name": "stdout",
          "output_type": "stream",
          "text": [
            "    0   1       2\n",
            "0  65  72 2192.45\n",
            "1  64  72 2192.45\n",
            "2  66  72 2087.46\n",
            "3  40  43 1898.45\n",
            "4  68  72 1890.95\n",
            "8. Deneme\n"
          ]
        },
        {
          "metadata": {
            "tags": null
          },
          "name": "stderr",
          "output_type": "stream",
          "text": [
            "<ipython-input-16-d0b2c8d24563>:316: VisibleDeprecationWarning: Creating an ndarray from ragged nested sequences (which is a list-or-tuple of lists-or-tuples-or ndarrays with different lengths or shapes) is deprecated. If you meant to do this, you must specify 'dtype=object' when creating the ndarray.\n",
            "  concat_df = pd.DataFrame(np.array([stock, indicators, tries[0][0], tries[1][0], tries[2][0]]).reshape(1,5), columns=[\"STOCK\", \"WEIGHTS\", \"BUY TH\", \"SELL TH\", \"PROFIT\"])\n"
          ]
        },
        {
          "metadata": {
            "tags": null
          },
          "name": "stdout",
          "output_type": "stream",
          "text": [
            "    0   1       2\n",
            "0  58  62 1808.81\n",
            "1  71  63 1794.16\n",
            "2  71  64 1794.16\n",
            "3  57  62 1779.32\n",
            "4  56  62 1779.32\n",
            "9. Deneme\n"
          ]
        },
        {
          "metadata": {
            "tags": null
          },
          "name": "stderr",
          "output_type": "stream",
          "text": [
            "<ipython-input-16-d0b2c8d24563>:316: VisibleDeprecationWarning: Creating an ndarray from ragged nested sequences (which is a list-or-tuple of lists-or-tuples-or ndarrays with different lengths or shapes) is deprecated. If you meant to do this, you must specify 'dtype=object' when creating the ndarray.\n",
            "  concat_df = pd.DataFrame(np.array([stock, indicators, tries[0][0], tries[1][0], tries[2][0]]).reshape(1,5), columns=[\"STOCK\", \"WEIGHTS\", \"BUY TH\", \"SELL TH\", \"PROFIT\"])\n"
          ]
        },
        {
          "metadata": {
            "tags": null
          },
          "name": "stdout",
          "output_type": "stream",
          "text": [
            "    0   1       2\n",
            "0  75  40 1958.78\n",
            "1  75  41 1958.78\n",
            "2  44  40 1930.48\n",
            "3  43  40 1930.48\n",
            "4  76  40 1919.49\n",
            "EREGL.IS\n"
          ]
        },
        {
          "metadata": {
            "tags": null
          },
          "name": "stderr",
          "output_type": "stream",
          "text": [
            "<ipython-input-16-d0b2c8d24563>:316: VisibleDeprecationWarning: Creating an ndarray from ragged nested sequences (which is a list-or-tuple of lists-or-tuples-or ndarrays with different lengths or shapes) is deprecated. If you meant to do this, you must specify 'dtype=object' when creating the ndarray.\n",
            "  concat_df = pd.DataFrame(np.array([stock, indicators, tries[0][0], tries[1][0], tries[2][0]]).reshape(1,5), columns=[\"STOCK\", \"WEIGHTS\", \"BUY TH\", \"SELL TH\", \"PROFIT\"])\n"
          ]
        },
        {
          "metadata": {
            "tags": null
          },
          "name": "stdout",
          "output_type": "stream",
          "text": [
            "0. Deneme\n",
            "    0   1       2\n",
            "0  40  79 1503.03\n",
            "1  40  78 1503.03\n",
            "2  40  77 1275.18\n",
            "3  40  76 1275.18\n",
            "4  41  79 1237.69\n",
            "1. Deneme\n"
          ]
        },
        {
          "metadata": {
            "tags": null
          },
          "name": "stderr",
          "output_type": "stream",
          "text": [
            "<ipython-input-16-d0b2c8d24563>:316: VisibleDeprecationWarning: Creating an ndarray from ragged nested sequences (which is a list-or-tuple of lists-or-tuples-or ndarrays with different lengths or shapes) is deprecated. If you meant to do this, you must specify 'dtype=object' when creating the ndarray.\n",
            "  concat_df = pd.DataFrame(np.array([stock, indicators, tries[0][0], tries[1][0], tries[2][0]]).reshape(1,5), columns=[\"STOCK\", \"WEIGHTS\", \"BUY TH\", \"SELL TH\", \"PROFIT\"])\n"
          ]
        },
        {
          "metadata": {
            "tags": null
          },
          "name": "stdout",
          "output_type": "stream",
          "text": [
            "    0   1       2\n",
            "0  64  78 1680.41\n",
            "1  64  79 1680.41\n",
            "2  41  79 1675.34\n",
            "3  40  79 1675.34\n",
            "4  40  78 1675.34\n",
            "2. Deneme\n"
          ]
        },
        {
          "metadata": {
            "tags": null
          },
          "name": "stderr",
          "output_type": "stream",
          "text": [
            "<ipython-input-16-d0b2c8d24563>:316: VisibleDeprecationWarning: Creating an ndarray from ragged nested sequences (which is a list-or-tuple of lists-or-tuples-or ndarrays with different lengths or shapes) is deprecated. If you meant to do this, you must specify 'dtype=object' when creating the ndarray.\n",
            "  concat_df = pd.DataFrame(np.array([stock, indicators, tries[0][0], tries[1][0], tries[2][0]]).reshape(1,5), columns=[\"STOCK\", \"WEIGHTS\", \"BUY TH\", \"SELL TH\", \"PROFIT\"])\n"
          ]
        },
        {
          "metadata": {
            "tags": null
          },
          "name": "stdout",
          "output_type": "stream",
          "text": [
            "    0   1       2\n",
            "0  42  75 1704.34\n",
            "1  42  76 1704.34\n",
            "2  46  75 1653.53\n",
            "3  44  75 1653.53\n",
            "4  45  75 1653.53\n",
            "3. Deneme\n"
          ]
        },
        {
          "metadata": {
            "tags": null
          },
          "name": "stderr",
          "output_type": "stream",
          "text": [
            "<ipython-input-16-d0b2c8d24563>:316: VisibleDeprecationWarning: Creating an ndarray from ragged nested sequences (which is a list-or-tuple of lists-or-tuples-or ndarrays with different lengths or shapes) is deprecated. If you meant to do this, you must specify 'dtype=object' when creating the ndarray.\n",
            "  concat_df = pd.DataFrame(np.array([stock, indicators, tries[0][0], tries[1][0], tries[2][0]]).reshape(1,5), columns=[\"STOCK\", \"WEIGHTS\", \"BUY TH\", \"SELL TH\", \"PROFIT\"])\n"
          ]
        },
        {
          "metadata": {
            "tags": null
          },
          "name": "stdout",
          "output_type": "stream",
          "text": [
            "    0   1      2\n",
            "0  40  77 779.25\n",
            "1  40  78 779.25\n",
            "2  41  78 779.25\n",
            "3  41  77 779.25\n",
            "4  40  70 741.51\n",
            "4. Deneme\n"
          ]
        },
        {
          "metadata": {
            "tags": null
          },
          "name": "stderr",
          "output_type": "stream",
          "text": [
            "<ipython-input-16-d0b2c8d24563>:316: VisibleDeprecationWarning: Creating an ndarray from ragged nested sequences (which is a list-or-tuple of lists-or-tuples-or ndarrays with different lengths or shapes) is deprecated. If you meant to do this, you must specify 'dtype=object' when creating the ndarray.\n",
            "  concat_df = pd.DataFrame(np.array([stock, indicators, tries[0][0], tries[1][0], tries[2][0]]).reshape(1,5), columns=[\"STOCK\", \"WEIGHTS\", \"BUY TH\", \"SELL TH\", \"PROFIT\"])\n"
          ]
        },
        {
          "metadata": {
            "tags": null
          },
          "name": "stdout",
          "output_type": "stream",
          "text": [
            "    0   1       2\n",
            "0  43  79 1461.47\n",
            "1  42  79 1461.47\n",
            "2  43  78 1461.47\n",
            "3  42  78 1461.47\n",
            "4  44  79 1439.46\n",
            "5. Deneme\n"
          ]
        },
        {
          "metadata": {
            "tags": null
          },
          "name": "stderr",
          "output_type": "stream",
          "text": [
            "<ipython-input-16-d0b2c8d24563>:316: VisibleDeprecationWarning: Creating an ndarray from ragged nested sequences (which is a list-or-tuple of lists-or-tuples-or ndarrays with different lengths or shapes) is deprecated. If you meant to do this, you must specify 'dtype=object' when creating the ndarray.\n",
            "  concat_df = pd.DataFrame(np.array([stock, indicators, tries[0][0], tries[1][0], tries[2][0]]).reshape(1,5), columns=[\"STOCK\", \"WEIGHTS\", \"BUY TH\", \"SELL TH\", \"PROFIT\"])\n"
          ]
        },
        {
          "metadata": {
            "tags": null
          },
          "name": "stdout",
          "output_type": "stream",
          "text": [
            "    0   1       2\n",
            "0  42  73 1244.82\n",
            "1  45  73 1244.82\n",
            "2  43  73 1244.82\n",
            "3  44  73 1244.82\n",
            "4  44  74 1244.82\n",
            "6. Deneme\n"
          ]
        },
        {
          "metadata": {
            "tags": null
          },
          "name": "stderr",
          "output_type": "stream",
          "text": [
            "<ipython-input-16-d0b2c8d24563>:316: VisibleDeprecationWarning: Creating an ndarray from ragged nested sequences (which is a list-or-tuple of lists-or-tuples-or ndarrays with different lengths or shapes) is deprecated. If you meant to do this, you must specify 'dtype=object' when creating the ndarray.\n",
            "  concat_df = pd.DataFrame(np.array([stock, indicators, tries[0][0], tries[1][0], tries[2][0]]).reshape(1,5), columns=[\"STOCK\", \"WEIGHTS\", \"BUY TH\", \"SELL TH\", \"PROFIT\"])\n"
          ]
        },
        {
          "metadata": {
            "tags": null
          },
          "name": "stdout",
          "output_type": "stream",
          "text": [
            "    0   1       2\n",
            "0  40  79 1308.83\n",
            "1  40  77 1265.20\n",
            "2  40  78 1265.20\n",
            "3  45  79 1252.77\n",
            "4  46  79 1252.77\n",
            "7. Deneme\n"
          ]
        },
        {
          "metadata": {
            "tags": null
          },
          "name": "stderr",
          "output_type": "stream",
          "text": [
            "<ipython-input-16-d0b2c8d24563>:316: VisibleDeprecationWarning: Creating an ndarray from ragged nested sequences (which is a list-or-tuple of lists-or-tuples-or ndarrays with different lengths or shapes) is deprecated. If you meant to do this, you must specify 'dtype=object' when creating the ndarray.\n",
            "  concat_df = pd.DataFrame(np.array([stock, indicators, tries[0][0], tries[1][0], tries[2][0]]).reshape(1,5), columns=[\"STOCK\", \"WEIGHTS\", \"BUY TH\", \"SELL TH\", \"PROFIT\"])\n"
          ]
        },
        {
          "metadata": {
            "tags": null
          },
          "name": "stdout",
          "output_type": "stream",
          "text": [
            "    0   1       2\n",
            "0  42  75 1538.83\n",
            "1  40  75 1538.83\n",
            "2  41  75 1538.83\n",
            "3  40  72 1494.54\n",
            "4  41  72 1494.54\n",
            "8. Deneme\n"
          ]
        },
        {
          "metadata": {
            "tags": null
          },
          "name": "stderr",
          "output_type": "stream",
          "text": [
            "<ipython-input-16-d0b2c8d24563>:316: VisibleDeprecationWarning: Creating an ndarray from ragged nested sequences (which is a list-or-tuple of lists-or-tuples-or ndarrays with different lengths or shapes) is deprecated. If you meant to do this, you must specify 'dtype=object' when creating the ndarray.\n",
            "  concat_df = pd.DataFrame(np.array([stock, indicators, tries[0][0], tries[1][0], tries[2][0]]).reshape(1,5), columns=[\"STOCK\", \"WEIGHTS\", \"BUY TH\", \"SELL TH\", \"PROFIT\"])\n"
          ]
        },
        {
          "metadata": {
            "tags": null
          },
          "name": "stdout",
          "output_type": "stream",
          "text": [
            "    0   1       2\n",
            "0  72  76 1478.60\n",
            "1  71  76 1478.60\n",
            "2  72  78 1457.37\n",
            "3  72  77 1457.37\n",
            "4  71  78 1457.37\n",
            "9. Deneme\n"
          ]
        },
        {
          "metadata": {
            "tags": null
          },
          "name": "stderr",
          "output_type": "stream",
          "text": [
            "<ipython-input-16-d0b2c8d24563>:316: VisibleDeprecationWarning: Creating an ndarray from ragged nested sequences (which is a list-or-tuple of lists-or-tuples-or ndarrays with different lengths or shapes) is deprecated. If you meant to do this, you must specify 'dtype=object' when creating the ndarray.\n",
            "  concat_df = pd.DataFrame(np.array([stock, indicators, tries[0][0], tries[1][0], tries[2][0]]).reshape(1,5), columns=[\"STOCK\", \"WEIGHTS\", \"BUY TH\", \"SELL TH\", \"PROFIT\"])\n"
          ]
        },
        {
          "metadata": {
            "tags": null
          },
          "name": "stdout",
          "output_type": "stream",
          "text": [
            "    0   1      2\n",
            "0  62  79 748.72\n",
            "1  62  78 748.72\n",
            "2  62  77 748.13\n",
            "3  62  76 748.13\n",
            "4  63  78 729.62\n",
            "FROTO.IS\n"
          ]
        },
        {
          "metadata": {
            "tags": null
          },
          "name": "stderr",
          "output_type": "stream",
          "text": [
            "<ipython-input-16-d0b2c8d24563>:316: VisibleDeprecationWarning: Creating an ndarray from ragged nested sequences (which is a list-or-tuple of lists-or-tuples-or ndarrays with different lengths or shapes) is deprecated. If you meant to do this, you must specify 'dtype=object' when creating the ndarray.\n",
            "  concat_df = pd.DataFrame(np.array([stock, indicators, tries[0][0], tries[1][0], tries[2][0]]).reshape(1,5), columns=[\"STOCK\", \"WEIGHTS\", \"BUY TH\", \"SELL TH\", \"PROFIT\"])\n"
          ]
        },
        {
          "metadata": {
            "tags": null
          },
          "name": "stdout",
          "output_type": "stream",
          "text": [
            "0. Deneme\n",
            "    0   1       2\n",
            "0  45  79 2269.34\n",
            "1  46  79 2181.38\n",
            "2  47  79 2181.38\n",
            "3  41  79 2179.66\n",
            "4  42  79 2179.66\n",
            "1. Deneme\n"
          ]
        },
        {
          "metadata": {
            "tags": null
          },
          "name": "stderr",
          "output_type": "stream",
          "text": [
            "<ipython-input-16-d0b2c8d24563>:316: VisibleDeprecationWarning: Creating an ndarray from ragged nested sequences (which is a list-or-tuple of lists-or-tuples-or ndarrays with different lengths or shapes) is deprecated. If you meant to do this, you must specify 'dtype=object' when creating the ndarray.\n",
            "  concat_df = pd.DataFrame(np.array([stock, indicators, tries[0][0], tries[1][0], tries[2][0]]).reshape(1,5), columns=[\"STOCK\", \"WEIGHTS\", \"BUY TH\", \"SELL TH\", \"PROFIT\"])\n"
          ]
        },
        {
          "metadata": {
            "tags": null
          },
          "name": "stdout",
          "output_type": "stream",
          "text": [
            "    0   1       2\n",
            "0  41  79 3286.48\n",
            "1  42  79 3275.41\n",
            "2  45  79 3231.81\n",
            "3  44  79 3231.81\n",
            "4  40  79 3208.68\n",
            "2. Deneme\n"
          ]
        },
        {
          "metadata": {
            "tags": null
          },
          "name": "stderr",
          "output_type": "stream",
          "text": [
            "<ipython-input-16-d0b2c8d24563>:316: VisibleDeprecationWarning: Creating an ndarray from ragged nested sequences (which is a list-or-tuple of lists-or-tuples-or ndarrays with different lengths or shapes) is deprecated. If you meant to do this, you must specify 'dtype=object' when creating the ndarray.\n",
            "  concat_df = pd.DataFrame(np.array([stock, indicators, tries[0][0], tries[1][0], tries[2][0]]).reshape(1,5), columns=[\"STOCK\", \"WEIGHTS\", \"BUY TH\", \"SELL TH\", \"PROFIT\"])\n"
          ]
        },
        {
          "metadata": {
            "tags": null
          },
          "name": "stdout",
          "output_type": "stream",
          "text": [
            "    0   1       2\n",
            "0  55  79 1974.83\n",
            "1  56  79 1656.76\n",
            "2  57  79 1556.12\n",
            "3  44  79 1477.33\n",
            "4  59  79 1468.94\n",
            "3. Deneme\n"
          ]
        },
        {
          "metadata": {
            "tags": null
          },
          "name": "stderr",
          "output_type": "stream",
          "text": [
            "<ipython-input-16-d0b2c8d24563>:316: VisibleDeprecationWarning: Creating an ndarray from ragged nested sequences (which is a list-or-tuple of lists-or-tuples-or ndarrays with different lengths or shapes) is deprecated. If you meant to do this, you must specify 'dtype=object' when creating the ndarray.\n",
            "  concat_df = pd.DataFrame(np.array([stock, indicators, tries[0][0], tries[1][0], tries[2][0]]).reshape(1,5), columns=[\"STOCK\", \"WEIGHTS\", \"BUY TH\", \"SELL TH\", \"PROFIT\"])\n"
          ]
        },
        {
          "metadata": {
            "tags": null
          },
          "name": "stdout",
          "output_type": "stream",
          "text": [
            "    0   1       2\n",
            "0  40  42 1704.68\n",
            "1  40  43 1704.68\n",
            "2  40  44 1704.68\n",
            "3  40  45 1704.68\n",
            "4  40  41 1704.68\n",
            "4. Deneme\n"
          ]
        },
        {
          "metadata": {
            "tags": null
          },
          "name": "stderr",
          "output_type": "stream",
          "text": [
            "<ipython-input-16-d0b2c8d24563>:316: VisibleDeprecationWarning: Creating an ndarray from ragged nested sequences (which is a list-or-tuple of lists-or-tuples-or ndarrays with different lengths or shapes) is deprecated. If you meant to do this, you must specify 'dtype=object' when creating the ndarray.\n",
            "  concat_df = pd.DataFrame(np.array([stock, indicators, tries[0][0], tries[1][0], tries[2][0]]).reshape(1,5), columns=[\"STOCK\", \"WEIGHTS\", \"BUY TH\", \"SELL TH\", \"PROFIT\"])\n"
          ]
        },
        {
          "metadata": {
            "tags": null
          },
          "name": "stdout",
          "output_type": "stream",
          "text": [
            "    0   1       2\n",
            "0  47  78 3631.82\n",
            "1  47  75 3167.50\n",
            "2  47  76 3167.50\n",
            "3  47  77 3073.92\n",
            "4  49  78 3060.84\n",
            "5. Deneme\n"
          ]
        },
        {
          "metadata": {
            "tags": null
          },
          "name": "stderr",
          "output_type": "stream",
          "text": [
            "<ipython-input-16-d0b2c8d24563>:316: VisibleDeprecationWarning: Creating an ndarray from ragged nested sequences (which is a list-or-tuple of lists-or-tuples-or ndarrays with different lengths or shapes) is deprecated. If you meant to do this, you must specify 'dtype=object' when creating the ndarray.\n",
            "  concat_df = pd.DataFrame(np.array([stock, indicators, tries[0][0], tries[1][0], tries[2][0]]).reshape(1,5), columns=[\"STOCK\", \"WEIGHTS\", \"BUY TH\", \"SELL TH\", \"PROFIT\"])\n"
          ]
        },
        {
          "metadata": {
            "tags": null
          },
          "name": "stdout",
          "output_type": "stream",
          "text": [
            "    0   1       2\n",
            "0  57  73 1571.59\n",
            "1  56  73 1568.48\n",
            "2  44  73 1561.06\n",
            "3  45  73 1561.06\n",
            "4  46  73 1561.06\n",
            "6. Deneme\n"
          ]
        },
        {
          "metadata": {
            "tags": null
          },
          "name": "stderr",
          "output_type": "stream",
          "text": [
            "<ipython-input-16-d0b2c8d24563>:316: VisibleDeprecationWarning: Creating an ndarray from ragged nested sequences (which is a list-or-tuple of lists-or-tuples-or ndarrays with different lengths or shapes) is deprecated. If you meant to do this, you must specify 'dtype=object' when creating the ndarray.\n",
            "  concat_df = pd.DataFrame(np.array([stock, indicators, tries[0][0], tries[1][0], tries[2][0]]).reshape(1,5), columns=[\"STOCK\", \"WEIGHTS\", \"BUY TH\", \"SELL TH\", \"PROFIT\"])\n"
          ]
        },
        {
          "metadata": {
            "tags": null
          },
          "name": "stdout",
          "output_type": "stream",
          "text": [
            "    0   1       2\n",
            "0  41  67 1728.99\n",
            "1  40  67 1633.40\n",
            "2  41  66 1615.75\n",
            "3  41  65 1615.75\n",
            "4  49  72 1548.34\n",
            "7. Deneme\n"
          ]
        },
        {
          "metadata": {
            "tags": null
          },
          "name": "stderr",
          "output_type": "stream",
          "text": [
            "<ipython-input-16-d0b2c8d24563>:316: VisibleDeprecationWarning: Creating an ndarray from ragged nested sequences (which is a list-or-tuple of lists-or-tuples-or ndarrays with different lengths or shapes) is deprecated. If you meant to do this, you must specify 'dtype=object' when creating the ndarray.\n",
            "  concat_df = pd.DataFrame(np.array([stock, indicators, tries[0][0], tries[1][0], tries[2][0]]).reshape(1,5), columns=[\"STOCK\", \"WEIGHTS\", \"BUY TH\", \"SELL TH\", \"PROFIT\"])\n"
          ]
        },
        {
          "metadata": {
            "tags": null
          },
          "name": "stdout",
          "output_type": "stream",
          "text": [
            "    0   1       2\n",
            "0  42  47 1658.62\n",
            "1  41  47 1658.62\n",
            "2  43  47 1643.18\n",
            "3  42  44 1579.98\n",
            "4  41  44 1579.98\n",
            "8. Deneme\n"
          ]
        },
        {
          "metadata": {
            "tags": null
          },
          "name": "stderr",
          "output_type": "stream",
          "text": [
            "<ipython-input-16-d0b2c8d24563>:316: VisibleDeprecationWarning: Creating an ndarray from ragged nested sequences (which is a list-or-tuple of lists-or-tuples-or ndarrays with different lengths or shapes) is deprecated. If you meant to do this, you must specify 'dtype=object' when creating the ndarray.\n",
            "  concat_df = pd.DataFrame(np.array([stock, indicators, tries[0][0], tries[1][0], tries[2][0]]).reshape(1,5), columns=[\"STOCK\", \"WEIGHTS\", \"BUY TH\", \"SELL TH\", \"PROFIT\"])\n"
          ]
        },
        {
          "metadata": {
            "tags": null
          },
          "name": "stdout",
          "output_type": "stream",
          "text": [
            "    0   1       2\n",
            "0  47  79 2743.13\n",
            "1  47  78 2743.13\n",
            "2  46  78 2743.13\n",
            "3  46  79 2743.13\n",
            "4  61  78 2596.52\n",
            "9. Deneme\n"
          ]
        },
        {
          "metadata": {
            "tags": null
          },
          "name": "stderr",
          "output_type": "stream",
          "text": [
            "<ipython-input-16-d0b2c8d24563>:316: VisibleDeprecationWarning: Creating an ndarray from ragged nested sequences (which is a list-or-tuple of lists-or-tuples-or ndarrays with different lengths or shapes) is deprecated. If you meant to do this, you must specify 'dtype=object' when creating the ndarray.\n",
            "  concat_df = pd.DataFrame(np.array([stock, indicators, tries[0][0], tries[1][0], tries[2][0]]).reshape(1,5), columns=[\"STOCK\", \"WEIGHTS\", \"BUY TH\", \"SELL TH\", \"PROFIT\"])\n"
          ]
        },
        {
          "metadata": {
            "tags": null
          },
          "name": "stdout",
          "output_type": "stream",
          "text": [
            "    0   1       2\n",
            "0  45  41 1859.44\n",
            "1  46  41 1859.44\n",
            "2  40  41 1808.11\n",
            "3  44  54 1783.19\n",
            "4  44  55 1783.19\n",
            "GARAN.IS\n"
          ]
        },
        {
          "metadata": {
            "tags": null
          },
          "name": "stderr",
          "output_type": "stream",
          "text": [
            "<ipython-input-16-d0b2c8d24563>:316: VisibleDeprecationWarning: Creating an ndarray from ragged nested sequences (which is a list-or-tuple of lists-or-tuples-or ndarrays with different lengths or shapes) is deprecated. If you meant to do this, you must specify 'dtype=object' when creating the ndarray.\n",
            "  concat_df = pd.DataFrame(np.array([stock, indicators, tries[0][0], tries[1][0], tries[2][0]]).reshape(1,5), columns=[\"STOCK\", \"WEIGHTS\", \"BUY TH\", \"SELL TH\", \"PROFIT\"])\n"
          ]
        },
        {
          "metadata": {
            "tags": null
          },
          "name": "stdout",
          "output_type": "stream",
          "text": [
            "0. Deneme\n",
            "    0   1       2\n",
            "0  52  69 5986.01\n",
            "1  52  68 5986.01\n",
            "2  53  68 5986.01\n",
            "3  53  69 5986.01\n",
            "4  51  69 5900.87\n",
            "1. Deneme\n"
          ]
        },
        {
          "metadata": {
            "tags": null
          },
          "name": "stderr",
          "output_type": "stream",
          "text": [
            "<ipython-input-16-d0b2c8d24563>:316: VisibleDeprecationWarning: Creating an ndarray from ragged nested sequences (which is a list-or-tuple of lists-or-tuples-or ndarrays with different lengths or shapes) is deprecated. If you meant to do this, you must specify 'dtype=object' when creating the ndarray.\n",
            "  concat_df = pd.DataFrame(np.array([stock, indicators, tries[0][0], tries[1][0], tries[2][0]]).reshape(1,5), columns=[\"STOCK\", \"WEIGHTS\", \"BUY TH\", \"SELL TH\", \"PROFIT\"])\n"
          ]
        },
        {
          "metadata": {
            "tags": null
          },
          "name": "stdout",
          "output_type": "stream",
          "text": [
            "    0   1       2\n",
            "0  61  62 4246.08\n",
            "1  61  64 4030.67\n",
            "2  61  63 4030.67\n",
            "3  63  63 3534.99\n",
            "4  64  63 3534.99\n",
            "2. Deneme\n"
          ]
        },
        {
          "metadata": {
            "tags": null
          },
          "name": "stderr",
          "output_type": "stream",
          "text": [
            "<ipython-input-16-d0b2c8d24563>:316: VisibleDeprecationWarning: Creating an ndarray from ragged nested sequences (which is a list-or-tuple of lists-or-tuples-or ndarrays with different lengths or shapes) is deprecated. If you meant to do this, you must specify 'dtype=object' when creating the ndarray.\n",
            "  concat_df = pd.DataFrame(np.array([stock, indicators, tries[0][0], tries[1][0], tries[2][0]]).reshape(1,5), columns=[\"STOCK\", \"WEIGHTS\", \"BUY TH\", \"SELL TH\", \"PROFIT\"])\n"
          ]
        },
        {
          "metadata": {
            "tags": null
          },
          "name": "stdout",
          "output_type": "stream",
          "text": [
            "    0   1       2\n",
            "0  69  77 4141.38\n",
            "1  69  78 4141.38\n",
            "2  68  78 4141.38\n",
            "3  68  77 4141.38\n",
            "4  70  77 4089.90\n",
            "3. Deneme\n"
          ]
        },
        {
          "metadata": {
            "tags": null
          },
          "name": "stderr",
          "output_type": "stream",
          "text": [
            "<ipython-input-16-d0b2c8d24563>:316: VisibleDeprecationWarning: Creating an ndarray from ragged nested sequences (which is a list-or-tuple of lists-or-tuples-or ndarrays with different lengths or shapes) is deprecated. If you meant to do this, you must specify 'dtype=object' when creating the ndarray.\n",
            "  concat_df = pd.DataFrame(np.array([stock, indicators, tries[0][0], tries[1][0], tries[2][0]]).reshape(1,5), columns=[\"STOCK\", \"WEIGHTS\", \"BUY TH\", \"SELL TH\", \"PROFIT\"])\n"
          ]
        },
        {
          "metadata": {
            "tags": null
          },
          "name": "stdout",
          "output_type": "stream",
          "text": [
            "    0   1       2\n",
            "0  65  68 3411.89\n",
            "1  65  66 3393.52\n",
            "2  65  67 3393.52\n",
            "3  65  65 3324.24\n",
            "4  62  64 3304.77\n",
            "4. Deneme\n"
          ]
        },
        {
          "metadata": {
            "tags": null
          },
          "name": "stderr",
          "output_type": "stream",
          "text": [
            "<ipython-input-16-d0b2c8d24563>:316: VisibleDeprecationWarning: Creating an ndarray from ragged nested sequences (which is a list-or-tuple of lists-or-tuples-or ndarrays with different lengths or shapes) is deprecated. If you meant to do this, you must specify 'dtype=object' when creating the ndarray.\n",
            "  concat_df = pd.DataFrame(np.array([stock, indicators, tries[0][0], tries[1][0], tries[2][0]]).reshape(1,5), columns=[\"STOCK\", \"WEIGHTS\", \"BUY TH\", \"SELL TH\", \"PROFIT\"])\n"
          ]
        },
        {
          "metadata": {
            "tags": null
          },
          "name": "stdout",
          "output_type": "stream",
          "text": [
            "    0   1       2\n",
            "0  44  72 3744.76\n",
            "1  47  72 3630.92\n",
            "2  45  72 3630.92\n",
            "3  46  72 3630.92\n",
            "4  48  72 3597.39\n",
            "5. Deneme\n"
          ]
        },
        {
          "metadata": {
            "tags": null
          },
          "name": "stderr",
          "output_type": "stream",
          "text": [
            "<ipython-input-16-d0b2c8d24563>:316: VisibleDeprecationWarning: Creating an ndarray from ragged nested sequences (which is a list-or-tuple of lists-or-tuples-or ndarrays with different lengths or shapes) is deprecated. If you meant to do this, you must specify 'dtype=object' when creating the ndarray.\n",
            "  concat_df = pd.DataFrame(np.array([stock, indicators, tries[0][0], tries[1][0], tries[2][0]]).reshape(1,5), columns=[\"STOCK\", \"WEIGHTS\", \"BUY TH\", \"SELL TH\", \"PROFIT\"])\n"
          ]
        },
        {
          "metadata": {
            "tags": null
          },
          "name": "stdout",
          "output_type": "stream",
          "text": [
            "    0   1       2\n",
            "0  70  74 3710.90\n",
            "1  71  74 3256.10\n",
            "2  61  67 2953.16\n",
            "3  62  67 2953.16\n",
            "4  62  66 2953.16\n",
            "6. Deneme\n"
          ]
        },
        {
          "metadata": {
            "tags": null
          },
          "name": "stderr",
          "output_type": "stream",
          "text": [
            "<ipython-input-16-d0b2c8d24563>:316: VisibleDeprecationWarning: Creating an ndarray from ragged nested sequences (which is a list-or-tuple of lists-or-tuples-or ndarrays with different lengths or shapes) is deprecated. If you meant to do this, you must specify 'dtype=object' when creating the ndarray.\n",
            "  concat_df = pd.DataFrame(np.array([stock, indicators, tries[0][0], tries[1][0], tries[2][0]]).reshape(1,5), columns=[\"STOCK\", \"WEIGHTS\", \"BUY TH\", \"SELL TH\", \"PROFIT\"])\n"
          ]
        },
        {
          "metadata": {
            "tags": null
          },
          "name": "stdout",
          "output_type": "stream",
          "text": [
            "    0   1       2\n",
            "0  69  73 4001.10\n",
            "1  70  73 3990.71\n",
            "2  67  73 3743.52\n",
            "3  68  73 3537.65\n",
            "4  67  68 2991.74\n",
            "7. Deneme\n"
          ]
        },
        {
          "metadata": {
            "tags": null
          },
          "name": "stderr",
          "output_type": "stream",
          "text": [
            "<ipython-input-16-d0b2c8d24563>:316: VisibleDeprecationWarning: Creating an ndarray from ragged nested sequences (which is a list-or-tuple of lists-or-tuples-or ndarrays with different lengths or shapes) is deprecated. If you meant to do this, you must specify 'dtype=object' when creating the ndarray.\n",
            "  concat_df = pd.DataFrame(np.array([stock, indicators, tries[0][0], tries[1][0], tries[2][0]]).reshape(1,5), columns=[\"STOCK\", \"WEIGHTS\", \"BUY TH\", \"SELL TH\", \"PROFIT\"])\n"
          ]
        },
        {
          "metadata": {
            "tags": null
          },
          "name": "stdout",
          "output_type": "stream",
          "text": [
            "    0   1       2\n",
            "0  63  77 3723.85\n",
            "1  62  77 3467.91\n",
            "2  54  77 3289.60\n",
            "3  53  77 3289.60\n",
            "4  63  76 3253.30\n",
            "8. Deneme\n"
          ]
        },
        {
          "metadata": {
            "tags": null
          },
          "name": "stderr",
          "output_type": "stream",
          "text": [
            "<ipython-input-16-d0b2c8d24563>:316: VisibleDeprecationWarning: Creating an ndarray from ragged nested sequences (which is a list-or-tuple of lists-or-tuples-or ndarrays with different lengths or shapes) is deprecated. If you meant to do this, you must specify 'dtype=object' when creating the ndarray.\n",
            "  concat_df = pd.DataFrame(np.array([stock, indicators, tries[0][0], tries[1][0], tries[2][0]]).reshape(1,5), columns=[\"STOCK\", \"WEIGHTS\", \"BUY TH\", \"SELL TH\", \"PROFIT\"])\n"
          ]
        },
        {
          "metadata": {
            "tags": null
          },
          "name": "stdout",
          "output_type": "stream",
          "text": [
            "    0   1       2\n",
            "0  56  61 4433.85\n",
            "1  56  60 4433.85\n",
            "2  56  59 4433.85\n",
            "3  66  68 3516.94\n",
            "4  66  67 3516.94\n",
            "9. Deneme\n"
          ]
        },
        {
          "metadata": {
            "tags": null
          },
          "name": "stderr",
          "output_type": "stream",
          "text": [
            "<ipython-input-16-d0b2c8d24563>:316: VisibleDeprecationWarning: Creating an ndarray from ragged nested sequences (which is a list-or-tuple of lists-or-tuples-or ndarrays with different lengths or shapes) is deprecated. If you meant to do this, you must specify 'dtype=object' when creating the ndarray.\n",
            "  concat_df = pd.DataFrame(np.array([stock, indicators, tries[0][0], tries[1][0], tries[2][0]]).reshape(1,5), columns=[\"STOCK\", \"WEIGHTS\", \"BUY TH\", \"SELL TH\", \"PROFIT\"])\n"
          ]
        },
        {
          "metadata": {
            "tags": null
          },
          "name": "stdout",
          "output_type": "stream",
          "text": [
            "    0   1       2\n",
            "0  64  67 3624.12\n",
            "1  64  68 3624.12\n",
            "2  65  68 3624.12\n",
            "3  65  67 3624.12\n",
            "4  65  66 3503.27\n",
            "GUBRF.IS\n"
          ]
        },
        {
          "metadata": {
            "tags": null
          },
          "name": "stderr",
          "output_type": "stream",
          "text": [
            "<ipython-input-16-d0b2c8d24563>:316: VisibleDeprecationWarning: Creating an ndarray from ragged nested sequences (which is a list-or-tuple of lists-or-tuples-or ndarrays with different lengths or shapes) is deprecated. If you meant to do this, you must specify 'dtype=object' when creating the ndarray.\n",
            "  concat_df = pd.DataFrame(np.array([stock, indicators, tries[0][0], tries[1][0], tries[2][0]]).reshape(1,5), columns=[\"STOCK\", \"WEIGHTS\", \"BUY TH\", \"SELL TH\", \"PROFIT\"])\n"
          ]
        },
        {
          "metadata": {
            "tags": null
          },
          "name": "stdout",
          "output_type": "stream",
          "text": [
            "0. Deneme\n",
            "    0   1       2\n",
            "0  42  44 8020.96\n",
            "1  42  45 8020.96\n",
            "2  43  44 8020.96\n",
            "3  43  45 8020.96\n",
            "4  46  42 6938.11\n",
            "1. Deneme\n"
          ]
        },
        {
          "metadata": {
            "tags": null
          },
          "name": "stderr",
          "output_type": "stream",
          "text": [
            "<ipython-input-16-d0b2c8d24563>:316: VisibleDeprecationWarning: Creating an ndarray from ragged nested sequences (which is a list-or-tuple of lists-or-tuples-or ndarrays with different lengths or shapes) is deprecated. If you meant to do this, you must specify 'dtype=object' when creating the ndarray.\n",
            "  concat_df = pd.DataFrame(np.array([stock, indicators, tries[0][0], tries[1][0], tries[2][0]]).reshape(1,5), columns=[\"STOCK\", \"WEIGHTS\", \"BUY TH\", \"SELL TH\", \"PROFIT\"])\n"
          ]
        },
        {
          "metadata": {
            "tags": null
          },
          "name": "stdout",
          "output_type": "stream",
          "text": [
            "    0   1       2\n",
            "0  48  56 6795.79\n",
            "1  49  56 6795.79\n",
            "2  49  55 6795.79\n",
            "3  48  55 6795.79\n",
            "4  50  56 6528.78\n",
            "2. Deneme\n"
          ]
        },
        {
          "metadata": {
            "tags": null
          },
          "name": "stderr",
          "output_type": "stream",
          "text": [
            "<ipython-input-16-d0b2c8d24563>:316: VisibleDeprecationWarning: Creating an ndarray from ragged nested sequences (which is a list-or-tuple of lists-or-tuples-or ndarrays with different lengths or shapes) is deprecated. If you meant to do this, you must specify 'dtype=object' when creating the ndarray.\n",
            "  concat_df = pd.DataFrame(np.array([stock, indicators, tries[0][0], tries[1][0], tries[2][0]]).reshape(1,5), columns=[\"STOCK\", \"WEIGHTS\", \"BUY TH\", \"SELL TH\", \"PROFIT\"])\n"
          ]
        },
        {
          "metadata": {
            "tags": null
          },
          "name": "stdout",
          "output_type": "stream",
          "text": [
            "    0   1       2\n",
            "0  44  49 8088.05\n",
            "1  46  49 7724.37\n",
            "2  45  49 7724.37\n",
            "3  44  48 7303.38\n",
            "4  47  49 7194.96\n",
            "3. Deneme\n"
          ]
        },
        {
          "metadata": {
            "tags": null
          },
          "name": "stderr",
          "output_type": "stream",
          "text": [
            "<ipython-input-16-d0b2c8d24563>:316: VisibleDeprecationWarning: Creating an ndarray from ragged nested sequences (which is a list-or-tuple of lists-or-tuples-or ndarrays with different lengths or shapes) is deprecated. If you meant to do this, you must specify 'dtype=object' when creating the ndarray.\n",
            "  concat_df = pd.DataFrame(np.array([stock, indicators, tries[0][0], tries[1][0], tries[2][0]]).reshape(1,5), columns=[\"STOCK\", \"WEIGHTS\", \"BUY TH\", \"SELL TH\", \"PROFIT\"])\n"
          ]
        },
        {
          "metadata": {
            "tags": null
          },
          "name": "stdout",
          "output_type": "stream",
          "text": [
            "    0   1       2\n",
            "0  40  40 6363.72\n",
            "1  40  41 6363.72\n",
            "2  41  41 6363.72\n",
            "3  41  42 6363.72\n",
            "4  41  43 6363.72\n",
            "4. Deneme\n"
          ]
        },
        {
          "metadata": {
            "tags": null
          },
          "name": "stderr",
          "output_type": "stream",
          "text": [
            "<ipython-input-16-d0b2c8d24563>:316: VisibleDeprecationWarning: Creating an ndarray from ragged nested sequences (which is a list-or-tuple of lists-or-tuples-or ndarrays with different lengths or shapes) is deprecated. If you meant to do this, you must specify 'dtype=object' when creating the ndarray.\n",
            "  concat_df = pd.DataFrame(np.array([stock, indicators, tries[0][0], tries[1][0], tries[2][0]]).reshape(1,5), columns=[\"STOCK\", \"WEIGHTS\", \"BUY TH\", \"SELL TH\", \"PROFIT\"])\n"
          ]
        },
        {
          "metadata": {
            "tags": null
          },
          "name": "stdout",
          "output_type": "stream",
          "text": [
            "    0   1       2\n",
            "0  47  51 7056.41\n",
            "1  47  52 7056.41\n",
            "2  49  52 6966.52\n",
            "3  48  51 6966.52\n",
            "4  49  51 6966.52\n",
            "5. Deneme\n"
          ]
        },
        {
          "metadata": {
            "tags": null
          },
          "name": "stderr",
          "output_type": "stream",
          "text": [
            "<ipython-input-16-d0b2c8d24563>:316: VisibleDeprecationWarning: Creating an ndarray from ragged nested sequences (which is a list-or-tuple of lists-or-tuples-or ndarrays with different lengths or shapes) is deprecated. If you meant to do this, you must specify 'dtype=object' when creating the ndarray.\n",
            "  concat_df = pd.DataFrame(np.array([stock, indicators, tries[0][0], tries[1][0], tries[2][0]]).reshape(1,5), columns=[\"STOCK\", \"WEIGHTS\", \"BUY TH\", \"SELL TH\", \"PROFIT\"])\n"
          ]
        },
        {
          "metadata": {
            "tags": null
          },
          "name": "stdout",
          "output_type": "stream",
          "text": [
            "    0   1       2\n",
            "0  47  45 7243.17\n",
            "1  46  46 7243.17\n",
            "2  46  45 7243.17\n",
            "3  46  44 7243.17\n",
            "4  47  46 7243.17\n",
            "6. Deneme\n"
          ]
        },
        {
          "metadata": {
            "tags": null
          },
          "name": "stderr",
          "output_type": "stream",
          "text": [
            "<ipython-input-16-d0b2c8d24563>:316: VisibleDeprecationWarning: Creating an ndarray from ragged nested sequences (which is a list-or-tuple of lists-or-tuples-or ndarrays with different lengths or shapes) is deprecated. If you meant to do this, you must specify 'dtype=object' when creating the ndarray.\n",
            "  concat_df = pd.DataFrame(np.array([stock, indicators, tries[0][0], tries[1][0], tries[2][0]]).reshape(1,5), columns=[\"STOCK\", \"WEIGHTS\", \"BUY TH\", \"SELL TH\", \"PROFIT\"])\n"
          ]
        },
        {
          "metadata": {
            "tags": null
          },
          "name": "stdout",
          "output_type": "stream",
          "text": [
            "    0   1       2\n",
            "0  43  48 7621.15\n",
            "1  42  48 7621.15\n",
            "2  44  48 7525.65\n",
            "3  43  46 6986.25\n",
            "4  43  47 6986.25\n",
            "7. Deneme\n"
          ]
        },
        {
          "metadata": {
            "tags": null
          },
          "name": "stderr",
          "output_type": "stream",
          "text": [
            "<ipython-input-16-d0b2c8d24563>:316: VisibleDeprecationWarning: Creating an ndarray from ragged nested sequences (which is a list-or-tuple of lists-or-tuples-or ndarrays with different lengths or shapes) is deprecated. If you meant to do this, you must specify 'dtype=object' when creating the ndarray.\n",
            "  concat_df = pd.DataFrame(np.array([stock, indicators, tries[0][0], tries[1][0], tries[2][0]]).reshape(1,5), columns=[\"STOCK\", \"WEIGHTS\", \"BUY TH\", \"SELL TH\", \"PROFIT\"])\n"
          ]
        },
        {
          "metadata": {
            "tags": null
          },
          "name": "stdout",
          "output_type": "stream",
          "text": [
            "    0   1       2\n",
            "0  53  41 6554.21\n",
            "1  52  41 6554.21\n",
            "2  58  41 6554.21\n",
            "3  58  40 6554.21\n",
            "4  57  41 6554.21\n",
            "8. Deneme\n"
          ]
        },
        {
          "metadata": {
            "tags": null
          },
          "name": "stderr",
          "output_type": "stream",
          "text": [
            "<ipython-input-16-d0b2c8d24563>:316: VisibleDeprecationWarning: Creating an ndarray from ragged nested sequences (which is a list-or-tuple of lists-or-tuples-or ndarrays with different lengths or shapes) is deprecated. If you meant to do this, you must specify 'dtype=object' when creating the ndarray.\n",
            "  concat_df = pd.DataFrame(np.array([stock, indicators, tries[0][0], tries[1][0], tries[2][0]]).reshape(1,5), columns=[\"STOCK\", \"WEIGHTS\", \"BUY TH\", \"SELL TH\", \"PROFIT\"])\n"
          ]
        },
        {
          "metadata": {
            "tags": null
          },
          "name": "stdout",
          "output_type": "stream",
          "text": [
            "    0   1       2\n",
            "0  45  48 6897.06\n",
            "1  45  47 6897.06\n",
            "2  45  46 6897.06\n",
            "3  43  44 6675.38\n",
            "4  43  41 6675.38\n",
            "9. Deneme\n"
          ]
        },
        {
          "metadata": {
            "tags": null
          },
          "name": "stderr",
          "output_type": "stream",
          "text": [
            "<ipython-input-16-d0b2c8d24563>:316: VisibleDeprecationWarning: Creating an ndarray from ragged nested sequences (which is a list-or-tuple of lists-or-tuples-or ndarrays with different lengths or shapes) is deprecated. If you meant to do this, you must specify 'dtype=object' when creating the ndarray.\n",
            "  concat_df = pd.DataFrame(np.array([stock, indicators, tries[0][0], tries[1][0], tries[2][0]]).reshape(1,5), columns=[\"STOCK\", \"WEIGHTS\", \"BUY TH\", \"SELL TH\", \"PROFIT\"])\n"
          ]
        },
        {
          "metadata": {
            "tags": null
          },
          "name": "stdout",
          "output_type": "stream",
          "text": [
            "    0   1       2\n",
            "0  64  69 6083.35\n",
            "1  63  71 6083.35\n",
            "2  64  70 6083.35\n",
            "3  64  71 6083.35\n",
            "4  63  70 6083.35\n",
            "HEKTS.IS\n"
          ]
        },
        {
          "metadata": {
            "tags": null
          },
          "name": "stderr",
          "output_type": "stream",
          "text": [
            "<ipython-input-16-d0b2c8d24563>:316: VisibleDeprecationWarning: Creating an ndarray from ragged nested sequences (which is a list-or-tuple of lists-or-tuples-or ndarrays with different lengths or shapes) is deprecated. If you meant to do this, you must specify 'dtype=object' when creating the ndarray.\n",
            "  concat_df = pd.DataFrame(np.array([stock, indicators, tries[0][0], tries[1][0], tries[2][0]]).reshape(1,5), columns=[\"STOCK\", \"WEIGHTS\", \"BUY TH\", \"SELL TH\", \"PROFIT\"])\n"
          ]
        },
        {
          "metadata": {
            "tags": null
          },
          "name": "stdout",
          "output_type": "stream",
          "text": [
            "0. Deneme\n",
            "    0   1        2\n",
            "0  73  57 14799.20\n",
            "1  72  57 14799.20\n",
            "2  72  56 14763.83\n",
            "3  73  53 14763.83\n",
            "4  72  53 14763.83\n",
            "1. Deneme\n"
          ]
        },
        {
          "metadata": {
            "tags": null
          },
          "name": "stderr",
          "output_type": "stream",
          "text": [
            "<ipython-input-16-d0b2c8d24563>:316: VisibleDeprecationWarning: Creating an ndarray from ragged nested sequences (which is a list-or-tuple of lists-or-tuples-or ndarrays with different lengths or shapes) is deprecated. If you meant to do this, you must specify 'dtype=object' when creating the ndarray.\n",
            "  concat_df = pd.DataFrame(np.array([stock, indicators, tries[0][0], tries[1][0], tries[2][0]]).reshape(1,5), columns=[\"STOCK\", \"WEIGHTS\", \"BUY TH\", \"SELL TH\", \"PROFIT\"])\n"
          ]
        },
        {
          "metadata": {
            "tags": null
          },
          "name": "stdout",
          "output_type": "stream",
          "text": [
            "    0   1        2\n",
            "0  61  46 12800.18\n",
            "1  61  47 12800.18\n",
            "2  59  46 12800.18\n",
            "3  59  47 12800.18\n",
            "4  60  47 12800.18\n",
            "2. Deneme\n"
          ]
        },
        {
          "metadata": {
            "tags": null
          },
          "name": "stderr",
          "output_type": "stream",
          "text": [
            "<ipython-input-16-d0b2c8d24563>:316: VisibleDeprecationWarning: Creating an ndarray from ragged nested sequences (which is a list-or-tuple of lists-or-tuples-or ndarrays with different lengths or shapes) is deprecated. If you meant to do this, you must specify 'dtype=object' when creating the ndarray.\n",
            "  concat_df = pd.DataFrame(np.array([stock, indicators, tries[0][0], tries[1][0], tries[2][0]]).reshape(1,5), columns=[\"STOCK\", \"WEIGHTS\", \"BUY TH\", \"SELL TH\", \"PROFIT\"])\n"
          ]
        },
        {
          "metadata": {
            "tags": null
          },
          "name": "stdout",
          "output_type": "stream",
          "text": [
            "    0   1        2\n",
            "0  77  59 12996.01\n",
            "1  77  61 12949.87\n",
            "2  77  60 12949.87\n",
            "3  77  57 12931.41\n",
            "4  77  56 12931.41\n",
            "3. Deneme\n"
          ]
        },
        {
          "metadata": {
            "tags": null
          },
          "name": "stderr",
          "output_type": "stream",
          "text": [
            "<ipython-input-16-d0b2c8d24563>:316: VisibleDeprecationWarning: Creating an ndarray from ragged nested sequences (which is a list-or-tuple of lists-or-tuples-or ndarrays with different lengths or shapes) is deprecated. If you meant to do this, you must specify 'dtype=object' when creating the ndarray.\n",
            "  concat_df = pd.DataFrame(np.array([stock, indicators, tries[0][0], tries[1][0], tries[2][0]]).reshape(1,5), columns=[\"STOCK\", \"WEIGHTS\", \"BUY TH\", \"SELL TH\", \"PROFIT\"])\n"
          ]
        },
        {
          "metadata": {
            "tags": null
          },
          "name": "stdout",
          "output_type": "stream",
          "text": [
            "    0   1        2\n",
            "0  73  66 10282.15\n",
            "1  73  65 10282.15\n",
            "2  72  66 10282.15\n",
            "3  72  65 10282.15\n",
            "4  73  40 10262.75\n",
            "4. Deneme\n"
          ]
        },
        {
          "metadata": {
            "tags": null
          },
          "name": "stderr",
          "output_type": "stream",
          "text": [
            "<ipython-input-16-d0b2c8d24563>:316: VisibleDeprecationWarning: Creating an ndarray from ragged nested sequences (which is a list-or-tuple of lists-or-tuples-or ndarrays with different lengths or shapes) is deprecated. If you meant to do this, you must specify 'dtype=object' when creating the ndarray.\n",
            "  concat_df = pd.DataFrame(np.array([stock, indicators, tries[0][0], tries[1][0], tries[2][0]]).reshape(1,5), columns=[\"STOCK\", \"WEIGHTS\", \"BUY TH\", \"SELL TH\", \"PROFIT\"])\n"
          ]
        },
        {
          "metadata": {
            "tags": null
          },
          "name": "stdout",
          "output_type": "stream",
          "text": [
            "    0   1        2\n",
            "0  65  60 13362.41\n",
            "1  65  54 13112.68\n",
            "2  65  64 12634.95\n",
            "3  65  63 12634.95\n",
            "4  63  60 12415.28\n",
            "5. Deneme\n"
          ]
        },
        {
          "metadata": {
            "tags": null
          },
          "name": "stderr",
          "output_type": "stream",
          "text": [
            "<ipython-input-16-d0b2c8d24563>:316: VisibleDeprecationWarning: Creating an ndarray from ragged nested sequences (which is a list-or-tuple of lists-or-tuples-or ndarrays with different lengths or shapes) is deprecated. If you meant to do this, you must specify 'dtype=object' when creating the ndarray.\n",
            "  concat_df = pd.DataFrame(np.array([stock, indicators, tries[0][0], tries[1][0], tries[2][0]]).reshape(1,5), columns=[\"STOCK\", \"WEIGHTS\", \"BUY TH\", \"SELL TH\", \"PROFIT\"])\n"
          ]
        },
        {
          "metadata": {
            "tags": null
          },
          "name": "stdout",
          "output_type": "stream",
          "text": [
            "    0   1        2\n",
            "0  66  51 10580.45\n",
            "1  67  51 10580.45\n",
            "2  68  51 10580.45\n",
            "3  67  50 10580.45\n",
            "4  68  50 10580.45\n",
            "6. Deneme\n"
          ]
        },
        {
          "metadata": {
            "tags": null
          },
          "name": "stderr",
          "output_type": "stream",
          "text": [
            "<ipython-input-16-d0b2c8d24563>:316: VisibleDeprecationWarning: Creating an ndarray from ragged nested sequences (which is a list-or-tuple of lists-or-tuples-or ndarrays with different lengths or shapes) is deprecated. If you meant to do this, you must specify 'dtype=object' when creating the ndarray.\n",
            "  concat_df = pd.DataFrame(np.array([stock, indicators, tries[0][0], tries[1][0], tries[2][0]]).reshape(1,5), columns=[\"STOCK\", \"WEIGHTS\", \"BUY TH\", \"SELL TH\", \"PROFIT\"])\n"
          ]
        },
        {
          "metadata": {
            "tags": null
          },
          "name": "stdout",
          "output_type": "stream",
          "text": [
            "    0   1        2\n",
            "0  71  60 13142.14\n",
            "1  70  60 13142.14\n",
            "2  71  63 12724.93\n",
            "3  70  63 12724.93\n",
            "4  65  66 12529.97\n",
            "7. Deneme\n"
          ]
        },
        {
          "metadata": {
            "tags": null
          },
          "name": "stderr",
          "output_type": "stream",
          "text": [
            "<ipython-input-16-d0b2c8d24563>:316: VisibleDeprecationWarning: Creating an ndarray from ragged nested sequences (which is a list-or-tuple of lists-or-tuples-or ndarrays with different lengths or shapes) is deprecated. If you meant to do this, you must specify 'dtype=object' when creating the ndarray.\n",
            "  concat_df = pd.DataFrame(np.array([stock, indicators, tries[0][0], tries[1][0], tries[2][0]]).reshape(1,5), columns=[\"STOCK\", \"WEIGHTS\", \"BUY TH\", \"SELL TH\", \"PROFIT\"])\n"
          ]
        },
        {
          "metadata": {
            "tags": null
          },
          "name": "stdout",
          "output_type": "stream",
          "text": [
            "    0   1        2\n",
            "0  72  74 13476.56\n",
            "1  72  73 13476.56\n",
            "2  70  52 13325.98\n",
            "3  69  52 13325.98\n",
            "4  69  51 13263.47\n",
            "8. Deneme\n"
          ]
        },
        {
          "metadata": {
            "tags": null
          },
          "name": "stderr",
          "output_type": "stream",
          "text": [
            "<ipython-input-16-d0b2c8d24563>:316: VisibleDeprecationWarning: Creating an ndarray from ragged nested sequences (which is a list-or-tuple of lists-or-tuples-or ndarrays with different lengths or shapes) is deprecated. If you meant to do this, you must specify 'dtype=object' when creating the ndarray.\n",
            "  concat_df = pd.DataFrame(np.array([stock, indicators, tries[0][0], tries[1][0], tries[2][0]]).reshape(1,5), columns=[\"STOCK\", \"WEIGHTS\", \"BUY TH\", \"SELL TH\", \"PROFIT\"])\n"
          ]
        },
        {
          "metadata": {
            "tags": null
          },
          "name": "stdout",
          "output_type": "stream",
          "text": [
            "    0   1        2\n",
            "0  71  47 12897.40\n",
            "1  71  46 12897.40\n",
            "2  79  41 12894.14\n",
            "3  79  42 12894.14\n",
            "4  79  43 12894.14\n",
            "9. Deneme\n"
          ]
        },
        {
          "metadata": {
            "tags": null
          },
          "name": "stderr",
          "output_type": "stream",
          "text": [
            "<ipython-input-16-d0b2c8d24563>:316: VisibleDeprecationWarning: Creating an ndarray from ragged nested sequences (which is a list-or-tuple of lists-or-tuples-or ndarrays with different lengths or shapes) is deprecated. If you meant to do this, you must specify 'dtype=object' when creating the ndarray.\n",
            "  concat_df = pd.DataFrame(np.array([stock, indicators, tries[0][0], tries[1][0], tries[2][0]]).reshape(1,5), columns=[\"STOCK\", \"WEIGHTS\", \"BUY TH\", \"SELL TH\", \"PROFIT\"])\n"
          ]
        },
        {
          "metadata": {
            "tags": null
          },
          "name": "stdout",
          "output_type": "stream",
          "text": [
            "    0   1        2\n",
            "0  73  62 11976.34\n",
            "1  73  63 11976.34\n",
            "2  72  63 11902.54\n",
            "3  72  62 11902.54\n",
            "4  73  60 11814.17\n",
            "KRDMD.IS\n"
          ]
        },
        {
          "metadata": {
            "tags": null
          },
          "name": "stderr",
          "output_type": "stream",
          "text": [
            "<ipython-input-16-d0b2c8d24563>:316: VisibleDeprecationWarning: Creating an ndarray from ragged nested sequences (which is a list-or-tuple of lists-or-tuples-or ndarrays with different lengths or shapes) is deprecated. If you meant to do this, you must specify 'dtype=object' when creating the ndarray.\n",
            "  concat_df = pd.DataFrame(np.array([stock, indicators, tries[0][0], tries[1][0], tries[2][0]]).reshape(1,5), columns=[\"STOCK\", \"WEIGHTS\", \"BUY TH\", \"SELL TH\", \"PROFIT\"])\n"
          ]
        },
        {
          "metadata": {
            "tags": null
          },
          "name": "stdout",
          "output_type": "stream",
          "text": [
            "0. Deneme\n",
            "    0   1       2\n",
            "0  42  50 2667.48\n",
            "1  43  50 2667.48\n",
            "2  43  49 2667.48\n",
            "3  42  49 2667.48\n",
            "4  42  51 2631.97\n",
            "1. Deneme\n"
          ]
        },
        {
          "metadata": {
            "tags": null
          },
          "name": "stderr",
          "output_type": "stream",
          "text": [
            "<ipython-input-16-d0b2c8d24563>:316: VisibleDeprecationWarning: Creating an ndarray from ragged nested sequences (which is a list-or-tuple of lists-or-tuples-or ndarrays with different lengths or shapes) is deprecated. If you meant to do this, you must specify 'dtype=object' when creating the ndarray.\n",
            "  concat_df = pd.DataFrame(np.array([stock, indicators, tries[0][0], tries[1][0], tries[2][0]]).reshape(1,5), columns=[\"STOCK\", \"WEIGHTS\", \"BUY TH\", \"SELL TH\", \"PROFIT\"])\n"
          ]
        },
        {
          "metadata": {
            "tags": null
          },
          "name": "stdout",
          "output_type": "stream",
          "text": [
            "    0   1       2\n",
            "0  40  49 3079.78\n",
            "1  40  48 3079.78\n",
            "2  41  49 3079.78\n",
            "3  41  48 3079.78\n",
            "4  41  47 3079.78\n",
            "2. Deneme\n"
          ]
        },
        {
          "metadata": {
            "tags": null
          },
          "name": "stderr",
          "output_type": "stream",
          "text": [
            "<ipython-input-16-d0b2c8d24563>:316: VisibleDeprecationWarning: Creating an ndarray from ragged nested sequences (which is a list-or-tuple of lists-or-tuples-or ndarrays with different lengths or shapes) is deprecated. If you meant to do this, you must specify 'dtype=object' when creating the ndarray.\n",
            "  concat_df = pd.DataFrame(np.array([stock, indicators, tries[0][0], tries[1][0], tries[2][0]]).reshape(1,5), columns=[\"STOCK\", \"WEIGHTS\", \"BUY TH\", \"SELL TH\", \"PROFIT\"])\n"
          ]
        },
        {
          "metadata": {
            "tags": null
          },
          "name": "stdout",
          "output_type": "stream",
          "text": [
            "    0   1       2\n",
            "0  52  72 3033.87\n",
            "1  53  69 2891.75\n",
            "2  52  69 2885.83\n",
            "3  52  71 2829.11\n",
            "4  52  70 2829.11\n",
            "3. Deneme\n"
          ]
        },
        {
          "metadata": {
            "tags": null
          },
          "name": "stderr",
          "output_type": "stream",
          "text": [
            "<ipython-input-16-d0b2c8d24563>:316: VisibleDeprecationWarning: Creating an ndarray from ragged nested sequences (which is a list-or-tuple of lists-or-tuples-or ndarrays with different lengths or shapes) is deprecated. If you meant to do this, you must specify 'dtype=object' when creating the ndarray.\n",
            "  concat_df = pd.DataFrame(np.array([stock, indicators, tries[0][0], tries[1][0], tries[2][0]]).reshape(1,5), columns=[\"STOCK\", \"WEIGHTS\", \"BUY TH\", \"SELL TH\", \"PROFIT\"])\n"
          ]
        },
        {
          "metadata": {
            "tags": null
          },
          "name": "stdout",
          "output_type": "stream",
          "text": [
            "    0   1       2\n",
            "0  49  75 2944.38\n",
            "1  49  76 2944.38\n",
            "2  50  76 2944.38\n",
            "3  50  75 2944.38\n",
            "4  56  70 2830.34\n",
            "4. Deneme\n"
          ]
        },
        {
          "metadata": {
            "tags": null
          },
          "name": "stderr",
          "output_type": "stream",
          "text": [
            "<ipython-input-16-d0b2c8d24563>:316: VisibleDeprecationWarning: Creating an ndarray from ragged nested sequences (which is a list-or-tuple of lists-or-tuples-or ndarrays with different lengths or shapes) is deprecated. If you meant to do this, you must specify 'dtype=object' when creating the ndarray.\n",
            "  concat_df = pd.DataFrame(np.array([stock, indicators, tries[0][0], tries[1][0], tries[2][0]]).reshape(1,5), columns=[\"STOCK\", \"WEIGHTS\", \"BUY TH\", \"SELL TH\", \"PROFIT\"])\n"
          ]
        },
        {
          "metadata": {
            "tags": null
          },
          "name": "stdout",
          "output_type": "stream",
          "text": [
            "    0   1       2\n",
            "0  40  48 2286.10\n",
            "1  41  48 2131.27\n",
            "2  70  75 2094.99\n",
            "3  69  75 2094.99\n",
            "4  40  45 2031.48\n",
            "5. Deneme\n"
          ]
        },
        {
          "metadata": {
            "tags": null
          },
          "name": "stderr",
          "output_type": "stream",
          "text": [
            "<ipython-input-16-d0b2c8d24563>:316: VisibleDeprecationWarning: Creating an ndarray from ragged nested sequences (which is a list-or-tuple of lists-or-tuples-or ndarrays with different lengths or shapes) is deprecated. If you meant to do this, you must specify 'dtype=object' when creating the ndarray.\n",
            "  concat_df = pd.DataFrame(np.array([stock, indicators, tries[0][0], tries[1][0], tries[2][0]]).reshape(1,5), columns=[\"STOCK\", \"WEIGHTS\", \"BUY TH\", \"SELL TH\", \"PROFIT\"])\n"
          ]
        },
        {
          "metadata": {
            "tags": null
          },
          "name": "stdout",
          "output_type": "stream",
          "text": [
            "    0   1       2\n",
            "0  70  77 2272.14\n",
            "1  55  64 2251.45\n",
            "2  55  65 2251.45\n",
            "3  70  78 2166.40\n",
            "4  70  79 2166.40\n",
            "6. Deneme\n"
          ]
        },
        {
          "metadata": {
            "tags": null
          },
          "name": "stderr",
          "output_type": "stream",
          "text": [
            "<ipython-input-16-d0b2c8d24563>:316: VisibleDeprecationWarning: Creating an ndarray from ragged nested sequences (which is a list-or-tuple of lists-or-tuples-or ndarrays with different lengths or shapes) is deprecated. If you meant to do this, you must specify 'dtype=object' when creating the ndarray.\n",
            "  concat_df = pd.DataFrame(np.array([stock, indicators, tries[0][0], tries[1][0], tries[2][0]]).reshape(1,5), columns=[\"STOCK\", \"WEIGHTS\", \"BUY TH\", \"SELL TH\", \"PROFIT\"])\n"
          ]
        },
        {
          "metadata": {
            "tags": null
          },
          "name": "stdout",
          "output_type": "stream",
          "text": [
            "    0   1       2\n",
            "0  64  78 3380.54\n",
            "1  63  79 3380.54\n",
            "2  64  79 3380.54\n",
            "3  62  79 3380.54\n",
            "4  62  78 3380.54\n",
            "7. Deneme\n"
          ]
        },
        {
          "metadata": {
            "tags": null
          },
          "name": "stderr",
          "output_type": "stream",
          "text": [
            "<ipython-input-16-d0b2c8d24563>:316: VisibleDeprecationWarning: Creating an ndarray from ragged nested sequences (which is a list-or-tuple of lists-or-tuples-or ndarrays with different lengths or shapes) is deprecated. If you meant to do this, you must specify 'dtype=object' when creating the ndarray.\n",
            "  concat_df = pd.DataFrame(np.array([stock, indicators, tries[0][0], tries[1][0], tries[2][0]]).reshape(1,5), columns=[\"STOCK\", \"WEIGHTS\", \"BUY TH\", \"SELL TH\", \"PROFIT\"])\n"
          ]
        },
        {
          "metadata": {
            "tags": null
          },
          "name": "stdout",
          "output_type": "stream",
          "text": [
            "    0   1       2\n",
            "0  69  77 1848.21\n",
            "1  41  47 1808.56\n",
            "2  42  47 1808.56\n",
            "3  70  77 1791.06\n",
            "4  41  46 1772.60\n",
            "8. Deneme\n"
          ]
        },
        {
          "metadata": {
            "tags": null
          },
          "name": "stderr",
          "output_type": "stream",
          "text": [
            "<ipython-input-16-d0b2c8d24563>:316: VisibleDeprecationWarning: Creating an ndarray from ragged nested sequences (which is a list-or-tuple of lists-or-tuples-or ndarrays with different lengths or shapes) is deprecated. If you meant to do this, you must specify 'dtype=object' when creating the ndarray.\n",
            "  concat_df = pd.DataFrame(np.array([stock, indicators, tries[0][0], tries[1][0], tries[2][0]]).reshape(1,5), columns=[\"STOCK\", \"WEIGHTS\", \"BUY TH\", \"SELL TH\", \"PROFIT\"])\n"
          ]
        },
        {
          "metadata": {
            "tags": null
          },
          "name": "stdout",
          "output_type": "stream",
          "text": [
            "    0   1       2\n",
            "0  49  63 1893.97\n",
            "1  41  48 1810.35\n",
            "2  41  47 1810.35\n",
            "3  40  48 1810.35\n",
            "4  40  47 1810.35\n",
            "9. Deneme\n"
          ]
        },
        {
          "metadata": {
            "tags": null
          },
          "name": "stderr",
          "output_type": "stream",
          "text": [
            "<ipython-input-16-d0b2c8d24563>:316: VisibleDeprecationWarning: Creating an ndarray from ragged nested sequences (which is a list-or-tuple of lists-or-tuples-or ndarrays with different lengths or shapes) is deprecated. If you meant to do this, you must specify 'dtype=object' when creating the ndarray.\n",
            "  concat_df = pd.DataFrame(np.array([stock, indicators, tries[0][0], tries[1][0], tries[2][0]]).reshape(1,5), columns=[\"STOCK\", \"WEIGHTS\", \"BUY TH\", \"SELL TH\", \"PROFIT\"])\n"
          ]
        },
        {
          "metadata": {
            "tags": null
          },
          "name": "stdout",
          "output_type": "stream",
          "text": [
            "    0   1       2\n",
            "0  68  78 3650.42\n",
            "1  70  78 3650.42\n",
            "2  67  78 3650.42\n",
            "3  69  78 3650.42\n",
            "4  66  78 3650.42\n",
            "KCHOL.IS\n"
          ]
        },
        {
          "metadata": {
            "tags": null
          },
          "name": "stderr",
          "output_type": "stream",
          "text": [
            "<ipython-input-16-d0b2c8d24563>:316: VisibleDeprecationWarning: Creating an ndarray from ragged nested sequences (which is a list-or-tuple of lists-or-tuples-or ndarrays with different lengths or shapes) is deprecated. If you meant to do this, you must specify 'dtype=object' when creating the ndarray.\n",
            "  concat_df = pd.DataFrame(np.array([stock, indicators, tries[0][0], tries[1][0], tries[2][0]]).reshape(1,5), columns=[\"STOCK\", \"WEIGHTS\", \"BUY TH\", \"SELL TH\", \"PROFIT\"])\n"
          ]
        },
        {
          "metadata": {
            "tags": null
          },
          "name": "stdout",
          "output_type": "stream",
          "text": [
            "0. Deneme\n",
            "    0   1       2\n",
            "0  64  74 3403.39\n",
            "1  63  74 3403.39\n",
            "2  71  77 3397.65\n",
            "3  71  78 3397.65\n",
            "4  64  77 3357.82\n",
            "1. Deneme\n"
          ]
        },
        {
          "metadata": {
            "tags": null
          },
          "name": "stderr",
          "output_type": "stream",
          "text": [
            "<ipython-input-16-d0b2c8d24563>:316: VisibleDeprecationWarning: Creating an ndarray from ragged nested sequences (which is a list-or-tuple of lists-or-tuples-or ndarrays with different lengths or shapes) is deprecated. If you meant to do this, you must specify 'dtype=object' when creating the ndarray.\n",
            "  concat_df = pd.DataFrame(np.array([stock, indicators, tries[0][0], tries[1][0], tries[2][0]]).reshape(1,5), columns=[\"STOCK\", \"WEIGHTS\", \"BUY TH\", \"SELL TH\", \"PROFIT\"])\n"
          ]
        },
        {
          "metadata": {
            "tags": null
          },
          "name": "stdout",
          "output_type": "stream",
          "text": [
            "    0   1       2\n",
            "0  69  79 2826.34\n",
            "1  69  77 2723.84\n",
            "2  69  78 2723.84\n",
            "3  69  74 2634.38\n",
            "4  40  44 2628.83\n",
            "2. Deneme\n"
          ]
        },
        {
          "metadata": {
            "tags": null
          },
          "name": "stderr",
          "output_type": "stream",
          "text": [
            "<ipython-input-16-d0b2c8d24563>:316: VisibleDeprecationWarning: Creating an ndarray from ragged nested sequences (which is a list-or-tuple of lists-or-tuples-or ndarrays with different lengths or shapes) is deprecated. If you meant to do this, you must specify 'dtype=object' when creating the ndarray.\n",
            "  concat_df = pd.DataFrame(np.array([stock, indicators, tries[0][0], tries[1][0], tries[2][0]]).reshape(1,5), columns=[\"STOCK\", \"WEIGHTS\", \"BUY TH\", \"SELL TH\", \"PROFIT\"])\n"
          ]
        },
        {
          "metadata": {
            "tags": null
          },
          "name": "stdout",
          "output_type": "stream",
          "text": [
            "    0   1       2\n",
            "0  40  61 3925.97\n",
            "1  40  60 3925.97\n",
            "2  41  60 3834.99\n",
            "3  41  61 3834.99\n",
            "4  42  61 3730.47\n",
            "3. Deneme\n"
          ]
        },
        {
          "metadata": {
            "tags": null
          },
          "name": "stderr",
          "output_type": "stream",
          "text": [
            "<ipython-input-16-d0b2c8d24563>:316: VisibleDeprecationWarning: Creating an ndarray from ragged nested sequences (which is a list-or-tuple of lists-or-tuples-or ndarrays with different lengths or shapes) is deprecated. If you meant to do this, you must specify 'dtype=object' when creating the ndarray.\n",
            "  concat_df = pd.DataFrame(np.array([stock, indicators, tries[0][0], tries[1][0], tries[2][0]]).reshape(1,5), columns=[\"STOCK\", \"WEIGHTS\", \"BUY TH\", \"SELL TH\", \"PROFIT\"])\n"
          ]
        },
        {
          "metadata": {
            "tags": null
          },
          "name": "stdout",
          "output_type": "stream",
          "text": [
            "    0   1       2\n",
            "0  64  78 3843.20\n",
            "1  63  78 3748.48\n",
            "2  64  74 3587.68\n",
            "3  63  74 3497.11\n",
            "4  41  78 3435.37\n",
            "4. Deneme\n"
          ]
        },
        {
          "metadata": {
            "tags": null
          },
          "name": "stderr",
          "output_type": "stream",
          "text": [
            "<ipython-input-16-d0b2c8d24563>:316: VisibleDeprecationWarning: Creating an ndarray from ragged nested sequences (which is a list-or-tuple of lists-or-tuples-or ndarrays with different lengths or shapes) is deprecated. If you meant to do this, you must specify 'dtype=object' when creating the ndarray.\n",
            "  concat_df = pd.DataFrame(np.array([stock, indicators, tries[0][0], tries[1][0], tries[2][0]]).reshape(1,5), columns=[\"STOCK\", \"WEIGHTS\", \"BUY TH\", \"SELL TH\", \"PROFIT\"])\n"
          ]
        },
        {
          "metadata": {
            "tags": null
          },
          "name": "stdout",
          "output_type": "stream",
          "text": [
            "    0   1       2\n",
            "0  49  70 4034.17\n",
            "1  50  70 4034.17\n",
            "2  50  67 3825.64\n",
            "3  50  68 3825.64\n",
            "4  49  68 3825.64\n",
            "5. Deneme\n"
          ]
        },
        {
          "metadata": {
            "tags": null
          },
          "name": "stderr",
          "output_type": "stream",
          "text": [
            "<ipython-input-16-d0b2c8d24563>:316: VisibleDeprecationWarning: Creating an ndarray from ragged nested sequences (which is a list-or-tuple of lists-or-tuples-or ndarrays with different lengths or shapes) is deprecated. If you meant to do this, you must specify 'dtype=object' when creating the ndarray.\n",
            "  concat_df = pd.DataFrame(np.array([stock, indicators, tries[0][0], tries[1][0], tries[2][0]]).reshape(1,5), columns=[\"STOCK\", \"WEIGHTS\", \"BUY TH\", \"SELL TH\", \"PROFIT\"])\n"
          ]
        },
        {
          "metadata": {
            "tags": null
          },
          "name": "stdout",
          "output_type": "stream",
          "text": [
            "    0   1       2\n",
            "0  59  79 5012.35\n",
            "1  58  79 5012.35\n",
            "2  58  78 4632.26\n",
            "3  59  78 4632.26\n",
            "4  58  77 4296.66\n",
            "6. Deneme\n"
          ]
        },
        {
          "metadata": {
            "tags": null
          },
          "name": "stderr",
          "output_type": "stream",
          "text": [
            "<ipython-input-16-d0b2c8d24563>:316: VisibleDeprecationWarning: Creating an ndarray from ragged nested sequences (which is a list-or-tuple of lists-or-tuples-or ndarrays with different lengths or shapes) is deprecated. If you meant to do this, you must specify 'dtype=object' when creating the ndarray.\n",
            "  concat_df = pd.DataFrame(np.array([stock, indicators, tries[0][0], tries[1][0], tries[2][0]]).reshape(1,5), columns=[\"STOCK\", \"WEIGHTS\", \"BUY TH\", \"SELL TH\", \"PROFIT\"])\n"
          ]
        },
        {
          "metadata": {
            "tags": null
          },
          "name": "stdout",
          "output_type": "stream",
          "text": [
            "    0   1       2\n",
            "0  46  54 3480.09\n",
            "1  45  54 3480.09\n",
            "2  45  55 3480.09\n",
            "3  46  55 3480.09\n",
            "4  45  74 3414.90\n",
            "7. Deneme\n"
          ]
        },
        {
          "metadata": {
            "tags": null
          },
          "name": "stderr",
          "output_type": "stream",
          "text": [
            "<ipython-input-16-d0b2c8d24563>:316: VisibleDeprecationWarning: Creating an ndarray from ragged nested sequences (which is a list-or-tuple of lists-or-tuples-or ndarrays with different lengths or shapes) is deprecated. If you meant to do this, you must specify 'dtype=object' when creating the ndarray.\n",
            "  concat_df = pd.DataFrame(np.array([stock, indicators, tries[0][0], tries[1][0], tries[2][0]]).reshape(1,5), columns=[\"STOCK\", \"WEIGHTS\", \"BUY TH\", \"SELL TH\", \"PROFIT\"])\n"
          ]
        },
        {
          "metadata": {
            "tags": null
          },
          "name": "stdout",
          "output_type": "stream",
          "text": [
            "    0   1       2\n",
            "0  51  64 3072.42\n",
            "1  51  66 3072.42\n",
            "2  51  65 3072.42\n",
            "3  49  65 3037.48\n",
            "4  49  66 3037.48\n",
            "8. Deneme\n"
          ]
        },
        {
          "metadata": {
            "tags": null
          },
          "name": "stderr",
          "output_type": "stream",
          "text": [
            "<ipython-input-16-d0b2c8d24563>:316: VisibleDeprecationWarning: Creating an ndarray from ragged nested sequences (which is a list-or-tuple of lists-or-tuples-or ndarrays with different lengths or shapes) is deprecated. If you meant to do this, you must specify 'dtype=object' when creating the ndarray.\n",
            "  concat_df = pd.DataFrame(np.array([stock, indicators, tries[0][0], tries[1][0], tries[2][0]]).reshape(1,5), columns=[\"STOCK\", \"WEIGHTS\", \"BUY TH\", \"SELL TH\", \"PROFIT\"])\n"
          ]
        },
        {
          "metadata": {
            "tags": null
          },
          "name": "stdout",
          "output_type": "stream",
          "text": [
            "    0   1       2\n",
            "0  55  70 3201.86\n",
            "1  55  69 3201.86\n",
            "2  54  70 3201.86\n",
            "3  54  69 3201.86\n",
            "4  55  78 3186.83\n",
            "9. Deneme\n"
          ]
        },
        {
          "metadata": {
            "tags": null
          },
          "name": "stderr",
          "output_type": "stream",
          "text": [
            "<ipython-input-16-d0b2c8d24563>:316: VisibleDeprecationWarning: Creating an ndarray from ragged nested sequences (which is a list-or-tuple of lists-or-tuples-or ndarrays with different lengths or shapes) is deprecated. If you meant to do this, you must specify 'dtype=object' when creating the ndarray.\n",
            "  concat_df = pd.DataFrame(np.array([stock, indicators, tries[0][0], tries[1][0], tries[2][0]]).reshape(1,5), columns=[\"STOCK\", \"WEIGHTS\", \"BUY TH\", \"SELL TH\", \"PROFIT\"])\n"
          ]
        },
        {
          "metadata": {
            "tags": null
          },
          "name": "stdout",
          "output_type": "stream",
          "text": [
            "    0   1       2\n",
            "0  43  78 2512.99\n",
            "1  45  78 2474.16\n",
            "2  44  78 2474.16\n",
            "3  43  53 2450.87\n",
            "4  43  77 2440.19\n",
            "KOZAL.IS\n"
          ]
        },
        {
          "metadata": {
            "tags": null
          },
          "name": "stderr",
          "output_type": "stream",
          "text": [
            "<ipython-input-16-d0b2c8d24563>:316: VisibleDeprecationWarning: Creating an ndarray from ragged nested sequences (which is a list-or-tuple of lists-or-tuples-or ndarrays with different lengths or shapes) is deprecated. If you meant to do this, you must specify 'dtype=object' when creating the ndarray.\n",
            "  concat_df = pd.DataFrame(np.array([stock, indicators, tries[0][0], tries[1][0], tries[2][0]]).reshape(1,5), columns=[\"STOCK\", \"WEIGHTS\", \"BUY TH\", \"SELL TH\", \"PROFIT\"])\n"
          ]
        },
        {
          "metadata": {
            "tags": null
          },
          "name": "stdout",
          "output_type": "stream",
          "text": [
            "0. Deneme\n",
            "    0   1       2\n",
            "0  63  68 7701.99\n",
            "1  64  68 7701.99\n",
            "2  63  67 7424.34\n",
            "3  64  66 7424.34\n",
            "4  64  67 7424.34\n",
            "1. Deneme\n"
          ]
        },
        {
          "metadata": {
            "tags": null
          },
          "name": "stderr",
          "output_type": "stream",
          "text": [
            "<ipython-input-16-d0b2c8d24563>:316: VisibleDeprecationWarning: Creating an ndarray from ragged nested sequences (which is a list-or-tuple of lists-or-tuples-or ndarrays with different lengths or shapes) is deprecated. If you meant to do this, you must specify 'dtype=object' when creating the ndarray.\n",
            "  concat_df = pd.DataFrame(np.array([stock, indicators, tries[0][0], tries[1][0], tries[2][0]]).reshape(1,5), columns=[\"STOCK\", \"WEIGHTS\", \"BUY TH\", \"SELL TH\", \"PROFIT\"])\n"
          ]
        },
        {
          "metadata": {
            "tags": null
          },
          "name": "stdout",
          "output_type": "stream",
          "text": [
            "    0   1       2\n",
            "0  69  54 6419.74\n",
            "1  67  55 6419.74\n",
            "2  68  55 6419.74\n",
            "3  69  55 6419.74\n",
            "4  68  54 6419.74\n",
            "2. Deneme\n"
          ]
        },
        {
          "metadata": {
            "tags": null
          },
          "name": "stderr",
          "output_type": "stream",
          "text": [
            "<ipython-input-16-d0b2c8d24563>:316: VisibleDeprecationWarning: Creating an ndarray from ragged nested sequences (which is a list-or-tuple of lists-or-tuples-or ndarrays with different lengths or shapes) is deprecated. If you meant to do this, you must specify 'dtype=object' when creating the ndarray.\n",
            "  concat_df = pd.DataFrame(np.array([stock, indicators, tries[0][0], tries[1][0], tries[2][0]]).reshape(1,5), columns=[\"STOCK\", \"WEIGHTS\", \"BUY TH\", \"SELL TH\", \"PROFIT\"])\n"
          ]
        },
        {
          "metadata": {
            "tags": null
          },
          "name": "stdout",
          "output_type": "stream",
          "text": [
            "    0   1       2\n",
            "0  46  72 6079.47\n",
            "1  52  63 6034.89\n",
            "2  53  63 6034.89\n",
            "3  46  63 6003.90\n",
            "4  75  58 5973.01\n",
            "3. Deneme\n"
          ]
        },
        {
          "metadata": {
            "tags": null
          },
          "name": "stderr",
          "output_type": "stream",
          "text": [
            "<ipython-input-16-d0b2c8d24563>:316: VisibleDeprecationWarning: Creating an ndarray from ragged nested sequences (which is a list-or-tuple of lists-or-tuples-or ndarrays with different lengths or shapes) is deprecated. If you meant to do this, you must specify 'dtype=object' when creating the ndarray.\n",
            "  concat_df = pd.DataFrame(np.array([stock, indicators, tries[0][0], tries[1][0], tries[2][0]]).reshape(1,5), columns=[\"STOCK\", \"WEIGHTS\", \"BUY TH\", \"SELL TH\", \"PROFIT\"])\n"
          ]
        },
        {
          "metadata": {
            "tags": null
          },
          "name": "stdout",
          "output_type": "stream",
          "text": [
            "    0   1       2\n",
            "0  42  55 7034.25\n",
            "1  42  56 7034.25\n",
            "2  43  55 7034.25\n",
            "3  43  56 7034.25\n",
            "4  40  55 6676.41\n",
            "4. Deneme\n"
          ]
        },
        {
          "metadata": {
            "tags": null
          },
          "name": "stderr",
          "output_type": "stream",
          "text": [
            "<ipython-input-16-d0b2c8d24563>:316: VisibleDeprecationWarning: Creating an ndarray from ragged nested sequences (which is a list-or-tuple of lists-or-tuples-or ndarrays with different lengths or shapes) is deprecated. If you meant to do this, you must specify 'dtype=object' when creating the ndarray.\n",
            "  concat_df = pd.DataFrame(np.array([stock, indicators, tries[0][0], tries[1][0], tries[2][0]]).reshape(1,5), columns=[\"STOCK\", \"WEIGHTS\", \"BUY TH\", \"SELL TH\", \"PROFIT\"])\n"
          ]
        },
        {
          "metadata": {
            "tags": null
          },
          "name": "stdout",
          "output_type": "stream",
          "text": [
            "    0   1       2\n",
            "0  40  69 6215.42\n",
            "1  40  68 6215.42\n",
            "2  46  69 6038.35\n",
            "3  45  68 6038.35\n",
            "4  45  69 6038.35\n",
            "5. Deneme\n"
          ]
        },
        {
          "metadata": {
            "tags": null
          },
          "name": "stderr",
          "output_type": "stream",
          "text": [
            "<ipython-input-16-d0b2c8d24563>:316: VisibleDeprecationWarning: Creating an ndarray from ragged nested sequences (which is a list-or-tuple of lists-or-tuples-or ndarrays with different lengths or shapes) is deprecated. If you meant to do this, you must specify 'dtype=object' when creating the ndarray.\n",
            "  concat_df = pd.DataFrame(np.array([stock, indicators, tries[0][0], tries[1][0], tries[2][0]]).reshape(1,5), columns=[\"STOCK\", \"WEIGHTS\", \"BUY TH\", \"SELL TH\", \"PROFIT\"])\n"
          ]
        },
        {
          "metadata": {
            "tags": null
          },
          "name": "stdout",
          "output_type": "stream",
          "text": [
            "    0   1       2\n",
            "0  73  77 6917.98\n",
            "1  73  76 6732.95\n",
            "2  73  75 6732.95\n",
            "3  71  77 6417.14\n",
            "4  72  77 6417.14\n",
            "6. Deneme\n"
          ]
        },
        {
          "metadata": {
            "tags": null
          },
          "name": "stderr",
          "output_type": "stream",
          "text": [
            "<ipython-input-16-d0b2c8d24563>:316: VisibleDeprecationWarning: Creating an ndarray from ragged nested sequences (which is a list-or-tuple of lists-or-tuples-or ndarrays with different lengths or shapes) is deprecated. If you meant to do this, you must specify 'dtype=object' when creating the ndarray.\n",
            "  concat_df = pd.DataFrame(np.array([stock, indicators, tries[0][0], tries[1][0], tries[2][0]]).reshape(1,5), columns=[\"STOCK\", \"WEIGHTS\", \"BUY TH\", \"SELL TH\", \"PROFIT\"])\n"
          ]
        },
        {
          "metadata": {
            "tags": null
          },
          "name": "stdout",
          "output_type": "stream",
          "text": [
            "    0   1       2\n",
            "0  40  52 6478.64\n",
            "1  40  51 6478.64\n",
            "2  40  46 6169.35\n",
            "3  40  47 6169.35\n",
            "4  40  50 6112.72\n",
            "7. Deneme\n"
          ]
        },
        {
          "metadata": {
            "tags": null
          },
          "name": "stderr",
          "output_type": "stream",
          "text": [
            "<ipython-input-16-d0b2c8d24563>:316: VisibleDeprecationWarning: Creating an ndarray from ragged nested sequences (which is a list-or-tuple of lists-or-tuples-or ndarrays with different lengths or shapes) is deprecated. If you meant to do this, you must specify 'dtype=object' when creating the ndarray.\n",
            "  concat_df = pd.DataFrame(np.array([stock, indicators, tries[0][0], tries[1][0], tries[2][0]]).reshape(1,5), columns=[\"STOCK\", \"WEIGHTS\", \"BUY TH\", \"SELL TH\", \"PROFIT\"])\n"
          ]
        },
        {
          "metadata": {
            "tags": null
          },
          "name": "stdout",
          "output_type": "stream",
          "text": [
            "    0   1       2\n",
            "0  69  49 6669.81\n",
            "1  69  50 6493.16\n",
            "2  69  51 6493.16\n",
            "3  69  52 6211.46\n",
            "4  69  56 6081.90\n",
            "8. Deneme\n"
          ]
        },
        {
          "metadata": {
            "tags": null
          },
          "name": "stderr",
          "output_type": "stream",
          "text": [
            "<ipython-input-16-d0b2c8d24563>:316: VisibleDeprecationWarning: Creating an ndarray from ragged nested sequences (which is a list-or-tuple of lists-or-tuples-or ndarrays with different lengths or shapes) is deprecated. If you meant to do this, you must specify 'dtype=object' when creating the ndarray.\n",
            "  concat_df = pd.DataFrame(np.array([stock, indicators, tries[0][0], tries[1][0], tries[2][0]]).reshape(1,5), columns=[\"STOCK\", \"WEIGHTS\", \"BUY TH\", \"SELL TH\", \"PROFIT\"])\n"
          ]
        },
        {
          "metadata": {
            "tags": null
          },
          "name": "stdout",
          "output_type": "stream",
          "text": [
            "    0   1       2\n",
            "0  70  64 7610.09\n",
            "1  69  64 7610.09\n",
            "2  71  64 7316.44\n",
            "3  73  79 7285.21\n",
            "4  74  78 7285.21\n",
            "9. Deneme\n"
          ]
        },
        {
          "metadata": {
            "tags": null
          },
          "name": "stderr",
          "output_type": "stream",
          "text": [
            "<ipython-input-16-d0b2c8d24563>:316: VisibleDeprecationWarning: Creating an ndarray from ragged nested sequences (which is a list-or-tuple of lists-or-tuples-or ndarrays with different lengths or shapes) is deprecated. If you meant to do this, you must specify 'dtype=object' when creating the ndarray.\n",
            "  concat_df = pd.DataFrame(np.array([stock, indicators, tries[0][0], tries[1][0], tries[2][0]]).reshape(1,5), columns=[\"STOCK\", \"WEIGHTS\", \"BUY TH\", \"SELL TH\", \"PROFIT\"])\n"
          ]
        },
        {
          "metadata": {
            "tags": null
          },
          "name": "stdout",
          "output_type": "stream",
          "text": [
            "    0   1       2\n",
            "0  76  59 6149.82\n",
            "1  77  60 6149.82\n",
            "2  77  59 6149.82\n",
            "3  76  60 6149.82\n",
            "4  77  55 6149.76\n",
            "KOZAA.IS\n"
          ]
        },
        {
          "metadata": {
            "tags": null
          },
          "name": "stderr",
          "output_type": "stream",
          "text": [
            "<ipython-input-16-d0b2c8d24563>:316: VisibleDeprecationWarning: Creating an ndarray from ragged nested sequences (which is a list-or-tuple of lists-or-tuples-or ndarrays with different lengths or shapes) is deprecated. If you meant to do this, you must specify 'dtype=object' when creating the ndarray.\n",
            "  concat_df = pd.DataFrame(np.array([stock, indicators, tries[0][0], tries[1][0], tries[2][0]]).reshape(1,5), columns=[\"STOCK\", \"WEIGHTS\", \"BUY TH\", \"SELL TH\", \"PROFIT\"])\n"
          ]
        },
        {
          "metadata": {
            "tags": null
          },
          "name": "stdout",
          "output_type": "stream",
          "text": [
            "0. Deneme\n",
            "    0   1       2\n",
            "0  70  79 3021.33\n",
            "1  67  79 3021.33\n",
            "2  68  79 3021.33\n",
            "3  69  79 3021.33\n",
            "4  71  79 2995.43\n",
            "1. Deneme\n"
          ]
        },
        {
          "metadata": {
            "tags": null
          },
          "name": "stderr",
          "output_type": "stream",
          "text": [
            "<ipython-input-16-d0b2c8d24563>:316: VisibleDeprecationWarning: Creating an ndarray from ragged nested sequences (which is a list-or-tuple of lists-or-tuples-or ndarrays with different lengths or shapes) is deprecated. If you meant to do this, you must specify 'dtype=object' when creating the ndarray.\n",
            "  concat_df = pd.DataFrame(np.array([stock, indicators, tries[0][0], tries[1][0], tries[2][0]]).reshape(1,5), columns=[\"STOCK\", \"WEIGHTS\", \"BUY TH\", \"SELL TH\", \"PROFIT\"])\n"
          ]
        },
        {
          "metadata": {
            "tags": null
          },
          "name": "stdout",
          "output_type": "stream",
          "text": [
            "    0   1       2\n",
            "0  79  43 2699.62\n",
            "1  79  45 2699.62\n",
            "2  79  44 2699.62\n",
            "3  79  42 2683.89\n",
            "4  75  54 2679.01\n",
            "2. Deneme\n"
          ]
        },
        {
          "metadata": {
            "tags": null
          },
          "name": "stderr",
          "output_type": "stream",
          "text": [
            "<ipython-input-16-d0b2c8d24563>:316: VisibleDeprecationWarning: Creating an ndarray from ragged nested sequences (which is a list-or-tuple of lists-or-tuples-or ndarrays with different lengths or shapes) is deprecated. If you meant to do this, you must specify 'dtype=object' when creating the ndarray.\n",
            "  concat_df = pd.DataFrame(np.array([stock, indicators, tries[0][0], tries[1][0], tries[2][0]]).reshape(1,5), columns=[\"STOCK\", \"WEIGHTS\", \"BUY TH\", \"SELL TH\", \"PROFIT\"])\n"
          ]
        },
        {
          "metadata": {
            "tags": null
          },
          "name": "stdout",
          "output_type": "stream",
          "text": [
            "    0   1       2\n",
            "0  70  41 2633.96\n",
            "1  67  41 2633.96\n",
            "2  68  41 2633.96\n",
            "3  69  40 2633.96\n",
            "4  69  41 2633.96\n",
            "3. Deneme\n"
          ]
        },
        {
          "metadata": {
            "tags": null
          },
          "name": "stderr",
          "output_type": "stream",
          "text": [
            "<ipython-input-16-d0b2c8d24563>:316: VisibleDeprecationWarning: Creating an ndarray from ragged nested sequences (which is a list-or-tuple of lists-or-tuples-or ndarrays with different lengths or shapes) is deprecated. If you meant to do this, you must specify 'dtype=object' when creating the ndarray.\n",
            "  concat_df = pd.DataFrame(np.array([stock, indicators, tries[0][0], tries[1][0], tries[2][0]]).reshape(1,5), columns=[\"STOCK\", \"WEIGHTS\", \"BUY TH\", \"SELL TH\", \"PROFIT\"])\n"
          ]
        },
        {
          "metadata": {
            "tags": null
          },
          "name": "stdout",
          "output_type": "stream",
          "text": [
            "    0   1       2\n",
            "0  58  67 3253.02\n",
            "1  57  69 3253.02\n",
            "2  57  68 3253.02\n",
            "3  57  67 3253.02\n",
            "4  58  68 3253.02\n",
            "4. Deneme\n"
          ]
        },
        {
          "metadata": {
            "tags": null
          },
          "name": "stderr",
          "output_type": "stream",
          "text": [
            "<ipython-input-16-d0b2c8d24563>:316: VisibleDeprecationWarning: Creating an ndarray from ragged nested sequences (which is a list-or-tuple of lists-or-tuples-or ndarrays with different lengths or shapes) is deprecated. If you meant to do this, you must specify 'dtype=object' when creating the ndarray.\n",
            "  concat_df = pd.DataFrame(np.array([stock, indicators, tries[0][0], tries[1][0], tries[2][0]]).reshape(1,5), columns=[\"STOCK\", \"WEIGHTS\", \"BUY TH\", \"SELL TH\", \"PROFIT\"])\n"
          ]
        },
        {
          "metadata": {
            "tags": null
          },
          "name": "stdout",
          "output_type": "stream",
          "text": [
            "    0   1       2\n",
            "0  55  62 2784.31\n",
            "1  54  62 2784.31\n",
            "2  54  63 2784.31\n",
            "3  55  63 2784.31\n",
            "4  51  62 2751.02\n",
            "5. Deneme\n"
          ]
        },
        {
          "metadata": {
            "tags": null
          },
          "name": "stderr",
          "output_type": "stream",
          "text": [
            "<ipython-input-16-d0b2c8d24563>:316: VisibleDeprecationWarning: Creating an ndarray from ragged nested sequences (which is a list-or-tuple of lists-or-tuples-or ndarrays with different lengths or shapes) is deprecated. If you meant to do this, you must specify 'dtype=object' when creating the ndarray.\n",
            "  concat_df = pd.DataFrame(np.array([stock, indicators, tries[0][0], tries[1][0], tries[2][0]]).reshape(1,5), columns=[\"STOCK\", \"WEIGHTS\", \"BUY TH\", \"SELL TH\", \"PROFIT\"])\n"
          ]
        },
        {
          "metadata": {
            "tags": null
          },
          "name": "stdout",
          "output_type": "stream",
          "text": [
            "    0   1       2\n",
            "0  53  74 2854.49\n",
            "1  72  40 2770.52\n",
            "2  73  41 2770.52\n",
            "3  73  40 2770.52\n",
            "4  72  41 2770.52\n",
            "6. Deneme\n"
          ]
        },
        {
          "metadata": {
            "tags": null
          },
          "name": "stderr",
          "output_type": "stream",
          "text": [
            "<ipython-input-16-d0b2c8d24563>:316: VisibleDeprecationWarning: Creating an ndarray from ragged nested sequences (which is a list-or-tuple of lists-or-tuples-or ndarrays with different lengths or shapes) is deprecated. If you meant to do this, you must specify 'dtype=object' when creating the ndarray.\n",
            "  concat_df = pd.DataFrame(np.array([stock, indicators, tries[0][0], tries[1][0], tries[2][0]]).reshape(1,5), columns=[\"STOCK\", \"WEIGHTS\", \"BUY TH\", \"SELL TH\", \"PROFIT\"])\n"
          ]
        },
        {
          "metadata": {
            "tags": null
          },
          "name": "stdout",
          "output_type": "stream",
          "text": [
            "    0   1       2\n",
            "0  56  65 2812.69\n",
            "1  56  66 2812.69\n",
            "2  57  66 2812.69\n",
            "3  57  65 2812.69\n",
            "4  56  62 2780.52\n",
            "7. Deneme\n"
          ]
        },
        {
          "metadata": {
            "tags": null
          },
          "name": "stderr",
          "output_type": "stream",
          "text": [
            "<ipython-input-16-d0b2c8d24563>:316: VisibleDeprecationWarning: Creating an ndarray from ragged nested sequences (which is a list-or-tuple of lists-or-tuples-or ndarrays with different lengths or shapes) is deprecated. If you meant to do this, you must specify 'dtype=object' when creating the ndarray.\n",
            "  concat_df = pd.DataFrame(np.array([stock, indicators, tries[0][0], tries[1][0], tries[2][0]]).reshape(1,5), columns=[\"STOCK\", \"WEIGHTS\", \"BUY TH\", \"SELL TH\", \"PROFIT\"])\n"
          ]
        },
        {
          "metadata": {
            "tags": null
          },
          "name": "stdout",
          "output_type": "stream",
          "text": [
            "    0   1       2\n",
            "0  70  44 2578.94\n",
            "1  71  43 2578.94\n",
            "2  71  44 2578.94\n",
            "3  72  43 2578.94\n",
            "4  72  44 2578.94\n",
            "8. Deneme\n"
          ]
        },
        {
          "metadata": {
            "tags": null
          },
          "name": "stderr",
          "output_type": "stream",
          "text": [
            "<ipython-input-16-d0b2c8d24563>:316: VisibleDeprecationWarning: Creating an ndarray from ragged nested sequences (which is a list-or-tuple of lists-or-tuples-or ndarrays with different lengths or shapes) is deprecated. If you meant to do this, you must specify 'dtype=object' when creating the ndarray.\n",
            "  concat_df = pd.DataFrame(np.array([stock, indicators, tries[0][0], tries[1][0], tries[2][0]]).reshape(1,5), columns=[\"STOCK\", \"WEIGHTS\", \"BUY TH\", \"SELL TH\", \"PROFIT\"])\n"
          ]
        },
        {
          "metadata": {
            "tags": null
          },
          "name": "stdout",
          "output_type": "stream",
          "text": [
            "    0   1       2\n",
            "0  78  40 2593.25\n",
            "1  78  45 2593.25\n",
            "2  78  48 2593.25\n",
            "3  78  47 2593.25\n",
            "4  78  46 2593.25\n",
            "9. Deneme\n"
          ]
        },
        {
          "metadata": {
            "tags": null
          },
          "name": "stderr",
          "output_type": "stream",
          "text": [
            "<ipython-input-16-d0b2c8d24563>:316: VisibleDeprecationWarning: Creating an ndarray from ragged nested sequences (which is a list-or-tuple of lists-or-tuples-or ndarrays with different lengths or shapes) is deprecated. If you meant to do this, you must specify 'dtype=object' when creating the ndarray.\n",
            "  concat_df = pd.DataFrame(np.array([stock, indicators, tries[0][0], tries[1][0], tries[2][0]]).reshape(1,5), columns=[\"STOCK\", \"WEIGHTS\", \"BUY TH\", \"SELL TH\", \"PROFIT\"])\n"
          ]
        },
        {
          "metadata": {
            "tags": null
          },
          "name": "stdout",
          "output_type": "stream",
          "text": [
            "    0   1       2\n",
            "0  74  40 3051.72\n",
            "1  75  40 3051.72\n",
            "2  75  41 3051.72\n",
            "3  74  41 3051.72\n",
            "4  72  40 3014.30\n",
            "ODAS.IS\n"
          ]
        },
        {
          "metadata": {
            "tags": null
          },
          "name": "stderr",
          "output_type": "stream",
          "text": [
            "<ipython-input-16-d0b2c8d24563>:316: VisibleDeprecationWarning: Creating an ndarray from ragged nested sequences (which is a list-or-tuple of lists-or-tuples-or ndarrays with different lengths or shapes) is deprecated. If you meant to do this, you must specify 'dtype=object' when creating the ndarray.\n",
            "  concat_df = pd.DataFrame(np.array([stock, indicators, tries[0][0], tries[1][0], tries[2][0]]).reshape(1,5), columns=[\"STOCK\", \"WEIGHTS\", \"BUY TH\", \"SELL TH\", \"PROFIT\"])\n"
          ]
        },
        {
          "metadata": {
            "tags": null
          },
          "name": "stdout",
          "output_type": "stream",
          "text": [
            "0. Deneme\n",
            "    0   1        2\n",
            "0  70  44 11261.50\n",
            "1  70  43 11261.50\n",
            "2  70  42 11261.50\n",
            "3  71  44 11261.50\n",
            "4  71  43 11261.50\n",
            "1. Deneme\n"
          ]
        },
        {
          "metadata": {
            "tags": null
          },
          "name": "stderr",
          "output_type": "stream",
          "text": [
            "<ipython-input-16-d0b2c8d24563>:316: VisibleDeprecationWarning: Creating an ndarray from ragged nested sequences (which is a list-or-tuple of lists-or-tuples-or ndarrays with different lengths or shapes) is deprecated. If you meant to do this, you must specify 'dtype=object' when creating the ndarray.\n",
            "  concat_df = pd.DataFrame(np.array([stock, indicators, tries[0][0], tries[1][0], tries[2][0]]).reshape(1,5), columns=[\"STOCK\", \"WEIGHTS\", \"BUY TH\", \"SELL TH\", \"PROFIT\"])\n"
          ]
        },
        {
          "metadata": {
            "tags": null
          },
          "name": "stdout",
          "output_type": "stream",
          "text": [
            "    0   1        2\n",
            "0  75  41 12701.32\n",
            "1  76  41 12701.32\n",
            "2  73  41 12701.32\n",
            "3  72  41 12701.32\n",
            "4  74  41 12701.32\n",
            "2. Deneme\n"
          ]
        },
        {
          "metadata": {
            "tags": null
          },
          "name": "stderr",
          "output_type": "stream",
          "text": [
            "<ipython-input-16-d0b2c8d24563>:316: VisibleDeprecationWarning: Creating an ndarray from ragged nested sequences (which is a list-or-tuple of lists-or-tuples-or ndarrays with different lengths or shapes) is deprecated. If you meant to do this, you must specify 'dtype=object' when creating the ndarray.\n",
            "  concat_df = pd.DataFrame(np.array([stock, indicators, tries[0][0], tries[1][0], tries[2][0]]).reshape(1,5), columns=[\"STOCK\", \"WEIGHTS\", \"BUY TH\", \"SELL TH\", \"PROFIT\"])\n"
          ]
        },
        {
          "metadata": {
            "tags": null
          },
          "name": "stdout",
          "output_type": "stream",
          "text": [
            "    0   1       2\n",
            "0  40  41 8107.71\n",
            "1  40  42 7811.51\n",
            "2  40  43 7811.51\n",
            "3  40  44 7811.51\n",
            "4  40  45 7767.78\n",
            "3. Deneme\n"
          ]
        },
        {
          "metadata": {
            "tags": null
          },
          "name": "stderr",
          "output_type": "stream",
          "text": [
            "<ipython-input-16-d0b2c8d24563>:316: VisibleDeprecationWarning: Creating an ndarray from ragged nested sequences (which is a list-or-tuple of lists-or-tuples-or ndarrays with different lengths or shapes) is deprecated. If you meant to do this, you must specify 'dtype=object' when creating the ndarray.\n",
            "  concat_df = pd.DataFrame(np.array([stock, indicators, tries[0][0], tries[1][0], tries[2][0]]).reshape(1,5), columns=[\"STOCK\", \"WEIGHTS\", \"BUY TH\", \"SELL TH\", \"PROFIT\"])\n"
          ]
        },
        {
          "metadata": {
            "tags": null
          },
          "name": "stdout",
          "output_type": "stream",
          "text": [
            "    0   1        2\n",
            "0  79  40 12135.30\n",
            "1  78  40 12135.30\n",
            "2  78  53 11153.34\n",
            "3  78  52 11153.34\n",
            "4  79  53 11153.34\n",
            "4. Deneme\n"
          ]
        },
        {
          "metadata": {
            "tags": null
          },
          "name": "stderr",
          "output_type": "stream",
          "text": [
            "<ipython-input-16-d0b2c8d24563>:316: VisibleDeprecationWarning: Creating an ndarray from ragged nested sequences (which is a list-or-tuple of lists-or-tuples-or ndarrays with different lengths or shapes) is deprecated. If you meant to do this, you must specify 'dtype=object' when creating the ndarray.\n",
            "  concat_df = pd.DataFrame(np.array([stock, indicators, tries[0][0], tries[1][0], tries[2][0]]).reshape(1,5), columns=[\"STOCK\", \"WEIGHTS\", \"BUY TH\", \"SELL TH\", \"PROFIT\"])\n"
          ]
        },
        {
          "metadata": {
            "tags": null
          },
          "name": "stdout",
          "output_type": "stream",
          "text": [
            "    0   1        2\n",
            "0  69  49 11138.55\n",
            "1  71  49 11138.55\n",
            "2  70  49 11138.55\n",
            "3  72  42 10957.54\n",
            "4  72  43 10957.54\n",
            "5. Deneme\n"
          ]
        },
        {
          "metadata": {
            "tags": null
          },
          "name": "stderr",
          "output_type": "stream",
          "text": [
            "<ipython-input-16-d0b2c8d24563>:316: VisibleDeprecationWarning: Creating an ndarray from ragged nested sequences (which is a list-or-tuple of lists-or-tuples-or ndarrays with different lengths or shapes) is deprecated. If you meant to do this, you must specify 'dtype=object' when creating the ndarray.\n",
            "  concat_df = pd.DataFrame(np.array([stock, indicators, tries[0][0], tries[1][0], tries[2][0]]).reshape(1,5), columns=[\"STOCK\", \"WEIGHTS\", \"BUY TH\", \"SELL TH\", \"PROFIT\"])\n"
          ]
        },
        {
          "metadata": {
            "tags": null
          },
          "name": "stdout",
          "output_type": "stream",
          "text": [
            "    0   1        2\n",
            "0  70  44 10449.88\n",
            "1  70  45 10449.88\n",
            "2  70  46 10393.03\n",
            "3  75  45 10009.21\n",
            "4  75  44 10009.21\n",
            "6. Deneme\n"
          ]
        },
        {
          "metadata": {
            "tags": null
          },
          "name": "stderr",
          "output_type": "stream",
          "text": [
            "<ipython-input-16-d0b2c8d24563>:316: VisibleDeprecationWarning: Creating an ndarray from ragged nested sequences (which is a list-or-tuple of lists-or-tuples-or ndarrays with different lengths or shapes) is deprecated. If you meant to do this, you must specify 'dtype=object' when creating the ndarray.\n",
            "  concat_df = pd.DataFrame(np.array([stock, indicators, tries[0][0], tries[1][0], tries[2][0]]).reshape(1,5), columns=[\"STOCK\", \"WEIGHTS\", \"BUY TH\", \"SELL TH\", \"PROFIT\"])\n"
          ]
        },
        {
          "metadata": {
            "tags": null
          },
          "name": "stdout",
          "output_type": "stream",
          "text": [
            "    0   1        2\n",
            "0  71  45 11157.10\n",
            "1  70  46 11157.10\n",
            "2  72  46 11157.10\n",
            "3  72  45 11157.10\n",
            "4  70  45 11157.10\n",
            "7. Deneme\n"
          ]
        },
        {
          "metadata": {
            "tags": null
          },
          "name": "stderr",
          "output_type": "stream",
          "text": [
            "<ipython-input-16-d0b2c8d24563>:316: VisibleDeprecationWarning: Creating an ndarray from ragged nested sequences (which is a list-or-tuple of lists-or-tuples-or ndarrays with different lengths or shapes) is deprecated. If you meant to do this, you must specify 'dtype=object' when creating the ndarray.\n",
            "  concat_df = pd.DataFrame(np.array([stock, indicators, tries[0][0], tries[1][0], tries[2][0]]).reshape(1,5), columns=[\"STOCK\", \"WEIGHTS\", \"BUY TH\", \"SELL TH\", \"PROFIT\"])\n"
          ]
        },
        {
          "metadata": {
            "tags": null
          },
          "name": "stdout",
          "output_type": "stream",
          "text": [
            "    0   1       2\n",
            "0  74  46 9556.87\n",
            "1  75  45 9556.87\n",
            "2  74  47 9556.87\n",
            "3  74  48 9556.87\n",
            "4  74  49 9556.87\n",
            "8. Deneme\n"
          ]
        },
        {
          "metadata": {
            "tags": null
          },
          "name": "stderr",
          "output_type": "stream",
          "text": [
            "<ipython-input-16-d0b2c8d24563>:316: VisibleDeprecationWarning: Creating an ndarray from ragged nested sequences (which is a list-or-tuple of lists-or-tuples-or ndarrays with different lengths or shapes) is deprecated. If you meant to do this, you must specify 'dtype=object' when creating the ndarray.\n",
            "  concat_df = pd.DataFrame(np.array([stock, indicators, tries[0][0], tries[1][0], tries[2][0]]).reshape(1,5), columns=[\"STOCK\", \"WEIGHTS\", \"BUY TH\", \"SELL TH\", \"PROFIT\"])\n"
          ]
        },
        {
          "metadata": {
            "tags": null
          },
          "name": "stdout",
          "output_type": "stream",
          "text": [
            "    0   1        2\n",
            "0  63  44 11722.87\n",
            "1  65  44 11722.87\n",
            "2  66  44 11722.87\n",
            "3  64  44 11722.87\n",
            "4  65  42 11557.15\n",
            "9. Deneme\n"
          ]
        },
        {
          "metadata": {
            "tags": null
          },
          "name": "stderr",
          "output_type": "stream",
          "text": [
            "<ipython-input-16-d0b2c8d24563>:316: VisibleDeprecationWarning: Creating an ndarray from ragged nested sequences (which is a list-or-tuple of lists-or-tuples-or ndarrays with different lengths or shapes) is deprecated. If you meant to do this, you must specify 'dtype=object' when creating the ndarray.\n",
            "  concat_df = pd.DataFrame(np.array([stock, indicators, tries[0][0], tries[1][0], tries[2][0]]).reshape(1,5), columns=[\"STOCK\", \"WEIGHTS\", \"BUY TH\", \"SELL TH\", \"PROFIT\"])\n"
          ]
        },
        {
          "metadata": {
            "tags": null
          },
          "name": "stdout",
          "output_type": "stream",
          "text": [
            "    0   1       2\n",
            "0  79  53 9232.54\n",
            "1  79  54 9216.81\n",
            "2  79  55 9216.81\n",
            "3  40  53 9026.52\n",
            "4  40  55 9011.08\n",
            "PGSUS.IS\n"
          ]
        },
        {
          "metadata": {
            "tags": null
          },
          "name": "stderr",
          "output_type": "stream",
          "text": [
            "<ipython-input-16-d0b2c8d24563>:316: VisibleDeprecationWarning: Creating an ndarray from ragged nested sequences (which is a list-or-tuple of lists-or-tuples-or ndarrays with different lengths or shapes) is deprecated. If you meant to do this, you must specify 'dtype=object' when creating the ndarray.\n",
            "  concat_df = pd.DataFrame(np.array([stock, indicators, tries[0][0], tries[1][0], tries[2][0]]).reshape(1,5), columns=[\"STOCK\", \"WEIGHTS\", \"BUY TH\", \"SELL TH\", \"PROFIT\"])\n"
          ]
        },
        {
          "metadata": {
            "tags": null
          },
          "name": "stdout",
          "output_type": "stream",
          "text": [
            "0. Deneme\n",
            "    0   1       2\n",
            "0  40  40 7781.04\n",
            "1  41  40 7781.04\n",
            "2  40  41 7781.04\n",
            "3  41  41 7781.04\n",
            "4  46  54 7160.96\n",
            "1. Deneme\n"
          ]
        },
        {
          "metadata": {
            "tags": null
          },
          "name": "stderr",
          "output_type": "stream",
          "text": [
            "<ipython-input-16-d0b2c8d24563>:316: VisibleDeprecationWarning: Creating an ndarray from ragged nested sequences (which is a list-or-tuple of lists-or-tuples-or ndarrays with different lengths or shapes) is deprecated. If you meant to do this, you must specify 'dtype=object' when creating the ndarray.\n",
            "  concat_df = pd.DataFrame(np.array([stock, indicators, tries[0][0], tries[1][0], tries[2][0]]).reshape(1,5), columns=[\"STOCK\", \"WEIGHTS\", \"BUY TH\", \"SELL TH\", \"PROFIT\"])\n"
          ]
        },
        {
          "metadata": {
            "tags": null
          },
          "name": "stdout",
          "output_type": "stream",
          "text": [
            "    0   1       2\n",
            "0  40  40 9516.76\n",
            "1  41  40 8768.62\n",
            "2  41  41 8768.62\n",
            "3  58  69 8705.35\n",
            "4  57  69 8705.35\n",
            "2. Deneme\n"
          ]
        },
        {
          "metadata": {
            "tags": null
          },
          "name": "stderr",
          "output_type": "stream",
          "text": [
            "<ipython-input-16-d0b2c8d24563>:316: VisibleDeprecationWarning: Creating an ndarray from ragged nested sequences (which is a list-or-tuple of lists-or-tuples-or ndarrays with different lengths or shapes) is deprecated. If you meant to do this, you must specify 'dtype=object' when creating the ndarray.\n",
            "  concat_df = pd.DataFrame(np.array([stock, indicators, tries[0][0], tries[1][0], tries[2][0]]).reshape(1,5), columns=[\"STOCK\", \"WEIGHTS\", \"BUY TH\", \"SELL TH\", \"PROFIT\"])\n"
          ]
        },
        {
          "metadata": {
            "tags": null
          },
          "name": "stdout",
          "output_type": "stream",
          "text": [
            "    0   1       2\n",
            "0  47  52 7483.95\n",
            "1  47  51 7483.95\n",
            "2  49  50 7483.95\n",
            "3  49  51 7483.95\n",
            "4  49  52 7483.95\n",
            "3. Deneme\n"
          ]
        },
        {
          "metadata": {
            "tags": null
          },
          "name": "stderr",
          "output_type": "stream",
          "text": [
            "<ipython-input-16-d0b2c8d24563>:316: VisibleDeprecationWarning: Creating an ndarray from ragged nested sequences (which is a list-or-tuple of lists-or-tuples-or ndarrays with different lengths or shapes) is deprecated. If you meant to do this, you must specify 'dtype=object' when creating the ndarray.\n",
            "  concat_df = pd.DataFrame(np.array([stock, indicators, tries[0][0], tries[1][0], tries[2][0]]).reshape(1,5), columns=[\"STOCK\", \"WEIGHTS\", \"BUY TH\", \"SELL TH\", \"PROFIT\"])\n"
          ]
        },
        {
          "metadata": {
            "tags": null
          },
          "name": "stdout",
          "output_type": "stream",
          "text": [
            "    0   1       2\n",
            "0  40  40 8051.05\n",
            "1  40  41 8051.05\n",
            "2  40  42 8051.05\n",
            "3  42  42 8027.25\n",
            "4  42  41 8027.25\n",
            "4. Deneme\n"
          ]
        },
        {
          "metadata": {
            "tags": null
          },
          "name": "stderr",
          "output_type": "stream",
          "text": [
            "<ipython-input-16-d0b2c8d24563>:316: VisibleDeprecationWarning: Creating an ndarray from ragged nested sequences (which is a list-or-tuple of lists-or-tuples-or ndarrays with different lengths or shapes) is deprecated. If you meant to do this, you must specify 'dtype=object' when creating the ndarray.\n",
            "  concat_df = pd.DataFrame(np.array([stock, indicators, tries[0][0], tries[1][0], tries[2][0]]).reshape(1,5), columns=[\"STOCK\", \"WEIGHTS\", \"BUY TH\", \"SELL TH\", \"PROFIT\"])\n"
          ]
        },
        {
          "metadata": {
            "tags": null
          },
          "name": "stdout",
          "output_type": "stream",
          "text": [
            "    0   1       2\n",
            "0  40  40 8964.72\n",
            "1  47  49 8826.93\n",
            "2  47  48 8826.93\n",
            "3  47  52 8658.64\n",
            "4  47  51 8658.64\n",
            "5. Deneme\n"
          ]
        },
        {
          "metadata": {
            "tags": null
          },
          "name": "stderr",
          "output_type": "stream",
          "text": [
            "<ipython-input-16-d0b2c8d24563>:316: VisibleDeprecationWarning: Creating an ndarray from ragged nested sequences (which is a list-or-tuple of lists-or-tuples-or ndarrays with different lengths or shapes) is deprecated. If you meant to do this, you must specify 'dtype=object' when creating the ndarray.\n",
            "  concat_df = pd.DataFrame(np.array([stock, indicators, tries[0][0], tries[1][0], tries[2][0]]).reshape(1,5), columns=[\"STOCK\", \"WEIGHTS\", \"BUY TH\", \"SELL TH\", \"PROFIT\"])\n"
          ]
        },
        {
          "metadata": {
            "tags": null
          },
          "name": "stdout",
          "output_type": "stream",
          "text": [
            "    0   1       2\n",
            "0  40  40 8336.41\n",
            "1  40  41 8336.41\n",
            "2  41  41 8336.41\n",
            "3  41  40 8336.41\n",
            "4  45  43 7955.09\n",
            "6. Deneme\n"
          ]
        },
        {
          "metadata": {
            "tags": null
          },
          "name": "stderr",
          "output_type": "stream",
          "text": [
            "<ipython-input-16-d0b2c8d24563>:316: VisibleDeprecationWarning: Creating an ndarray from ragged nested sequences (which is a list-or-tuple of lists-or-tuples-or ndarrays with different lengths or shapes) is deprecated. If you meant to do this, you must specify 'dtype=object' when creating the ndarray.\n",
            "  concat_df = pd.DataFrame(np.array([stock, indicators, tries[0][0], tries[1][0], tries[2][0]]).reshape(1,5), columns=[\"STOCK\", \"WEIGHTS\", \"BUY TH\", \"SELL TH\", \"PROFIT\"])\n"
          ]
        },
        {
          "metadata": {
            "tags": null
          },
          "name": "stdout",
          "output_type": "stream",
          "text": [
            "    0   1       2\n",
            "0  47  40 9289.60\n",
            "1  45  40 9289.60\n",
            "2  46  40 9289.60\n",
            "3  40  40 9086.09\n",
            "4  41  40 9062.56\n",
            "7. Deneme\n"
          ]
        },
        {
          "metadata": {
            "tags": null
          },
          "name": "stderr",
          "output_type": "stream",
          "text": [
            "<ipython-input-16-d0b2c8d24563>:316: VisibleDeprecationWarning: Creating an ndarray from ragged nested sequences (which is a list-or-tuple of lists-or-tuples-or ndarrays with different lengths or shapes) is deprecated. If you meant to do this, you must specify 'dtype=object' when creating the ndarray.\n",
            "  concat_df = pd.DataFrame(np.array([stock, indicators, tries[0][0], tries[1][0], tries[2][0]]).reshape(1,5), columns=[\"STOCK\", \"WEIGHTS\", \"BUY TH\", \"SELL TH\", \"PROFIT\"])\n"
          ]
        },
        {
          "metadata": {
            "tags": null
          },
          "name": "stdout",
          "output_type": "stream",
          "text": [
            "    0   1       2\n",
            "0  41  51 9057.87\n",
            "1  41  50 9057.87\n",
            "2  44  51 8702.41\n",
            "3  45  51 8702.41\n",
            "4  45  50 8702.41\n",
            "8. Deneme\n"
          ]
        },
        {
          "metadata": {
            "tags": null
          },
          "name": "stderr",
          "output_type": "stream",
          "text": [
            "<ipython-input-16-d0b2c8d24563>:316: VisibleDeprecationWarning: Creating an ndarray from ragged nested sequences (which is a list-or-tuple of lists-or-tuples-or ndarrays with different lengths or shapes) is deprecated. If you meant to do this, you must specify 'dtype=object' when creating the ndarray.\n",
            "  concat_df = pd.DataFrame(np.array([stock, indicators, tries[0][0], tries[1][0], tries[2][0]]).reshape(1,5), columns=[\"STOCK\", \"WEIGHTS\", \"BUY TH\", \"SELL TH\", \"PROFIT\"])\n"
          ]
        },
        {
          "metadata": {
            "tags": null
          },
          "name": "stdout",
          "output_type": "stream",
          "text": [
            "    0   1       2\n",
            "0  48  51 7300.10\n",
            "1  47  50 7300.10\n",
            "2  47  51 7300.10\n",
            "3  48  50 7300.10\n",
            "4  49  51 7153.15\n",
            "9. Deneme\n"
          ]
        },
        {
          "metadata": {
            "tags": null
          },
          "name": "stderr",
          "output_type": "stream",
          "text": [
            "<ipython-input-16-d0b2c8d24563>:316: VisibleDeprecationWarning: Creating an ndarray from ragged nested sequences (which is a list-or-tuple of lists-or-tuples-or ndarrays with different lengths or shapes) is deprecated. If you meant to do this, you must specify 'dtype=object' when creating the ndarray.\n",
            "  concat_df = pd.DataFrame(np.array([stock, indicators, tries[0][0], tries[1][0], tries[2][0]]).reshape(1,5), columns=[\"STOCK\", \"WEIGHTS\", \"BUY TH\", \"SELL TH\", \"PROFIT\"])\n"
          ]
        },
        {
          "metadata": {
            "tags": null
          },
          "name": "stdout",
          "output_type": "stream",
          "text": [
            "    0   1       2\n",
            "0  40  42 9191.04\n",
            "1  40  43 9191.04\n",
            "2  41  42 8624.78\n",
            "3  41  43 8624.78\n",
            "4  40  44 8477.43\n",
            "SAHOL.IS\n"
          ]
        },
        {
          "metadata": {
            "tags": null
          },
          "name": "stderr",
          "output_type": "stream",
          "text": [
            "<ipython-input-16-d0b2c8d24563>:316: VisibleDeprecationWarning: Creating an ndarray from ragged nested sequences (which is a list-or-tuple of lists-or-tuples-or ndarrays with different lengths or shapes) is deprecated. If you meant to do this, you must specify 'dtype=object' when creating the ndarray.\n",
            "  concat_df = pd.DataFrame(np.array([stock, indicators, tries[0][0], tries[1][0], tries[2][0]]).reshape(1,5), columns=[\"STOCK\", \"WEIGHTS\", \"BUY TH\", \"SELL TH\", \"PROFIT\"])\n"
          ]
        },
        {
          "metadata": {
            "tags": null
          },
          "name": "stdout",
          "output_type": "stream",
          "text": [
            "0. Deneme\n",
            "    0   1       2\n",
            "0  72  66 3418.71\n",
            "1  70  66 3341.12\n",
            "2  71  66 3341.12\n",
            "3  69  66 3273.31\n",
            "4  70  65 3191.09\n",
            "1. Deneme\n"
          ]
        },
        {
          "metadata": {
            "tags": null
          },
          "name": "stderr",
          "output_type": "stream",
          "text": [
            "<ipython-input-16-d0b2c8d24563>:316: VisibleDeprecationWarning: Creating an ndarray from ragged nested sequences (which is a list-or-tuple of lists-or-tuples-or ndarrays with different lengths or shapes) is deprecated. If you meant to do this, you must specify 'dtype=object' when creating the ndarray.\n",
            "  concat_df = pd.DataFrame(np.array([stock, indicators, tries[0][0], tries[1][0], tries[2][0]]).reshape(1,5), columns=[\"STOCK\", \"WEIGHTS\", \"BUY TH\", \"SELL TH\", \"PROFIT\"])\n"
          ]
        },
        {
          "metadata": {
            "tags": null
          },
          "name": "stdout",
          "output_type": "stream",
          "text": [
            "    0   1       2\n",
            "0  68  73 3756.59\n",
            "1  70  73 3683.38\n",
            "2  69  73 3683.38\n",
            "3  66  73 3560.09\n",
            "4  67  73 3560.09\n",
            "2. Deneme\n"
          ]
        },
        {
          "metadata": {
            "tags": null
          },
          "name": "stderr",
          "output_type": "stream",
          "text": [
            "<ipython-input-16-d0b2c8d24563>:316: VisibleDeprecationWarning: Creating an ndarray from ragged nested sequences (which is a list-or-tuple of lists-or-tuples-or ndarrays with different lengths or shapes) is deprecated. If you meant to do this, you must specify 'dtype=object' when creating the ndarray.\n",
            "  concat_df = pd.DataFrame(np.array([stock, indicators, tries[0][0], tries[1][0], tries[2][0]]).reshape(1,5), columns=[\"STOCK\", \"WEIGHTS\", \"BUY TH\", \"SELL TH\", \"PROFIT\"])\n"
          ]
        },
        {
          "metadata": {
            "tags": null
          },
          "name": "stdout",
          "output_type": "stream",
          "text": [
            "    0   1       2\n",
            "0  68  50 3800.15\n",
            "1  67  50 3800.15\n",
            "2  66  50 3800.15\n",
            "3  66  48 3687.23\n",
            "4  68  49 3687.23\n",
            "3. Deneme\n"
          ]
        },
        {
          "metadata": {
            "tags": null
          },
          "name": "stderr",
          "output_type": "stream",
          "text": [
            "<ipython-input-16-d0b2c8d24563>:316: VisibleDeprecationWarning: Creating an ndarray from ragged nested sequences (which is a list-or-tuple of lists-or-tuples-or ndarrays with different lengths or shapes) is deprecated. If you meant to do this, you must specify 'dtype=object' when creating the ndarray.\n",
            "  concat_df = pd.DataFrame(np.array([stock, indicators, tries[0][0], tries[1][0], tries[2][0]]).reshape(1,5), columns=[\"STOCK\", \"WEIGHTS\", \"BUY TH\", \"SELL TH\", \"PROFIT\"])\n"
          ]
        },
        {
          "metadata": {
            "tags": null
          },
          "name": "stdout",
          "output_type": "stream",
          "text": [
            "    0   1       2\n",
            "0  62  75 4154.15\n",
            "1  62  76 4154.15\n",
            "2  69  70 4150.01\n",
            "3  70  71 4150.01\n",
            "4  70  70 4150.01\n",
            "4. Deneme\n"
          ]
        },
        {
          "metadata": {
            "tags": null
          },
          "name": "stderr",
          "output_type": "stream",
          "text": [
            "<ipython-input-16-d0b2c8d24563>:316: VisibleDeprecationWarning: Creating an ndarray from ragged nested sequences (which is a list-or-tuple of lists-or-tuples-or ndarrays with different lengths or shapes) is deprecated. If you meant to do this, you must specify 'dtype=object' when creating the ndarray.\n",
            "  concat_df = pd.DataFrame(np.array([stock, indicators, tries[0][0], tries[1][0], tries[2][0]]).reshape(1,5), columns=[\"STOCK\", \"WEIGHTS\", \"BUY TH\", \"SELL TH\", \"PROFIT\"])\n"
          ]
        },
        {
          "metadata": {
            "tags": null
          },
          "name": "stdout",
          "output_type": "stream",
          "text": [
            "    0   1       2\n",
            "0  72  69 3524.61\n",
            "1  73  69 3502.51\n",
            "2  72  65 3435.69\n",
            "3  73  65 3413.95\n",
            "4  69  72 3355.66\n",
            "5. Deneme\n"
          ]
        },
        {
          "metadata": {
            "tags": null
          },
          "name": "stderr",
          "output_type": "stream",
          "text": [
            "<ipython-input-16-d0b2c8d24563>:316: VisibleDeprecationWarning: Creating an ndarray from ragged nested sequences (which is a list-or-tuple of lists-or-tuples-or ndarrays with different lengths or shapes) is deprecated. If you meant to do this, you must specify 'dtype=object' when creating the ndarray.\n",
            "  concat_df = pd.DataFrame(np.array([stock, indicators, tries[0][0], tries[1][0], tries[2][0]]).reshape(1,5), columns=[\"STOCK\", \"WEIGHTS\", \"BUY TH\", \"SELL TH\", \"PROFIT\"])\n"
          ]
        },
        {
          "metadata": {
            "tags": null
          },
          "name": "stdout",
          "output_type": "stream",
          "text": [
            "    0   1       2\n",
            "0  63  67 3626.53\n",
            "1  63  66 3626.53\n",
            "2  68  70 3581.68\n",
            "3  68  66 3508.95\n",
            "4  68  67 3508.95\n",
            "6. Deneme\n"
          ]
        },
        {
          "metadata": {
            "tags": null
          },
          "name": "stderr",
          "output_type": "stream",
          "text": [
            "<ipython-input-16-d0b2c8d24563>:316: VisibleDeprecationWarning: Creating an ndarray from ragged nested sequences (which is a list-or-tuple of lists-or-tuples-or ndarrays with different lengths or shapes) is deprecated. If you meant to do this, you must specify 'dtype=object' when creating the ndarray.\n",
            "  concat_df = pd.DataFrame(np.array([stock, indicators, tries[0][0], tries[1][0], tries[2][0]]).reshape(1,5), columns=[\"STOCK\", \"WEIGHTS\", \"BUY TH\", \"SELL TH\", \"PROFIT\"])\n"
          ]
        },
        {
          "metadata": {
            "tags": null
          },
          "name": "stdout",
          "output_type": "stream",
          "text": [
            "    0   1       2\n",
            "0  57  66 4202.58\n",
            "1  69  71 4179.50\n",
            "2  69  70 4179.50\n",
            "3  57  64 4123.84\n",
            "4  57  65 4123.84\n",
            "7. Deneme\n"
          ]
        },
        {
          "metadata": {
            "tags": null
          },
          "name": "stderr",
          "output_type": "stream",
          "text": [
            "<ipython-input-16-d0b2c8d24563>:316: VisibleDeprecationWarning: Creating an ndarray from ragged nested sequences (which is a list-or-tuple of lists-or-tuples-or ndarrays with different lengths or shapes) is deprecated. If you meant to do this, you must specify 'dtype=object' when creating the ndarray.\n",
            "  concat_df = pd.DataFrame(np.array([stock, indicators, tries[0][0], tries[1][0], tries[2][0]]).reshape(1,5), columns=[\"STOCK\", \"WEIGHTS\", \"BUY TH\", \"SELL TH\", \"PROFIT\"])\n"
          ]
        },
        {
          "metadata": {
            "tags": null
          },
          "name": "stdout",
          "output_type": "stream",
          "text": [
            "    0   1       2\n",
            "0  59  65 3243.88\n",
            "1  59  62 3133.06\n",
            "2  67  77 2884.84\n",
            "3  66  77 2884.84\n",
            "4  60  65 2850.30\n",
            "8. Deneme\n"
          ]
        },
        {
          "metadata": {
            "tags": null
          },
          "name": "stderr",
          "output_type": "stream",
          "text": [
            "<ipython-input-16-d0b2c8d24563>:316: VisibleDeprecationWarning: Creating an ndarray from ragged nested sequences (which is a list-or-tuple of lists-or-tuples-or ndarrays with different lengths or shapes) is deprecated. If you meant to do this, you must specify 'dtype=object' when creating the ndarray.\n",
            "  concat_df = pd.DataFrame(np.array([stock, indicators, tries[0][0], tries[1][0], tries[2][0]]).reshape(1,5), columns=[\"STOCK\", \"WEIGHTS\", \"BUY TH\", \"SELL TH\", \"PROFIT\"])\n"
          ]
        },
        {
          "metadata": {
            "tags": null
          },
          "name": "stdout",
          "output_type": "stream",
          "text": [
            "    0   1       2\n",
            "0  75  78 3700.35\n",
            "1  76  55 3266.62\n",
            "2  76  56 3266.62\n",
            "3  75  56 3266.62\n",
            "4  75  55 3266.62\n",
            "9. Deneme\n"
          ]
        },
        {
          "metadata": {
            "tags": null
          },
          "name": "stderr",
          "output_type": "stream",
          "text": [
            "<ipython-input-16-d0b2c8d24563>:316: VisibleDeprecationWarning: Creating an ndarray from ragged nested sequences (which is a list-or-tuple of lists-or-tuples-or ndarrays with different lengths or shapes) is deprecated. If you meant to do this, you must specify 'dtype=object' when creating the ndarray.\n",
            "  concat_df = pd.DataFrame(np.array([stock, indicators, tries[0][0], tries[1][0], tries[2][0]]).reshape(1,5), columns=[\"STOCK\", \"WEIGHTS\", \"BUY TH\", \"SELL TH\", \"PROFIT\"])\n"
          ]
        },
        {
          "metadata": {
            "tags": null
          },
          "name": "stdout",
          "output_type": "stream",
          "text": [
            "    0   1       2\n",
            "0  56  62 3912.47\n",
            "1  56  61 3912.47\n",
            "2  58  61 3826.17\n",
            "3  58  62 3826.17\n",
            "4  59  62 3826.17\n",
            "SASA.IS\n"
          ]
        },
        {
          "metadata": {
            "tags": null
          },
          "name": "stderr",
          "output_type": "stream",
          "text": [
            "<ipython-input-16-d0b2c8d24563>:316: VisibleDeprecationWarning: Creating an ndarray from ragged nested sequences (which is a list-or-tuple of lists-or-tuples-or ndarrays with different lengths or shapes) is deprecated. If you meant to do this, you must specify 'dtype=object' when creating the ndarray.\n",
            "  concat_df = pd.DataFrame(np.array([stock, indicators, tries[0][0], tries[1][0], tries[2][0]]).reshape(1,5), columns=[\"STOCK\", \"WEIGHTS\", \"BUY TH\", \"SELL TH\", \"PROFIT\"])\n"
          ]
        },
        {
          "metadata": {
            "tags": null
          },
          "name": "stdout",
          "output_type": "stream",
          "text": [
            "0. Deneme\n",
            "    0   1       2\n",
            "0  41  56 2366.85\n",
            "1  41  55 2249.84\n",
            "2  70  67 2233.25\n",
            "3  70  66 2233.25\n",
            "4  71  67 2213.39\n",
            "1. Deneme\n"
          ]
        },
        {
          "metadata": {
            "tags": null
          },
          "name": "stderr",
          "output_type": "stream",
          "text": [
            "<ipython-input-16-d0b2c8d24563>:316: VisibleDeprecationWarning: Creating an ndarray from ragged nested sequences (which is a list-or-tuple of lists-or-tuples-or ndarrays with different lengths or shapes) is deprecated. If you meant to do this, you must specify 'dtype=object' when creating the ndarray.\n",
            "  concat_df = pd.DataFrame(np.array([stock, indicators, tries[0][0], tries[1][0], tries[2][0]]).reshape(1,5), columns=[\"STOCK\", \"WEIGHTS\", \"BUY TH\", \"SELL TH\", \"PROFIT\"])\n"
          ]
        },
        {
          "metadata": {
            "tags": null
          },
          "name": "stdout",
          "output_type": "stream",
          "text": [
            "    0   1       2\n",
            "0  75  78 4738.72\n",
            "1  74  78 4299.37\n",
            "2  73  78 4299.37\n",
            "3  75  76 4001.50\n",
            "4  75  77 3974.38\n",
            "2. Deneme\n"
          ]
        },
        {
          "metadata": {
            "tags": null
          },
          "name": "stderr",
          "output_type": "stream",
          "text": [
            "<ipython-input-16-d0b2c8d24563>:316: VisibleDeprecationWarning: Creating an ndarray from ragged nested sequences (which is a list-or-tuple of lists-or-tuples-or ndarrays with different lengths or shapes) is deprecated. If you meant to do this, you must specify 'dtype=object' when creating the ndarray.\n",
            "  concat_df = pd.DataFrame(np.array([stock, indicators, tries[0][0], tries[1][0], tries[2][0]]).reshape(1,5), columns=[\"STOCK\", \"WEIGHTS\", \"BUY TH\", \"SELL TH\", \"PROFIT\"])\n"
          ]
        },
        {
          "metadata": {
            "tags": null
          },
          "name": "stdout",
          "output_type": "stream",
          "text": [
            "    0   1       2\n",
            "0  44  54 2517.52\n",
            "1  44  55 2510.16\n",
            "2  43  54 2472.43\n",
            "3  43  55 2465.14\n",
            "4  45  54 2368.10\n",
            "3. Deneme\n"
          ]
        },
        {
          "metadata": {
            "tags": null
          },
          "name": "stderr",
          "output_type": "stream",
          "text": [
            "<ipython-input-16-d0b2c8d24563>:316: VisibleDeprecationWarning: Creating an ndarray from ragged nested sequences (which is a list-or-tuple of lists-or-tuples-or ndarrays with different lengths or shapes) is deprecated. If you meant to do this, you must specify 'dtype=object' when creating the ndarray.\n",
            "  concat_df = pd.DataFrame(np.array([stock, indicators, tries[0][0], tries[1][0], tries[2][0]]).reshape(1,5), columns=[\"STOCK\", \"WEIGHTS\", \"BUY TH\", \"SELL TH\", \"PROFIT\"])\n"
          ]
        },
        {
          "metadata": {
            "tags": null
          },
          "name": "stdout",
          "output_type": "stream",
          "text": [
            "    0   1       2\n",
            "0  74  78 2393.89\n",
            "1  75  77 2393.89\n",
            "2  74  77 2393.89\n",
            "3  75  78 2393.89\n",
            "4  76  77 2352.91\n",
            "4. Deneme\n"
          ]
        },
        {
          "metadata": {
            "tags": null
          },
          "name": "stderr",
          "output_type": "stream",
          "text": [
            "<ipython-input-16-d0b2c8d24563>:316: VisibleDeprecationWarning: Creating an ndarray from ragged nested sequences (which is a list-or-tuple of lists-or-tuples-or ndarrays with different lengths or shapes) is deprecated. If you meant to do this, you must specify 'dtype=object' when creating the ndarray.\n",
            "  concat_df = pd.DataFrame(np.array([stock, indicators, tries[0][0], tries[1][0], tries[2][0]]).reshape(1,5), columns=[\"STOCK\", \"WEIGHTS\", \"BUY TH\", \"SELL TH\", \"PROFIT\"])\n"
          ]
        },
        {
          "metadata": {
            "tags": null
          },
          "name": "stdout",
          "output_type": "stream",
          "text": [
            "    0   1       2\n",
            "0  77  70 2177.53\n",
            "1  77  71 2177.53\n",
            "2  77  72 2177.53\n",
            "3  78  72 2085.97\n",
            "4  78  70 2085.97\n",
            "5. Deneme\n"
          ]
        },
        {
          "metadata": {
            "tags": null
          },
          "name": "stderr",
          "output_type": "stream",
          "text": [
            "<ipython-input-16-d0b2c8d24563>:316: VisibleDeprecationWarning: Creating an ndarray from ragged nested sequences (which is a list-or-tuple of lists-or-tuples-or ndarrays with different lengths or shapes) is deprecated. If you meant to do this, you must specify 'dtype=object' when creating the ndarray.\n",
            "  concat_df = pd.DataFrame(np.array([stock, indicators, tries[0][0], tries[1][0], tries[2][0]]).reshape(1,5), columns=[\"STOCK\", \"WEIGHTS\", \"BUY TH\", \"SELL TH\", \"PROFIT\"])\n"
          ]
        },
        {
          "metadata": {
            "tags": null
          },
          "name": "stdout",
          "output_type": "stream",
          "text": [
            "    0   1       2\n",
            "0  43  45 1661.13\n",
            "1  44  45 1661.13\n",
            "2  42  45 1661.13\n",
            "3  76  45 1520.74\n",
            "4  76  44 1444.20\n",
            "6. Deneme\n"
          ]
        },
        {
          "metadata": {
            "tags": null
          },
          "name": "stderr",
          "output_type": "stream",
          "text": [
            "<ipython-input-16-d0b2c8d24563>:316: VisibleDeprecationWarning: Creating an ndarray from ragged nested sequences (which is a list-or-tuple of lists-or-tuples-or ndarrays with different lengths or shapes) is deprecated. If you meant to do this, you must specify 'dtype=object' when creating the ndarray.\n",
            "  concat_df = pd.DataFrame(np.array([stock, indicators, tries[0][0], tries[1][0], tries[2][0]]).reshape(1,5), columns=[\"STOCK\", \"WEIGHTS\", \"BUY TH\", \"SELL TH\", \"PROFIT\"])\n"
          ]
        },
        {
          "metadata": {
            "tags": null
          },
          "name": "stdout",
          "output_type": "stream",
          "text": [
            "    0   1       2\n",
            "0  75  79 6807.64\n",
            "1  74  79 5842.96\n",
            "2  73  79 5842.96\n",
            "3  72  78 4377.35\n",
            "4  70  78 4160.96\n",
            "7. Deneme\n"
          ]
        },
        {
          "metadata": {
            "tags": null
          },
          "name": "stderr",
          "output_type": "stream",
          "text": [
            "<ipython-input-16-d0b2c8d24563>:316: VisibleDeprecationWarning: Creating an ndarray from ragged nested sequences (which is a list-or-tuple of lists-or-tuples-or ndarrays with different lengths or shapes) is deprecated. If you meant to do this, you must specify 'dtype=object' when creating the ndarray.\n",
            "  concat_df = pd.DataFrame(np.array([stock, indicators, tries[0][0], tries[1][0], tries[2][0]]).reshape(1,5), columns=[\"STOCK\", \"WEIGHTS\", \"BUY TH\", \"SELL TH\", \"PROFIT\"])\n"
          ]
        },
        {
          "metadata": {
            "tags": null
          },
          "name": "stdout",
          "output_type": "stream",
          "text": [
            "    0   1       2\n",
            "0  45  70 1989.54\n",
            "1  45  69 1989.54\n",
            "2  45  68 1989.54\n",
            "3  45  67 1989.54\n",
            "4  46  69 1806.54\n",
            "8. Deneme\n"
          ]
        },
        {
          "metadata": {
            "tags": null
          },
          "name": "stderr",
          "output_type": "stream",
          "text": [
            "<ipython-input-16-d0b2c8d24563>:316: VisibleDeprecationWarning: Creating an ndarray from ragged nested sequences (which is a list-or-tuple of lists-or-tuples-or ndarrays with different lengths or shapes) is deprecated. If you meant to do this, you must specify 'dtype=object' when creating the ndarray.\n",
            "  concat_df = pd.DataFrame(np.array([stock, indicators, tries[0][0], tries[1][0], tries[2][0]]).reshape(1,5), columns=[\"STOCK\", \"WEIGHTS\", \"BUY TH\", \"SELL TH\", \"PROFIT\"])\n"
          ]
        },
        {
          "metadata": {
            "tags": null
          },
          "name": "stdout",
          "output_type": "stream",
          "text": [
            "    0   1       2\n",
            "0  70  75 2617.03\n",
            "1  70  73 2613.55\n",
            "2  70  74 2613.55\n",
            "3  40  52 2315.65\n",
            "4  40  53 2315.65\n",
            "9. Deneme\n"
          ]
        },
        {
          "metadata": {
            "tags": null
          },
          "name": "stderr",
          "output_type": "stream",
          "text": [
            "<ipython-input-16-d0b2c8d24563>:316: VisibleDeprecationWarning: Creating an ndarray from ragged nested sequences (which is a list-or-tuple of lists-or-tuples-or ndarrays with different lengths or shapes) is deprecated. If you meant to do this, you must specify 'dtype=object' when creating the ndarray.\n",
            "  concat_df = pd.DataFrame(np.array([stock, indicators, tries[0][0], tries[1][0], tries[2][0]]).reshape(1,5), columns=[\"STOCK\", \"WEIGHTS\", \"BUY TH\", \"SELL TH\", \"PROFIT\"])\n"
          ]
        },
        {
          "metadata": {
            "tags": null
          },
          "name": "stdout",
          "output_type": "stream",
          "text": [
            "    0   1       2\n",
            "0  68  72 3123.11\n",
            "1  67  72 2505.40\n",
            "2  68  71 2143.83\n",
            "3  42  59 1938.67\n",
            "4  43  59 1938.67\n",
            "PETKM.IS\n"
          ]
        },
        {
          "metadata": {
            "tags": null
          },
          "name": "stderr",
          "output_type": "stream",
          "text": [
            "<ipython-input-16-d0b2c8d24563>:316: VisibleDeprecationWarning: Creating an ndarray from ragged nested sequences (which is a list-or-tuple of lists-or-tuples-or ndarrays with different lengths or shapes) is deprecated. If you meant to do this, you must specify 'dtype=object' when creating the ndarray.\n",
            "  concat_df = pd.DataFrame(np.array([stock, indicators, tries[0][0], tries[1][0], tries[2][0]]).reshape(1,5), columns=[\"STOCK\", \"WEIGHTS\", \"BUY TH\", \"SELL TH\", \"PROFIT\"])\n"
          ]
        },
        {
          "metadata": {
            "tags": null
          },
          "name": "stdout",
          "output_type": "stream",
          "text": [
            "0. Deneme\n",
            "    0   1       2\n",
            "0  55  65 1965.30\n",
            "1  55  64 1965.30\n",
            "2  55  63 1965.30\n",
            "3  56  65 1958.09\n",
            "4  56  64 1958.09\n",
            "1. Deneme\n"
          ]
        },
        {
          "metadata": {
            "tags": null
          },
          "name": "stderr",
          "output_type": "stream",
          "text": [
            "<ipython-input-16-d0b2c8d24563>:316: VisibleDeprecationWarning: Creating an ndarray from ragged nested sequences (which is a list-or-tuple of lists-or-tuples-or ndarrays with different lengths or shapes) is deprecated. If you meant to do this, you must specify 'dtype=object' when creating the ndarray.\n",
            "  concat_df = pd.DataFrame(np.array([stock, indicators, tries[0][0], tries[1][0], tries[2][0]]).reshape(1,5), columns=[\"STOCK\", \"WEIGHTS\", \"BUY TH\", \"SELL TH\", \"PROFIT\"])\n"
          ]
        },
        {
          "metadata": {
            "tags": null
          },
          "name": "stdout",
          "output_type": "stream",
          "text": [
            "    0   1       2\n",
            "0  68  69 2133.33\n",
            "1  68  70 2133.33\n",
            "2  50  52 2104.52\n",
            "3  49  52 2104.52\n",
            "4  41  40 2038.37\n",
            "2. Deneme\n"
          ]
        },
        {
          "metadata": {
            "tags": null
          },
          "name": "stderr",
          "output_type": "stream",
          "text": [
            "<ipython-input-16-d0b2c8d24563>:316: VisibleDeprecationWarning: Creating an ndarray from ragged nested sequences (which is a list-or-tuple of lists-or-tuples-or ndarrays with different lengths or shapes) is deprecated. If you meant to do this, you must specify 'dtype=object' when creating the ndarray.\n",
            "  concat_df = pd.DataFrame(np.array([stock, indicators, tries[0][0], tries[1][0], tries[2][0]]).reshape(1,5), columns=[\"STOCK\", \"WEIGHTS\", \"BUY TH\", \"SELL TH\", \"PROFIT\"])\n"
          ]
        },
        {
          "metadata": {
            "tags": null
          },
          "name": "stdout",
          "output_type": "stream",
          "text": [
            "    0   1       2\n",
            "0  70  72 1852.15\n",
            "1  70  71 1852.15\n",
            "2  69  72 1791.19\n",
            "3  69  71 1791.19\n",
            "4  69  69 1715.87\n",
            "3. Deneme\n"
          ]
        },
        {
          "metadata": {
            "tags": null
          },
          "name": "stderr",
          "output_type": "stream",
          "text": [
            "<ipython-input-16-d0b2c8d24563>:316: VisibleDeprecationWarning: Creating an ndarray from ragged nested sequences (which is a list-or-tuple of lists-or-tuples-or ndarrays with different lengths or shapes) is deprecated. If you meant to do this, you must specify 'dtype=object' when creating the ndarray.\n",
            "  concat_df = pd.DataFrame(np.array([stock, indicators, tries[0][0], tries[1][0], tries[2][0]]).reshape(1,5), columns=[\"STOCK\", \"WEIGHTS\", \"BUY TH\", \"SELL TH\", \"PROFIT\"])\n"
          ]
        },
        {
          "metadata": {
            "tags": null
          },
          "name": "stdout",
          "output_type": "stream",
          "text": [
            "    0   1       2\n",
            "0  55  67 2820.74\n",
            "1  55  68 2820.74\n",
            "2  54  68 2820.74\n",
            "3  54  67 2820.74\n",
            "4  53  67 2820.74\n",
            "4. Deneme\n"
          ]
        },
        {
          "metadata": {
            "tags": null
          },
          "name": "stderr",
          "output_type": "stream",
          "text": [
            "<ipython-input-16-d0b2c8d24563>:316: VisibleDeprecationWarning: Creating an ndarray from ragged nested sequences (which is a list-or-tuple of lists-or-tuples-or ndarrays with different lengths or shapes) is deprecated. If you meant to do this, you must specify 'dtype=object' when creating the ndarray.\n",
            "  concat_df = pd.DataFrame(np.array([stock, indicators, tries[0][0], tries[1][0], tries[2][0]]).reshape(1,5), columns=[\"STOCK\", \"WEIGHTS\", \"BUY TH\", \"SELL TH\", \"PROFIT\"])\n"
          ]
        },
        {
          "metadata": {
            "tags": null
          },
          "name": "stdout",
          "output_type": "stream",
          "text": [
            "    0   1       2\n",
            "0  58  75 2529.59\n",
            "1  58  76 2496.60\n",
            "2  63  67 2255.57\n",
            "3  63  66 2255.57\n",
            "4  72  76 2177.80\n",
            "5. Deneme\n"
          ]
        },
        {
          "metadata": {
            "tags": null
          },
          "name": "stderr",
          "output_type": "stream",
          "text": [
            "<ipython-input-16-d0b2c8d24563>:316: VisibleDeprecationWarning: Creating an ndarray from ragged nested sequences (which is a list-or-tuple of lists-or-tuples-or ndarrays with different lengths or shapes) is deprecated. If you meant to do this, you must specify 'dtype=object' when creating the ndarray.\n",
            "  concat_df = pd.DataFrame(np.array([stock, indicators, tries[0][0], tries[1][0], tries[2][0]]).reshape(1,5), columns=[\"STOCK\", \"WEIGHTS\", \"BUY TH\", \"SELL TH\", \"PROFIT\"])\n"
          ]
        },
        {
          "metadata": {
            "tags": null
          },
          "name": "stdout",
          "output_type": "stream",
          "text": [
            "    0   1       2\n",
            "0  40  50 2325.51\n",
            "1  50  50 2261.07\n",
            "2  41  50 2244.09\n",
            "3  42  50 2244.09\n",
            "4  40  48 2188.68\n",
            "6. Deneme\n"
          ]
        },
        {
          "metadata": {
            "tags": null
          },
          "name": "stderr",
          "output_type": "stream",
          "text": [
            "<ipython-input-16-d0b2c8d24563>:316: VisibleDeprecationWarning: Creating an ndarray from ragged nested sequences (which is a list-or-tuple of lists-or-tuples-or ndarrays with different lengths or shapes) is deprecated. If you meant to do this, you must specify 'dtype=object' when creating the ndarray.\n",
            "  concat_df = pd.DataFrame(np.array([stock, indicators, tries[0][0], tries[1][0], tries[2][0]]).reshape(1,5), columns=[\"STOCK\", \"WEIGHTS\", \"BUY TH\", \"SELL TH\", \"PROFIT\"])\n"
          ]
        },
        {
          "metadata": {
            "tags": null
          },
          "name": "stdout",
          "output_type": "stream",
          "text": [
            "    0   1       2\n",
            "0  66  70 2464.15\n",
            "1  66  69 2205.76\n",
            "2  66  68 2205.76\n",
            "3  64  70 2030.46\n",
            "4  67  70 1986.08\n",
            "7. Deneme\n"
          ]
        },
        {
          "metadata": {
            "tags": null
          },
          "name": "stderr",
          "output_type": "stream",
          "text": [
            "<ipython-input-16-d0b2c8d24563>:316: VisibleDeprecationWarning: Creating an ndarray from ragged nested sequences (which is a list-or-tuple of lists-or-tuples-or ndarrays with different lengths or shapes) is deprecated. If you meant to do this, you must specify 'dtype=object' when creating the ndarray.\n",
            "  concat_df = pd.DataFrame(np.array([stock, indicators, tries[0][0], tries[1][0], tries[2][0]]).reshape(1,5), columns=[\"STOCK\", \"WEIGHTS\", \"BUY TH\", \"SELL TH\", \"PROFIT\"])\n"
          ]
        },
        {
          "metadata": {
            "tags": null
          },
          "name": "stdout",
          "output_type": "stream",
          "text": [
            "    0   1       2\n",
            "0  64  72 2187.77\n",
            "1  47  50 2095.45\n",
            "2  47  51 2075.18\n",
            "3  47  52 2075.18\n",
            "4  65  73 2064.83\n",
            "8. Deneme\n"
          ]
        },
        {
          "metadata": {
            "tags": null
          },
          "name": "stderr",
          "output_type": "stream",
          "text": [
            "<ipython-input-16-d0b2c8d24563>:316: VisibleDeprecationWarning: Creating an ndarray from ragged nested sequences (which is a list-or-tuple of lists-or-tuples-or ndarrays with different lengths or shapes) is deprecated. If you meant to do this, you must specify 'dtype=object' when creating the ndarray.\n",
            "  concat_df = pd.DataFrame(np.array([stock, indicators, tries[0][0], tries[1][0], tries[2][0]]).reshape(1,5), columns=[\"STOCK\", \"WEIGHTS\", \"BUY TH\", \"SELL TH\", \"PROFIT\"])\n"
          ]
        },
        {
          "metadata": {
            "tags": null
          },
          "name": "stdout",
          "output_type": "stream",
          "text": [
            "    0   1       2\n",
            "0  65  65 1729.07\n",
            "1  64  64 1726.64\n",
            "2  66  65 1725.48\n",
            "3  67  65 1725.48\n",
            "4  65  64 1703.67\n",
            "9. Deneme\n"
          ]
        },
        {
          "metadata": {
            "tags": null
          },
          "name": "stderr",
          "output_type": "stream",
          "text": [
            "<ipython-input-16-d0b2c8d24563>:316: VisibleDeprecationWarning: Creating an ndarray from ragged nested sequences (which is a list-or-tuple of lists-or-tuples-or ndarrays with different lengths or shapes) is deprecated. If you meant to do this, you must specify 'dtype=object' when creating the ndarray.\n",
            "  concat_df = pd.DataFrame(np.array([stock, indicators, tries[0][0], tries[1][0], tries[2][0]]).reshape(1,5), columns=[\"STOCK\", \"WEIGHTS\", \"BUY TH\", \"SELL TH\", \"PROFIT\"])\n"
          ]
        },
        {
          "metadata": {
            "tags": null
          },
          "name": "stdout",
          "output_type": "stream",
          "text": [
            "    0   1       2\n",
            "0  58  45 1900.61\n",
            "1  58  44 1900.61\n",
            "2  59  43 1900.61\n",
            "3  60  46 1900.61\n",
            "4  60  45 1900.61\n",
            "SISE.IS\n"
          ]
        },
        {
          "metadata": {
            "tags": null
          },
          "name": "stderr",
          "output_type": "stream",
          "text": [
            "<ipython-input-16-d0b2c8d24563>:316: VisibleDeprecationWarning: Creating an ndarray from ragged nested sequences (which is a list-or-tuple of lists-or-tuples-or ndarrays with different lengths or shapes) is deprecated. If you meant to do this, you must specify 'dtype=object' when creating the ndarray.\n",
            "  concat_df = pd.DataFrame(np.array([stock, indicators, tries[0][0], tries[1][0], tries[2][0]]).reshape(1,5), columns=[\"STOCK\", \"WEIGHTS\", \"BUY TH\", \"SELL TH\", \"PROFIT\"])\n"
          ]
        },
        {
          "metadata": {
            "tags": null
          },
          "name": "stdout",
          "output_type": "stream",
          "text": [
            "0. Deneme\n",
            "    0   1       2\n",
            "0  73  75 3127.02\n",
            "1  72  75 3127.02\n",
            "2  72  76 3127.02\n",
            "3  73  76 3127.02\n",
            "4  73  78 3103.63\n",
            "1. Deneme\n"
          ]
        },
        {
          "metadata": {
            "tags": null
          },
          "name": "stderr",
          "output_type": "stream",
          "text": [
            "<ipython-input-16-d0b2c8d24563>:316: VisibleDeprecationWarning: Creating an ndarray from ragged nested sequences (which is a list-or-tuple of lists-or-tuples-or ndarrays with different lengths or shapes) is deprecated. If you meant to do this, you must specify 'dtype=object' when creating the ndarray.\n",
            "  concat_df = pd.DataFrame(np.array([stock, indicators, tries[0][0], tries[1][0], tries[2][0]]).reshape(1,5), columns=[\"STOCK\", \"WEIGHTS\", \"BUY TH\", \"SELL TH\", \"PROFIT\"])\n"
          ]
        },
        {
          "metadata": {
            "tags": null
          },
          "name": "stdout",
          "output_type": "stream",
          "text": [
            "    0   1       2\n",
            "0  79  43 2991.78\n",
            "1  79  44 2991.78\n",
            "2  79  42 2991.78\n",
            "3  70  78 2925.63\n",
            "4  69  78 2925.63\n",
            "2. Deneme\n"
          ]
        },
        {
          "metadata": {
            "tags": null
          },
          "name": "stderr",
          "output_type": "stream",
          "text": [
            "<ipython-input-16-d0b2c8d24563>:316: VisibleDeprecationWarning: Creating an ndarray from ragged nested sequences (which is a list-or-tuple of lists-or-tuples-or ndarrays with different lengths or shapes) is deprecated. If you meant to do this, you must specify 'dtype=object' when creating the ndarray.\n",
            "  concat_df = pd.DataFrame(np.array([stock, indicators, tries[0][0], tries[1][0], tries[2][0]]).reshape(1,5), columns=[\"STOCK\", \"WEIGHTS\", \"BUY TH\", \"SELL TH\", \"PROFIT\"])\n"
          ]
        },
        {
          "metadata": {
            "tags": null
          },
          "name": "stdout",
          "output_type": "stream",
          "text": [
            "    0   1       2\n",
            "0  79  49 2598.32\n",
            "1  79  50 2598.32\n",
            "2  79  47 2598.32\n",
            "3  79  48 2598.32\n",
            "4  52  53 2524.32\n",
            "3. Deneme\n"
          ]
        },
        {
          "metadata": {
            "tags": null
          },
          "name": "stderr",
          "output_type": "stream",
          "text": [
            "<ipython-input-16-d0b2c8d24563>:316: VisibleDeprecationWarning: Creating an ndarray from ragged nested sequences (which is a list-or-tuple of lists-or-tuples-or ndarrays with different lengths or shapes) is deprecated. If you meant to do this, you must specify 'dtype=object' when creating the ndarray.\n",
            "  concat_df = pd.DataFrame(np.array([stock, indicators, tries[0][0], tries[1][0], tries[2][0]]).reshape(1,5), columns=[\"STOCK\", \"WEIGHTS\", \"BUY TH\", \"SELL TH\", \"PROFIT\"])\n"
          ]
        },
        {
          "metadata": {
            "tags": null
          },
          "name": "stdout",
          "output_type": "stream",
          "text": [
            "    0   1       2\n",
            "0  43  50 4592.40\n",
            "1  42  49 4592.40\n",
            "2  44  51 4592.40\n",
            "3  44  50 4592.40\n",
            "4  42  50 4592.40\n",
            "4. Deneme\n"
          ]
        },
        {
          "metadata": {
            "tags": null
          },
          "name": "stderr",
          "output_type": "stream",
          "text": [
            "<ipython-input-16-d0b2c8d24563>:316: VisibleDeprecationWarning: Creating an ndarray from ragged nested sequences (which is a list-or-tuple of lists-or-tuples-or ndarrays with different lengths or shapes) is deprecated. If you meant to do this, you must specify 'dtype=object' when creating the ndarray.\n",
            "  concat_df = pd.DataFrame(np.array([stock, indicators, tries[0][0], tries[1][0], tries[2][0]]).reshape(1,5), columns=[\"STOCK\", \"WEIGHTS\", \"BUY TH\", \"SELL TH\", \"PROFIT\"])\n"
          ]
        },
        {
          "metadata": {
            "tags": null
          },
          "name": "stdout",
          "output_type": "stream",
          "text": [
            "    0   1       2\n",
            "0  43  56 3822.80\n",
            "1  42  56 3822.80\n",
            "2  42  52 3720.88\n",
            "3  42  53 3720.88\n",
            "4  42  51 3720.88\n",
            "5. Deneme\n"
          ]
        },
        {
          "metadata": {
            "tags": null
          },
          "name": "stderr",
          "output_type": "stream",
          "text": [
            "<ipython-input-16-d0b2c8d24563>:316: VisibleDeprecationWarning: Creating an ndarray from ragged nested sequences (which is a list-or-tuple of lists-or-tuples-or ndarrays with different lengths or shapes) is deprecated. If you meant to do this, you must specify 'dtype=object' when creating the ndarray.\n",
            "  concat_df = pd.DataFrame(np.array([stock, indicators, tries[0][0], tries[1][0], tries[2][0]]).reshape(1,5), columns=[\"STOCK\", \"WEIGHTS\", \"BUY TH\", \"SELL TH\", \"PROFIT\"])\n"
          ]
        },
        {
          "metadata": {
            "tags": null
          },
          "name": "stdout",
          "output_type": "stream",
          "text": [
            "    0   1       2\n",
            "0  68  79 3631.92\n",
            "1  68  78 3631.92\n",
            "2  69  79 3489.03\n",
            "3  70  78 3489.03\n",
            "4  69  78 3489.03\n",
            "6. Deneme\n"
          ]
        },
        {
          "metadata": {
            "tags": null
          },
          "name": "stderr",
          "output_type": "stream",
          "text": [
            "<ipython-input-16-d0b2c8d24563>:316: VisibleDeprecationWarning: Creating an ndarray from ragged nested sequences (which is a list-or-tuple of lists-or-tuples-or ndarrays with different lengths or shapes) is deprecated. If you meant to do this, you must specify 'dtype=object' when creating the ndarray.\n",
            "  concat_df = pd.DataFrame(np.array([stock, indicators, tries[0][0], tries[1][0], tries[2][0]]).reshape(1,5), columns=[\"STOCK\", \"WEIGHTS\", \"BUY TH\", \"SELL TH\", \"PROFIT\"])\n"
          ]
        },
        {
          "metadata": {
            "tags": null
          },
          "name": "stdout",
          "output_type": "stream",
          "text": [
            "    0   1       2\n",
            "0  47  43 3169.53\n",
            "1  47  44 3169.53\n",
            "2  48  43 3169.53\n",
            "3  48  44 3169.53\n",
            "4  48  42 2949.24\n",
            "7. Deneme\n"
          ]
        },
        {
          "metadata": {
            "tags": null
          },
          "name": "stderr",
          "output_type": "stream",
          "text": [
            "<ipython-input-16-d0b2c8d24563>:316: VisibleDeprecationWarning: Creating an ndarray from ragged nested sequences (which is a list-or-tuple of lists-or-tuples-or ndarrays with different lengths or shapes) is deprecated. If you meant to do this, you must specify 'dtype=object' when creating the ndarray.\n",
            "  concat_df = pd.DataFrame(np.array([stock, indicators, tries[0][0], tries[1][0], tries[2][0]]).reshape(1,5), columns=[\"STOCK\", \"WEIGHTS\", \"BUY TH\", \"SELL TH\", \"PROFIT\"])\n"
          ]
        },
        {
          "metadata": {
            "tags": null
          },
          "name": "stdout",
          "output_type": "stream",
          "text": [
            "    0   1       2\n",
            "0  44  51 3749.41\n",
            "1  43  51 3749.41\n",
            "2  43  50 3749.41\n",
            "3  44  50 3749.41\n",
            "4  45  50 3570.12\n",
            "8. Deneme\n"
          ]
        },
        {
          "metadata": {
            "tags": null
          },
          "name": "stderr",
          "output_type": "stream",
          "text": [
            "<ipython-input-16-d0b2c8d24563>:316: VisibleDeprecationWarning: Creating an ndarray from ragged nested sequences (which is a list-or-tuple of lists-or-tuples-or ndarrays with different lengths or shapes) is deprecated. If you meant to do this, you must specify 'dtype=object' when creating the ndarray.\n",
            "  concat_df = pd.DataFrame(np.array([stock, indicators, tries[0][0], tries[1][0], tries[2][0]]).reshape(1,5), columns=[\"STOCK\", \"WEIGHTS\", \"BUY TH\", \"SELL TH\", \"PROFIT\"])\n"
          ]
        },
        {
          "metadata": {
            "tags": null
          },
          "name": "stdout",
          "output_type": "stream",
          "text": [
            "    0   1       2\n",
            "0  67  76 2602.70\n",
            "1  67  75 2602.70\n",
            "2  67  77 2602.70\n",
            "3  67  74 2550.69\n",
            "4  69  46 2482.66\n",
            "9. Deneme\n"
          ]
        },
        {
          "metadata": {
            "tags": null
          },
          "name": "stderr",
          "output_type": "stream",
          "text": [
            "<ipython-input-16-d0b2c8d24563>:316: VisibleDeprecationWarning: Creating an ndarray from ragged nested sequences (which is a list-or-tuple of lists-or-tuples-or ndarrays with different lengths or shapes) is deprecated. If you meant to do this, you must specify 'dtype=object' when creating the ndarray.\n",
            "  concat_df = pd.DataFrame(np.array([stock, indicators, tries[0][0], tries[1][0], tries[2][0]]).reshape(1,5), columns=[\"STOCK\", \"WEIGHTS\", \"BUY TH\", \"SELL TH\", \"PROFIT\"])\n"
          ]
        },
        {
          "metadata": {
            "tags": null
          },
          "name": "stdout",
          "output_type": "stream",
          "text": [
            "    0   1       2\n",
            "0  55  64 2675.88\n",
            "1  53  63 2675.88\n",
            "2  53  64 2675.88\n",
            "3  54  63 2675.88\n",
            "4  54  64 2675.88\n",
            "TAVHL.IS\n"
          ]
        },
        {
          "metadata": {
            "tags": null
          },
          "name": "stderr",
          "output_type": "stream",
          "text": [
            "<ipython-input-16-d0b2c8d24563>:316: VisibleDeprecationWarning: Creating an ndarray from ragged nested sequences (which is a list-or-tuple of lists-or-tuples-or ndarrays with different lengths or shapes) is deprecated. If you meant to do this, you must specify 'dtype=object' when creating the ndarray.\n",
            "  concat_df = pd.DataFrame(np.array([stock, indicators, tries[0][0], tries[1][0], tries[2][0]]).reshape(1,5), columns=[\"STOCK\", \"WEIGHTS\", \"BUY TH\", \"SELL TH\", \"PROFIT\"])\n"
          ]
        },
        {
          "metadata": {
            "tags": null
          },
          "name": "stdout",
          "output_type": "stream",
          "text": [
            "0. Deneme\n",
            "    0   1       2\n",
            "0  43  51 4076.55\n",
            "1  43  52 4076.55\n",
            "2  44  51 3943.63\n",
            "3  44  52 3943.63\n",
            "4  44  50 3879.24\n",
            "1. Deneme\n"
          ]
        },
        {
          "metadata": {
            "tags": null
          },
          "name": "stderr",
          "output_type": "stream",
          "text": [
            "<ipython-input-16-d0b2c8d24563>:316: VisibleDeprecationWarning: Creating an ndarray from ragged nested sequences (which is a list-or-tuple of lists-or-tuples-or ndarrays with different lengths or shapes) is deprecated. If you meant to do this, you must specify 'dtype=object' when creating the ndarray.\n",
            "  concat_df = pd.DataFrame(np.array([stock, indicators, tries[0][0], tries[1][0], tries[2][0]]).reshape(1,5), columns=[\"STOCK\", \"WEIGHTS\", \"BUY TH\", \"SELL TH\", \"PROFIT\"])\n"
          ]
        },
        {
          "metadata": {
            "tags": null
          },
          "name": "stdout",
          "output_type": "stream",
          "text": [
            "    0   1       2\n",
            "0  44  50 3456.80\n",
            "1  47  51 3456.80\n",
            "2  46  51 3456.80\n",
            "3  46  50 3456.80\n",
            "4  45  50 3456.80\n",
            "2. Deneme\n"
          ]
        },
        {
          "metadata": {
            "tags": null
          },
          "name": "stderr",
          "output_type": "stream",
          "text": [
            "<ipython-input-16-d0b2c8d24563>:316: VisibleDeprecationWarning: Creating an ndarray from ragged nested sequences (which is a list-or-tuple of lists-or-tuples-or ndarrays with different lengths or shapes) is deprecated. If you meant to do this, you must specify 'dtype=object' when creating the ndarray.\n",
            "  concat_df = pd.DataFrame(np.array([stock, indicators, tries[0][0], tries[1][0], tries[2][0]]).reshape(1,5), columns=[\"STOCK\", \"WEIGHTS\", \"BUY TH\", \"SELL TH\", \"PROFIT\"])\n"
          ]
        },
        {
          "metadata": {
            "tags": null
          },
          "name": "stdout",
          "output_type": "stream",
          "text": [
            "    0   1       2\n",
            "0  48  66 3081.69\n",
            "1  47  66 3081.69\n",
            "2  48  65 3081.69\n",
            "3  47  65 3081.69\n",
            "4  48  64 3075.29\n",
            "3. Deneme\n"
          ]
        },
        {
          "metadata": {
            "tags": null
          },
          "name": "stderr",
          "output_type": "stream",
          "text": [
            "<ipython-input-16-d0b2c8d24563>:316: VisibleDeprecationWarning: Creating an ndarray from ragged nested sequences (which is a list-or-tuple of lists-or-tuples-or ndarrays with different lengths or shapes) is deprecated. If you meant to do this, you must specify 'dtype=object' when creating the ndarray.\n",
            "  concat_df = pd.DataFrame(np.array([stock, indicators, tries[0][0], tries[1][0], tries[2][0]]).reshape(1,5), columns=[\"STOCK\", \"WEIGHTS\", \"BUY TH\", \"SELL TH\", \"PROFIT\"])\n"
          ]
        },
        {
          "metadata": {
            "tags": null
          },
          "name": "stdout",
          "output_type": "stream",
          "text": [
            "    0   1       2\n",
            "0  43  58 5367.91\n",
            "1  44  58 5367.91\n",
            "2  43  57 5252.76\n",
            "3  44  56 5252.76\n",
            "4  43  56 5252.76\n",
            "4. Deneme\n"
          ]
        },
        {
          "metadata": {
            "tags": null
          },
          "name": "stderr",
          "output_type": "stream",
          "text": [
            "<ipython-input-16-d0b2c8d24563>:316: VisibleDeprecationWarning: Creating an ndarray from ragged nested sequences (which is a list-or-tuple of lists-or-tuples-or ndarrays with different lengths or shapes) is deprecated. If you meant to do this, you must specify 'dtype=object' when creating the ndarray.\n",
            "  concat_df = pd.DataFrame(np.array([stock, indicators, tries[0][0], tries[1][0], tries[2][0]]).reshape(1,5), columns=[\"STOCK\", \"WEIGHTS\", \"BUY TH\", \"SELL TH\", \"PROFIT\"])\n"
          ]
        },
        {
          "metadata": {
            "tags": null
          },
          "name": "stdout",
          "output_type": "stream",
          "text": [
            "    0   1       2\n",
            "0  40  60 4311.97\n",
            "1  40  61 4145.73\n",
            "2  40  62 4145.73\n",
            "3  40  59 3812.80\n",
            "4  40  58 3812.80\n",
            "5. Deneme\n"
          ]
        },
        {
          "metadata": {
            "tags": null
          },
          "name": "stderr",
          "output_type": "stream",
          "text": [
            "<ipython-input-16-d0b2c8d24563>:316: VisibleDeprecationWarning: Creating an ndarray from ragged nested sequences (which is a list-or-tuple of lists-or-tuples-or ndarrays with different lengths or shapes) is deprecated. If you meant to do this, you must specify 'dtype=object' when creating the ndarray.\n",
            "  concat_df = pd.DataFrame(np.array([stock, indicators, tries[0][0], tries[1][0], tries[2][0]]).reshape(1,5), columns=[\"STOCK\", \"WEIGHTS\", \"BUY TH\", \"SELL TH\", \"PROFIT\"])\n"
          ]
        },
        {
          "metadata": {
            "tags": null
          },
          "name": "stdout",
          "output_type": "stream",
          "text": [
            "    0   1       2\n",
            "0  40  45 3294.00\n",
            "1  44  45 3074.56\n",
            "2  43  45 3074.56\n",
            "3  42  45 3074.56\n",
            "4  41  45 3074.56\n",
            "6. Deneme\n"
          ]
        },
        {
          "metadata": {
            "tags": null
          },
          "name": "stderr",
          "output_type": "stream",
          "text": [
            "<ipython-input-16-d0b2c8d24563>:316: VisibleDeprecationWarning: Creating an ndarray from ragged nested sequences (which is a list-or-tuple of lists-or-tuples-or ndarrays with different lengths or shapes) is deprecated. If you meant to do this, you must specify 'dtype=object' when creating the ndarray.\n",
            "  concat_df = pd.DataFrame(np.array([stock, indicators, tries[0][0], tries[1][0], tries[2][0]]).reshape(1,5), columns=[\"STOCK\", \"WEIGHTS\", \"BUY TH\", \"SELL TH\", \"PROFIT\"])\n"
          ]
        },
        {
          "metadata": {
            "tags": null
          },
          "name": "stdout",
          "output_type": "stream",
          "text": [
            "    0   1       2\n",
            "0  45  55 3967.64\n",
            "1  42  43 3767.90\n",
            "2  46  55 3720.27\n",
            "3  47  55 3720.27\n",
            "4  45  57 3690.60\n",
            "7. Deneme\n"
          ]
        },
        {
          "metadata": {
            "tags": null
          },
          "name": "stderr",
          "output_type": "stream",
          "text": [
            "<ipython-input-16-d0b2c8d24563>:316: VisibleDeprecationWarning: Creating an ndarray from ragged nested sequences (which is a list-or-tuple of lists-or-tuples-or ndarrays with different lengths or shapes) is deprecated. If you meant to do this, you must specify 'dtype=object' when creating the ndarray.\n",
            "  concat_df = pd.DataFrame(np.array([stock, indicators, tries[0][0], tries[1][0], tries[2][0]]).reshape(1,5), columns=[\"STOCK\", \"WEIGHTS\", \"BUY TH\", \"SELL TH\", \"PROFIT\"])\n"
          ]
        },
        {
          "metadata": {
            "tags": null
          },
          "name": "stdout",
          "output_type": "stream",
          "text": [
            "    0   1       2\n",
            "0  42  54 3463.50\n",
            "1  41  54 3463.50\n",
            "2  43  54 3463.50\n",
            "3  45  54 2977.55\n",
            "4  44  54 2977.55\n",
            "8. Deneme\n"
          ]
        },
        {
          "metadata": {
            "tags": null
          },
          "name": "stderr",
          "output_type": "stream",
          "text": [
            "<ipython-input-16-d0b2c8d24563>:316: VisibleDeprecationWarning: Creating an ndarray from ragged nested sequences (which is a list-or-tuple of lists-or-tuples-or ndarrays with different lengths or shapes) is deprecated. If you meant to do this, you must specify 'dtype=object' when creating the ndarray.\n",
            "  concat_df = pd.DataFrame(np.array([stock, indicators, tries[0][0], tries[1][0], tries[2][0]]).reshape(1,5), columns=[\"STOCK\", \"WEIGHTS\", \"BUY TH\", \"SELL TH\", \"PROFIT\"])\n"
          ]
        },
        {
          "metadata": {
            "tags": null
          },
          "name": "stdout",
          "output_type": "stream",
          "text": [
            "    0   1       2\n",
            "0  43  48 3172.32\n",
            "1  43  47 3172.32\n",
            "2  43  66 3147.21\n",
            "3  46  66 3069.02\n",
            "4  45  66 3069.02\n",
            "9. Deneme\n"
          ]
        },
        {
          "metadata": {
            "tags": null
          },
          "name": "stderr",
          "output_type": "stream",
          "text": [
            "<ipython-input-16-d0b2c8d24563>:316: VisibleDeprecationWarning: Creating an ndarray from ragged nested sequences (which is a list-or-tuple of lists-or-tuples-or ndarrays with different lengths or shapes) is deprecated. If you meant to do this, you must specify 'dtype=object' when creating the ndarray.\n",
            "  concat_df = pd.DataFrame(np.array([stock, indicators, tries[0][0], tries[1][0], tries[2][0]]).reshape(1,5), columns=[\"STOCK\", \"WEIGHTS\", \"BUY TH\", \"SELL TH\", \"PROFIT\"])\n"
          ]
        },
        {
          "metadata": {
            "tags": null
          },
          "name": "stdout",
          "output_type": "stream",
          "text": [
            "    0   1       2\n",
            "0  55  43 2796.00\n",
            "1  54  40 2796.00\n",
            "2  54  41 2796.00\n",
            "3  54  42 2796.00\n",
            "4  54  43 2796.00\n",
            "THYAO.IS\n"
          ]
        },
        {
          "metadata": {
            "tags": null
          },
          "name": "stderr",
          "output_type": "stream",
          "text": [
            "<ipython-input-16-d0b2c8d24563>:316: VisibleDeprecationWarning: Creating an ndarray from ragged nested sequences (which is a list-or-tuple of lists-or-tuples-or ndarrays with different lengths or shapes) is deprecated. If you meant to do this, you must specify 'dtype=object' when creating the ndarray.\n",
            "  concat_df = pd.DataFrame(np.array([stock, indicators, tries[0][0], tries[1][0], tries[2][0]]).reshape(1,5), columns=[\"STOCK\", \"WEIGHTS\", \"BUY TH\", \"SELL TH\", \"PROFIT\"])\n"
          ]
        },
        {
          "metadata": {
            "tags": null
          },
          "name": "stdout",
          "output_type": "stream",
          "text": [
            "0. Deneme\n",
            "    0   1       2\n",
            "0  43  47 7516.02\n",
            "1  42  47 7516.02\n",
            "2  41  47 7516.02\n",
            "3  53  54 7436.82\n",
            "4  53  55 7436.82\n",
            "1. Deneme\n"
          ]
        },
        {
          "metadata": {
            "tags": null
          },
          "name": "stderr",
          "output_type": "stream",
          "text": [
            "<ipython-input-16-d0b2c8d24563>:316: VisibleDeprecationWarning: Creating an ndarray from ragged nested sequences (which is a list-or-tuple of lists-or-tuples-or ndarrays with different lengths or shapes) is deprecated. If you meant to do this, you must specify 'dtype=object' when creating the ndarray.\n",
            "  concat_df = pd.DataFrame(np.array([stock, indicators, tries[0][0], tries[1][0], tries[2][0]]).reshape(1,5), columns=[\"STOCK\", \"WEIGHTS\", \"BUY TH\", \"SELL TH\", \"PROFIT\"])\n"
          ]
        },
        {
          "metadata": {
            "tags": null
          },
          "name": "stdout",
          "output_type": "stream",
          "text": [
            "    0   1       2\n",
            "0  62  66 8496.34\n",
            "1  71  66 8202.99\n",
            "2  72  66 8202.99\n",
            "3  74  66 8185.15\n",
            "4  76  66 8185.15\n",
            "2. Deneme\n"
          ]
        },
        {
          "metadata": {
            "tags": null
          },
          "name": "stderr",
          "output_type": "stream",
          "text": [
            "<ipython-input-16-d0b2c8d24563>:316: VisibleDeprecationWarning: Creating an ndarray from ragged nested sequences (which is a list-or-tuple of lists-or-tuples-or ndarrays with different lengths or shapes) is deprecated. If you meant to do this, you must specify 'dtype=object' when creating the ndarray.\n",
            "  concat_df = pd.DataFrame(np.array([stock, indicators, tries[0][0], tries[1][0], tries[2][0]]).reshape(1,5), columns=[\"STOCK\", \"WEIGHTS\", \"BUY TH\", \"SELL TH\", \"PROFIT\"])\n"
          ]
        },
        {
          "metadata": {
            "tags": null
          },
          "name": "stdout",
          "output_type": "stream",
          "text": [
            "    0   1       2\n",
            "0  64  65 9682.01\n",
            "1  64  66 9682.01\n",
            "2  63  48 8969.05\n",
            "3  64  48 8797.87\n",
            "4  64  61 8680.95\n",
            "3. Deneme\n"
          ]
        },
        {
          "metadata": {
            "tags": null
          },
          "name": "stderr",
          "output_type": "stream",
          "text": [
            "<ipython-input-16-d0b2c8d24563>:316: VisibleDeprecationWarning: Creating an ndarray from ragged nested sequences (which is a list-or-tuple of lists-or-tuples-or ndarrays with different lengths or shapes) is deprecated. If you meant to do this, you must specify 'dtype=object' when creating the ndarray.\n",
            "  concat_df = pd.DataFrame(np.array([stock, indicators, tries[0][0], tries[1][0], tries[2][0]]).reshape(1,5), columns=[\"STOCK\", \"WEIGHTS\", \"BUY TH\", \"SELL TH\", \"PROFIT\"])\n"
          ]
        },
        {
          "metadata": {
            "tags": null
          },
          "name": "stdout",
          "output_type": "stream",
          "text": [
            "    0   1       2\n",
            "0  65  68 9176.64\n",
            "1  65  66 8748.07\n",
            "2  65  67 8748.07\n",
            "3  72  46 8467.11\n",
            "4  72  45 8467.11\n",
            "4. Deneme\n"
          ]
        },
        {
          "metadata": {
            "tags": null
          },
          "name": "stderr",
          "output_type": "stream",
          "text": [
            "<ipython-input-16-d0b2c8d24563>:316: VisibleDeprecationWarning: Creating an ndarray from ragged nested sequences (which is a list-or-tuple of lists-or-tuples-or ndarrays with different lengths or shapes) is deprecated. If you meant to do this, you must specify 'dtype=object' when creating the ndarray.\n",
            "  concat_df = pd.DataFrame(np.array([stock, indicators, tries[0][0], tries[1][0], tries[2][0]]).reshape(1,5), columns=[\"STOCK\", \"WEIGHTS\", \"BUY TH\", \"SELL TH\", \"PROFIT\"])\n"
          ]
        },
        {
          "metadata": {
            "tags": null
          },
          "name": "stdout",
          "output_type": "stream",
          "text": [
            "    0   1       2\n",
            "0  75  44 8539.88\n",
            "1  77  44 8539.88\n",
            "2  73  43 8539.88\n",
            "3  73  44 8539.88\n",
            "4  75  43 8539.88\n",
            "5. Deneme\n"
          ]
        },
        {
          "metadata": {
            "tags": null
          },
          "name": "stderr",
          "output_type": "stream",
          "text": [
            "<ipython-input-16-d0b2c8d24563>:316: VisibleDeprecationWarning: Creating an ndarray from ragged nested sequences (which is a list-or-tuple of lists-or-tuples-or ndarrays with different lengths or shapes) is deprecated. If you meant to do this, you must specify 'dtype=object' when creating the ndarray.\n",
            "  concat_df = pd.DataFrame(np.array([stock, indicators, tries[0][0], tries[1][0], tries[2][0]]).reshape(1,5), columns=[\"STOCK\", \"WEIGHTS\", \"BUY TH\", \"SELL TH\", \"PROFIT\"])\n"
          ]
        },
        {
          "metadata": {
            "tags": null
          },
          "name": "stdout",
          "output_type": "stream",
          "text": [
            "    0   1       2\n",
            "0  56  60 8490.49\n",
            "1  56  61 8490.49\n",
            "2  57  61 8356.10\n",
            "3  57  60 8356.10\n",
            "4  58  60 8356.10\n",
            "6. Deneme\n"
          ]
        },
        {
          "metadata": {
            "tags": null
          },
          "name": "stderr",
          "output_type": "stream",
          "text": [
            "<ipython-input-16-d0b2c8d24563>:316: VisibleDeprecationWarning: Creating an ndarray from ragged nested sequences (which is a list-or-tuple of lists-or-tuples-or ndarrays with different lengths or shapes) is deprecated. If you meant to do this, you must specify 'dtype=object' when creating the ndarray.\n",
            "  concat_df = pd.DataFrame(np.array([stock, indicators, tries[0][0], tries[1][0], tries[2][0]]).reshape(1,5), columns=[\"STOCK\", \"WEIGHTS\", \"BUY TH\", \"SELL TH\", \"PROFIT\"])\n"
          ]
        },
        {
          "metadata": {
            "tags": null
          },
          "name": "stdout",
          "output_type": "stream",
          "text": [
            "    0   1       2\n",
            "0  76  40 8090.01\n",
            "1  76  41 8090.01\n",
            "2  77  41 8090.01\n",
            "3  77  40 8090.01\n",
            "4  76  44 7751.41\n",
            "7. Deneme\n"
          ]
        },
        {
          "metadata": {
            "tags": null
          },
          "name": "stderr",
          "output_type": "stream",
          "text": [
            "<ipython-input-16-d0b2c8d24563>:316: VisibleDeprecationWarning: Creating an ndarray from ragged nested sequences (which is a list-or-tuple of lists-or-tuples-or ndarrays with different lengths or shapes) is deprecated. If you meant to do this, you must specify 'dtype=object' when creating the ndarray.\n",
            "  concat_df = pd.DataFrame(np.array([stock, indicators, tries[0][0], tries[1][0], tries[2][0]]).reshape(1,5), columns=[\"STOCK\", \"WEIGHTS\", \"BUY TH\", \"SELL TH\", \"PROFIT\"])\n"
          ]
        },
        {
          "metadata": {
            "tags": null
          },
          "name": "stdout",
          "output_type": "stream",
          "text": [
            "    0   1       2\n",
            "0  64  49 7376.42\n",
            "1  67  49 7309.25\n",
            "2  65  49 7309.25\n",
            "3  66  49 7309.25\n",
            "4  68  49 7177.27\n",
            "8. Deneme\n"
          ]
        },
        {
          "metadata": {
            "tags": null
          },
          "name": "stderr",
          "output_type": "stream",
          "text": [
            "<ipython-input-16-d0b2c8d24563>:316: VisibleDeprecationWarning: Creating an ndarray from ragged nested sequences (which is a list-or-tuple of lists-or-tuples-or ndarrays with different lengths or shapes) is deprecated. If you meant to do this, you must specify 'dtype=object' when creating the ndarray.\n",
            "  concat_df = pd.DataFrame(np.array([stock, indicators, tries[0][0], tries[1][0], tries[2][0]]).reshape(1,5), columns=[\"STOCK\", \"WEIGHTS\", \"BUY TH\", \"SELL TH\", \"PROFIT\"])\n"
          ]
        },
        {
          "metadata": {
            "tags": null
          },
          "name": "stdout",
          "output_type": "stream",
          "text": [
            "    0   1       2\n",
            "0  71  54 8298.86\n",
            "1  70  54 8298.86\n",
            "2  69  55 8298.86\n",
            "3  69  56 8298.86\n",
            "4  70  56 8298.86\n",
            "9. Deneme\n"
          ]
        },
        {
          "metadata": {
            "tags": null
          },
          "name": "stderr",
          "output_type": "stream",
          "text": [
            "<ipython-input-16-d0b2c8d24563>:316: VisibleDeprecationWarning: Creating an ndarray from ragged nested sequences (which is a list-or-tuple of lists-or-tuples-or ndarrays with different lengths or shapes) is deprecated. If you meant to do this, you must specify 'dtype=object' when creating the ndarray.\n",
            "  concat_df = pd.DataFrame(np.array([stock, indicators, tries[0][0], tries[1][0], tries[2][0]]).reshape(1,5), columns=[\"STOCK\", \"WEIGHTS\", \"BUY TH\", \"SELL TH\", \"PROFIT\"])\n"
          ]
        },
        {
          "metadata": {
            "tags": null
          },
          "name": "stdout",
          "output_type": "stream",
          "text": [
            "    0   1       2\n",
            "0  79  46 9321.16\n",
            "1  78  46 9321.16\n",
            "2  78  44 9321.16\n",
            "3  78  43 9321.16\n",
            "4  78  42 9321.16\n",
            "TUPRS.IS\n"
          ]
        },
        {
          "metadata": {
            "tags": null
          },
          "name": "stderr",
          "output_type": "stream",
          "text": [
            "<ipython-input-16-d0b2c8d24563>:316: VisibleDeprecationWarning: Creating an ndarray from ragged nested sequences (which is a list-or-tuple of lists-or-tuples-or ndarrays with different lengths or shapes) is deprecated. If you meant to do this, you must specify 'dtype=object' when creating the ndarray.\n",
            "  concat_df = pd.DataFrame(np.array([stock, indicators, tries[0][0], tries[1][0], tries[2][0]]).reshape(1,5), columns=[\"STOCK\", \"WEIGHTS\", \"BUY TH\", \"SELL TH\", \"PROFIT\"])\n"
          ]
        },
        {
          "metadata": {
            "tags": null
          },
          "name": "stdout",
          "output_type": "stream",
          "text": [
            "0. Deneme\n",
            "    0   1       2\n",
            "0  46  54 4084.68\n",
            "1  46  52 3863.94\n",
            "2  46  51 3863.94\n",
            "3  46  53 3777.88\n",
            "4  44  54 3720.02\n",
            "1. Deneme\n"
          ]
        },
        {
          "metadata": {
            "tags": null
          },
          "name": "stderr",
          "output_type": "stream",
          "text": [
            "<ipython-input-16-d0b2c8d24563>:316: VisibleDeprecationWarning: Creating an ndarray from ragged nested sequences (which is a list-or-tuple of lists-or-tuples-or ndarrays with different lengths or shapes) is deprecated. If you meant to do this, you must specify 'dtype=object' when creating the ndarray.\n",
            "  concat_df = pd.DataFrame(np.array([stock, indicators, tries[0][0], tries[1][0], tries[2][0]]).reshape(1,5), columns=[\"STOCK\", \"WEIGHTS\", \"BUY TH\", \"SELL TH\", \"PROFIT\"])\n"
          ]
        },
        {
          "metadata": {
            "tags": null
          },
          "name": "stdout",
          "output_type": "stream",
          "text": [
            "    0   1       2\n",
            "0  72  78 2625.32\n",
            "1  73  78 2561.45\n",
            "2  72  75 2481.79\n",
            "3  72  77 2445.74\n",
            "4  72  76 2445.74\n",
            "2. Deneme\n"
          ]
        },
        {
          "metadata": {
            "tags": null
          },
          "name": "stderr",
          "output_type": "stream",
          "text": [
            "<ipython-input-16-d0b2c8d24563>:316: VisibleDeprecationWarning: Creating an ndarray from ragged nested sequences (which is a list-or-tuple of lists-or-tuples-or ndarrays with different lengths or shapes) is deprecated. If you meant to do this, you must specify 'dtype=object' when creating the ndarray.\n",
            "  concat_df = pd.DataFrame(np.array([stock, indicators, tries[0][0], tries[1][0], tries[2][0]]).reshape(1,5), columns=[\"STOCK\", \"WEIGHTS\", \"BUY TH\", \"SELL TH\", \"PROFIT\"])\n"
          ]
        },
        {
          "metadata": {
            "tags": null
          },
          "name": "stdout",
          "output_type": "stream",
          "text": [
            "    0   1       2\n",
            "0  59  59 3279.27\n",
            "1  59  60 3279.27\n",
            "2  60  60 3279.27\n",
            "3  60  59 3279.27\n",
            "4  66  60 3204.61\n",
            "3. Deneme\n"
          ]
        },
        {
          "metadata": {
            "tags": null
          },
          "name": "stderr",
          "output_type": "stream",
          "text": [
            "<ipython-input-16-d0b2c8d24563>:316: VisibleDeprecationWarning: Creating an ndarray from ragged nested sequences (which is a list-or-tuple of lists-or-tuples-or ndarrays with different lengths or shapes) is deprecated. If you meant to do this, you must specify 'dtype=object' when creating the ndarray.\n",
            "  concat_df = pd.DataFrame(np.array([stock, indicators, tries[0][0], tries[1][0], tries[2][0]]).reshape(1,5), columns=[\"STOCK\", \"WEIGHTS\", \"BUY TH\", \"SELL TH\", \"PROFIT\"])\n"
          ]
        },
        {
          "metadata": {
            "tags": null
          },
          "name": "stdout",
          "output_type": "stream",
          "text": [
            "    0   1       2\n",
            "0  60  64 3312.83\n",
            "1  61  79 2930.54\n",
            "2  60  79 2930.54\n",
            "3  43  52 2923.84\n",
            "4  61  64 2877.25\n",
            "4. Deneme\n"
          ]
        },
        {
          "metadata": {
            "tags": null
          },
          "name": "stderr",
          "output_type": "stream",
          "text": [
            "<ipython-input-16-d0b2c8d24563>:316: VisibleDeprecationWarning: Creating an ndarray from ragged nested sequences (which is a list-or-tuple of lists-or-tuples-or ndarrays with different lengths or shapes) is deprecated. If you meant to do this, you must specify 'dtype=object' when creating the ndarray.\n",
            "  concat_df = pd.DataFrame(np.array([stock, indicators, tries[0][0], tries[1][0], tries[2][0]]).reshape(1,5), columns=[\"STOCK\", \"WEIGHTS\", \"BUY TH\", \"SELL TH\", \"PROFIT\"])\n"
          ]
        },
        {
          "metadata": {
            "tags": null
          },
          "name": "stdout",
          "output_type": "stream",
          "text": [
            "    0   1       2\n",
            "0  65  69 2892.62\n",
            "1  64  69 2892.62\n",
            "2  64  70 2892.62\n",
            "3  65  70 2892.62\n",
            "4  72  73 2732.04\n",
            "5. Deneme\n"
          ]
        },
        {
          "metadata": {
            "tags": null
          },
          "name": "stderr",
          "output_type": "stream",
          "text": [
            "<ipython-input-16-d0b2c8d24563>:316: VisibleDeprecationWarning: Creating an ndarray from ragged nested sequences (which is a list-or-tuple of lists-or-tuples-or ndarrays with different lengths or shapes) is deprecated. If you meant to do this, you must specify 'dtype=object' when creating the ndarray.\n",
            "  concat_df = pd.DataFrame(np.array([stock, indicators, tries[0][0], tries[1][0], tries[2][0]]).reshape(1,5), columns=[\"STOCK\", \"WEIGHTS\", \"BUY TH\", \"SELL TH\", \"PROFIT\"])\n"
          ]
        },
        {
          "metadata": {
            "tags": null
          },
          "name": "stdout",
          "output_type": "stream",
          "text": [
            "    0   1       2\n",
            "0  43  58 3369.55\n",
            "1  42  58 3369.55\n",
            "2  44  60 3251.24\n",
            "3  44  58 3225.18\n",
            "4  40  58 3211.71\n",
            "6. Deneme\n"
          ]
        },
        {
          "metadata": {
            "tags": null
          },
          "name": "stderr",
          "output_type": "stream",
          "text": [
            "<ipython-input-16-d0b2c8d24563>:316: VisibleDeprecationWarning: Creating an ndarray from ragged nested sequences (which is a list-or-tuple of lists-or-tuples-or ndarrays with different lengths or shapes) is deprecated. If you meant to do this, you must specify 'dtype=object' when creating the ndarray.\n",
            "  concat_df = pd.DataFrame(np.array([stock, indicators, tries[0][0], tries[1][0], tries[2][0]]).reshape(1,5), columns=[\"STOCK\", \"WEIGHTS\", \"BUY TH\", \"SELL TH\", \"PROFIT\"])\n"
          ]
        },
        {
          "metadata": {
            "tags": null
          },
          "name": "stdout",
          "output_type": "stream",
          "text": [
            "    0   1       2\n",
            "0  55  57 2864.20\n",
            "1  55  56 2864.20\n",
            "2  60  62 2787.94\n",
            "3  59  62 2787.94\n",
            "4  55  62 2700.33\n",
            "7. Deneme\n"
          ]
        },
        {
          "metadata": {
            "tags": null
          },
          "name": "stderr",
          "output_type": "stream",
          "text": [
            "<ipython-input-16-d0b2c8d24563>:316: VisibleDeprecationWarning: Creating an ndarray from ragged nested sequences (which is a list-or-tuple of lists-or-tuples-or ndarrays with different lengths or shapes) is deprecated. If you meant to do this, you must specify 'dtype=object' when creating the ndarray.\n",
            "  concat_df = pd.DataFrame(np.array([stock, indicators, tries[0][0], tries[1][0], tries[2][0]]).reshape(1,5), columns=[\"STOCK\", \"WEIGHTS\", \"BUY TH\", \"SELL TH\", \"PROFIT\"])\n"
          ]
        },
        {
          "metadata": {
            "tags": null
          },
          "name": "stdout",
          "output_type": "stream",
          "text": [
            "    0   1       2\n",
            "0  52  59 2564.41\n",
            "1  49  59 2536.33\n",
            "2  50  59 2536.33\n",
            "3  53  59 2533.70\n",
            "4  62  65 2469.19\n",
            "8. Deneme\n"
          ]
        },
        {
          "metadata": {
            "tags": null
          },
          "name": "stderr",
          "output_type": "stream",
          "text": [
            "<ipython-input-16-d0b2c8d24563>:316: VisibleDeprecationWarning: Creating an ndarray from ragged nested sequences (which is a list-or-tuple of lists-or-tuples-or ndarrays with different lengths or shapes) is deprecated. If you meant to do this, you must specify 'dtype=object' when creating the ndarray.\n",
            "  concat_df = pd.DataFrame(np.array([stock, indicators, tries[0][0], tries[1][0], tries[2][0]]).reshape(1,5), columns=[\"STOCK\", \"WEIGHTS\", \"BUY TH\", \"SELL TH\", \"PROFIT\"])\n"
          ]
        },
        {
          "metadata": {
            "tags": null
          },
          "name": "stdout",
          "output_type": "stream",
          "text": [
            "    0   1       2\n",
            "0  63  68 3086.71\n",
            "1  64  68 3086.71\n",
            "2  63  69 3015.86\n",
            "3  64  69 3015.86\n",
            "4  64  70 3015.86\n",
            "9. Deneme\n"
          ]
        },
        {
          "metadata": {
            "tags": null
          },
          "name": "stderr",
          "output_type": "stream",
          "text": [
            "<ipython-input-16-d0b2c8d24563>:316: VisibleDeprecationWarning: Creating an ndarray from ragged nested sequences (which is a list-or-tuple of lists-or-tuples-or ndarrays with different lengths or shapes) is deprecated. If you meant to do this, you must specify 'dtype=object' when creating the ndarray.\n",
            "  concat_df = pd.DataFrame(np.array([stock, indicators, tries[0][0], tries[1][0], tries[2][0]]).reshape(1,5), columns=[\"STOCK\", \"WEIGHTS\", \"BUY TH\", \"SELL TH\", \"PROFIT\"])\n"
          ]
        },
        {
          "metadata": {
            "tags": null
          },
          "name": "stdout",
          "output_type": "stream",
          "text": [
            "    0   1       2\n",
            "0  67  70 3103.56\n",
            "1  66  71 3103.56\n",
            "2  66  70 3103.56\n",
            "3  67  71 3103.56\n",
            "4  65  71 3085.47\n",
            "TOASO.IS\n"
          ]
        },
        {
          "metadata": {
            "tags": null
          },
          "name": "stderr",
          "output_type": "stream",
          "text": [
            "<ipython-input-16-d0b2c8d24563>:316: VisibleDeprecationWarning: Creating an ndarray from ragged nested sequences (which is a list-or-tuple of lists-or-tuples-or ndarrays with different lengths or shapes) is deprecated. If you meant to do this, you must specify 'dtype=object' when creating the ndarray.\n",
            "  concat_df = pd.DataFrame(np.array([stock, indicators, tries[0][0], tries[1][0], tries[2][0]]).reshape(1,5), columns=[\"STOCK\", \"WEIGHTS\", \"BUY TH\", \"SELL TH\", \"PROFIT\"])\n"
          ]
        },
        {
          "metadata": {
            "tags": null
          },
          "name": "stdout",
          "output_type": "stream",
          "text": [
            "0. Deneme\n",
            "    0   1       2\n",
            "0  67  77 3076.27\n",
            "1  67  78 3076.27\n",
            "2  45  48 2950.37\n",
            "3  46  48 2950.37\n",
            "4  66  78 2893.67\n",
            "1. Deneme\n"
          ]
        },
        {
          "metadata": {
            "tags": null
          },
          "name": "stderr",
          "output_type": "stream",
          "text": [
            "<ipython-input-16-d0b2c8d24563>:316: VisibleDeprecationWarning: Creating an ndarray from ragged nested sequences (which is a list-or-tuple of lists-or-tuples-or ndarrays with different lengths or shapes) is deprecated. If you meant to do this, you must specify 'dtype=object' when creating the ndarray.\n",
            "  concat_df = pd.DataFrame(np.array([stock, indicators, tries[0][0], tries[1][0], tries[2][0]]).reshape(1,5), columns=[\"STOCK\", \"WEIGHTS\", \"BUY TH\", \"SELL TH\", \"PROFIT\"])\n"
          ]
        },
        {
          "metadata": {
            "tags": null
          },
          "name": "stdout",
          "output_type": "stream",
          "text": [
            "    0   1       2\n",
            "0  46  40 2686.71\n",
            "1  46  41 2596.71\n",
            "2  46  42 2596.71\n",
            "3  40  40 2586.38\n",
            "4  43  41 2524.89\n",
            "2. Deneme\n"
          ]
        },
        {
          "metadata": {
            "tags": null
          },
          "name": "stderr",
          "output_type": "stream",
          "text": [
            "<ipython-input-16-d0b2c8d24563>:316: VisibleDeprecationWarning: Creating an ndarray from ragged nested sequences (which is a list-or-tuple of lists-or-tuples-or ndarrays with different lengths or shapes) is deprecated. If you meant to do this, you must specify 'dtype=object' when creating the ndarray.\n",
            "  concat_df = pd.DataFrame(np.array([stock, indicators, tries[0][0], tries[1][0], tries[2][0]]).reshape(1,5), columns=[\"STOCK\", \"WEIGHTS\", \"BUY TH\", \"SELL TH\", \"PROFIT\"])\n"
          ]
        },
        {
          "metadata": {
            "tags": null
          },
          "name": "stdout",
          "output_type": "stream",
          "text": [
            "    0   1       2\n",
            "0  48  58 4629.80\n",
            "1  50  58 4624.60\n",
            "2  49  58 4624.60\n",
            "3  40  58 4365.56\n",
            "4  52  58 4365.02\n",
            "3. Deneme\n"
          ]
        },
        {
          "metadata": {
            "tags": null
          },
          "name": "stderr",
          "output_type": "stream",
          "text": [
            "<ipython-input-16-d0b2c8d24563>:316: VisibleDeprecationWarning: Creating an ndarray from ragged nested sequences (which is a list-or-tuple of lists-or-tuples-or ndarrays with different lengths or shapes) is deprecated. If you meant to do this, you must specify 'dtype=object' when creating the ndarray.\n",
            "  concat_df = pd.DataFrame(np.array([stock, indicators, tries[0][0], tries[1][0], tries[2][0]]).reshape(1,5), columns=[\"STOCK\", \"WEIGHTS\", \"BUY TH\", \"SELL TH\", \"PROFIT\"])\n"
          ]
        },
        {
          "metadata": {
            "tags": null
          },
          "name": "stdout",
          "output_type": "stream",
          "text": [
            "    0   1       2\n",
            "0  51  61 4033.03\n",
            "1  51  60 4033.03\n",
            "2  53  60 4006.02\n",
            "3  52  60 4006.02\n",
            "4  52  61 4006.02\n",
            "4. Deneme\n"
          ]
        },
        {
          "metadata": {
            "tags": null
          },
          "name": "stderr",
          "output_type": "stream",
          "text": [
            "<ipython-input-16-d0b2c8d24563>:316: VisibleDeprecationWarning: Creating an ndarray from ragged nested sequences (which is a list-or-tuple of lists-or-tuples-or ndarrays with different lengths or shapes) is deprecated. If you meant to do this, you must specify 'dtype=object' when creating the ndarray.\n",
            "  concat_df = pd.DataFrame(np.array([stock, indicators, tries[0][0], tries[1][0], tries[2][0]]).reshape(1,5), columns=[\"STOCK\", \"WEIGHTS\", \"BUY TH\", \"SELL TH\", \"PROFIT\"])\n"
          ]
        },
        {
          "metadata": {
            "tags": null
          },
          "name": "stdout",
          "output_type": "stream",
          "text": [
            "    0   1       2\n",
            "0  50  49 2985.17\n",
            "1  50  48 2985.17\n",
            "2  50  47 2985.17\n",
            "3  49  49 2985.17\n",
            "4  49  48 2985.17\n",
            "5. Deneme\n"
          ]
        },
        {
          "metadata": {
            "tags": null
          },
          "name": "stderr",
          "output_type": "stream",
          "text": [
            "<ipython-input-16-d0b2c8d24563>:316: VisibleDeprecationWarning: Creating an ndarray from ragged nested sequences (which is a list-or-tuple of lists-or-tuples-or ndarrays with different lengths or shapes) is deprecated. If you meant to do this, you must specify 'dtype=object' when creating the ndarray.\n",
            "  concat_df = pd.DataFrame(np.array([stock, indicators, tries[0][0], tries[1][0], tries[2][0]]).reshape(1,5), columns=[\"STOCK\", \"WEIGHTS\", \"BUY TH\", \"SELL TH\", \"PROFIT\"])\n"
          ]
        },
        {
          "metadata": {
            "tags": null
          },
          "name": "stdout",
          "output_type": "stream",
          "text": [
            "    0   1       2\n",
            "0  46  59 3275.44\n",
            "1  46  49 3273.32\n",
            "2  46  48 3201.05\n",
            "3  46  47 3201.05\n",
            "4  46  51 3119.56\n",
            "6. Deneme\n"
          ]
        },
        {
          "metadata": {
            "tags": null
          },
          "name": "stderr",
          "output_type": "stream",
          "text": [
            "<ipython-input-16-d0b2c8d24563>:316: VisibleDeprecationWarning: Creating an ndarray from ragged nested sequences (which is a list-or-tuple of lists-or-tuples-or ndarrays with different lengths or shapes) is deprecated. If you meant to do this, you must specify 'dtype=object' when creating the ndarray.\n",
            "  concat_df = pd.DataFrame(np.array([stock, indicators, tries[0][0], tries[1][0], tries[2][0]]).reshape(1,5), columns=[\"STOCK\", \"WEIGHTS\", \"BUY TH\", \"SELL TH\", \"PROFIT\"])\n"
          ]
        },
        {
          "metadata": {
            "tags": null
          },
          "name": "stdout",
          "output_type": "stream",
          "text": [
            "    0   1       2\n",
            "0  44  49 3538.96\n",
            "1  44  48 3538.96\n",
            "2  43  48 3538.96\n",
            "3  43  49 3538.96\n",
            "4  40  49 3449.30\n",
            "7. Deneme\n"
          ]
        },
        {
          "metadata": {
            "tags": null
          },
          "name": "stderr",
          "output_type": "stream",
          "text": [
            "<ipython-input-16-d0b2c8d24563>:316: VisibleDeprecationWarning: Creating an ndarray from ragged nested sequences (which is a list-or-tuple of lists-or-tuples-or ndarrays with different lengths or shapes) is deprecated. If you meant to do this, you must specify 'dtype=object' when creating the ndarray.\n",
            "  concat_df = pd.DataFrame(np.array([stock, indicators, tries[0][0], tries[1][0], tries[2][0]]).reshape(1,5), columns=[\"STOCK\", \"WEIGHTS\", \"BUY TH\", \"SELL TH\", \"PROFIT\"])\n"
          ]
        },
        {
          "metadata": {
            "tags": null
          },
          "name": "stdout",
          "output_type": "stream",
          "text": [
            "    0   1       2\n",
            "0  40  45 3126.52\n",
            "1  41  45 3126.52\n",
            "2  42  45 3126.52\n",
            "3  56  62 3113.80\n",
            "4  40  40 3104.97\n",
            "8. Deneme\n"
          ]
        },
        {
          "metadata": {
            "tags": null
          },
          "name": "stderr",
          "output_type": "stream",
          "text": [
            "<ipython-input-16-d0b2c8d24563>:316: VisibleDeprecationWarning: Creating an ndarray from ragged nested sequences (which is a list-or-tuple of lists-or-tuples-or ndarrays with different lengths or shapes) is deprecated. If you meant to do this, you must specify 'dtype=object' when creating the ndarray.\n",
            "  concat_df = pd.DataFrame(np.array([stock, indicators, tries[0][0], tries[1][0], tries[2][0]]).reshape(1,5), columns=[\"STOCK\", \"WEIGHTS\", \"BUY TH\", \"SELL TH\", \"PROFIT\"])\n"
          ]
        },
        {
          "metadata": {
            "tags": null
          },
          "name": "stdout",
          "output_type": "stream",
          "text": [
            "    0   1       2\n",
            "0  45  52 3392.58\n",
            "1  47  52 3392.58\n",
            "2  46  52 3392.58\n",
            "3  44  48 3368.00\n",
            "4  44  44 3364.22\n",
            "9. Deneme\n"
          ]
        },
        {
          "metadata": {
            "tags": null
          },
          "name": "stderr",
          "output_type": "stream",
          "text": [
            "<ipython-input-16-d0b2c8d24563>:316: VisibleDeprecationWarning: Creating an ndarray from ragged nested sequences (which is a list-or-tuple of lists-or-tuples-or ndarrays with different lengths or shapes) is deprecated. If you meant to do this, you must specify 'dtype=object' when creating the ndarray.\n",
            "  concat_df = pd.DataFrame(np.array([stock, indicators, tries[0][0], tries[1][0], tries[2][0]]).reshape(1,5), columns=[\"STOCK\", \"WEIGHTS\", \"BUY TH\", \"SELL TH\", \"PROFIT\"])\n"
          ]
        },
        {
          "metadata": {
            "tags": null
          },
          "name": "stdout",
          "output_type": "stream",
          "text": [
            "    0   1       2\n",
            "0  40  44 3312.25\n",
            "1  40  45 3312.25\n",
            "2  51  48 3115.25\n",
            "3  52  48 3115.25\n",
            "4  52  49 3115.25\n",
            "TCELL.IS\n"
          ]
        },
        {
          "metadata": {
            "tags": null
          },
          "name": "stderr",
          "output_type": "stream",
          "text": [
            "<ipython-input-16-d0b2c8d24563>:316: VisibleDeprecationWarning: Creating an ndarray from ragged nested sequences (which is a list-or-tuple of lists-or-tuples-or ndarrays with different lengths or shapes) is deprecated. If you meant to do this, you must specify 'dtype=object' when creating the ndarray.\n",
            "  concat_df = pd.DataFrame(np.array([stock, indicators, tries[0][0], tries[1][0], tries[2][0]]).reshape(1,5), columns=[\"STOCK\", \"WEIGHTS\", \"BUY TH\", \"SELL TH\", \"PROFIT\"])\n"
          ]
        },
        {
          "metadata": {
            "tags": null
          },
          "name": "stdout",
          "output_type": "stream",
          "text": [
            "0. Deneme\n",
            "    0   1       2\n",
            "0  42  65 1663.12\n",
            "1  41  65 1663.12\n",
            "2  72  74 1571.06\n",
            "3  73  74 1563.97\n",
            "4  43  65 1548.76\n",
            "1. Deneme\n"
          ]
        },
        {
          "metadata": {
            "tags": null
          },
          "name": "stderr",
          "output_type": "stream",
          "text": [
            "<ipython-input-16-d0b2c8d24563>:316: VisibleDeprecationWarning: Creating an ndarray from ragged nested sequences (which is a list-or-tuple of lists-or-tuples-or ndarrays with different lengths or shapes) is deprecated. If you meant to do this, you must specify 'dtype=object' when creating the ndarray.\n",
            "  concat_df = pd.DataFrame(np.array([stock, indicators, tries[0][0], tries[1][0], tries[2][0]]).reshape(1,5), columns=[\"STOCK\", \"WEIGHTS\", \"BUY TH\", \"SELL TH\", \"PROFIT\"])\n"
          ]
        },
        {
          "metadata": {
            "tags": null
          },
          "name": "stdout",
          "output_type": "stream",
          "text": [
            "    0   1       2\n",
            "0  70  75 1494.48\n",
            "1  71  76 1494.48\n",
            "2  71  75 1494.48\n",
            "3  70  76 1494.48\n",
            "4  77  46 1445.52\n",
            "2. Deneme\n"
          ]
        },
        {
          "metadata": {
            "tags": null
          },
          "name": "stderr",
          "output_type": "stream",
          "text": [
            "<ipython-input-16-d0b2c8d24563>:316: VisibleDeprecationWarning: Creating an ndarray from ragged nested sequences (which is a list-or-tuple of lists-or-tuples-or ndarrays with different lengths or shapes) is deprecated. If you meant to do this, you must specify 'dtype=object' when creating the ndarray.\n",
            "  concat_df = pd.DataFrame(np.array([stock, indicators, tries[0][0], tries[1][0], tries[2][0]]).reshape(1,5), columns=[\"STOCK\", \"WEIGHTS\", \"BUY TH\", \"SELL TH\", \"PROFIT\"])\n"
          ]
        },
        {
          "metadata": {
            "tags": null
          },
          "name": "stdout",
          "output_type": "stream",
          "text": [
            "    0   1       2\n",
            "0  58  70 1792.19\n",
            "1  58  69 1792.19\n",
            "2  57  69 1792.19\n",
            "3  55  70 1792.19\n",
            "4  56  70 1792.19\n",
            "3. Deneme\n"
          ]
        },
        {
          "metadata": {
            "tags": null
          },
          "name": "stderr",
          "output_type": "stream",
          "text": [
            "<ipython-input-16-d0b2c8d24563>:316: VisibleDeprecationWarning: Creating an ndarray from ragged nested sequences (which is a list-or-tuple of lists-or-tuples-or ndarrays with different lengths or shapes) is deprecated. If you meant to do this, you must specify 'dtype=object' when creating the ndarray.\n",
            "  concat_df = pd.DataFrame(np.array([stock, indicators, tries[0][0], tries[1][0], tries[2][0]]).reshape(1,5), columns=[\"STOCK\", \"WEIGHTS\", \"BUY TH\", \"SELL TH\", \"PROFIT\"])\n"
          ]
        },
        {
          "metadata": {
            "tags": null
          },
          "name": "stdout",
          "output_type": "stream",
          "text": [
            "    0   1       2\n",
            "0  64  78 2727.71\n",
            "1  66  78 2645.42\n",
            "2  64  77 2629.36\n",
            "3  65  78 2609.13\n",
            "4  62  78 2609.13\n",
            "4. Deneme\n"
          ]
        },
        {
          "metadata": {
            "tags": null
          },
          "name": "stderr",
          "output_type": "stream",
          "text": [
            "<ipython-input-16-d0b2c8d24563>:316: VisibleDeprecationWarning: Creating an ndarray from ragged nested sequences (which is a list-or-tuple of lists-or-tuples-or ndarrays with different lengths or shapes) is deprecated. If you meant to do this, you must specify 'dtype=object' when creating the ndarray.\n",
            "  concat_df = pd.DataFrame(np.array([stock, indicators, tries[0][0], tries[1][0], tries[2][0]]).reshape(1,5), columns=[\"STOCK\", \"WEIGHTS\", \"BUY TH\", \"SELL TH\", \"PROFIT\"])\n"
          ]
        },
        {
          "metadata": {
            "tags": null
          },
          "name": "stdout",
          "output_type": "stream",
          "text": [
            "    0   1       2\n",
            "0  72  78 1711.94\n",
            "1  48  67 1685.57\n",
            "2  49  68 1685.57\n",
            "3  48  68 1685.57\n",
            "4  50  67 1685.57\n",
            "5. Deneme\n"
          ]
        },
        {
          "metadata": {
            "tags": null
          },
          "name": "stderr",
          "output_type": "stream",
          "text": [
            "<ipython-input-16-d0b2c8d24563>:316: VisibleDeprecationWarning: Creating an ndarray from ragged nested sequences (which is a list-or-tuple of lists-or-tuples-or ndarrays with different lengths or shapes) is deprecated. If you meant to do this, you must specify 'dtype=object' when creating the ndarray.\n",
            "  concat_df = pd.DataFrame(np.array([stock, indicators, tries[0][0], tries[1][0], tries[2][0]]).reshape(1,5), columns=[\"STOCK\", \"WEIGHTS\", \"BUY TH\", \"SELL TH\", \"PROFIT\"])\n"
          ]
        },
        {
          "metadata": {
            "tags": null
          },
          "name": "stdout",
          "output_type": "stream",
          "text": [
            "    0   1       2\n",
            "0  68  76 2114.89\n",
            "1  68  77 2114.89\n",
            "2  67  76 2108.84\n",
            "3  67  77 2108.84\n",
            "4  66  77 2108.84\n",
            "6. Deneme\n"
          ]
        },
        {
          "metadata": {
            "tags": null
          },
          "name": "stderr",
          "output_type": "stream",
          "text": [
            "<ipython-input-16-d0b2c8d24563>:316: VisibleDeprecationWarning: Creating an ndarray from ragged nested sequences (which is a list-or-tuple of lists-or-tuples-or ndarrays with different lengths or shapes) is deprecated. If you meant to do this, you must specify 'dtype=object' when creating the ndarray.\n",
            "  concat_df = pd.DataFrame(np.array([stock, indicators, tries[0][0], tries[1][0], tries[2][0]]).reshape(1,5), columns=[\"STOCK\", \"WEIGHTS\", \"BUY TH\", \"SELL TH\", \"PROFIT\"])\n"
          ]
        },
        {
          "metadata": {
            "tags": null
          },
          "name": "stdout",
          "output_type": "stream",
          "text": [
            "    0   1       2\n",
            "0  50  73 2626.03\n",
            "1  50  72 2626.03\n",
            "2  49  72 2626.03\n",
            "3  49  73 2626.03\n",
            "4  51  72 2579.22\n",
            "7. Deneme\n"
          ]
        },
        {
          "metadata": {
            "tags": null
          },
          "name": "stderr",
          "output_type": "stream",
          "text": [
            "<ipython-input-16-d0b2c8d24563>:316: VisibleDeprecationWarning: Creating an ndarray from ragged nested sequences (which is a list-or-tuple of lists-or-tuples-or ndarrays with different lengths or shapes) is deprecated. If you meant to do this, you must specify 'dtype=object' when creating the ndarray.\n",
            "  concat_df = pd.DataFrame(np.array([stock, indicators, tries[0][0], tries[1][0], tries[2][0]]).reshape(1,5), columns=[\"STOCK\", \"WEIGHTS\", \"BUY TH\", \"SELL TH\", \"PROFIT\"])\n"
          ]
        },
        {
          "metadata": {
            "tags": null
          },
          "name": "stdout",
          "output_type": "stream",
          "text": [
            "    0   1       2\n",
            "0  76  55 1788.29\n",
            "1  76  54 1788.29\n",
            "2  76  53 1777.73\n",
            "3  79  55 1605.94\n",
            "4  79  53 1605.94\n",
            "8. Deneme\n"
          ]
        },
        {
          "metadata": {
            "tags": null
          },
          "name": "stderr",
          "output_type": "stream",
          "text": [
            "<ipython-input-16-d0b2c8d24563>:316: VisibleDeprecationWarning: Creating an ndarray from ragged nested sequences (which is a list-or-tuple of lists-or-tuples-or ndarrays with different lengths or shapes) is deprecated. If you meant to do this, you must specify 'dtype=object' when creating the ndarray.\n",
            "  concat_df = pd.DataFrame(np.array([stock, indicators, tries[0][0], tries[1][0], tries[2][0]]).reshape(1,5), columns=[\"STOCK\", \"WEIGHTS\", \"BUY TH\", \"SELL TH\", \"PROFIT\"])\n"
          ]
        },
        {
          "metadata": {
            "tags": null
          },
          "name": "stdout",
          "output_type": "stream",
          "text": [
            "    0   1       2\n",
            "0  66  71 1634.12\n",
            "1  66  72 1634.12\n",
            "2  66  70 1490.04\n",
            "3  77  63 1400.87\n",
            "4  77  62 1400.87\n",
            "9. Deneme\n"
          ]
        },
        {
          "metadata": {
            "tags": null
          },
          "name": "stderr",
          "output_type": "stream",
          "text": [
            "<ipython-input-16-d0b2c8d24563>:316: VisibleDeprecationWarning: Creating an ndarray from ragged nested sequences (which is a list-or-tuple of lists-or-tuples-or ndarrays with different lengths or shapes) is deprecated. If you meant to do this, you must specify 'dtype=object' when creating the ndarray.\n",
            "  concat_df = pd.DataFrame(np.array([stock, indicators, tries[0][0], tries[1][0], tries[2][0]]).reshape(1,5), columns=[\"STOCK\", \"WEIGHTS\", \"BUY TH\", \"SELL TH\", \"PROFIT\"])\n"
          ]
        },
        {
          "metadata": {
            "tags": null
          },
          "name": "stdout",
          "output_type": "stream",
          "text": [
            "    0   1       2\n",
            "0  62  71 2133.81\n",
            "1  63  71 2111.08\n",
            "2  59  71 1946.58\n",
            "3  65  71 1897.22\n",
            "4  64  71 1897.22\n",
            "ISCTR.IS\n"
          ]
        },
        {
          "metadata": {
            "tags": null
          },
          "name": "stderr",
          "output_type": "stream",
          "text": [
            "<ipython-input-16-d0b2c8d24563>:316: VisibleDeprecationWarning: Creating an ndarray from ragged nested sequences (which is a list-or-tuple of lists-or-tuples-or ndarrays with different lengths or shapes) is deprecated. If you meant to do this, you must specify 'dtype=object' when creating the ndarray.\n",
            "  concat_df = pd.DataFrame(np.array([stock, indicators, tries[0][0], tries[1][0], tries[2][0]]).reshape(1,5), columns=[\"STOCK\", \"WEIGHTS\", \"BUY TH\", \"SELL TH\", \"PROFIT\"])\n"
          ]
        },
        {
          "metadata": {
            "tags": null
          },
          "name": "stdout",
          "output_type": "stream",
          "text": [
            "0. Deneme\n",
            "    0   1       2\n",
            "0  52  55 6050.22\n",
            "1  52  54 6050.22\n",
            "2  53  55 5803.78\n",
            "3  53  54 5803.78\n",
            "4  56  59 5394.20\n",
            "1. Deneme\n"
          ]
        },
        {
          "metadata": {
            "tags": null
          },
          "name": "stderr",
          "output_type": "stream",
          "text": [
            "<ipython-input-16-d0b2c8d24563>:316: VisibleDeprecationWarning: Creating an ndarray from ragged nested sequences (which is a list-or-tuple of lists-or-tuples-or ndarrays with different lengths or shapes) is deprecated. If you meant to do this, you must specify 'dtype=object' when creating the ndarray.\n",
            "  concat_df = pd.DataFrame(np.array([stock, indicators, tries[0][0], tries[1][0], tries[2][0]]).reshape(1,5), columns=[\"STOCK\", \"WEIGHTS\", \"BUY TH\", \"SELL TH\", \"PROFIT\"])\n"
          ]
        },
        {
          "metadata": {
            "tags": null
          },
          "name": "stdout",
          "output_type": "stream",
          "text": [
            "    0   1       2\n",
            "0  78  67 6078.03\n",
            "1  77  67 5516.81\n",
            "2  60  66 5473.14\n",
            "3  60  65 5473.14\n",
            "4  63  65 5389.17\n",
            "2. Deneme\n"
          ]
        },
        {
          "metadata": {
            "tags": null
          },
          "name": "stderr",
          "output_type": "stream",
          "text": [
            "<ipython-input-16-d0b2c8d24563>:316: VisibleDeprecationWarning: Creating an ndarray from ragged nested sequences (which is a list-or-tuple of lists-or-tuples-or ndarrays with different lengths or shapes) is deprecated. If you meant to do this, you must specify 'dtype=object' when creating the ndarray.\n",
            "  concat_df = pd.DataFrame(np.array([stock, indicators, tries[0][0], tries[1][0], tries[2][0]]).reshape(1,5), columns=[\"STOCK\", \"WEIGHTS\", \"BUY TH\", \"SELL TH\", \"PROFIT\"])\n"
          ]
        },
        {
          "output_type": "stream",
          "name": "stdout",
          "text": [
            "    0   1       2\n",
            "0  52  63 8703.27\n",
            "1  53  63 8703.27\n",
            "2  53  62 8655.19\n",
            "3  53  61 8655.19\n",
            "4  52  61 8655.19\n",
            "3. Deneme\n"
          ]
        },
        {
          "output_type": "stream",
          "name": "stderr",
          "text": [
            "<ipython-input-16-d0b2c8d24563>:316: VisibleDeprecationWarning: Creating an ndarray from ragged nested sequences (which is a list-or-tuple of lists-or-tuples-or ndarrays with different lengths or shapes) is deprecated. If you meant to do this, you must specify 'dtype=object' when creating the ndarray.\n",
            "  concat_df = pd.DataFrame(np.array([stock, indicators, tries[0][0], tries[1][0], tries[2][0]]).reshape(1,5), columns=[\"STOCK\", \"WEIGHTS\", \"BUY TH\", \"SELL TH\", \"PROFIT\"])\n"
          ]
        },
        {
          "output_type": "stream",
          "name": "stdout",
          "text": [
            "    0   1       2\n",
            "0  57  69 5538.65\n",
            "1  58  69 5481.07\n",
            "2  59  69 5481.07\n",
            "3  40  69 5195.19\n",
            "4  44  69 5005.07\n",
            "4. Deneme\n"
          ]
        },
        {
          "output_type": "stream",
          "name": "stderr",
          "text": [
            "<ipython-input-16-d0b2c8d24563>:316: VisibleDeprecationWarning: Creating an ndarray from ragged nested sequences (which is a list-or-tuple of lists-or-tuples-or ndarrays with different lengths or shapes) is deprecated. If you meant to do this, you must specify 'dtype=object' when creating the ndarray.\n",
            "  concat_df = pd.DataFrame(np.array([stock, indicators, tries[0][0], tries[1][0], tries[2][0]]).reshape(1,5), columns=[\"STOCK\", \"WEIGHTS\", \"BUY TH\", \"SELL TH\", \"PROFIT\"])\n"
          ]
        },
        {
          "output_type": "stream",
          "name": "stdout",
          "text": [
            "    0   1       2\n",
            "0  49  57 5793.81\n",
            "1  48  57 5793.81\n",
            "2  51  57 5668.44\n",
            "3  52  57 5668.44\n",
            "4  50  57 5624.47\n",
            "5. Deneme\n"
          ]
        },
        {
          "output_type": "stream",
          "name": "stderr",
          "text": [
            "<ipython-input-16-d0b2c8d24563>:316: VisibleDeprecationWarning: Creating an ndarray from ragged nested sequences (which is a list-or-tuple of lists-or-tuples-or ndarrays with different lengths or shapes) is deprecated. If you meant to do this, you must specify 'dtype=object' when creating the ndarray.\n",
            "  concat_df = pd.DataFrame(np.array([stock, indicators, tries[0][0], tries[1][0], tries[2][0]]).reshape(1,5), columns=[\"STOCK\", \"WEIGHTS\", \"BUY TH\", \"SELL TH\", \"PROFIT\"])\n"
          ]
        },
        {
          "output_type": "stream",
          "name": "stdout",
          "text": [
            "    0   1       2\n",
            "0  64  72 6008.62\n",
            "1  65  72 5085.59\n",
            "2  64  71 5081.76\n",
            "3  64  65 4800.80\n",
            "4  71  72 4568.32\n",
            "6. Deneme\n"
          ]
        },
        {
          "output_type": "stream",
          "name": "stderr",
          "text": [
            "<ipython-input-16-d0b2c8d24563>:316: VisibleDeprecationWarning: Creating an ndarray from ragged nested sequences (which is a list-or-tuple of lists-or-tuples-or ndarrays with different lengths or shapes) is deprecated. If you meant to do this, you must specify 'dtype=object' when creating the ndarray.\n",
            "  concat_df = pd.DataFrame(np.array([stock, indicators, tries[0][0], tries[1][0], tries[2][0]]).reshape(1,5), columns=[\"STOCK\", \"WEIGHTS\", \"BUY TH\", \"SELL TH\", \"PROFIT\"])\n"
          ]
        },
        {
          "output_type": "stream",
          "name": "stdout",
          "text": [
            "    0   1       2\n",
            "0  57  60 6770.50\n",
            "1  55  60 6735.35\n",
            "2  56  60 6735.35\n",
            "3  57  59 6373.49\n",
            "4  55  59 6339.93\n",
            "7. Deneme\n"
          ]
        },
        {
          "output_type": "stream",
          "name": "stderr",
          "text": [
            "<ipython-input-16-d0b2c8d24563>:316: VisibleDeprecationWarning: Creating an ndarray from ragged nested sequences (which is a list-or-tuple of lists-or-tuples-or ndarrays with different lengths or shapes) is deprecated. If you meant to do this, you must specify 'dtype=object' when creating the ndarray.\n",
            "  concat_df = pd.DataFrame(np.array([stock, indicators, tries[0][0], tries[1][0], tries[2][0]]).reshape(1,5), columns=[\"STOCK\", \"WEIGHTS\", \"BUY TH\", \"SELL TH\", \"PROFIT\"])\n"
          ]
        },
        {
          "output_type": "stream",
          "name": "stdout",
          "text": [
            "    0   1       2\n",
            "0  52  67 8889.46\n",
            "1  51  67 8889.46\n",
            "2  51  66 8889.46\n",
            "3  52  66 8889.46\n",
            "4  53  67 8486.91\n",
            "8. Deneme\n"
          ]
        },
        {
          "output_type": "stream",
          "name": "stderr",
          "text": [
            "<ipython-input-16-d0b2c8d24563>:316: VisibleDeprecationWarning: Creating an ndarray from ragged nested sequences (which is a list-or-tuple of lists-or-tuples-or ndarrays with different lengths or shapes) is deprecated. If you meant to do this, you must specify 'dtype=object' when creating the ndarray.\n",
            "  concat_df = pd.DataFrame(np.array([stock, indicators, tries[0][0], tries[1][0], tries[2][0]]).reshape(1,5), columns=[\"STOCK\", \"WEIGHTS\", \"BUY TH\", \"SELL TH\", \"PROFIT\"])\n"
          ]
        },
        {
          "output_type": "stream",
          "name": "stdout",
          "text": [
            "    0   1       2\n",
            "0  45  54 4994.83\n",
            "1  45  49 4911.75\n",
            "2  46  54 4755.21\n",
            "3  53  54 4753.33\n",
            "4  52  54 4753.33\n",
            "9. Deneme\n"
          ]
        },
        {
          "output_type": "stream",
          "name": "stderr",
          "text": [
            "<ipython-input-16-d0b2c8d24563>:316: VisibleDeprecationWarning: Creating an ndarray from ragged nested sequences (which is a list-or-tuple of lists-or-tuples-or ndarrays with different lengths or shapes) is deprecated. If you meant to do this, you must specify 'dtype=object' when creating the ndarray.\n",
            "  concat_df = pd.DataFrame(np.array([stock, indicators, tries[0][0], tries[1][0], tries[2][0]]).reshape(1,5), columns=[\"STOCK\", \"WEIGHTS\", \"BUY TH\", \"SELL TH\", \"PROFIT\"])\n"
          ]
        },
        {
          "output_type": "stream",
          "name": "stdout",
          "text": [
            "    0   1       2\n",
            "0  44  50 5755.94\n",
            "1  44  51 5755.94\n",
            "2  45  50 5755.94\n",
            "3  45  51 5755.94\n",
            "4  44  49 5417.25\n",
            "YKBNK.IS\n"
          ]
        },
        {
          "output_type": "stream",
          "name": "stderr",
          "text": [
            "<ipython-input-16-d0b2c8d24563>:316: VisibleDeprecationWarning: Creating an ndarray from ragged nested sequences (which is a list-or-tuple of lists-or-tuples-or ndarrays with different lengths or shapes) is deprecated. If you meant to do this, you must specify 'dtype=object' when creating the ndarray.\n",
            "  concat_df = pd.DataFrame(np.array([stock, indicators, tries[0][0], tries[1][0], tries[2][0]]).reshape(1,5), columns=[\"STOCK\", \"WEIGHTS\", \"BUY TH\", \"SELL TH\", \"PROFIT\"])\n"
          ]
        },
        {
          "output_type": "stream",
          "name": "stdout",
          "text": [
            "0. Deneme\n",
            "    0   1       2\n",
            "0  70  75 5249.90\n",
            "1  60  45 4756.20\n",
            "2  60  43 4756.20\n",
            "3  60  42 4756.20\n",
            "4  60  41 4756.20\n",
            "1. Deneme\n"
          ]
        },
        {
          "output_type": "stream",
          "name": "stderr",
          "text": [
            "<ipython-input-16-d0b2c8d24563>:316: VisibleDeprecationWarning: Creating an ndarray from ragged nested sequences (which is a list-or-tuple of lists-or-tuples-or ndarrays with different lengths or shapes) is deprecated. If you meant to do this, you must specify 'dtype=object' when creating the ndarray.\n",
            "  concat_df = pd.DataFrame(np.array([stock, indicators, tries[0][0], tries[1][0], tries[2][0]]).reshape(1,5), columns=[\"STOCK\", \"WEIGHTS\", \"BUY TH\", \"SELL TH\", \"PROFIT\"])\n"
          ]
        },
        {
          "output_type": "stream",
          "name": "stdout",
          "text": [
            "    0   1       2\n",
            "0  72  77 5472.54\n",
            "1  72  76 5396.32\n",
            "2  73  77 5293.03\n",
            "3  74  77 5293.03\n",
            "4  71  77 5066.15\n",
            "2. Deneme\n"
          ]
        },
        {
          "output_type": "stream",
          "name": "stderr",
          "text": [
            "<ipython-input-16-d0b2c8d24563>:316: VisibleDeprecationWarning: Creating an ndarray from ragged nested sequences (which is a list-or-tuple of lists-or-tuples-or ndarrays with different lengths or shapes) is deprecated. If you meant to do this, you must specify 'dtype=object' when creating the ndarray.\n",
            "  concat_df = pd.DataFrame(np.array([stock, indicators, tries[0][0], tries[1][0], tries[2][0]]).reshape(1,5), columns=[\"STOCK\", \"WEIGHTS\", \"BUY TH\", \"SELL TH\", \"PROFIT\"])\n"
          ]
        },
        {
          "output_type": "stream",
          "name": "stdout",
          "text": [
            "    0   1       2\n",
            "0  60  65 7530.88\n",
            "1  60  66 7530.88\n",
            "2  61  65 7530.88\n",
            "3  61  66 7530.88\n",
            "4  62  65 7482.12\n",
            "3. Deneme\n"
          ]
        },
        {
          "output_type": "stream",
          "name": "stderr",
          "text": [
            "<ipython-input-16-d0b2c8d24563>:316: VisibleDeprecationWarning: Creating an ndarray from ragged nested sequences (which is a list-or-tuple of lists-or-tuples-or ndarrays with different lengths or shapes) is deprecated. If you meant to do this, you must specify 'dtype=object' when creating the ndarray.\n",
            "  concat_df = pd.DataFrame(np.array([stock, indicators, tries[0][0], tries[1][0], tries[2][0]]).reshape(1,5), columns=[\"STOCK\", \"WEIGHTS\", \"BUY TH\", \"SELL TH\", \"PROFIT\"])\n"
          ]
        },
        {
          "output_type": "stream",
          "name": "stdout",
          "text": [
            "    0   1       2\n",
            "0  48  40 4643.32\n",
            "1  47  40 4643.32\n",
            "2  60  60 4583.42\n",
            "3  61  61 4583.42\n",
            "4  61  60 4583.42\n",
            "4. Deneme\n"
          ]
        },
        {
          "output_type": "stream",
          "name": "stderr",
          "text": [
            "<ipython-input-16-d0b2c8d24563>:316: VisibleDeprecationWarning: Creating an ndarray from ragged nested sequences (which is a list-or-tuple of lists-or-tuples-or ndarrays with different lengths or shapes) is deprecated. If you meant to do this, you must specify 'dtype=object' when creating the ndarray.\n",
            "  concat_df = pd.DataFrame(np.array([stock, indicators, tries[0][0], tries[1][0], tries[2][0]]).reshape(1,5), columns=[\"STOCK\", \"WEIGHTS\", \"BUY TH\", \"SELL TH\", \"PROFIT\"])\n"
          ]
        },
        {
          "output_type": "stream",
          "name": "stdout",
          "text": [
            "    0   1       2\n",
            "0  55  62 4580.22\n",
            "1  53  62 4580.22\n",
            "2  54  62 4580.22\n",
            "3  53  61 4418.15\n",
            "4  54  61 4418.15\n",
            "5. Deneme\n"
          ]
        },
        {
          "output_type": "stream",
          "name": "stderr",
          "text": [
            "<ipython-input-16-d0b2c8d24563>:316: VisibleDeprecationWarning: Creating an ndarray from ragged nested sequences (which is a list-or-tuple of lists-or-tuples-or ndarrays with different lengths or shapes) is deprecated. If you meant to do this, you must specify 'dtype=object' when creating the ndarray.\n",
            "  concat_df = pd.DataFrame(np.array([stock, indicators, tries[0][0], tries[1][0], tries[2][0]]).reshape(1,5), columns=[\"STOCK\", \"WEIGHTS\", \"BUY TH\", \"SELL TH\", \"PROFIT\"])\n"
          ]
        },
        {
          "output_type": "stream",
          "name": "stdout",
          "text": [
            "    0   1       2\n",
            "0  42  56 6015.59\n",
            "1  42  57 6015.59\n",
            "2  42  60 5990.27\n",
            "3  42  61 5990.27\n",
            "4  42  62 5990.27\n",
            "6. Deneme\n"
          ]
        },
        {
          "output_type": "stream",
          "name": "stderr",
          "text": [
            "<ipython-input-16-d0b2c8d24563>:316: VisibleDeprecationWarning: Creating an ndarray from ragged nested sequences (which is a list-or-tuple of lists-or-tuples-or ndarrays with different lengths or shapes) is deprecated. If you meant to do this, you must specify 'dtype=object' when creating the ndarray.\n",
            "  concat_df = pd.DataFrame(np.array([stock, indicators, tries[0][0], tries[1][0], tries[2][0]]).reshape(1,5), columns=[\"STOCK\", \"WEIGHTS\", \"BUY TH\", \"SELL TH\", \"PROFIT\"])\n"
          ]
        },
        {
          "output_type": "stream",
          "name": "stdout",
          "text": [
            "    0   1       2\n",
            "0  58  68 7101.55\n",
            "1  58  69 7101.55\n",
            "2  58  67 6398.92\n",
            "3  78  78 5655.20\n",
            "4  77  77 5655.20\n",
            "7. Deneme\n"
          ]
        },
        {
          "output_type": "stream",
          "name": "stderr",
          "text": [
            "<ipython-input-16-d0b2c8d24563>:316: VisibleDeprecationWarning: Creating an ndarray from ragged nested sequences (which is a list-or-tuple of lists-or-tuples-or ndarrays with different lengths or shapes) is deprecated. If you meant to do this, you must specify 'dtype=object' when creating the ndarray.\n",
            "  concat_df = pd.DataFrame(np.array([stock, indicators, tries[0][0], tries[1][0], tries[2][0]]).reshape(1,5), columns=[\"STOCK\", \"WEIGHTS\", \"BUY TH\", \"SELL TH\", \"PROFIT\"])\n"
          ]
        },
        {
          "output_type": "stream",
          "name": "stdout",
          "text": [
            "    0   1       2\n",
            "0  67  71 4688.26\n",
            "1  65  70 4688.26\n",
            "2  65  71 4688.26\n",
            "3  66  70 4688.26\n",
            "4  66  71 4688.26\n",
            "8. Deneme\n"
          ]
        },
        {
          "output_type": "stream",
          "name": "stderr",
          "text": [
            "<ipython-input-16-d0b2c8d24563>:316: VisibleDeprecationWarning: Creating an ndarray from ragged nested sequences (which is a list-or-tuple of lists-or-tuples-or ndarrays with different lengths or shapes) is deprecated. If you meant to do this, you must specify 'dtype=object' when creating the ndarray.\n",
            "  concat_df = pd.DataFrame(np.array([stock, indicators, tries[0][0], tries[1][0], tries[2][0]]).reshape(1,5), columns=[\"STOCK\", \"WEIGHTS\", \"BUY TH\", \"SELL TH\", \"PROFIT\"])\n"
          ]
        },
        {
          "output_type": "stream",
          "name": "stdout",
          "text": [
            "    0   1       2\n",
            "0  57  47 5649.11\n",
            "1  58  47 5609.99\n",
            "2  60  47 5470.51\n",
            "3  59  47 5470.51\n",
            "4  61  47 5470.51\n",
            "9. Deneme\n"
          ]
        },
        {
          "output_type": "stream",
          "name": "stderr",
          "text": [
            "<ipython-input-16-d0b2c8d24563>:316: VisibleDeprecationWarning: Creating an ndarray from ragged nested sequences (which is a list-or-tuple of lists-or-tuples-or ndarrays with different lengths or shapes) is deprecated. If you meant to do this, you must specify 'dtype=object' when creating the ndarray.\n",
            "  concat_df = pd.DataFrame(np.array([stock, indicators, tries[0][0], tries[1][0], tries[2][0]]).reshape(1,5), columns=[\"STOCK\", \"WEIGHTS\", \"BUY TH\", \"SELL TH\", \"PROFIT\"])\n"
          ]
        },
        {
          "output_type": "stream",
          "name": "stdout",
          "text": [
            "    0   1       2\n",
            "0  54  47 4491.14\n",
            "1  55  47 4457.94\n",
            "2  54  46 4368.41\n",
            "3  54  53 4356.65\n",
            "4  54  52 4356.65\n"
          ]
        },
        {
          "output_type": "stream",
          "name": "stderr",
          "text": [
            "<ipython-input-16-d0b2c8d24563>:316: VisibleDeprecationWarning: Creating an ndarray from ragged nested sequences (which is a list-or-tuple of lists-or-tuples-or ndarrays with different lengths or shapes) is deprecated. If you meant to do this, you must specify 'dtype=object' when creating the ndarray.\n",
            "  concat_df = pd.DataFrame(np.array([stock, indicators, tries[0][0], tries[1][0], tries[2][0]]).reshape(1,5), columns=[\"STOCK\", \"WEIGHTS\", \"BUY TH\", \"SELL TH\", \"PROFIT\"])\n"
          ]
        },
        {
          "output_type": "execute_result",
          "data": {
            "text/plain": [
              "        STOCK                                            WEIGHTS BUY TH  \\\n",
              "0    AKBNK.IS  [5, 4, 2, 3, 3, 0, 1, 5, 4, 2, 5, 5, 0, 4, 5, ...     61   \n",
              "1    AKBNK.IS  [3, 2, 0, 2, 4, 0, 3, 4, 5, 1, 3, 5, 5, 1, 2, ...     40   \n",
              "2    AKBNK.IS  [1, 0, 1, 1, 5, 5, 4, 2, 4, 5, 5, 1, 5, 4, 0, ...     72   \n",
              "3    AKBNK.IS  [2, 5, 3, 4, 1, 2, 0, 0, 1, 2, 4, 5, 0, 2, 3, ...     40   \n",
              "4    AKBNK.IS  [5, 4, 2, 2, 0, 3, 2, 3, 1, 1, 0, 4, 5, 3, 0, ...     46   \n",
              "5    AKBNK.IS  [3, 2, 2, 1, 0, 5, 3, 5, 2, 2, 3, 3, 1, 3, 4, ...     64   \n",
              "6    AKBNK.IS  [1, 0, 3, 3, 2, 1, 3, 2, 5, 2, 2, 1, 3, 3, 1, ...     70   \n",
              "7    AKBNK.IS  [3, 0, 1, 5, 3, 2, 1, 3, 0, 4, 3, 2, 2, 0, 3, ...     45   \n",
              "8    AKBNK.IS  [2, 5, 1, 4, 2, 2, 4, 3, 4, 5, 4, 1, 3, 1, 4, ...     40   \n",
              "9    AKBNK.IS  [5, 5, 5, 1, 4, 5, 1, 2, 2, 3, 2, 3, 1, 1, 2, ...     40   \n",
              "10   AKSEN.IS  [5, 0, 1, 0, 1, 2, 0, 3, 4, 0, 3, 2, 5, 3, 0, ...     47   \n",
              "11   AKSEN.IS  [5, 4, 0, 3, 1, 3, 3, 3, 0, 0, 1, 2, 4, 2, 5, ...     46   \n",
              "12   AKSEN.IS  [2, 1, 1, 4, 5, 5, 5, 3, 5, 3, 5, 2, 5, 3, 1, ...     52   \n",
              "13   AKSEN.IS  [5, 0, 0, 2, 3, 1, 5, 5, 2, 3, 3, 2, 2, 2, 1, ...     46   \n",
              "14   AKSEN.IS  [4, 4, 2, 3, 4, 0, 1, 1, 2, 3, 4, 2, 4, 5, 3, ...     46   \n",
              "15   AKSEN.IS  [1, 2, 4, 0, 3, 3, 2, 3, 0, 1, 0, 4, 2, 0, 1, ...     49   \n",
              "16   AKSEN.IS  [3, 2, 4, 3, 0, 4, 1, 2, 4, 5, 0, 4, 4, 3, 2, ...     47   \n",
              "17   AKSEN.IS  [1, 4, 1, 0, 0, 3, 5, 0, 3, 3, 4, 5, 1, 0, 1, ...     51   \n",
              "18   AKSEN.IS  [0, 5, 1, 3, 1, 1, 5, 4, 0, 4, 0, 2, 1, 2, 1, ...     54   \n",
              "19   AKSEN.IS  [1, 0, 1, 0, 4, 0, 5, 4, 3, 1, 1, 0, 2, 1, 5, ...     41   \n",
              "20   ALARK.IS  [3, 5, 3, 3, 1, 5, 5, 2, 1, 3, 2, 3, 2, 1, 2, ...     52   \n",
              "21   ALARK.IS  [4, 3, 0, 2, 3, 2, 5, 2, 5, 2, 1, 3, 4, 3, 0, ...     70   \n",
              "22   ALARK.IS  [2, 3, 4, 1, 2, 4, 0, 1, 2, 2, 3, 2, 2, 5, 0, ...     75   \n",
              "23   ALARK.IS  [2, 2, 0, 5, 3, 2, 5, 1, 4, 1, 1, 1, 4, 0, 1, ...     73   \n",
              "24   ALARK.IS  [5, 5, 0, 2, 4, 1, 0, 0, 4, 4, 3, 2, 3, 2, 2, ...     76   \n",
              "25   ALARK.IS  [1, 0, 0, 0, 5, 2, 1, 2, 4, 2, 1, 4, 5, 4, 5, ...     77   \n",
              "26   ALARK.IS  [2, 2, 2, 5, 1, 5, 2, 2, 0, 0, 4, 4, 2, 2, 0, ...     79   \n",
              "27   ALARK.IS  [4, 1, 1, 0, 5, 2, 3, 5, 2, 0, 4, 0, 0, 2, 4, ...     74   \n",
              "28   ALARK.IS  [3, 4, 0, 2, 1, 1, 2, 5, 5, 0, 1, 0, 2, 2, 5, ...     79   \n",
              "29   ALARK.IS  [1, 2, 3, 0, 2, 3, 3, 0, 1, 1, 3, 1, 4, 2, 1, ...     71   \n",
              "30   ARCLK.IS  [2, 1, 5, 0, 5, 3, 3, 5, 5, 3, 2, 1, 1, 0, 3, ...     40   \n",
              "31   ARCLK.IS  [0, 5, 0, 2, 2, 5, 4, 2, 2, 0, 1, 2, 2, 5, 4, ...     60   \n",
              "32   ARCLK.IS  [1, 5, 1, 3, 2, 0, 5, 4, 4, 2, 2, 0, 4, 5, 5, ...     63   \n",
              "33   ARCLK.IS  [3, 4, 4, 3, 2, 2, 3, 0, 4, 2, 4, 4, 0, 2, 2, ...     60   \n",
              "34   ARCLK.IS  [2, 0, 0, 2, 3, 1, 5, 1, 3, 0, 0, 4, 1, 1, 4, ...     55   \n",
              "35   ARCLK.IS  [5, 5, 0, 2, 3, 5, 5, 3, 5, 3, 3, 5, 0, 2, 0, ...     64   \n",
              "36   ARCLK.IS  [1, 0, 0, 5, 5, 3, 2, 2, 2, 3, 0, 3, 0, 1, 1, ...     64   \n",
              "37   ARCLK.IS  [5, 0, 2, 4, 2, 0, 4, 3, 2, 4, 1, 3, 2, 0, 2, ...     64   \n",
              "38   ARCLK.IS  [0, 4, 1, 2, 2, 5, 0, 4, 4, 2, 4, 5, 1, 2, 5, ...     65   \n",
              "39   ARCLK.IS  [1, 3, 0, 3, 0, 0, 5, 1, 0, 3, 1, 5, 4, 4, 3, ...     64   \n",
              "40   ASELS.IS  [2, 2, 1, 2, 3, 1, 1, 1, 1, 4, 1, 1, 3, 5, 4, ...     66   \n",
              "41   ASELS.IS  [3, 3, 4, 2, 5, 2, 5, 1, 2, 0, 0, 1, 0, 3, 2, ...     69   \n",
              "42   ASELS.IS  [1, 2, 0, 1, 4, 3, 3, 2, 4, 5, 1, 1, 0, 5, 1, ...     60   \n",
              "43   ASELS.IS  [2, 3, 1, 0, 0, 5, 1, 2, 4, 2, 4, 2, 1, 1, 1, ...     47   \n",
              "44   ASELS.IS  [5, 5, 3, 4, 3, 4, 3, 2, 4, 2, 1, 0, 1, 1, 4, ...     63   \n",
              "45   ASELS.IS  [5, 5, 3, 5, 3, 2, 2, 1, 5, 1, 4, 1, 5, 5, 1, ...     64   \n",
              "46   ASELS.IS  [1, 2, 0, 5, 1, 4, 1, 3, 1, 4, 1, 2, 2, 2, 4, ...     75   \n",
              "47   ASELS.IS  [0, 2, 1, 2, 1, 2, 5, 5, 0, 5, 2, 4, 1, 0, 3, ...     66   \n",
              "48   ASELS.IS  [4, 2, 4, 4, 1, 0, 1, 4, 5, 2, 5, 4, 4, 4, 1, ...     57   \n",
              "49   ASELS.IS  [2, 5, 0, 0, 0, 1, 3, 2, 2, 2, 2, 1, 2, 0, 4, ...     67   \n",
              "50   BIMAS.IS  [3, 0, 3, 2, 3, 2, 2, 1, 2, 2, 0, 1, 1, 0, 1, ...     61   \n",
              "51   BIMAS.IS  [0, 1, 1, 2, 5, 2, 1, 4, 0, 5, 5, 5, 5, 4, 3, ...     65   \n",
              "52   BIMAS.IS  [2, 4, 3, 4, 3, 5, 1, 5, 2, 3, 1, 1, 4, 1, 1, ...     53   \n",
              "53   BIMAS.IS  [3, 1, 1, 5, 3, 0, 2, 4, 1, 2, 0, 1, 2, 0, 2, ...     48   \n",
              "54   BIMAS.IS  [1, 1, 3, 2, 2, 4, 0, 4, 3, 3, 1, 2, 0, 4, 3, ...     46   \n",
              "55   BIMAS.IS  [1, 4, 4, 2, 5, 3, 2, 3, 2, 2, 4, 3, 3, 5, 3, ...     41   \n",
              "56   BIMAS.IS  [5, 3, 2, 3, 4, 4, 0, 2, 4, 2, 1, 1, 1, 2, 1, ...     60   \n",
              "57   BIMAS.IS  [4, 1, 0, 3, 3, 3, 5, 4, 1, 3, 4, 0, 4, 4, 2, ...     57   \n",
              "58   BIMAS.IS  [4, 0, 5, 3, 2, 1, 4, 4, 4, 3, 5, 1, 0, 0, 4, ...     68   \n",
              "59   BIMAS.IS  [1, 3, 5, 2, 5, 2, 4, 1, 4, 1, 4, 3, 1, 1, 1, ...     40   \n",
              "60   EKGYO.IS  [4, 3, 5, 5, 1, 3, 4, 0, 4, 2, 4, 1, 4, 1, 3, ...     69   \n",
              "61   EKGYO.IS  [2, 1, 0, 0, 2, 5, 4, 0, 2, 0, 1, 4, 4, 2, 3, ...     40   \n",
              "62   EKGYO.IS  [1, 3, 4, 5, 4, 2, 0, 5, 0, 1, 2, 5, 3, 4, 2, ...     75   \n",
              "63   EKGYO.IS  [4, 1, 3, 0, 1, 2, 5, 1, 4, 3, 5, 2, 1, 0, 2, ...     40   \n",
              "64   EKGYO.IS  [5, 3, 5, 0, 5, 0, 0, 2, 1, 3, 4, 5, 5, 0, 4, ...     58   \n",
              "65   EKGYO.IS  [1, 2, 0, 3, 4, 1, 4, 5, 0, 4, 3, 1, 3, 3, 2, ...     59   \n",
              "66   EKGYO.IS  [3, 0, 4, 4, 0, 5, 5, 5, 3, 0, 2, 5, 2, 0, 4, ...     42   \n",
              "67   EKGYO.IS  [1, 5, 4, 5, 3, 5, 3, 4, 5, 2, 2, 4, 4, 2, 0, ...     62   \n",
              "68   EKGYO.IS  [2, 3, 1, 2, 4, 1, 2, 0, 1, 3, 4, 5, 2, 4, 0, ...     63   \n",
              "69   EKGYO.IS  [1, 1, 4, 5, 1, 1, 1, 1, 5, 1, 3, 1, 4, 1, 2, ...     43   \n",
              "70   ENKAI.IS  [1, 3, 1, 2, 2, 2, 2, 1, 1, 4, 0, 3, 2, 3, 2, ...     77   \n",
              "71   ENKAI.IS  [1, 2, 5, 5, 5, 3, 5, 1, 3, 2, 5, 1, 3, 4, 3, ...     65   \n",
              "72   ENKAI.IS  [0, 2, 0, 3, 5, 4, 1, 1, 3, 5, 2, 0, 0, 3, 2, ...     64   \n",
              "73   ENKAI.IS  [3, 3, 4, 4, 2, 3, 4, 1, 3, 2, 3, 5, 4, 4, 5, ...     66   \n",
              "74   ENKAI.IS  [4, 5, 3, 1, 5, 5, 1, 5, 1, 1, 2, 5, 5, 2, 5, ...     61   \n",
              "75   ENKAI.IS  [5, 5, 2, 0, 1, 0, 2, 1, 0, 5, 4, 3, 5, 1, 5, ...     71   \n",
              "76   ENKAI.IS  [1, 4, 5, 0, 0, 1, 0, 4, 3, 2, 3, 4, 0, 0, 3, ...     49   \n",
              "77   ENKAI.IS  [5, 1, 2, 0, 3, 2, 1, 5, 1, 3, 0, 4, 2, 5, 1, ...     65   \n",
              "78   ENKAI.IS  [3, 1, 3, 0, 4, 4, 5, 1, 4, 0, 1, 3, 2, 0, 4, ...     58   \n",
              "79   ENKAI.IS  [4, 4, 4, 3, 2, 3, 2, 1, 1, 4, 1, 3, 1, 2, 4, ...     75   \n",
              "80   EREGL.IS  [2, 5, 4, 4, 5, 1, 2, 2, 0, 3, 2, 5, 2, 1, 3, ...     40   \n",
              "81   EREGL.IS  [4, 1, 3, 5, 4, 5, 3, 4, 1, 1, 3, 0, 4, 4, 1, ...     64   \n",
              "82   EREGL.IS  [2, 3, 1, 0, 1, 3, 2, 1, 4, 1, 3, 2, 5, 1, 0, ...     42   \n",
              "83   EREGL.IS  [3, 0, 2, 2, 4, 0, 0, 0, 5, 3, 4, 4, 1, 4, 5, ...     40   \n",
              "84   EREGL.IS  [0, 0, 2, 4, 3, 4, 0, 3, 4, 5, 3, 4, 2, 2, 2, ...     43   \n",
              "85   EREGL.IS  [2, 0, 2, 4, 2, 2, 4, 2, 5, 2, 4, 4, 2, 1, 3, ...     42   \n",
              "86   EREGL.IS  [4, 2, 4, 1, 0, 1, 3, 0, 3, 1, 2, 5, 5, 1, 0, ...     40   \n",
              "87   EREGL.IS  [3, 2, 3, 5, 0, 5, 2, 0, 5, 2, 5, 0, 3, 1, 2, ...     42   \n",
              "88   EREGL.IS  [5, 3, 3, 5, 0, 0, 3, 2, 4, 0, 2, 1, 2, 5, 4, ...     72   \n",
              "89   EREGL.IS  [2, 4, 0, 4, 4, 1, 2, 3, 3, 4, 5, 1, 0, 0, 0, ...     62   \n",
              "90   FROTO.IS  [0, 3, 2, 4, 0, 4, 2, 2, 4, 4, 2, 1, 2, 4, 3, ...     45   \n",
              "91   FROTO.IS  [3, 0, 0, 1, 3, 2, 4, 5, 4, 0, 2, 5, 5, 4, 5, ...     41   \n",
              "92   FROTO.IS  [3, 1, 4, 4, 4, 3, 1, 2, 1, 4, 2, 4, 3, 4, 2, ...     55   \n",
              "93   FROTO.IS  [2, 2, 0, 5, 1, 5, 3, 3, 0, 5, 1, 5, 2, 0, 5, ...     40   \n",
              "94   FROTO.IS  [4, 5, 0, 3, 4, 1, 0, 5, 2, 0, 5, 4, 5, 4, 3, ...     47   \n",
              "95   FROTO.IS  [4, 3, 2, 5, 1, 4, 3, 1, 5, 3, 2, 0, 4, 2, 1, ...     57   \n",
              "96   FROTO.IS  [2, 5, 1, 5, 3, 2, 2, 2, 3, 3, 4, 3, 5, 3, 4, ...     41   \n",
              "97   FROTO.IS  [1, 2, 2, 1, 0, 0, 5, 1, 5, 4, 2, 1, 3, 1, 3, ...     42   \n",
              "98   FROTO.IS  [3, 2, 1, 5, 0, 0, 3, 4, 1, 1, 0, 0, 0, 3, 4, ...     47   \n",
              "99   FROTO.IS  [3, 1, 4, 0, 3, 2, 1, 2, 3, 1, 5, 0, 0, 5, 3, ...     45   \n",
              "100  GARAN.IS  [1, 4, 1, 5, 0, 4, 1, 3, 1, 3, 4, 5, 5, 4, 2, ...     52   \n",
              "101  GARAN.IS  [0, 5, 4, 4, 4, 1, 2, 3, 3, 3, 3, 1, 1, 1, 5, ...     61   \n",
              "102  GARAN.IS  [2, 4, 3, 4, 1, 4, 1, 0, 5, 4, 0, 0, 3, 4, 5, ...     69   \n",
              "103  GARAN.IS  [4, 0, 5, 4, 2, 5, 0, 5, 0, 1, 4, 3, 3, 3, 1, ...     65   \n",
              "104  GARAN.IS  [2, 5, 4, 5, 0, 2, 4, 3, 0, 1, 4, 1, 1, 1, 1, ...     44   \n",
              "105  GARAN.IS  [0, 1, 3, 1, 0, 1, 5, 4, 4, 4, 4, 3, 5, 4, 5, ...     70   \n",
              "106  GARAN.IS  [1, 5, 3, 1, 2, 4, 4, 5, 5, 2, 1, 0, 3, 5, 4, ...     69   \n",
              "107  GARAN.IS  [4, 4, 0, 5, 1, 2, 0, 5, 1, 1, 4, 0, 2, 2, 4, ...     63   \n",
              "108  GARAN.IS  [5, 5, 2, 5, 1, 0, 0, 1, 4, 4, 5, 2, 1, 1, 4, ...     56   \n",
              "109  GARAN.IS  [3, 1, 3, 2, 5, 0, 2, 4, 0, 3, 0, 5, 0, 3, 1, ...     64   \n",
              "110  GUBRF.IS  [5, 5, 4, 0, 5, 4, 3, 0, 4, 5, 3, 5, 0, 0, 0, ...     42   \n",
              "111  GUBRF.IS  [0, 5, 4, 5, 2, 2, 0, 0, 1, 1, 4, 4, 4, 1, 4, ...     48   \n",
              "112  GUBRF.IS  [3, 2, 4, 5, 3, 4, 3, 3, 5, 3, 4, 3, 2, 2, 2, ...     44   \n",
              "113  GUBRF.IS  [1, 1, 5, 4, 4, 2, 5, 4, 1, 5, 3, 3, 4, 0, 4, ...     40   \n",
              "114  GUBRF.IS  [4, 5, 4, 3, 1, 3, 2, 0, 1, 4, 2, 4, 1, 5, 1, ...     47   \n",
              "115  GUBRF.IS  [0, 3, 2, 5, 2, 2, 1, 5, 3, 1, 1, 4, 0, 4, 4, ...     47   \n",
              "116  GUBRF.IS  [0, 0, 0, 1, 2, 0, 3, 2, 5, 3, 4, 2, 1, 1, 2, ...     43   \n",
              "117  GUBRF.IS  [0, 0, 2, 1, 2, 5, 4, 2, 2, 0, 0, 1, 3, 5, 3, ...     53   \n",
              "118  GUBRF.IS  [3, 3, 1, 3, 1, 0, 4, 4, 0, 2, 3, 1, 0, 4, 5, ...     45   \n",
              "119  GUBRF.IS  [0, 2, 1, 3, 0, 4, 5, 3, 5, 2, 4, 1, 4, 2, 2, ...     64   \n",
              "120  HEKTS.IS  [2, 0, 3, 2, 3, 2, 5, 2, 2, 3, 3, 1, 0, 1, 0, ...     73   \n",
              "121  HEKTS.IS  [2, 4, 5, 0, 5, 5, 1, 3, 3, 2, 3, 0, 3, 0, 3, ...     61   \n",
              "122  HEKTS.IS  [0, 5, 2, 2, 5, 1, 3, 1, 4, 4, 4, 3, 2, 1, 0, ...     77   \n",
              "123  HEKTS.IS  [2, 0, 4, 5, 4, 2, 1, 0, 5, 2, 0, 4, 1, 3, 4, ...     73   \n",
              "124  HEKTS.IS  [1, 0, 2, 4, 5, 1, 3, 5, 5, 2, 0, 1, 4, 3, 4, ...     65   \n",
              "125  HEKTS.IS  [1, 5, 2, 3, 4, 4, 1, 5, 3, 2, 4, 5, 3, 0, 0, ...     66   \n",
              "126  HEKTS.IS  [3, 0, 4, 4, 1, 2, 0, 1, 2, 1, 2, 5, 5, 5, 3, ...     71   \n",
              "127  HEKTS.IS  [3, 1, 1, 5, 0, 0, 3, 5, 4, 1, 0, 0, 5, 2, 2, ...     72   \n",
              "128  HEKTS.IS  [3, 4, 1, 5, 5, 1, 3, 2, 1, 1, 4, 2, 2, 0, 5, ...     71   \n",
              "129  HEKTS.IS  [4, 4, 0, 1, 5, 4, 3, 3, 3, 4, 5, 1, 5, 5, 1, ...     73   \n",
              "130  KRDMD.IS  [1, 2, 4, 1, 5, 5, 2, 0, 0, 2, 4, 5, 2, 2, 3, ...     42   \n",
              "131  KRDMD.IS  [2, 5, 0, 1, 3, 5, 1, 1, 3, 0, 0, 4, 3, 5, 3, ...     40   \n",
              "132  KRDMD.IS  [0, 2, 4, 5, 4, 2, 3, 1, 3, 0, 1, 0, 3, 0, 5, ...     52   \n",
              "133  KRDMD.IS  [3, 1, 5, 4, 4, 4, 5, 0, 4, 5, 2, 5, 4, 2, 1, ...     49   \n",
              "134  KRDMD.IS  [1, 4, 1, 0, 1, 5, 2, 3, 1, 2, 3, 5, 4, 4, 2, ...     40   \n",
              "135  KRDMD.IS  [2, 5, 4, 2, 2, 3, 5, 4, 0, 0, 3, 0, 5, 4, 1, ...     70   \n",
              "136  KRDMD.IS  [3, 3, 0, 3, 5, 1, 0, 0, 5, 0, 5, 0, 5, 3, 4, ...     64   \n",
              "137  KRDMD.IS  [2, 5, 1, 5, 3, 4, 5, 0, 3, 5, 2, 5, 2, 4, 2, ...     69   \n",
              "138  KRDMD.IS  [1, 5, 0, 5, 3, 2, 4, 4, 1, 3, 2, 2, 3, 0, 2, ...     49   \n",
              "139  KRDMD.IS  [5, 3, 4, 1, 2, 4, 1, 5, 1, 3, 2, 4, 2, 2, 2, ...     68   \n",
              "140  KCHOL.IS  [2, 2, 2, 4, 1, 0, 5, 1, 0, 2, 2, 5, 5, 0, 3, ...     64   \n",
              "141  KCHOL.IS  [1, 0, 3, 5, 2, 4, 0, 2, 3, 3, 3, 5, 3, 2, 3, ...     69   \n",
              "142  KCHOL.IS  [0, 4, 5, 5, 1, 2, 0, 1, 4, 4, 5, 1, 5, 3, 2, ...     40   \n",
              "143  KCHOL.IS  [1, 3, 5, 4, 5, 0, 2, 1, 4, 0, 0, 5, 0, 4, 5, ...     64   \n",
              "144  KCHOL.IS  [4, 4, 0, 2, 5, 3, 4, 0, 4, 0, 3, 2, 0, 5, 2, ...     49   \n",
              "145  KCHOL.IS  [5, 4, 0, 3, 1, 2, 4, 5, 3, 1, 1, 0, 0, 0, 1, ...     59   \n",
              "146  KCHOL.IS  [3, 5, 1, 3, 4, 4, 2, 1, 1, 0, 2, 5, 3, 4, 4, ...     46   \n",
              "147  KCHOL.IS  [2, 3, 1, 0, 2, 0, 4, 2, 3, 4, 3, 2, 3, 2, 3, ...     51   \n",
              "148  KCHOL.IS  [5, 2, 3, 1, 2, 5, 2, 1, 4, 1, 3, 1, 4, 4, 5, ...     55   \n",
              "149  KCHOL.IS  [1, 5, 0, 5, 1, 0, 3, 3, 5, 5, 0, 0, 1, 0, 3, ...     43   \n",
              "150  KOZAL.IS  [1, 2, 2, 4, 2, 0, 2, 4, 5, 5, 4, 1, 3, 0, 5, ...     63   \n",
              "151  KOZAL.IS  [5, 1, 1, 0, 4, 4, 1, 0, 1, 1, 3, 0, 0, 2, 1, ...     69   \n",
              "152  KOZAL.IS  [4, 1, 5, 2, 4, 2, 5, 1, 0, 2, 4, 0, 4, 3, 5, ...     46   \n",
              "153  KOZAL.IS  [0, 5, 0, 2, 3, 5, 4, 3, 3, 1, 1, 1, 1, 3, 1, ...     42   \n",
              "154  KOZAL.IS  [1, 0, 2, 1, 2, 1, 0, 0, 1, 3, 0, 4, 3, 2, 1, ...     40   \n",
              "155  KOZAL.IS  [2, 1, 5, 4, 1, 5, 0, 0, 3, 1, 1, 3, 1, 4, 1, ...     73   \n",
              "156  KOZAL.IS  [4, 1, 2, 2, 3, 4, 4, 0, 1, 2, 2, 2, 0, 4, 5, ...     40   \n",
              "157  KOZAL.IS  [1, 4, 4, 3, 0, 5, 5, 0, 0, 3, 3, 0, 3, 5, 3, ...     69   \n",
              "158  KOZAL.IS  [0, 1, 5, 5, 5, 2, 5, 4, 3, 4, 3, 3, 4, 4, 2, ...     70   \n",
              "159  KOZAL.IS  [4, 5, 4, 0, 2, 0, 5, 1, 4, 5, 2, 0, 3, 1, 1, ...     76   \n",
              "160  KOZAA.IS  [4, 1, 1, 5, 3, 1, 4, 1, 0, 1, 5, 0, 3, 4, 0, ...     70   \n",
              "161  KOZAA.IS  [5, 5, 3, 4, 5, 0, 3, 3, 4, 3, 5, 1, 1, 2, 5, ...     79   \n",
              "162  KOZAA.IS  [5, 2, 4, 2, 1, 4, 3, 3, 4, 4, 4, 1, 2, 5, 2, ...     70   \n",
              "163  KOZAA.IS  [2, 1, 1, 5, 2, 2, 4, 5, 5, 2, 1, 2, 5, 2, 1, ...     58   \n",
              "164  KOZAA.IS  [3, 1, 2, 3, 4, 4, 4, 4, 5, 2, 0, 0, 2, 1, 3, ...     55   \n",
              "165  KOZAA.IS  [3, 0, 4, 2, 5, 3, 1, 1, 5, 0, 4, 3, 0, 5, 5, ...     53   \n",
              "166  KOZAA.IS  [1, 0, 5, 2, 3, 4, 1, 0, 3, 1, 1, 5, 3, 1, 1, ...     56   \n",
              "167  KOZAA.IS  [5, 3, 5, 1, 5, 2, 1, 1, 2, 5, 4, 5, 5, 2, 0, ...     70   \n",
              "168  KOZAA.IS  [3, 4, 3, 2, 0, 0, 3, 5, 3, 1, 2, 5, 4, 2, 4, ...     78   \n",
              "169  KOZAA.IS  [0, 1, 5, 4, 0, 3, 3, 2, 0, 5, 5, 1, 5, 1, 1, ...     74   \n",
              "170   ODAS.IS  [0, 4, 2, 2, 3, 3, 2, 4, 2, 2, 3, 3, 0, 3, 5, ...     70   \n",
              "171   ODAS.IS  [0, 5, 2, 2, 3, 4, 4, 4, 3, 0, 3, 3, 5, 2, 2, ...     75   \n",
              "172   ODAS.IS  [2, 5, 3, 2, 2, 1, 5, 4, 1, 2, 4, 1, 0, 3, 5, ...     40   \n",
              "173   ODAS.IS  [2, 3, 4, 5, 0, 5, 0, 5, 1, 1, 5, 0, 0, 3, 2, ...     79   \n",
              "174   ODAS.IS  [0, 0, 2, 3, 3, 0, 4, 3, 5, 3, 5, 5, 0, 2, 5, ...     69   \n",
              "175   ODAS.IS  [4, 0, 3, 5, 0, 1, 5, 0, 5, 1, 2, 3, 0, 5, 1, ...     70   \n",
              "176   ODAS.IS  [0, 3, 1, 5, 2, 1, 3, 3, 0, 5, 4, 3, 5, 0, 3, ...     71   \n",
              "177   ODAS.IS  [3, 5, 4, 4, 1, 3, 5, 2, 2, 0, 3, 3, 5, 3, 1, ...     74   \n",
              "178   ODAS.IS  [2, 1, 0, 5, 1, 0, 5, 5, 4, 4, 1, 0, 1, 4, 5, ...     63   \n",
              "179   ODAS.IS  [5, 3, 5, 2, 1, 3, 0, 2, 2, 4, 1, 5, 1, 0, 5, ...     79   \n",
              "180  PGSUS.IS  [2, 4, 0, 3, 3, 0, 5, 2, 0, 4, 0, 2, 2, 3, 4, ...     40   \n",
              "181  PGSUS.IS  [4, 2, 5, 0, 0, 5, 1, 5, 0, 0, 4, 3, 0, 0, 4, ...     40   \n",
              "182  PGSUS.IS  [0, 2, 4, 5, 1, 4, 0, 5, 0, 3, 5, 5, 5, 3, 4, ...     47   \n",
              "183  PGSUS.IS  [2, 4, 5, 4, 4, 4, 3, 3, 0, 0, 2, 4, 2, 2, 4, ...     40   \n",
              "184  PGSUS.IS  [5, 5, 2, 5, 5, 5, 2, 2, 1, 3, 0, 4, 0, 5, 1, ...     40   \n",
              "185  PGSUS.IS  [1, 5, 1, 0, 2, 4, 2, 2, 3, 2, 1, 3, 3, 2, 5, ...     40   \n",
              "186  PGSUS.IS  [5, 3, 0, 1, 4, 5, 5, 2, 3, 4, 2, 0, 2, 4, 2, ...     47   \n",
              "187  PGSUS.IS  [2, 1, 2, 3, 3, 5, 4, 4, 3, 2, 2, 2, 2, 5, 2, ...     41   \n",
              "188  PGSUS.IS  [1, 4, 3, 5, 4, 4, 4, 5, 3, 3, 2, 5, 4, 1, 2, ...     48   \n",
              "189  PGSUS.IS  [2, 0, 5, 0, 0, 1, 0, 2, 0, 5, 3, 3, 4, 3, 4, ...     40   \n",
              "190  SAHOL.IS  [5, 2, 4, 0, 2, 1, 5, 3, 2, 4, 4, 1, 2, 2, 1, ...     72   \n",
              "191  SAHOL.IS  [1, 0, 5, 3, 5, 0, 0, 4, 4, 1, 0, 1, 0, 2, 5, ...     68   \n",
              "192  SAHOL.IS  [2, 5, 4, 0, 5, 1, 2, 5, 3, 4, 5, 4, 0, 0, 2, ...     68   \n",
              "193  SAHOL.IS  [1, 5, 4, 5, 0, 3, 4, 1, 0, 5, 5, 4, 4, 2, 5, ...     62   \n",
              "194  SAHOL.IS  [2, 3, 5, 0, 5, 4, 3, 0, 3, 4, 4, 0, 4, 3, 0, ...     72   \n",
              "195  SAHOL.IS  [1, 4, 0, 4, 1, 4, 2, 5, 2, 4, 3, 2, 3, 3, 1, ...     63   \n",
              "196  SAHOL.IS  [0, 3, 2, 1, 2, 3, 3, 3, 3, 5, 4, 5, 3, 4, 3, ...     57   \n",
              "197  SAHOL.IS  [5, 4, 5, 1, 4, 5, 2, 5, 1, 1, 0, 2, 0, 0, 5, ...     59   \n",
              "198  SAHOL.IS  [5, 1, 5, 0, 3, 1, 0, 0, 5, 1, 2, 3, 0, 1, 0, ...     75   \n",
              "199  SAHOL.IS  [4, 3, 0, 1, 2, 1, 5, 4, 4, 0, 1, 4, 5, 1, 1, ...     56   \n",
              "200   SASA.IS  [1, 2, 4, 2, 2, 3, 5, 4, 4, 1, 3, 0, 5, 3, 1, ...     41   \n",
              "201   SASA.IS  [0, 0, 1, 4, 2, 3, 2, 2, 0, 0, 2, 3, 4, 3, 1, ...     75   \n",
              "202   SASA.IS  [0, 5, 5, 1, 4, 2, 3, 4, 4, 5, 5, 0, 1, 1, 5, ...     44   \n",
              "203   SASA.IS  [0, 3, 5, 3, 1, 3, 1, 0, 2, 4, 5, 2, 3, 4, 4, ...     74   \n",
              "204   SASA.IS  [5, 1, 1, 2, 0, 1, 2, 2, 4, 0, 1, 3, 2, 2, 2, ...     77   \n",
              "205   SASA.IS  [1, 1, 1, 5, 0, 1, 5, 5, 3, 1, 3, 3, 1, 1, 2, ...     43   \n",
              "206   SASA.IS  [1, 0, 0, 1, 4, 1, 1, 5, 1, 5, 0, 3, 2, 4, 1, ...     75   \n",
              "207   SASA.IS  [4, 3, 5, 2, 1, 2, 5, 0, 1, 3, 4, 2, 0, 5, 1, ...     45   \n",
              "208   SASA.IS  [0, 0, 0, 5, 2, 4, 1, 0, 3, 2, 1, 1, 0, 5, 5, ...     70   \n",
              "209   SASA.IS  [3, 1, 5, 2, 2, 5, 0, 0, 4, 1, 3, 5, 3, 2, 5, ...     68   \n",
              "210  PETKM.IS  [0, 2, 1, 5, 4, 2, 4, 0, 5, 2, 0, 3, 1, 0, 5, ...     55   \n",
              "211  PETKM.IS  [0, 2, 2, 5, 0, 5, 3, 5, 3, 1, 0, 4, 5, 3, 5, ...     68   \n",
              "212  PETKM.IS  [0, 5, 2, 5, 0, 4, 2, 2, 0, 2, 5, 5, 0, 5, 0, ...     70   \n",
              "213  PETKM.IS  [4, 2, 2, 0, 0, 3, 4, 0, 1, 2, 5, 5, 2, 5, 2, ...     55   \n",
              "214  PETKM.IS  [4, 3, 0, 4, 4, 4, 3, 4, 3, 5, 2, 1, 1, 4, 4, ...     58   \n",
              "215  PETKM.IS  [2, 2, 5, 5, 3, 0, 3, 1, 0, 1, 2, 2, 0, 1, 4, ...     40   \n",
              "216  PETKM.IS  [2, 0, 3, 3, 2, 1, 3, 1, 1, 4, 3, 0, 2, 3, 4, ...     66   \n",
              "217  PETKM.IS  [5, 3, 3, 5, 5, 2, 1, 2, 2, 5, 0, 0, 5, 3, 4, ...     64   \n",
              "218  PETKM.IS  [2, 2, 3, 2, 0, 0, 5, 4, 4, 5, 4, 1, 4, 4, 4, ...     65   \n",
              "219  PETKM.IS  [1, 4, 3, 3, 0, 1, 0, 2, 5, 3, 0, 0, 4, 2, 3, ...     58   \n",
              "220   SISE.IS  [0, 0, 3, 3, 2, 0, 2, 4, 1, 3, 0, 5, 0, 4, 3, ...     73   \n",
              "221   SISE.IS  [3, 4, 5, 5, 0, 0, 1, 5, 5, 2, 2, 4, 2, 5, 4, ...     79   \n",
              "222   SISE.IS  [4, 2, 4, 1, 1, 4, 4, 5, 0, 2, 2, 3, 2, 0, 3, ...     79   \n",
              "223   SISE.IS  [0, 4, 5, 1, 4, 0, 2, 1, 2, 5, 3, 5, 2, 5, 3, ...     43   \n",
              "224   SISE.IS  [3, 4, 1, 1, 3, 1, 5, 0, 2, 0, 4, 2, 2, 3, 5, ...     43   \n",
              "225   SISE.IS  [5, 0, 5, 0, 1, 0, 1, 3, 3, 0, 4, 3, 5, 5, 0, ...     68   \n",
              "226   SISE.IS  [0, 5, 5, 3, 1, 0, 1, 2, 1, 2, 2, 4, 2, 0, 4, ...     47   \n",
              "227   SISE.IS  [4, 4, 1, 3, 3, 2, 5, 4, 1, 4, 2, 4, 0, 5, 2, ...     44   \n",
              "228   SISE.IS  [2, 0, 5, 1, 0, 3, 2, 3, 2, 1, 3, 5, 2, 3, 2, ...     67   \n",
              "229   SISE.IS  [2, 1, 1, 0, 4, 2, 4, 1, 0, 3, 1, 0, 3, 4, 1, ...     55   \n",
              "230  TAVHL.IS  [5, 5, 3, 5, 2, 0, 5, 0, 1, 1, 3, 4, 3, 5, 0, ...     43   \n",
              "231  TAVHL.IS  [2, 5, 5, 3, 4, 0, 3, 2, 1, 2, 2, 4, 0, 0, 3, ...     44   \n",
              "232  TAVHL.IS  [4, 3, 3, 2, 0, 5, 0, 5, 1, 0, 3, 0, 5, 1, 1, ...     48   \n",
              "233  TAVHL.IS  [2, 5, 0, 0, 1, 4, 3, 1, 4, 2, 4, 0, 4, 3, 5, ...     43   \n",
              "234  TAVHL.IS  [3, 3, 3, 4, 0, 3, 0, 3, 3, 2, 3, 5, 4, 1, 5, ...     40   \n",
              "235  TAVHL.IS  [5, 2, 2, 0, 2, 4, 5, 0, 4, 4, 2, 1, 2, 5, 5, ...     40   \n",
              "236  TAVHL.IS  [3, 2, 2, 5, 0, 3, 0, 5, 3, 3, 4, 3, 1, 4, 4, ...     45   \n",
              "237  TAVHL.IS  [0, 3, 3, 3, 2, 3, 4, 3, 5, 0, 5, 0, 5, 1, 0, ...     42   \n",
              "238  TAVHL.IS  [1, 5, 2, 5, 4, 3, 2, 1, 1, 3, 2, 0, 5, 3, 2, ...     43   \n",
              "239  TAVHL.IS  [2, 3, 1, 0, 1, 2, 2, 5, 3, 2, 4, 0, 5, 3, 1, ...     55   \n",
              "240  THYAO.IS  [5, 2, 3, 3, 4, 1, 2, 3, 5, 1, 3, 3, 3, 5, 2, ...     43   \n",
              "241  THYAO.IS  [5, 3, 3, 2, 4, 3, 0, 5, 1, 2, 1, 2, 2, 2, 5, ...     62   \n",
              "242  THYAO.IS  [1, 2, 0, 1, 1, 2, 4, 4, 1, 5, 5, 0, 4, 2, 1, ...     64   \n",
              "243  THYAO.IS  [1, 4, 4, 2, 0, 2, 2, 1, 4, 2, 4, 5, 1, 4, 4, ...     65   \n",
              "244  THYAO.IS  [1, 3, 4, 3, 0, 5, 1, 2, 5, 4, 1, 3, 2, 2, 3, ...     75   \n",
              "245  THYAO.IS  [5, 1, 2, 2, 2, 0, 0, 2, 1, 0, 4, 3, 0, 1, 3, ...     56   \n",
              "246  THYAO.IS  [3, 0, 3, 2, 4, 0, 5, 4, 1, 2, 1, 5, 2, 4, 1, ...     76   \n",
              "247  THYAO.IS  [4, 3, 3, 4, 1, 5, 4, 0, 2, 4, 5, 4, 1, 1, 1, ...     64   \n",
              "248  THYAO.IS  [4, 0, 3, 3, 5, 0, 0, 1, 1, 3, 4, 5, 0, 1, 0, ...     71   \n",
              "249  THYAO.IS  [2, 1, 1, 2, 1, 5, 2, 4, 0, 4, 4, 1, 2, 2, 1, ...     79   \n",
              "250  TUPRS.IS  [0, 1, 0, 5, 0, 2, 2, 0, 0, 3, 3, 5, 5, 2, 1, ...     46   \n",
              "251  TUPRS.IS  [2, 2, 2, 3, 1, 4, 5, 2, 0, 2, 3, 5, 1, 3, 4, ...     72   \n",
              "252  TUPRS.IS  [2, 4, 2, 0, 0, 1, 1, 0, 0, 4, 5, 5, 3, 2, 4, ...     59   \n",
              "253  TUPRS.IS  [2, 3, 4, 4, 3, 0, 5, 3, 2, 5, 0, 4, 0, 3, 5, ...     60   \n",
              "254  TUPRS.IS  [2, 5, 0, 1, 2, 0, 3, 0, 4, 4, 0, 2, 0, 4, 3, ...     65   \n",
              "255  TUPRS.IS  [2, 3, 1, 4, 1, 3, 0, 4, 4, 5, 4, 2, 0, 3, 1, ...     43   \n",
              "256  TUPRS.IS  [1, 1, 3, 4, 3, 1, 2, 2, 2, 2, 5, 4, 0, 4, 3, ...     55   \n",
              "257  TUPRS.IS  [5, 0, 3, 1, 2, 5, 2, 5, 0, 0, 3, 3, 1, 2, 0, ...     52   \n",
              "258  TUPRS.IS  [1, 0, 1, 0, 2, 4, 2, 5, 3, 0, 5, 0, 3, 0, 4, ...     63   \n",
              "259  TUPRS.IS  [3, 3, 1, 2, 5, 3, 4, 1, 4, 2, 4, 0, 5, 4, 5, ...     67   \n",
              "260  TOASO.IS  [3, 4, 2, 2, 1, 5, 1, 5, 5, 3, 5, 4, 2, 2, 0, ...     67   \n",
              "261  TOASO.IS  [3, 1, 5, 3, 0, 5, 3, 4, 1, 2, 2, 0, 4, 0, 4, ...     46   \n",
              "262  TOASO.IS  [0, 2, 0, 1, 3, 4, 0, 0, 2, 3, 1, 4, 1, 2, 2, ...     48   \n",
              "263  TOASO.IS  [1, 4, 4, 4, 1, 1, 2, 0, 3, 1, 1, 0, 3, 1, 5, ...     51   \n",
              "264  TOASO.IS  [3, 2, 3, 0, 4, 1, 1, 0, 4, 1, 0, 0, 2, 1, 1, ...     50   \n",
              "265  TOASO.IS  [0, 3, 4, 3, 4, 0, 1, 2, 3, 0, 2, 3, 1, 3, 0, ...     46   \n",
              "266  TOASO.IS  [1, 5, 4, 0, 3, 0, 0, 0, 5, 1, 3, 0, 5, 5, 5, ...     44   \n",
              "267  TOASO.IS  [5, 3, 3, 3, 0, 1, 5, 5, 4, 4, 5, 5, 2, 4, 1, ...     40   \n",
              "268  TOASO.IS  [3, 5, 4, 2, 2, 5, 2, 1, 3, 0, 0, 0, 0, 3, 1, ...     45   \n",
              "269  TOASO.IS  [1, 1, 0, 4, 1, 1, 4, 3, 4, 5, 2, 4, 4, 5, 1, ...     40   \n",
              "270  TCELL.IS  [5, 4, 0, 3, 0, 4, 2, 5, 0, 3, 3, 5, 0, 0, 5, ...     42   \n",
              "271  TCELL.IS  [5, 0, 4, 0, 5, 3, 1, 1, 2, 2, 5, 4, 0, 2, 2, ...     70   \n",
              "272  TCELL.IS  [0, 2, 5, 5, 1, 2, 5, 4, 4, 2, 4, 3, 4, 0, 2, ...     58   \n",
              "273  TCELL.IS  [1, 1, 5, 2, 2, 3, 4, 2, 5, 5, 3, 2, 5, 3, 1, ...     64   \n",
              "274  TCELL.IS  [1, 3, 4, 4, 2, 3, 1, 0, 4, 5, 4, 3, 1, 2, 2, ...     72   \n",
              "275  TCELL.IS  [4, 4, 5, 1, 4, 0, 5, 4, 0, 2, 4, 4, 4, 3, 5, ...     68   \n",
              "276  TCELL.IS  [1, 2, 0, 1, 0, 1, 0, 3, 3, 0, 0, 1, 0, 4, 0, ...     50   \n",
              "277  TCELL.IS  [2, 3, 3, 5, 4, 1, 1, 5, 5, 3, 3, 0, 0, 1, 3, ...     76   \n",
              "278  TCELL.IS  [0, 2, 0, 0, 4, 3, 3, 5, 5, 3, 5, 0, 2, 2, 2, ...     66   \n",
              "279  TCELL.IS  [0, 4, 5, 3, 3, 4, 4, 4, 4, 4, 2, 4, 5, 0, 2, ...     62   \n",
              "280  ISCTR.IS  [0, 1, 3, 3, 2, 1, 2, 0, 5, 1, 4, 3, 4, 5, 5, ...     52   \n",
              "281  ISCTR.IS  [0, 5, 2, 0, 5, 2, 5, 2, 3, 3, 5, 0, 1, 1, 0, ...     78   \n",
              "282  ISCTR.IS  [1, 2, 0, 1, 5, 0, 1, 0, 5, 2, 0, 4, 5, 5, 4, ...     52   \n",
              "283  ISCTR.IS  [3, 3, 3, 4, 2, 1, 4, 3, 3, 3, 4, 5, 0, 4, 1, ...     57   \n",
              "284  ISCTR.IS  [3, 1, 0, 4, 5, 2, 1, 5, 4, 4, 0, 5, 4, 2, 0, ...     49   \n",
              "285  ISCTR.IS  [5, 1, 1, 1, 2, 2, 2, 4, 0, 3, 4, 5, 0, 5, 5, ...     64   \n",
              "286  ISCTR.IS  [0, 2, 4, 0, 2, 0, 1, 1, 1, 2, 5, 3, 5, 3, 1, ...     57   \n",
              "287  ISCTR.IS  [0, 3, 4, 4, 2, 2, 4, 3, 1, 3, 4, 1, 2, 2, 1, ...     52   \n",
              "288  ISCTR.IS  [5, 3, 4, 5, 3, 3, 2, 0, 2, 2, 3, 2, 3, 0, 0, ...     45   \n",
              "289  ISCTR.IS  [4, 4, 0, 0, 0, 0, 0, 4, 2, 3, 1, 2, 4, 5, 3, ...     44   \n",
              "290  YKBNK.IS  [1, 4, 1, 0, 4, 2, 5, 2, 4, 5, 1, 4, 1, 2, 5, ...     70   \n",
              "291  YKBNK.IS  [3, 3, 2, 1, 1, 2, 5, 1, 5, 5, 2, 0, 1, 3, 4, ...     72   \n",
              "292  YKBNK.IS  [4, 4, 5, 0, 2, 5, 4, 3, 0, 3, 2, 0, 1, 5, 0, ...     60   \n",
              "293  YKBNK.IS  [3, 0, 4, 4, 4, 0, 0, 5, 1, 2, 1, 1, 4, 1, 3, ...     48   \n",
              "294  YKBNK.IS  [2, 5, 4, 5, 3, 3, 1, 3, 5, 2, 5, 3, 5, 4, 4, ...     55   \n",
              "295  YKBNK.IS  [5, 2, 4, 0, 0, 1, 1, 5, 5, 0, 1, 4, 0, 4, 5, ...     42   \n",
              "296  YKBNK.IS  [0, 3, 4, 1, 3, 3, 2, 3, 0, 0, 1, 3, 2, 3, 2, ...     58   \n",
              "297  YKBNK.IS  [5, 0, 2, 0, 0, 0, 0, 4, 5, 5, 0, 1, 0, 4, 1, ...     67   \n",
              "298  YKBNK.IS  [0, 1, 1, 0, 0, 3, 5, 4, 5, 2, 3, 3, 4, 4, 3, ...     57   \n",
              "299  YKBNK.IS  [1, 3, 5, 1, 1, 3, 1, 4, 3, 5, 0, 0, 5, 5, 1, ...     54   \n",
              "\n",
              "    SELL TH   PROFIT  \n",
              "0        67  3170.91  \n",
              "1        77  3355.63  \n",
              "2        79  3895.96  \n",
              "3        74  3567.95  \n",
              "4        79  4137.25  \n",
              "5        69  3456.12  \n",
              "6        70  3408.70  \n",
              "7        76  6203.90  \n",
              "8        54  4025.90  \n",
              "9        75  2821.04  \n",
              "10       60  6865.65  \n",
              "11       59  6319.77  \n",
              "12       62  5741.36  \n",
              "13       54  5642.50  \n",
              "14       56  6533.41  \n",
              "15       59  5336.01  \n",
              "16       52  5623.60  \n",
              "17       50  4818.51  \n",
              "18       61  5600.13  \n",
              "19       57  6275.44  \n",
              "20       41  6349.03  \n",
              "21       43  5333.74  \n",
              "22       46  7800.33  \n",
              "23       42  5973.21  \n",
              "24       40  6598.46  \n",
              "25       40  6228.60  \n",
              "26       40  6831.83  \n",
              "27       42  9448.69  \n",
              "28       42  6964.86  \n",
              "29       52  5410.15  \n",
              "30       44  2805.62  \n",
              "31       45  3799.98  \n",
              "32       45  3497.31  \n",
              "33       68  3636.91  \n",
              "34       40  3347.99  \n",
              "35       65  3068.85  \n",
              "36       72  3337.77  \n",
              "37       71  2869.74  \n",
              "38       75  3028.03  \n",
              "39       70  3911.98  \n",
              "40       68  3765.42  \n",
              "41       54  2665.38  \n",
              "42       67  3619.53  \n",
              "43       66  3018.25  \n",
              "44       65  3619.71  \n",
              "45       68  2712.08  \n",
              "46       78  3003.03  \n",
              "47       69  3070.61  \n",
              "48       61  3057.94  \n",
              "49       71  2940.40  \n",
              "50       50  1791.03  \n",
              "51       68  2563.44  \n",
              "52       61  2077.39  \n",
              "53       52  1763.12  \n",
              "54       54  1704.65  \n",
              "55       69  1815.19  \n",
              "56       40  1881.08  \n",
              "57       64  2350.69  \n",
              "58       74  1978.73  \n",
              "59       48  1814.67  \n",
              "60       74  5148.94  \n",
              "61       62  4355.50  \n",
              "62       76  4434.43  \n",
              "63       56  5440.42  \n",
              "64       64  5924.19  \n",
              "65       65  4441.40  \n",
              "66       45  4075.15  \n",
              "67       63  4172.00  \n",
              "68       74  4687.07  \n",
              "69       43  5138.39  \n",
              "70       79  1981.33  \n",
              "71       69  2035.16  \n",
              "72       40  2142.81  \n",
              "73       72  2644.99  \n",
              "74       65  1515.34  \n",
              "75       75  2356.78  \n",
              "76       57  2434.81  \n",
              "77       72  2192.45  \n",
              "78       62  1808.81  \n",
              "79       40  1958.78  \n",
              "80       79  1503.03  \n",
              "81       78  1680.41  \n",
              "82       75  1704.34  \n",
              "83       77   779.25  \n",
              "84       79  1461.47  \n",
              "85       73  1244.82  \n",
              "86       79  1308.83  \n",
              "87       75  1538.83  \n",
              "88       76  1478.60  \n",
              "89       79   748.72  \n",
              "90       79  2269.34  \n",
              "91       79  3286.48  \n",
              "92       79  1974.83  \n",
              "93       42  1704.68  \n",
              "94       78  3631.82  \n",
              "95       73  1571.59  \n",
              "96       67  1728.99  \n",
              "97       47  1658.62  \n",
              "98       79  2743.13  \n",
              "99       41  1859.44  \n",
              "100      69  5986.01  \n",
              "101      62  4246.08  \n",
              "102      77  4141.38  \n",
              "103      68  3411.89  \n",
              "104      72  3744.76  \n",
              "105      74  3710.90  \n",
              "106      73  4001.10  \n",
              "107      77  3723.85  \n",
              "108      61  4433.85  \n",
              "109      67  3624.12  \n",
              "110      44  8020.96  \n",
              "111      56  6795.79  \n",
              "112      49  8088.05  \n",
              "113      40  6363.72  \n",
              "114      51  7056.41  \n",
              "115      45  7243.17  \n",
              "116      48  7621.15  \n",
              "117      41  6554.21  \n",
              "118      48  6897.06  \n",
              "119      69  6083.35  \n",
              "120      57 14799.20  \n",
              "121      46 12800.18  \n",
              "122      59 12996.01  \n",
              "123      66 10282.15  \n",
              "124      60 13362.41  \n",
              "125      51 10580.45  \n",
              "126      60 13142.14  \n",
              "127      74 13476.56  \n",
              "128      47 12897.40  \n",
              "129      62 11976.34  \n",
              "130      50  2667.48  \n",
              "131      49  3079.78  \n",
              "132      72  3033.87  \n",
              "133      75  2944.38  \n",
              "134      48  2286.10  \n",
              "135      77  2272.14  \n",
              "136      78  3380.54  \n",
              "137      77  1848.21  \n",
              "138      63  1893.97  \n",
              "139      78  3650.42  \n",
              "140      74  3403.39  \n",
              "141      79  2826.34  \n",
              "142      61  3925.97  \n",
              "143      78  3843.20  \n",
              "144      70  4034.17  \n",
              "145      79  5012.35  \n",
              "146      54  3480.09  \n",
              "147      64  3072.42  \n",
              "148      70  3201.86  \n",
              "149      78  2512.99  \n",
              "150      68  7701.99  \n",
              "151      54  6419.74  \n",
              "152      72  6079.47  \n",
              "153      55  7034.25  \n",
              "154      69  6215.42  \n",
              "155      77  6917.98  \n",
              "156      52  6478.64  \n",
              "157      49  6669.81  \n",
              "158      64  7610.09  \n",
              "159      59  6149.82  \n",
              "160      79  3021.33  \n",
              "161      43  2699.62  \n",
              "162      41  2633.96  \n",
              "163      67  3253.02  \n",
              "164      62  2784.31  \n",
              "165      74  2854.49  \n",
              "166      65  2812.69  \n",
              "167      44  2578.94  \n",
              "168      40  2593.25  \n",
              "169      40  3051.72  \n",
              "170      44 11261.50  \n",
              "171      41 12701.32  \n",
              "172      41  8107.71  \n",
              "173      40 12135.30  \n",
              "174      49 11138.55  \n",
              "175      44 10449.88  \n",
              "176      45 11157.10  \n",
              "177      46  9556.87  \n",
              "178      44 11722.87  \n",
              "179      53  9232.54  \n",
              "180      40  7781.04  \n",
              "181      40  9516.76  \n",
              "182      52  7483.95  \n",
              "183      40  8051.05  \n",
              "184      40  8964.72  \n",
              "185      40  8336.41  \n",
              "186      40  9289.60  \n",
              "187      51  9057.87  \n",
              "188      51  7300.10  \n",
              "189      42  9191.04  \n",
              "190      66  3418.71  \n",
              "191      73  3756.59  \n",
              "192      50  3800.15  \n",
              "193      75  4154.15  \n",
              "194      69  3524.61  \n",
              "195      67  3626.53  \n",
              "196      66  4202.58  \n",
              "197      65  3243.88  \n",
              "198      78  3700.35  \n",
              "199      62  3912.47  \n",
              "200      56  2366.85  \n",
              "201      78  4738.72  \n",
              "202      54  2517.52  \n",
              "203      78  2393.89  \n",
              "204      70  2177.53  \n",
              "205      45  1661.13  \n",
              "206      79  6807.64  \n",
              "207      70  1989.54  \n",
              "208      75  2617.03  \n",
              "209      72  3123.11  \n",
              "210      65  1965.30  \n",
              "211      69  2133.33  \n",
              "212      72  1852.15  \n",
              "213      67  2820.74  \n",
              "214      75  2529.59  \n",
              "215      50  2325.51  \n",
              "216      70  2464.15  \n",
              "217      72  2187.77  \n",
              "218      65  1729.07  \n",
              "219      45  1900.61  \n",
              "220      75  3127.02  \n",
              "221      43  2991.78  \n",
              "222      49  2598.32  \n",
              "223      50  4592.40  \n",
              "224      56  3822.80  \n",
              "225      79  3631.92  \n",
              "226      43  3169.53  \n",
              "227      51  3749.41  \n",
              "228      76  2602.70  \n",
              "229      64  2675.88  \n",
              "230      51  4076.55  \n",
              "231      50  3456.80  \n",
              "232      66  3081.69  \n",
              "233      58  5367.91  \n",
              "234      60  4311.97  \n",
              "235      45  3294.00  \n",
              "236      55  3967.64  \n",
              "237      54  3463.50  \n",
              "238      48  3172.32  \n",
              "239      43  2796.00  \n",
              "240      47  7516.02  \n",
              "241      66  8496.34  \n",
              "242      65  9682.01  \n",
              "243      68  9176.64  \n",
              "244      44  8539.88  \n",
              "245      60  8490.49  \n",
              "246      40  8090.01  \n",
              "247      49  7376.42  \n",
              "248      54  8298.86  \n",
              "249      46  9321.16  \n",
              "250      54  4084.68  \n",
              "251      78  2625.32  \n",
              "252      59  3279.27  \n",
              "253      64  3312.83  \n",
              "254      69  2892.62  \n",
              "255      58  3369.55  \n",
              "256      57  2864.20  \n",
              "257      59  2564.41  \n",
              "258      68  3086.71  \n",
              "259      70  3103.56  \n",
              "260      77  3076.27  \n",
              "261      40  2686.71  \n",
              "262      58  4629.80  \n",
              "263      61  4033.03  \n",
              "264      49  2985.17  \n",
              "265      59  3275.44  \n",
              "266      49  3538.96  \n",
              "267      45  3126.52  \n",
              "268      52  3392.58  \n",
              "269      44  3312.25  \n",
              "270      65  1663.12  \n",
              "271      75  1494.48  \n",
              "272      70  1792.19  \n",
              "273      78  2727.71  \n",
              "274      78  1711.94  \n",
              "275      76  2114.89  \n",
              "276      73  2626.03  \n",
              "277      55  1788.29  \n",
              "278      71  1634.12  \n",
              "279      71  2133.81  \n",
              "280      55  6050.22  \n",
              "281      67  6078.03  \n",
              "282      63  8703.27  \n",
              "283      69  5538.65  \n",
              "284      57  5793.81  \n",
              "285      72  6008.62  \n",
              "286      60  6770.50  \n",
              "287      67  8889.46  \n",
              "288      54  4994.83  \n",
              "289      50  5755.94  \n",
              "290      75  5249.90  \n",
              "291      77  5472.54  \n",
              "292      65  7530.88  \n",
              "293      40  4643.32  \n",
              "294      62  4580.22  \n",
              "295      56  6015.59  \n",
              "296      68  7101.55  \n",
              "297      71  4688.26  \n",
              "298      47  5649.11  \n",
              "299      47  4491.14  "
            ],
            "text/html": [
              "\n",
              "  <div id=\"df-50fc09e8-aa4a-4fea-bd55-3dde54a8dc6b\">\n",
              "    <div class=\"colab-df-container\">\n",
              "      <div>\n",
              "<style scoped>\n",
              "    .dataframe tbody tr th:only-of-type {\n",
              "        vertical-align: middle;\n",
              "    }\n",
              "\n",
              "    .dataframe tbody tr th {\n",
              "        vertical-align: top;\n",
              "    }\n",
              "\n",
              "    .dataframe thead th {\n",
              "        text-align: right;\n",
              "    }\n",
              "</style>\n",
              "<table border=\"1\" class=\"dataframe\">\n",
              "  <thead>\n",
              "    <tr style=\"text-align: right;\">\n",
              "      <th></th>\n",
              "      <th>STOCK</th>\n",
              "      <th>WEIGHTS</th>\n",
              "      <th>BUY TH</th>\n",
              "      <th>SELL TH</th>\n",
              "      <th>PROFIT</th>\n",
              "    </tr>\n",
              "  </thead>\n",
              "  <tbody>\n",
              "    <tr>\n",
              "      <th>0</th>\n",
              "      <td>AKBNK.IS</td>\n",
              "      <td>[5, 4, 2, 3, 3, 0, 1, 5, 4, 2, 5, 5, 0, 4, 5, ...</td>\n",
              "      <td>61</td>\n",
              "      <td>67</td>\n",
              "      <td>3170.91</td>\n",
              "    </tr>\n",
              "    <tr>\n",
              "      <th>1</th>\n",
              "      <td>AKBNK.IS</td>\n",
              "      <td>[3, 2, 0, 2, 4, 0, 3, 4, 5, 1, 3, 5, 5, 1, 2, ...</td>\n",
              "      <td>40</td>\n",
              "      <td>77</td>\n",
              "      <td>3355.63</td>\n",
              "    </tr>\n",
              "    <tr>\n",
              "      <th>2</th>\n",
              "      <td>AKBNK.IS</td>\n",
              "      <td>[1, 0, 1, 1, 5, 5, 4, 2, 4, 5, 5, 1, 5, 4, 0, ...</td>\n",
              "      <td>72</td>\n",
              "      <td>79</td>\n",
              "      <td>3895.96</td>\n",
              "    </tr>\n",
              "    <tr>\n",
              "      <th>3</th>\n",
              "      <td>AKBNK.IS</td>\n",
              "      <td>[2, 5, 3, 4, 1, 2, 0, 0, 1, 2, 4, 5, 0, 2, 3, ...</td>\n",
              "      <td>40</td>\n",
              "      <td>74</td>\n",
              "      <td>3567.95</td>\n",
              "    </tr>\n",
              "    <tr>\n",
              "      <th>4</th>\n",
              "      <td>AKBNK.IS</td>\n",
              "      <td>[5, 4, 2, 2, 0, 3, 2, 3, 1, 1, 0, 4, 5, 3, 0, ...</td>\n",
              "      <td>46</td>\n",
              "      <td>79</td>\n",
              "      <td>4137.25</td>\n",
              "    </tr>\n",
              "    <tr>\n",
              "      <th>5</th>\n",
              "      <td>AKBNK.IS</td>\n",
              "      <td>[3, 2, 2, 1, 0, 5, 3, 5, 2, 2, 3, 3, 1, 3, 4, ...</td>\n",
              "      <td>64</td>\n",
              "      <td>69</td>\n",
              "      <td>3456.12</td>\n",
              "    </tr>\n",
              "    <tr>\n",
              "      <th>6</th>\n",
              "      <td>AKBNK.IS</td>\n",
              "      <td>[1, 0, 3, 3, 2, 1, 3, 2, 5, 2, 2, 1, 3, 3, 1, ...</td>\n",
              "      <td>70</td>\n",
              "      <td>70</td>\n",
              "      <td>3408.70</td>\n",
              "    </tr>\n",
              "    <tr>\n",
              "      <th>7</th>\n",
              "      <td>AKBNK.IS</td>\n",
              "      <td>[3, 0, 1, 5, 3, 2, 1, 3, 0, 4, 3, 2, 2, 0, 3, ...</td>\n",
              "      <td>45</td>\n",
              "      <td>76</td>\n",
              "      <td>6203.90</td>\n",
              "    </tr>\n",
              "    <tr>\n",
              "      <th>8</th>\n",
              "      <td>AKBNK.IS</td>\n",
              "      <td>[2, 5, 1, 4, 2, 2, 4, 3, 4, 5, 4, 1, 3, 1, 4, ...</td>\n",
              "      <td>40</td>\n",
              "      <td>54</td>\n",
              "      <td>4025.90</td>\n",
              "    </tr>\n",
              "    <tr>\n",
              "      <th>9</th>\n",
              "      <td>AKBNK.IS</td>\n",
              "      <td>[5, 5, 5, 1, 4, 5, 1, 2, 2, 3, 2, 3, 1, 1, 2, ...</td>\n",
              "      <td>40</td>\n",
              "      <td>75</td>\n",
              "      <td>2821.04</td>\n",
              "    </tr>\n",
              "    <tr>\n",
              "      <th>10</th>\n",
              "      <td>AKSEN.IS</td>\n",
              "      <td>[5, 0, 1, 0, 1, 2, 0, 3, 4, 0, 3, 2, 5, 3, 0, ...</td>\n",
              "      <td>47</td>\n",
              "      <td>60</td>\n",
              "      <td>6865.65</td>\n",
              "    </tr>\n",
              "    <tr>\n",
              "      <th>11</th>\n",
              "      <td>AKSEN.IS</td>\n",
              "      <td>[5, 4, 0, 3, 1, 3, 3, 3, 0, 0, 1, 2, 4, 2, 5, ...</td>\n",
              "      <td>46</td>\n",
              "      <td>59</td>\n",
              "      <td>6319.77</td>\n",
              "    </tr>\n",
              "    <tr>\n",
              "      <th>12</th>\n",
              "      <td>AKSEN.IS</td>\n",
              "      <td>[2, 1, 1, 4, 5, 5, 5, 3, 5, 3, 5, 2, 5, 3, 1, ...</td>\n",
              "      <td>52</td>\n",
              "      <td>62</td>\n",
              "      <td>5741.36</td>\n",
              "    </tr>\n",
              "    <tr>\n",
              "      <th>13</th>\n",
              "      <td>AKSEN.IS</td>\n",
              "      <td>[5, 0, 0, 2, 3, 1, 5, 5, 2, 3, 3, 2, 2, 2, 1, ...</td>\n",
              "      <td>46</td>\n",
              "      <td>54</td>\n",
              "      <td>5642.50</td>\n",
              "    </tr>\n",
              "    <tr>\n",
              "      <th>14</th>\n",
              "      <td>AKSEN.IS</td>\n",
              "      <td>[4, 4, 2, 3, 4, 0, 1, 1, 2, 3, 4, 2, 4, 5, 3, ...</td>\n",
              "      <td>46</td>\n",
              "      <td>56</td>\n",
              "      <td>6533.41</td>\n",
              "    </tr>\n",
              "    <tr>\n",
              "      <th>15</th>\n",
              "      <td>AKSEN.IS</td>\n",
              "      <td>[1, 2, 4, 0, 3, 3, 2, 3, 0, 1, 0, 4, 2, 0, 1, ...</td>\n",
              "      <td>49</td>\n",
              "      <td>59</td>\n",
              "      <td>5336.01</td>\n",
              "    </tr>\n",
              "    <tr>\n",
              "      <th>16</th>\n",
              "      <td>AKSEN.IS</td>\n",
              "      <td>[3, 2, 4, 3, 0, 4, 1, 2, 4, 5, 0, 4, 4, 3, 2, ...</td>\n",
              "      <td>47</td>\n",
              "      <td>52</td>\n",
              "      <td>5623.60</td>\n",
              "    </tr>\n",
              "    <tr>\n",
              "      <th>17</th>\n",
              "      <td>AKSEN.IS</td>\n",
              "      <td>[1, 4, 1, 0, 0, 3, 5, 0, 3, 3, 4, 5, 1, 0, 1, ...</td>\n",
              "      <td>51</td>\n",
              "      <td>50</td>\n",
              "      <td>4818.51</td>\n",
              "    </tr>\n",
              "    <tr>\n",
              "      <th>18</th>\n",
              "      <td>AKSEN.IS</td>\n",
              "      <td>[0, 5, 1, 3, 1, 1, 5, 4, 0, 4, 0, 2, 1, 2, 1, ...</td>\n",
              "      <td>54</td>\n",
              "      <td>61</td>\n",
              "      <td>5600.13</td>\n",
              "    </tr>\n",
              "    <tr>\n",
              "      <th>19</th>\n",
              "      <td>AKSEN.IS</td>\n",
              "      <td>[1, 0, 1, 0, 4, 0, 5, 4, 3, 1, 1, 0, 2, 1, 5, ...</td>\n",
              "      <td>41</td>\n",
              "      <td>57</td>\n",
              "      <td>6275.44</td>\n",
              "    </tr>\n",
              "    <tr>\n",
              "      <th>20</th>\n",
              "      <td>ALARK.IS</td>\n",
              "      <td>[3, 5, 3, 3, 1, 5, 5, 2, 1, 3, 2, 3, 2, 1, 2, ...</td>\n",
              "      <td>52</td>\n",
              "      <td>41</td>\n",
              "      <td>6349.03</td>\n",
              "    </tr>\n",
              "    <tr>\n",
              "      <th>21</th>\n",
              "      <td>ALARK.IS</td>\n",
              "      <td>[4, 3, 0, 2, 3, 2, 5, 2, 5, 2, 1, 3, 4, 3, 0, ...</td>\n",
              "      <td>70</td>\n",
              "      <td>43</td>\n",
              "      <td>5333.74</td>\n",
              "    </tr>\n",
              "    <tr>\n",
              "      <th>22</th>\n",
              "      <td>ALARK.IS</td>\n",
              "      <td>[2, 3, 4, 1, 2, 4, 0, 1, 2, 2, 3, 2, 2, 5, 0, ...</td>\n",
              "      <td>75</td>\n",
              "      <td>46</td>\n",
              "      <td>7800.33</td>\n",
              "    </tr>\n",
              "    <tr>\n",
              "      <th>23</th>\n",
              "      <td>ALARK.IS</td>\n",
              "      <td>[2, 2, 0, 5, 3, 2, 5, 1, 4, 1, 1, 1, 4, 0, 1, ...</td>\n",
              "      <td>73</td>\n",
              "      <td>42</td>\n",
              "      <td>5973.21</td>\n",
              "    </tr>\n",
              "    <tr>\n",
              "      <th>24</th>\n",
              "      <td>ALARK.IS</td>\n",
              "      <td>[5, 5, 0, 2, 4, 1, 0, 0, 4, 4, 3, 2, 3, 2, 2, ...</td>\n",
              "      <td>76</td>\n",
              "      <td>40</td>\n",
              "      <td>6598.46</td>\n",
              "    </tr>\n",
              "    <tr>\n",
              "      <th>25</th>\n",
              "      <td>ALARK.IS</td>\n",
              "      <td>[1, 0, 0, 0, 5, 2, 1, 2, 4, 2, 1, 4, 5, 4, 5, ...</td>\n",
              "      <td>77</td>\n",
              "      <td>40</td>\n",
              "      <td>6228.60</td>\n",
              "    </tr>\n",
              "    <tr>\n",
              "      <th>26</th>\n",
              "      <td>ALARK.IS</td>\n",
              "      <td>[2, 2, 2, 5, 1, 5, 2, 2, 0, 0, 4, 4, 2, 2, 0, ...</td>\n",
              "      <td>79</td>\n",
              "      <td>40</td>\n",
              "      <td>6831.83</td>\n",
              "    </tr>\n",
              "    <tr>\n",
              "      <th>27</th>\n",
              "      <td>ALARK.IS</td>\n",
              "      <td>[4, 1, 1, 0, 5, 2, 3, 5, 2, 0, 4, 0, 0, 2, 4, ...</td>\n",
              "      <td>74</td>\n",
              "      <td>42</td>\n",
              "      <td>9448.69</td>\n",
              "    </tr>\n",
              "    <tr>\n",
              "      <th>28</th>\n",
              "      <td>ALARK.IS</td>\n",
              "      <td>[3, 4, 0, 2, 1, 1, 2, 5, 5, 0, 1, 0, 2, 2, 5, ...</td>\n",
              "      <td>79</td>\n",
              "      <td>42</td>\n",
              "      <td>6964.86</td>\n",
              "    </tr>\n",
              "    <tr>\n",
              "      <th>29</th>\n",
              "      <td>ALARK.IS</td>\n",
              "      <td>[1, 2, 3, 0, 2, 3, 3, 0, 1, 1, 3, 1, 4, 2, 1, ...</td>\n",
              "      <td>71</td>\n",
              "      <td>52</td>\n",
              "      <td>5410.15</td>\n",
              "    </tr>\n",
              "    <tr>\n",
              "      <th>30</th>\n",
              "      <td>ARCLK.IS</td>\n",
              "      <td>[2, 1, 5, 0, 5, 3, 3, 5, 5, 3, 2, 1, 1, 0, 3, ...</td>\n",
              "      <td>40</td>\n",
              "      <td>44</td>\n",
              "      <td>2805.62</td>\n",
              "    </tr>\n",
              "    <tr>\n",
              "      <th>31</th>\n",
              "      <td>ARCLK.IS</td>\n",
              "      <td>[0, 5, 0, 2, 2, 5, 4, 2, 2, 0, 1, 2, 2, 5, 4, ...</td>\n",
              "      <td>60</td>\n",
              "      <td>45</td>\n",
              "      <td>3799.98</td>\n",
              "    </tr>\n",
              "    <tr>\n",
              "      <th>32</th>\n",
              "      <td>ARCLK.IS</td>\n",
              "      <td>[1, 5, 1, 3, 2, 0, 5, 4, 4, 2, 2, 0, 4, 5, 5, ...</td>\n",
              "      <td>63</td>\n",
              "      <td>45</td>\n",
              "      <td>3497.31</td>\n",
              "    </tr>\n",
              "    <tr>\n",
              "      <th>33</th>\n",
              "      <td>ARCLK.IS</td>\n",
              "      <td>[3, 4, 4, 3, 2, 2, 3, 0, 4, 2, 4, 4, 0, 2, 2, ...</td>\n",
              "      <td>60</td>\n",
              "      <td>68</td>\n",
              "      <td>3636.91</td>\n",
              "    </tr>\n",
              "    <tr>\n",
              "      <th>34</th>\n",
              "      <td>ARCLK.IS</td>\n",
              "      <td>[2, 0, 0, 2, 3, 1, 5, 1, 3, 0, 0, 4, 1, 1, 4, ...</td>\n",
              "      <td>55</td>\n",
              "      <td>40</td>\n",
              "      <td>3347.99</td>\n",
              "    </tr>\n",
              "    <tr>\n",
              "      <th>35</th>\n",
              "      <td>ARCLK.IS</td>\n",
              "      <td>[5, 5, 0, 2, 3, 5, 5, 3, 5, 3, 3, 5, 0, 2, 0, ...</td>\n",
              "      <td>64</td>\n",
              "      <td>65</td>\n",
              "      <td>3068.85</td>\n",
              "    </tr>\n",
              "    <tr>\n",
              "      <th>36</th>\n",
              "      <td>ARCLK.IS</td>\n",
              "      <td>[1, 0, 0, 5, 5, 3, 2, 2, 2, 3, 0, 3, 0, 1, 1, ...</td>\n",
              "      <td>64</td>\n",
              "      <td>72</td>\n",
              "      <td>3337.77</td>\n",
              "    </tr>\n",
              "    <tr>\n",
              "      <th>37</th>\n",
              "      <td>ARCLK.IS</td>\n",
              "      <td>[5, 0, 2, 4, 2, 0, 4, 3, 2, 4, 1, 3, 2, 0, 2, ...</td>\n",
              "      <td>64</td>\n",
              "      <td>71</td>\n",
              "      <td>2869.74</td>\n",
              "    </tr>\n",
              "    <tr>\n",
              "      <th>38</th>\n",
              "      <td>ARCLK.IS</td>\n",
              "      <td>[0, 4, 1, 2, 2, 5, 0, 4, 4, 2, 4, 5, 1, 2, 5, ...</td>\n",
              "      <td>65</td>\n",
              "      <td>75</td>\n",
              "      <td>3028.03</td>\n",
              "    </tr>\n",
              "    <tr>\n",
              "      <th>39</th>\n",
              "      <td>ARCLK.IS</td>\n",
              "      <td>[1, 3, 0, 3, 0, 0, 5, 1, 0, 3, 1, 5, 4, 4, 3, ...</td>\n",
              "      <td>64</td>\n",
              "      <td>70</td>\n",
              "      <td>3911.98</td>\n",
              "    </tr>\n",
              "    <tr>\n",
              "      <th>40</th>\n",
              "      <td>ASELS.IS</td>\n",
              "      <td>[2, 2, 1, 2, 3, 1, 1, 1, 1, 4, 1, 1, 3, 5, 4, ...</td>\n",
              "      <td>66</td>\n",
              "      <td>68</td>\n",
              "      <td>3765.42</td>\n",
              "    </tr>\n",
              "    <tr>\n",
              "      <th>41</th>\n",
              "      <td>ASELS.IS</td>\n",
              "      <td>[3, 3, 4, 2, 5, 2, 5, 1, 2, 0, 0, 1, 0, 3, 2, ...</td>\n",
              "      <td>69</td>\n",
              "      <td>54</td>\n",
              "      <td>2665.38</td>\n",
              "    </tr>\n",
              "    <tr>\n",
              "      <th>42</th>\n",
              "      <td>ASELS.IS</td>\n",
              "      <td>[1, 2, 0, 1, 4, 3, 3, 2, 4, 5, 1, 1, 0, 5, 1, ...</td>\n",
              "      <td>60</td>\n",
              "      <td>67</td>\n",
              "      <td>3619.53</td>\n",
              "    </tr>\n",
              "    <tr>\n",
              "      <th>43</th>\n",
              "      <td>ASELS.IS</td>\n",
              "      <td>[2, 3, 1, 0, 0, 5, 1, 2, 4, 2, 4, 2, 1, 1, 1, ...</td>\n",
              "      <td>47</td>\n",
              "      <td>66</td>\n",
              "      <td>3018.25</td>\n",
              "    </tr>\n",
              "    <tr>\n",
              "      <th>44</th>\n",
              "      <td>ASELS.IS</td>\n",
              "      <td>[5, 5, 3, 4, 3, 4, 3, 2, 4, 2, 1, 0, 1, 1, 4, ...</td>\n",
              "      <td>63</td>\n",
              "      <td>65</td>\n",
              "      <td>3619.71</td>\n",
              "    </tr>\n",
              "    <tr>\n",
              "      <th>45</th>\n",
              "      <td>ASELS.IS</td>\n",
              "      <td>[5, 5, 3, 5, 3, 2, 2, 1, 5, 1, 4, 1, 5, 5, 1, ...</td>\n",
              "      <td>64</td>\n",
              "      <td>68</td>\n",
              "      <td>2712.08</td>\n",
              "    </tr>\n",
              "    <tr>\n",
              "      <th>46</th>\n",
              "      <td>ASELS.IS</td>\n",
              "      <td>[1, 2, 0, 5, 1, 4, 1, 3, 1, 4, 1, 2, 2, 2, 4, ...</td>\n",
              "      <td>75</td>\n",
              "      <td>78</td>\n",
              "      <td>3003.03</td>\n",
              "    </tr>\n",
              "    <tr>\n",
              "      <th>47</th>\n",
              "      <td>ASELS.IS</td>\n",
              "      <td>[0, 2, 1, 2, 1, 2, 5, 5, 0, 5, 2, 4, 1, 0, 3, ...</td>\n",
              "      <td>66</td>\n",
              "      <td>69</td>\n",
              "      <td>3070.61</td>\n",
              "    </tr>\n",
              "    <tr>\n",
              "      <th>48</th>\n",
              "      <td>ASELS.IS</td>\n",
              "      <td>[4, 2, 4, 4, 1, 0, 1, 4, 5, 2, 5, 4, 4, 4, 1, ...</td>\n",
              "      <td>57</td>\n",
              "      <td>61</td>\n",
              "      <td>3057.94</td>\n",
              "    </tr>\n",
              "    <tr>\n",
              "      <th>49</th>\n",
              "      <td>ASELS.IS</td>\n",
              "      <td>[2, 5, 0, 0, 0, 1, 3, 2, 2, 2, 2, 1, 2, 0, 4, ...</td>\n",
              "      <td>67</td>\n",
              "      <td>71</td>\n",
              "      <td>2940.40</td>\n",
              "    </tr>\n",
              "    <tr>\n",
              "      <th>50</th>\n",
              "      <td>BIMAS.IS</td>\n",
              "      <td>[3, 0, 3, 2, 3, 2, 2, 1, 2, 2, 0, 1, 1, 0, 1, ...</td>\n",
              "      <td>61</td>\n",
              "      <td>50</td>\n",
              "      <td>1791.03</td>\n",
              "    </tr>\n",
              "    <tr>\n",
              "      <th>51</th>\n",
              "      <td>BIMAS.IS</td>\n",
              "      <td>[0, 1, 1, 2, 5, 2, 1, 4, 0, 5, 5, 5, 5, 4, 3, ...</td>\n",
              "      <td>65</td>\n",
              "      <td>68</td>\n",
              "      <td>2563.44</td>\n",
              "    </tr>\n",
              "    <tr>\n",
              "      <th>52</th>\n",
              "      <td>BIMAS.IS</td>\n",
              "      <td>[2, 4, 3, 4, 3, 5, 1, 5, 2, 3, 1, 1, 4, 1, 1, ...</td>\n",
              "      <td>53</td>\n",
              "      <td>61</td>\n",
              "      <td>2077.39</td>\n",
              "    </tr>\n",
              "    <tr>\n",
              "      <th>53</th>\n",
              "      <td>BIMAS.IS</td>\n",
              "      <td>[3, 1, 1, 5, 3, 0, 2, 4, 1, 2, 0, 1, 2, 0, 2, ...</td>\n",
              "      <td>48</td>\n",
              "      <td>52</td>\n",
              "      <td>1763.12</td>\n",
              "    </tr>\n",
              "    <tr>\n",
              "      <th>54</th>\n",
              "      <td>BIMAS.IS</td>\n",
              "      <td>[1, 1, 3, 2, 2, 4, 0, 4, 3, 3, 1, 2, 0, 4, 3, ...</td>\n",
              "      <td>46</td>\n",
              "      <td>54</td>\n",
              "      <td>1704.65</td>\n",
              "    </tr>\n",
              "    <tr>\n",
              "      <th>55</th>\n",
              "      <td>BIMAS.IS</td>\n",
              "      <td>[1, 4, 4, 2, 5, 3, 2, 3, 2, 2, 4, 3, 3, 5, 3, ...</td>\n",
              "      <td>41</td>\n",
              "      <td>69</td>\n",
              "      <td>1815.19</td>\n",
              "    </tr>\n",
              "    <tr>\n",
              "      <th>56</th>\n",
              "      <td>BIMAS.IS</td>\n",
              "      <td>[5, 3, 2, 3, 4, 4, 0, 2, 4, 2, 1, 1, 1, 2, 1, ...</td>\n",
              "      <td>60</td>\n",
              "      <td>40</td>\n",
              "      <td>1881.08</td>\n",
              "    </tr>\n",
              "    <tr>\n",
              "      <th>57</th>\n",
              "      <td>BIMAS.IS</td>\n",
              "      <td>[4, 1, 0, 3, 3, 3, 5, 4, 1, 3, 4, 0, 4, 4, 2, ...</td>\n",
              "      <td>57</td>\n",
              "      <td>64</td>\n",
              "      <td>2350.69</td>\n",
              "    </tr>\n",
              "    <tr>\n",
              "      <th>58</th>\n",
              "      <td>BIMAS.IS</td>\n",
              "      <td>[4, 0, 5, 3, 2, 1, 4, 4, 4, 3, 5, 1, 0, 0, 4, ...</td>\n",
              "      <td>68</td>\n",
              "      <td>74</td>\n",
              "      <td>1978.73</td>\n",
              "    </tr>\n",
              "    <tr>\n",
              "      <th>59</th>\n",
              "      <td>BIMAS.IS</td>\n",
              "      <td>[1, 3, 5, 2, 5, 2, 4, 1, 4, 1, 4, 3, 1, 1, 1, ...</td>\n",
              "      <td>40</td>\n",
              "      <td>48</td>\n",
              "      <td>1814.67</td>\n",
              "    </tr>\n",
              "    <tr>\n",
              "      <th>60</th>\n",
              "      <td>EKGYO.IS</td>\n",
              "      <td>[4, 3, 5, 5, 1, 3, 4, 0, 4, 2, 4, 1, 4, 1, 3, ...</td>\n",
              "      <td>69</td>\n",
              "      <td>74</td>\n",
              "      <td>5148.94</td>\n",
              "    </tr>\n",
              "    <tr>\n",
              "      <th>61</th>\n",
              "      <td>EKGYO.IS</td>\n",
              "      <td>[2, 1, 0, 0, 2, 5, 4, 0, 2, 0, 1, 4, 4, 2, 3, ...</td>\n",
              "      <td>40</td>\n",
              "      <td>62</td>\n",
              "      <td>4355.50</td>\n",
              "    </tr>\n",
              "    <tr>\n",
              "      <th>62</th>\n",
              "      <td>EKGYO.IS</td>\n",
              "      <td>[1, 3, 4, 5, 4, 2, 0, 5, 0, 1, 2, 5, 3, 4, 2, ...</td>\n",
              "      <td>75</td>\n",
              "      <td>76</td>\n",
              "      <td>4434.43</td>\n",
              "    </tr>\n",
              "    <tr>\n",
              "      <th>63</th>\n",
              "      <td>EKGYO.IS</td>\n",
              "      <td>[4, 1, 3, 0, 1, 2, 5, 1, 4, 3, 5, 2, 1, 0, 2, ...</td>\n",
              "      <td>40</td>\n",
              "      <td>56</td>\n",
              "      <td>5440.42</td>\n",
              "    </tr>\n",
              "    <tr>\n",
              "      <th>64</th>\n",
              "      <td>EKGYO.IS</td>\n",
              "      <td>[5, 3, 5, 0, 5, 0, 0, 2, 1, 3, 4, 5, 5, 0, 4, ...</td>\n",
              "      <td>58</td>\n",
              "      <td>64</td>\n",
              "      <td>5924.19</td>\n",
              "    </tr>\n",
              "    <tr>\n",
              "      <th>65</th>\n",
              "      <td>EKGYO.IS</td>\n",
              "      <td>[1, 2, 0, 3, 4, 1, 4, 5, 0, 4, 3, 1, 3, 3, 2, ...</td>\n",
              "      <td>59</td>\n",
              "      <td>65</td>\n",
              "      <td>4441.40</td>\n",
              "    </tr>\n",
              "    <tr>\n",
              "      <th>66</th>\n",
              "      <td>EKGYO.IS</td>\n",
              "      <td>[3, 0, 4, 4, 0, 5, 5, 5, 3, 0, 2, 5, 2, 0, 4, ...</td>\n",
              "      <td>42</td>\n",
              "      <td>45</td>\n",
              "      <td>4075.15</td>\n",
              "    </tr>\n",
              "    <tr>\n",
              "      <th>67</th>\n",
              "      <td>EKGYO.IS</td>\n",
              "      <td>[1, 5, 4, 5, 3, 5, 3, 4, 5, 2, 2, 4, 4, 2, 0, ...</td>\n",
              "      <td>62</td>\n",
              "      <td>63</td>\n",
              "      <td>4172.00</td>\n",
              "    </tr>\n",
              "    <tr>\n",
              "      <th>68</th>\n",
              "      <td>EKGYO.IS</td>\n",
              "      <td>[2, 3, 1, 2, 4, 1, 2, 0, 1, 3, 4, 5, 2, 4, 0, ...</td>\n",
              "      <td>63</td>\n",
              "      <td>74</td>\n",
              "      <td>4687.07</td>\n",
              "    </tr>\n",
              "    <tr>\n",
              "      <th>69</th>\n",
              "      <td>EKGYO.IS</td>\n",
              "      <td>[1, 1, 4, 5, 1, 1, 1, 1, 5, 1, 3, 1, 4, 1, 2, ...</td>\n",
              "      <td>43</td>\n",
              "      <td>43</td>\n",
              "      <td>5138.39</td>\n",
              "    </tr>\n",
              "    <tr>\n",
              "      <th>70</th>\n",
              "      <td>ENKAI.IS</td>\n",
              "      <td>[1, 3, 1, 2, 2, 2, 2, 1, 1, 4, 0, 3, 2, 3, 2, ...</td>\n",
              "      <td>77</td>\n",
              "      <td>79</td>\n",
              "      <td>1981.33</td>\n",
              "    </tr>\n",
              "    <tr>\n",
              "      <th>71</th>\n",
              "      <td>ENKAI.IS</td>\n",
              "      <td>[1, 2, 5, 5, 5, 3, 5, 1, 3, 2, 5, 1, 3, 4, 3, ...</td>\n",
              "      <td>65</td>\n",
              "      <td>69</td>\n",
              "      <td>2035.16</td>\n",
              "    </tr>\n",
              "    <tr>\n",
              "      <th>72</th>\n",
              "      <td>ENKAI.IS</td>\n",
              "      <td>[0, 2, 0, 3, 5, 4, 1, 1, 3, 5, 2, 0, 0, 3, 2, ...</td>\n",
              "      <td>64</td>\n",
              "      <td>40</td>\n",
              "      <td>2142.81</td>\n",
              "    </tr>\n",
              "    <tr>\n",
              "      <th>73</th>\n",
              "      <td>ENKAI.IS</td>\n",
              "      <td>[3, 3, 4, 4, 2, 3, 4, 1, 3, 2, 3, 5, 4, 4, 5, ...</td>\n",
              "      <td>66</td>\n",
              "      <td>72</td>\n",
              "      <td>2644.99</td>\n",
              "    </tr>\n",
              "    <tr>\n",
              "      <th>74</th>\n",
              "      <td>ENKAI.IS</td>\n",
              "      <td>[4, 5, 3, 1, 5, 5, 1, 5, 1, 1, 2, 5, 5, 2, 5, ...</td>\n",
              "      <td>61</td>\n",
              "      <td>65</td>\n",
              "      <td>1515.34</td>\n",
              "    </tr>\n",
              "    <tr>\n",
              "      <th>75</th>\n",
              "      <td>ENKAI.IS</td>\n",
              "      <td>[5, 5, 2, 0, 1, 0, 2, 1, 0, 5, 4, 3, 5, 1, 5, ...</td>\n",
              "      <td>71</td>\n",
              "      <td>75</td>\n",
              "      <td>2356.78</td>\n",
              "    </tr>\n",
              "    <tr>\n",
              "      <th>76</th>\n",
              "      <td>ENKAI.IS</td>\n",
              "      <td>[1, 4, 5, 0, 0, 1, 0, 4, 3, 2, 3, 4, 0, 0, 3, ...</td>\n",
              "      <td>49</td>\n",
              "      <td>57</td>\n",
              "      <td>2434.81</td>\n",
              "    </tr>\n",
              "    <tr>\n",
              "      <th>77</th>\n",
              "      <td>ENKAI.IS</td>\n",
              "      <td>[5, 1, 2, 0, 3, 2, 1, 5, 1, 3, 0, 4, 2, 5, 1, ...</td>\n",
              "      <td>65</td>\n",
              "      <td>72</td>\n",
              "      <td>2192.45</td>\n",
              "    </tr>\n",
              "    <tr>\n",
              "      <th>78</th>\n",
              "      <td>ENKAI.IS</td>\n",
              "      <td>[3, 1, 3, 0, 4, 4, 5, 1, 4, 0, 1, 3, 2, 0, 4, ...</td>\n",
              "      <td>58</td>\n",
              "      <td>62</td>\n",
              "      <td>1808.81</td>\n",
              "    </tr>\n",
              "    <tr>\n",
              "      <th>79</th>\n",
              "      <td>ENKAI.IS</td>\n",
              "      <td>[4, 4, 4, 3, 2, 3, 2, 1, 1, 4, 1, 3, 1, 2, 4, ...</td>\n",
              "      <td>75</td>\n",
              "      <td>40</td>\n",
              "      <td>1958.78</td>\n",
              "    </tr>\n",
              "    <tr>\n",
              "      <th>80</th>\n",
              "      <td>EREGL.IS</td>\n",
              "      <td>[2, 5, 4, 4, 5, 1, 2, 2, 0, 3, 2, 5, 2, 1, 3, ...</td>\n",
              "      <td>40</td>\n",
              "      <td>79</td>\n",
              "      <td>1503.03</td>\n",
              "    </tr>\n",
              "    <tr>\n",
              "      <th>81</th>\n",
              "      <td>EREGL.IS</td>\n",
              "      <td>[4, 1, 3, 5, 4, 5, 3, 4, 1, 1, 3, 0, 4, 4, 1, ...</td>\n",
              "      <td>64</td>\n",
              "      <td>78</td>\n",
              "      <td>1680.41</td>\n",
              "    </tr>\n",
              "    <tr>\n",
              "      <th>82</th>\n",
              "      <td>EREGL.IS</td>\n",
              "      <td>[2, 3, 1, 0, 1, 3, 2, 1, 4, 1, 3, 2, 5, 1, 0, ...</td>\n",
              "      <td>42</td>\n",
              "      <td>75</td>\n",
              "      <td>1704.34</td>\n",
              "    </tr>\n",
              "    <tr>\n",
              "      <th>83</th>\n",
              "      <td>EREGL.IS</td>\n",
              "      <td>[3, 0, 2, 2, 4, 0, 0, 0, 5, 3, 4, 4, 1, 4, 5, ...</td>\n",
              "      <td>40</td>\n",
              "      <td>77</td>\n",
              "      <td>779.25</td>\n",
              "    </tr>\n",
              "    <tr>\n",
              "      <th>84</th>\n",
              "      <td>EREGL.IS</td>\n",
              "      <td>[0, 0, 2, 4, 3, 4, 0, 3, 4, 5, 3, 4, 2, 2, 2, ...</td>\n",
              "      <td>43</td>\n",
              "      <td>79</td>\n",
              "      <td>1461.47</td>\n",
              "    </tr>\n",
              "    <tr>\n",
              "      <th>85</th>\n",
              "      <td>EREGL.IS</td>\n",
              "      <td>[2, 0, 2, 4, 2, 2, 4, 2, 5, 2, 4, 4, 2, 1, 3, ...</td>\n",
              "      <td>42</td>\n",
              "      <td>73</td>\n",
              "      <td>1244.82</td>\n",
              "    </tr>\n",
              "    <tr>\n",
              "      <th>86</th>\n",
              "      <td>EREGL.IS</td>\n",
              "      <td>[4, 2, 4, 1, 0, 1, 3, 0, 3, 1, 2, 5, 5, 1, 0, ...</td>\n",
              "      <td>40</td>\n",
              "      <td>79</td>\n",
              "      <td>1308.83</td>\n",
              "    </tr>\n",
              "    <tr>\n",
              "      <th>87</th>\n",
              "      <td>EREGL.IS</td>\n",
              "      <td>[3, 2, 3, 5, 0, 5, 2, 0, 5, 2, 5, 0, 3, 1, 2, ...</td>\n",
              "      <td>42</td>\n",
              "      <td>75</td>\n",
              "      <td>1538.83</td>\n",
              "    </tr>\n",
              "    <tr>\n",
              "      <th>88</th>\n",
              "      <td>EREGL.IS</td>\n",
              "      <td>[5, 3, 3, 5, 0, 0, 3, 2, 4, 0, 2, 1, 2, 5, 4, ...</td>\n",
              "      <td>72</td>\n",
              "      <td>76</td>\n",
              "      <td>1478.60</td>\n",
              "    </tr>\n",
              "    <tr>\n",
              "      <th>89</th>\n",
              "      <td>EREGL.IS</td>\n",
              "      <td>[2, 4, 0, 4, 4, 1, 2, 3, 3, 4, 5, 1, 0, 0, 0, ...</td>\n",
              "      <td>62</td>\n",
              "      <td>79</td>\n",
              "      <td>748.72</td>\n",
              "    </tr>\n",
              "    <tr>\n",
              "      <th>90</th>\n",
              "      <td>FROTO.IS</td>\n",
              "      <td>[0, 3, 2, 4, 0, 4, 2, 2, 4, 4, 2, 1, 2, 4, 3, ...</td>\n",
              "      <td>45</td>\n",
              "      <td>79</td>\n",
              "      <td>2269.34</td>\n",
              "    </tr>\n",
              "    <tr>\n",
              "      <th>91</th>\n",
              "      <td>FROTO.IS</td>\n",
              "      <td>[3, 0, 0, 1, 3, 2, 4, 5, 4, 0, 2, 5, 5, 4, 5, ...</td>\n",
              "      <td>41</td>\n",
              "      <td>79</td>\n",
              "      <td>3286.48</td>\n",
              "    </tr>\n",
              "    <tr>\n",
              "      <th>92</th>\n",
              "      <td>FROTO.IS</td>\n",
              "      <td>[3, 1, 4, 4, 4, 3, 1, 2, 1, 4, 2, 4, 3, 4, 2, ...</td>\n",
              "      <td>55</td>\n",
              "      <td>79</td>\n",
              "      <td>1974.83</td>\n",
              "    </tr>\n",
              "    <tr>\n",
              "      <th>93</th>\n",
              "      <td>FROTO.IS</td>\n",
              "      <td>[2, 2, 0, 5, 1, 5, 3, 3, 0, 5, 1, 5, 2, 0, 5, ...</td>\n",
              "      <td>40</td>\n",
              "      <td>42</td>\n",
              "      <td>1704.68</td>\n",
              "    </tr>\n",
              "    <tr>\n",
              "      <th>94</th>\n",
              "      <td>FROTO.IS</td>\n",
              "      <td>[4, 5, 0, 3, 4, 1, 0, 5, 2, 0, 5, 4, 5, 4, 3, ...</td>\n",
              "      <td>47</td>\n",
              "      <td>78</td>\n",
              "      <td>3631.82</td>\n",
              "    </tr>\n",
              "    <tr>\n",
              "      <th>95</th>\n",
              "      <td>FROTO.IS</td>\n",
              "      <td>[4, 3, 2, 5, 1, 4, 3, 1, 5, 3, 2, 0, 4, 2, 1, ...</td>\n",
              "      <td>57</td>\n",
              "      <td>73</td>\n",
              "      <td>1571.59</td>\n",
              "    </tr>\n",
              "    <tr>\n",
              "      <th>96</th>\n",
              "      <td>FROTO.IS</td>\n",
              "      <td>[2, 5, 1, 5, 3, 2, 2, 2, 3, 3, 4, 3, 5, 3, 4, ...</td>\n",
              "      <td>41</td>\n",
              "      <td>67</td>\n",
              "      <td>1728.99</td>\n",
              "    </tr>\n",
              "    <tr>\n",
              "      <th>97</th>\n",
              "      <td>FROTO.IS</td>\n",
              "      <td>[1, 2, 2, 1, 0, 0, 5, 1, 5, 4, 2, 1, 3, 1, 3, ...</td>\n",
              "      <td>42</td>\n",
              "      <td>47</td>\n",
              "      <td>1658.62</td>\n",
              "    </tr>\n",
              "    <tr>\n",
              "      <th>98</th>\n",
              "      <td>FROTO.IS</td>\n",
              "      <td>[3, 2, 1, 5, 0, 0, 3, 4, 1, 1, 0, 0, 0, 3, 4, ...</td>\n",
              "      <td>47</td>\n",
              "      <td>79</td>\n",
              "      <td>2743.13</td>\n",
              "    </tr>\n",
              "    <tr>\n",
              "      <th>99</th>\n",
              "      <td>FROTO.IS</td>\n",
              "      <td>[3, 1, 4, 0, 3, 2, 1, 2, 3, 1, 5, 0, 0, 5, 3, ...</td>\n",
              "      <td>45</td>\n",
              "      <td>41</td>\n",
              "      <td>1859.44</td>\n",
              "    </tr>\n",
              "    <tr>\n",
              "      <th>100</th>\n",
              "      <td>GARAN.IS</td>\n",
              "      <td>[1, 4, 1, 5, 0, 4, 1, 3, 1, 3, 4, 5, 5, 4, 2, ...</td>\n",
              "      <td>52</td>\n",
              "      <td>69</td>\n",
              "      <td>5986.01</td>\n",
              "    </tr>\n",
              "    <tr>\n",
              "      <th>101</th>\n",
              "      <td>GARAN.IS</td>\n",
              "      <td>[0, 5, 4, 4, 4, 1, 2, 3, 3, 3, 3, 1, 1, 1, 5, ...</td>\n",
              "      <td>61</td>\n",
              "      <td>62</td>\n",
              "      <td>4246.08</td>\n",
              "    </tr>\n",
              "    <tr>\n",
              "      <th>102</th>\n",
              "      <td>GARAN.IS</td>\n",
              "      <td>[2, 4, 3, 4, 1, 4, 1, 0, 5, 4, 0, 0, 3, 4, 5, ...</td>\n",
              "      <td>69</td>\n",
              "      <td>77</td>\n",
              "      <td>4141.38</td>\n",
              "    </tr>\n",
              "    <tr>\n",
              "      <th>103</th>\n",
              "      <td>GARAN.IS</td>\n",
              "      <td>[4, 0, 5, 4, 2, 5, 0, 5, 0, 1, 4, 3, 3, 3, 1, ...</td>\n",
              "      <td>65</td>\n",
              "      <td>68</td>\n",
              "      <td>3411.89</td>\n",
              "    </tr>\n",
              "    <tr>\n",
              "      <th>104</th>\n",
              "      <td>GARAN.IS</td>\n",
              "      <td>[2, 5, 4, 5, 0, 2, 4, 3, 0, 1, 4, 1, 1, 1, 1, ...</td>\n",
              "      <td>44</td>\n",
              "      <td>72</td>\n",
              "      <td>3744.76</td>\n",
              "    </tr>\n",
              "    <tr>\n",
              "      <th>105</th>\n",
              "      <td>GARAN.IS</td>\n",
              "      <td>[0, 1, 3, 1, 0, 1, 5, 4, 4, 4, 4, 3, 5, 4, 5, ...</td>\n",
              "      <td>70</td>\n",
              "      <td>74</td>\n",
              "      <td>3710.90</td>\n",
              "    </tr>\n",
              "    <tr>\n",
              "      <th>106</th>\n",
              "      <td>GARAN.IS</td>\n",
              "      <td>[1, 5, 3, 1, 2, 4, 4, 5, 5, 2, 1, 0, 3, 5, 4, ...</td>\n",
              "      <td>69</td>\n",
              "      <td>73</td>\n",
              "      <td>4001.10</td>\n",
              "    </tr>\n",
              "    <tr>\n",
              "      <th>107</th>\n",
              "      <td>GARAN.IS</td>\n",
              "      <td>[4, 4, 0, 5, 1, 2, 0, 5, 1, 1, 4, 0, 2, 2, 4, ...</td>\n",
              "      <td>63</td>\n",
              "      <td>77</td>\n",
              "      <td>3723.85</td>\n",
              "    </tr>\n",
              "    <tr>\n",
              "      <th>108</th>\n",
              "      <td>GARAN.IS</td>\n",
              "      <td>[5, 5, 2, 5, 1, 0, 0, 1, 4, 4, 5, 2, 1, 1, 4, ...</td>\n",
              "      <td>56</td>\n",
              "      <td>61</td>\n",
              "      <td>4433.85</td>\n",
              "    </tr>\n",
              "    <tr>\n",
              "      <th>109</th>\n",
              "      <td>GARAN.IS</td>\n",
              "      <td>[3, 1, 3, 2, 5, 0, 2, 4, 0, 3, 0, 5, 0, 3, 1, ...</td>\n",
              "      <td>64</td>\n",
              "      <td>67</td>\n",
              "      <td>3624.12</td>\n",
              "    </tr>\n",
              "    <tr>\n",
              "      <th>110</th>\n",
              "      <td>GUBRF.IS</td>\n",
              "      <td>[5, 5, 4, 0, 5, 4, 3, 0, 4, 5, 3, 5, 0, 0, 0, ...</td>\n",
              "      <td>42</td>\n",
              "      <td>44</td>\n",
              "      <td>8020.96</td>\n",
              "    </tr>\n",
              "    <tr>\n",
              "      <th>111</th>\n",
              "      <td>GUBRF.IS</td>\n",
              "      <td>[0, 5, 4, 5, 2, 2, 0, 0, 1, 1, 4, 4, 4, 1, 4, ...</td>\n",
              "      <td>48</td>\n",
              "      <td>56</td>\n",
              "      <td>6795.79</td>\n",
              "    </tr>\n",
              "    <tr>\n",
              "      <th>112</th>\n",
              "      <td>GUBRF.IS</td>\n",
              "      <td>[3, 2, 4, 5, 3, 4, 3, 3, 5, 3, 4, 3, 2, 2, 2, ...</td>\n",
              "      <td>44</td>\n",
              "      <td>49</td>\n",
              "      <td>8088.05</td>\n",
              "    </tr>\n",
              "    <tr>\n",
              "      <th>113</th>\n",
              "      <td>GUBRF.IS</td>\n",
              "      <td>[1, 1, 5, 4, 4, 2, 5, 4, 1, 5, 3, 3, 4, 0, 4, ...</td>\n",
              "      <td>40</td>\n",
              "      <td>40</td>\n",
              "      <td>6363.72</td>\n",
              "    </tr>\n",
              "    <tr>\n",
              "      <th>114</th>\n",
              "      <td>GUBRF.IS</td>\n",
              "      <td>[4, 5, 4, 3, 1, 3, 2, 0, 1, 4, 2, 4, 1, 5, 1, ...</td>\n",
              "      <td>47</td>\n",
              "      <td>51</td>\n",
              "      <td>7056.41</td>\n",
              "    </tr>\n",
              "    <tr>\n",
              "      <th>115</th>\n",
              "      <td>GUBRF.IS</td>\n",
              "      <td>[0, 3, 2, 5, 2, 2, 1, 5, 3, 1, 1, 4, 0, 4, 4, ...</td>\n",
              "      <td>47</td>\n",
              "      <td>45</td>\n",
              "      <td>7243.17</td>\n",
              "    </tr>\n",
              "    <tr>\n",
              "      <th>116</th>\n",
              "      <td>GUBRF.IS</td>\n",
              "      <td>[0, 0, 0, 1, 2, 0, 3, 2, 5, 3, 4, 2, 1, 1, 2, ...</td>\n",
              "      <td>43</td>\n",
              "      <td>48</td>\n",
              "      <td>7621.15</td>\n",
              "    </tr>\n",
              "    <tr>\n",
              "      <th>117</th>\n",
              "      <td>GUBRF.IS</td>\n",
              "      <td>[0, 0, 2, 1, 2, 5, 4, 2, 2, 0, 0, 1, 3, 5, 3, ...</td>\n",
              "      <td>53</td>\n",
              "      <td>41</td>\n",
              "      <td>6554.21</td>\n",
              "    </tr>\n",
              "    <tr>\n",
              "      <th>118</th>\n",
              "      <td>GUBRF.IS</td>\n",
              "      <td>[3, 3, 1, 3, 1, 0, 4, 4, 0, 2, 3, 1, 0, 4, 5, ...</td>\n",
              "      <td>45</td>\n",
              "      <td>48</td>\n",
              "      <td>6897.06</td>\n",
              "    </tr>\n",
              "    <tr>\n",
              "      <th>119</th>\n",
              "      <td>GUBRF.IS</td>\n",
              "      <td>[0, 2, 1, 3, 0, 4, 5, 3, 5, 2, 4, 1, 4, 2, 2, ...</td>\n",
              "      <td>64</td>\n",
              "      <td>69</td>\n",
              "      <td>6083.35</td>\n",
              "    </tr>\n",
              "    <tr>\n",
              "      <th>120</th>\n",
              "      <td>HEKTS.IS</td>\n",
              "      <td>[2, 0, 3, 2, 3, 2, 5, 2, 2, 3, 3, 1, 0, 1, 0, ...</td>\n",
              "      <td>73</td>\n",
              "      <td>57</td>\n",
              "      <td>14799.20</td>\n",
              "    </tr>\n",
              "    <tr>\n",
              "      <th>121</th>\n",
              "      <td>HEKTS.IS</td>\n",
              "      <td>[2, 4, 5, 0, 5, 5, 1, 3, 3, 2, 3, 0, 3, 0, 3, ...</td>\n",
              "      <td>61</td>\n",
              "      <td>46</td>\n",
              "      <td>12800.18</td>\n",
              "    </tr>\n",
              "    <tr>\n",
              "      <th>122</th>\n",
              "      <td>HEKTS.IS</td>\n",
              "      <td>[0, 5, 2, 2, 5, 1, 3, 1, 4, 4, 4, 3, 2, 1, 0, ...</td>\n",
              "      <td>77</td>\n",
              "      <td>59</td>\n",
              "      <td>12996.01</td>\n",
              "    </tr>\n",
              "    <tr>\n",
              "      <th>123</th>\n",
              "      <td>HEKTS.IS</td>\n",
              "      <td>[2, 0, 4, 5, 4, 2, 1, 0, 5, 2, 0, 4, 1, 3, 4, ...</td>\n",
              "      <td>73</td>\n",
              "      <td>66</td>\n",
              "      <td>10282.15</td>\n",
              "    </tr>\n",
              "    <tr>\n",
              "      <th>124</th>\n",
              "      <td>HEKTS.IS</td>\n",
              "      <td>[1, 0, 2, 4, 5, 1, 3, 5, 5, 2, 0, 1, 4, 3, 4, ...</td>\n",
              "      <td>65</td>\n",
              "      <td>60</td>\n",
              "      <td>13362.41</td>\n",
              "    </tr>\n",
              "    <tr>\n",
              "      <th>125</th>\n",
              "      <td>HEKTS.IS</td>\n",
              "      <td>[1, 5, 2, 3, 4, 4, 1, 5, 3, 2, 4, 5, 3, 0, 0, ...</td>\n",
              "      <td>66</td>\n",
              "      <td>51</td>\n",
              "      <td>10580.45</td>\n",
              "    </tr>\n",
              "    <tr>\n",
              "      <th>126</th>\n",
              "      <td>HEKTS.IS</td>\n",
              "      <td>[3, 0, 4, 4, 1, 2, 0, 1, 2, 1, 2, 5, 5, 5, 3, ...</td>\n",
              "      <td>71</td>\n",
              "      <td>60</td>\n",
              "      <td>13142.14</td>\n",
              "    </tr>\n",
              "    <tr>\n",
              "      <th>127</th>\n",
              "      <td>HEKTS.IS</td>\n",
              "      <td>[3, 1, 1, 5, 0, 0, 3, 5, 4, 1, 0, 0, 5, 2, 2, ...</td>\n",
              "      <td>72</td>\n",
              "      <td>74</td>\n",
              "      <td>13476.56</td>\n",
              "    </tr>\n",
              "    <tr>\n",
              "      <th>128</th>\n",
              "      <td>HEKTS.IS</td>\n",
              "      <td>[3, 4, 1, 5, 5, 1, 3, 2, 1, 1, 4, 2, 2, 0, 5, ...</td>\n",
              "      <td>71</td>\n",
              "      <td>47</td>\n",
              "      <td>12897.40</td>\n",
              "    </tr>\n",
              "    <tr>\n",
              "      <th>129</th>\n",
              "      <td>HEKTS.IS</td>\n",
              "      <td>[4, 4, 0, 1, 5, 4, 3, 3, 3, 4, 5, 1, 5, 5, 1, ...</td>\n",
              "      <td>73</td>\n",
              "      <td>62</td>\n",
              "      <td>11976.34</td>\n",
              "    </tr>\n",
              "    <tr>\n",
              "      <th>130</th>\n",
              "      <td>KRDMD.IS</td>\n",
              "      <td>[1, 2, 4, 1, 5, 5, 2, 0, 0, 2, 4, 5, 2, 2, 3, ...</td>\n",
              "      <td>42</td>\n",
              "      <td>50</td>\n",
              "      <td>2667.48</td>\n",
              "    </tr>\n",
              "    <tr>\n",
              "      <th>131</th>\n",
              "      <td>KRDMD.IS</td>\n",
              "      <td>[2, 5, 0, 1, 3, 5, 1, 1, 3, 0, 0, 4, 3, 5, 3, ...</td>\n",
              "      <td>40</td>\n",
              "      <td>49</td>\n",
              "      <td>3079.78</td>\n",
              "    </tr>\n",
              "    <tr>\n",
              "      <th>132</th>\n",
              "      <td>KRDMD.IS</td>\n",
              "      <td>[0, 2, 4, 5, 4, 2, 3, 1, 3, 0, 1, 0, 3, 0, 5, ...</td>\n",
              "      <td>52</td>\n",
              "      <td>72</td>\n",
              "      <td>3033.87</td>\n",
              "    </tr>\n",
              "    <tr>\n",
              "      <th>133</th>\n",
              "      <td>KRDMD.IS</td>\n",
              "      <td>[3, 1, 5, 4, 4, 4, 5, 0, 4, 5, 2, 5, 4, 2, 1, ...</td>\n",
              "      <td>49</td>\n",
              "      <td>75</td>\n",
              "      <td>2944.38</td>\n",
              "    </tr>\n",
              "    <tr>\n",
              "      <th>134</th>\n",
              "      <td>KRDMD.IS</td>\n",
              "      <td>[1, 4, 1, 0, 1, 5, 2, 3, 1, 2, 3, 5, 4, 4, 2, ...</td>\n",
              "      <td>40</td>\n",
              "      <td>48</td>\n",
              "      <td>2286.10</td>\n",
              "    </tr>\n",
              "    <tr>\n",
              "      <th>135</th>\n",
              "      <td>KRDMD.IS</td>\n",
              "      <td>[2, 5, 4, 2, 2, 3, 5, 4, 0, 0, 3, 0, 5, 4, 1, ...</td>\n",
              "      <td>70</td>\n",
              "      <td>77</td>\n",
              "      <td>2272.14</td>\n",
              "    </tr>\n",
              "    <tr>\n",
              "      <th>136</th>\n",
              "      <td>KRDMD.IS</td>\n",
              "      <td>[3, 3, 0, 3, 5, 1, 0, 0, 5, 0, 5, 0, 5, 3, 4, ...</td>\n",
              "      <td>64</td>\n",
              "      <td>78</td>\n",
              "      <td>3380.54</td>\n",
              "    </tr>\n",
              "    <tr>\n",
              "      <th>137</th>\n",
              "      <td>KRDMD.IS</td>\n",
              "      <td>[2, 5, 1, 5, 3, 4, 5, 0, 3, 5, 2, 5, 2, 4, 2, ...</td>\n",
              "      <td>69</td>\n",
              "      <td>77</td>\n",
              "      <td>1848.21</td>\n",
              "    </tr>\n",
              "    <tr>\n",
              "      <th>138</th>\n",
              "      <td>KRDMD.IS</td>\n",
              "      <td>[1, 5, 0, 5, 3, 2, 4, 4, 1, 3, 2, 2, 3, 0, 2, ...</td>\n",
              "      <td>49</td>\n",
              "      <td>63</td>\n",
              "      <td>1893.97</td>\n",
              "    </tr>\n",
              "    <tr>\n",
              "      <th>139</th>\n",
              "      <td>KRDMD.IS</td>\n",
              "      <td>[5, 3, 4, 1, 2, 4, 1, 5, 1, 3, 2, 4, 2, 2, 2, ...</td>\n",
              "      <td>68</td>\n",
              "      <td>78</td>\n",
              "      <td>3650.42</td>\n",
              "    </tr>\n",
              "    <tr>\n",
              "      <th>140</th>\n",
              "      <td>KCHOL.IS</td>\n",
              "      <td>[2, 2, 2, 4, 1, 0, 5, 1, 0, 2, 2, 5, 5, 0, 3, ...</td>\n",
              "      <td>64</td>\n",
              "      <td>74</td>\n",
              "      <td>3403.39</td>\n",
              "    </tr>\n",
              "    <tr>\n",
              "      <th>141</th>\n",
              "      <td>KCHOL.IS</td>\n",
              "      <td>[1, 0, 3, 5, 2, 4, 0, 2, 3, 3, 3, 5, 3, 2, 3, ...</td>\n",
              "      <td>69</td>\n",
              "      <td>79</td>\n",
              "      <td>2826.34</td>\n",
              "    </tr>\n",
              "    <tr>\n",
              "      <th>142</th>\n",
              "      <td>KCHOL.IS</td>\n",
              "      <td>[0, 4, 5, 5, 1, 2, 0, 1, 4, 4, 5, 1, 5, 3, 2, ...</td>\n",
              "      <td>40</td>\n",
              "      <td>61</td>\n",
              "      <td>3925.97</td>\n",
              "    </tr>\n",
              "    <tr>\n",
              "      <th>143</th>\n",
              "      <td>KCHOL.IS</td>\n",
              "      <td>[1, 3, 5, 4, 5, 0, 2, 1, 4, 0, 0, 5, 0, 4, 5, ...</td>\n",
              "      <td>64</td>\n",
              "      <td>78</td>\n",
              "      <td>3843.20</td>\n",
              "    </tr>\n",
              "    <tr>\n",
              "      <th>144</th>\n",
              "      <td>KCHOL.IS</td>\n",
              "      <td>[4, 4, 0, 2, 5, 3, 4, 0, 4, 0, 3, 2, 0, 5, 2, ...</td>\n",
              "      <td>49</td>\n",
              "      <td>70</td>\n",
              "      <td>4034.17</td>\n",
              "    </tr>\n",
              "    <tr>\n",
              "      <th>145</th>\n",
              "      <td>KCHOL.IS</td>\n",
              "      <td>[5, 4, 0, 3, 1, 2, 4, 5, 3, 1, 1, 0, 0, 0, 1, ...</td>\n",
              "      <td>59</td>\n",
              "      <td>79</td>\n",
              "      <td>5012.35</td>\n",
              "    </tr>\n",
              "    <tr>\n",
              "      <th>146</th>\n",
              "      <td>KCHOL.IS</td>\n",
              "      <td>[3, 5, 1, 3, 4, 4, 2, 1, 1, 0, 2, 5, 3, 4, 4, ...</td>\n",
              "      <td>46</td>\n",
              "      <td>54</td>\n",
              "      <td>3480.09</td>\n",
              "    </tr>\n",
              "    <tr>\n",
              "      <th>147</th>\n",
              "      <td>KCHOL.IS</td>\n",
              "      <td>[2, 3, 1, 0, 2, 0, 4, 2, 3, 4, 3, 2, 3, 2, 3, ...</td>\n",
              "      <td>51</td>\n",
              "      <td>64</td>\n",
              "      <td>3072.42</td>\n",
              "    </tr>\n",
              "    <tr>\n",
              "      <th>148</th>\n",
              "      <td>KCHOL.IS</td>\n",
              "      <td>[5, 2, 3, 1, 2, 5, 2, 1, 4, 1, 3, 1, 4, 4, 5, ...</td>\n",
              "      <td>55</td>\n",
              "      <td>70</td>\n",
              "      <td>3201.86</td>\n",
              "    </tr>\n",
              "    <tr>\n",
              "      <th>149</th>\n",
              "      <td>KCHOL.IS</td>\n",
              "      <td>[1, 5, 0, 5, 1, 0, 3, 3, 5, 5, 0, 0, 1, 0, 3, ...</td>\n",
              "      <td>43</td>\n",
              "      <td>78</td>\n",
              "      <td>2512.99</td>\n",
              "    </tr>\n",
              "    <tr>\n",
              "      <th>150</th>\n",
              "      <td>KOZAL.IS</td>\n",
              "      <td>[1, 2, 2, 4, 2, 0, 2, 4, 5, 5, 4, 1, 3, 0, 5, ...</td>\n",
              "      <td>63</td>\n",
              "      <td>68</td>\n",
              "      <td>7701.99</td>\n",
              "    </tr>\n",
              "    <tr>\n",
              "      <th>151</th>\n",
              "      <td>KOZAL.IS</td>\n",
              "      <td>[5, 1, 1, 0, 4, 4, 1, 0, 1, 1, 3, 0, 0, 2, 1, ...</td>\n",
              "      <td>69</td>\n",
              "      <td>54</td>\n",
              "      <td>6419.74</td>\n",
              "    </tr>\n",
              "    <tr>\n",
              "      <th>152</th>\n",
              "      <td>KOZAL.IS</td>\n",
              "      <td>[4, 1, 5, 2, 4, 2, 5, 1, 0, 2, 4, 0, 4, 3, 5, ...</td>\n",
              "      <td>46</td>\n",
              "      <td>72</td>\n",
              "      <td>6079.47</td>\n",
              "    </tr>\n",
              "    <tr>\n",
              "      <th>153</th>\n",
              "      <td>KOZAL.IS</td>\n",
              "      <td>[0, 5, 0, 2, 3, 5, 4, 3, 3, 1, 1, 1, 1, 3, 1, ...</td>\n",
              "      <td>42</td>\n",
              "      <td>55</td>\n",
              "      <td>7034.25</td>\n",
              "    </tr>\n",
              "    <tr>\n",
              "      <th>154</th>\n",
              "      <td>KOZAL.IS</td>\n",
              "      <td>[1, 0, 2, 1, 2, 1, 0, 0, 1, 3, 0, 4, 3, 2, 1, ...</td>\n",
              "      <td>40</td>\n",
              "      <td>69</td>\n",
              "      <td>6215.42</td>\n",
              "    </tr>\n",
              "    <tr>\n",
              "      <th>155</th>\n",
              "      <td>KOZAL.IS</td>\n",
              "      <td>[2, 1, 5, 4, 1, 5, 0, 0, 3, 1, 1, 3, 1, 4, 1, ...</td>\n",
              "      <td>73</td>\n",
              "      <td>77</td>\n",
              "      <td>6917.98</td>\n",
              "    </tr>\n",
              "    <tr>\n",
              "      <th>156</th>\n",
              "      <td>KOZAL.IS</td>\n",
              "      <td>[4, 1, 2, 2, 3, 4, 4, 0, 1, 2, 2, 2, 0, 4, 5, ...</td>\n",
              "      <td>40</td>\n",
              "      <td>52</td>\n",
              "      <td>6478.64</td>\n",
              "    </tr>\n",
              "    <tr>\n",
              "      <th>157</th>\n",
              "      <td>KOZAL.IS</td>\n",
              "      <td>[1, 4, 4, 3, 0, 5, 5, 0, 0, 3, 3, 0, 3, 5, 3, ...</td>\n",
              "      <td>69</td>\n",
              "      <td>49</td>\n",
              "      <td>6669.81</td>\n",
              "    </tr>\n",
              "    <tr>\n",
              "      <th>158</th>\n",
              "      <td>KOZAL.IS</td>\n",
              "      <td>[0, 1, 5, 5, 5, 2, 5, 4, 3, 4, 3, 3, 4, 4, 2, ...</td>\n",
              "      <td>70</td>\n",
              "      <td>64</td>\n",
              "      <td>7610.09</td>\n",
              "    </tr>\n",
              "    <tr>\n",
              "      <th>159</th>\n",
              "      <td>KOZAL.IS</td>\n",
              "      <td>[4, 5, 4, 0, 2, 0, 5, 1, 4, 5, 2, 0, 3, 1, 1, ...</td>\n",
              "      <td>76</td>\n",
              "      <td>59</td>\n",
              "      <td>6149.82</td>\n",
              "    </tr>\n",
              "    <tr>\n",
              "      <th>160</th>\n",
              "      <td>KOZAA.IS</td>\n",
              "      <td>[4, 1, 1, 5, 3, 1, 4, 1, 0, 1, 5, 0, 3, 4, 0, ...</td>\n",
              "      <td>70</td>\n",
              "      <td>79</td>\n",
              "      <td>3021.33</td>\n",
              "    </tr>\n",
              "    <tr>\n",
              "      <th>161</th>\n",
              "      <td>KOZAA.IS</td>\n",
              "      <td>[5, 5, 3, 4, 5, 0, 3, 3, 4, 3, 5, 1, 1, 2, 5, ...</td>\n",
              "      <td>79</td>\n",
              "      <td>43</td>\n",
              "      <td>2699.62</td>\n",
              "    </tr>\n",
              "    <tr>\n",
              "      <th>162</th>\n",
              "      <td>KOZAA.IS</td>\n",
              "      <td>[5, 2, 4, 2, 1, 4, 3, 3, 4, 4, 4, 1, 2, 5, 2, ...</td>\n",
              "      <td>70</td>\n",
              "      <td>41</td>\n",
              "      <td>2633.96</td>\n",
              "    </tr>\n",
              "    <tr>\n",
              "      <th>163</th>\n",
              "      <td>KOZAA.IS</td>\n",
              "      <td>[2, 1, 1, 5, 2, 2, 4, 5, 5, 2, 1, 2, 5, 2, 1, ...</td>\n",
              "      <td>58</td>\n",
              "      <td>67</td>\n",
              "      <td>3253.02</td>\n",
              "    </tr>\n",
              "    <tr>\n",
              "      <th>164</th>\n",
              "      <td>KOZAA.IS</td>\n",
              "      <td>[3, 1, 2, 3, 4, 4, 4, 4, 5, 2, 0, 0, 2, 1, 3, ...</td>\n",
              "      <td>55</td>\n",
              "      <td>62</td>\n",
              "      <td>2784.31</td>\n",
              "    </tr>\n",
              "    <tr>\n",
              "      <th>165</th>\n",
              "      <td>KOZAA.IS</td>\n",
              "      <td>[3, 0, 4, 2, 5, 3, 1, 1, 5, 0, 4, 3, 0, 5, 5, ...</td>\n",
              "      <td>53</td>\n",
              "      <td>74</td>\n",
              "      <td>2854.49</td>\n",
              "    </tr>\n",
              "    <tr>\n",
              "      <th>166</th>\n",
              "      <td>KOZAA.IS</td>\n",
              "      <td>[1, 0, 5, 2, 3, 4, 1, 0, 3, 1, 1, 5, 3, 1, 1, ...</td>\n",
              "      <td>56</td>\n",
              "      <td>65</td>\n",
              "      <td>2812.69</td>\n",
              "    </tr>\n",
              "    <tr>\n",
              "      <th>167</th>\n",
              "      <td>KOZAA.IS</td>\n",
              "      <td>[5, 3, 5, 1, 5, 2, 1, 1, 2, 5, 4, 5, 5, 2, 0, ...</td>\n",
              "      <td>70</td>\n",
              "      <td>44</td>\n",
              "      <td>2578.94</td>\n",
              "    </tr>\n",
              "    <tr>\n",
              "      <th>168</th>\n",
              "      <td>KOZAA.IS</td>\n",
              "      <td>[3, 4, 3, 2, 0, 0, 3, 5, 3, 1, 2, 5, 4, 2, 4, ...</td>\n",
              "      <td>78</td>\n",
              "      <td>40</td>\n",
              "      <td>2593.25</td>\n",
              "    </tr>\n",
              "    <tr>\n",
              "      <th>169</th>\n",
              "      <td>KOZAA.IS</td>\n",
              "      <td>[0, 1, 5, 4, 0, 3, 3, 2, 0, 5, 5, 1, 5, 1, 1, ...</td>\n",
              "      <td>74</td>\n",
              "      <td>40</td>\n",
              "      <td>3051.72</td>\n",
              "    </tr>\n",
              "    <tr>\n",
              "      <th>170</th>\n",
              "      <td>ODAS.IS</td>\n",
              "      <td>[0, 4, 2, 2, 3, 3, 2, 4, 2, 2, 3, 3, 0, 3, 5, ...</td>\n",
              "      <td>70</td>\n",
              "      <td>44</td>\n",
              "      <td>11261.50</td>\n",
              "    </tr>\n",
              "    <tr>\n",
              "      <th>171</th>\n",
              "      <td>ODAS.IS</td>\n",
              "      <td>[0, 5, 2, 2, 3, 4, 4, 4, 3, 0, 3, 3, 5, 2, 2, ...</td>\n",
              "      <td>75</td>\n",
              "      <td>41</td>\n",
              "      <td>12701.32</td>\n",
              "    </tr>\n",
              "    <tr>\n",
              "      <th>172</th>\n",
              "      <td>ODAS.IS</td>\n",
              "      <td>[2, 5, 3, 2, 2, 1, 5, 4, 1, 2, 4, 1, 0, 3, 5, ...</td>\n",
              "      <td>40</td>\n",
              "      <td>41</td>\n",
              "      <td>8107.71</td>\n",
              "    </tr>\n",
              "    <tr>\n",
              "      <th>173</th>\n",
              "      <td>ODAS.IS</td>\n",
              "      <td>[2, 3, 4, 5, 0, 5, 0, 5, 1, 1, 5, 0, 0, 3, 2, ...</td>\n",
              "      <td>79</td>\n",
              "      <td>40</td>\n",
              "      <td>12135.30</td>\n",
              "    </tr>\n",
              "    <tr>\n",
              "      <th>174</th>\n",
              "      <td>ODAS.IS</td>\n",
              "      <td>[0, 0, 2, 3, 3, 0, 4, 3, 5, 3, 5, 5, 0, 2, 5, ...</td>\n",
              "      <td>69</td>\n",
              "      <td>49</td>\n",
              "      <td>11138.55</td>\n",
              "    </tr>\n",
              "    <tr>\n",
              "      <th>175</th>\n",
              "      <td>ODAS.IS</td>\n",
              "      <td>[4, 0, 3, 5, 0, 1, 5, 0, 5, 1, 2, 3, 0, 5, 1, ...</td>\n",
              "      <td>70</td>\n",
              "      <td>44</td>\n",
              "      <td>10449.88</td>\n",
              "    </tr>\n",
              "    <tr>\n",
              "      <th>176</th>\n",
              "      <td>ODAS.IS</td>\n",
              "      <td>[0, 3, 1, 5, 2, 1, 3, 3, 0, 5, 4, 3, 5, 0, 3, ...</td>\n",
              "      <td>71</td>\n",
              "      <td>45</td>\n",
              "      <td>11157.10</td>\n",
              "    </tr>\n",
              "    <tr>\n",
              "      <th>177</th>\n",
              "      <td>ODAS.IS</td>\n",
              "      <td>[3, 5, 4, 4, 1, 3, 5, 2, 2, 0, 3, 3, 5, 3, 1, ...</td>\n",
              "      <td>74</td>\n",
              "      <td>46</td>\n",
              "      <td>9556.87</td>\n",
              "    </tr>\n",
              "    <tr>\n",
              "      <th>178</th>\n",
              "      <td>ODAS.IS</td>\n",
              "      <td>[2, 1, 0, 5, 1, 0, 5, 5, 4, 4, 1, 0, 1, 4, 5, ...</td>\n",
              "      <td>63</td>\n",
              "      <td>44</td>\n",
              "      <td>11722.87</td>\n",
              "    </tr>\n",
              "    <tr>\n",
              "      <th>179</th>\n",
              "      <td>ODAS.IS</td>\n",
              "      <td>[5, 3, 5, 2, 1, 3, 0, 2, 2, 4, 1, 5, 1, 0, 5, ...</td>\n",
              "      <td>79</td>\n",
              "      <td>53</td>\n",
              "      <td>9232.54</td>\n",
              "    </tr>\n",
              "    <tr>\n",
              "      <th>180</th>\n",
              "      <td>PGSUS.IS</td>\n",
              "      <td>[2, 4, 0, 3, 3, 0, 5, 2, 0, 4, 0, 2, 2, 3, 4, ...</td>\n",
              "      <td>40</td>\n",
              "      <td>40</td>\n",
              "      <td>7781.04</td>\n",
              "    </tr>\n",
              "    <tr>\n",
              "      <th>181</th>\n",
              "      <td>PGSUS.IS</td>\n",
              "      <td>[4, 2, 5, 0, 0, 5, 1, 5, 0, 0, 4, 3, 0, 0, 4, ...</td>\n",
              "      <td>40</td>\n",
              "      <td>40</td>\n",
              "      <td>9516.76</td>\n",
              "    </tr>\n",
              "    <tr>\n",
              "      <th>182</th>\n",
              "      <td>PGSUS.IS</td>\n",
              "      <td>[0, 2, 4, 5, 1, 4, 0, 5, 0, 3, 5, 5, 5, 3, 4, ...</td>\n",
              "      <td>47</td>\n",
              "      <td>52</td>\n",
              "      <td>7483.95</td>\n",
              "    </tr>\n",
              "    <tr>\n",
              "      <th>183</th>\n",
              "      <td>PGSUS.IS</td>\n",
              "      <td>[2, 4, 5, 4, 4, 4, 3, 3, 0, 0, 2, 4, 2, 2, 4, ...</td>\n",
              "      <td>40</td>\n",
              "      <td>40</td>\n",
              "      <td>8051.05</td>\n",
              "    </tr>\n",
              "    <tr>\n",
              "      <th>184</th>\n",
              "      <td>PGSUS.IS</td>\n",
              "      <td>[5, 5, 2, 5, 5, 5, 2, 2, 1, 3, 0, 4, 0, 5, 1, ...</td>\n",
              "      <td>40</td>\n",
              "      <td>40</td>\n",
              "      <td>8964.72</td>\n",
              "    </tr>\n",
              "    <tr>\n",
              "      <th>185</th>\n",
              "      <td>PGSUS.IS</td>\n",
              "      <td>[1, 5, 1, 0, 2, 4, 2, 2, 3, 2, 1, 3, 3, 2, 5, ...</td>\n",
              "      <td>40</td>\n",
              "      <td>40</td>\n",
              "      <td>8336.41</td>\n",
              "    </tr>\n",
              "    <tr>\n",
              "      <th>186</th>\n",
              "      <td>PGSUS.IS</td>\n",
              "      <td>[5, 3, 0, 1, 4, 5, 5, 2, 3, 4, 2, 0, 2, 4, 2, ...</td>\n",
              "      <td>47</td>\n",
              "      <td>40</td>\n",
              "      <td>9289.60</td>\n",
              "    </tr>\n",
              "    <tr>\n",
              "      <th>187</th>\n",
              "      <td>PGSUS.IS</td>\n",
              "      <td>[2, 1, 2, 3, 3, 5, 4, 4, 3, 2, 2, 2, 2, 5, 2, ...</td>\n",
              "      <td>41</td>\n",
              "      <td>51</td>\n",
              "      <td>9057.87</td>\n",
              "    </tr>\n",
              "    <tr>\n",
              "      <th>188</th>\n",
              "      <td>PGSUS.IS</td>\n",
              "      <td>[1, 4, 3, 5, 4, 4, 4, 5, 3, 3, 2, 5, 4, 1, 2, ...</td>\n",
              "      <td>48</td>\n",
              "      <td>51</td>\n",
              "      <td>7300.10</td>\n",
              "    </tr>\n",
              "    <tr>\n",
              "      <th>189</th>\n",
              "      <td>PGSUS.IS</td>\n",
              "      <td>[2, 0, 5, 0, 0, 1, 0, 2, 0, 5, 3, 3, 4, 3, 4, ...</td>\n",
              "      <td>40</td>\n",
              "      <td>42</td>\n",
              "      <td>9191.04</td>\n",
              "    </tr>\n",
              "    <tr>\n",
              "      <th>190</th>\n",
              "      <td>SAHOL.IS</td>\n",
              "      <td>[5, 2, 4, 0, 2, 1, 5, 3, 2, 4, 4, 1, 2, 2, 1, ...</td>\n",
              "      <td>72</td>\n",
              "      <td>66</td>\n",
              "      <td>3418.71</td>\n",
              "    </tr>\n",
              "    <tr>\n",
              "      <th>191</th>\n",
              "      <td>SAHOL.IS</td>\n",
              "      <td>[1, 0, 5, 3, 5, 0, 0, 4, 4, 1, 0, 1, 0, 2, 5, ...</td>\n",
              "      <td>68</td>\n",
              "      <td>73</td>\n",
              "      <td>3756.59</td>\n",
              "    </tr>\n",
              "    <tr>\n",
              "      <th>192</th>\n",
              "      <td>SAHOL.IS</td>\n",
              "      <td>[2, 5, 4, 0, 5, 1, 2, 5, 3, 4, 5, 4, 0, 0, 2, ...</td>\n",
              "      <td>68</td>\n",
              "      <td>50</td>\n",
              "      <td>3800.15</td>\n",
              "    </tr>\n",
              "    <tr>\n",
              "      <th>193</th>\n",
              "      <td>SAHOL.IS</td>\n",
              "      <td>[1, 5, 4, 5, 0, 3, 4, 1, 0, 5, 5, 4, 4, 2, 5, ...</td>\n",
              "      <td>62</td>\n",
              "      <td>75</td>\n",
              "      <td>4154.15</td>\n",
              "    </tr>\n",
              "    <tr>\n",
              "      <th>194</th>\n",
              "      <td>SAHOL.IS</td>\n",
              "      <td>[2, 3, 5, 0, 5, 4, 3, 0, 3, 4, 4, 0, 4, 3, 0, ...</td>\n",
              "      <td>72</td>\n",
              "      <td>69</td>\n",
              "      <td>3524.61</td>\n",
              "    </tr>\n",
              "    <tr>\n",
              "      <th>195</th>\n",
              "      <td>SAHOL.IS</td>\n",
              "      <td>[1, 4, 0, 4, 1, 4, 2, 5, 2, 4, 3, 2, 3, 3, 1, ...</td>\n",
              "      <td>63</td>\n",
              "      <td>67</td>\n",
              "      <td>3626.53</td>\n",
              "    </tr>\n",
              "    <tr>\n",
              "      <th>196</th>\n",
              "      <td>SAHOL.IS</td>\n",
              "      <td>[0, 3, 2, 1, 2, 3, 3, 3, 3, 5, 4, 5, 3, 4, 3, ...</td>\n",
              "      <td>57</td>\n",
              "      <td>66</td>\n",
              "      <td>4202.58</td>\n",
              "    </tr>\n",
              "    <tr>\n",
              "      <th>197</th>\n",
              "      <td>SAHOL.IS</td>\n",
              "      <td>[5, 4, 5, 1, 4, 5, 2, 5, 1, 1, 0, 2, 0, 0, 5, ...</td>\n",
              "      <td>59</td>\n",
              "      <td>65</td>\n",
              "      <td>3243.88</td>\n",
              "    </tr>\n",
              "    <tr>\n",
              "      <th>198</th>\n",
              "      <td>SAHOL.IS</td>\n",
              "      <td>[5, 1, 5, 0, 3, 1, 0, 0, 5, 1, 2, 3, 0, 1, 0, ...</td>\n",
              "      <td>75</td>\n",
              "      <td>78</td>\n",
              "      <td>3700.35</td>\n",
              "    </tr>\n",
              "    <tr>\n",
              "      <th>199</th>\n",
              "      <td>SAHOL.IS</td>\n",
              "      <td>[4, 3, 0, 1, 2, 1, 5, 4, 4, 0, 1, 4, 5, 1, 1, ...</td>\n",
              "      <td>56</td>\n",
              "      <td>62</td>\n",
              "      <td>3912.47</td>\n",
              "    </tr>\n",
              "    <tr>\n",
              "      <th>200</th>\n",
              "      <td>SASA.IS</td>\n",
              "      <td>[1, 2, 4, 2, 2, 3, 5, 4, 4, 1, 3, 0, 5, 3, 1, ...</td>\n",
              "      <td>41</td>\n",
              "      <td>56</td>\n",
              "      <td>2366.85</td>\n",
              "    </tr>\n",
              "    <tr>\n",
              "      <th>201</th>\n",
              "      <td>SASA.IS</td>\n",
              "      <td>[0, 0, 1, 4, 2, 3, 2, 2, 0, 0, 2, 3, 4, 3, 1, ...</td>\n",
              "      <td>75</td>\n",
              "      <td>78</td>\n",
              "      <td>4738.72</td>\n",
              "    </tr>\n",
              "    <tr>\n",
              "      <th>202</th>\n",
              "      <td>SASA.IS</td>\n",
              "      <td>[0, 5, 5, 1, 4, 2, 3, 4, 4, 5, 5, 0, 1, 1, 5, ...</td>\n",
              "      <td>44</td>\n",
              "      <td>54</td>\n",
              "      <td>2517.52</td>\n",
              "    </tr>\n",
              "    <tr>\n",
              "      <th>203</th>\n",
              "      <td>SASA.IS</td>\n",
              "      <td>[0, 3, 5, 3, 1, 3, 1, 0, 2, 4, 5, 2, 3, 4, 4, ...</td>\n",
              "      <td>74</td>\n",
              "      <td>78</td>\n",
              "      <td>2393.89</td>\n",
              "    </tr>\n",
              "    <tr>\n",
              "      <th>204</th>\n",
              "      <td>SASA.IS</td>\n",
              "      <td>[5, 1, 1, 2, 0, 1, 2, 2, 4, 0, 1, 3, 2, 2, 2, ...</td>\n",
              "      <td>77</td>\n",
              "      <td>70</td>\n",
              "      <td>2177.53</td>\n",
              "    </tr>\n",
              "    <tr>\n",
              "      <th>205</th>\n",
              "      <td>SASA.IS</td>\n",
              "      <td>[1, 1, 1, 5, 0, 1, 5, 5, 3, 1, 3, 3, 1, 1, 2, ...</td>\n",
              "      <td>43</td>\n",
              "      <td>45</td>\n",
              "      <td>1661.13</td>\n",
              "    </tr>\n",
              "    <tr>\n",
              "      <th>206</th>\n",
              "      <td>SASA.IS</td>\n",
              "      <td>[1, 0, 0, 1, 4, 1, 1, 5, 1, 5, 0, 3, 2, 4, 1, ...</td>\n",
              "      <td>75</td>\n",
              "      <td>79</td>\n",
              "      <td>6807.64</td>\n",
              "    </tr>\n",
              "    <tr>\n",
              "      <th>207</th>\n",
              "      <td>SASA.IS</td>\n",
              "      <td>[4, 3, 5, 2, 1, 2, 5, 0, 1, 3, 4, 2, 0, 5, 1, ...</td>\n",
              "      <td>45</td>\n",
              "      <td>70</td>\n",
              "      <td>1989.54</td>\n",
              "    </tr>\n",
              "    <tr>\n",
              "      <th>208</th>\n",
              "      <td>SASA.IS</td>\n",
              "      <td>[0, 0, 0, 5, 2, 4, 1, 0, 3, 2, 1, 1, 0, 5, 5, ...</td>\n",
              "      <td>70</td>\n",
              "      <td>75</td>\n",
              "      <td>2617.03</td>\n",
              "    </tr>\n",
              "    <tr>\n",
              "      <th>209</th>\n",
              "      <td>SASA.IS</td>\n",
              "      <td>[3, 1, 5, 2, 2, 5, 0, 0, 4, 1, 3, 5, 3, 2, 5, ...</td>\n",
              "      <td>68</td>\n",
              "      <td>72</td>\n",
              "      <td>3123.11</td>\n",
              "    </tr>\n",
              "    <tr>\n",
              "      <th>210</th>\n",
              "      <td>PETKM.IS</td>\n",
              "      <td>[0, 2, 1, 5, 4, 2, 4, 0, 5, 2, 0, 3, 1, 0, 5, ...</td>\n",
              "      <td>55</td>\n",
              "      <td>65</td>\n",
              "      <td>1965.30</td>\n",
              "    </tr>\n",
              "    <tr>\n",
              "      <th>211</th>\n",
              "      <td>PETKM.IS</td>\n",
              "      <td>[0, 2, 2, 5, 0, 5, 3, 5, 3, 1, 0, 4, 5, 3, 5, ...</td>\n",
              "      <td>68</td>\n",
              "      <td>69</td>\n",
              "      <td>2133.33</td>\n",
              "    </tr>\n",
              "    <tr>\n",
              "      <th>212</th>\n",
              "      <td>PETKM.IS</td>\n",
              "      <td>[0, 5, 2, 5, 0, 4, 2, 2, 0, 2, 5, 5, 0, 5, 0, ...</td>\n",
              "      <td>70</td>\n",
              "      <td>72</td>\n",
              "      <td>1852.15</td>\n",
              "    </tr>\n",
              "    <tr>\n",
              "      <th>213</th>\n",
              "      <td>PETKM.IS</td>\n",
              "      <td>[4, 2, 2, 0, 0, 3, 4, 0, 1, 2, 5, 5, 2, 5, 2, ...</td>\n",
              "      <td>55</td>\n",
              "      <td>67</td>\n",
              "      <td>2820.74</td>\n",
              "    </tr>\n",
              "    <tr>\n",
              "      <th>214</th>\n",
              "      <td>PETKM.IS</td>\n",
              "      <td>[4, 3, 0, 4, 4, 4, 3, 4, 3, 5, 2, 1, 1, 4, 4, ...</td>\n",
              "      <td>58</td>\n",
              "      <td>75</td>\n",
              "      <td>2529.59</td>\n",
              "    </tr>\n",
              "    <tr>\n",
              "      <th>215</th>\n",
              "      <td>PETKM.IS</td>\n",
              "      <td>[2, 2, 5, 5, 3, 0, 3, 1, 0, 1, 2, 2, 0, 1, 4, ...</td>\n",
              "      <td>40</td>\n",
              "      <td>50</td>\n",
              "      <td>2325.51</td>\n",
              "    </tr>\n",
              "    <tr>\n",
              "      <th>216</th>\n",
              "      <td>PETKM.IS</td>\n",
              "      <td>[2, 0, 3, 3, 2, 1, 3, 1, 1, 4, 3, 0, 2, 3, 4, ...</td>\n",
              "      <td>66</td>\n",
              "      <td>70</td>\n",
              "      <td>2464.15</td>\n",
              "    </tr>\n",
              "    <tr>\n",
              "      <th>217</th>\n",
              "      <td>PETKM.IS</td>\n",
              "      <td>[5, 3, 3, 5, 5, 2, 1, 2, 2, 5, 0, 0, 5, 3, 4, ...</td>\n",
              "      <td>64</td>\n",
              "      <td>72</td>\n",
              "      <td>2187.77</td>\n",
              "    </tr>\n",
              "    <tr>\n",
              "      <th>218</th>\n",
              "      <td>PETKM.IS</td>\n",
              "      <td>[2, 2, 3, 2, 0, 0, 5, 4, 4, 5, 4, 1, 4, 4, 4, ...</td>\n",
              "      <td>65</td>\n",
              "      <td>65</td>\n",
              "      <td>1729.07</td>\n",
              "    </tr>\n",
              "    <tr>\n",
              "      <th>219</th>\n",
              "      <td>PETKM.IS</td>\n",
              "      <td>[1, 4, 3, 3, 0, 1, 0, 2, 5, 3, 0, 0, 4, 2, 3, ...</td>\n",
              "      <td>58</td>\n",
              "      <td>45</td>\n",
              "      <td>1900.61</td>\n",
              "    </tr>\n",
              "    <tr>\n",
              "      <th>220</th>\n",
              "      <td>SISE.IS</td>\n",
              "      <td>[0, 0, 3, 3, 2, 0, 2, 4, 1, 3, 0, 5, 0, 4, 3, ...</td>\n",
              "      <td>73</td>\n",
              "      <td>75</td>\n",
              "      <td>3127.02</td>\n",
              "    </tr>\n",
              "    <tr>\n",
              "      <th>221</th>\n",
              "      <td>SISE.IS</td>\n",
              "      <td>[3, 4, 5, 5, 0, 0, 1, 5, 5, 2, 2, 4, 2, 5, 4, ...</td>\n",
              "      <td>79</td>\n",
              "      <td>43</td>\n",
              "      <td>2991.78</td>\n",
              "    </tr>\n",
              "    <tr>\n",
              "      <th>222</th>\n",
              "      <td>SISE.IS</td>\n",
              "      <td>[4, 2, 4, 1, 1, 4, 4, 5, 0, 2, 2, 3, 2, 0, 3, ...</td>\n",
              "      <td>79</td>\n",
              "      <td>49</td>\n",
              "      <td>2598.32</td>\n",
              "    </tr>\n",
              "    <tr>\n",
              "      <th>223</th>\n",
              "      <td>SISE.IS</td>\n",
              "      <td>[0, 4, 5, 1, 4, 0, 2, 1, 2, 5, 3, 5, 2, 5, 3, ...</td>\n",
              "      <td>43</td>\n",
              "      <td>50</td>\n",
              "      <td>4592.40</td>\n",
              "    </tr>\n",
              "    <tr>\n",
              "      <th>224</th>\n",
              "      <td>SISE.IS</td>\n",
              "      <td>[3, 4, 1, 1, 3, 1, 5, 0, 2, 0, 4, 2, 2, 3, 5, ...</td>\n",
              "      <td>43</td>\n",
              "      <td>56</td>\n",
              "      <td>3822.80</td>\n",
              "    </tr>\n",
              "    <tr>\n",
              "      <th>225</th>\n",
              "      <td>SISE.IS</td>\n",
              "      <td>[5, 0, 5, 0, 1, 0, 1, 3, 3, 0, 4, 3, 5, 5, 0, ...</td>\n",
              "      <td>68</td>\n",
              "      <td>79</td>\n",
              "      <td>3631.92</td>\n",
              "    </tr>\n",
              "    <tr>\n",
              "      <th>226</th>\n",
              "      <td>SISE.IS</td>\n",
              "      <td>[0, 5, 5, 3, 1, 0, 1, 2, 1, 2, 2, 4, 2, 0, 4, ...</td>\n",
              "      <td>47</td>\n",
              "      <td>43</td>\n",
              "      <td>3169.53</td>\n",
              "    </tr>\n",
              "    <tr>\n",
              "      <th>227</th>\n",
              "      <td>SISE.IS</td>\n",
              "      <td>[4, 4, 1, 3, 3, 2, 5, 4, 1, 4, 2, 4, 0, 5, 2, ...</td>\n",
              "      <td>44</td>\n",
              "      <td>51</td>\n",
              "      <td>3749.41</td>\n",
              "    </tr>\n",
              "    <tr>\n",
              "      <th>228</th>\n",
              "      <td>SISE.IS</td>\n",
              "      <td>[2, 0, 5, 1, 0, 3, 2, 3, 2, 1, 3, 5, 2, 3, 2, ...</td>\n",
              "      <td>67</td>\n",
              "      <td>76</td>\n",
              "      <td>2602.70</td>\n",
              "    </tr>\n",
              "    <tr>\n",
              "      <th>229</th>\n",
              "      <td>SISE.IS</td>\n",
              "      <td>[2, 1, 1, 0, 4, 2, 4, 1, 0, 3, 1, 0, 3, 4, 1, ...</td>\n",
              "      <td>55</td>\n",
              "      <td>64</td>\n",
              "      <td>2675.88</td>\n",
              "    </tr>\n",
              "    <tr>\n",
              "      <th>230</th>\n",
              "      <td>TAVHL.IS</td>\n",
              "      <td>[5, 5, 3, 5, 2, 0, 5, 0, 1, 1, 3, 4, 3, 5, 0, ...</td>\n",
              "      <td>43</td>\n",
              "      <td>51</td>\n",
              "      <td>4076.55</td>\n",
              "    </tr>\n",
              "    <tr>\n",
              "      <th>231</th>\n",
              "      <td>TAVHL.IS</td>\n",
              "      <td>[2, 5, 5, 3, 4, 0, 3, 2, 1, 2, 2, 4, 0, 0, 3, ...</td>\n",
              "      <td>44</td>\n",
              "      <td>50</td>\n",
              "      <td>3456.80</td>\n",
              "    </tr>\n",
              "    <tr>\n",
              "      <th>232</th>\n",
              "      <td>TAVHL.IS</td>\n",
              "      <td>[4, 3, 3, 2, 0, 5, 0, 5, 1, 0, 3, 0, 5, 1, 1, ...</td>\n",
              "      <td>48</td>\n",
              "      <td>66</td>\n",
              "      <td>3081.69</td>\n",
              "    </tr>\n",
              "    <tr>\n",
              "      <th>233</th>\n",
              "      <td>TAVHL.IS</td>\n",
              "      <td>[2, 5, 0, 0, 1, 4, 3, 1, 4, 2, 4, 0, 4, 3, 5, ...</td>\n",
              "      <td>43</td>\n",
              "      <td>58</td>\n",
              "      <td>5367.91</td>\n",
              "    </tr>\n",
              "    <tr>\n",
              "      <th>234</th>\n",
              "      <td>TAVHL.IS</td>\n",
              "      <td>[3, 3, 3, 4, 0, 3, 0, 3, 3, 2, 3, 5, 4, 1, 5, ...</td>\n",
              "      <td>40</td>\n",
              "      <td>60</td>\n",
              "      <td>4311.97</td>\n",
              "    </tr>\n",
              "    <tr>\n",
              "      <th>235</th>\n",
              "      <td>TAVHL.IS</td>\n",
              "      <td>[5, 2, 2, 0, 2, 4, 5, 0, 4, 4, 2, 1, 2, 5, 5, ...</td>\n",
              "      <td>40</td>\n",
              "      <td>45</td>\n",
              "      <td>3294.00</td>\n",
              "    </tr>\n",
              "    <tr>\n",
              "      <th>236</th>\n",
              "      <td>TAVHL.IS</td>\n",
              "      <td>[3, 2, 2, 5, 0, 3, 0, 5, 3, 3, 4, 3, 1, 4, 4, ...</td>\n",
              "      <td>45</td>\n",
              "      <td>55</td>\n",
              "      <td>3967.64</td>\n",
              "    </tr>\n",
              "    <tr>\n",
              "      <th>237</th>\n",
              "      <td>TAVHL.IS</td>\n",
              "      <td>[0, 3, 3, 3, 2, 3, 4, 3, 5, 0, 5, 0, 5, 1, 0, ...</td>\n",
              "      <td>42</td>\n",
              "      <td>54</td>\n",
              "      <td>3463.50</td>\n",
              "    </tr>\n",
              "    <tr>\n",
              "      <th>238</th>\n",
              "      <td>TAVHL.IS</td>\n",
              "      <td>[1, 5, 2, 5, 4, 3, 2, 1, 1, 3, 2, 0, 5, 3, 2, ...</td>\n",
              "      <td>43</td>\n",
              "      <td>48</td>\n",
              "      <td>3172.32</td>\n",
              "    </tr>\n",
              "    <tr>\n",
              "      <th>239</th>\n",
              "      <td>TAVHL.IS</td>\n",
              "      <td>[2, 3, 1, 0, 1, 2, 2, 5, 3, 2, 4, 0, 5, 3, 1, ...</td>\n",
              "      <td>55</td>\n",
              "      <td>43</td>\n",
              "      <td>2796.00</td>\n",
              "    </tr>\n",
              "    <tr>\n",
              "      <th>240</th>\n",
              "      <td>THYAO.IS</td>\n",
              "      <td>[5, 2, 3, 3, 4, 1, 2, 3, 5, 1, 3, 3, 3, 5, 2, ...</td>\n",
              "      <td>43</td>\n",
              "      <td>47</td>\n",
              "      <td>7516.02</td>\n",
              "    </tr>\n",
              "    <tr>\n",
              "      <th>241</th>\n",
              "      <td>THYAO.IS</td>\n",
              "      <td>[5, 3, 3, 2, 4, 3, 0, 5, 1, 2, 1, 2, 2, 2, 5, ...</td>\n",
              "      <td>62</td>\n",
              "      <td>66</td>\n",
              "      <td>8496.34</td>\n",
              "    </tr>\n",
              "    <tr>\n",
              "      <th>242</th>\n",
              "      <td>THYAO.IS</td>\n",
              "      <td>[1, 2, 0, 1, 1, 2, 4, 4, 1, 5, 5, 0, 4, 2, 1, ...</td>\n",
              "      <td>64</td>\n",
              "      <td>65</td>\n",
              "      <td>9682.01</td>\n",
              "    </tr>\n",
              "    <tr>\n",
              "      <th>243</th>\n",
              "      <td>THYAO.IS</td>\n",
              "      <td>[1, 4, 4, 2, 0, 2, 2, 1, 4, 2, 4, 5, 1, 4, 4, ...</td>\n",
              "      <td>65</td>\n",
              "      <td>68</td>\n",
              "      <td>9176.64</td>\n",
              "    </tr>\n",
              "    <tr>\n",
              "      <th>244</th>\n",
              "      <td>THYAO.IS</td>\n",
              "      <td>[1, 3, 4, 3, 0, 5, 1, 2, 5, 4, 1, 3, 2, 2, 3, ...</td>\n",
              "      <td>75</td>\n",
              "      <td>44</td>\n",
              "      <td>8539.88</td>\n",
              "    </tr>\n",
              "    <tr>\n",
              "      <th>245</th>\n",
              "      <td>THYAO.IS</td>\n",
              "      <td>[5, 1, 2, 2, 2, 0, 0, 2, 1, 0, 4, 3, 0, 1, 3, ...</td>\n",
              "      <td>56</td>\n",
              "      <td>60</td>\n",
              "      <td>8490.49</td>\n",
              "    </tr>\n",
              "    <tr>\n",
              "      <th>246</th>\n",
              "      <td>THYAO.IS</td>\n",
              "      <td>[3, 0, 3, 2, 4, 0, 5, 4, 1, 2, 1, 5, 2, 4, 1, ...</td>\n",
              "      <td>76</td>\n",
              "      <td>40</td>\n",
              "      <td>8090.01</td>\n",
              "    </tr>\n",
              "    <tr>\n",
              "      <th>247</th>\n",
              "      <td>THYAO.IS</td>\n",
              "      <td>[4, 3, 3, 4, 1, 5, 4, 0, 2, 4, 5, 4, 1, 1, 1, ...</td>\n",
              "      <td>64</td>\n",
              "      <td>49</td>\n",
              "      <td>7376.42</td>\n",
              "    </tr>\n",
              "    <tr>\n",
              "      <th>248</th>\n",
              "      <td>THYAO.IS</td>\n",
              "      <td>[4, 0, 3, 3, 5, 0, 0, 1, 1, 3, 4, 5, 0, 1, 0, ...</td>\n",
              "      <td>71</td>\n",
              "      <td>54</td>\n",
              "      <td>8298.86</td>\n",
              "    </tr>\n",
              "    <tr>\n",
              "      <th>249</th>\n",
              "      <td>THYAO.IS</td>\n",
              "      <td>[2, 1, 1, 2, 1, 5, 2, 4, 0, 4, 4, 1, 2, 2, 1, ...</td>\n",
              "      <td>79</td>\n",
              "      <td>46</td>\n",
              "      <td>9321.16</td>\n",
              "    </tr>\n",
              "    <tr>\n",
              "      <th>250</th>\n",
              "      <td>TUPRS.IS</td>\n",
              "      <td>[0, 1, 0, 5, 0, 2, 2, 0, 0, 3, 3, 5, 5, 2, 1, ...</td>\n",
              "      <td>46</td>\n",
              "      <td>54</td>\n",
              "      <td>4084.68</td>\n",
              "    </tr>\n",
              "    <tr>\n",
              "      <th>251</th>\n",
              "      <td>TUPRS.IS</td>\n",
              "      <td>[2, 2, 2, 3, 1, 4, 5, 2, 0, 2, 3, 5, 1, 3, 4, ...</td>\n",
              "      <td>72</td>\n",
              "      <td>78</td>\n",
              "      <td>2625.32</td>\n",
              "    </tr>\n",
              "    <tr>\n",
              "      <th>252</th>\n",
              "      <td>TUPRS.IS</td>\n",
              "      <td>[2, 4, 2, 0, 0, 1, 1, 0, 0, 4, 5, 5, 3, 2, 4, ...</td>\n",
              "      <td>59</td>\n",
              "      <td>59</td>\n",
              "      <td>3279.27</td>\n",
              "    </tr>\n",
              "    <tr>\n",
              "      <th>253</th>\n",
              "      <td>TUPRS.IS</td>\n",
              "      <td>[2, 3, 4, 4, 3, 0, 5, 3, 2, 5, 0, 4, 0, 3, 5, ...</td>\n",
              "      <td>60</td>\n",
              "      <td>64</td>\n",
              "      <td>3312.83</td>\n",
              "    </tr>\n",
              "    <tr>\n",
              "      <th>254</th>\n",
              "      <td>TUPRS.IS</td>\n",
              "      <td>[2, 5, 0, 1, 2, 0, 3, 0, 4, 4, 0, 2, 0, 4, 3, ...</td>\n",
              "      <td>65</td>\n",
              "      <td>69</td>\n",
              "      <td>2892.62</td>\n",
              "    </tr>\n",
              "    <tr>\n",
              "      <th>255</th>\n",
              "      <td>TUPRS.IS</td>\n",
              "      <td>[2, 3, 1, 4, 1, 3, 0, 4, 4, 5, 4, 2, 0, 3, 1, ...</td>\n",
              "      <td>43</td>\n",
              "      <td>58</td>\n",
              "      <td>3369.55</td>\n",
              "    </tr>\n",
              "    <tr>\n",
              "      <th>256</th>\n",
              "      <td>TUPRS.IS</td>\n",
              "      <td>[1, 1, 3, 4, 3, 1, 2, 2, 2, 2, 5, 4, 0, 4, 3, ...</td>\n",
              "      <td>55</td>\n",
              "      <td>57</td>\n",
              "      <td>2864.20</td>\n",
              "    </tr>\n",
              "    <tr>\n",
              "      <th>257</th>\n",
              "      <td>TUPRS.IS</td>\n",
              "      <td>[5, 0, 3, 1, 2, 5, 2, 5, 0, 0, 3, 3, 1, 2, 0, ...</td>\n",
              "      <td>52</td>\n",
              "      <td>59</td>\n",
              "      <td>2564.41</td>\n",
              "    </tr>\n",
              "    <tr>\n",
              "      <th>258</th>\n",
              "      <td>TUPRS.IS</td>\n",
              "      <td>[1, 0, 1, 0, 2, 4, 2, 5, 3, 0, 5, 0, 3, 0, 4, ...</td>\n",
              "      <td>63</td>\n",
              "      <td>68</td>\n",
              "      <td>3086.71</td>\n",
              "    </tr>\n",
              "    <tr>\n",
              "      <th>259</th>\n",
              "      <td>TUPRS.IS</td>\n",
              "      <td>[3, 3, 1, 2, 5, 3, 4, 1, 4, 2, 4, 0, 5, 4, 5, ...</td>\n",
              "      <td>67</td>\n",
              "      <td>70</td>\n",
              "      <td>3103.56</td>\n",
              "    </tr>\n",
              "    <tr>\n",
              "      <th>260</th>\n",
              "      <td>TOASO.IS</td>\n",
              "      <td>[3, 4, 2, 2, 1, 5, 1, 5, 5, 3, 5, 4, 2, 2, 0, ...</td>\n",
              "      <td>67</td>\n",
              "      <td>77</td>\n",
              "      <td>3076.27</td>\n",
              "    </tr>\n",
              "    <tr>\n",
              "      <th>261</th>\n",
              "      <td>TOASO.IS</td>\n",
              "      <td>[3, 1, 5, 3, 0, 5, 3, 4, 1, 2, 2, 0, 4, 0, 4, ...</td>\n",
              "      <td>46</td>\n",
              "      <td>40</td>\n",
              "      <td>2686.71</td>\n",
              "    </tr>\n",
              "    <tr>\n",
              "      <th>262</th>\n",
              "      <td>TOASO.IS</td>\n",
              "      <td>[0, 2, 0, 1, 3, 4, 0, 0, 2, 3, 1, 4, 1, 2, 2, ...</td>\n",
              "      <td>48</td>\n",
              "      <td>58</td>\n",
              "      <td>4629.80</td>\n",
              "    </tr>\n",
              "    <tr>\n",
              "      <th>263</th>\n",
              "      <td>TOASO.IS</td>\n",
              "      <td>[1, 4, 4, 4, 1, 1, 2, 0, 3, 1, 1, 0, 3, 1, 5, ...</td>\n",
              "      <td>51</td>\n",
              "      <td>61</td>\n",
              "      <td>4033.03</td>\n",
              "    </tr>\n",
              "    <tr>\n",
              "      <th>264</th>\n",
              "      <td>TOASO.IS</td>\n",
              "      <td>[3, 2, 3, 0, 4, 1, 1, 0, 4, 1, 0, 0, 2, 1, 1, ...</td>\n",
              "      <td>50</td>\n",
              "      <td>49</td>\n",
              "      <td>2985.17</td>\n",
              "    </tr>\n",
              "    <tr>\n",
              "      <th>265</th>\n",
              "      <td>TOASO.IS</td>\n",
              "      <td>[0, 3, 4, 3, 4, 0, 1, 2, 3, 0, 2, 3, 1, 3, 0, ...</td>\n",
              "      <td>46</td>\n",
              "      <td>59</td>\n",
              "      <td>3275.44</td>\n",
              "    </tr>\n",
              "    <tr>\n",
              "      <th>266</th>\n",
              "      <td>TOASO.IS</td>\n",
              "      <td>[1, 5, 4, 0, 3, 0, 0, 0, 5, 1, 3, 0, 5, 5, 5, ...</td>\n",
              "      <td>44</td>\n",
              "      <td>49</td>\n",
              "      <td>3538.96</td>\n",
              "    </tr>\n",
              "    <tr>\n",
              "      <th>267</th>\n",
              "      <td>TOASO.IS</td>\n",
              "      <td>[5, 3, 3, 3, 0, 1, 5, 5, 4, 4, 5, 5, 2, 4, 1, ...</td>\n",
              "      <td>40</td>\n",
              "      <td>45</td>\n",
              "      <td>3126.52</td>\n",
              "    </tr>\n",
              "    <tr>\n",
              "      <th>268</th>\n",
              "      <td>TOASO.IS</td>\n",
              "      <td>[3, 5, 4, 2, 2, 5, 2, 1, 3, 0, 0, 0, 0, 3, 1, ...</td>\n",
              "      <td>45</td>\n",
              "      <td>52</td>\n",
              "      <td>3392.58</td>\n",
              "    </tr>\n",
              "    <tr>\n",
              "      <th>269</th>\n",
              "      <td>TOASO.IS</td>\n",
              "      <td>[1, 1, 0, 4, 1, 1, 4, 3, 4, 5, 2, 4, 4, 5, 1, ...</td>\n",
              "      <td>40</td>\n",
              "      <td>44</td>\n",
              "      <td>3312.25</td>\n",
              "    </tr>\n",
              "    <tr>\n",
              "      <th>270</th>\n",
              "      <td>TCELL.IS</td>\n",
              "      <td>[5, 4, 0, 3, 0, 4, 2, 5, 0, 3, 3, 5, 0, 0, 5, ...</td>\n",
              "      <td>42</td>\n",
              "      <td>65</td>\n",
              "      <td>1663.12</td>\n",
              "    </tr>\n",
              "    <tr>\n",
              "      <th>271</th>\n",
              "      <td>TCELL.IS</td>\n",
              "      <td>[5, 0, 4, 0, 5, 3, 1, 1, 2, 2, 5, 4, 0, 2, 2, ...</td>\n",
              "      <td>70</td>\n",
              "      <td>75</td>\n",
              "      <td>1494.48</td>\n",
              "    </tr>\n",
              "    <tr>\n",
              "      <th>272</th>\n",
              "      <td>TCELL.IS</td>\n",
              "      <td>[0, 2, 5, 5, 1, 2, 5, 4, 4, 2, 4, 3, 4, 0, 2, ...</td>\n",
              "      <td>58</td>\n",
              "      <td>70</td>\n",
              "      <td>1792.19</td>\n",
              "    </tr>\n",
              "    <tr>\n",
              "      <th>273</th>\n",
              "      <td>TCELL.IS</td>\n",
              "      <td>[1, 1, 5, 2, 2, 3, 4, 2, 5, 5, 3, 2, 5, 3, 1, ...</td>\n",
              "      <td>64</td>\n",
              "      <td>78</td>\n",
              "      <td>2727.71</td>\n",
              "    </tr>\n",
              "    <tr>\n",
              "      <th>274</th>\n",
              "      <td>TCELL.IS</td>\n",
              "      <td>[1, 3, 4, 4, 2, 3, 1, 0, 4, 5, 4, 3, 1, 2, 2, ...</td>\n",
              "      <td>72</td>\n",
              "      <td>78</td>\n",
              "      <td>1711.94</td>\n",
              "    </tr>\n",
              "    <tr>\n",
              "      <th>275</th>\n",
              "      <td>TCELL.IS</td>\n",
              "      <td>[4, 4, 5, 1, 4, 0, 5, 4, 0, 2, 4, 4, 4, 3, 5, ...</td>\n",
              "      <td>68</td>\n",
              "      <td>76</td>\n",
              "      <td>2114.89</td>\n",
              "    </tr>\n",
              "    <tr>\n",
              "      <th>276</th>\n",
              "      <td>TCELL.IS</td>\n",
              "      <td>[1, 2, 0, 1, 0, 1, 0, 3, 3, 0, 0, 1, 0, 4, 0, ...</td>\n",
              "      <td>50</td>\n",
              "      <td>73</td>\n",
              "      <td>2626.03</td>\n",
              "    </tr>\n",
              "    <tr>\n",
              "      <th>277</th>\n",
              "      <td>TCELL.IS</td>\n",
              "      <td>[2, 3, 3, 5, 4, 1, 1, 5, 5, 3, 3, 0, 0, 1, 3, ...</td>\n",
              "      <td>76</td>\n",
              "      <td>55</td>\n",
              "      <td>1788.29</td>\n",
              "    </tr>\n",
              "    <tr>\n",
              "      <th>278</th>\n",
              "      <td>TCELL.IS</td>\n",
              "      <td>[0, 2, 0, 0, 4, 3, 3, 5, 5, 3, 5, 0, 2, 2, 2, ...</td>\n",
              "      <td>66</td>\n",
              "      <td>71</td>\n",
              "      <td>1634.12</td>\n",
              "    </tr>\n",
              "    <tr>\n",
              "      <th>279</th>\n",
              "      <td>TCELL.IS</td>\n",
              "      <td>[0, 4, 5, 3, 3, 4, 4, 4, 4, 4, 2, 4, 5, 0, 2, ...</td>\n",
              "      <td>62</td>\n",
              "      <td>71</td>\n",
              "      <td>2133.81</td>\n",
              "    </tr>\n",
              "    <tr>\n",
              "      <th>280</th>\n",
              "      <td>ISCTR.IS</td>\n",
              "      <td>[0, 1, 3, 3, 2, 1, 2, 0, 5, 1, 4, 3, 4, 5, 5, ...</td>\n",
              "      <td>52</td>\n",
              "      <td>55</td>\n",
              "      <td>6050.22</td>\n",
              "    </tr>\n",
              "    <tr>\n",
              "      <th>281</th>\n",
              "      <td>ISCTR.IS</td>\n",
              "      <td>[0, 5, 2, 0, 5, 2, 5, 2, 3, 3, 5, 0, 1, 1, 0, ...</td>\n",
              "      <td>78</td>\n",
              "      <td>67</td>\n",
              "      <td>6078.03</td>\n",
              "    </tr>\n",
              "    <tr>\n",
              "      <th>282</th>\n",
              "      <td>ISCTR.IS</td>\n",
              "      <td>[1, 2, 0, 1, 5, 0, 1, 0, 5, 2, 0, 4, 5, 5, 4, ...</td>\n",
              "      <td>52</td>\n",
              "      <td>63</td>\n",
              "      <td>8703.27</td>\n",
              "    </tr>\n",
              "    <tr>\n",
              "      <th>283</th>\n",
              "      <td>ISCTR.IS</td>\n",
              "      <td>[3, 3, 3, 4, 2, 1, 4, 3, 3, 3, 4, 5, 0, 4, 1, ...</td>\n",
              "      <td>57</td>\n",
              "      <td>69</td>\n",
              "      <td>5538.65</td>\n",
              "    </tr>\n",
              "    <tr>\n",
              "      <th>284</th>\n",
              "      <td>ISCTR.IS</td>\n",
              "      <td>[3, 1, 0, 4, 5, 2, 1, 5, 4, 4, 0, 5, 4, 2, 0, ...</td>\n",
              "      <td>49</td>\n",
              "      <td>57</td>\n",
              "      <td>5793.81</td>\n",
              "    </tr>\n",
              "    <tr>\n",
              "      <th>285</th>\n",
              "      <td>ISCTR.IS</td>\n",
              "      <td>[5, 1, 1, 1, 2, 2, 2, 4, 0, 3, 4, 5, 0, 5, 5, ...</td>\n",
              "      <td>64</td>\n",
              "      <td>72</td>\n",
              "      <td>6008.62</td>\n",
              "    </tr>\n",
              "    <tr>\n",
              "      <th>286</th>\n",
              "      <td>ISCTR.IS</td>\n",
              "      <td>[0, 2, 4, 0, 2, 0, 1, 1, 1, 2, 5, 3, 5, 3, 1, ...</td>\n",
              "      <td>57</td>\n",
              "      <td>60</td>\n",
              "      <td>6770.50</td>\n",
              "    </tr>\n",
              "    <tr>\n",
              "      <th>287</th>\n",
              "      <td>ISCTR.IS</td>\n",
              "      <td>[0, 3, 4, 4, 2, 2, 4, 3, 1, 3, 4, 1, 2, 2, 1, ...</td>\n",
              "      <td>52</td>\n",
              "      <td>67</td>\n",
              "      <td>8889.46</td>\n",
              "    </tr>\n",
              "    <tr>\n",
              "      <th>288</th>\n",
              "      <td>ISCTR.IS</td>\n",
              "      <td>[5, 3, 4, 5, 3, 3, 2, 0, 2, 2, 3, 2, 3, 0, 0, ...</td>\n",
              "      <td>45</td>\n",
              "      <td>54</td>\n",
              "      <td>4994.83</td>\n",
              "    </tr>\n",
              "    <tr>\n",
              "      <th>289</th>\n",
              "      <td>ISCTR.IS</td>\n",
              "      <td>[4, 4, 0, 0, 0, 0, 0, 4, 2, 3, 1, 2, 4, 5, 3, ...</td>\n",
              "      <td>44</td>\n",
              "      <td>50</td>\n",
              "      <td>5755.94</td>\n",
              "    </tr>\n",
              "    <tr>\n",
              "      <th>290</th>\n",
              "      <td>YKBNK.IS</td>\n",
              "      <td>[1, 4, 1, 0, 4, 2, 5, 2, 4, 5, 1, 4, 1, 2, 5, ...</td>\n",
              "      <td>70</td>\n",
              "      <td>75</td>\n",
              "      <td>5249.90</td>\n",
              "    </tr>\n",
              "    <tr>\n",
              "      <th>291</th>\n",
              "      <td>YKBNK.IS</td>\n",
              "      <td>[3, 3, 2, 1, 1, 2, 5, 1, 5, 5, 2, 0, 1, 3, 4, ...</td>\n",
              "      <td>72</td>\n",
              "      <td>77</td>\n",
              "      <td>5472.54</td>\n",
              "    </tr>\n",
              "    <tr>\n",
              "      <th>292</th>\n",
              "      <td>YKBNK.IS</td>\n",
              "      <td>[4, 4, 5, 0, 2, 5, 4, 3, 0, 3, 2, 0, 1, 5, 0, ...</td>\n",
              "      <td>60</td>\n",
              "      <td>65</td>\n",
              "      <td>7530.88</td>\n",
              "    </tr>\n",
              "    <tr>\n",
              "      <th>293</th>\n",
              "      <td>YKBNK.IS</td>\n",
              "      <td>[3, 0, 4, 4, 4, 0, 0, 5, 1, 2, 1, 1, 4, 1, 3, ...</td>\n",
              "      <td>48</td>\n",
              "      <td>40</td>\n",
              "      <td>4643.32</td>\n",
              "    </tr>\n",
              "    <tr>\n",
              "      <th>294</th>\n",
              "      <td>YKBNK.IS</td>\n",
              "      <td>[2, 5, 4, 5, 3, 3, 1, 3, 5, 2, 5, 3, 5, 4, 4, ...</td>\n",
              "      <td>55</td>\n",
              "      <td>62</td>\n",
              "      <td>4580.22</td>\n",
              "    </tr>\n",
              "    <tr>\n",
              "      <th>295</th>\n",
              "      <td>YKBNK.IS</td>\n",
              "      <td>[5, 2, 4, 0, 0, 1, 1, 5, 5, 0, 1, 4, 0, 4, 5, ...</td>\n",
              "      <td>42</td>\n",
              "      <td>56</td>\n",
              "      <td>6015.59</td>\n",
              "    </tr>\n",
              "    <tr>\n",
              "      <th>296</th>\n",
              "      <td>YKBNK.IS</td>\n",
              "      <td>[0, 3, 4, 1, 3, 3, 2, 3, 0, 0, 1, 3, 2, 3, 2, ...</td>\n",
              "      <td>58</td>\n",
              "      <td>68</td>\n",
              "      <td>7101.55</td>\n",
              "    </tr>\n",
              "    <tr>\n",
              "      <th>297</th>\n",
              "      <td>YKBNK.IS</td>\n",
              "      <td>[5, 0, 2, 0, 0, 0, 0, 4, 5, 5, 0, 1, 0, 4, 1, ...</td>\n",
              "      <td>67</td>\n",
              "      <td>71</td>\n",
              "      <td>4688.26</td>\n",
              "    </tr>\n",
              "    <tr>\n",
              "      <th>298</th>\n",
              "      <td>YKBNK.IS</td>\n",
              "      <td>[0, 1, 1, 0, 0, 3, 5, 4, 5, 2, 3, 3, 4, 4, 3, ...</td>\n",
              "      <td>57</td>\n",
              "      <td>47</td>\n",
              "      <td>5649.11</td>\n",
              "    </tr>\n",
              "    <tr>\n",
              "      <th>299</th>\n",
              "      <td>YKBNK.IS</td>\n",
              "      <td>[1, 3, 5, 1, 1, 3, 1, 4, 3, 5, 0, 0, 5, 5, 1, ...</td>\n",
              "      <td>54</td>\n",
              "      <td>47</td>\n",
              "      <td>4491.14</td>\n",
              "    </tr>\n",
              "  </tbody>\n",
              "</table>\n",
              "</div>\n",
              "      <button class=\"colab-df-convert\" onclick=\"convertToInteractive('df-50fc09e8-aa4a-4fea-bd55-3dde54a8dc6b')\"\n",
              "              title=\"Convert this dataframe to an interactive table.\"\n",
              "              style=\"display:none;\">\n",
              "        \n",
              "  <svg xmlns=\"http://www.w3.org/2000/svg\" height=\"24px\"viewBox=\"0 0 24 24\"\n",
              "       width=\"24px\">\n",
              "    <path d=\"M0 0h24v24H0V0z\" fill=\"none\"/>\n",
              "    <path d=\"M18.56 5.44l.94 2.06.94-2.06 2.06-.94-2.06-.94-.94-2.06-.94 2.06-2.06.94zm-11 1L8.5 8.5l.94-2.06 2.06-.94-2.06-.94L8.5 2.5l-.94 2.06-2.06.94zm10 10l.94 2.06.94-2.06 2.06-.94-2.06-.94-.94-2.06-.94 2.06-2.06.94z\"/><path d=\"M17.41 7.96l-1.37-1.37c-.4-.4-.92-.59-1.43-.59-.52 0-1.04.2-1.43.59L10.3 9.45l-7.72 7.72c-.78.78-.78 2.05 0 2.83L4 21.41c.39.39.9.59 1.41.59.51 0 1.02-.2 1.41-.59l7.78-7.78 2.81-2.81c.8-.78.8-2.07 0-2.86zM5.41 20L4 18.59l7.72-7.72 1.47 1.35L5.41 20z\"/>\n",
              "  </svg>\n",
              "      </button>\n",
              "      \n",
              "  <style>\n",
              "    .colab-df-container {\n",
              "      display:flex;\n",
              "      flex-wrap:wrap;\n",
              "      gap: 12px;\n",
              "    }\n",
              "\n",
              "    .colab-df-convert {\n",
              "      background-color: #E8F0FE;\n",
              "      border: none;\n",
              "      border-radius: 50%;\n",
              "      cursor: pointer;\n",
              "      display: none;\n",
              "      fill: #1967D2;\n",
              "      height: 32px;\n",
              "      padding: 0 0 0 0;\n",
              "      width: 32px;\n",
              "    }\n",
              "\n",
              "    .colab-df-convert:hover {\n",
              "      background-color: #E2EBFA;\n",
              "      box-shadow: 0px 1px 2px rgba(60, 64, 67, 0.3), 0px 1px 3px 1px rgba(60, 64, 67, 0.15);\n",
              "      fill: #174EA6;\n",
              "    }\n",
              "\n",
              "    [theme=dark] .colab-df-convert {\n",
              "      background-color: #3B4455;\n",
              "      fill: #D2E3FC;\n",
              "    }\n",
              "\n",
              "    [theme=dark] .colab-df-convert:hover {\n",
              "      background-color: #434B5C;\n",
              "      box-shadow: 0px 1px 3px 1px rgba(0, 0, 0, 0.15);\n",
              "      filter: drop-shadow(0px 1px 2px rgba(0, 0, 0, 0.3));\n",
              "      fill: #FFFFFF;\n",
              "    }\n",
              "  </style>\n",
              "\n",
              "      <script>\n",
              "        const buttonEl =\n",
              "          document.querySelector('#df-50fc09e8-aa4a-4fea-bd55-3dde54a8dc6b button.colab-df-convert');\n",
              "        buttonEl.style.display =\n",
              "          google.colab.kernel.accessAllowed ? 'block' : 'none';\n",
              "\n",
              "        async function convertToInteractive(key) {\n",
              "          const element = document.querySelector('#df-50fc09e8-aa4a-4fea-bd55-3dde54a8dc6b');\n",
              "          const dataTable =\n",
              "            await google.colab.kernel.invokeFunction('convertToInteractive',\n",
              "                                                     [key], {});\n",
              "          if (!dataTable) return;\n",
              "\n",
              "          const docLinkHtml = 'Like what you see? Visit the ' +\n",
              "            '<a target=\"_blank\" href=https://colab.research.google.com/notebooks/data_table.ipynb>data table notebook</a>'\n",
              "            + ' to learn more about interactive tables.';\n",
              "          element.innerHTML = '';\n",
              "          dataTable['output_type'] = 'display_data';\n",
              "          await google.colab.output.renderOutput(dataTable, element);\n",
              "          const docLink = document.createElement('div');\n",
              "          docLink.innerHTML = docLinkHtml;\n",
              "          element.appendChild(docLink);\n",
              "        }\n",
              "      </script>\n",
              "    </div>\n",
              "  </div>\n",
              "  "
            ]
          },
          "metadata": {},
          "execution_count": 16
        }
      ]
    },
    {
      "cell_type": "markdown",
      "source": [
        "## score func"
      ],
      "metadata": {
        "id": "BC4jNHgEKwvg"
      }
    },
    {
      "cell_type": "code",
      "source": [
        "def score(data, x):\n",
        "  scaler = MinMaxScaler(feature_range=(0, 100))\n",
        "  scores = []\n",
        "\n",
        "  for row in range(data.shape[0]):\n",
        "    score = 0\n",
        "\n",
        "    if data[\"RSI\"][row] < 30:\n",
        "      score+=x[0]\n",
        "    elif data[\"RSI\"][row] > 70:\n",
        "      score-=x[1]\n",
        "\n",
        "    if data[\"RSI\"][row] >= 75:\n",
        "      score+=x[58]\n",
        "    elif row > 0 and data[\"RSI\"][row-1] > 73 and data[\"RSI\"][row] < 73:\n",
        "      score-=x[59]\n",
        "\n",
        "    if row > 0 and data[\"RSI\"].iloc[row-1] > 63 and data[\"RSI\"].iloc[row] < 63:\n",
        "      score-=x[2]\n",
        "\n",
        "    if row > 0 and data[\"RSI\"].iloc[row-1] > 49 and data[\"RSI\"].iloc[row] < 49:\n",
        "      score-=x[3]\n",
        "    elif row > 0 and data[\"RSI\"].iloc[row-1] < 50 and data[\"RSI\"].iloc[row] > 50:\n",
        "      score+=x[4]\n",
        "\n",
        "    if data[\"SMA5\"].iloc[row] > data[\"SMA10\"].iloc[row]:\n",
        "      score+=x[5]\n",
        "    else:\n",
        "      score-=x[6]\n",
        "\n",
        "    if row > 0 and data['SMA5'].iloc[row-1] < data['SMA10'].iloc[row-1] and data['SMA5'].iloc[row] > data['SMA10'].iloc[row]:\n",
        "      score+=x[7]\n",
        "    else:\n",
        "      score-=x[8]\n",
        "\n",
        "    if data[\"SMA9\"][row] > data[\"SMA14\"][row]:\n",
        "      score+=x[9]\n",
        "    else:\n",
        "      score-=x[10]\n",
        "\n",
        "    if row > 0 and data['SMA9'].iloc[row-1] < data['SMA14'].iloc[row-1] and data['SMA9'].iloc[row] > data['SMA14'].iloc[row]:\n",
        "      score+=x[11]\n",
        "    else:\n",
        "      score-=x[12]\n",
        "\n",
        "    if data[\"SMA14\"][row] > data[\"SMA21\"][row]:\n",
        "      score+=x[13]\n",
        "    else:\n",
        "      score-=x[14]\n",
        "\n",
        "    if row > 0 and data['SMA14'].iloc[row-1] < data['SMA21'].iloc[row-1] and data['SMA14'].iloc[row] > data['SMA21'].iloc[row]:\n",
        "      score+=x[15]\n",
        "    else:\n",
        "      score-=x[16]\n",
        "\n",
        "    if row > 1 and data['SMA20'].iloc[row-1] < data[\"Close\"].iloc[row-1] and data['SMA20'].iloc[row] < data[\"Close\"].iloc[row]:\n",
        "      score+=x[17]\n",
        "    else:\n",
        "      score-=x[18]\n",
        "\n",
        "    if data[\"SMA21\"][row] > data[\"SMA50\"][row]:\n",
        "      score+=x[19]\n",
        "    else:\n",
        "      score-=x[20]\n",
        "\n",
        "    if row > 0 and data['SMA21'].iloc[row-1] < data['SMA50'].iloc[row-1] and data['SMA21'].iloc[row] > data['SMA50'].iloc[row]:\n",
        "      score+=x[21]\n",
        "    else:\n",
        "      score-=x[22]\n",
        "\n",
        "    if row > 0 and data['SMA50'].iloc[row-1] < data['SMA200'].iloc[row-1] and data['SMA50'].iloc[row] > data['SMA200'].iloc[row]:\n",
        "      score+=x[23]\n",
        "\n",
        "    if data['Close'][row] > data[\"EMA14\"][row]:\n",
        "      score+=x[24]\n",
        "    else:\n",
        "      score-=x[25]\n",
        "\n",
        "    if data[\"EMA5\"][row] > data[\"EMA14\"][row]:\n",
        "      score+=x[26]\n",
        "    else:\n",
        "      score-=x[27]\n",
        "\n",
        "    if row > 0 and data['EMA5'].iloc[row-1] < data['EMA14'].iloc[row-1] and data['EMA5'].iloc[row] > data['EMA14'].iloc[row]:\n",
        "      score+=x[28]\n",
        "    else:\n",
        "      score-=x[29]\n",
        "\n",
        "    if data[\"EMA14\"][row] > data[\"EMA21\"][row]:\n",
        "      score+=x[30]\n",
        "    else:\n",
        "      score-=x[31]\n",
        "\n",
        "    if row > 0 and data['EMA14'].iloc[row-1] < data['EMA21'].iloc[row-1] and data['EMA14'].iloc[row] > data['EMA21'].iloc[row]:\n",
        "      score+=x[32]\n",
        "    else:\n",
        "      score-=x[33]\n",
        "\n",
        "    if data[\"EMA21\"][row] > data[\"EMA50\"][row]:\n",
        "      score+=x[34]\n",
        "    else:\n",
        "      score-=x[35]\n",
        "\n",
        "    if row > 0 and data['EMA21'].iloc[row-1] < data['EMA50'].iloc[row-1] and data['EMA21'].iloc[row] > data['EMA50'].iloc[row]:\n",
        "      score+=x[36]\n",
        "    else:\n",
        "      score-=x[37]\n",
        "\n",
        "    if data[\"STOCH-D\"][row] <= 20:\n",
        "      score+=x[38]\n",
        "    elif data[\"STOCH-D\"][row] >= 80:\n",
        "      score-=x[39]\n",
        "\n",
        "    if row > 0 and data[\"STOCH-D\"][row-1] > 65 and data[\"STOCH-D\"][row] < 65:\n",
        "      score-=x[40]\n",
        "    elif row > 0 and data[\"STOCH-D\"][row-1] < 35 and data[\"STOCH-D\"][row] > 35:\n",
        "      score=+x[41]\n",
        "\n",
        "    if data[\"MACD\"][row] > data[\"SIGNAL\"][row]:\n",
        "      score+=x[42]\n",
        "    if row > 0 and data[\"MACD\"][row] > data[\"SIGNAL\"][row] and data[\"HISTOGRAM\"][row-1] < 0 and data[\"HISTOGRAM\"][row] > 0:\n",
        "      score+=x[43]\n",
        "    if row > 0 and data[\"MACD\"][row] < data[\"SIGNAL\"][row] and data[\"HISTOGRAM\"][row-1] > 0 and data[\"HISTOGRAM\"][row] < 0:\n",
        "      score-=x[44]\n",
        "    if data[\"MACD\"][row] < data[\"SIGNAL\"][row]:\n",
        "      score-=x[45]\n",
        "\n",
        "    if data['MACD'].tail(7).mean() > 0:\n",
        "      score+=x[46]\n",
        "    else:\n",
        "      score-=x[47]\n",
        "\n",
        "    if data['MACD'].tail(30).mean() > 0:\n",
        "      score+=x[48]\n",
        "    else:\n",
        "      score-=x[49]\n",
        "\n",
        "    if data[\"BB-LOWER\"].iloc[row] > data[\"Close\"].iloc[row]:\n",
        "        score+=x[50]\n",
        "    elif data[\"BB-UPPER\"].iloc[row] < data[\"Close\"].iloc[row]:\n",
        "        score-=x[51]\n",
        "    if data[\"BB-MID\"].iloc[row] < data[\"Close\"].iloc[row] and data[\"BB-LOWER\"].iloc[row] - data[\"Close\"].iloc[row] < data[\"BB-MID\"].iloc[row] - data[\"Close\"].iloc[row]:\n",
        "        score+=x[52]\n",
        "    elif data[\"BB-MID\"].iloc[row] > data[\"Close\"].iloc[row] and data[\"BB-UPPER\"].iloc[row] - data[\"Close\"].iloc[row] < data[\"BB-MID\"].iloc[row] - data[\"Close\"].iloc[row]:\n",
        "        score-=x[53]\n",
        "\n",
        "    if (data[\"STDEV\"].max() + data[\"STDEV\"].min()) / 2 > data[\"STDEV\"][row]:\n",
        "      score+=1\n",
        "    else:\n",
        "      score-=1\n",
        "\n",
        "    if data[\"PSAR\"][row] < data[\"Close\"][row]:\n",
        "      score+=1\n",
        "    else:\n",
        "      score-=1\n",
        "\n",
        "    if data[\"WILLIAMS\"][row] < -80:\n",
        "      score+=1\n",
        "    elif data[\"WILLIAMS\"][row] > -20:\n",
        "      score-=1\n",
        "\n",
        "    if data[\"AROON\"][row] > 0:\n",
        "      score-=1\n",
        "    else:\n",
        "      score+=1\n",
        "\n",
        "    if row > 0 and data[\"OBV\"][row-1] < data[\"OBV\"][row] and data[\"Close\"][row] > data[\"Close\"][row-1]:\n",
        "      score+=1\n",
        "    elif row > 0 and data[\"OBV\"][row-1] > data[\"OBV\"][row] and data[\"Close\"][row] < data[\"Close\"][row-1]:\n",
        "      score-=1\n",
        "\n",
        "    if row > 0 and (data['CCI'][row] > -100) & (data['CCI'][row-1] <= -100):\n",
        "      score+=1\n",
        "    elif row > 0 and (data['CCI'][row] < 100) & (data['CCI'][row-1] >= 100):\n",
        "      score-=1\n",
        "\n",
        "    if data[\"ROC\"][row] > 0:\n",
        "      score+=1\n",
        "    elif data[\"ROC\"][row] < 0:\n",
        "      score-=1\n",
        "\n",
        "    if data[\"BULL\"][row] > 0:\n",
        "      score+=1\n",
        "    elif data[\"BEAR\"][row] < 0:\n",
        "      score-=1\n",
        "\n",
        "    if (data['ADX'][row] > 25) and (data['+DI'][row] > data['-DI'][row]):\n",
        "      score+=x[54]\n",
        "    if data['ADX'][row] > data['+DI'][row] and data['ADX'][row] > data['-DI'][row]:\n",
        "      score+=x[55]\n",
        "    if data['ADX'][row] < data['+DI'][row] and data['ADX'][row] < data['-DI'][row]:\n",
        "      score-=x[56]\n",
        "    elif (data['ADX'][row] > 40) and (data['+DI'][row] < data['-DI'][row]):\n",
        "      score-=x[57]\n",
        "\n",
        "    scores.append(score)\n",
        "\n",
        "  data[\"SCORE\"] = scores\n",
        "  data[\"SCORE\"] = scaler.fit_transform(data[\"SCORE\"].values.reshape(-1, 1))\n",
        "  return data"
      ],
      "metadata": {
        "id": "VWjFxfExKvYQ"
      },
      "execution_count": 17,
      "outputs": []
    },
    {
      "cell_type": "markdown",
      "source": [
        "# buy and sell stcoks"
      ],
      "metadata": {
        "id": "tNaIRDPLKzS7"
      }
    },
    {
      "cell_type": "code",
      "source": [
        "buffer_stock = \"\"\n",
        "\n",
        "for row in range(result_df.shape[0]):\n",
        "  loop_stock = result_df[\"STOCK\"][row]\n",
        "\n",
        "  if buffer_stock != loop_stock:\n",
        "    stock_df = result_df[result_df[\"STOCK\"] == loop_stock]\n",
        "\n",
        "    data = yf.download(loop_stock)\n",
        "    data = score(data, stock_df.sort_values(by=\"PROFIT\", ascending=False)[\"WEIGHTS\"])\n",
        "\n",
        "    buffer_stock = loop_stock"
      ],
      "metadata": {
        "colab": {
          "base_uri": "https://localhost:8080/",
          "height": 519
        },
        "id": "sdXvG3r8LGKs",
        "outputId": "c1fe7458-ff2d-434c-ef59-86f08def6105"
      },
      "execution_count": 19,
      "outputs": [
        {
          "output_type": "stream",
          "name": "stdout",
          "text": [
            "\r[*********************100%***********************]  1 of 1 completed\n"
          ]
        },
        {
          "output_type": "error",
          "ename": "KeyError",
          "evalue": "ignored",
          "traceback": [
            "\u001b[0;31m---------------------------------------------------------------------------\u001b[0m",
            "\u001b[0;31mKeyError\u001b[0m                                  Traceback (most recent call last)",
            "\u001b[0;32m/usr/local/lib/python3.10/dist-packages/pandas/core/indexes/base.py\u001b[0m in \u001b[0;36mget_loc\u001b[0;34m(self, key, method, tolerance)\u001b[0m\n\u001b[1;32m   3801\u001b[0m             \u001b[0;32mtry\u001b[0m\u001b[0;34m:\u001b[0m\u001b[0;34m\u001b[0m\u001b[0;34m\u001b[0m\u001b[0m\n\u001b[0;32m-> 3802\u001b[0;31m                 \u001b[0;32mreturn\u001b[0m \u001b[0mself\u001b[0m\u001b[0;34m.\u001b[0m\u001b[0m_engine\u001b[0m\u001b[0;34m.\u001b[0m\u001b[0mget_loc\u001b[0m\u001b[0;34m(\u001b[0m\u001b[0mcasted_key\u001b[0m\u001b[0;34m)\u001b[0m\u001b[0;34m\u001b[0m\u001b[0;34m\u001b[0m\u001b[0m\n\u001b[0m\u001b[1;32m   3803\u001b[0m             \u001b[0;32mexcept\u001b[0m \u001b[0mKeyError\u001b[0m \u001b[0;32mas\u001b[0m \u001b[0merr\u001b[0m\u001b[0;34m:\u001b[0m\u001b[0;34m\u001b[0m\u001b[0;34m\u001b[0m\u001b[0m\n",
            "\u001b[0;32m/usr/local/lib/python3.10/dist-packages/pandas/_libs/index.pyx\u001b[0m in \u001b[0;36mpandas._libs.index.IndexEngine.get_loc\u001b[0;34m()\u001b[0m\n",
            "\u001b[0;32m/usr/local/lib/python3.10/dist-packages/pandas/_libs/index.pyx\u001b[0m in \u001b[0;36mpandas._libs.index.IndexEngine.get_loc\u001b[0;34m()\u001b[0m\n",
            "\u001b[0;32mpandas/_libs/hashtable_class_helper.pxi\u001b[0m in \u001b[0;36mpandas._libs.hashtable.PyObjectHashTable.get_item\u001b[0;34m()\u001b[0m\n",
            "\u001b[0;32mpandas/_libs/hashtable_class_helper.pxi\u001b[0m in \u001b[0;36mpandas._libs.hashtable.PyObjectHashTable.get_item\u001b[0;34m()\u001b[0m\n",
            "\u001b[0;31mKeyError\u001b[0m: 'RSI'",
            "\nThe above exception was the direct cause of the following exception:\n",
            "\u001b[0;31mKeyError\u001b[0m                                  Traceback (most recent call last)",
            "\u001b[0;32m<ipython-input-19-7239991cbfa0>\u001b[0m in \u001b[0;36m<cell line: 3>\u001b[0;34m()\u001b[0m\n\u001b[1;32m      8\u001b[0m \u001b[0;34m\u001b[0m\u001b[0m\n\u001b[1;32m      9\u001b[0m     \u001b[0mdata\u001b[0m \u001b[0;34m=\u001b[0m \u001b[0myf\u001b[0m\u001b[0;34m.\u001b[0m\u001b[0mdownload\u001b[0m\u001b[0;34m(\u001b[0m\u001b[0mloop_stock\u001b[0m\u001b[0;34m)\u001b[0m\u001b[0;34m\u001b[0m\u001b[0;34m\u001b[0m\u001b[0m\n\u001b[0;32m---> 10\u001b[0;31m     \u001b[0mdata\u001b[0m \u001b[0;34m=\u001b[0m \u001b[0mscore\u001b[0m\u001b[0;34m(\u001b[0m\u001b[0mdata\u001b[0m\u001b[0;34m,\u001b[0m \u001b[0mstock_df\u001b[0m\u001b[0;34m.\u001b[0m\u001b[0msort_values\u001b[0m\u001b[0;34m(\u001b[0m\u001b[0mby\u001b[0m\u001b[0;34m=\u001b[0m\u001b[0;34m\"PROFIT\"\u001b[0m\u001b[0;34m,\u001b[0m \u001b[0mascending\u001b[0m\u001b[0;34m=\u001b[0m\u001b[0;32mFalse\u001b[0m\u001b[0;34m)\u001b[0m\u001b[0;34m[\u001b[0m\u001b[0;34m\"WEIGHTS\"\u001b[0m\u001b[0;34m]\u001b[0m\u001b[0;34m)\u001b[0m\u001b[0;34m\u001b[0m\u001b[0;34m\u001b[0m\u001b[0m\n\u001b[0m\u001b[1;32m     11\u001b[0m \u001b[0;34m\u001b[0m\u001b[0m\n\u001b[1;32m     12\u001b[0m     \u001b[0mbuffer_stock\u001b[0m \u001b[0;34m=\u001b[0m \u001b[0mloop_stock\u001b[0m\u001b[0;34m\u001b[0m\u001b[0;34m\u001b[0m\u001b[0m\n",
            "\u001b[0;32m<ipython-input-17-2e6f18231265>\u001b[0m in \u001b[0;36mscore\u001b[0;34m(data, x)\u001b[0m\n\u001b[1;32m      6\u001b[0m     \u001b[0mscore\u001b[0m \u001b[0;34m=\u001b[0m \u001b[0;36m0\u001b[0m\u001b[0;34m\u001b[0m\u001b[0;34m\u001b[0m\u001b[0m\n\u001b[1;32m      7\u001b[0m \u001b[0;34m\u001b[0m\u001b[0m\n\u001b[0;32m----> 8\u001b[0;31m     \u001b[0;32mif\u001b[0m \u001b[0mdata\u001b[0m\u001b[0;34m[\u001b[0m\u001b[0;34m\"RSI\"\u001b[0m\u001b[0;34m]\u001b[0m\u001b[0;34m[\u001b[0m\u001b[0mrow\u001b[0m\u001b[0;34m]\u001b[0m \u001b[0;34m<\u001b[0m \u001b[0;36m30\u001b[0m\u001b[0;34m:\u001b[0m\u001b[0;34m\u001b[0m\u001b[0;34m\u001b[0m\u001b[0m\n\u001b[0m\u001b[1;32m      9\u001b[0m       \u001b[0mscore\u001b[0m\u001b[0;34m+=\u001b[0m\u001b[0mx\u001b[0m\u001b[0;34m[\u001b[0m\u001b[0;36m0\u001b[0m\u001b[0;34m]\u001b[0m\u001b[0;34m\u001b[0m\u001b[0;34m\u001b[0m\u001b[0m\n\u001b[1;32m     10\u001b[0m     \u001b[0;32melif\u001b[0m \u001b[0mdata\u001b[0m\u001b[0;34m[\u001b[0m\u001b[0;34m\"RSI\"\u001b[0m\u001b[0;34m]\u001b[0m\u001b[0;34m[\u001b[0m\u001b[0mrow\u001b[0m\u001b[0;34m]\u001b[0m \u001b[0;34m>\u001b[0m \u001b[0;36m70\u001b[0m\u001b[0;34m:\u001b[0m\u001b[0;34m\u001b[0m\u001b[0;34m\u001b[0m\u001b[0m\n",
            "\u001b[0;32m/usr/local/lib/python3.10/dist-packages/pandas/core/frame.py\u001b[0m in \u001b[0;36m__getitem__\u001b[0;34m(self, key)\u001b[0m\n\u001b[1;32m   3805\u001b[0m             \u001b[0;32mif\u001b[0m \u001b[0mself\u001b[0m\u001b[0;34m.\u001b[0m\u001b[0mcolumns\u001b[0m\u001b[0;34m.\u001b[0m\u001b[0mnlevels\u001b[0m \u001b[0;34m>\u001b[0m \u001b[0;36m1\u001b[0m\u001b[0;34m:\u001b[0m\u001b[0;34m\u001b[0m\u001b[0;34m\u001b[0m\u001b[0m\n\u001b[1;32m   3806\u001b[0m                 \u001b[0;32mreturn\u001b[0m \u001b[0mself\u001b[0m\u001b[0;34m.\u001b[0m\u001b[0m_getitem_multilevel\u001b[0m\u001b[0;34m(\u001b[0m\u001b[0mkey\u001b[0m\u001b[0;34m)\u001b[0m\u001b[0;34m\u001b[0m\u001b[0;34m\u001b[0m\u001b[0m\n\u001b[0;32m-> 3807\u001b[0;31m             \u001b[0mindexer\u001b[0m \u001b[0;34m=\u001b[0m \u001b[0mself\u001b[0m\u001b[0;34m.\u001b[0m\u001b[0mcolumns\u001b[0m\u001b[0;34m.\u001b[0m\u001b[0mget_loc\u001b[0m\u001b[0;34m(\u001b[0m\u001b[0mkey\u001b[0m\u001b[0;34m)\u001b[0m\u001b[0;34m\u001b[0m\u001b[0;34m\u001b[0m\u001b[0m\n\u001b[0m\u001b[1;32m   3808\u001b[0m             \u001b[0;32mif\u001b[0m \u001b[0mis_integer\u001b[0m\u001b[0;34m(\u001b[0m\u001b[0mindexer\u001b[0m\u001b[0;34m)\u001b[0m\u001b[0;34m:\u001b[0m\u001b[0;34m\u001b[0m\u001b[0;34m\u001b[0m\u001b[0m\n\u001b[1;32m   3809\u001b[0m                 \u001b[0mindexer\u001b[0m \u001b[0;34m=\u001b[0m \u001b[0;34m[\u001b[0m\u001b[0mindexer\u001b[0m\u001b[0;34m]\u001b[0m\u001b[0;34m\u001b[0m\u001b[0;34m\u001b[0m\u001b[0m\n",
            "\u001b[0;32m/usr/local/lib/python3.10/dist-packages/pandas/core/indexes/base.py\u001b[0m in \u001b[0;36mget_loc\u001b[0;34m(self, key, method, tolerance)\u001b[0m\n\u001b[1;32m   3802\u001b[0m                 \u001b[0;32mreturn\u001b[0m \u001b[0mself\u001b[0m\u001b[0;34m.\u001b[0m\u001b[0m_engine\u001b[0m\u001b[0;34m.\u001b[0m\u001b[0mget_loc\u001b[0m\u001b[0;34m(\u001b[0m\u001b[0mcasted_key\u001b[0m\u001b[0;34m)\u001b[0m\u001b[0;34m\u001b[0m\u001b[0;34m\u001b[0m\u001b[0m\n\u001b[1;32m   3803\u001b[0m             \u001b[0;32mexcept\u001b[0m \u001b[0mKeyError\u001b[0m \u001b[0;32mas\u001b[0m \u001b[0merr\u001b[0m\u001b[0;34m:\u001b[0m\u001b[0;34m\u001b[0m\u001b[0;34m\u001b[0m\u001b[0m\n\u001b[0;32m-> 3804\u001b[0;31m                 \u001b[0;32mraise\u001b[0m \u001b[0mKeyError\u001b[0m\u001b[0;34m(\u001b[0m\u001b[0mkey\u001b[0m\u001b[0;34m)\u001b[0m \u001b[0;32mfrom\u001b[0m \u001b[0merr\u001b[0m\u001b[0;34m\u001b[0m\u001b[0;34m\u001b[0m\u001b[0m\n\u001b[0m\u001b[1;32m   3805\u001b[0m             \u001b[0;32mexcept\u001b[0m \u001b[0mTypeError\u001b[0m\u001b[0;34m:\u001b[0m\u001b[0;34m\u001b[0m\u001b[0;34m\u001b[0m\u001b[0m\n\u001b[1;32m   3806\u001b[0m                 \u001b[0;31m# If we have a listlike key, _check_indexing_error will raise\u001b[0m\u001b[0;34m\u001b[0m\u001b[0;34m\u001b[0m\u001b[0m\n",
            "\u001b[0;31mKeyError\u001b[0m: 'RSI'"
          ]
        }
      ]
    },
    {
      "cell_type": "markdown",
      "source": [
        "## profit calc"
      ],
      "metadata": {
        "id": "90nJSmNUmedP"
      }
    },
    {
      "cell_type": "code",
      "source": [
        "buy_threshold = 79\n",
        "sell_threshold = 40\n",
        "\n",
        "test_df = test_the_market([stock], buy_threshold, sell_threshold, start=start, end=end, balance=balance, today=today)\n",
        "\n",
        "profit_or_loss = []\n",
        "\n",
        "for stock in [stock]:\n",
        "  stock_df = test_df[test_df[\"STOCK\"] == stock]\n",
        "\n",
        "  if stock_df.empty != True:\n",
        "    profit_or_loss.append([stock_df[\"STOCK\"].iloc[-1] ,stock_df['TRY BALANCE'].tail(1).item() - balance])\n",
        "\n",
        "profit_df = pd.DataFrame(profit_or_loss)\n",
        "print(\"\\nTOPLAM KÂR: \" + str(int(sum(profit_df[1]))) + \"TL\")\n",
        "profit_df"
      ],
      "metadata": {
        "colab": {
          "base_uri": "https://localhost:8080/",
          "height": 115
        },
        "id": "5TZwTD7NjtXM",
        "outputId": "801d809a-4f58-4bdd-e400-f9abd6689a96"
      },
      "execution_count": 237,
      "outputs": [
        {
          "output_type": "stream",
          "name": "stdout",
          "text": [
            "\n",
            "TOPLAM KÂR: 10331TL\n"
          ]
        },
        {
          "output_type": "execute_result",
          "data": {
            "text/plain": [
              "          0        1\n",
              "0  PGSUS.IS 10331.45"
            ],
            "text/html": [
              "\n",
              "  <div id=\"df-1dc9a433-3e22-48bc-8c9d-d314f1226656\">\n",
              "    <div class=\"colab-df-container\">\n",
              "      <div>\n",
              "<style scoped>\n",
              "    .dataframe tbody tr th:only-of-type {\n",
              "        vertical-align: middle;\n",
              "    }\n",
              "\n",
              "    .dataframe tbody tr th {\n",
              "        vertical-align: top;\n",
              "    }\n",
              "\n",
              "    .dataframe thead th {\n",
              "        text-align: right;\n",
              "    }\n",
              "</style>\n",
              "<table border=\"1\" class=\"dataframe\">\n",
              "  <thead>\n",
              "    <tr style=\"text-align: right;\">\n",
              "      <th></th>\n",
              "      <th>0</th>\n",
              "      <th>1</th>\n",
              "    </tr>\n",
              "  </thead>\n",
              "  <tbody>\n",
              "    <tr>\n",
              "      <th>0</th>\n",
              "      <td>PGSUS.IS</td>\n",
              "      <td>10331.45</td>\n",
              "    </tr>\n",
              "  </tbody>\n",
              "</table>\n",
              "</div>\n",
              "      <button class=\"colab-df-convert\" onclick=\"convertToInteractive('df-1dc9a433-3e22-48bc-8c9d-d314f1226656')\"\n",
              "              title=\"Convert this dataframe to an interactive table.\"\n",
              "              style=\"display:none;\">\n",
              "        \n",
              "  <svg xmlns=\"http://www.w3.org/2000/svg\" height=\"24px\"viewBox=\"0 0 24 24\"\n",
              "       width=\"24px\">\n",
              "    <path d=\"M0 0h24v24H0V0z\" fill=\"none\"/>\n",
              "    <path d=\"M18.56 5.44l.94 2.06.94-2.06 2.06-.94-2.06-.94-.94-2.06-.94 2.06-2.06.94zm-11 1L8.5 8.5l.94-2.06 2.06-.94-2.06-.94L8.5 2.5l-.94 2.06-2.06.94zm10 10l.94 2.06.94-2.06 2.06-.94-2.06-.94-.94-2.06-.94 2.06-2.06.94z\"/><path d=\"M17.41 7.96l-1.37-1.37c-.4-.4-.92-.59-1.43-.59-.52 0-1.04.2-1.43.59L10.3 9.45l-7.72 7.72c-.78.78-.78 2.05 0 2.83L4 21.41c.39.39.9.59 1.41.59.51 0 1.02-.2 1.41-.59l7.78-7.78 2.81-2.81c.8-.78.8-2.07 0-2.86zM5.41 20L4 18.59l7.72-7.72 1.47 1.35L5.41 20z\"/>\n",
              "  </svg>\n",
              "      </button>\n",
              "      \n",
              "  <style>\n",
              "    .colab-df-container {\n",
              "      display:flex;\n",
              "      flex-wrap:wrap;\n",
              "      gap: 12px;\n",
              "    }\n",
              "\n",
              "    .colab-df-convert {\n",
              "      background-color: #E8F0FE;\n",
              "      border: none;\n",
              "      border-radius: 50%;\n",
              "      cursor: pointer;\n",
              "      display: none;\n",
              "      fill: #1967D2;\n",
              "      height: 32px;\n",
              "      padding: 0 0 0 0;\n",
              "      width: 32px;\n",
              "    }\n",
              "\n",
              "    .colab-df-convert:hover {\n",
              "      background-color: #E2EBFA;\n",
              "      box-shadow: 0px 1px 2px rgba(60, 64, 67, 0.3), 0px 1px 3px 1px rgba(60, 64, 67, 0.15);\n",
              "      fill: #174EA6;\n",
              "    }\n",
              "\n",
              "    [theme=dark] .colab-df-convert {\n",
              "      background-color: #3B4455;\n",
              "      fill: #D2E3FC;\n",
              "    }\n",
              "\n",
              "    [theme=dark] .colab-df-convert:hover {\n",
              "      background-color: #434B5C;\n",
              "      box-shadow: 0px 1px 3px 1px rgba(0, 0, 0, 0.15);\n",
              "      filter: drop-shadow(0px 1px 2px rgba(0, 0, 0, 0.3));\n",
              "      fill: #FFFFFF;\n",
              "    }\n",
              "  </style>\n",
              "\n",
              "      <script>\n",
              "        const buttonEl =\n",
              "          document.querySelector('#df-1dc9a433-3e22-48bc-8c9d-d314f1226656 button.colab-df-convert');\n",
              "        buttonEl.style.display =\n",
              "          google.colab.kernel.accessAllowed ? 'block' : 'none';\n",
              "\n",
              "        async function convertToInteractive(key) {\n",
              "          const element = document.querySelector('#df-1dc9a433-3e22-48bc-8c9d-d314f1226656');\n",
              "          const dataTable =\n",
              "            await google.colab.kernel.invokeFunction('convertToInteractive',\n",
              "                                                     [key], {});\n",
              "          if (!dataTable) return;\n",
              "\n",
              "          const docLinkHtml = 'Like what you see? Visit the ' +\n",
              "            '<a target=\"_blank\" href=https://colab.research.google.com/notebooks/data_table.ipynb>data table notebook</a>'\n",
              "            + ' to learn more about interactive tables.';\n",
              "          element.innerHTML = '';\n",
              "          dataTable['output_type'] = 'display_data';\n",
              "          await google.colab.output.renderOutput(dataTable, element);\n",
              "          const docLink = document.createElement('div');\n",
              "          docLink.innerHTML = docLinkHtml;\n",
              "          element.appendChild(docLink);\n",
              "        }\n",
              "      </script>\n",
              "    </div>\n",
              "  </div>\n",
              "  "
            ]
          },
          "metadata": {},
          "execution_count": 237
        }
      ]
    },
    {
      "cell_type": "code",
      "source": [
        "test_df\n",
        "#AKBNK 4421, BUY: 69 SELL: 76"
      ],
      "metadata": {
        "colab": {
          "base_uri": "https://localhost:8080/",
          "height": 300
        },
        "id": "_UemMUCVjuLk",
        "outputId": "0f456599-a5b7-4770-a8ef-adfd69683eb9"
      },
      "execution_count": 238,
      "outputs": [
        {
          "output_type": "execute_result",
          "data": {
            "text/plain": [
              "      STOCK    B/S                 DATE  PRICE  STOCK BALANCE  TRY BALANCE  \\\n",
              "0  PGSUS.IS    BUY  2022-03-17 00:00:00  95.40          20.96         0.00   \n",
              "1  PGSUS.IS   SELL  2022-07-27 00:00:00 166.50           0.00      3490.57   \n",
              "2  PGSUS.IS    BUY  2022-08-09 00:00:00 179.50          19.45         0.00   \n",
              "3  PGSUS.IS   SELL  2023-02-01 00:00:00 483.30           0.00      9398.28   \n",
              "4  PGSUS.IS    BUY  2023-03-06 00:00:00 497.60          18.89         0.00   \n",
              "5  PGSUS.IS   SELL  2023-03-16 00:00:00 496.40           0.00      9375.61   \n",
              "6  PGSUS.IS    BUY  2023-05-30 00:00:00 465.00          20.16         0.00   \n",
              "7  PGSUS.IS  CLOSE           2023-06-26 611.60           0.00     12331.45   \n",
              "\n",
              "   SCORE  LAST PRICE  \n",
              "0  85.51      611.60  \n",
              "1  37.68      611.60  \n",
              "2  95.65      611.60  \n",
              "3  33.33      611.60  \n",
              "4  86.96      611.60  \n",
              "5  39.13      611.60  \n",
              "6  85.51      611.60  \n",
              "7    NaN      611.60  "
            ],
            "text/html": [
              "\n",
              "  <div id=\"df-1b94c59d-a9ad-4606-a232-ed270caa2f57\">\n",
              "    <div class=\"colab-df-container\">\n",
              "      <div>\n",
              "<style scoped>\n",
              "    .dataframe tbody tr th:only-of-type {\n",
              "        vertical-align: middle;\n",
              "    }\n",
              "\n",
              "    .dataframe tbody tr th {\n",
              "        vertical-align: top;\n",
              "    }\n",
              "\n",
              "    .dataframe thead th {\n",
              "        text-align: right;\n",
              "    }\n",
              "</style>\n",
              "<table border=\"1\" class=\"dataframe\">\n",
              "  <thead>\n",
              "    <tr style=\"text-align: right;\">\n",
              "      <th></th>\n",
              "      <th>STOCK</th>\n",
              "      <th>B/S</th>\n",
              "      <th>DATE</th>\n",
              "      <th>PRICE</th>\n",
              "      <th>STOCK BALANCE</th>\n",
              "      <th>TRY BALANCE</th>\n",
              "      <th>SCORE</th>\n",
              "      <th>LAST PRICE</th>\n",
              "    </tr>\n",
              "  </thead>\n",
              "  <tbody>\n",
              "    <tr>\n",
              "      <th>0</th>\n",
              "      <td>PGSUS.IS</td>\n",
              "      <td>BUY</td>\n",
              "      <td>2022-03-17 00:00:00</td>\n",
              "      <td>95.40</td>\n",
              "      <td>20.96</td>\n",
              "      <td>0.00</td>\n",
              "      <td>85.51</td>\n",
              "      <td>611.60</td>\n",
              "    </tr>\n",
              "    <tr>\n",
              "      <th>1</th>\n",
              "      <td>PGSUS.IS</td>\n",
              "      <td>SELL</td>\n",
              "      <td>2022-07-27 00:00:00</td>\n",
              "      <td>166.50</td>\n",
              "      <td>0.00</td>\n",
              "      <td>3490.57</td>\n",
              "      <td>37.68</td>\n",
              "      <td>611.60</td>\n",
              "    </tr>\n",
              "    <tr>\n",
              "      <th>2</th>\n",
              "      <td>PGSUS.IS</td>\n",
              "      <td>BUY</td>\n",
              "      <td>2022-08-09 00:00:00</td>\n",
              "      <td>179.50</td>\n",
              "      <td>19.45</td>\n",
              "      <td>0.00</td>\n",
              "      <td>95.65</td>\n",
              "      <td>611.60</td>\n",
              "    </tr>\n",
              "    <tr>\n",
              "      <th>3</th>\n",
              "      <td>PGSUS.IS</td>\n",
              "      <td>SELL</td>\n",
              "      <td>2023-02-01 00:00:00</td>\n",
              "      <td>483.30</td>\n",
              "      <td>0.00</td>\n",
              "      <td>9398.28</td>\n",
              "      <td>33.33</td>\n",
              "      <td>611.60</td>\n",
              "    </tr>\n",
              "    <tr>\n",
              "      <th>4</th>\n",
              "      <td>PGSUS.IS</td>\n",
              "      <td>BUY</td>\n",
              "      <td>2023-03-06 00:00:00</td>\n",
              "      <td>497.60</td>\n",
              "      <td>18.89</td>\n",
              "      <td>0.00</td>\n",
              "      <td>86.96</td>\n",
              "      <td>611.60</td>\n",
              "    </tr>\n",
              "    <tr>\n",
              "      <th>5</th>\n",
              "      <td>PGSUS.IS</td>\n",
              "      <td>SELL</td>\n",
              "      <td>2023-03-16 00:00:00</td>\n",
              "      <td>496.40</td>\n",
              "      <td>0.00</td>\n",
              "      <td>9375.61</td>\n",
              "      <td>39.13</td>\n",
              "      <td>611.60</td>\n",
              "    </tr>\n",
              "    <tr>\n",
              "      <th>6</th>\n",
              "      <td>PGSUS.IS</td>\n",
              "      <td>BUY</td>\n",
              "      <td>2023-05-30 00:00:00</td>\n",
              "      <td>465.00</td>\n",
              "      <td>20.16</td>\n",
              "      <td>0.00</td>\n",
              "      <td>85.51</td>\n",
              "      <td>611.60</td>\n",
              "    </tr>\n",
              "    <tr>\n",
              "      <th>7</th>\n",
              "      <td>PGSUS.IS</td>\n",
              "      <td>CLOSE</td>\n",
              "      <td>2023-06-26</td>\n",
              "      <td>611.60</td>\n",
              "      <td>0.00</td>\n",
              "      <td>12331.45</td>\n",
              "      <td>NaN</td>\n",
              "      <td>611.60</td>\n",
              "    </tr>\n",
              "  </tbody>\n",
              "</table>\n",
              "</div>\n",
              "      <button class=\"colab-df-convert\" onclick=\"convertToInteractive('df-1b94c59d-a9ad-4606-a232-ed270caa2f57')\"\n",
              "              title=\"Convert this dataframe to an interactive table.\"\n",
              "              style=\"display:none;\">\n",
              "        \n",
              "  <svg xmlns=\"http://www.w3.org/2000/svg\" height=\"24px\"viewBox=\"0 0 24 24\"\n",
              "       width=\"24px\">\n",
              "    <path d=\"M0 0h24v24H0V0z\" fill=\"none\"/>\n",
              "    <path d=\"M18.56 5.44l.94 2.06.94-2.06 2.06-.94-2.06-.94-.94-2.06-.94 2.06-2.06.94zm-11 1L8.5 8.5l.94-2.06 2.06-.94-2.06-.94L8.5 2.5l-.94 2.06-2.06.94zm10 10l.94 2.06.94-2.06 2.06-.94-2.06-.94-.94-2.06-.94 2.06-2.06.94z\"/><path d=\"M17.41 7.96l-1.37-1.37c-.4-.4-.92-.59-1.43-.59-.52 0-1.04.2-1.43.59L10.3 9.45l-7.72 7.72c-.78.78-.78 2.05 0 2.83L4 21.41c.39.39.9.59 1.41.59.51 0 1.02-.2 1.41-.59l7.78-7.78 2.81-2.81c.8-.78.8-2.07 0-2.86zM5.41 20L4 18.59l7.72-7.72 1.47 1.35L5.41 20z\"/>\n",
              "  </svg>\n",
              "      </button>\n",
              "      \n",
              "  <style>\n",
              "    .colab-df-container {\n",
              "      display:flex;\n",
              "      flex-wrap:wrap;\n",
              "      gap: 12px;\n",
              "    }\n",
              "\n",
              "    .colab-df-convert {\n",
              "      background-color: #E8F0FE;\n",
              "      border: none;\n",
              "      border-radius: 50%;\n",
              "      cursor: pointer;\n",
              "      display: none;\n",
              "      fill: #1967D2;\n",
              "      height: 32px;\n",
              "      padding: 0 0 0 0;\n",
              "      width: 32px;\n",
              "    }\n",
              "\n",
              "    .colab-df-convert:hover {\n",
              "      background-color: #E2EBFA;\n",
              "      box-shadow: 0px 1px 2px rgba(60, 64, 67, 0.3), 0px 1px 3px 1px rgba(60, 64, 67, 0.15);\n",
              "      fill: #174EA6;\n",
              "    }\n",
              "\n",
              "    [theme=dark] .colab-df-convert {\n",
              "      background-color: #3B4455;\n",
              "      fill: #D2E3FC;\n",
              "    }\n",
              "\n",
              "    [theme=dark] .colab-df-convert:hover {\n",
              "      background-color: #434B5C;\n",
              "      box-shadow: 0px 1px 3px 1px rgba(0, 0, 0, 0.15);\n",
              "      filter: drop-shadow(0px 1px 2px rgba(0, 0, 0, 0.3));\n",
              "      fill: #FFFFFF;\n",
              "    }\n",
              "  </style>\n",
              "\n",
              "      <script>\n",
              "        const buttonEl =\n",
              "          document.querySelector('#df-1b94c59d-a9ad-4606-a232-ed270caa2f57 button.colab-df-convert');\n",
              "        buttonEl.style.display =\n",
              "          google.colab.kernel.accessAllowed ? 'block' : 'none';\n",
              "\n",
              "        async function convertToInteractive(key) {\n",
              "          const element = document.querySelector('#df-1b94c59d-a9ad-4606-a232-ed270caa2f57');\n",
              "          const dataTable =\n",
              "            await google.colab.kernel.invokeFunction('convertToInteractive',\n",
              "                                                     [key], {});\n",
              "          if (!dataTable) return;\n",
              "\n",
              "          const docLinkHtml = 'Like what you see? Visit the ' +\n",
              "            '<a target=\"_blank\" href=https://colab.research.google.com/notebooks/data_table.ipynb>data table notebook</a>'\n",
              "            + ' to learn more about interactive tables.';\n",
              "          element.innerHTML = '';\n",
              "          dataTable['output_type'] = 'display_data';\n",
              "          await google.colab.output.renderOutput(dataTable, element);\n",
              "          const docLink = document.createElement('div');\n",
              "          docLink.innerHTML = docLinkHtml;\n",
              "          element.appendChild(docLink);\n",
              "        }\n",
              "      </script>\n",
              "    </div>\n",
              "  </div>\n",
              "  "
            ]
          },
          "metadata": {},
          "execution_count": 238
        }
      ]
    },
    {
      "cell_type": "code",
      "source": [
        "data = score(data)\n",
        "data[data[\"Date\"] == \"2022-03-17\"]"
      ],
      "metadata": {
        "colab": {
          "base_uri": "https://localhost:8080/",
          "height": 110
        },
        "id": "zKTgqo4k59WW",
        "outputId": "d4cf44d3-736d-41e3-a4d0-427970edb364"
      },
      "execution_count": 248,
      "outputs": [
        {
          "output_type": "execute_result",
          "data": {
            "text/plain": [
              "        Date  Open  High   Low  Close  Adj Close   Volume   RSI  SMA5  SMA9  \\\n",
              "1 2022-03-17 96.00 96.65 94.95  95.40      95.40  1791645 50.38 92.80 89.45   \n",
              "\n",
              "   ...      OBV    CCI   ROC  BULL  BEAR   ADX   +DI   -DI     STOCK  SCORE  \n",
              "1  ... 83670.40 121.59 11.19  6.33  4.62 14.76 25.23 20.43  PGSUS.IS  85.51  \n",
              "\n",
              "[1 rows x 42 columns]"
            ],
            "text/html": [
              "\n",
              "  <div id=\"df-f5d17573-f9ab-4d2d-a18d-3bcfc1e981fc\">\n",
              "    <div class=\"colab-df-container\">\n",
              "      <div>\n",
              "<style scoped>\n",
              "    .dataframe tbody tr th:only-of-type {\n",
              "        vertical-align: middle;\n",
              "    }\n",
              "\n",
              "    .dataframe tbody tr th {\n",
              "        vertical-align: top;\n",
              "    }\n",
              "\n",
              "    .dataframe thead th {\n",
              "        text-align: right;\n",
              "    }\n",
              "</style>\n",
              "<table border=\"1\" class=\"dataframe\">\n",
              "  <thead>\n",
              "    <tr style=\"text-align: right;\">\n",
              "      <th></th>\n",
              "      <th>Date</th>\n",
              "      <th>Open</th>\n",
              "      <th>High</th>\n",
              "      <th>Low</th>\n",
              "      <th>Close</th>\n",
              "      <th>Adj Close</th>\n",
              "      <th>Volume</th>\n",
              "      <th>RSI</th>\n",
              "      <th>SMA5</th>\n",
              "      <th>SMA9</th>\n",
              "      <th>...</th>\n",
              "      <th>OBV</th>\n",
              "      <th>CCI</th>\n",
              "      <th>ROC</th>\n",
              "      <th>BULL</th>\n",
              "      <th>BEAR</th>\n",
              "      <th>ADX</th>\n",
              "      <th>+DI</th>\n",
              "      <th>-DI</th>\n",
              "      <th>STOCK</th>\n",
              "      <th>SCORE</th>\n",
              "    </tr>\n",
              "  </thead>\n",
              "  <tbody>\n",
              "    <tr>\n",
              "      <th>1</th>\n",
              "      <td>2022-03-17</td>\n",
              "      <td>96.00</td>\n",
              "      <td>96.65</td>\n",
              "      <td>94.95</td>\n",
              "      <td>95.40</td>\n",
              "      <td>95.40</td>\n",
              "      <td>1791645</td>\n",
              "      <td>50.38</td>\n",
              "      <td>92.80</td>\n",
              "      <td>89.45</td>\n",
              "      <td>...</td>\n",
              "      <td>83670.40</td>\n",
              "      <td>121.59</td>\n",
              "      <td>11.19</td>\n",
              "      <td>6.33</td>\n",
              "      <td>4.62</td>\n",
              "      <td>14.76</td>\n",
              "      <td>25.23</td>\n",
              "      <td>20.43</td>\n",
              "      <td>PGSUS.IS</td>\n",
              "      <td>85.51</td>\n",
              "    </tr>\n",
              "  </tbody>\n",
              "</table>\n",
              "<p>1 rows × 42 columns</p>\n",
              "</div>\n",
              "      <button class=\"colab-df-convert\" onclick=\"convertToInteractive('df-f5d17573-f9ab-4d2d-a18d-3bcfc1e981fc')\"\n",
              "              title=\"Convert this dataframe to an interactive table.\"\n",
              "              style=\"display:none;\">\n",
              "        \n",
              "  <svg xmlns=\"http://www.w3.org/2000/svg\" height=\"24px\"viewBox=\"0 0 24 24\"\n",
              "       width=\"24px\">\n",
              "    <path d=\"M0 0h24v24H0V0z\" fill=\"none\"/>\n",
              "    <path d=\"M18.56 5.44l.94 2.06.94-2.06 2.06-.94-2.06-.94-.94-2.06-.94 2.06-2.06.94zm-11 1L8.5 8.5l.94-2.06 2.06-.94-2.06-.94L8.5 2.5l-.94 2.06-2.06.94zm10 10l.94 2.06.94-2.06 2.06-.94-2.06-.94-.94-2.06-.94 2.06-2.06.94z\"/><path d=\"M17.41 7.96l-1.37-1.37c-.4-.4-.92-.59-1.43-.59-.52 0-1.04.2-1.43.59L10.3 9.45l-7.72 7.72c-.78.78-.78 2.05 0 2.83L4 21.41c.39.39.9.59 1.41.59.51 0 1.02-.2 1.41-.59l7.78-7.78 2.81-2.81c.8-.78.8-2.07 0-2.86zM5.41 20L4 18.59l7.72-7.72 1.47 1.35L5.41 20z\"/>\n",
              "  </svg>\n",
              "      </button>\n",
              "      \n",
              "  <style>\n",
              "    .colab-df-container {\n",
              "      display:flex;\n",
              "      flex-wrap:wrap;\n",
              "      gap: 12px;\n",
              "    }\n",
              "\n",
              "    .colab-df-convert {\n",
              "      background-color: #E8F0FE;\n",
              "      border: none;\n",
              "      border-radius: 50%;\n",
              "      cursor: pointer;\n",
              "      display: none;\n",
              "      fill: #1967D2;\n",
              "      height: 32px;\n",
              "      padding: 0 0 0 0;\n",
              "      width: 32px;\n",
              "    }\n",
              "\n",
              "    .colab-df-convert:hover {\n",
              "      background-color: #E2EBFA;\n",
              "      box-shadow: 0px 1px 2px rgba(60, 64, 67, 0.3), 0px 1px 3px 1px rgba(60, 64, 67, 0.15);\n",
              "      fill: #174EA6;\n",
              "    }\n",
              "\n",
              "    [theme=dark] .colab-df-convert {\n",
              "      background-color: #3B4455;\n",
              "      fill: #D2E3FC;\n",
              "    }\n",
              "\n",
              "    [theme=dark] .colab-df-convert:hover {\n",
              "      background-color: #434B5C;\n",
              "      box-shadow: 0px 1px 3px 1px rgba(0, 0, 0, 0.15);\n",
              "      filter: drop-shadow(0px 1px 2px rgba(0, 0, 0, 0.3));\n",
              "      fill: #FFFFFF;\n",
              "    }\n",
              "  </style>\n",
              "\n",
              "      <script>\n",
              "        const buttonEl =\n",
              "          document.querySelector('#df-f5d17573-f9ab-4d2d-a18d-3bcfc1e981fc button.colab-df-convert');\n",
              "        buttonEl.style.display =\n",
              "          google.colab.kernel.accessAllowed ? 'block' : 'none';\n",
              "\n",
              "        async function convertToInteractive(key) {\n",
              "          const element = document.querySelector('#df-f5d17573-f9ab-4d2d-a18d-3bcfc1e981fc');\n",
              "          const dataTable =\n",
              "            await google.colab.kernel.invokeFunction('convertToInteractive',\n",
              "                                                     [key], {});\n",
              "          if (!dataTable) return;\n",
              "\n",
              "          const docLinkHtml = 'Like what you see? Visit the ' +\n",
              "            '<a target=\"_blank\" href=https://colab.research.google.com/notebooks/data_table.ipynb>data table notebook</a>'\n",
              "            + ' to learn more about interactive tables.';\n",
              "          element.innerHTML = '';\n",
              "          dataTable['output_type'] = 'display_data';\n",
              "          await google.colab.output.renderOutput(dataTable, element);\n",
              "          const docLink = document.createElement('div');\n",
              "          docLink.innerHTML = docLinkHtml;\n",
              "          element.appendChild(docLink);\n",
              "        }\n",
              "      </script>\n",
              "    </div>\n",
              "  </div>\n",
              "  "
            ]
          },
          "metadata": {},
          "execution_count": 248
        }
      ]
    },
    {
      "cell_type": "code",
      "source": [
        "import matplotlib.pyplot as plt\n",
        "plt.figure(figsize=(128,10))\n",
        "\n",
        "plt.plot(data[\"Date\"], data[\"SCORE\"])\n",
        "plt.xticks(data[\"Date\"])\n",
        "plt.xticks(rotation=90)\n",
        "\n",
        "plt.axhline(y = buy_threshold, color = 'g', linestyle = '-')\n",
        "plt.axhline(y = sell_threshold, color = 'r', linestyle = '-')\n",
        "\n",
        "plt.scatter(test_df[test_df[\"B/S\"]== \"BUY\"][\"DATE\"], test_df[test_df[\"B/S\"]== \"BUY\"][\"SCORE\"], color = 'green')\n",
        "plt.scatter(test_df[test_df[\"B/S\"]== \"SELL\"][\"DATE\"], test_df[test_df[\"B/S\"]== \"SELL\"][\"SCORE\"], color = 'red')\n",
        "\n",
        "plt.show()"
      ],
      "metadata": {
        "id": "Iw6oWg3f0TKu"
      },
      "execution_count": null,
      "outputs": []
    },
    {
      "cell_type": "code",
      "source": [],
      "metadata": {
        "id": "eylEpaod90M7"
      },
      "execution_count": null,
      "outputs": []
    }
  ],
  "metadata": {
    "colab": {
      "provenance": [],
      "gpuType": "T4",
      "include_colab_link": true
    },
    "kernelspec": {
      "display_name": "Python 3",
      "name": "python3"
    },
    "language_info": {
      "codemirror_mode": {
        "name": "ipython",
        "version": 3
      },
      "file_extension": ".py",
      "mimetype": "text/x-python",
      "name": "python",
      "nbconvert_exporter": "python",
      "pygments_lexer": "ipython3",
      "version": "3.8.3"
    }
  },
  "nbformat": 4,
  "nbformat_minor": 0
}
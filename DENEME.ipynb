{
  "cells": [
    {
      "cell_type": "markdown",
      "metadata": {
        "id": "view-in-github",
        "colab_type": "text"
      },
      "source": [
        "<a href=\"https://colab.research.google.com/github/erendagasan/Eren-Dagasan-Personal/blob/main/DENEME.ipynb\" target=\"_parent\"><img src=\"https://colab.research.google.com/assets/colab-badge.svg\" alt=\"Open In Colab\"/></a>"
      ]
    },
    {
      "cell_type": "markdown",
      "source": [
        "#PIP Installs"
      ],
      "metadata": {
        "id": "Zeakwf7Y1VSr"
      }
    },
    {
      "cell_type": "code",
      "execution_count": 1,
      "metadata": {
        "id": "CILEt1NgoCJG",
        "colab": {
          "base_uri": "https://localhost:8080/"
        },
        "outputId": "b76aa596-a468-43a6-b09b-6b9a9373f441"
      },
      "outputs": [
        {
          "output_type": "stream",
          "name": "stdout",
          "text": [
            "\u001b[?25l     \u001b[90m━━━━━━━━━━━━━━━━━━━━━━━━━━━━━━━━━━━━━━━━\u001b[0m \u001b[32m0.0/92.2 kB\u001b[0m \u001b[31m?\u001b[0m eta \u001b[36m-:--:--\u001b[0m\r\u001b[2K     \u001b[90m━━━━━━━━━━━━━━━━━━━━━━━━━━━━━━━━━━━━━━━━\u001b[0m \u001b[32m92.2/92.2 kB\u001b[0m \u001b[31m3.6 MB/s\u001b[0m eta \u001b[36m0:00:00\u001b[0m\n",
            "\u001b[?25h  Preparing metadata (setup.py) ... \u001b[?25l\u001b[?25hdone\n",
            "  Building wheel for ta (setup.py) ... \u001b[?25l\u001b[?25hdone\n"
          ]
        }
      ],
      "source": [
        "!pip install -q bta-lib\n",
        "!pip install -q ta\n",
        "!pip install -q yfinance"
      ]
    },
    {
      "cell_type": "markdown",
      "source": [
        "#Libraries"
      ],
      "metadata": {
        "id": "P1BAPm2u1SAx"
      }
    },
    {
      "cell_type": "code",
      "source": [
        "import yfinance as yf\n",
        "import btalib\n",
        "import numpy as np\n",
        "import pandas as pd\n",
        "from ta.trend import PSARIndicator\n",
        "from ta.momentum import WilliamsRIndicator\n",
        "from ta.trend import AroonIndicator\n",
        "from ta.volume import VolumePriceTrendIndicator\n",
        "from ta.trend import CCIIndicator\n",
        "from ta.momentum import ROCIndicator\n",
        "from ta.trend import ADXIndicator\n",
        "from datetime import datetime, timedelta\n",
        "from sklearn.preprocessing import MinMaxScaler\n",
        "import random\n",
        "import numpy as np\n",
        "import warnings\n",
        "\n",
        "warnings.filterwarnings(\"ignore\", category=FutureWarning)\n",
        "warnings.filterwarnings(\"ignore\", category=RuntimeWarning)\n",
        "pd.set_option('display.float_format', lambda x: '%.2f' % x)\n",
        "pd.set_option('display.max_rows', 500)"
      ],
      "metadata": {
        "id": "WWvB2_sVlTqN"
      },
      "execution_count": 291,
      "outputs": []
    },
    {
      "cell_type": "markdown",
      "source": [
        "#Stock Lists"
      ],
      "metadata": {
        "id": "E5UEw2nX1OMK"
      }
    },
    {
      "cell_type": "code",
      "source": [
        "xu030 = [\n",
        "        'AKBNK.IS',\n",
        "        'AKSEN.IS',\n",
        "        'ALARK.IS',\n",
        "        'ARCLK.IS',\n",
        "        'ASELS.IS',\n",
        "        'BIMAS.IS',\n",
        "        'EKGYO.IS',\n",
        "        'ENKAI.IS',\n",
        "        'EREGL.IS',\n",
        "        'FROTO.IS',\n",
        "        'GARAN.IS',\n",
        "        'GUBRF.IS',\n",
        "        'HEKTS.IS',\n",
        "        'KRDMD.IS',\n",
        "        'KCHOL.IS',\n",
        "        'KOZAL.IS',\n",
        "        'KOZAA.IS',\n",
        "        'ODAS.IS',\n",
        "        'PGSUS.IS',\n",
        "        'SAHOL.IS',\n",
        "        'SASA.IS',\n",
        "        'PETKM.IS',\n",
        "        'SISE.IS',\n",
        "        'TAVHL.IS',\n",
        "        'THYAO.IS',\n",
        "        'TUPRS.IS',\n",
        "        'TOASO.IS',\n",
        "        'TCELL.IS',\n",
        "        'ISCTR.IS',\n",
        "        'YKBNK.IS'\n",
        "          ]\n",
        "\n",
        "xu100 = ['ADESE.IS',\n",
        "        'AGHOL.IS',\n",
        "        'AKBNK.IS',\n",
        "        'AKSA.IS',\n",
        "        'AKSEN.IS',\n",
        "        'ALGYO.IS',\n",
        "        'ALARK.IS',\n",
        "        'ALKIM.IS',\n",
        "        'AEFES.IS',\n",
        "        'ARCLK.IS',\n",
        "        'ARDYZ.IS',\n",
        "        'ASELS.IS',\n",
        "        'AYDEM.IS',\n",
        "        'BERA.IS',\n",
        "        'BIMAS.IS',\n",
        "        'BRYAT.IS',\n",
        "        'BRISA.IS',\n",
        "        'CCOLA.IS',\n",
        "        'CANTE.IS',\n",
        "        'CEMAS.IS',\n",
        "        'CIMSA.IS',\n",
        "        'DOHOL.IS',\n",
        "        'DOAS.IS',\n",
        "        'EGEEN.IS',\n",
        "        'ECILC.IS',\n",
        "        'EKGYO.IS',\n",
        "        'ENJSA.IS',\n",
        "        'ENKAI.IS',\n",
        "        'ERBOS.IS',\n",
        "        'EREGL.IS',\n",
        "        'FROTO.IS',\n",
        "        'GENIL.IS',\n",
        "        'GESAN.IS',\n",
        "        'GLYHO.IS',\n",
        "        'GOZDE.IS',\n",
        "        'GUBRF.IS',\n",
        "        'SAHOL.IS',\n",
        "        'HEKTS.IS',\n",
        "        'INDES.IS',\n",
        "        'IPEKE.IS',\n",
        "        'ISDMR.IS',\n",
        "        'ISFIN.IS',\n",
        "        'ISGYO.IS',\n",
        "        'ISMEN.IS',\n",
        "        'IZMDC.IS',\n",
        "        'KRDMD.IS',\n",
        "        'KARSN.IS',\n",
        "        'KARTN.IS',\n",
        "        'KERVT.IS',\n",
        "        'KRVGD.IS',\n",
        "        'KCHOL.IS',\n",
        "        'KORDS.IS',\n",
        "        'KOZAL.IS',\n",
        "        'KOZAA.IS',\n",
        "        'LOGO.IS',\n",
        "        'MAVI.IS',\n",
        "        'MGROS.IS',\n",
        "        'NTHOL.IS',\n",
        "        'ODAS.IS',\n",
        "        'OTKAR.IS',\n",
        "        'OYAKC.IS',\n",
        "        'PARSN.IS',\n",
        "        'PGSUS.IS',\n",
        "        'PETKM.IS',\n",
        "        'QUAGR.IS',\n",
        "        'RTALB.IS',\n",
        "        'SARKY.IS',\n",
        "        'SASA.IS',\n",
        "        'SELEC.IS',\n",
        "        'SKBNK.IS',\n",
        "        'SOKM.IS',\n",
        "        'TAVHL.IS',\n",
        "        'TKFEN.IS',\n",
        "        'TKNSA.IS',\n",
        "        'TOASO.IS',\n",
        "        'TRGYO.IS',\n",
        "        'TCELL.IS',\n",
        "        'TUPRS.IS',\n",
        "        'THYAO.IS',\n",
        "        'TTKOM.IS',\n",
        "        'TTRAK.IS',\n",
        "        'GARAN.IS',\n",
        "        'HALKB.IS',\n",
        "        'ISCTR.IS',\n",
        "        'TSKB.IS',\n",
        "        'TURSG.IS',\n",
        "        'SISE.IS',\n",
        "        'VAKBN.IS',\n",
        "        'ULKER.IS',\n",
        "        'VERUS.IS',\n",
        "        'VESBE.IS',\n",
        "        'VESTL.IS',\n",
        "        'YKBNK.IS',\n",
        "        'YATAS.IS',\n",
        "        'ZRGYO.IS',\n",
        "        'ZOREN.IS']\n",
        "\n",
        "url = 'https://en.m.wikipedia.org/wiki/Nasdaq-100'\n",
        "nasdaq100 = pd.read_html(url, attrs={'id': \"constituents\"})[0]\n",
        "nasdaq100 = nasdaq100[\"Ticker\"].to_list()"
      ],
      "metadata": {
        "id": "TUKxemqyjEYd"
      },
      "execution_count": 288,
      "outputs": []
    },
    {
      "cell_type": "markdown",
      "source": [
        "#Functions"
      ],
      "metadata": {
        "id": "u5DYqqBlwX4H"
      }
    },
    {
      "cell_type": "code",
      "source": [
        "  def create_indicators(data):\n",
        "    # 15 DKLIK İCİN\n",
        "    # EMA 33, 165, 660\n",
        "\n",
        "    # ICHIMOKU\n",
        "    # MOMENTUM INDIKATORU EKLE\n",
        "    # ELLIOT EKLE\n",
        "    # FIBONACCI\n",
        "\n",
        "    # 50 - 200Ü KIRIYORSA GOLDEN CROSS - TAM TERSİ SAĞLAM SAT (DATA COK BÜYÜYOR)\n",
        "\n",
        "    # Below 30 is oversold, upper 70 is overbought\n",
        "    data[\"RSI\"] = btalib.rsi(data[\"Close\"], period=14).df\n",
        "\n",
        "    #If little period conflicts with the bigger one it means buy else sell.\n",
        "    data[\"SMA5\"] = btalib.sma(data['Close'], period=5).df\n",
        "    data[\"SMA9\"] = btalib.sma(data['Close'], period=9).df\n",
        "    data[\"SMA10\"] = btalib.sma(data['Close'], period=10).df\n",
        "    data[\"SMA14\"] = btalib.sma(data['Close'], period=14).df\n",
        "    data[\"SMA20\"] = btalib.sma(data['Close'], period=20).df\n",
        "    data[\"SMA21\"] = btalib.sma(data['Close'], period=21).df\n",
        "    data[\"SMA50\"] = btalib.sma(data['Close'], period=50).df\n",
        "    data[\"SMA200\"] = btalib.sma(data['Close'], period=200).df\n",
        "\n",
        "    data[\"EMA5\"] = btalib.ema(data['Close'], period=5).df\n",
        "    data[\"EMA14\"] = btalib.ema(data['Close'], period=14).df\n",
        "    data[\"EMA21\"] = btalib.ema(data['Close'], period=21).df\n",
        "    data[\"EMA50\"] = btalib.ema(data['Close'], period=50).df\n",
        "\n",
        "    #A reading below 20 generally represents an oversold market and a reading above 80 an overbought market. Look only STOCH-D.\n",
        "    data[\"STOCH-K\"] = btalib.stoch(data['High'], data['Low'], data['Close']).df[\"k\"]\n",
        "    data[\"STOCH-D\"] = btalib.stoch(data['High'], data['Low'], data['Close']).df[\"d\"]\n",
        "\n",
        "    #When the MACD line crosses above the signal line, it generates a buy signal. This indicates a potential bullish trend reversal.\n",
        "    #Additionally, monitor the MACD histogram. When the histogram bars turn positive (change from negative to positive), it confirms the buy signal and suggests increasing buying pressure.\n",
        "    data[\"MACD\"] = btalib.macd(data['Close']).df[\"macd\"]\n",
        "    data[\"SIGNAL\"] = btalib.macd(data['Close']).df[\"signal\"]\n",
        "    data[\"HISTOGRAM\"] = btalib.macd(data['Close']).df[\"histogram\"]\n",
        "\n",
        "    #Buy Signal: When the price of the stock touches or crosses below the lower Bollinger Band, it can be considered a buy signal.\n",
        "    #This suggests that the stock may be oversold, and a potential price rebound is expected.\n",
        "    #Sell Signal: When the price of the stock touches or crosses above the upper Bollinger Band, it can be considered a sell signal.\n",
        "    #This indicates that the stock may be overbought, and a potential price correction is expected.\n",
        "    data[\"BB-UPPER\"] = btalib.bbands(data['Close']).df['top']\n",
        "    data[\"BB-MID\"] = btalib.bbands(data['Close']).df['mid']\n",
        "    data[\"BB-LOWER\"] = btalib.bbands(data['Close']).df['bot']\n",
        "\n",
        "    #When the current price of the stock falls below a certain number of standard deviations (GET THE MIN AND MAX VALUE OF THE COLUMN AND MAKE IT THE THRESHOLD)\n",
        "    #from the mean, it generates a buy signal. This suggests that the price has deviated significantly from the average and may present a buying opportunity.\n",
        "    data[\"STDEV\"] = data[\"Close\"].rolling(window=10).std()\n",
        "\n",
        "    #Generate a buy signal when the price crosses above the PSAR.\n",
        "    #This indicates a potential reversal in the downward trend and suggests a buying opportunity.\n",
        "    data[\"PSAR\"] = PSARIndicator(data[\"High\"], data[\"Low\"], data[\"Close\"]).psar()\n",
        "\n",
        "    #Williams\n",
        "    #Use the Williams Percent Range (%R) formula to calculate the %R values based on historical price data.\n",
        "    #The %R values range from -100 to 0, where values close to -100 indicate oversold conditions and values close to 0 indicate overbought conditions.\n",
        "    #Generate a buy signal when the %R value crosses above a certain threshold (e.g., -80) from below.\n",
        "    #This indicates a potential reversal from oversold conditions and suggests a buying opportunity.\n",
        "    data[\"WILLIAMS\"] = WilliamsRIndicator(data[\"High\"], data[\"Low\"], data[\"Close\"]).williams_r()\n",
        "\n",
        "    #The difference between these two lines indicates whether there is overbought (a positive number) or oversold (a negative number).\n",
        "    data[\"AROON\"] = AroonIndicator(close=data[\"Close\"], window=25).aroon_indicator()\n",
        "\n",
        "    #obv\n",
        "    data[\"OBV\"] = VolumePriceTrendIndicator(close=data['Close'], volume=data['Volume']).volume_price_trend()\n",
        "\n",
        "    #CCI\n",
        "    data['CCI'] = CCIIndicator(close=data['Close'], low=data[\"Low\"], high=data[\"High\"], window=14).cci()\n",
        "\n",
        "    #ROC\n",
        "    data['ROC'] = ROCIndicator(close=data['Close'], window=5).roc()\n",
        "\n",
        "    #BULLBEARPOWER\n",
        "    data['BULL'] = data['High'] - (data['High'].rolling(13).max() + data['Low'].rolling(13).min()) / 2\n",
        "    data['BEAR'] = data['Low'] - (data['High'].rolling(13).max() + data['Low'].rolling(13).min()) / 2\n",
        "\n",
        "    #ADX\n",
        "    adx_indicator = ADXIndicator(high=data['High'], low=data['Low'], close=data['Close'], window=14)\n",
        "    data['ADX'] = adx_indicator.adx()\n",
        "    data['+DI'] = adx_indicator.adx_pos()\n",
        "    data['-DI'] = adx_indicator.adx_neg()\n",
        "\n",
        "    data = data.dropna()\n",
        "    data = data.reset_index()\n",
        "    return data\n",
        "\n",
        "  def score(data):\n",
        "    scaler = MinMaxScaler(feature_range=(0, 100))\n",
        "    scores = []\n",
        "\n",
        "    for row in range(data.shape[0]):\n",
        "      score = 0\n",
        "\n",
        "      if data[\"RSI\"][row] < 30:\n",
        "        score+=1\n",
        "      elif data[\"RSI\"][row] > 70:\n",
        "        score-=1\n",
        "\n",
        "      if row > 0 and data[\"RSI\"].iloc[row-1] > 63 and data[\"RSI\"].iloc[row] < 63:\n",
        "        score-=1\n",
        "\n",
        "      if row > 0 and data[\"RSI\"].iloc[row-1] > 49 and data[\"RSI\"].iloc[row] < 49:\n",
        "        score-=1.5\n",
        "      elif row > 0 and data[\"RSI\"].iloc[row-1] < 50 and data[\"RSI\"].iloc[row] > 50:\n",
        "        score+=1.5\n",
        "\n",
        "      if data[\"SMA5\"].iloc[row] > data[\"SMA10\"].iloc[row]:\n",
        "        score+=1.5\n",
        "      else:\n",
        "        score-=1.5\n",
        "\n",
        "      if row > 0 and data['SMA5'].iloc[row-1] < data['SMA10'].iloc[row-1] and data['SMA5'].iloc[row] > data['SMA10'].iloc[row]:\n",
        "        score+=1\n",
        "      else:\n",
        "        score-=1\n",
        "\n",
        "      # if data[\"SMA9\"][row] > data[\"SMA14\"][row]:\n",
        "      #   score+=1\n",
        "      # else:\n",
        "      #   score-=1\n",
        "\n",
        "      # if row > 0 and data['SMA9'].iloc[row-1] < data['SMA14'].iloc[row-1] and data['SMA9'].iloc[row] > data['SMA14'].iloc[row]:\n",
        "      #   score+=1\n",
        "      # else:\n",
        "      #   score-=1\n",
        "\n",
        "      if data[\"SMA14\"][row] > data[\"SMA21\"][row]:\n",
        "        score+=1\n",
        "      else:\n",
        "        score-=1\n",
        "\n",
        "      if row > 0 and data['SMA14'].iloc[row-1] < data['SMA21'].iloc[row-1] and data['SMA14'].iloc[row] > data['SMA21'].iloc[row]:\n",
        "        score+=1\n",
        "      else:\n",
        "        score-=1\n",
        "\n",
        "      if row > 1 and data['SMA20'].iloc[row-1] < data[\"Close\"].iloc[row-1] and data['SMA20'].iloc[row] < data[\"Close\"].iloc[row]:\n",
        "        score+=1\n",
        "      else:\n",
        "        score-=1\n",
        "\n",
        "      if data[\"SMA21\"][row] > data[\"SMA50\"][row]:\n",
        "        score+=1\n",
        "      else:\n",
        "        score-=1\n",
        "\n",
        "      if row > 0 and data['SMA21'].iloc[row-1] < data['SMA50'].iloc[row-1] and data['SMA21'].iloc[row] > data['SMA50'].iloc[row]:\n",
        "        score+=1\n",
        "      else:\n",
        "        score-=1\n",
        "\n",
        "      if row > 0 and data['SMA50'].iloc[row-1] < data['SMA200'].iloc[row-1] and data['SMA50'].iloc[row] > data['SMA200'].iloc[row]:\n",
        "        score+=2\n",
        "\n",
        "      # if data['Close'][row] > data[\"EMA14\"][row]:\n",
        "      #   score+=1\n",
        "      # else:\n",
        "      #   score-=1\n",
        "\n",
        "      # if data[\"EMA5\"][row] > data[\"EMA14\"][row]:\n",
        "      #   score+=0.5\n",
        "      # else:\n",
        "      #   score-=0.5\n",
        "\n",
        "      # if row > 0 and data['EMA5'].iloc[row-1] < data['EMA14'].iloc[row-1] and data['EMA5'].iloc[row] > data['EMA14'].iloc[row]:\n",
        "      #   score+=0.5\n",
        "      # else:\n",
        "      #   score-=0.5\n",
        "\n",
        "      # if data[\"EMA14\"][row] > data[\"EMA21\"][row]:\n",
        "      #   score+=1\n",
        "      # else:\n",
        "      #   score-=1\n",
        "\n",
        "      # if row > 0 and data['EMA14'].iloc[row-1] < data['EMA21'].iloc[row-1] and data['EMA14'].iloc[row] > data['EMA21'].iloc[row]:\n",
        "      #   score+=1\n",
        "      # else:\n",
        "      #   score-=1\n",
        "\n",
        "      # if data[\"EMA21\"][row] > data[\"EMA50\"][row]:\n",
        "      #   score+=1\n",
        "      # else:\n",
        "      #   score-=1\n",
        "\n",
        "      # if row > 0 and data['EMA21'].iloc[row-1] < data['EMA50'].iloc[row-1] and data['EMA21'].iloc[row] > data['EMA50'].iloc[row]:\n",
        "      #   score+=1\n",
        "      # else:\n",
        "      #   score-=1\n",
        "\n",
        "      if data[\"STOCH-D\"][row] <= 20:\n",
        "        score+=1\n",
        "      elif data[\"STOCH-D\"][row] >= 80:\n",
        "        score-=1\n",
        "\n",
        "      if row > 0 and data[\"STOCH-D\"][row-1] > 65 and data[\"STOCH-D\"][row] < 65:\n",
        "        score-=1\n",
        "      elif row > 0 and data[\"STOCH-D\"][row-1] < 35 and data[\"STOCH-D\"][row] > 35:\n",
        "        score=+1\n",
        "\n",
        "      if data[\"MACD\"][row] > data[\"SIGNAL\"][row]:\n",
        "        score+=1\n",
        "      if row > 0 and data[\"MACD\"][row] > data[\"SIGNAL\"][row] and data[\"HISTOGRAM\"][row-1] < 0 and data[\"HISTOGRAM\"][row] > 0:\n",
        "        score+=1\n",
        "      if row > 0 and data[\"MACD\"][row] < data[\"SIGNAL\"][row] and data[\"HISTOGRAM\"][row-1] > 0 and data[\"HISTOGRAM\"][row] < 0:\n",
        "        score-=1\n",
        "      if data[\"MACD\"][row] < data[\"SIGNAL\"][row]:\n",
        "        score-=1\n",
        "\n",
        "      if data['MACD'].tail(7).mean() > 0:\n",
        "        score+=1\n",
        "      else:\n",
        "        score-=1\n",
        "\n",
        "      if data['MACD'].tail(30).mean() > 0:\n",
        "        score+=1\n",
        "      else:\n",
        "        score-=1\n",
        "\n",
        "      # if data[\"BB-LOWER\"].iloc[row] > data[\"Close\"].iloc[row]:\n",
        "      #     score+=1\n",
        "      # elif data[\"BB-UPPER\"].iloc[row] < data[\"Close\"].iloc[row]:\n",
        "      #     score-=1\n",
        "      # if data[\"BB-MID\"].iloc[row] < data[\"Close\"].iloc[row] and data[\"BB-LOWER\"].iloc[row] - data[\"Close\"].iloc[row] < data[\"BB-MID\"].iloc[row] - data[\"Close\"].iloc[row]:\n",
        "      #     score+=1\n",
        "      # elif data[\"BB-MID\"].iloc[row] > data[\"Close\"].iloc[row] and data[\"BB-UPPER\"].iloc[row] - data[\"Close\"].iloc[row] < data[\"BB-MID\"].iloc[row] - data[\"Close\"].iloc[row]:\n",
        "      #     score-=1\n",
        "\n",
        "      if (data[\"STDEV\"].max() + data[\"STDEV\"].min()) / 2 > data[\"STDEV\"][row]:\n",
        "        score+=1\n",
        "      else:\n",
        "        score-=1\n",
        "\n",
        "      if data[\"PSAR\"][row] < data[\"Close\"][row]:\n",
        "        score+=1\n",
        "      else:\n",
        "        score-=1\n",
        "\n",
        "      if data[\"WILLIAMS\"][row] < -80:\n",
        "        score+=1\n",
        "      elif data[\"WILLIAMS\"][row] > -20:\n",
        "        score-=1\n",
        "\n",
        "      if data[\"AROON\"][row] > 0:\n",
        "        score-=1\n",
        "      else:\n",
        "        score+=1\n",
        "\n",
        "      if row > 0 and data[\"OBV\"][row-1] < data[\"OBV\"][row] and data[\"Close\"][row] > data[\"Close\"][row-1]:\n",
        "        score+=1\n",
        "      elif row > 0 and data[\"OBV\"][row-1] > data[\"OBV\"][row] and data[\"Close\"][row] < data[\"Close\"][row-1]:\n",
        "        score-=1\n",
        "\n",
        "      if row > 0 and (data['CCI'][row] > -100) & (data['CCI'][row-1] <= -100):\n",
        "        score+=1\n",
        "      elif row > 0 and (data['CCI'][row] < 100) & (data['CCI'][row-1] >= 100):\n",
        "        score-=1\n",
        "\n",
        "      if data[\"ROC\"][row] > 0:\n",
        "        score+=1\n",
        "      elif data[\"ROC\"][row] < 0:\n",
        "        score-=1\n",
        "\n",
        "      if data[\"BULL\"][row] > 0:\n",
        "        score+=1\n",
        "      elif data[\"BEAR\"][row] < 0:\n",
        "        score-=1\n",
        "\n",
        "      if (data['ADX'][row] > 25) and (data['+DI'][row] > data['-DI'][row]):\n",
        "        score+=1\n",
        "      if data['ADX'][row] > data['+DI'][row] and data['ADX'][row] > data['-DI'][row]:\n",
        "        score+=1\n",
        "      if data['ADX'][row] < data['+DI'][row] and data['ADX'][row] < data['-DI'][row]:\n",
        "        score-=1\n",
        "\n",
        "      elif (data['ADX'][row] > 40) and (data['+DI'][row] < data['-DI'][row]):\n",
        "        score-=1\n",
        "\n",
        "      scores.append(score)\n",
        "\n",
        "    data[\"SCORE\"] = scores\n",
        "    data[\"SCORE\"] = scaler.fit_transform(data[\"SCORE\"].values.reshape(-1, 1))\n",
        "    return data\n",
        "\n",
        "  def save_to_excel(stock, data):\n",
        "    output_file = stock + \":\" + start + \":\" + end + '.xlsx'\n",
        "    writer = pd.ExcelWriter(output_file)\n",
        "    data.to_excel(writer, index=True, sheet_name=stock)\n",
        "    writer.save()\n",
        "\n",
        "  def buy_or_sell(stock, data, balance, upper_score, lower_score):\n",
        "    stock_balance = 0\n",
        "    transactions = []\n",
        "\n",
        "    for row in range(data.shape[0]):\n",
        "      if row > 0 and data[\"SCORE\"].iloc[row] >= upper_score and data[\"SCORE\"].iloc[row-1] < upper_score and balance > data[\"Close\"].iloc[row]:\n",
        "        stock_balance = balance / data[\"Close\"].iloc[row]\n",
        "        balance-= stock_balance*data[\"Close\"].iloc[row]\n",
        "        transactions.append([stock, \"BUY\", data[\"Date\"].iloc[row], data[\"Close\"].iloc[row], stock_balance, balance, data[\"SCORE\"].iloc[row]])\n",
        "\n",
        "      elif row > 0 and data[\"SCORE\"].iloc[row] <= lower_score and data[\"SCORE\"].iloc[row-1] > lower_score and stock_balance > 1:\n",
        "        balance+=stock_balance*data[\"Close\"].iloc[row]\n",
        "        stock_balance-=stock_balance\n",
        "        transactions.append([stock,\"SELL\", data[\"Date\"].iloc[row], data[\"Close\"].iloc[row], stock_balance, balance, data[\"SCORE\"].iloc[row]])\n",
        "\n",
        "    transactions_df = pd.DataFrame(transactions, columns=[\"STOCK\",\"B/S\", \"DATE\", \"PRICE\", \"STOCK BALANCE\", \"TRY BALANCE\", \"SCORE\"])\n",
        "    if transactions_df.empty != True:\n",
        "      transactions_df[\"LAST PRICE\"] = data[\"Close\"].iloc[-1]\n",
        "    return transactions_df\n",
        "\n",
        "  def test_the_market(market, buy_threshold, sell_threshold, start, end, balance, today):\n",
        "    test_df = pd.DataFrame()\n",
        "\n",
        "    for stock in market:\n",
        "      try:\n",
        "        data = yf.download(stock, start, end, progress=False)\n",
        "        data = create_indicators(data)\n",
        "        data = score(data)\n",
        "        simulation_df = buy_or_sell(stock, data, balance=balance, upper_score=buy_threshold, lower_score=sell_threshold)\n",
        "        test_df = pd.concat([test_df, simulation_df])\n",
        "\n",
        "      except:\n",
        "        print(\"Data error with stock named: \" + stock)\n",
        "\n",
        "    test_df = test_df.reset_index().drop([\"index\"], axis=1)\n",
        "    return_df = pd.DataFrame()\n",
        "\n",
        "    for stock in xu030:\n",
        "      stock_df = test_df[test_df[\"STOCK\"] == stock]\n",
        "\n",
        "      if stock_df.empty != True:\n",
        "        if stock_df['B/S'].iloc[-1] == \"BUY\":\n",
        "          add = pd.DataFrame({\"STOCK\": [stock_df[\"STOCK\"].iloc[-1]], \"B/S\": [\"CLOSE\"], \"DATE\": [today], \"PRICE\": [stock_df[\"LAST PRICE\"].iloc[-1]],\n",
        "                              'STOCK BALANCE': [0], 'TRY BALANCE': [(stock_df[\"STOCK BALANCE\"].iloc[-1]) * stock_df[\"LAST PRICE\"].iloc[-1]], 'LAST PRICE' :[stock_df[\"LAST PRICE\"].iloc[-1]]})\n",
        "\n",
        "          stock_df = stock_df.append(add)\n",
        "          return_df = pd.concat([return_df, stock_df], ignore_index=True)\n",
        "        else:\n",
        "          return_df = pd.concat([return_df, stock_df], ignore_index=True)\n",
        "\n",
        "    return return_df"
      ],
      "metadata": {
        "id": "YJK_7ot1ipoG"
      },
      "execution_count": 205,
      "outputs": []
    },
    {
      "cell_type": "markdown",
      "source": [
        "#Variables"
      ],
      "metadata": {
        "id": "Gjl62JSewb2H"
      }
    },
    {
      "cell_type": "code",
      "source": [
        "today = datetime.today().date()\n",
        "tomorrow = today + timedelta(days=1)\n",
        "\n",
        "start=\"2021-06-01\"\n",
        "end = tomorrow.strftime(\"%Y-%m-%d\")\n",
        "\n",
        "balance = 2000\n",
        "buy_threshold = 77\n",
        "sell_threshold = 51"
      ],
      "metadata": {
        "id": "myQQY_GteXzb"
      },
      "execution_count": 188,
      "outputs": []
    },
    {
      "cell_type": "markdown",
      "source": [
        "#Buy or Sell Informations on Stocks"
      ],
      "metadata": {
        "id": "oGKAhpzWwdkL"
      }
    },
    {
      "cell_type": "code",
      "source": [
        "buy_stocks = []\n",
        "sell_stocks = []\n",
        "simulation_stocks = pd.DataFrame()\n",
        "\n",
        "lookup_table = []\n",
        "portfolio = []\n",
        "\n",
        "for stock in xu030:\n",
        "  try:\n",
        "    data = yf.download(stock, start=start, end=end, progress=False)\n",
        "    data = create_indicators(data)\n",
        "    data = score(data)\n",
        "\n",
        "    if stock in lookup_table:\n",
        "      # save_to_excel(stock, data)\n",
        "      portfolio.append([data.tail(1)[\"Date\"].item(), stock, data.tail(1)[\"Close\"].item(), data.tail(1)[\"SCORE\"].item(),\n",
        "                        \"BUY\" if data[\"SCORE\"].iloc[-1] > buy_threshold and data[\"SCORE\"].iloc[-2] < buy_threshold else\n",
        "                        \"SELL\" if data[\"SCORE\"].iloc[-1] < sell_threshold and data[\"SCORE\"].iloc[-2] > sell_threshold else\n",
        "                        \"SELL\" if data[\"SCORE\"].iloc[-1] < sell_threshold else \"HOLD\"])\n",
        "\n",
        "    if data[\"SCORE\"].iloc[-1] > buy_threshold and data[\"SCORE\"].iloc[-2] < buy_threshold:\n",
        "      buy_stocks.append([data.tail(1)[\"Date\"].item(), stock, data.tail(1)[\"Close\"].item(), data.tail(1)[\"SCORE\"].item(), \"BUY\"])\n",
        "      simulation_df = buy_or_sell(stock, data, balance=2000, upper_score=buy_threshold, lower_score=sell_threshold)\n",
        "      simulation_stocks = pd.concat([simulation_stocks, simulation_df])\n",
        "\n",
        "    elif data[\"SCORE\"].iloc[-1] < sell_threshold and data[\"SCORE\"].iloc[-2] > sell_threshold:\n",
        "      sell_stocks.append([data.tail(1)[\"Date\"].item(), stock, data.tail(1)[\"Close\"].item(), data.tail(1)[\"SCORE\"].item(), \"SELL\"])\n",
        "\n",
        "  except:\n",
        "    print(\"Data error at the stock named: \" + stock)"
      ],
      "metadata": {
        "id": "4y32Lax5l9cq"
      },
      "execution_count": null,
      "outputs": []
    },
    {
      "cell_type": "code",
      "source": [
        "portfolio = pd.DataFrame(portfolio, columns=[\"DATE\",\"STOCK\", \"PRICE\",\"SCORE\", \"B/S/H\"])\n",
        "portfolio = portfolio.sort_values(by='SCORE', ascending=False)\n",
        "portfolio"
      ],
      "metadata": {
        "id": "73Miv1W8IJek",
        "colab": {
          "base_uri": "https://localhost:8080/",
          "height": 49
        },
        "outputId": "7dc2054c-a644-4c10-bf89-f5c048f11e94"
      },
      "execution_count": null,
      "outputs": [
        {
          "output_type": "execute_result",
          "data": {
            "text/plain": [
              "Empty DataFrame\n",
              "Columns: [DATE, STOCK, PRICE, SCORE, B/S/H]\n",
              "Index: []"
            ],
            "text/html": [
              "\n",
              "  <div id=\"df-dae6e9d3-a565-4d9e-b7ab-70ee974f3de6\">\n",
              "    <div class=\"colab-df-container\">\n",
              "      <div>\n",
              "<style scoped>\n",
              "    .dataframe tbody tr th:only-of-type {\n",
              "        vertical-align: middle;\n",
              "    }\n",
              "\n",
              "    .dataframe tbody tr th {\n",
              "        vertical-align: top;\n",
              "    }\n",
              "\n",
              "    .dataframe thead th {\n",
              "        text-align: right;\n",
              "    }\n",
              "</style>\n",
              "<table border=\"1\" class=\"dataframe\">\n",
              "  <thead>\n",
              "    <tr style=\"text-align: right;\">\n",
              "      <th></th>\n",
              "      <th>DATE</th>\n",
              "      <th>STOCK</th>\n",
              "      <th>PRICE</th>\n",
              "      <th>SCORE</th>\n",
              "      <th>B/S/H</th>\n",
              "    </tr>\n",
              "  </thead>\n",
              "  <tbody>\n",
              "  </tbody>\n",
              "</table>\n",
              "</div>\n",
              "      <button class=\"colab-df-convert\" onclick=\"convertToInteractive('df-dae6e9d3-a565-4d9e-b7ab-70ee974f3de6')\"\n",
              "              title=\"Convert this dataframe to an interactive table.\"\n",
              "              style=\"display:none;\">\n",
              "        \n",
              "  <svg xmlns=\"http://www.w3.org/2000/svg\" height=\"24px\"viewBox=\"0 0 24 24\"\n",
              "       width=\"24px\">\n",
              "    <path d=\"M0 0h24v24H0V0z\" fill=\"none\"/>\n",
              "    <path d=\"M18.56 5.44l.94 2.06.94-2.06 2.06-.94-2.06-.94-.94-2.06-.94 2.06-2.06.94zm-11 1L8.5 8.5l.94-2.06 2.06-.94-2.06-.94L8.5 2.5l-.94 2.06-2.06.94zm10 10l.94 2.06.94-2.06 2.06-.94-2.06-.94-.94-2.06-.94 2.06-2.06.94z\"/><path d=\"M17.41 7.96l-1.37-1.37c-.4-.4-.92-.59-1.43-.59-.52 0-1.04.2-1.43.59L10.3 9.45l-7.72 7.72c-.78.78-.78 2.05 0 2.83L4 21.41c.39.39.9.59 1.41.59.51 0 1.02-.2 1.41-.59l7.78-7.78 2.81-2.81c.8-.78.8-2.07 0-2.86zM5.41 20L4 18.59l7.72-7.72 1.47 1.35L5.41 20z\"/>\n",
              "  </svg>\n",
              "      </button>\n",
              "      \n",
              "  <style>\n",
              "    .colab-df-container {\n",
              "      display:flex;\n",
              "      flex-wrap:wrap;\n",
              "      gap: 12px;\n",
              "    }\n",
              "\n",
              "    .colab-df-convert {\n",
              "      background-color: #E8F0FE;\n",
              "      border: none;\n",
              "      border-radius: 50%;\n",
              "      cursor: pointer;\n",
              "      display: none;\n",
              "      fill: #1967D2;\n",
              "      height: 32px;\n",
              "      padding: 0 0 0 0;\n",
              "      width: 32px;\n",
              "    }\n",
              "\n",
              "    .colab-df-convert:hover {\n",
              "      background-color: #E2EBFA;\n",
              "      box-shadow: 0px 1px 2px rgba(60, 64, 67, 0.3), 0px 1px 3px 1px rgba(60, 64, 67, 0.15);\n",
              "      fill: #174EA6;\n",
              "    }\n",
              "\n",
              "    [theme=dark] .colab-df-convert {\n",
              "      background-color: #3B4455;\n",
              "      fill: #D2E3FC;\n",
              "    }\n",
              "\n",
              "    [theme=dark] .colab-df-convert:hover {\n",
              "      background-color: #434B5C;\n",
              "      box-shadow: 0px 1px 3px 1px rgba(0, 0, 0, 0.15);\n",
              "      filter: drop-shadow(0px 1px 2px rgba(0, 0, 0, 0.3));\n",
              "      fill: #FFFFFF;\n",
              "    }\n",
              "  </style>\n",
              "\n",
              "      <script>\n",
              "        const buttonEl =\n",
              "          document.querySelector('#df-dae6e9d3-a565-4d9e-b7ab-70ee974f3de6 button.colab-df-convert');\n",
              "        buttonEl.style.display =\n",
              "          google.colab.kernel.accessAllowed ? 'block' : 'none';\n",
              "\n",
              "        async function convertToInteractive(key) {\n",
              "          const element = document.querySelector('#df-dae6e9d3-a565-4d9e-b7ab-70ee974f3de6');\n",
              "          const dataTable =\n",
              "            await google.colab.kernel.invokeFunction('convertToInteractive',\n",
              "                                                     [key], {});\n",
              "          if (!dataTable) return;\n",
              "\n",
              "          const docLinkHtml = 'Like what you see? Visit the ' +\n",
              "            '<a target=\"_blank\" href=https://colab.research.google.com/notebooks/data_table.ipynb>data table notebook</a>'\n",
              "            + ' to learn more about interactive tables.';\n",
              "          element.innerHTML = '';\n",
              "          dataTable['output_type'] = 'display_data';\n",
              "          await google.colab.output.renderOutput(dataTable, element);\n",
              "          const docLink = document.createElement('div');\n",
              "          docLink.innerHTML = docLinkHtml;\n",
              "          element.appendChild(docLink);\n",
              "        }\n",
              "      </script>\n",
              "    </div>\n",
              "  </div>\n",
              "  "
            ]
          },
          "metadata": {},
          "execution_count": 157
        }
      ]
    },
    {
      "cell_type": "code",
      "source": [
        "buy_stocks = pd.DataFrame(buy_stocks, columns=[\"DATE\",\"STOCK\", \"PRICE\",\"SCORE\", \"B/S/H\"])\n",
        "buy_stocks = buy_stocks.sort_values(by='SCORE', ascending=False)\n",
        "buy_stocks"
      ],
      "metadata": {
        "id": "0LGv0qSgv8JS",
        "colab": {
          "base_uri": "https://localhost:8080/",
          "height": 175
        },
        "outputId": "8e2c40d5-abec-4d42-fd6a-4533a701575e"
      },
      "execution_count": null,
      "outputs": [
        {
          "output_type": "execute_result",
          "data": {
            "text/plain": [
              "        DATE     STOCK  PRICE  SCORE B/S/H\n",
              "0 2023-06-23  EKGYO.IS   7.28  47.37   BUY\n",
              "1 2023-06-23  KOZAL.IS  23.38  43.86   BUY\n",
              "2 2023-06-23   SASA.IS  55.40  43.86   BUY\n",
              "3 2023-06-23  TCELL.IS  35.50  42.11   BUY"
            ],
            "text/html": [
              "\n",
              "  <div id=\"df-16132a4e-e98a-4807-be19-a2f672be1648\">\n",
              "    <div class=\"colab-df-container\">\n",
              "      <div>\n",
              "<style scoped>\n",
              "    .dataframe tbody tr th:only-of-type {\n",
              "        vertical-align: middle;\n",
              "    }\n",
              "\n",
              "    .dataframe tbody tr th {\n",
              "        vertical-align: top;\n",
              "    }\n",
              "\n",
              "    .dataframe thead th {\n",
              "        text-align: right;\n",
              "    }\n",
              "</style>\n",
              "<table border=\"1\" class=\"dataframe\">\n",
              "  <thead>\n",
              "    <tr style=\"text-align: right;\">\n",
              "      <th></th>\n",
              "      <th>DATE</th>\n",
              "      <th>STOCK</th>\n",
              "      <th>PRICE</th>\n",
              "      <th>SCORE</th>\n",
              "      <th>B/S/H</th>\n",
              "    </tr>\n",
              "  </thead>\n",
              "  <tbody>\n",
              "    <tr>\n",
              "      <th>0</th>\n",
              "      <td>2023-06-23</td>\n",
              "      <td>EKGYO.IS</td>\n",
              "      <td>7.28</td>\n",
              "      <td>47.37</td>\n",
              "      <td>BUY</td>\n",
              "    </tr>\n",
              "    <tr>\n",
              "      <th>1</th>\n",
              "      <td>2023-06-23</td>\n",
              "      <td>KOZAL.IS</td>\n",
              "      <td>23.38</td>\n",
              "      <td>43.86</td>\n",
              "      <td>BUY</td>\n",
              "    </tr>\n",
              "    <tr>\n",
              "      <th>2</th>\n",
              "      <td>2023-06-23</td>\n",
              "      <td>SASA.IS</td>\n",
              "      <td>55.40</td>\n",
              "      <td>43.86</td>\n",
              "      <td>BUY</td>\n",
              "    </tr>\n",
              "    <tr>\n",
              "      <th>3</th>\n",
              "      <td>2023-06-23</td>\n",
              "      <td>TCELL.IS</td>\n",
              "      <td>35.50</td>\n",
              "      <td>42.11</td>\n",
              "      <td>BUY</td>\n",
              "    </tr>\n",
              "  </tbody>\n",
              "</table>\n",
              "</div>\n",
              "      <button class=\"colab-df-convert\" onclick=\"convertToInteractive('df-16132a4e-e98a-4807-be19-a2f672be1648')\"\n",
              "              title=\"Convert this dataframe to an interactive table.\"\n",
              "              style=\"display:none;\">\n",
              "        \n",
              "  <svg xmlns=\"http://www.w3.org/2000/svg\" height=\"24px\"viewBox=\"0 0 24 24\"\n",
              "       width=\"24px\">\n",
              "    <path d=\"M0 0h24v24H0V0z\" fill=\"none\"/>\n",
              "    <path d=\"M18.56 5.44l.94 2.06.94-2.06 2.06-.94-2.06-.94-.94-2.06-.94 2.06-2.06.94zm-11 1L8.5 8.5l.94-2.06 2.06-.94-2.06-.94L8.5 2.5l-.94 2.06-2.06.94zm10 10l.94 2.06.94-2.06 2.06-.94-2.06-.94-.94-2.06-.94 2.06-2.06.94z\"/><path d=\"M17.41 7.96l-1.37-1.37c-.4-.4-.92-.59-1.43-.59-.52 0-1.04.2-1.43.59L10.3 9.45l-7.72 7.72c-.78.78-.78 2.05 0 2.83L4 21.41c.39.39.9.59 1.41.59.51 0 1.02-.2 1.41-.59l7.78-7.78 2.81-2.81c.8-.78.8-2.07 0-2.86zM5.41 20L4 18.59l7.72-7.72 1.47 1.35L5.41 20z\"/>\n",
              "  </svg>\n",
              "      </button>\n",
              "      \n",
              "  <style>\n",
              "    .colab-df-container {\n",
              "      display:flex;\n",
              "      flex-wrap:wrap;\n",
              "      gap: 12px;\n",
              "    }\n",
              "\n",
              "    .colab-df-convert {\n",
              "      background-color: #E8F0FE;\n",
              "      border: none;\n",
              "      border-radius: 50%;\n",
              "      cursor: pointer;\n",
              "      display: none;\n",
              "      fill: #1967D2;\n",
              "      height: 32px;\n",
              "      padding: 0 0 0 0;\n",
              "      width: 32px;\n",
              "    }\n",
              "\n",
              "    .colab-df-convert:hover {\n",
              "      background-color: #E2EBFA;\n",
              "      box-shadow: 0px 1px 2px rgba(60, 64, 67, 0.3), 0px 1px 3px 1px rgba(60, 64, 67, 0.15);\n",
              "      fill: #174EA6;\n",
              "    }\n",
              "\n",
              "    [theme=dark] .colab-df-convert {\n",
              "      background-color: #3B4455;\n",
              "      fill: #D2E3FC;\n",
              "    }\n",
              "\n",
              "    [theme=dark] .colab-df-convert:hover {\n",
              "      background-color: #434B5C;\n",
              "      box-shadow: 0px 1px 3px 1px rgba(0, 0, 0, 0.15);\n",
              "      filter: drop-shadow(0px 1px 2px rgba(0, 0, 0, 0.3));\n",
              "      fill: #FFFFFF;\n",
              "    }\n",
              "  </style>\n",
              "\n",
              "      <script>\n",
              "        const buttonEl =\n",
              "          document.querySelector('#df-16132a4e-e98a-4807-be19-a2f672be1648 button.colab-df-convert');\n",
              "        buttonEl.style.display =\n",
              "          google.colab.kernel.accessAllowed ? 'block' : 'none';\n",
              "\n",
              "        async function convertToInteractive(key) {\n",
              "          const element = document.querySelector('#df-16132a4e-e98a-4807-be19-a2f672be1648');\n",
              "          const dataTable =\n",
              "            await google.colab.kernel.invokeFunction('convertToInteractive',\n",
              "                                                     [key], {});\n",
              "          if (!dataTable) return;\n",
              "\n",
              "          const docLinkHtml = 'Like what you see? Visit the ' +\n",
              "            '<a target=\"_blank\" href=https://colab.research.google.com/notebooks/data_table.ipynb>data table notebook</a>'\n",
              "            + ' to learn more about interactive tables.';\n",
              "          element.innerHTML = '';\n",
              "          dataTable['output_type'] = 'display_data';\n",
              "          await google.colab.output.renderOutput(dataTable, element);\n",
              "          const docLink = document.createElement('div');\n",
              "          docLink.innerHTML = docLinkHtml;\n",
              "          element.appendChild(docLink);\n",
              "        }\n",
              "      </script>\n",
              "    </div>\n",
              "  </div>\n",
              "  "
            ]
          },
          "metadata": {},
          "execution_count": 158
        }
      ]
    },
    {
      "cell_type": "code",
      "source": [
        "sell_stocks = pd.DataFrame(sell_stocks, columns=[\"DATE\",\"STOCK\", \"PRICE\",\"SCORE\", \"B/S/H\"])\n",
        "sell_stocks = sell_stocks.sort_values(by=\"SCORE\", ascending=False)\n",
        "sell_stocks"
      ],
      "metadata": {
        "id": "OH1kbNQ10LPw",
        "colab": {
          "base_uri": "https://localhost:8080/",
          "height": 81
        },
        "outputId": "26d0c5ee-fae7-4960-a9f1-b3120c90ed21"
      },
      "execution_count": null,
      "outputs": [
        {
          "output_type": "execute_result",
          "data": {
            "text/plain": [
              "        DATE     STOCK  PRICE  SCORE B/S/H\n",
              "0 2023-06-23  TUPRS.IS  76.75  50.00  SELL"
            ],
            "text/html": [
              "\n",
              "  <div id=\"df-55883c5f-20fb-4f85-b1ee-3277fa9ae182\">\n",
              "    <div class=\"colab-df-container\">\n",
              "      <div>\n",
              "<style scoped>\n",
              "    .dataframe tbody tr th:only-of-type {\n",
              "        vertical-align: middle;\n",
              "    }\n",
              "\n",
              "    .dataframe tbody tr th {\n",
              "        vertical-align: top;\n",
              "    }\n",
              "\n",
              "    .dataframe thead th {\n",
              "        text-align: right;\n",
              "    }\n",
              "</style>\n",
              "<table border=\"1\" class=\"dataframe\">\n",
              "  <thead>\n",
              "    <tr style=\"text-align: right;\">\n",
              "      <th></th>\n",
              "      <th>DATE</th>\n",
              "      <th>STOCK</th>\n",
              "      <th>PRICE</th>\n",
              "      <th>SCORE</th>\n",
              "      <th>B/S/H</th>\n",
              "    </tr>\n",
              "  </thead>\n",
              "  <tbody>\n",
              "    <tr>\n",
              "      <th>0</th>\n",
              "      <td>2023-06-23</td>\n",
              "      <td>TUPRS.IS</td>\n",
              "      <td>76.75</td>\n",
              "      <td>50.00</td>\n",
              "      <td>SELL</td>\n",
              "    </tr>\n",
              "  </tbody>\n",
              "</table>\n",
              "</div>\n",
              "      <button class=\"colab-df-convert\" onclick=\"convertToInteractive('df-55883c5f-20fb-4f85-b1ee-3277fa9ae182')\"\n",
              "              title=\"Convert this dataframe to an interactive table.\"\n",
              "              style=\"display:none;\">\n",
              "        \n",
              "  <svg xmlns=\"http://www.w3.org/2000/svg\" height=\"24px\"viewBox=\"0 0 24 24\"\n",
              "       width=\"24px\">\n",
              "    <path d=\"M0 0h24v24H0V0z\" fill=\"none\"/>\n",
              "    <path d=\"M18.56 5.44l.94 2.06.94-2.06 2.06-.94-2.06-.94-.94-2.06-.94 2.06-2.06.94zm-11 1L8.5 8.5l.94-2.06 2.06-.94-2.06-.94L8.5 2.5l-.94 2.06-2.06.94zm10 10l.94 2.06.94-2.06 2.06-.94-2.06-.94-.94-2.06-.94 2.06-2.06.94z\"/><path d=\"M17.41 7.96l-1.37-1.37c-.4-.4-.92-.59-1.43-.59-.52 0-1.04.2-1.43.59L10.3 9.45l-7.72 7.72c-.78.78-.78 2.05 0 2.83L4 21.41c.39.39.9.59 1.41.59.51 0 1.02-.2 1.41-.59l7.78-7.78 2.81-2.81c.8-.78.8-2.07 0-2.86zM5.41 20L4 18.59l7.72-7.72 1.47 1.35L5.41 20z\"/>\n",
              "  </svg>\n",
              "      </button>\n",
              "      \n",
              "  <style>\n",
              "    .colab-df-container {\n",
              "      display:flex;\n",
              "      flex-wrap:wrap;\n",
              "      gap: 12px;\n",
              "    }\n",
              "\n",
              "    .colab-df-convert {\n",
              "      background-color: #E8F0FE;\n",
              "      border: none;\n",
              "      border-radius: 50%;\n",
              "      cursor: pointer;\n",
              "      display: none;\n",
              "      fill: #1967D2;\n",
              "      height: 32px;\n",
              "      padding: 0 0 0 0;\n",
              "      width: 32px;\n",
              "    }\n",
              "\n",
              "    .colab-df-convert:hover {\n",
              "      background-color: #E2EBFA;\n",
              "      box-shadow: 0px 1px 2px rgba(60, 64, 67, 0.3), 0px 1px 3px 1px rgba(60, 64, 67, 0.15);\n",
              "      fill: #174EA6;\n",
              "    }\n",
              "\n",
              "    [theme=dark] .colab-df-convert {\n",
              "      background-color: #3B4455;\n",
              "      fill: #D2E3FC;\n",
              "    }\n",
              "\n",
              "    [theme=dark] .colab-df-convert:hover {\n",
              "      background-color: #434B5C;\n",
              "      box-shadow: 0px 1px 3px 1px rgba(0, 0, 0, 0.15);\n",
              "      filter: drop-shadow(0px 1px 2px rgba(0, 0, 0, 0.3));\n",
              "      fill: #FFFFFF;\n",
              "    }\n",
              "  </style>\n",
              "\n",
              "      <script>\n",
              "        const buttonEl =\n",
              "          document.querySelector('#df-55883c5f-20fb-4f85-b1ee-3277fa9ae182 button.colab-df-convert');\n",
              "        buttonEl.style.display =\n",
              "          google.colab.kernel.accessAllowed ? 'block' : 'none';\n",
              "\n",
              "        async function convertToInteractive(key) {\n",
              "          const element = document.querySelector('#df-55883c5f-20fb-4f85-b1ee-3277fa9ae182');\n",
              "          const dataTable =\n",
              "            await google.colab.kernel.invokeFunction('convertToInteractive',\n",
              "                                                     [key], {});\n",
              "          if (!dataTable) return;\n",
              "\n",
              "          const docLinkHtml = 'Like what you see? Visit the ' +\n",
              "            '<a target=\"_blank\" href=https://colab.research.google.com/notebooks/data_table.ipynb>data table notebook</a>'\n",
              "            + ' to learn more about interactive tables.';\n",
              "          element.innerHTML = '';\n",
              "          dataTable['output_type'] = 'display_data';\n",
              "          await google.colab.output.renderOutput(dataTable, element);\n",
              "          const docLink = document.createElement('div');\n",
              "          docLink.innerHTML = docLinkHtml;\n",
              "          element.appendChild(docLink);\n",
              "        }\n",
              "      </script>\n",
              "    </div>\n",
              "  </div>\n",
              "  "
            ]
          },
          "metadata": {},
          "execution_count": 159
        }
      ]
    },
    {
      "cell_type": "code",
      "source": [
        "# simulation_stocks"
      ],
      "metadata": {
        "id": "QAnMWfQZe5vj"
      },
      "execution_count": null,
      "outputs": []
    },
    {
      "cell_type": "markdown",
      "source": [
        "#Profit Calculation"
      ],
      "metadata": {
        "id": "NeCOSzSCwizX"
      }
    },
    {
      "cell_type": "code",
      "source": [
        "test_df = test_the_market([\"THYAO.IS\"], buy_threshold, sell_threshold, start=start, end=end, balance=balance, today=today)\n",
        "\n",
        "profit_or_loss = []\n",
        "\n",
        "for stock in [\"THYAO.IS\"]:\n",
        "  stock_df = test_df[test_df[\"STOCK\"] == stock]\n",
        "\n",
        "  if stock_df.empty != True:\n",
        "    profit_or_loss.append([stock_df[\"STOCK\"].iloc[-1] ,stock_df['TRY BALANCE'].tail(1).item() - balance])\n",
        "\n",
        "profit_df = pd.DataFrame(profit_or_loss)\n",
        "print(\"\\nTOPLAM KÂR: \" + str(int(sum(profit_df[1]))) + \"TL\")\n",
        "profit_df"
      ],
      "metadata": {
        "id": "1TqcSZyACdDK",
        "colab": {
          "base_uri": "https://localhost:8080/",
          "height": 115
        },
        "outputId": "75ee9886-d60e-43ac-84da-54a0a4cd1120"
      },
      "execution_count": 80,
      "outputs": [
        {
          "output_type": "stream",
          "name": "stdout",
          "text": [
            "\n",
            "TOPLAM KÂR: 6351TL\n"
          ]
        },
        {
          "output_type": "execute_result",
          "data": {
            "text/plain": [
              "          0       1\n",
              "0  THYAO.IS 6351.70"
            ],
            "text/html": [
              "\n",
              "  <div id=\"df-003c49e2-f1d9-4330-a3f2-3a72b631f261\">\n",
              "    <div class=\"colab-df-container\">\n",
              "      <div>\n",
              "<style scoped>\n",
              "    .dataframe tbody tr th:only-of-type {\n",
              "        vertical-align: middle;\n",
              "    }\n",
              "\n",
              "    .dataframe tbody tr th {\n",
              "        vertical-align: top;\n",
              "    }\n",
              "\n",
              "    .dataframe thead th {\n",
              "        text-align: right;\n",
              "    }\n",
              "</style>\n",
              "<table border=\"1\" class=\"dataframe\">\n",
              "  <thead>\n",
              "    <tr style=\"text-align: right;\">\n",
              "      <th></th>\n",
              "      <th>0</th>\n",
              "      <th>1</th>\n",
              "    </tr>\n",
              "  </thead>\n",
              "  <tbody>\n",
              "    <tr>\n",
              "      <th>0</th>\n",
              "      <td>THYAO.IS</td>\n",
              "      <td>6351.70</td>\n",
              "    </tr>\n",
              "  </tbody>\n",
              "</table>\n",
              "</div>\n",
              "      <button class=\"colab-df-convert\" onclick=\"convertToInteractive('df-003c49e2-f1d9-4330-a3f2-3a72b631f261')\"\n",
              "              title=\"Convert this dataframe to an interactive table.\"\n",
              "              style=\"display:none;\">\n",
              "        \n",
              "  <svg xmlns=\"http://www.w3.org/2000/svg\" height=\"24px\"viewBox=\"0 0 24 24\"\n",
              "       width=\"24px\">\n",
              "    <path d=\"M0 0h24v24H0V0z\" fill=\"none\"/>\n",
              "    <path d=\"M18.56 5.44l.94 2.06.94-2.06 2.06-.94-2.06-.94-.94-2.06-.94 2.06-2.06.94zm-11 1L8.5 8.5l.94-2.06 2.06-.94-2.06-.94L8.5 2.5l-.94 2.06-2.06.94zm10 10l.94 2.06.94-2.06 2.06-.94-2.06-.94-.94-2.06-.94 2.06-2.06.94z\"/><path d=\"M17.41 7.96l-1.37-1.37c-.4-.4-.92-.59-1.43-.59-.52 0-1.04.2-1.43.59L10.3 9.45l-7.72 7.72c-.78.78-.78 2.05 0 2.83L4 21.41c.39.39.9.59 1.41.59.51 0 1.02-.2 1.41-.59l7.78-7.78 2.81-2.81c.8-.78.8-2.07 0-2.86zM5.41 20L4 18.59l7.72-7.72 1.47 1.35L5.41 20z\"/>\n",
              "  </svg>\n",
              "      </button>\n",
              "      \n",
              "  <style>\n",
              "    .colab-df-container {\n",
              "      display:flex;\n",
              "      flex-wrap:wrap;\n",
              "      gap: 12px;\n",
              "    }\n",
              "\n",
              "    .colab-df-convert {\n",
              "      background-color: #E8F0FE;\n",
              "      border: none;\n",
              "      border-radius: 50%;\n",
              "      cursor: pointer;\n",
              "      display: none;\n",
              "      fill: #1967D2;\n",
              "      height: 32px;\n",
              "      padding: 0 0 0 0;\n",
              "      width: 32px;\n",
              "    }\n",
              "\n",
              "    .colab-df-convert:hover {\n",
              "      background-color: #E2EBFA;\n",
              "      box-shadow: 0px 1px 2px rgba(60, 64, 67, 0.3), 0px 1px 3px 1px rgba(60, 64, 67, 0.15);\n",
              "      fill: #174EA6;\n",
              "    }\n",
              "\n",
              "    [theme=dark] .colab-df-convert {\n",
              "      background-color: #3B4455;\n",
              "      fill: #D2E3FC;\n",
              "    }\n",
              "\n",
              "    [theme=dark] .colab-df-convert:hover {\n",
              "      background-color: #434B5C;\n",
              "      box-shadow: 0px 1px 3px 1px rgba(0, 0, 0, 0.15);\n",
              "      filter: drop-shadow(0px 1px 2px rgba(0, 0, 0, 0.3));\n",
              "      fill: #FFFFFF;\n",
              "    }\n",
              "  </style>\n",
              "\n",
              "      <script>\n",
              "        const buttonEl =\n",
              "          document.querySelector('#df-003c49e2-f1d9-4330-a3f2-3a72b631f261 button.colab-df-convert');\n",
              "        buttonEl.style.display =\n",
              "          google.colab.kernel.accessAllowed ? 'block' : 'none';\n",
              "\n",
              "        async function convertToInteractive(key) {\n",
              "          const element = document.querySelector('#df-003c49e2-f1d9-4330-a3f2-3a72b631f261');\n",
              "          const dataTable =\n",
              "            await google.colab.kernel.invokeFunction('convertToInteractive',\n",
              "                                                     [key], {});\n",
              "          if (!dataTable) return;\n",
              "\n",
              "          const docLinkHtml = 'Like what you see? Visit the ' +\n",
              "            '<a target=\"_blank\" href=https://colab.research.google.com/notebooks/data_table.ipynb>data table notebook</a>'\n",
              "            + ' to learn more about interactive tables.';\n",
              "          element.innerHTML = '';\n",
              "          dataTable['output_type'] = 'display_data';\n",
              "          await google.colab.output.renderOutput(dataTable, element);\n",
              "          const docLink = document.createElement('div');\n",
              "          docLink.innerHTML = docLinkHtml;\n",
              "          element.appendChild(docLink);\n",
              "        }\n",
              "      </script>\n",
              "    </div>\n",
              "  </div>\n",
              "  "
            ]
          },
          "metadata": {},
          "execution_count": 80
        }
      ]
    },
    {
      "cell_type": "code",
      "source": [
        "test_df[test_df[\"STOCK\"] == \"THYAO.IS\"]"
      ],
      "metadata": {
        "id": "QO2wI8wQpcLo",
        "colab": {
          "base_uri": "https://localhost:8080/",
          "height": 802
        },
        "outputId": "addb1240-89b7-4516-a089-712c3150994c"
      },
      "execution_count": 82,
      "outputs": [
        {
          "output_type": "execute_result",
          "data": {
            "text/plain": [
              "       STOCK   B/S       DATE  PRICE  STOCK BALANCE  TRY BALANCE  LAST PRICE\n",
              "0   THYAO.IS   BUY 2022-03-22  28.52          70.13         0.00      189.10\n",
              "1   THYAO.IS  SELL 2022-06-08  46.72           0.00      3276.30      189.10\n",
              "2   THYAO.IS   BUY 2022-06-20  50.85          64.43         0.00      189.10\n",
              "3   THYAO.IS  SELL 2022-06-29  46.18           0.00      2975.41      189.10\n",
              "4   THYAO.IS   BUY 2022-07-07  49.20          60.48         0.00      189.10\n",
              "5   THYAO.IS  SELL 2022-09-16  73.95           0.00      4472.18      189.10\n",
              "6   THYAO.IS   BUY 2022-10-04  80.80          55.35         0.00      189.10\n",
              "7   THYAO.IS  SELL 2022-11-17 107.20           0.00      5933.39      189.10\n",
              "8   THYAO.IS   BUY 2022-11-24 111.60          53.17         0.00      189.10\n",
              "9   THYAO.IS  SELL 2022-12-30 140.90           0.00      7491.17      189.10\n",
              "10  THYAO.IS   BUY 2023-01-03 147.40          50.82         0.00      189.10\n",
              "11  THYAO.IS  SELL 2023-01-09 138.40           0.00      7033.77      189.10\n",
              "12  THYAO.IS   BUY 2023-01-17 147.40          47.72        -0.00      189.10\n",
              "13  THYAO.IS  SELL 2023-01-20 152.90           0.00      7296.22      189.10\n",
              "14  THYAO.IS   BUY 2023-01-25 151.80          48.06         0.00      189.10\n",
              "15  THYAO.IS  SELL 2023-01-30 144.80           0.00      6959.77      189.10\n",
              "16  THYAO.IS   BUY 2023-03-03 138.70          50.18         0.00      189.10\n",
              "17  THYAO.IS  SELL 2023-03-08 140.10           0.00      7030.02      189.10\n",
              "18  THYAO.IS   BUY 2023-04-06 127.20          55.27         0.00      189.10\n",
              "19  THYAO.IS  SELL 2023-04-20 134.00           0.00      7405.84      189.10\n",
              "20  THYAO.IS   BUY 2023-05-11 136.30          54.33         0.00      189.10\n",
              "21  THYAO.IS  SELL 2023-05-15 124.40           0.00      6759.26      189.10\n",
              "22  THYAO.IS   BUY 2023-05-17 137.10          49.30         0.00      189.10\n",
              "23  THYAO.IS  SELL 2023-06-21 169.40           0.00      8351.70      189.10"
            ],
            "text/html": [
              "\n",
              "  <div id=\"df-58f34450-dc52-47fd-b400-010586114ab8\">\n",
              "    <div class=\"colab-df-container\">\n",
              "      <div>\n",
              "<style scoped>\n",
              "    .dataframe tbody tr th:only-of-type {\n",
              "        vertical-align: middle;\n",
              "    }\n",
              "\n",
              "    .dataframe tbody tr th {\n",
              "        vertical-align: top;\n",
              "    }\n",
              "\n",
              "    .dataframe thead th {\n",
              "        text-align: right;\n",
              "    }\n",
              "</style>\n",
              "<table border=\"1\" class=\"dataframe\">\n",
              "  <thead>\n",
              "    <tr style=\"text-align: right;\">\n",
              "      <th></th>\n",
              "      <th>STOCK</th>\n",
              "      <th>B/S</th>\n",
              "      <th>DATE</th>\n",
              "      <th>PRICE</th>\n",
              "      <th>STOCK BALANCE</th>\n",
              "      <th>TRY BALANCE</th>\n",
              "      <th>LAST PRICE</th>\n",
              "    </tr>\n",
              "  </thead>\n",
              "  <tbody>\n",
              "    <tr>\n",
              "      <th>0</th>\n",
              "      <td>THYAO.IS</td>\n",
              "      <td>BUY</td>\n",
              "      <td>2022-03-22</td>\n",
              "      <td>28.52</td>\n",
              "      <td>70.13</td>\n",
              "      <td>0.00</td>\n",
              "      <td>189.10</td>\n",
              "    </tr>\n",
              "    <tr>\n",
              "      <th>1</th>\n",
              "      <td>THYAO.IS</td>\n",
              "      <td>SELL</td>\n",
              "      <td>2022-06-08</td>\n",
              "      <td>46.72</td>\n",
              "      <td>0.00</td>\n",
              "      <td>3276.30</td>\n",
              "      <td>189.10</td>\n",
              "    </tr>\n",
              "    <tr>\n",
              "      <th>2</th>\n",
              "      <td>THYAO.IS</td>\n",
              "      <td>BUY</td>\n",
              "      <td>2022-06-20</td>\n",
              "      <td>50.85</td>\n",
              "      <td>64.43</td>\n",
              "      <td>0.00</td>\n",
              "      <td>189.10</td>\n",
              "    </tr>\n",
              "    <tr>\n",
              "      <th>3</th>\n",
              "      <td>THYAO.IS</td>\n",
              "      <td>SELL</td>\n",
              "      <td>2022-06-29</td>\n",
              "      <td>46.18</td>\n",
              "      <td>0.00</td>\n",
              "      <td>2975.41</td>\n",
              "      <td>189.10</td>\n",
              "    </tr>\n",
              "    <tr>\n",
              "      <th>4</th>\n",
              "      <td>THYAO.IS</td>\n",
              "      <td>BUY</td>\n",
              "      <td>2022-07-07</td>\n",
              "      <td>49.20</td>\n",
              "      <td>60.48</td>\n",
              "      <td>0.00</td>\n",
              "      <td>189.10</td>\n",
              "    </tr>\n",
              "    <tr>\n",
              "      <th>5</th>\n",
              "      <td>THYAO.IS</td>\n",
              "      <td>SELL</td>\n",
              "      <td>2022-09-16</td>\n",
              "      <td>73.95</td>\n",
              "      <td>0.00</td>\n",
              "      <td>4472.18</td>\n",
              "      <td>189.10</td>\n",
              "    </tr>\n",
              "    <tr>\n",
              "      <th>6</th>\n",
              "      <td>THYAO.IS</td>\n",
              "      <td>BUY</td>\n",
              "      <td>2022-10-04</td>\n",
              "      <td>80.80</td>\n",
              "      <td>55.35</td>\n",
              "      <td>0.00</td>\n",
              "      <td>189.10</td>\n",
              "    </tr>\n",
              "    <tr>\n",
              "      <th>7</th>\n",
              "      <td>THYAO.IS</td>\n",
              "      <td>SELL</td>\n",
              "      <td>2022-11-17</td>\n",
              "      <td>107.20</td>\n",
              "      <td>0.00</td>\n",
              "      <td>5933.39</td>\n",
              "      <td>189.10</td>\n",
              "    </tr>\n",
              "    <tr>\n",
              "      <th>8</th>\n",
              "      <td>THYAO.IS</td>\n",
              "      <td>BUY</td>\n",
              "      <td>2022-11-24</td>\n",
              "      <td>111.60</td>\n",
              "      <td>53.17</td>\n",
              "      <td>0.00</td>\n",
              "      <td>189.10</td>\n",
              "    </tr>\n",
              "    <tr>\n",
              "      <th>9</th>\n",
              "      <td>THYAO.IS</td>\n",
              "      <td>SELL</td>\n",
              "      <td>2022-12-30</td>\n",
              "      <td>140.90</td>\n",
              "      <td>0.00</td>\n",
              "      <td>7491.17</td>\n",
              "      <td>189.10</td>\n",
              "    </tr>\n",
              "    <tr>\n",
              "      <th>10</th>\n",
              "      <td>THYAO.IS</td>\n",
              "      <td>BUY</td>\n",
              "      <td>2023-01-03</td>\n",
              "      <td>147.40</td>\n",
              "      <td>50.82</td>\n",
              "      <td>0.00</td>\n",
              "      <td>189.10</td>\n",
              "    </tr>\n",
              "    <tr>\n",
              "      <th>11</th>\n",
              "      <td>THYAO.IS</td>\n",
              "      <td>SELL</td>\n",
              "      <td>2023-01-09</td>\n",
              "      <td>138.40</td>\n",
              "      <td>0.00</td>\n",
              "      <td>7033.77</td>\n",
              "      <td>189.10</td>\n",
              "    </tr>\n",
              "    <tr>\n",
              "      <th>12</th>\n",
              "      <td>THYAO.IS</td>\n",
              "      <td>BUY</td>\n",
              "      <td>2023-01-17</td>\n",
              "      <td>147.40</td>\n",
              "      <td>47.72</td>\n",
              "      <td>-0.00</td>\n",
              "      <td>189.10</td>\n",
              "    </tr>\n",
              "    <tr>\n",
              "      <th>13</th>\n",
              "      <td>THYAO.IS</td>\n",
              "      <td>SELL</td>\n",
              "      <td>2023-01-20</td>\n",
              "      <td>152.90</td>\n",
              "      <td>0.00</td>\n",
              "      <td>7296.22</td>\n",
              "      <td>189.10</td>\n",
              "    </tr>\n",
              "    <tr>\n",
              "      <th>14</th>\n",
              "      <td>THYAO.IS</td>\n",
              "      <td>BUY</td>\n",
              "      <td>2023-01-25</td>\n",
              "      <td>151.80</td>\n",
              "      <td>48.06</td>\n",
              "      <td>0.00</td>\n",
              "      <td>189.10</td>\n",
              "    </tr>\n",
              "    <tr>\n",
              "      <th>15</th>\n",
              "      <td>THYAO.IS</td>\n",
              "      <td>SELL</td>\n",
              "      <td>2023-01-30</td>\n",
              "      <td>144.80</td>\n",
              "      <td>0.00</td>\n",
              "      <td>6959.77</td>\n",
              "      <td>189.10</td>\n",
              "    </tr>\n",
              "    <tr>\n",
              "      <th>16</th>\n",
              "      <td>THYAO.IS</td>\n",
              "      <td>BUY</td>\n",
              "      <td>2023-03-03</td>\n",
              "      <td>138.70</td>\n",
              "      <td>50.18</td>\n",
              "      <td>0.00</td>\n",
              "      <td>189.10</td>\n",
              "    </tr>\n",
              "    <tr>\n",
              "      <th>17</th>\n",
              "      <td>THYAO.IS</td>\n",
              "      <td>SELL</td>\n",
              "      <td>2023-03-08</td>\n",
              "      <td>140.10</td>\n",
              "      <td>0.00</td>\n",
              "      <td>7030.02</td>\n",
              "      <td>189.10</td>\n",
              "    </tr>\n",
              "    <tr>\n",
              "      <th>18</th>\n",
              "      <td>THYAO.IS</td>\n",
              "      <td>BUY</td>\n",
              "      <td>2023-04-06</td>\n",
              "      <td>127.20</td>\n",
              "      <td>55.27</td>\n",
              "      <td>0.00</td>\n",
              "      <td>189.10</td>\n",
              "    </tr>\n",
              "    <tr>\n",
              "      <th>19</th>\n",
              "      <td>THYAO.IS</td>\n",
              "      <td>SELL</td>\n",
              "      <td>2023-04-20</td>\n",
              "      <td>134.00</td>\n",
              "      <td>0.00</td>\n",
              "      <td>7405.84</td>\n",
              "      <td>189.10</td>\n",
              "    </tr>\n",
              "    <tr>\n",
              "      <th>20</th>\n",
              "      <td>THYAO.IS</td>\n",
              "      <td>BUY</td>\n",
              "      <td>2023-05-11</td>\n",
              "      <td>136.30</td>\n",
              "      <td>54.33</td>\n",
              "      <td>0.00</td>\n",
              "      <td>189.10</td>\n",
              "    </tr>\n",
              "    <tr>\n",
              "      <th>21</th>\n",
              "      <td>THYAO.IS</td>\n",
              "      <td>SELL</td>\n",
              "      <td>2023-05-15</td>\n",
              "      <td>124.40</td>\n",
              "      <td>0.00</td>\n",
              "      <td>6759.26</td>\n",
              "      <td>189.10</td>\n",
              "    </tr>\n",
              "    <tr>\n",
              "      <th>22</th>\n",
              "      <td>THYAO.IS</td>\n",
              "      <td>BUY</td>\n",
              "      <td>2023-05-17</td>\n",
              "      <td>137.10</td>\n",
              "      <td>49.30</td>\n",
              "      <td>0.00</td>\n",
              "      <td>189.10</td>\n",
              "    </tr>\n",
              "    <tr>\n",
              "      <th>23</th>\n",
              "      <td>THYAO.IS</td>\n",
              "      <td>SELL</td>\n",
              "      <td>2023-06-21</td>\n",
              "      <td>169.40</td>\n",
              "      <td>0.00</td>\n",
              "      <td>8351.70</td>\n",
              "      <td>189.10</td>\n",
              "    </tr>\n",
              "  </tbody>\n",
              "</table>\n",
              "</div>\n",
              "      <button class=\"colab-df-convert\" onclick=\"convertToInteractive('df-58f34450-dc52-47fd-b400-010586114ab8')\"\n",
              "              title=\"Convert this dataframe to an interactive table.\"\n",
              "              style=\"display:none;\">\n",
              "        \n",
              "  <svg xmlns=\"http://www.w3.org/2000/svg\" height=\"24px\"viewBox=\"0 0 24 24\"\n",
              "       width=\"24px\">\n",
              "    <path d=\"M0 0h24v24H0V0z\" fill=\"none\"/>\n",
              "    <path d=\"M18.56 5.44l.94 2.06.94-2.06 2.06-.94-2.06-.94-.94-2.06-.94 2.06-2.06.94zm-11 1L8.5 8.5l.94-2.06 2.06-.94-2.06-.94L8.5 2.5l-.94 2.06-2.06.94zm10 10l.94 2.06.94-2.06 2.06-.94-2.06-.94-.94-2.06-.94 2.06-2.06.94z\"/><path d=\"M17.41 7.96l-1.37-1.37c-.4-.4-.92-.59-1.43-.59-.52 0-1.04.2-1.43.59L10.3 9.45l-7.72 7.72c-.78.78-.78 2.05 0 2.83L4 21.41c.39.39.9.59 1.41.59.51 0 1.02-.2 1.41-.59l7.78-7.78 2.81-2.81c.8-.78.8-2.07 0-2.86zM5.41 20L4 18.59l7.72-7.72 1.47 1.35L5.41 20z\"/>\n",
              "  </svg>\n",
              "      </button>\n",
              "      \n",
              "  <style>\n",
              "    .colab-df-container {\n",
              "      display:flex;\n",
              "      flex-wrap:wrap;\n",
              "      gap: 12px;\n",
              "    }\n",
              "\n",
              "    .colab-df-convert {\n",
              "      background-color: #E8F0FE;\n",
              "      border: none;\n",
              "      border-radius: 50%;\n",
              "      cursor: pointer;\n",
              "      display: none;\n",
              "      fill: #1967D2;\n",
              "      height: 32px;\n",
              "      padding: 0 0 0 0;\n",
              "      width: 32px;\n",
              "    }\n",
              "\n",
              "    .colab-df-convert:hover {\n",
              "      background-color: #E2EBFA;\n",
              "      box-shadow: 0px 1px 2px rgba(60, 64, 67, 0.3), 0px 1px 3px 1px rgba(60, 64, 67, 0.15);\n",
              "      fill: #174EA6;\n",
              "    }\n",
              "\n",
              "    [theme=dark] .colab-df-convert {\n",
              "      background-color: #3B4455;\n",
              "      fill: #D2E3FC;\n",
              "    }\n",
              "\n",
              "    [theme=dark] .colab-df-convert:hover {\n",
              "      background-color: #434B5C;\n",
              "      box-shadow: 0px 1px 3px 1px rgba(0, 0, 0, 0.15);\n",
              "      filter: drop-shadow(0px 1px 2px rgba(0, 0, 0, 0.3));\n",
              "      fill: #FFFFFF;\n",
              "    }\n",
              "  </style>\n",
              "\n",
              "      <script>\n",
              "        const buttonEl =\n",
              "          document.querySelector('#df-58f34450-dc52-47fd-b400-010586114ab8 button.colab-df-convert');\n",
              "        buttonEl.style.display =\n",
              "          google.colab.kernel.accessAllowed ? 'block' : 'none';\n",
              "\n",
              "        async function convertToInteractive(key) {\n",
              "          const element = document.querySelector('#df-58f34450-dc52-47fd-b400-010586114ab8');\n",
              "          const dataTable =\n",
              "            await google.colab.kernel.invokeFunction('convertToInteractive',\n",
              "                                                     [key], {});\n",
              "          if (!dataTable) return;\n",
              "\n",
              "          const docLinkHtml = 'Like what you see? Visit the ' +\n",
              "            '<a target=\"_blank\" href=https://colab.research.google.com/notebooks/data_table.ipynb>data table notebook</a>'\n",
              "            + ' to learn more about interactive tables.';\n",
              "          element.innerHTML = '';\n",
              "          dataTable['output_type'] = 'display_data';\n",
              "          await google.colab.output.renderOutput(dataTable, element);\n",
              "          const docLink = document.createElement('div');\n",
              "          docLink.innerHTML = docLinkHtml;\n",
              "          element.appendChild(docLink);\n",
              "        }\n",
              "      </script>\n",
              "    </div>\n",
              "  </div>\n",
              "  "
            ]
          },
          "metadata": {},
          "execution_count": 82
        }
      ]
    },
    {
      "cell_type": "markdown",
      "source": [
        "#Graph"
      ],
      "metadata": {
        "id": "mCQ8gwSJArWT"
      }
    },
    {
      "cell_type": "code",
      "source": [
        "import plotly.graph_objects as go\n",
        "\n",
        "stock = \"VAKBN.IS\"\n",
        "data = yf.download(stock, start=\"2010-06-01\", end=end, progress=False)\n",
        "data = create_indicators(data)\n",
        "data = score(data)\n",
        "\n",
        "fig = go.Figure(data=[go.Candlestick(x=data['Date'],\n",
        "                open=data['Open'],\n",
        "                high=data['High'],\n",
        "                low=data['Low'],\n",
        "                close=data['Close'])])\n",
        "\n",
        "for row in range(test_df.shape[0]):\n",
        "  test_df[\"DATE\"].iloc[row] = str(test_df[\"DATE\"].iloc[row])[:10]\n",
        "\n",
        "filtered_df = test_df[test_df[\"STOCK\"] == stock]\n",
        "\n",
        "filtered_buy_df = filtered_df[filtered_df[\"B/S\"] == \"BUY\"][\"DATE\"]\n",
        "filtered_sell_df = filtered_df[filtered_df[\"B/S\"] == \"SELL\"][\"DATE\"]\n",
        "\n",
        "buy_dates = filtered_buy_df\n",
        "buy_dates = [datetime.strptime(date, '%Y-%m-%d').date() for date in buy_dates]\n",
        "\n",
        "buy_scatter = go.Scatter(\n",
        "    x=buy_dates,\n",
        "    y=data.loc[data['Date'].isin(buy_dates), 'Close'],\n",
        "    mode='markers',\n",
        "    marker=dict(symbol='arrow-up', size=10, color='blue'),\n",
        "    name='BUY'\n",
        ")\n",
        "\n",
        "sell_dates = filtered_sell_df\n",
        "sell_dates = [datetime.strptime(date, '%Y-%m-%d').date() for date in sell_dates]\n",
        "\n",
        "sell_scatter = go.Scatter(\n",
        "    x=sell_dates,\n",
        "    y=data.loc[data['Date'].isin(sell_dates), 'Close'],\n",
        "    mode='markers',\n",
        "    marker=dict(symbol='arrow-down', size=10, color='purple'),\n",
        "    name='SELL'\n",
        ")\n",
        "\n",
        "fig.add_trace(buy_scatter)\n",
        "fig.add_trace(sell_scatter)\n",
        "\n",
        "fig.show()"
      ],
      "metadata": {
        "id": "GV_bF0wrjYTl"
      },
      "execution_count": null,
      "outputs": []
    },
    {
      "cell_type": "markdown",
      "source": [
        "#Finding Optimal Thresholds w/ this Buying Strategy"
      ],
      "metadata": {
        "id": "tYDrDUvmwl6t"
      }
    },
    {
      "cell_type": "code",
      "source": [
        "df = pd.DataFrame()\n",
        "\n",
        "for stock in [\"THYAO.IS\"]:\n",
        "  data = yf.download(stock, start=start, end=end, progress=False)\n",
        "  data = create_indicators(data)\n",
        "  data = score(data)\n",
        "  data[\"STOCK\"] = stock\n",
        "  df = pd.concat([df, data], ignore_index=True)\n",
        "\n",
        "tries = []\n",
        "\n",
        "for buy_threshold in range(40, 80):\n",
        "  print(f\"Tried buy threshold is: {buy_threshold}\")\n",
        "  for sell_threshold in range(40, 80):\n",
        "    print(f\"Tried sell threshold is: {sell_threshold}\")\n",
        "    profit_or_loss = []\n",
        "\n",
        "    for stock in [\"THYAO.IS\"]:\n",
        "      stock_df = df[df[\"STOCK\"] == stock]\n",
        "      buy_sell_df = buy_or_sell(stock, stock_df, balance=balance, upper_score=buy_threshold, lower_score=sell_threshold)\n",
        "\n",
        "      if buy_sell_df.empty != True:\n",
        "\n",
        "        if buy_sell_df['B/S'].iloc[-1] == \"BUY\":\n",
        "          add = pd.DataFrame({\"STOCK\": [buy_sell_df[\"STOCK\"].iloc[-1]], \"B/S\": [\"CLOSE\"], \"DATE\": [today], \"PRICE\": [buy_sell_df[\"LAST PRICE\"].iloc[-1]],\n",
        "                              'STOCK BALANCE': [0], 'TRY BALANCE': [(buy_sell_df[\"STOCK BALANCE\"].iloc[-1]) * buy_sell_df[\"LAST PRICE\"].iloc[-1]], 'LAST PRICE' :[buy_sell_df[\"LAST PRICE\"].iloc[-1]]})\n",
        "\n",
        "          buy_sell_df = pd.concat([buy_sell_df, add])\n",
        "\n",
        "        if buy_sell_df['TRY BALANCE'].empty != True:\n",
        "          profit_or_loss.append(buy_sell_df['TRY BALANCE'].tail(1).item() - balance)\n",
        "\n",
        "    tries.append([buy_threshold, sell_threshold, sum(profit_or_loss)])"
      ],
      "metadata": {
        "id": "F9T_7DN0wzNg",
        "colab": {
          "base_uri": "https://localhost:8080/"
        },
        "outputId": "e30e8c7c-f02c-4811-8f5e-f7f8d56f195b"
      },
      "execution_count": 77,
      "outputs": [
        {
          "output_type": "stream",
          "name": "stdout",
          "text": [
            "Tried buy threshold is: 40\n",
            "Tried sell threshold is: 40\n",
            "Tried sell threshold is: 41\n",
            "Tried sell threshold is: 42\n",
            "Tried sell threshold is: 43\n",
            "Tried sell threshold is: 44\n",
            "Tried sell threshold is: 45\n",
            "Tried sell threshold is: 46\n",
            "Tried sell threshold is: 47\n",
            "Tried sell threshold is: 48\n",
            "Tried sell threshold is: 49\n",
            "Tried sell threshold is: 50\n",
            "Tried sell threshold is: 51\n",
            "Tried sell threshold is: 52\n",
            "Tried sell threshold is: 53\n",
            "Tried sell threshold is: 54\n",
            "Tried sell threshold is: 55\n",
            "Tried sell threshold is: 56\n",
            "Tried sell threshold is: 57\n",
            "Tried sell threshold is: 58\n",
            "Tried sell threshold is: 59\n",
            "Tried sell threshold is: 60\n",
            "Tried sell threshold is: 61\n",
            "Tried sell threshold is: 62\n",
            "Tried sell threshold is: 63\n",
            "Tried sell threshold is: 64\n",
            "Tried sell threshold is: 65\n",
            "Tried sell threshold is: 66\n",
            "Tried sell threshold is: 67\n",
            "Tried sell threshold is: 68\n",
            "Tried sell threshold is: 69\n",
            "Tried sell threshold is: 70\n",
            "Tried sell threshold is: 71\n",
            "Tried sell threshold is: 72\n",
            "Tried sell threshold is: 73\n",
            "Tried sell threshold is: 74\n",
            "Tried sell threshold is: 75\n",
            "Tried sell threshold is: 76\n",
            "Tried sell threshold is: 77\n",
            "Tried sell threshold is: 78\n",
            "Tried sell threshold is: 79\n",
            "Tried buy threshold is: 41\n",
            "Tried sell threshold is: 40\n",
            "Tried sell threshold is: 41\n",
            "Tried sell threshold is: 42\n",
            "Tried sell threshold is: 43\n",
            "Tried sell threshold is: 44\n",
            "Tried sell threshold is: 45\n",
            "Tried sell threshold is: 46\n",
            "Tried sell threshold is: 47\n",
            "Tried sell threshold is: 48\n",
            "Tried sell threshold is: 49\n",
            "Tried sell threshold is: 50\n",
            "Tried sell threshold is: 51\n",
            "Tried sell threshold is: 52\n",
            "Tried sell threshold is: 53\n",
            "Tried sell threshold is: 54\n",
            "Tried sell threshold is: 55\n",
            "Tried sell threshold is: 56\n",
            "Tried sell threshold is: 57\n",
            "Tried sell threshold is: 58\n",
            "Tried sell threshold is: 59\n",
            "Tried sell threshold is: 60\n",
            "Tried sell threshold is: 61\n",
            "Tried sell threshold is: 62\n",
            "Tried sell threshold is: 63\n",
            "Tried sell threshold is: 64\n",
            "Tried sell threshold is: 65\n",
            "Tried sell threshold is: 66\n",
            "Tried sell threshold is: 67\n",
            "Tried sell threshold is: 68\n",
            "Tried sell threshold is: 69\n",
            "Tried sell threshold is: 70\n",
            "Tried sell threshold is: 71\n",
            "Tried sell threshold is: 72\n",
            "Tried sell threshold is: 73\n",
            "Tried sell threshold is: 74\n",
            "Tried sell threshold is: 75\n",
            "Tried sell threshold is: 76\n",
            "Tried sell threshold is: 77\n",
            "Tried sell threshold is: 78\n",
            "Tried sell threshold is: 79\n",
            "Tried buy threshold is: 42\n",
            "Tried sell threshold is: 40\n",
            "Tried sell threshold is: 41\n",
            "Tried sell threshold is: 42\n",
            "Tried sell threshold is: 43\n",
            "Tried sell threshold is: 44\n",
            "Tried sell threshold is: 45\n",
            "Tried sell threshold is: 46\n",
            "Tried sell threshold is: 47\n",
            "Tried sell threshold is: 48\n",
            "Tried sell threshold is: 49\n",
            "Tried sell threshold is: 50\n",
            "Tried sell threshold is: 51\n",
            "Tried sell threshold is: 52\n",
            "Tried sell threshold is: 53\n",
            "Tried sell threshold is: 54\n",
            "Tried sell threshold is: 55\n",
            "Tried sell threshold is: 56\n",
            "Tried sell threshold is: 57\n",
            "Tried sell threshold is: 58\n",
            "Tried sell threshold is: 59\n",
            "Tried sell threshold is: 60\n",
            "Tried sell threshold is: 61\n",
            "Tried sell threshold is: 62\n",
            "Tried sell threshold is: 63\n",
            "Tried sell threshold is: 64\n",
            "Tried sell threshold is: 65\n",
            "Tried sell threshold is: 66\n",
            "Tried sell threshold is: 67\n",
            "Tried sell threshold is: 68\n",
            "Tried sell threshold is: 69\n",
            "Tried sell threshold is: 70\n",
            "Tried sell threshold is: 71\n",
            "Tried sell threshold is: 72\n",
            "Tried sell threshold is: 73\n",
            "Tried sell threshold is: 74\n",
            "Tried sell threshold is: 75\n",
            "Tried sell threshold is: 76\n",
            "Tried sell threshold is: 77\n",
            "Tried sell threshold is: 78\n",
            "Tried sell threshold is: 79\n",
            "Tried buy threshold is: 43\n",
            "Tried sell threshold is: 40\n",
            "Tried sell threshold is: 41\n",
            "Tried sell threshold is: 42\n",
            "Tried sell threshold is: 43\n",
            "Tried sell threshold is: 44\n",
            "Tried sell threshold is: 45\n",
            "Tried sell threshold is: 46\n",
            "Tried sell threshold is: 47\n",
            "Tried sell threshold is: 48\n",
            "Tried sell threshold is: 49\n",
            "Tried sell threshold is: 50\n",
            "Tried sell threshold is: 51\n",
            "Tried sell threshold is: 52\n",
            "Tried sell threshold is: 53\n",
            "Tried sell threshold is: 54\n",
            "Tried sell threshold is: 55\n",
            "Tried sell threshold is: 56\n",
            "Tried sell threshold is: 57\n",
            "Tried sell threshold is: 58\n",
            "Tried sell threshold is: 59\n",
            "Tried sell threshold is: 60\n",
            "Tried sell threshold is: 61\n",
            "Tried sell threshold is: 62\n",
            "Tried sell threshold is: 63\n",
            "Tried sell threshold is: 64\n",
            "Tried sell threshold is: 65\n",
            "Tried sell threshold is: 66\n",
            "Tried sell threshold is: 67\n",
            "Tried sell threshold is: 68\n",
            "Tried sell threshold is: 69\n",
            "Tried sell threshold is: 70\n",
            "Tried sell threshold is: 71\n",
            "Tried sell threshold is: 72\n",
            "Tried sell threshold is: 73\n",
            "Tried sell threshold is: 74\n",
            "Tried sell threshold is: 75\n",
            "Tried sell threshold is: 76\n",
            "Tried sell threshold is: 77\n",
            "Tried sell threshold is: 78\n",
            "Tried sell threshold is: 79\n",
            "Tried buy threshold is: 44\n",
            "Tried sell threshold is: 40\n",
            "Tried sell threshold is: 41\n",
            "Tried sell threshold is: 42\n",
            "Tried sell threshold is: 43\n",
            "Tried sell threshold is: 44\n",
            "Tried sell threshold is: 45\n",
            "Tried sell threshold is: 46\n",
            "Tried sell threshold is: 47\n",
            "Tried sell threshold is: 48\n",
            "Tried sell threshold is: 49\n",
            "Tried sell threshold is: 50\n",
            "Tried sell threshold is: 51\n",
            "Tried sell threshold is: 52\n",
            "Tried sell threshold is: 53\n",
            "Tried sell threshold is: 54\n",
            "Tried sell threshold is: 55\n",
            "Tried sell threshold is: 56\n",
            "Tried sell threshold is: 57\n",
            "Tried sell threshold is: 58\n",
            "Tried sell threshold is: 59\n",
            "Tried sell threshold is: 60\n",
            "Tried sell threshold is: 61\n",
            "Tried sell threshold is: 62\n",
            "Tried sell threshold is: 63\n",
            "Tried sell threshold is: 64\n",
            "Tried sell threshold is: 65\n",
            "Tried sell threshold is: 66\n",
            "Tried sell threshold is: 67\n",
            "Tried sell threshold is: 68\n",
            "Tried sell threshold is: 69\n",
            "Tried sell threshold is: 70\n",
            "Tried sell threshold is: 71\n",
            "Tried sell threshold is: 72\n",
            "Tried sell threshold is: 73\n",
            "Tried sell threshold is: 74\n",
            "Tried sell threshold is: 75\n",
            "Tried sell threshold is: 76\n",
            "Tried sell threshold is: 77\n",
            "Tried sell threshold is: 78\n",
            "Tried sell threshold is: 79\n",
            "Tried buy threshold is: 45\n",
            "Tried sell threshold is: 40\n",
            "Tried sell threshold is: 41\n",
            "Tried sell threshold is: 42\n",
            "Tried sell threshold is: 43\n",
            "Tried sell threshold is: 44\n",
            "Tried sell threshold is: 45\n",
            "Tried sell threshold is: 46\n",
            "Tried sell threshold is: 47\n",
            "Tried sell threshold is: 48\n",
            "Tried sell threshold is: 49\n",
            "Tried sell threshold is: 50\n",
            "Tried sell threshold is: 51\n",
            "Tried sell threshold is: 52\n",
            "Tried sell threshold is: 53\n",
            "Tried sell threshold is: 54\n",
            "Tried sell threshold is: 55\n",
            "Tried sell threshold is: 56\n",
            "Tried sell threshold is: 57\n",
            "Tried sell threshold is: 58\n",
            "Tried sell threshold is: 59\n",
            "Tried sell threshold is: 60\n",
            "Tried sell threshold is: 61\n",
            "Tried sell threshold is: 62\n",
            "Tried sell threshold is: 63\n",
            "Tried sell threshold is: 64\n",
            "Tried sell threshold is: 65\n",
            "Tried sell threshold is: 66\n",
            "Tried sell threshold is: 67\n",
            "Tried sell threshold is: 68\n",
            "Tried sell threshold is: 69\n",
            "Tried sell threshold is: 70\n",
            "Tried sell threshold is: 71\n",
            "Tried sell threshold is: 72\n",
            "Tried sell threshold is: 73\n",
            "Tried sell threshold is: 74\n",
            "Tried sell threshold is: 75\n",
            "Tried sell threshold is: 76\n",
            "Tried sell threshold is: 77\n",
            "Tried sell threshold is: 78\n",
            "Tried sell threshold is: 79\n",
            "Tried buy threshold is: 46\n",
            "Tried sell threshold is: 40\n",
            "Tried sell threshold is: 41\n",
            "Tried sell threshold is: 42\n",
            "Tried sell threshold is: 43\n",
            "Tried sell threshold is: 44\n",
            "Tried sell threshold is: 45\n",
            "Tried sell threshold is: 46\n",
            "Tried sell threshold is: 47\n",
            "Tried sell threshold is: 48\n",
            "Tried sell threshold is: 49\n",
            "Tried sell threshold is: 50\n",
            "Tried sell threshold is: 51\n",
            "Tried sell threshold is: 52\n",
            "Tried sell threshold is: 53\n",
            "Tried sell threshold is: 54\n",
            "Tried sell threshold is: 55\n",
            "Tried sell threshold is: 56\n",
            "Tried sell threshold is: 57\n",
            "Tried sell threshold is: 58\n",
            "Tried sell threshold is: 59\n",
            "Tried sell threshold is: 60\n",
            "Tried sell threshold is: 61\n",
            "Tried sell threshold is: 62\n",
            "Tried sell threshold is: 63\n",
            "Tried sell threshold is: 64\n",
            "Tried sell threshold is: 65\n",
            "Tried sell threshold is: 66\n",
            "Tried sell threshold is: 67\n",
            "Tried sell threshold is: 68\n",
            "Tried sell threshold is: 69\n",
            "Tried sell threshold is: 70\n",
            "Tried sell threshold is: 71\n",
            "Tried sell threshold is: 72\n",
            "Tried sell threshold is: 73\n",
            "Tried sell threshold is: 74\n",
            "Tried sell threshold is: 75\n",
            "Tried sell threshold is: 76\n",
            "Tried sell threshold is: 77\n",
            "Tried sell threshold is: 78\n",
            "Tried sell threshold is: 79\n",
            "Tried buy threshold is: 47\n",
            "Tried sell threshold is: 40\n",
            "Tried sell threshold is: 41\n",
            "Tried sell threshold is: 42\n",
            "Tried sell threshold is: 43\n",
            "Tried sell threshold is: 44\n",
            "Tried sell threshold is: 45\n",
            "Tried sell threshold is: 46\n",
            "Tried sell threshold is: 47\n",
            "Tried sell threshold is: 48\n",
            "Tried sell threshold is: 49\n",
            "Tried sell threshold is: 50\n",
            "Tried sell threshold is: 51\n",
            "Tried sell threshold is: 52\n",
            "Tried sell threshold is: 53\n",
            "Tried sell threshold is: 54\n",
            "Tried sell threshold is: 55\n",
            "Tried sell threshold is: 56\n",
            "Tried sell threshold is: 57\n",
            "Tried sell threshold is: 58\n",
            "Tried sell threshold is: 59\n",
            "Tried sell threshold is: 60\n",
            "Tried sell threshold is: 61\n",
            "Tried sell threshold is: 62\n",
            "Tried sell threshold is: 63\n",
            "Tried sell threshold is: 64\n",
            "Tried sell threshold is: 65\n",
            "Tried sell threshold is: 66\n",
            "Tried sell threshold is: 67\n",
            "Tried sell threshold is: 68\n",
            "Tried sell threshold is: 69\n",
            "Tried sell threshold is: 70\n",
            "Tried sell threshold is: 71\n",
            "Tried sell threshold is: 72\n",
            "Tried sell threshold is: 73\n",
            "Tried sell threshold is: 74\n",
            "Tried sell threshold is: 75\n",
            "Tried sell threshold is: 76\n",
            "Tried sell threshold is: 77\n",
            "Tried sell threshold is: 78\n",
            "Tried sell threshold is: 79\n",
            "Tried buy threshold is: 48\n",
            "Tried sell threshold is: 40\n",
            "Tried sell threshold is: 41\n",
            "Tried sell threshold is: 42\n",
            "Tried sell threshold is: 43\n",
            "Tried sell threshold is: 44\n",
            "Tried sell threshold is: 45\n",
            "Tried sell threshold is: 46\n",
            "Tried sell threshold is: 47\n",
            "Tried sell threshold is: 48\n",
            "Tried sell threshold is: 49\n",
            "Tried sell threshold is: 50\n",
            "Tried sell threshold is: 51\n",
            "Tried sell threshold is: 52\n",
            "Tried sell threshold is: 53\n",
            "Tried sell threshold is: 54\n",
            "Tried sell threshold is: 55\n",
            "Tried sell threshold is: 56\n",
            "Tried sell threshold is: 57\n",
            "Tried sell threshold is: 58\n",
            "Tried sell threshold is: 59\n",
            "Tried sell threshold is: 60\n",
            "Tried sell threshold is: 61\n",
            "Tried sell threshold is: 62\n",
            "Tried sell threshold is: 63\n",
            "Tried sell threshold is: 64\n",
            "Tried sell threshold is: 65\n",
            "Tried sell threshold is: 66\n",
            "Tried sell threshold is: 67\n",
            "Tried sell threshold is: 68\n",
            "Tried sell threshold is: 69\n",
            "Tried sell threshold is: 70\n",
            "Tried sell threshold is: 71\n",
            "Tried sell threshold is: 72\n",
            "Tried sell threshold is: 73\n",
            "Tried sell threshold is: 74\n",
            "Tried sell threshold is: 75\n",
            "Tried sell threshold is: 76\n",
            "Tried sell threshold is: 77\n",
            "Tried sell threshold is: 78\n",
            "Tried sell threshold is: 79\n",
            "Tried buy threshold is: 49\n",
            "Tried sell threshold is: 40\n",
            "Tried sell threshold is: 41\n",
            "Tried sell threshold is: 42\n",
            "Tried sell threshold is: 43\n",
            "Tried sell threshold is: 44\n",
            "Tried sell threshold is: 45\n",
            "Tried sell threshold is: 46\n",
            "Tried sell threshold is: 47\n",
            "Tried sell threshold is: 48\n",
            "Tried sell threshold is: 49\n",
            "Tried sell threshold is: 50\n",
            "Tried sell threshold is: 51\n",
            "Tried sell threshold is: 52\n",
            "Tried sell threshold is: 53\n",
            "Tried sell threshold is: 54\n",
            "Tried sell threshold is: 55\n",
            "Tried sell threshold is: 56\n",
            "Tried sell threshold is: 57\n",
            "Tried sell threshold is: 58\n",
            "Tried sell threshold is: 59\n",
            "Tried sell threshold is: 60\n",
            "Tried sell threshold is: 61\n",
            "Tried sell threshold is: 62\n",
            "Tried sell threshold is: 63\n",
            "Tried sell threshold is: 64\n",
            "Tried sell threshold is: 65\n",
            "Tried sell threshold is: 66\n",
            "Tried sell threshold is: 67\n",
            "Tried sell threshold is: 68\n",
            "Tried sell threshold is: 69\n",
            "Tried sell threshold is: 70\n",
            "Tried sell threshold is: 71\n",
            "Tried sell threshold is: 72\n",
            "Tried sell threshold is: 73\n",
            "Tried sell threshold is: 74\n",
            "Tried sell threshold is: 75\n",
            "Tried sell threshold is: 76\n",
            "Tried sell threshold is: 77\n",
            "Tried sell threshold is: 78\n",
            "Tried sell threshold is: 79\n",
            "Tried buy threshold is: 50\n",
            "Tried sell threshold is: 40\n",
            "Tried sell threshold is: 41\n",
            "Tried sell threshold is: 42\n",
            "Tried sell threshold is: 43\n",
            "Tried sell threshold is: 44\n",
            "Tried sell threshold is: 45\n",
            "Tried sell threshold is: 46\n",
            "Tried sell threshold is: 47\n",
            "Tried sell threshold is: 48\n",
            "Tried sell threshold is: 49\n",
            "Tried sell threshold is: 50\n",
            "Tried sell threshold is: 51\n",
            "Tried sell threshold is: 52\n",
            "Tried sell threshold is: 53\n",
            "Tried sell threshold is: 54\n",
            "Tried sell threshold is: 55\n",
            "Tried sell threshold is: 56\n",
            "Tried sell threshold is: 57\n",
            "Tried sell threshold is: 58\n",
            "Tried sell threshold is: 59\n",
            "Tried sell threshold is: 60\n",
            "Tried sell threshold is: 61\n",
            "Tried sell threshold is: 62\n",
            "Tried sell threshold is: 63\n",
            "Tried sell threshold is: 64\n",
            "Tried sell threshold is: 65\n",
            "Tried sell threshold is: 66\n",
            "Tried sell threshold is: 67\n",
            "Tried sell threshold is: 68\n",
            "Tried sell threshold is: 69\n",
            "Tried sell threshold is: 70\n",
            "Tried sell threshold is: 71\n",
            "Tried sell threshold is: 72\n",
            "Tried sell threshold is: 73\n",
            "Tried sell threshold is: 74\n",
            "Tried sell threshold is: 75\n",
            "Tried sell threshold is: 76\n",
            "Tried sell threshold is: 77\n",
            "Tried sell threshold is: 78\n",
            "Tried sell threshold is: 79\n",
            "Tried buy threshold is: 51\n",
            "Tried sell threshold is: 40\n",
            "Tried sell threshold is: 41\n",
            "Tried sell threshold is: 42\n",
            "Tried sell threshold is: 43\n",
            "Tried sell threshold is: 44\n",
            "Tried sell threshold is: 45\n",
            "Tried sell threshold is: 46\n",
            "Tried sell threshold is: 47\n",
            "Tried sell threshold is: 48\n",
            "Tried sell threshold is: 49\n",
            "Tried sell threshold is: 50\n",
            "Tried sell threshold is: 51\n",
            "Tried sell threshold is: 52\n",
            "Tried sell threshold is: 53\n",
            "Tried sell threshold is: 54\n",
            "Tried sell threshold is: 55\n",
            "Tried sell threshold is: 56\n",
            "Tried sell threshold is: 57\n",
            "Tried sell threshold is: 58\n",
            "Tried sell threshold is: 59\n",
            "Tried sell threshold is: 60\n",
            "Tried sell threshold is: 61\n",
            "Tried sell threshold is: 62\n",
            "Tried sell threshold is: 63\n",
            "Tried sell threshold is: 64\n",
            "Tried sell threshold is: 65\n",
            "Tried sell threshold is: 66\n",
            "Tried sell threshold is: 67\n",
            "Tried sell threshold is: 68\n",
            "Tried sell threshold is: 69\n",
            "Tried sell threshold is: 70\n",
            "Tried sell threshold is: 71\n",
            "Tried sell threshold is: 72\n",
            "Tried sell threshold is: 73\n",
            "Tried sell threshold is: 74\n",
            "Tried sell threshold is: 75\n",
            "Tried sell threshold is: 76\n",
            "Tried sell threshold is: 77\n",
            "Tried sell threshold is: 78\n",
            "Tried sell threshold is: 79\n",
            "Tried buy threshold is: 52\n",
            "Tried sell threshold is: 40\n",
            "Tried sell threshold is: 41\n",
            "Tried sell threshold is: 42\n",
            "Tried sell threshold is: 43\n",
            "Tried sell threshold is: 44\n",
            "Tried sell threshold is: 45\n",
            "Tried sell threshold is: 46\n",
            "Tried sell threshold is: 47\n",
            "Tried sell threshold is: 48\n",
            "Tried sell threshold is: 49\n",
            "Tried sell threshold is: 50\n",
            "Tried sell threshold is: 51\n",
            "Tried sell threshold is: 52\n",
            "Tried sell threshold is: 53\n",
            "Tried sell threshold is: 54\n",
            "Tried sell threshold is: 55\n",
            "Tried sell threshold is: 56\n",
            "Tried sell threshold is: 57\n",
            "Tried sell threshold is: 58\n",
            "Tried sell threshold is: 59\n",
            "Tried sell threshold is: 60\n",
            "Tried sell threshold is: 61\n",
            "Tried sell threshold is: 62\n",
            "Tried sell threshold is: 63\n",
            "Tried sell threshold is: 64\n",
            "Tried sell threshold is: 65\n",
            "Tried sell threshold is: 66\n",
            "Tried sell threshold is: 67\n",
            "Tried sell threshold is: 68\n",
            "Tried sell threshold is: 69\n",
            "Tried sell threshold is: 70\n",
            "Tried sell threshold is: 71\n",
            "Tried sell threshold is: 72\n",
            "Tried sell threshold is: 73\n",
            "Tried sell threshold is: 74\n",
            "Tried sell threshold is: 75\n",
            "Tried sell threshold is: 76\n",
            "Tried sell threshold is: 77\n",
            "Tried sell threshold is: 78\n",
            "Tried sell threshold is: 79\n",
            "Tried buy threshold is: 53\n",
            "Tried sell threshold is: 40\n",
            "Tried sell threshold is: 41\n",
            "Tried sell threshold is: 42\n",
            "Tried sell threshold is: 43\n",
            "Tried sell threshold is: 44\n",
            "Tried sell threshold is: 45\n",
            "Tried sell threshold is: 46\n",
            "Tried sell threshold is: 47\n",
            "Tried sell threshold is: 48\n",
            "Tried sell threshold is: 49\n",
            "Tried sell threshold is: 50\n",
            "Tried sell threshold is: 51\n",
            "Tried sell threshold is: 52\n",
            "Tried sell threshold is: 53\n",
            "Tried sell threshold is: 54\n",
            "Tried sell threshold is: 55\n",
            "Tried sell threshold is: 56\n",
            "Tried sell threshold is: 57\n",
            "Tried sell threshold is: 58\n",
            "Tried sell threshold is: 59\n",
            "Tried sell threshold is: 60\n",
            "Tried sell threshold is: 61\n",
            "Tried sell threshold is: 62\n",
            "Tried sell threshold is: 63\n",
            "Tried sell threshold is: 64\n",
            "Tried sell threshold is: 65\n",
            "Tried sell threshold is: 66\n",
            "Tried sell threshold is: 67\n",
            "Tried sell threshold is: 68\n",
            "Tried sell threshold is: 69\n",
            "Tried sell threshold is: 70\n",
            "Tried sell threshold is: 71\n",
            "Tried sell threshold is: 72\n",
            "Tried sell threshold is: 73\n",
            "Tried sell threshold is: 74\n",
            "Tried sell threshold is: 75\n",
            "Tried sell threshold is: 76\n",
            "Tried sell threshold is: 77\n",
            "Tried sell threshold is: 78\n",
            "Tried sell threshold is: 79\n",
            "Tried buy threshold is: 54\n",
            "Tried sell threshold is: 40\n",
            "Tried sell threshold is: 41\n",
            "Tried sell threshold is: 42\n",
            "Tried sell threshold is: 43\n",
            "Tried sell threshold is: 44\n",
            "Tried sell threshold is: 45\n",
            "Tried sell threshold is: 46\n",
            "Tried sell threshold is: 47\n",
            "Tried sell threshold is: 48\n",
            "Tried sell threshold is: 49\n",
            "Tried sell threshold is: 50\n",
            "Tried sell threshold is: 51\n",
            "Tried sell threshold is: 52\n",
            "Tried sell threshold is: 53\n",
            "Tried sell threshold is: 54\n",
            "Tried sell threshold is: 55\n",
            "Tried sell threshold is: 56\n",
            "Tried sell threshold is: 57\n",
            "Tried sell threshold is: 58\n",
            "Tried sell threshold is: 59\n",
            "Tried sell threshold is: 60\n",
            "Tried sell threshold is: 61\n",
            "Tried sell threshold is: 62\n",
            "Tried sell threshold is: 63\n",
            "Tried sell threshold is: 64\n",
            "Tried sell threshold is: 65\n",
            "Tried sell threshold is: 66\n",
            "Tried sell threshold is: 67\n",
            "Tried sell threshold is: 68\n",
            "Tried sell threshold is: 69\n",
            "Tried sell threshold is: 70\n",
            "Tried sell threshold is: 71\n",
            "Tried sell threshold is: 72\n",
            "Tried sell threshold is: 73\n",
            "Tried sell threshold is: 74\n",
            "Tried sell threshold is: 75\n",
            "Tried sell threshold is: 76\n",
            "Tried sell threshold is: 77\n",
            "Tried sell threshold is: 78\n",
            "Tried sell threshold is: 79\n",
            "Tried buy threshold is: 55\n",
            "Tried sell threshold is: 40\n",
            "Tried sell threshold is: 41\n",
            "Tried sell threshold is: 42\n",
            "Tried sell threshold is: 43\n",
            "Tried sell threshold is: 44\n",
            "Tried sell threshold is: 45\n",
            "Tried sell threshold is: 46\n",
            "Tried sell threshold is: 47\n",
            "Tried sell threshold is: 48\n",
            "Tried sell threshold is: 49\n",
            "Tried sell threshold is: 50\n",
            "Tried sell threshold is: 51\n",
            "Tried sell threshold is: 52\n",
            "Tried sell threshold is: 53\n",
            "Tried sell threshold is: 54\n",
            "Tried sell threshold is: 55\n",
            "Tried sell threshold is: 56\n",
            "Tried sell threshold is: 57\n",
            "Tried sell threshold is: 58\n",
            "Tried sell threshold is: 59\n",
            "Tried sell threshold is: 60\n",
            "Tried sell threshold is: 61\n",
            "Tried sell threshold is: 62\n",
            "Tried sell threshold is: 63\n",
            "Tried sell threshold is: 64\n",
            "Tried sell threshold is: 65\n",
            "Tried sell threshold is: 66\n",
            "Tried sell threshold is: 67\n",
            "Tried sell threshold is: 68\n",
            "Tried sell threshold is: 69\n",
            "Tried sell threshold is: 70\n",
            "Tried sell threshold is: 71\n",
            "Tried sell threshold is: 72\n",
            "Tried sell threshold is: 73\n",
            "Tried sell threshold is: 74\n",
            "Tried sell threshold is: 75\n",
            "Tried sell threshold is: 76\n",
            "Tried sell threshold is: 77\n",
            "Tried sell threshold is: 78\n",
            "Tried sell threshold is: 79\n",
            "Tried buy threshold is: 56\n",
            "Tried sell threshold is: 40\n",
            "Tried sell threshold is: 41\n",
            "Tried sell threshold is: 42\n",
            "Tried sell threshold is: 43\n",
            "Tried sell threshold is: 44\n",
            "Tried sell threshold is: 45\n",
            "Tried sell threshold is: 46\n",
            "Tried sell threshold is: 47\n",
            "Tried sell threshold is: 48\n",
            "Tried sell threshold is: 49\n",
            "Tried sell threshold is: 50\n",
            "Tried sell threshold is: 51\n",
            "Tried sell threshold is: 52\n",
            "Tried sell threshold is: 53\n",
            "Tried sell threshold is: 54\n",
            "Tried sell threshold is: 55\n",
            "Tried sell threshold is: 56\n",
            "Tried sell threshold is: 57\n",
            "Tried sell threshold is: 58\n",
            "Tried sell threshold is: 59\n",
            "Tried sell threshold is: 60\n",
            "Tried sell threshold is: 61\n",
            "Tried sell threshold is: 62\n",
            "Tried sell threshold is: 63\n",
            "Tried sell threshold is: 64\n",
            "Tried sell threshold is: 65\n",
            "Tried sell threshold is: 66\n",
            "Tried sell threshold is: 67\n",
            "Tried sell threshold is: 68\n",
            "Tried sell threshold is: 69\n",
            "Tried sell threshold is: 70\n",
            "Tried sell threshold is: 71\n",
            "Tried sell threshold is: 72\n",
            "Tried sell threshold is: 73\n",
            "Tried sell threshold is: 74\n",
            "Tried sell threshold is: 75\n",
            "Tried sell threshold is: 76\n",
            "Tried sell threshold is: 77\n",
            "Tried sell threshold is: 78\n",
            "Tried sell threshold is: 79\n",
            "Tried buy threshold is: 57\n",
            "Tried sell threshold is: 40\n",
            "Tried sell threshold is: 41\n",
            "Tried sell threshold is: 42\n",
            "Tried sell threshold is: 43\n",
            "Tried sell threshold is: 44\n",
            "Tried sell threshold is: 45\n",
            "Tried sell threshold is: 46\n",
            "Tried sell threshold is: 47\n",
            "Tried sell threshold is: 48\n",
            "Tried sell threshold is: 49\n",
            "Tried sell threshold is: 50\n",
            "Tried sell threshold is: 51\n",
            "Tried sell threshold is: 52\n",
            "Tried sell threshold is: 53\n",
            "Tried sell threshold is: 54\n",
            "Tried sell threshold is: 55\n",
            "Tried sell threshold is: 56\n",
            "Tried sell threshold is: 57\n",
            "Tried sell threshold is: 58\n",
            "Tried sell threshold is: 59\n",
            "Tried sell threshold is: 60\n",
            "Tried sell threshold is: 61\n",
            "Tried sell threshold is: 62\n",
            "Tried sell threshold is: 63\n",
            "Tried sell threshold is: 64\n",
            "Tried sell threshold is: 65\n",
            "Tried sell threshold is: 66\n",
            "Tried sell threshold is: 67\n",
            "Tried sell threshold is: 68\n",
            "Tried sell threshold is: 69\n",
            "Tried sell threshold is: 70\n",
            "Tried sell threshold is: 71\n",
            "Tried sell threshold is: 72\n",
            "Tried sell threshold is: 73\n",
            "Tried sell threshold is: 74\n",
            "Tried sell threshold is: 75\n",
            "Tried sell threshold is: 76\n",
            "Tried sell threshold is: 77\n",
            "Tried sell threshold is: 78\n",
            "Tried sell threshold is: 79\n",
            "Tried buy threshold is: 58\n",
            "Tried sell threshold is: 40\n",
            "Tried sell threshold is: 41\n",
            "Tried sell threshold is: 42\n",
            "Tried sell threshold is: 43\n",
            "Tried sell threshold is: 44\n",
            "Tried sell threshold is: 45\n",
            "Tried sell threshold is: 46\n",
            "Tried sell threshold is: 47\n",
            "Tried sell threshold is: 48\n",
            "Tried sell threshold is: 49\n",
            "Tried sell threshold is: 50\n",
            "Tried sell threshold is: 51\n",
            "Tried sell threshold is: 52\n",
            "Tried sell threshold is: 53\n",
            "Tried sell threshold is: 54\n",
            "Tried sell threshold is: 55\n",
            "Tried sell threshold is: 56\n",
            "Tried sell threshold is: 57\n",
            "Tried sell threshold is: 58\n",
            "Tried sell threshold is: 59\n",
            "Tried sell threshold is: 60\n",
            "Tried sell threshold is: 61\n",
            "Tried sell threshold is: 62\n",
            "Tried sell threshold is: 63\n",
            "Tried sell threshold is: 64\n",
            "Tried sell threshold is: 65\n",
            "Tried sell threshold is: 66\n",
            "Tried sell threshold is: 67\n",
            "Tried sell threshold is: 68\n",
            "Tried sell threshold is: 69\n",
            "Tried sell threshold is: 70\n",
            "Tried sell threshold is: 71\n",
            "Tried sell threshold is: 72\n",
            "Tried sell threshold is: 73\n",
            "Tried sell threshold is: 74\n",
            "Tried sell threshold is: 75\n",
            "Tried sell threshold is: 76\n",
            "Tried sell threshold is: 77\n",
            "Tried sell threshold is: 78\n",
            "Tried sell threshold is: 79\n",
            "Tried buy threshold is: 59\n",
            "Tried sell threshold is: 40\n",
            "Tried sell threshold is: 41\n",
            "Tried sell threshold is: 42\n",
            "Tried sell threshold is: 43\n",
            "Tried sell threshold is: 44\n",
            "Tried sell threshold is: 45\n",
            "Tried sell threshold is: 46\n",
            "Tried sell threshold is: 47\n",
            "Tried sell threshold is: 48\n",
            "Tried sell threshold is: 49\n",
            "Tried sell threshold is: 50\n",
            "Tried sell threshold is: 51\n",
            "Tried sell threshold is: 52\n",
            "Tried sell threshold is: 53\n",
            "Tried sell threshold is: 54\n",
            "Tried sell threshold is: 55\n",
            "Tried sell threshold is: 56\n",
            "Tried sell threshold is: 57\n",
            "Tried sell threshold is: 58\n",
            "Tried sell threshold is: 59\n",
            "Tried sell threshold is: 60\n",
            "Tried sell threshold is: 61\n",
            "Tried sell threshold is: 62\n",
            "Tried sell threshold is: 63\n",
            "Tried sell threshold is: 64\n",
            "Tried sell threshold is: 65\n",
            "Tried sell threshold is: 66\n",
            "Tried sell threshold is: 67\n",
            "Tried sell threshold is: 68\n",
            "Tried sell threshold is: 69\n",
            "Tried sell threshold is: 70\n",
            "Tried sell threshold is: 71\n",
            "Tried sell threshold is: 72\n",
            "Tried sell threshold is: 73\n",
            "Tried sell threshold is: 74\n",
            "Tried sell threshold is: 75\n",
            "Tried sell threshold is: 76\n",
            "Tried sell threshold is: 77\n",
            "Tried sell threshold is: 78\n",
            "Tried sell threshold is: 79\n",
            "Tried buy threshold is: 60\n",
            "Tried sell threshold is: 40\n",
            "Tried sell threshold is: 41\n",
            "Tried sell threshold is: 42\n",
            "Tried sell threshold is: 43\n",
            "Tried sell threshold is: 44\n",
            "Tried sell threshold is: 45\n",
            "Tried sell threshold is: 46\n",
            "Tried sell threshold is: 47\n",
            "Tried sell threshold is: 48\n",
            "Tried sell threshold is: 49\n",
            "Tried sell threshold is: 50\n",
            "Tried sell threshold is: 51\n",
            "Tried sell threshold is: 52\n",
            "Tried sell threshold is: 53\n",
            "Tried sell threshold is: 54\n",
            "Tried sell threshold is: 55\n",
            "Tried sell threshold is: 56\n",
            "Tried sell threshold is: 57\n",
            "Tried sell threshold is: 58\n",
            "Tried sell threshold is: 59\n",
            "Tried sell threshold is: 60\n",
            "Tried sell threshold is: 61\n",
            "Tried sell threshold is: 62\n",
            "Tried sell threshold is: 63\n",
            "Tried sell threshold is: 64\n",
            "Tried sell threshold is: 65\n",
            "Tried sell threshold is: 66\n",
            "Tried sell threshold is: 67\n",
            "Tried sell threshold is: 68\n",
            "Tried sell threshold is: 69\n",
            "Tried sell threshold is: 70\n",
            "Tried sell threshold is: 71\n",
            "Tried sell threshold is: 72\n",
            "Tried sell threshold is: 73\n",
            "Tried sell threshold is: 74\n",
            "Tried sell threshold is: 75\n",
            "Tried sell threshold is: 76\n",
            "Tried sell threshold is: 77\n",
            "Tried sell threshold is: 78\n",
            "Tried sell threshold is: 79\n",
            "Tried buy threshold is: 61\n",
            "Tried sell threshold is: 40\n",
            "Tried sell threshold is: 41\n",
            "Tried sell threshold is: 42\n",
            "Tried sell threshold is: 43\n",
            "Tried sell threshold is: 44\n",
            "Tried sell threshold is: 45\n",
            "Tried sell threshold is: 46\n",
            "Tried sell threshold is: 47\n",
            "Tried sell threshold is: 48\n",
            "Tried sell threshold is: 49\n",
            "Tried sell threshold is: 50\n",
            "Tried sell threshold is: 51\n",
            "Tried sell threshold is: 52\n",
            "Tried sell threshold is: 53\n",
            "Tried sell threshold is: 54\n",
            "Tried sell threshold is: 55\n",
            "Tried sell threshold is: 56\n",
            "Tried sell threshold is: 57\n",
            "Tried sell threshold is: 58\n",
            "Tried sell threshold is: 59\n",
            "Tried sell threshold is: 60\n",
            "Tried sell threshold is: 61\n",
            "Tried sell threshold is: 62\n",
            "Tried sell threshold is: 63\n",
            "Tried sell threshold is: 64\n",
            "Tried sell threshold is: 65\n",
            "Tried sell threshold is: 66\n",
            "Tried sell threshold is: 67\n",
            "Tried sell threshold is: 68\n",
            "Tried sell threshold is: 69\n",
            "Tried sell threshold is: 70\n",
            "Tried sell threshold is: 71\n",
            "Tried sell threshold is: 72\n",
            "Tried sell threshold is: 73\n",
            "Tried sell threshold is: 74\n",
            "Tried sell threshold is: 75\n",
            "Tried sell threshold is: 76\n",
            "Tried sell threshold is: 77\n",
            "Tried sell threshold is: 78\n",
            "Tried sell threshold is: 79\n",
            "Tried buy threshold is: 62\n",
            "Tried sell threshold is: 40\n",
            "Tried sell threshold is: 41\n",
            "Tried sell threshold is: 42\n",
            "Tried sell threshold is: 43\n",
            "Tried sell threshold is: 44\n",
            "Tried sell threshold is: 45\n",
            "Tried sell threshold is: 46\n",
            "Tried sell threshold is: 47\n",
            "Tried sell threshold is: 48\n",
            "Tried sell threshold is: 49\n",
            "Tried sell threshold is: 50\n",
            "Tried sell threshold is: 51\n",
            "Tried sell threshold is: 52\n",
            "Tried sell threshold is: 53\n",
            "Tried sell threshold is: 54\n",
            "Tried sell threshold is: 55\n",
            "Tried sell threshold is: 56\n",
            "Tried sell threshold is: 57\n",
            "Tried sell threshold is: 58\n",
            "Tried sell threshold is: 59\n",
            "Tried sell threshold is: 60\n",
            "Tried sell threshold is: 61\n",
            "Tried sell threshold is: 62\n",
            "Tried sell threshold is: 63\n",
            "Tried sell threshold is: 64\n",
            "Tried sell threshold is: 65\n",
            "Tried sell threshold is: 66\n",
            "Tried sell threshold is: 67\n",
            "Tried sell threshold is: 68\n",
            "Tried sell threshold is: 69\n",
            "Tried sell threshold is: 70\n",
            "Tried sell threshold is: 71\n",
            "Tried sell threshold is: 72\n",
            "Tried sell threshold is: 73\n",
            "Tried sell threshold is: 74\n",
            "Tried sell threshold is: 75\n",
            "Tried sell threshold is: 76\n",
            "Tried sell threshold is: 77\n",
            "Tried sell threshold is: 78\n",
            "Tried sell threshold is: 79\n",
            "Tried buy threshold is: 63\n",
            "Tried sell threshold is: 40\n",
            "Tried sell threshold is: 41\n",
            "Tried sell threshold is: 42\n",
            "Tried sell threshold is: 43\n",
            "Tried sell threshold is: 44\n",
            "Tried sell threshold is: 45\n",
            "Tried sell threshold is: 46\n",
            "Tried sell threshold is: 47\n",
            "Tried sell threshold is: 48\n",
            "Tried sell threshold is: 49\n",
            "Tried sell threshold is: 50\n",
            "Tried sell threshold is: 51\n",
            "Tried sell threshold is: 52\n",
            "Tried sell threshold is: 53\n",
            "Tried sell threshold is: 54\n",
            "Tried sell threshold is: 55\n",
            "Tried sell threshold is: 56\n",
            "Tried sell threshold is: 57\n",
            "Tried sell threshold is: 58\n",
            "Tried sell threshold is: 59\n",
            "Tried sell threshold is: 60\n",
            "Tried sell threshold is: 61\n",
            "Tried sell threshold is: 62\n",
            "Tried sell threshold is: 63\n",
            "Tried sell threshold is: 64\n",
            "Tried sell threshold is: 65\n",
            "Tried sell threshold is: 66\n",
            "Tried sell threshold is: 67\n",
            "Tried sell threshold is: 68\n",
            "Tried sell threshold is: 69\n",
            "Tried sell threshold is: 70\n",
            "Tried sell threshold is: 71\n",
            "Tried sell threshold is: 72\n",
            "Tried sell threshold is: 73\n",
            "Tried sell threshold is: 74\n",
            "Tried sell threshold is: 75\n",
            "Tried sell threshold is: 76\n",
            "Tried sell threshold is: 77\n",
            "Tried sell threshold is: 78\n",
            "Tried sell threshold is: 79\n",
            "Tried buy threshold is: 64\n",
            "Tried sell threshold is: 40\n",
            "Tried sell threshold is: 41\n",
            "Tried sell threshold is: 42\n",
            "Tried sell threshold is: 43\n",
            "Tried sell threshold is: 44\n",
            "Tried sell threshold is: 45\n",
            "Tried sell threshold is: 46\n",
            "Tried sell threshold is: 47\n",
            "Tried sell threshold is: 48\n",
            "Tried sell threshold is: 49\n",
            "Tried sell threshold is: 50\n",
            "Tried sell threshold is: 51\n",
            "Tried sell threshold is: 52\n",
            "Tried sell threshold is: 53\n",
            "Tried sell threshold is: 54\n",
            "Tried sell threshold is: 55\n",
            "Tried sell threshold is: 56\n",
            "Tried sell threshold is: 57\n",
            "Tried sell threshold is: 58\n",
            "Tried sell threshold is: 59\n",
            "Tried sell threshold is: 60\n",
            "Tried sell threshold is: 61\n",
            "Tried sell threshold is: 62\n",
            "Tried sell threshold is: 63\n",
            "Tried sell threshold is: 64\n",
            "Tried sell threshold is: 65\n",
            "Tried sell threshold is: 66\n",
            "Tried sell threshold is: 67\n",
            "Tried sell threshold is: 68\n",
            "Tried sell threshold is: 69\n",
            "Tried sell threshold is: 70\n",
            "Tried sell threshold is: 71\n",
            "Tried sell threshold is: 72\n",
            "Tried sell threshold is: 73\n",
            "Tried sell threshold is: 74\n",
            "Tried sell threshold is: 75\n",
            "Tried sell threshold is: 76\n",
            "Tried sell threshold is: 77\n",
            "Tried sell threshold is: 78\n",
            "Tried sell threshold is: 79\n",
            "Tried buy threshold is: 65\n",
            "Tried sell threshold is: 40\n",
            "Tried sell threshold is: 41\n",
            "Tried sell threshold is: 42\n",
            "Tried sell threshold is: 43\n",
            "Tried sell threshold is: 44\n",
            "Tried sell threshold is: 45\n",
            "Tried sell threshold is: 46\n",
            "Tried sell threshold is: 47\n",
            "Tried sell threshold is: 48\n",
            "Tried sell threshold is: 49\n",
            "Tried sell threshold is: 50\n",
            "Tried sell threshold is: 51\n",
            "Tried sell threshold is: 52\n",
            "Tried sell threshold is: 53\n",
            "Tried sell threshold is: 54\n",
            "Tried sell threshold is: 55\n",
            "Tried sell threshold is: 56\n",
            "Tried sell threshold is: 57\n",
            "Tried sell threshold is: 58\n",
            "Tried sell threshold is: 59\n",
            "Tried sell threshold is: 60\n",
            "Tried sell threshold is: 61\n",
            "Tried sell threshold is: 62\n",
            "Tried sell threshold is: 63\n",
            "Tried sell threshold is: 64\n",
            "Tried sell threshold is: 65\n",
            "Tried sell threshold is: 66\n",
            "Tried sell threshold is: 67\n",
            "Tried sell threshold is: 68\n",
            "Tried sell threshold is: 69\n",
            "Tried sell threshold is: 70\n",
            "Tried sell threshold is: 71\n",
            "Tried sell threshold is: 72\n",
            "Tried sell threshold is: 73\n",
            "Tried sell threshold is: 74\n",
            "Tried sell threshold is: 75\n",
            "Tried sell threshold is: 76\n",
            "Tried sell threshold is: 77\n",
            "Tried sell threshold is: 78\n",
            "Tried sell threshold is: 79\n",
            "Tried buy threshold is: 66\n",
            "Tried sell threshold is: 40\n",
            "Tried sell threshold is: 41\n",
            "Tried sell threshold is: 42\n",
            "Tried sell threshold is: 43\n",
            "Tried sell threshold is: 44\n",
            "Tried sell threshold is: 45\n",
            "Tried sell threshold is: 46\n",
            "Tried sell threshold is: 47\n",
            "Tried sell threshold is: 48\n",
            "Tried sell threshold is: 49\n",
            "Tried sell threshold is: 50\n",
            "Tried sell threshold is: 51\n",
            "Tried sell threshold is: 52\n",
            "Tried sell threshold is: 53\n",
            "Tried sell threshold is: 54\n",
            "Tried sell threshold is: 55\n",
            "Tried sell threshold is: 56\n",
            "Tried sell threshold is: 57\n",
            "Tried sell threshold is: 58\n",
            "Tried sell threshold is: 59\n",
            "Tried sell threshold is: 60\n",
            "Tried sell threshold is: 61\n",
            "Tried sell threshold is: 62\n",
            "Tried sell threshold is: 63\n",
            "Tried sell threshold is: 64\n",
            "Tried sell threshold is: 65\n",
            "Tried sell threshold is: 66\n",
            "Tried sell threshold is: 67\n",
            "Tried sell threshold is: 68\n",
            "Tried sell threshold is: 69\n",
            "Tried sell threshold is: 70\n",
            "Tried sell threshold is: 71\n",
            "Tried sell threshold is: 72\n",
            "Tried sell threshold is: 73\n",
            "Tried sell threshold is: 74\n",
            "Tried sell threshold is: 75\n",
            "Tried sell threshold is: 76\n",
            "Tried sell threshold is: 77\n",
            "Tried sell threshold is: 78\n",
            "Tried sell threshold is: 79\n",
            "Tried buy threshold is: 67\n",
            "Tried sell threshold is: 40\n",
            "Tried sell threshold is: 41\n",
            "Tried sell threshold is: 42\n",
            "Tried sell threshold is: 43\n",
            "Tried sell threshold is: 44\n",
            "Tried sell threshold is: 45\n",
            "Tried sell threshold is: 46\n",
            "Tried sell threshold is: 47\n",
            "Tried sell threshold is: 48\n",
            "Tried sell threshold is: 49\n",
            "Tried sell threshold is: 50\n",
            "Tried sell threshold is: 51\n",
            "Tried sell threshold is: 52\n",
            "Tried sell threshold is: 53\n",
            "Tried sell threshold is: 54\n",
            "Tried sell threshold is: 55\n",
            "Tried sell threshold is: 56\n",
            "Tried sell threshold is: 57\n",
            "Tried sell threshold is: 58\n",
            "Tried sell threshold is: 59\n",
            "Tried sell threshold is: 60\n",
            "Tried sell threshold is: 61\n",
            "Tried sell threshold is: 62\n",
            "Tried sell threshold is: 63\n",
            "Tried sell threshold is: 64\n",
            "Tried sell threshold is: 65\n",
            "Tried sell threshold is: 66\n",
            "Tried sell threshold is: 67\n",
            "Tried sell threshold is: 68\n",
            "Tried sell threshold is: 69\n",
            "Tried sell threshold is: 70\n",
            "Tried sell threshold is: 71\n",
            "Tried sell threshold is: 72\n",
            "Tried sell threshold is: 73\n",
            "Tried sell threshold is: 74\n",
            "Tried sell threshold is: 75\n",
            "Tried sell threshold is: 76\n",
            "Tried sell threshold is: 77\n",
            "Tried sell threshold is: 78\n",
            "Tried sell threshold is: 79\n",
            "Tried buy threshold is: 68\n",
            "Tried sell threshold is: 40\n",
            "Tried sell threshold is: 41\n",
            "Tried sell threshold is: 42\n",
            "Tried sell threshold is: 43\n",
            "Tried sell threshold is: 44\n",
            "Tried sell threshold is: 45\n",
            "Tried sell threshold is: 46\n",
            "Tried sell threshold is: 47\n",
            "Tried sell threshold is: 48\n",
            "Tried sell threshold is: 49\n",
            "Tried sell threshold is: 50\n",
            "Tried sell threshold is: 51\n",
            "Tried sell threshold is: 52\n",
            "Tried sell threshold is: 53\n",
            "Tried sell threshold is: 54\n",
            "Tried sell threshold is: 55\n",
            "Tried sell threshold is: 56\n",
            "Tried sell threshold is: 57\n",
            "Tried sell threshold is: 58\n",
            "Tried sell threshold is: 59\n",
            "Tried sell threshold is: 60\n",
            "Tried sell threshold is: 61\n",
            "Tried sell threshold is: 62\n",
            "Tried sell threshold is: 63\n",
            "Tried sell threshold is: 64\n",
            "Tried sell threshold is: 65\n",
            "Tried sell threshold is: 66\n",
            "Tried sell threshold is: 67\n",
            "Tried sell threshold is: 68\n",
            "Tried sell threshold is: 69\n",
            "Tried sell threshold is: 70\n",
            "Tried sell threshold is: 71\n",
            "Tried sell threshold is: 72\n",
            "Tried sell threshold is: 73\n",
            "Tried sell threshold is: 74\n",
            "Tried sell threshold is: 75\n",
            "Tried sell threshold is: 76\n",
            "Tried sell threshold is: 77\n",
            "Tried sell threshold is: 78\n",
            "Tried sell threshold is: 79\n",
            "Tried buy threshold is: 69\n",
            "Tried sell threshold is: 40\n",
            "Tried sell threshold is: 41\n",
            "Tried sell threshold is: 42\n",
            "Tried sell threshold is: 43\n",
            "Tried sell threshold is: 44\n",
            "Tried sell threshold is: 45\n",
            "Tried sell threshold is: 46\n",
            "Tried sell threshold is: 47\n",
            "Tried sell threshold is: 48\n",
            "Tried sell threshold is: 49\n",
            "Tried sell threshold is: 50\n",
            "Tried sell threshold is: 51\n",
            "Tried sell threshold is: 52\n",
            "Tried sell threshold is: 53\n",
            "Tried sell threshold is: 54\n",
            "Tried sell threshold is: 55\n",
            "Tried sell threshold is: 56\n",
            "Tried sell threshold is: 57\n",
            "Tried sell threshold is: 58\n",
            "Tried sell threshold is: 59\n",
            "Tried sell threshold is: 60\n",
            "Tried sell threshold is: 61\n",
            "Tried sell threshold is: 62\n",
            "Tried sell threshold is: 63\n",
            "Tried sell threshold is: 64\n",
            "Tried sell threshold is: 65\n",
            "Tried sell threshold is: 66\n",
            "Tried sell threshold is: 67\n",
            "Tried sell threshold is: 68\n",
            "Tried sell threshold is: 69\n",
            "Tried sell threshold is: 70\n",
            "Tried sell threshold is: 71\n",
            "Tried sell threshold is: 72\n",
            "Tried sell threshold is: 73\n",
            "Tried sell threshold is: 74\n",
            "Tried sell threshold is: 75\n",
            "Tried sell threshold is: 76\n",
            "Tried sell threshold is: 77\n",
            "Tried sell threshold is: 78\n",
            "Tried sell threshold is: 79\n",
            "Tried buy threshold is: 70\n",
            "Tried sell threshold is: 40\n",
            "Tried sell threshold is: 41\n",
            "Tried sell threshold is: 42\n",
            "Tried sell threshold is: 43\n",
            "Tried sell threshold is: 44\n",
            "Tried sell threshold is: 45\n",
            "Tried sell threshold is: 46\n",
            "Tried sell threshold is: 47\n",
            "Tried sell threshold is: 48\n",
            "Tried sell threshold is: 49\n",
            "Tried sell threshold is: 50\n",
            "Tried sell threshold is: 51\n",
            "Tried sell threshold is: 52\n",
            "Tried sell threshold is: 53\n",
            "Tried sell threshold is: 54\n",
            "Tried sell threshold is: 55\n",
            "Tried sell threshold is: 56\n",
            "Tried sell threshold is: 57\n",
            "Tried sell threshold is: 58\n",
            "Tried sell threshold is: 59\n",
            "Tried sell threshold is: 60\n",
            "Tried sell threshold is: 61\n",
            "Tried sell threshold is: 62\n",
            "Tried sell threshold is: 63\n",
            "Tried sell threshold is: 64\n",
            "Tried sell threshold is: 65\n",
            "Tried sell threshold is: 66\n",
            "Tried sell threshold is: 67\n",
            "Tried sell threshold is: 68\n",
            "Tried sell threshold is: 69\n",
            "Tried sell threshold is: 70\n",
            "Tried sell threshold is: 71\n",
            "Tried sell threshold is: 72\n",
            "Tried sell threshold is: 73\n",
            "Tried sell threshold is: 74\n",
            "Tried sell threshold is: 75\n",
            "Tried sell threshold is: 76\n",
            "Tried sell threshold is: 77\n",
            "Tried sell threshold is: 78\n",
            "Tried sell threshold is: 79\n",
            "Tried buy threshold is: 71\n",
            "Tried sell threshold is: 40\n",
            "Tried sell threshold is: 41\n",
            "Tried sell threshold is: 42\n",
            "Tried sell threshold is: 43\n",
            "Tried sell threshold is: 44\n",
            "Tried sell threshold is: 45\n",
            "Tried sell threshold is: 46\n",
            "Tried sell threshold is: 47\n",
            "Tried sell threshold is: 48\n",
            "Tried sell threshold is: 49\n",
            "Tried sell threshold is: 50\n",
            "Tried sell threshold is: 51\n",
            "Tried sell threshold is: 52\n",
            "Tried sell threshold is: 53\n",
            "Tried sell threshold is: 54\n",
            "Tried sell threshold is: 55\n",
            "Tried sell threshold is: 56\n",
            "Tried sell threshold is: 57\n",
            "Tried sell threshold is: 58\n",
            "Tried sell threshold is: 59\n",
            "Tried sell threshold is: 60\n",
            "Tried sell threshold is: 61\n",
            "Tried sell threshold is: 62\n",
            "Tried sell threshold is: 63\n",
            "Tried sell threshold is: 64\n",
            "Tried sell threshold is: 65\n",
            "Tried sell threshold is: 66\n",
            "Tried sell threshold is: 67\n",
            "Tried sell threshold is: 68\n",
            "Tried sell threshold is: 69\n",
            "Tried sell threshold is: 70\n",
            "Tried sell threshold is: 71\n",
            "Tried sell threshold is: 72\n",
            "Tried sell threshold is: 73\n",
            "Tried sell threshold is: 74\n",
            "Tried sell threshold is: 75\n",
            "Tried sell threshold is: 76\n",
            "Tried sell threshold is: 77\n",
            "Tried sell threshold is: 78\n",
            "Tried sell threshold is: 79\n",
            "Tried buy threshold is: 72\n",
            "Tried sell threshold is: 40\n",
            "Tried sell threshold is: 41\n",
            "Tried sell threshold is: 42\n",
            "Tried sell threshold is: 43\n",
            "Tried sell threshold is: 44\n",
            "Tried sell threshold is: 45\n",
            "Tried sell threshold is: 46\n",
            "Tried sell threshold is: 47\n",
            "Tried sell threshold is: 48\n",
            "Tried sell threshold is: 49\n",
            "Tried sell threshold is: 50\n",
            "Tried sell threshold is: 51\n",
            "Tried sell threshold is: 52\n",
            "Tried sell threshold is: 53\n",
            "Tried sell threshold is: 54\n",
            "Tried sell threshold is: 55\n",
            "Tried sell threshold is: 56\n",
            "Tried sell threshold is: 57\n",
            "Tried sell threshold is: 58\n",
            "Tried sell threshold is: 59\n",
            "Tried sell threshold is: 60\n",
            "Tried sell threshold is: 61\n",
            "Tried sell threshold is: 62\n",
            "Tried sell threshold is: 63\n",
            "Tried sell threshold is: 64\n",
            "Tried sell threshold is: 65\n",
            "Tried sell threshold is: 66\n",
            "Tried sell threshold is: 67\n",
            "Tried sell threshold is: 68\n",
            "Tried sell threshold is: 69\n",
            "Tried sell threshold is: 70\n",
            "Tried sell threshold is: 71\n",
            "Tried sell threshold is: 72\n",
            "Tried sell threshold is: 73\n",
            "Tried sell threshold is: 74\n",
            "Tried sell threshold is: 75\n",
            "Tried sell threshold is: 76\n",
            "Tried sell threshold is: 77\n",
            "Tried sell threshold is: 78\n",
            "Tried sell threshold is: 79\n",
            "Tried buy threshold is: 73\n",
            "Tried sell threshold is: 40\n",
            "Tried sell threshold is: 41\n",
            "Tried sell threshold is: 42\n",
            "Tried sell threshold is: 43\n",
            "Tried sell threshold is: 44\n",
            "Tried sell threshold is: 45\n",
            "Tried sell threshold is: 46\n",
            "Tried sell threshold is: 47\n",
            "Tried sell threshold is: 48\n",
            "Tried sell threshold is: 49\n",
            "Tried sell threshold is: 50\n",
            "Tried sell threshold is: 51\n",
            "Tried sell threshold is: 52\n",
            "Tried sell threshold is: 53\n",
            "Tried sell threshold is: 54\n",
            "Tried sell threshold is: 55\n",
            "Tried sell threshold is: 56\n",
            "Tried sell threshold is: 57\n",
            "Tried sell threshold is: 58\n",
            "Tried sell threshold is: 59\n",
            "Tried sell threshold is: 60\n",
            "Tried sell threshold is: 61\n",
            "Tried sell threshold is: 62\n",
            "Tried sell threshold is: 63\n",
            "Tried sell threshold is: 64\n",
            "Tried sell threshold is: 65\n",
            "Tried sell threshold is: 66\n",
            "Tried sell threshold is: 67\n",
            "Tried sell threshold is: 68\n",
            "Tried sell threshold is: 69\n",
            "Tried sell threshold is: 70\n",
            "Tried sell threshold is: 71\n",
            "Tried sell threshold is: 72\n",
            "Tried sell threshold is: 73\n",
            "Tried sell threshold is: 74\n",
            "Tried sell threshold is: 75\n",
            "Tried sell threshold is: 76\n",
            "Tried sell threshold is: 77\n",
            "Tried sell threshold is: 78\n",
            "Tried sell threshold is: 79\n",
            "Tried buy threshold is: 74\n",
            "Tried sell threshold is: 40\n",
            "Tried sell threshold is: 41\n",
            "Tried sell threshold is: 42\n",
            "Tried sell threshold is: 43\n",
            "Tried sell threshold is: 44\n",
            "Tried sell threshold is: 45\n",
            "Tried sell threshold is: 46\n",
            "Tried sell threshold is: 47\n",
            "Tried sell threshold is: 48\n",
            "Tried sell threshold is: 49\n",
            "Tried sell threshold is: 50\n",
            "Tried sell threshold is: 51\n",
            "Tried sell threshold is: 52\n",
            "Tried sell threshold is: 53\n",
            "Tried sell threshold is: 54\n",
            "Tried sell threshold is: 55\n",
            "Tried sell threshold is: 56\n",
            "Tried sell threshold is: 57\n",
            "Tried sell threshold is: 58\n",
            "Tried sell threshold is: 59\n",
            "Tried sell threshold is: 60\n",
            "Tried sell threshold is: 61\n",
            "Tried sell threshold is: 62\n",
            "Tried sell threshold is: 63\n",
            "Tried sell threshold is: 64\n",
            "Tried sell threshold is: 65\n",
            "Tried sell threshold is: 66\n",
            "Tried sell threshold is: 67\n",
            "Tried sell threshold is: 68\n",
            "Tried sell threshold is: 69\n",
            "Tried sell threshold is: 70\n",
            "Tried sell threshold is: 71\n",
            "Tried sell threshold is: 72\n",
            "Tried sell threshold is: 73\n",
            "Tried sell threshold is: 74\n",
            "Tried sell threshold is: 75\n",
            "Tried sell threshold is: 76\n",
            "Tried sell threshold is: 77\n",
            "Tried sell threshold is: 78\n",
            "Tried sell threshold is: 79\n",
            "Tried buy threshold is: 75\n",
            "Tried sell threshold is: 40\n",
            "Tried sell threshold is: 41\n",
            "Tried sell threshold is: 42\n",
            "Tried sell threshold is: 43\n",
            "Tried sell threshold is: 44\n",
            "Tried sell threshold is: 45\n",
            "Tried sell threshold is: 46\n",
            "Tried sell threshold is: 47\n",
            "Tried sell threshold is: 48\n",
            "Tried sell threshold is: 49\n",
            "Tried sell threshold is: 50\n",
            "Tried sell threshold is: 51\n",
            "Tried sell threshold is: 52\n",
            "Tried sell threshold is: 53\n",
            "Tried sell threshold is: 54\n",
            "Tried sell threshold is: 55\n",
            "Tried sell threshold is: 56\n",
            "Tried sell threshold is: 57\n",
            "Tried sell threshold is: 58\n",
            "Tried sell threshold is: 59\n",
            "Tried sell threshold is: 60\n",
            "Tried sell threshold is: 61\n",
            "Tried sell threshold is: 62\n",
            "Tried sell threshold is: 63\n",
            "Tried sell threshold is: 64\n",
            "Tried sell threshold is: 65\n",
            "Tried sell threshold is: 66\n",
            "Tried sell threshold is: 67\n",
            "Tried sell threshold is: 68\n",
            "Tried sell threshold is: 69\n",
            "Tried sell threshold is: 70\n",
            "Tried sell threshold is: 71\n",
            "Tried sell threshold is: 72\n",
            "Tried sell threshold is: 73\n",
            "Tried sell threshold is: 74\n",
            "Tried sell threshold is: 75\n",
            "Tried sell threshold is: 76\n",
            "Tried sell threshold is: 77\n",
            "Tried sell threshold is: 78\n",
            "Tried sell threshold is: 79\n",
            "Tried buy threshold is: 76\n",
            "Tried sell threshold is: 40\n",
            "Tried sell threshold is: 41\n",
            "Tried sell threshold is: 42\n",
            "Tried sell threshold is: 43\n",
            "Tried sell threshold is: 44\n",
            "Tried sell threshold is: 45\n",
            "Tried sell threshold is: 46\n",
            "Tried sell threshold is: 47\n",
            "Tried sell threshold is: 48\n",
            "Tried sell threshold is: 49\n",
            "Tried sell threshold is: 50\n",
            "Tried sell threshold is: 51\n",
            "Tried sell threshold is: 52\n",
            "Tried sell threshold is: 53\n",
            "Tried sell threshold is: 54\n",
            "Tried sell threshold is: 55\n",
            "Tried sell threshold is: 56\n",
            "Tried sell threshold is: 57\n",
            "Tried sell threshold is: 58\n",
            "Tried sell threshold is: 59\n",
            "Tried sell threshold is: 60\n",
            "Tried sell threshold is: 61\n",
            "Tried sell threshold is: 62\n",
            "Tried sell threshold is: 63\n",
            "Tried sell threshold is: 64\n",
            "Tried sell threshold is: 65\n",
            "Tried sell threshold is: 66\n",
            "Tried sell threshold is: 67\n",
            "Tried sell threshold is: 68\n",
            "Tried sell threshold is: 69\n",
            "Tried sell threshold is: 70\n",
            "Tried sell threshold is: 71\n",
            "Tried sell threshold is: 72\n",
            "Tried sell threshold is: 73\n",
            "Tried sell threshold is: 74\n",
            "Tried sell threshold is: 75\n",
            "Tried sell threshold is: 76\n",
            "Tried sell threshold is: 77\n",
            "Tried sell threshold is: 78\n",
            "Tried sell threshold is: 79\n",
            "Tried buy threshold is: 77\n",
            "Tried sell threshold is: 40\n",
            "Tried sell threshold is: 41\n",
            "Tried sell threshold is: 42\n",
            "Tried sell threshold is: 43\n",
            "Tried sell threshold is: 44\n",
            "Tried sell threshold is: 45\n",
            "Tried sell threshold is: 46\n",
            "Tried sell threshold is: 47\n",
            "Tried sell threshold is: 48\n",
            "Tried sell threshold is: 49\n",
            "Tried sell threshold is: 50\n",
            "Tried sell threshold is: 51\n",
            "Tried sell threshold is: 52\n",
            "Tried sell threshold is: 53\n",
            "Tried sell threshold is: 54\n",
            "Tried sell threshold is: 55\n",
            "Tried sell threshold is: 56\n",
            "Tried sell threshold is: 57\n",
            "Tried sell threshold is: 58\n",
            "Tried sell threshold is: 59\n",
            "Tried sell threshold is: 60\n",
            "Tried sell threshold is: 61\n",
            "Tried sell threshold is: 62\n",
            "Tried sell threshold is: 63\n",
            "Tried sell threshold is: 64\n",
            "Tried sell threshold is: 65\n",
            "Tried sell threshold is: 66\n",
            "Tried sell threshold is: 67\n",
            "Tried sell threshold is: 68\n",
            "Tried sell threshold is: 69\n",
            "Tried sell threshold is: 70\n",
            "Tried sell threshold is: 71\n",
            "Tried sell threshold is: 72\n",
            "Tried sell threshold is: 73\n",
            "Tried sell threshold is: 74\n",
            "Tried sell threshold is: 75\n",
            "Tried sell threshold is: 76\n",
            "Tried sell threshold is: 77\n",
            "Tried sell threshold is: 78\n",
            "Tried sell threshold is: 79\n",
            "Tried buy threshold is: 78\n",
            "Tried sell threshold is: 40\n",
            "Tried sell threshold is: 41\n",
            "Tried sell threshold is: 42\n",
            "Tried sell threshold is: 43\n",
            "Tried sell threshold is: 44\n",
            "Tried sell threshold is: 45\n",
            "Tried sell threshold is: 46\n",
            "Tried sell threshold is: 47\n",
            "Tried sell threshold is: 48\n",
            "Tried sell threshold is: 49\n",
            "Tried sell threshold is: 50\n",
            "Tried sell threshold is: 51\n",
            "Tried sell threshold is: 52\n",
            "Tried sell threshold is: 53\n",
            "Tried sell threshold is: 54\n",
            "Tried sell threshold is: 55\n",
            "Tried sell threshold is: 56\n",
            "Tried sell threshold is: 57\n",
            "Tried sell threshold is: 58\n",
            "Tried sell threshold is: 59\n",
            "Tried sell threshold is: 60\n",
            "Tried sell threshold is: 61\n",
            "Tried sell threshold is: 62\n",
            "Tried sell threshold is: 63\n",
            "Tried sell threshold is: 64\n",
            "Tried sell threshold is: 65\n",
            "Tried sell threshold is: 66\n",
            "Tried sell threshold is: 67\n",
            "Tried sell threshold is: 68\n",
            "Tried sell threshold is: 69\n",
            "Tried sell threshold is: 70\n",
            "Tried sell threshold is: 71\n",
            "Tried sell threshold is: 72\n",
            "Tried sell threshold is: 73\n",
            "Tried sell threshold is: 74\n",
            "Tried sell threshold is: 75\n",
            "Tried sell threshold is: 76\n",
            "Tried sell threshold is: 77\n",
            "Tried sell threshold is: 78\n",
            "Tried sell threshold is: 79\n",
            "Tried buy threshold is: 79\n",
            "Tried sell threshold is: 40\n",
            "Tried sell threshold is: 41\n",
            "Tried sell threshold is: 42\n",
            "Tried sell threshold is: 43\n",
            "Tried sell threshold is: 44\n",
            "Tried sell threshold is: 45\n",
            "Tried sell threshold is: 46\n",
            "Tried sell threshold is: 47\n",
            "Tried sell threshold is: 48\n",
            "Tried sell threshold is: 49\n",
            "Tried sell threshold is: 50\n",
            "Tried sell threshold is: 51\n",
            "Tried sell threshold is: 52\n",
            "Tried sell threshold is: 53\n",
            "Tried sell threshold is: 54\n",
            "Tried sell threshold is: 55\n",
            "Tried sell threshold is: 56\n",
            "Tried sell threshold is: 57\n",
            "Tried sell threshold is: 58\n",
            "Tried sell threshold is: 59\n",
            "Tried sell threshold is: 60\n",
            "Tried sell threshold is: 61\n",
            "Tried sell threshold is: 62\n",
            "Tried sell threshold is: 63\n",
            "Tried sell threshold is: 64\n",
            "Tried sell threshold is: 65\n",
            "Tried sell threshold is: 66\n",
            "Tried sell threshold is: 67\n",
            "Tried sell threshold is: 68\n",
            "Tried sell threshold is: 69\n",
            "Tried sell threshold is: 70\n",
            "Tried sell threshold is: 71\n",
            "Tried sell threshold is: 72\n",
            "Tried sell threshold is: 73\n",
            "Tried sell threshold is: 74\n",
            "Tried sell threshold is: 75\n",
            "Tried sell threshold is: 76\n",
            "Tried sell threshold is: 77\n",
            "Tried sell threshold is: 78\n",
            "Tried sell threshold is: 79\n"
          ]
        }
      ]
    },
    {
      "cell_type": "code",
      "source": [
        "tries = pd.DataFrame(tries).sort_values(by=2, ascending=False)\n",
        "tries"
      ],
      "metadata": {
        "colab": {
          "base_uri": "https://localhost:8080/",
          "height": 424
        },
        "id": "z0NBQ67rwOMV",
        "outputId": "e3a095e8-72cc-49d5-e763-9245f14f3be2"
      },
      "execution_count": 78,
      "outputs": [
        {
          "output_type": "execute_result",
          "data": {
            "text/plain": [
              "       0   1       2\n",
              "1491  77  51 6351.70\n",
              "1454  76  54 6351.70\n",
              "1450  76  50 6351.70\n",
              "1494  77  54 6351.70\n",
              "1493  77  53 6351.70\n",
              "...   ..  ..     ...\n",
              "542   53  62  259.82\n",
              "581   54  61  259.82\n",
              "582   54  62  259.82\n",
              "620   55  60  259.82\n",
              "580   54  60  259.82\n",
              "\n",
              "[1600 rows x 3 columns]"
            ],
            "text/html": [
              "\n",
              "  <div id=\"df-1cc9d258-54e6-4146-9f19-0fc86a03fc08\">\n",
              "    <div class=\"colab-df-container\">\n",
              "      <div>\n",
              "<style scoped>\n",
              "    .dataframe tbody tr th:only-of-type {\n",
              "        vertical-align: middle;\n",
              "    }\n",
              "\n",
              "    .dataframe tbody tr th {\n",
              "        vertical-align: top;\n",
              "    }\n",
              "\n",
              "    .dataframe thead th {\n",
              "        text-align: right;\n",
              "    }\n",
              "</style>\n",
              "<table border=\"1\" class=\"dataframe\">\n",
              "  <thead>\n",
              "    <tr style=\"text-align: right;\">\n",
              "      <th></th>\n",
              "      <th>0</th>\n",
              "      <th>1</th>\n",
              "      <th>2</th>\n",
              "    </tr>\n",
              "  </thead>\n",
              "  <tbody>\n",
              "    <tr>\n",
              "      <th>1491</th>\n",
              "      <td>77</td>\n",
              "      <td>51</td>\n",
              "      <td>6351.70</td>\n",
              "    </tr>\n",
              "    <tr>\n",
              "      <th>1454</th>\n",
              "      <td>76</td>\n",
              "      <td>54</td>\n",
              "      <td>6351.70</td>\n",
              "    </tr>\n",
              "    <tr>\n",
              "      <th>1450</th>\n",
              "      <td>76</td>\n",
              "      <td>50</td>\n",
              "      <td>6351.70</td>\n",
              "    </tr>\n",
              "    <tr>\n",
              "      <th>1494</th>\n",
              "      <td>77</td>\n",
              "      <td>54</td>\n",
              "      <td>6351.70</td>\n",
              "    </tr>\n",
              "    <tr>\n",
              "      <th>1493</th>\n",
              "      <td>77</td>\n",
              "      <td>53</td>\n",
              "      <td>6351.70</td>\n",
              "    </tr>\n",
              "    <tr>\n",
              "      <th>...</th>\n",
              "      <td>...</td>\n",
              "      <td>...</td>\n",
              "      <td>...</td>\n",
              "    </tr>\n",
              "    <tr>\n",
              "      <th>542</th>\n",
              "      <td>53</td>\n",
              "      <td>62</td>\n",
              "      <td>259.82</td>\n",
              "    </tr>\n",
              "    <tr>\n",
              "      <th>581</th>\n",
              "      <td>54</td>\n",
              "      <td>61</td>\n",
              "      <td>259.82</td>\n",
              "    </tr>\n",
              "    <tr>\n",
              "      <th>582</th>\n",
              "      <td>54</td>\n",
              "      <td>62</td>\n",
              "      <td>259.82</td>\n",
              "    </tr>\n",
              "    <tr>\n",
              "      <th>620</th>\n",
              "      <td>55</td>\n",
              "      <td>60</td>\n",
              "      <td>259.82</td>\n",
              "    </tr>\n",
              "    <tr>\n",
              "      <th>580</th>\n",
              "      <td>54</td>\n",
              "      <td>60</td>\n",
              "      <td>259.82</td>\n",
              "    </tr>\n",
              "  </tbody>\n",
              "</table>\n",
              "<p>1600 rows × 3 columns</p>\n",
              "</div>\n",
              "      <button class=\"colab-df-convert\" onclick=\"convertToInteractive('df-1cc9d258-54e6-4146-9f19-0fc86a03fc08')\"\n",
              "              title=\"Convert this dataframe to an interactive table.\"\n",
              "              style=\"display:none;\">\n",
              "        \n",
              "  <svg xmlns=\"http://www.w3.org/2000/svg\" height=\"24px\"viewBox=\"0 0 24 24\"\n",
              "       width=\"24px\">\n",
              "    <path d=\"M0 0h24v24H0V0z\" fill=\"none\"/>\n",
              "    <path d=\"M18.56 5.44l.94 2.06.94-2.06 2.06-.94-2.06-.94-.94-2.06-.94 2.06-2.06.94zm-11 1L8.5 8.5l.94-2.06 2.06-.94-2.06-.94L8.5 2.5l-.94 2.06-2.06.94zm10 10l.94 2.06.94-2.06 2.06-.94-2.06-.94-.94-2.06-.94 2.06-2.06.94z\"/><path d=\"M17.41 7.96l-1.37-1.37c-.4-.4-.92-.59-1.43-.59-.52 0-1.04.2-1.43.59L10.3 9.45l-7.72 7.72c-.78.78-.78 2.05 0 2.83L4 21.41c.39.39.9.59 1.41.59.51 0 1.02-.2 1.41-.59l7.78-7.78 2.81-2.81c.8-.78.8-2.07 0-2.86zM5.41 20L4 18.59l7.72-7.72 1.47 1.35L5.41 20z\"/>\n",
              "  </svg>\n",
              "      </button>\n",
              "      \n",
              "  <style>\n",
              "    .colab-df-container {\n",
              "      display:flex;\n",
              "      flex-wrap:wrap;\n",
              "      gap: 12px;\n",
              "    }\n",
              "\n",
              "    .colab-df-convert {\n",
              "      background-color: #E8F0FE;\n",
              "      border: none;\n",
              "      border-radius: 50%;\n",
              "      cursor: pointer;\n",
              "      display: none;\n",
              "      fill: #1967D2;\n",
              "      height: 32px;\n",
              "      padding: 0 0 0 0;\n",
              "      width: 32px;\n",
              "    }\n",
              "\n",
              "    .colab-df-convert:hover {\n",
              "      background-color: #E2EBFA;\n",
              "      box-shadow: 0px 1px 2px rgba(60, 64, 67, 0.3), 0px 1px 3px 1px rgba(60, 64, 67, 0.15);\n",
              "      fill: #174EA6;\n",
              "    }\n",
              "\n",
              "    [theme=dark] .colab-df-convert {\n",
              "      background-color: #3B4455;\n",
              "      fill: #D2E3FC;\n",
              "    }\n",
              "\n",
              "    [theme=dark] .colab-df-convert:hover {\n",
              "      background-color: #434B5C;\n",
              "      box-shadow: 0px 1px 3px 1px rgba(0, 0, 0, 0.15);\n",
              "      filter: drop-shadow(0px 1px 2px rgba(0, 0, 0, 0.3));\n",
              "      fill: #FFFFFF;\n",
              "    }\n",
              "  </style>\n",
              "\n",
              "      <script>\n",
              "        const buttonEl =\n",
              "          document.querySelector('#df-1cc9d258-54e6-4146-9f19-0fc86a03fc08 button.colab-df-convert');\n",
              "        buttonEl.style.display =\n",
              "          google.colab.kernel.accessAllowed ? 'block' : 'none';\n",
              "\n",
              "        async function convertToInteractive(key) {\n",
              "          const element = document.querySelector('#df-1cc9d258-54e6-4146-9f19-0fc86a03fc08');\n",
              "          const dataTable =\n",
              "            await google.colab.kernel.invokeFunction('convertToInteractive',\n",
              "                                                     [key], {});\n",
              "          if (!dataTable) return;\n",
              "\n",
              "          const docLinkHtml = 'Like what you see? Visit the ' +\n",
              "            '<a target=\"_blank\" href=https://colab.research.google.com/notebooks/data_table.ipynb>data table notebook</a>'\n",
              "            + ' to learn more about interactive tables.';\n",
              "          element.innerHTML = '';\n",
              "          dataTable['output_type'] = 'display_data';\n",
              "          await google.colab.output.renderOutput(dataTable, element);\n",
              "          const docLink = document.createElement('div');\n",
              "          docLink.innerHTML = docLinkHtml;\n",
              "          element.appendChild(docLink);\n",
              "        }\n",
              "      </script>\n",
              "    </div>\n",
              "  </div>\n",
              "  "
            ]
          },
          "metadata": {},
          "execution_count": 78
        }
      ]
    },
    {
      "cell_type": "markdown",
      "source": [
        "#DENEME"
      ],
      "metadata": {
        "id": "bFuDsMUKnhcp"
      }
    },
    {
      "cell_type": "code",
      "source": [
        "scaler = MinMaxScaler(feature_range=(0, 100))\n",
        "\n",
        "result_df = pd.DataFrame()\n",
        "\n",
        "for stock in xu030:\n",
        "  print(stock)\n",
        "  data = yf.download(stock, start=start, end=end, progress=False)\n",
        "  data = create_indicators(data)\n",
        "  data[\"STOCK\"] = stock\n",
        "\n",
        "  for i in range(10):\n",
        "    print(f\"{i}. Deneme\")\n",
        "    scores = []\n",
        "\n",
        "    rsi1 = random.randint(0,5)\n",
        "    rsi2 = random.randint(0,5)\n",
        "    rsi3 = random.randint(0,5)\n",
        "    rsi4 = random.randint(0,5)\n",
        "    rsi5 = random.randint(0,5)\n",
        "    rsi6 = random.randint(0,5)\n",
        "    rsi7 = random.randint(0,5)\n",
        "\n",
        "    sma5_1 = random.randint(0,5)\n",
        "    sma5_2 = random.randint(0,5)\n",
        "    sma5_3 = random.randint(0,5)\n",
        "    sma5_4 = random.randint(0,5)\n",
        "\n",
        "    sma9_1 = random.randint(0,5)\n",
        "    sma9_2 = random.randint(0,5)\n",
        "    sma9_3 = random.randint(0,5)\n",
        "    sma9_4 = random.randint(0,5)\n",
        "\n",
        "    sma14_1 = random.randint(0,5)\n",
        "    sma14_2 = random.randint(0,5)\n",
        "    sma14_3 = random.randint(0,5)\n",
        "    sma14_4 = random.randint(0,5)\n",
        "\n",
        "    sma20_1 = random.randint(0,5)\n",
        "    sma20_2 = random.randint(0,5)\n",
        "\n",
        "    sma21_1 = random.randint(0,5)\n",
        "    sma21_2 = random.randint(0,5)\n",
        "    sma21_3 = random.randint(0,5)\n",
        "    sma21_4 = random.randint(0,5)\n",
        "\n",
        "    sma50 = random.randint(0,5)\n",
        "\n",
        "    ema_close_1 = random.randint(0,5)\n",
        "    ema_close_2 = random.randint(0,5)\n",
        "\n",
        "    ema5_1 = random.randint(0,5)\n",
        "    ema5_2 = random.randint(0,5)\n",
        "    ema5_3 = random.randint(0,5)\n",
        "    ema5_4 = random.randint(0,5)\n",
        "\n",
        "    ema14_1 = random.randint(0,5)\n",
        "    ema14_2 = random.randint(0,5)\n",
        "    ema14_3 = random.randint(0,5)\n",
        "    ema14_4 = random.randint(0,5)\n",
        "\n",
        "    ema21_1 = random.randint(0,5)\n",
        "    ema21_2 = random.randint(0,5)\n",
        "    ema21_3 = random.randint(0,5)\n",
        "    ema21_4 = random.randint(0,5)\n",
        "\n",
        "    stoch_1 = random.randint(0,5)\n",
        "    stoch_2 = random.randint(0,5)\n",
        "    stoch_3 = random.randint(0,5)\n",
        "    stoch_4 = random.randint(0,5)\n",
        "\n",
        "    macd_1 = random.randint(0,5)\n",
        "    macd_2 = random.randint(0,5)\n",
        "    macd_3 = random.randint(0,5)\n",
        "    macd_4 = random.randint(0,5)\n",
        "    macd_5 = random.randint(0,5)\n",
        "    macd_6 = random.randint(0,5)\n",
        "    macd_7 = random.randint(0,5)\n",
        "    macd_8 = random.randint(0,5)\n",
        "\n",
        "    bb1 = random.randint(0,5)\n",
        "    bb2 = random.randint(0,5)\n",
        "    bb3 = random.randint(0,5)\n",
        "    bb4 = random.randint(0,5)\n",
        "\n",
        "    adx1 = random.randint(0,5)\n",
        "    adx2 = random.randint(0,5)\n",
        "    adx3 = random.randint(0,5)\n",
        "    adx4 = random.randint(0,5)\n",
        "\n",
        "    add = 1\n",
        "\n",
        "    indicators = [rsi1, rsi2, rsi3, rsi4, rsi5, sma5_1, sma5_2, sma5_3, sma5_4, sma9_1, sma9_2, sma9_3, sma9_4, sma14_1, sma14_2, sma14_3, sma14_4, sma20_1, sma20_2, sma21_1, sma21_2, sma21_3, sma21_4, sma50,\n",
        "              ema_close_1, ema_close_2, ema5_1, ema5_2, ema5_3, ema5_4, ema14_1, ema14_2, ema14_3, ema14_4, ema21_1, ema21_2, ema21_3, ema21_4, stoch_1, stoch_2, stoch_3, stoch_4, macd_1, macd_2, macd_3, macd_4, macd_5,\n",
        "              macd_6, macd_7, macd_8, bb1, bb2, bb3, bb4, adx1, adx2, adx3, adx4, rsi6, rsi7]\n",
        "\n",
        "    for row in range(data.shape[0]):\n",
        "      score = 0\n",
        "\n",
        "      if data[\"RSI\"][row] < 30:\n",
        "        score+=rsi1\n",
        "      elif data[\"RSI\"][row] > 70:\n",
        "        score-=rsi2\n",
        "\n",
        "      if data[\"RSI\"][row] >= 75:\n",
        "        score+=rsi6\n",
        "      elif row > 0 and data[\"RSI\"][row-1] > 73 and data[\"RSI\"][row] < 73:\n",
        "        score-=rsi7\n",
        "\n",
        "      if row > 0 and data[\"RSI\"].iloc[row-1] > 63 and data[\"RSI\"].iloc[row] < 63:\n",
        "        score-=rsi3\n",
        "      if row > 0 and data[\"RSI\"].iloc[row-1] > 49 and data[\"RSI\"].iloc[row] < 49:\n",
        "        score-=rsi4\n",
        "      elif row > 0 and data[\"RSI\"].iloc[row-1] < 50 and data[\"RSI\"].iloc[row] > 50:\n",
        "        score+=rsi5\n",
        "\n",
        "      if data[\"SMA5\"].iloc[row] > data[\"SMA10\"].iloc[row]:\n",
        "        score+=sma5_1\n",
        "      else:\n",
        "        score-=sma5_2\n",
        "\n",
        "      if row > 0 and data['SMA5'].iloc[row-1] < data['SMA10'].iloc[row-1] and data['SMA5'].iloc[row] > data['SMA10'].iloc[row]:\n",
        "        score+=sma5_3\n",
        "      else:\n",
        "        score-=sma5_4\n",
        "\n",
        "      if data[\"SMA9\"][row] > data[\"SMA14\"][row]:\n",
        "        score+=sma9_1\n",
        "      else:\n",
        "        score-=sma9_2\n",
        "\n",
        "      if row > 0 and data['SMA9'].iloc[row-1] < data['SMA14'].iloc[row-1] and data['SMA9'].iloc[row] > data['SMA14'].iloc[row]:\n",
        "        score+=sma9_3\n",
        "      else:\n",
        "        score-=sma9_4\n",
        "\n",
        "      if data[\"SMA14\"][row] > data[\"SMA21\"][row]:\n",
        "        score+=sma14_1\n",
        "      else:\n",
        "        score-=sma14_2\n",
        "\n",
        "      if row > 0 and data['SMA14'].iloc[row-1] < data['SMA21'].iloc[row-1] and data['SMA14'].iloc[row] > data['SMA21'].iloc[row]:\n",
        "        score+=sma14_3\n",
        "      else:\n",
        "        score-=sma14_4\n",
        "\n",
        "      if row > 1 and data['SMA20'].iloc[row-1] < data[\"Close\"].iloc[row-1] and data['SMA20'].iloc[row] < data[\"Close\"].iloc[row]:\n",
        "        score+=sma20_1\n",
        "      else:\n",
        "        score-=sma20_2\n",
        "\n",
        "      if data[\"SMA21\"][row] > data[\"SMA50\"][row]:\n",
        "        score+=sma21_1\n",
        "      else:\n",
        "        score-=sma21_2\n",
        "\n",
        "      if row > 0 and data['SMA21'].iloc[row-1] < data['SMA50'].iloc[row-1] and data['SMA21'].iloc[row] > data['SMA50'].iloc[row]:\n",
        "        score+=sma21_3\n",
        "      else:\n",
        "        score-=sma21_4\n",
        "\n",
        "      if row > 0 and data['SMA50'].iloc[row-1] < data['SMA200'].iloc[row-1] and data['SMA50'].iloc[row] > data['SMA200'].iloc[row]:\n",
        "        score+=sma50\n",
        "\n",
        "      if data['Close'][row] > data[\"EMA14\"][row]:\n",
        "        score+=ema_close_1\n",
        "      else:\n",
        "        score-=ema_close_2\n",
        "\n",
        "      if data[\"EMA5\"][row] > data[\"EMA14\"][row]:\n",
        "        score+=ema5_1\n",
        "      else:\n",
        "        score-=ema5_2\n",
        "\n",
        "      if row > 0 and data['EMA5'].iloc[row-1] < data['EMA14'].iloc[row-1] and data['EMA5'].iloc[row] > data['EMA14'].iloc[row]:\n",
        "        score+=ema5_3\n",
        "      else:\n",
        "        score-=ema5_4\n",
        "\n",
        "      if data[\"EMA14\"][row] > data[\"EMA21\"][row]:\n",
        "        score+=ema14_1\n",
        "      else:\n",
        "        score-=ema14_2\n",
        "\n",
        "      if row > 0 and data['EMA14'].iloc[row-1] < data['EMA21'].iloc[row-1] and data['EMA14'].iloc[row] > data['EMA21'].iloc[row]:\n",
        "        score+=ema14_3\n",
        "      else:\n",
        "        score-=ema14_4\n",
        "\n",
        "      if data[\"EMA21\"][row] > data[\"EMA50\"][row]:\n",
        "        score+=ema21_1\n",
        "      else:\n",
        "        score-=ema21_2\n",
        "\n",
        "      if row > 0 and data['EMA21'].iloc[row-1] < data['EMA50'].iloc[row-1] and data['EMA21'].iloc[row] > data['EMA50'].iloc[row]:\n",
        "        score+=ema21_3\n",
        "      else:\n",
        "        score-=ema21_4\n",
        "\n",
        "      if data[\"STOCH-D\"][row] <= 20:\n",
        "        score+=stoch_1\n",
        "      elif data[\"STOCH-D\"][row] >= 80:\n",
        "        score-=stoch_2\n",
        "\n",
        "      if row > 0 and data[\"STOCH-D\"][row-1] > 65 and data[\"STOCH-D\"][row] < 65:\n",
        "        score-=stoch_3\n",
        "      elif row > 0 and data[\"STOCH-D\"][row-1] < 35 and data[\"STOCH-D\"][row] > 35:\n",
        "        score=+stoch_4\n",
        "\n",
        "      if data[\"MACD\"][row] > data[\"SIGNAL\"][row]:\n",
        "        score+=macd_1\n",
        "      if row > 0 and data[\"MACD\"][row] > data[\"SIGNAL\"][row] and data[\"HISTOGRAM\"][row-1] < 0 and data[\"HISTOGRAM\"][row] > 0:\n",
        "        score+=macd_2\n",
        "      if row > 0 and data[\"MACD\"][row] < data[\"SIGNAL\"][row] and data[\"HISTOGRAM\"][row-1] > 0 and data[\"HISTOGRAM\"][row] < 0:\n",
        "        score-=macd_3\n",
        "      if data[\"MACD\"][row] < data[\"SIGNAL\"][row]:\n",
        "        score-=macd_4\n",
        "\n",
        "      if data['MACD'].tail(7).mean() > 0:\n",
        "        score+=macd_5\n",
        "      else:\n",
        "        score-=macd_6\n",
        "\n",
        "      if data['MACD'].tail(30).mean() > 0:\n",
        "        score+=macd_7\n",
        "      else:\n",
        "        score-=macd_8\n",
        "\n",
        "      if data[\"BB-LOWER\"].iloc[row] > data[\"Close\"].iloc[row]:\n",
        "          score+=bb1\n",
        "      elif data[\"BB-UPPER\"].iloc[row] < data[\"Close\"].iloc[row]:\n",
        "          score-=bb2\n",
        "      if data[\"BB-MID\"].iloc[row] < data[\"Close\"].iloc[row] and data[\"BB-LOWER\"].iloc[row] - data[\"Close\"].iloc[row] < data[\"BB-MID\"].iloc[row] - data[\"Close\"].iloc[row]:\n",
        "          score+=bb3\n",
        "      elif data[\"BB-MID\"].iloc[row] > data[\"Close\"].iloc[row] and data[\"BB-UPPER\"].iloc[row] - data[\"Close\"].iloc[row] < data[\"BB-MID\"].iloc[row] - data[\"Close\"].iloc[row]:\n",
        "          score-=bb4\n",
        "\n",
        "      if (data[\"STDEV\"].max() + data[\"STDEV\"].min()) / 2 > data[\"STDEV\"][row]:\n",
        "        score+=add\n",
        "      else:\n",
        "        score-=add\n",
        "\n",
        "      if data[\"PSAR\"][row] < data[\"Close\"][row]:\n",
        "        score+=add\n",
        "      else:\n",
        "        score-=add\n",
        "\n",
        "      if data[\"WILLIAMS\"][row] < -80:\n",
        "        score+=add\n",
        "      elif data[\"WILLIAMS\"][row] > -20:\n",
        "        score-=add\n",
        "\n",
        "      if data[\"AROON\"][row] > 0:\n",
        "        score-=add\n",
        "      else:\n",
        "        score+=add\n",
        "\n",
        "      if row > 0 and data[\"OBV\"][row-1] < data[\"OBV\"][row] and data[\"Close\"][row] > data[\"Close\"][row-1]:\n",
        "        score+=add\n",
        "      elif row > 0 and data[\"OBV\"][row-1] > data[\"OBV\"][row] and data[\"Close\"][row] < data[\"Close\"][row-1]:\n",
        "        score-=add\n",
        "\n",
        "      if row > 0 and (data['CCI'][row] > -100) & (data['CCI'][row-1] <= -100):\n",
        "        score+=add\n",
        "      elif row > 0 and (data['CCI'][row] < 100) & (data['CCI'][row-1] >= 100):\n",
        "        score-=add\n",
        "\n",
        "      if data[\"ROC\"][row] > 0:\n",
        "        score+=add\n",
        "      elif data[\"ROC\"][row] < 0:\n",
        "        score-=add\n",
        "\n",
        "      if data[\"BULL\"][row] > 0:\n",
        "        score+=add\n",
        "      elif data[\"BEAR\"][row] < 0:\n",
        "        score-=add\n",
        "\n",
        "      if (data['ADX'][row] > 25) and (data['+DI'][row] > data['-DI'][row]):\n",
        "        score+=adx1\n",
        "      if data['ADX'][row] > data['+DI'][row] and data['ADX'][row] > data['-DI'][row]:\n",
        "        score+=adx2\n",
        "      if data['ADX'][row] < data['+DI'][row] and data['ADX'][row] < data['-DI'][row]:\n",
        "        score-=adx3\n",
        "      elif (data['ADX'][row] > 40) and (data['+DI'][row] < data['-DI'][row]):\n",
        "        score-=adx4\n",
        "\n",
        "      scores.append(score)\n",
        "\n",
        "    data[\"SCORE\"] = scores\n",
        "    data[\"SCORE\"] = scaler.fit_transform(data[\"SCORE\"].values.reshape(-1, 1))\n",
        "\n",
        "    tries = []\n",
        "\n",
        "    for buy_threshold in range(40, 80):\n",
        "      for sell_threshold in range(40, 80):\n",
        "        profit_or_loss = []\n",
        "\n",
        "        for stock in [stock]:\n",
        "          stock_df = data[data[\"STOCK\"] == stock]\n",
        "          buy_sell_df = buy_or_sell(stock, stock_df, balance=balance, upper_score=buy_threshold, lower_score=sell_threshold)\n",
        "\n",
        "          if buy_sell_df.empty != True:\n",
        "\n",
        "            if buy_sell_df['B/S'].iloc[-1] == \"BUY\":\n",
        "              add = pd.DataFrame({\"STOCK\": [buy_sell_df[\"STOCK\"].iloc[-1]], \"B/S\": [\"CLOSE\"], \"DATE\": [today], \"PRICE\": [buy_sell_df[\"LAST PRICE\"].iloc[-1]],\n",
        "                                  'STOCK BALANCE': [0], 'TRY BALANCE': [(buy_sell_df[\"STOCK BALANCE\"].iloc[-1]) * buy_sell_df[\"LAST PRICE\"].iloc[-1]], 'LAST PRICE' :[buy_sell_df[\"LAST PRICE\"].iloc[-1]]})\n",
        "\n",
        "              buy_sell_df = pd.concat([buy_sell_df, add])\n",
        "\n",
        "            if buy_sell_df['TRY BALANCE'].empty != True:\n",
        "              profit_or_loss.append(buy_sell_df['TRY BALANCE'].tail(1).item() - balance)\n",
        "\n",
        "        tries.append([buy_threshold, sell_threshold, sum(profit_or_loss)])\n",
        "\n",
        "    tries = pd.DataFrame(tries).sort_values(by=2, ascending=False).reset_index().drop([\"index\"], axis=1)\n",
        "    print(tries.head())\n",
        "    concat_df = pd.DataFrame(np.array([stock, indicators, tries[0][0], tries[1][0], tries[2][0]]).reshape(1,5), columns=[\"STOCK\", \"WEIGHTS\", \"BUY TH\", \"SELL TH\", \"PROFIT\"])\n",
        "    result_df = result_df.append(concat_df, ignore_index=True)\n",
        "\n",
        "result_df"
      ],
      "metadata": {
        "colab": {
          "base_uri": "https://localhost:8080/"
        },
        "id": "00mA1WCwnf9k",
        "outputId": "22dac8dd-7292-48f7-a1b7-bd5f1a98939c"
      },
      "execution_count": null,
      "outputs": [
        {
          "output_type": "stream",
          "name": "stdout",
          "text": [
            "AKBNK.IS\n",
            "0. Deneme\n",
            "    0   1       2\n",
            "0  40  72 4035.84\n",
            "1  51  72 3928.86\n",
            "2  52  72 3928.86\n",
            "3  50  72 3928.86\n",
            "4  41  72 3778.06\n",
            "1. Deneme\n"
          ]
        },
        {
          "output_type": "stream",
          "name": "stderr",
          "text": [
            "<ipython-input-294-66fc1ce873bd>:316: VisibleDeprecationWarning: Creating an ndarray from ragged nested sequences (which is a list-or-tuple of lists-or-tuples-or ndarrays with different lengths or shapes) is deprecated. If you meant to do this, you must specify 'dtype=object' when creating the ndarray.\n",
            "  concat_df = pd.DataFrame(np.array([stock, indicators, tries[0][0], tries[1][0], tries[2][0]]).reshape(1,5), columns=[\"STOCK\", \"WEIGHTS\", \"BUY TH\", \"SELL TH\", \"PROFIT\"])\n"
          ]
        },
        {
          "output_type": "stream",
          "name": "stdout",
          "text": [
            "    0   1       2\n",
            "0  72  74 3889.28\n",
            "1  73  74 3889.28\n",
            "2  73  75 3464.62\n",
            "3  73  76 3464.62\n",
            "4  72  76 3464.62\n",
            "2. Deneme\n"
          ]
        },
        {
          "output_type": "stream",
          "name": "stderr",
          "text": [
            "<ipython-input-294-66fc1ce873bd>:316: VisibleDeprecationWarning: Creating an ndarray from ragged nested sequences (which is a list-or-tuple of lists-or-tuples-or ndarrays with different lengths or shapes) is deprecated. If you meant to do this, you must specify 'dtype=object' when creating the ndarray.\n",
            "  concat_df = pd.DataFrame(np.array([stock, indicators, tries[0][0], tries[1][0], tries[2][0]]).reshape(1,5), columns=[\"STOCK\", \"WEIGHTS\", \"BUY TH\", \"SELL TH\", \"PROFIT\"])\n"
          ]
        },
        {
          "output_type": "stream",
          "name": "stdout",
          "text": [
            "    0   1       2\n",
            "0  40  60 4143.54\n",
            "1  76  78 3876.52\n",
            "2  77  78 3876.52\n",
            "3  79  73 3852.91\n",
            "4  79  74 3852.91\n",
            "3. Deneme\n"
          ]
        },
        {
          "output_type": "stream",
          "name": "stderr",
          "text": [
            "<ipython-input-294-66fc1ce873bd>:316: VisibleDeprecationWarning: Creating an ndarray from ragged nested sequences (which is a list-or-tuple of lists-or-tuples-or ndarrays with different lengths or shapes) is deprecated. If you meant to do this, you must specify 'dtype=object' when creating the ndarray.\n",
            "  concat_df = pd.DataFrame(np.array([stock, indicators, tries[0][0], tries[1][0], tries[2][0]]).reshape(1,5), columns=[\"STOCK\", \"WEIGHTS\", \"BUY TH\", \"SELL TH\", \"PROFIT\"])\n"
          ]
        },
        {
          "output_type": "stream",
          "name": "stdout",
          "text": [
            "    0   1       2\n",
            "0  40  79 4085.32\n",
            "1  40  45 3824.04\n",
            "2  40  46 3824.04\n",
            "3  40  47 3824.04\n",
            "4  40  70 3804.43\n",
            "4. Deneme\n"
          ]
        },
        {
          "output_type": "stream",
          "name": "stderr",
          "text": [
            "<ipython-input-294-66fc1ce873bd>:316: VisibleDeprecationWarning: Creating an ndarray from ragged nested sequences (which is a list-or-tuple of lists-or-tuples-or ndarrays with different lengths or shapes) is deprecated. If you meant to do this, you must specify 'dtype=object' when creating the ndarray.\n",
            "  concat_df = pd.DataFrame(np.array([stock, indicators, tries[0][0], tries[1][0], tries[2][0]]).reshape(1,5), columns=[\"STOCK\", \"WEIGHTS\", \"BUY TH\", \"SELL TH\", \"PROFIT\"])\n"
          ]
        },
        {
          "output_type": "stream",
          "name": "stdout",
          "text": [
            "    0   1       2\n",
            "0  41  72 2988.85\n",
            "1  41  73 2988.85\n",
            "2  74  75 2960.43\n",
            "3  41  75 2904.36\n",
            "4  43  73 2880.34\n",
            "5. Deneme\n"
          ]
        },
        {
          "output_type": "stream",
          "name": "stderr",
          "text": [
            "<ipython-input-294-66fc1ce873bd>:316: VisibleDeprecationWarning: Creating an ndarray from ragged nested sequences (which is a list-or-tuple of lists-or-tuples-or ndarrays with different lengths or shapes) is deprecated. If you meant to do this, you must specify 'dtype=object' when creating the ndarray.\n",
            "  concat_df = pd.DataFrame(np.array([stock, indicators, tries[0][0], tries[1][0], tries[2][0]]).reshape(1,5), columns=[\"STOCK\", \"WEIGHTS\", \"BUY TH\", \"SELL TH\", \"PROFIT\"])\n"
          ]
        },
        {
          "output_type": "stream",
          "name": "stdout",
          "text": [
            "    0   1       2\n",
            "0  74  76 3033.41\n",
            "1  74  77 3033.41\n",
            "2  73  77 3033.41\n",
            "3  73  76 3033.41\n",
            "4  74  75 2774.59\n",
            "6. Deneme\n"
          ]
        },
        {
          "output_type": "stream",
          "name": "stderr",
          "text": [
            "<ipython-input-294-66fc1ce873bd>:316: VisibleDeprecationWarning: Creating an ndarray from ragged nested sequences (which is a list-or-tuple of lists-or-tuples-or ndarrays with different lengths or shapes) is deprecated. If you meant to do this, you must specify 'dtype=object' when creating the ndarray.\n",
            "  concat_df = pd.DataFrame(np.array([stock, indicators, tries[0][0], tries[1][0], tries[2][0]]).reshape(1,5), columns=[\"STOCK\", \"WEIGHTS\", \"BUY TH\", \"SELL TH\", \"PROFIT\"])\n"
          ]
        },
        {
          "output_type": "stream",
          "name": "stdout",
          "text": [
            "    0   1       2\n",
            "0  60  71 3246.93\n",
            "1  60  70 3246.93\n",
            "2  59  70 3246.93\n",
            "3  59  71 3246.93\n",
            "4  63  71 3122.33\n",
            "7. Deneme\n"
          ]
        },
        {
          "output_type": "stream",
          "name": "stderr",
          "text": [
            "<ipython-input-294-66fc1ce873bd>:316: VisibleDeprecationWarning: Creating an ndarray from ragged nested sequences (which is a list-or-tuple of lists-or-tuples-or ndarrays with different lengths or shapes) is deprecated. If you meant to do this, you must specify 'dtype=object' when creating the ndarray.\n",
            "  concat_df = pd.DataFrame(np.array([stock, indicators, tries[0][0], tries[1][0], tries[2][0]]).reshape(1,5), columns=[\"STOCK\", \"WEIGHTS\", \"BUY TH\", \"SELL TH\", \"PROFIT\"])\n"
          ]
        },
        {
          "output_type": "stream",
          "name": "stdout",
          "text": [
            "    0   1       2\n",
            "0  40  70 4027.11\n",
            "1  40  69 4027.11\n",
            "2  41  69 3707.02\n",
            "3  41  70 3707.02\n",
            "4  42  70 3707.02\n",
            "8. Deneme\n"
          ]
        },
        {
          "output_type": "stream",
          "name": "stderr",
          "text": [
            "<ipython-input-294-66fc1ce873bd>:316: VisibleDeprecationWarning: Creating an ndarray from ragged nested sequences (which is a list-or-tuple of lists-or-tuples-or ndarrays with different lengths or shapes) is deprecated. If you meant to do this, you must specify 'dtype=object' when creating the ndarray.\n",
            "  concat_df = pd.DataFrame(np.array([stock, indicators, tries[0][0], tries[1][0], tries[2][0]]).reshape(1,5), columns=[\"STOCK\", \"WEIGHTS\", \"BUY TH\", \"SELL TH\", \"PROFIT\"])\n"
          ]
        },
        {
          "output_type": "stream",
          "name": "stdout",
          "text": [
            "    0   1       2\n",
            "0  44  79 4501.88\n",
            "1  43  79 4501.88\n",
            "2  74  75 3956.63\n",
            "3  73  75 3956.63\n",
            "4  43  78 3718.21\n",
            "9. Deneme\n"
          ]
        },
        {
          "output_type": "stream",
          "name": "stderr",
          "text": [
            "<ipython-input-294-66fc1ce873bd>:316: VisibleDeprecationWarning: Creating an ndarray from ragged nested sequences (which is a list-or-tuple of lists-or-tuples-or ndarrays with different lengths or shapes) is deprecated. If you meant to do this, you must specify 'dtype=object' when creating the ndarray.\n",
            "  concat_df = pd.DataFrame(np.array([stock, indicators, tries[0][0], tries[1][0], tries[2][0]]).reshape(1,5), columns=[\"STOCK\", \"WEIGHTS\", \"BUY TH\", \"SELL TH\", \"PROFIT\"])\n"
          ]
        },
        {
          "output_type": "stream",
          "name": "stdout",
          "text": [
            "    0   1       2\n",
            "0  48  66 3477.09\n",
            "1  48  65 3477.09\n",
            "2  48  64 3308.10\n",
            "3  50  66 3218.88\n",
            "4  49  66 3218.88\n",
            "AKSEN.IS\n"
          ]
        },
        {
          "output_type": "stream",
          "name": "stderr",
          "text": [
            "<ipython-input-294-66fc1ce873bd>:316: VisibleDeprecationWarning: Creating an ndarray from ragged nested sequences (which is a list-or-tuple of lists-or-tuples-or ndarrays with different lengths or shapes) is deprecated. If you meant to do this, you must specify 'dtype=object' when creating the ndarray.\n",
            "  concat_df = pd.DataFrame(np.array([stock, indicators, tries[0][0], tries[1][0], tries[2][0]]).reshape(1,5), columns=[\"STOCK\", \"WEIGHTS\", \"BUY TH\", \"SELL TH\", \"PROFIT\"])\n"
          ]
        },
        {
          "output_type": "stream",
          "name": "stdout",
          "text": [
            "0. Deneme\n",
            "    0   1       2\n",
            "0  55  57 5154.70\n",
            "1  54  58 5154.70\n",
            "2  54  57 5154.70\n",
            "3  55  58 5154.70\n",
            "4  56  57 5154.70\n",
            "1. Deneme\n"
          ]
        },
        {
          "output_type": "stream",
          "name": "stderr",
          "text": [
            "<ipython-input-294-66fc1ce873bd>:316: VisibleDeprecationWarning: Creating an ndarray from ragged nested sequences (which is a list-or-tuple of lists-or-tuples-or ndarrays with different lengths or shapes) is deprecated. If you meant to do this, you must specify 'dtype=object' when creating the ndarray.\n",
            "  concat_df = pd.DataFrame(np.array([stock, indicators, tries[0][0], tries[1][0], tries[2][0]]).reshape(1,5), columns=[\"STOCK\", \"WEIGHTS\", \"BUY TH\", \"SELL TH\", \"PROFIT\"])\n"
          ]
        },
        {
          "output_type": "stream",
          "name": "stdout",
          "text": [
            "    0   1       2\n",
            "0  55  59 5976.88\n",
            "1  57  59 5976.88\n",
            "2  56  59 5976.88\n",
            "3  54  59 5976.88\n",
            "4  54  58 5745.99\n",
            "2. Deneme\n"
          ]
        },
        {
          "output_type": "stream",
          "name": "stderr",
          "text": [
            "<ipython-input-294-66fc1ce873bd>:316: VisibleDeprecationWarning: Creating an ndarray from ragged nested sequences (which is a list-or-tuple of lists-or-tuples-or ndarrays with different lengths or shapes) is deprecated. If you meant to do this, you must specify 'dtype=object' when creating the ndarray.\n",
            "  concat_df = pd.DataFrame(np.array([stock, indicators, tries[0][0], tries[1][0], tries[2][0]]).reshape(1,5), columns=[\"STOCK\", \"WEIGHTS\", \"BUY TH\", \"SELL TH\", \"PROFIT\"])\n"
          ]
        },
        {
          "output_type": "stream",
          "name": "stdout",
          "text": [
            "    0   1       2\n",
            "0  55  64 5295.33\n",
            "1  55  63 5295.33\n",
            "2  55  62 5295.33\n",
            "3  55  60 5030.40\n",
            "4  55  61 5030.40\n",
            "3. Deneme\n"
          ]
        },
        {
          "output_type": "stream",
          "name": "stderr",
          "text": [
            "<ipython-input-294-66fc1ce873bd>:316: VisibleDeprecationWarning: Creating an ndarray from ragged nested sequences (which is a list-or-tuple of lists-or-tuples-or ndarrays with different lengths or shapes) is deprecated. If you meant to do this, you must specify 'dtype=object' when creating the ndarray.\n",
            "  concat_df = pd.DataFrame(np.array([stock, indicators, tries[0][0], tries[1][0], tries[2][0]]).reshape(1,5), columns=[\"STOCK\", \"WEIGHTS\", \"BUY TH\", \"SELL TH\", \"PROFIT\"])\n"
          ]
        },
        {
          "output_type": "stream",
          "name": "stdout",
          "text": [
            "    0   1       2\n",
            "0  47  52 6590.60\n",
            "1  48  52 6590.60\n",
            "2  48  53 6590.60\n",
            "3  47  53 6590.60\n",
            "4  52  55 6325.45\n",
            "4. Deneme\n"
          ]
        },
        {
          "output_type": "stream",
          "name": "stderr",
          "text": [
            "<ipython-input-294-66fc1ce873bd>:316: VisibleDeprecationWarning: Creating an ndarray from ragged nested sequences (which is a list-or-tuple of lists-or-tuples-or ndarrays with different lengths or shapes) is deprecated. If you meant to do this, you must specify 'dtype=object' when creating the ndarray.\n",
            "  concat_df = pd.DataFrame(np.array([stock, indicators, tries[0][0], tries[1][0], tries[2][0]]).reshape(1,5), columns=[\"STOCK\", \"WEIGHTS\", \"BUY TH\", \"SELL TH\", \"PROFIT\"])\n"
          ]
        },
        {
          "output_type": "stream",
          "name": "stdout",
          "text": [
            "    0   1       2\n",
            "0  44  53 5493.75\n",
            "1  44  51 5306.95\n",
            "2  44  52 5306.95\n",
            "3  45  53 5275.00\n",
            "4  47  53 5275.00\n",
            "5. Deneme\n"
          ]
        },
        {
          "output_type": "stream",
          "name": "stderr",
          "text": [
            "<ipython-input-294-66fc1ce873bd>:316: VisibleDeprecationWarning: Creating an ndarray from ragged nested sequences (which is a list-or-tuple of lists-or-tuples-or ndarrays with different lengths or shapes) is deprecated. If you meant to do this, you must specify 'dtype=object' when creating the ndarray.\n",
            "  concat_df = pd.DataFrame(np.array([stock, indicators, tries[0][0], tries[1][0], tries[2][0]]).reshape(1,5), columns=[\"STOCK\", \"WEIGHTS\", \"BUY TH\", \"SELL TH\", \"PROFIT\"])\n"
          ]
        },
        {
          "output_type": "stream",
          "name": "stdout",
          "text": [
            "    0   1       2\n",
            "0  52  64 5618.44\n",
            "1  45  51 5531.43\n",
            "2  45  50 5531.43\n",
            "3  45  49 5531.43\n",
            "4  52  59 5457.22\n",
            "6. Deneme\n"
          ]
        },
        {
          "output_type": "stream",
          "name": "stderr",
          "text": [
            "<ipython-input-294-66fc1ce873bd>:316: VisibleDeprecationWarning: Creating an ndarray from ragged nested sequences (which is a list-or-tuple of lists-or-tuples-or ndarrays with different lengths or shapes) is deprecated. If you meant to do this, you must specify 'dtype=object' when creating the ndarray.\n",
            "  concat_df = pd.DataFrame(np.array([stock, indicators, tries[0][0], tries[1][0], tries[2][0]]).reshape(1,5), columns=[\"STOCK\", \"WEIGHTS\", \"BUY TH\", \"SELL TH\", \"PROFIT\"])\n"
          ]
        },
        {
          "output_type": "stream",
          "name": "stdout",
          "text": [
            "    0   1       2\n",
            "0  48  52 5415.58\n",
            "1  49  52 5415.58\n",
            "2  49  51 5415.58\n",
            "3  48  51 5415.58\n",
            "4  47  51 5284.50\n",
            "7. Deneme\n"
          ]
        },
        {
          "output_type": "stream",
          "name": "stderr",
          "text": [
            "<ipython-input-294-66fc1ce873bd>:316: VisibleDeprecationWarning: Creating an ndarray from ragged nested sequences (which is a list-or-tuple of lists-or-tuples-or ndarrays with different lengths or shapes) is deprecated. If you meant to do this, you must specify 'dtype=object' when creating the ndarray.\n",
            "  concat_df = pd.DataFrame(np.array([stock, indicators, tries[0][0], tries[1][0], tries[2][0]]).reshape(1,5), columns=[\"STOCK\", \"WEIGHTS\", \"BUY TH\", \"SELL TH\", \"PROFIT\"])\n"
          ]
        },
        {
          "output_type": "stream",
          "name": "stdout",
          "text": [
            "    0   1       2\n",
            "0  42  50 6245.54\n",
            "1  43  50 6245.54\n",
            "2  43  48 6047.48\n",
            "3  43  49 6047.48\n",
            "4  42  48 6047.48\n",
            "8. Deneme\n"
          ]
        },
        {
          "output_type": "stream",
          "name": "stderr",
          "text": [
            "<ipython-input-294-66fc1ce873bd>:316: VisibleDeprecationWarning: Creating an ndarray from ragged nested sequences (which is a list-or-tuple of lists-or-tuples-or ndarrays with different lengths or shapes) is deprecated. If you meant to do this, you must specify 'dtype=object' when creating the ndarray.\n",
            "  concat_df = pd.DataFrame(np.array([stock, indicators, tries[0][0], tries[1][0], tries[2][0]]).reshape(1,5), columns=[\"STOCK\", \"WEIGHTS\", \"BUY TH\", \"SELL TH\", \"PROFIT\"])\n"
          ]
        },
        {
          "output_type": "stream",
          "name": "stdout",
          "text": [
            "    0   1       2\n",
            "0  48  56 5936.40\n",
            "1  44  56 5936.40\n",
            "2  45  56 5936.40\n",
            "3  46  56 5936.40\n",
            "4  47  56 5936.40\n",
            "9. Deneme\n"
          ]
        },
        {
          "output_type": "stream",
          "name": "stderr",
          "text": [
            "<ipython-input-294-66fc1ce873bd>:316: VisibleDeprecationWarning: Creating an ndarray from ragged nested sequences (which is a list-or-tuple of lists-or-tuples-or ndarrays with different lengths or shapes) is deprecated. If you meant to do this, you must specify 'dtype=object' when creating the ndarray.\n",
            "  concat_df = pd.DataFrame(np.array([stock, indicators, tries[0][0], tries[1][0], tries[2][0]]).reshape(1,5), columns=[\"STOCK\", \"WEIGHTS\", \"BUY TH\", \"SELL TH\", \"PROFIT\"])\n"
          ]
        },
        {
          "output_type": "stream",
          "name": "stdout",
          "text": [
            "    0   1       2\n",
            "0  54  63 5771.06\n",
            "1  40  53 5740.26\n",
            "2  40  52 5740.26\n",
            "3  40  51 5697.16\n",
            "4  40  50 5697.16\n",
            "ALARK.IS\n"
          ]
        },
        {
          "output_type": "stream",
          "name": "stderr",
          "text": [
            "<ipython-input-294-66fc1ce873bd>:316: VisibleDeprecationWarning: Creating an ndarray from ragged nested sequences (which is a list-or-tuple of lists-or-tuples-or ndarrays with different lengths or shapes) is deprecated. If you meant to do this, you must specify 'dtype=object' when creating the ndarray.\n",
            "  concat_df = pd.DataFrame(np.array([stock, indicators, tries[0][0], tries[1][0], tries[2][0]]).reshape(1,5), columns=[\"STOCK\", \"WEIGHTS\", \"BUY TH\", \"SELL TH\", \"PROFIT\"])\n"
          ]
        },
        {
          "output_type": "stream",
          "name": "stdout",
          "text": [
            "0. Deneme\n",
            "    0   1       2\n",
            "0  41  45 5670.53\n",
            "1  42  45 5670.53\n",
            "2  42  46 5670.53\n",
            "3  43  45 5670.53\n",
            "4  43  46 5670.53\n",
            "1. Deneme\n"
          ]
        },
        {
          "output_type": "stream",
          "name": "stderr",
          "text": [
            "<ipython-input-294-66fc1ce873bd>:316: VisibleDeprecationWarning: Creating an ndarray from ragged nested sequences (which is a list-or-tuple of lists-or-tuples-or ndarrays with different lengths or shapes) is deprecated. If you meant to do this, you must specify 'dtype=object' when creating the ndarray.\n",
            "  concat_df = pd.DataFrame(np.array([stock, indicators, tries[0][0], tries[1][0], tries[2][0]]).reshape(1,5), columns=[\"STOCK\", \"WEIGHTS\", \"BUY TH\", \"SELL TH\", \"PROFIT\"])\n"
          ]
        },
        {
          "output_type": "stream",
          "name": "stdout",
          "text": [
            "    0   1       2\n",
            "0  46  49 5462.73\n",
            "1  47  49 5374.27\n",
            "2  55  41 5297.42\n",
            "3  54  40 5297.42\n",
            "4  57  41 5297.42\n",
            "2. Deneme\n"
          ]
        },
        {
          "output_type": "stream",
          "name": "stderr",
          "text": [
            "<ipython-input-294-66fc1ce873bd>:316: VisibleDeprecationWarning: Creating an ndarray from ragged nested sequences (which is a list-or-tuple of lists-or-tuples-or ndarrays with different lengths or shapes) is deprecated. If you meant to do this, you must specify 'dtype=object' when creating the ndarray.\n",
            "  concat_df = pd.DataFrame(np.array([stock, indicators, tries[0][0], tries[1][0], tries[2][0]]).reshape(1,5), columns=[\"STOCK\", \"WEIGHTS\", \"BUY TH\", \"SELL TH\", \"PROFIT\"])\n"
          ]
        },
        {
          "output_type": "stream",
          "name": "stdout",
          "text": [
            "    0   1       2\n",
            "0  72  40 5431.26\n",
            "1  72  41 5431.26\n",
            "2  71  41 5431.26\n",
            "3  71  40 5431.26\n",
            "4  72  42 5345.51\n",
            "3. Deneme\n"
          ]
        },
        {
          "output_type": "stream",
          "name": "stderr",
          "text": [
            "<ipython-input-294-66fc1ce873bd>:316: VisibleDeprecationWarning: Creating an ndarray from ragged nested sequences (which is a list-or-tuple of lists-or-tuples-or ndarrays with different lengths or shapes) is deprecated. If you meant to do this, you must specify 'dtype=object' when creating the ndarray.\n",
            "  concat_df = pd.DataFrame(np.array([stock, indicators, tries[0][0], tries[1][0], tries[2][0]]).reshape(1,5), columns=[\"STOCK\", \"WEIGHTS\", \"BUY TH\", \"SELL TH\", \"PROFIT\"])\n"
          ]
        },
        {
          "output_type": "stream",
          "name": "stdout",
          "text": [
            "    0   1       2\n",
            "0  60  41 6157.64\n",
            "1  59  41 6157.64\n",
            "2  60  43 6146.01\n",
            "3  60  45 6146.01\n",
            "4  59  42 6146.01\n",
            "4. Deneme\n"
          ]
        },
        {
          "output_type": "stream",
          "name": "stderr",
          "text": [
            "<ipython-input-294-66fc1ce873bd>:316: VisibleDeprecationWarning: Creating an ndarray from ragged nested sequences (which is a list-or-tuple of lists-or-tuples-or ndarrays with different lengths or shapes) is deprecated. If you meant to do this, you must specify 'dtype=object' when creating the ndarray.\n",
            "  concat_df = pd.DataFrame(np.array([stock, indicators, tries[0][0], tries[1][0], tries[2][0]]).reshape(1,5), columns=[\"STOCK\", \"WEIGHTS\", \"BUY TH\", \"SELL TH\", \"PROFIT\"])\n"
          ]
        },
        {
          "output_type": "stream",
          "name": "stdout",
          "text": [
            "    0   1       2\n",
            "0  78  42 8960.95\n",
            "1  79  42 8960.95\n",
            "2  79  41 8960.95\n",
            "3  79  40 8960.95\n",
            "4  77  42 8960.95\n",
            "5. Deneme\n"
          ]
        },
        {
          "output_type": "stream",
          "name": "stderr",
          "text": [
            "<ipython-input-294-66fc1ce873bd>:316: VisibleDeprecationWarning: Creating an ndarray from ragged nested sequences (which is a list-or-tuple of lists-or-tuples-or ndarrays with different lengths or shapes) is deprecated. If you meant to do this, you must specify 'dtype=object' when creating the ndarray.\n",
            "  concat_df = pd.DataFrame(np.array([stock, indicators, tries[0][0], tries[1][0], tries[2][0]]).reshape(1,5), columns=[\"STOCK\", \"WEIGHTS\", \"BUY TH\", \"SELL TH\", \"PROFIT\"])\n"
          ]
        },
        {
          "output_type": "stream",
          "name": "stdout",
          "text": [
            "    0   1       2\n",
            "0  76  40 6722.50\n",
            "1  76  41 6722.50\n",
            "2  77  40 6600.73\n",
            "3  78  40 6600.73\n",
            "4  78  41 6600.73\n",
            "6. Deneme\n"
          ]
        },
        {
          "output_type": "stream",
          "name": "stderr",
          "text": [
            "<ipython-input-294-66fc1ce873bd>:316: VisibleDeprecationWarning: Creating an ndarray from ragged nested sequences (which is a list-or-tuple of lists-or-tuples-or ndarrays with different lengths or shapes) is deprecated. If you meant to do this, you must specify 'dtype=object' when creating the ndarray.\n",
            "  concat_df = pd.DataFrame(np.array([stock, indicators, tries[0][0], tries[1][0], tries[2][0]]).reshape(1,5), columns=[\"STOCK\", \"WEIGHTS\", \"BUY TH\", \"SELL TH\", \"PROFIT\"])\n"
          ]
        },
        {
          "output_type": "stream",
          "name": "stdout",
          "text": [
            "    0   1       2\n",
            "0  77  40 6034.87\n",
            "1  77  45 5889.77\n",
            "2  77  46 5889.77\n",
            "3  79  40 5851.48\n",
            "4  78  40 5851.48\n",
            "7. Deneme\n"
          ]
        },
        {
          "output_type": "stream",
          "name": "stderr",
          "text": [
            "<ipython-input-294-66fc1ce873bd>:316: VisibleDeprecationWarning: Creating an ndarray from ragged nested sequences (which is a list-or-tuple of lists-or-tuples-or ndarrays with different lengths or shapes) is deprecated. If you meant to do this, you must specify 'dtype=object' when creating the ndarray.\n",
            "  concat_df = pd.DataFrame(np.array([stock, indicators, tries[0][0], tries[1][0], tries[2][0]]).reshape(1,5), columns=[\"STOCK\", \"WEIGHTS\", \"BUY TH\", \"SELL TH\", \"PROFIT\"])\n"
          ]
        },
        {
          "output_type": "stream",
          "name": "stdout",
          "text": [
            "    0   1       2\n",
            "0  75  40 5962.23\n",
            "1  75  41 5962.23\n",
            "2  77  40 5474.40\n",
            "3  77  41 5474.40\n",
            "4  76  40 5474.40\n",
            "8. Deneme\n"
          ]
        },
        {
          "output_type": "stream",
          "name": "stderr",
          "text": [
            "<ipython-input-294-66fc1ce873bd>:316: VisibleDeprecationWarning: Creating an ndarray from ragged nested sequences (which is a list-or-tuple of lists-or-tuples-or ndarrays with different lengths or shapes) is deprecated. If you meant to do this, you must specify 'dtype=object' when creating the ndarray.\n",
            "  concat_df = pd.DataFrame(np.array([stock, indicators, tries[0][0], tries[1][0], tries[2][0]]).reshape(1,5), columns=[\"STOCK\", \"WEIGHTS\", \"BUY TH\", \"SELL TH\", \"PROFIT\"])\n"
          ]
        },
        {
          "output_type": "stream",
          "name": "stdout",
          "text": [
            "    0   1       2\n",
            "0  55  67 4877.19\n",
            "1  56  67 4877.19\n",
            "2  55  65 4394.13\n",
            "3  55  66 4394.13\n",
            "4  56  65 4394.13\n",
            "9. Deneme\n"
          ]
        },
        {
          "output_type": "stream",
          "name": "stderr",
          "text": [
            "<ipython-input-294-66fc1ce873bd>:316: VisibleDeprecationWarning: Creating an ndarray from ragged nested sequences (which is a list-or-tuple of lists-or-tuples-or ndarrays with different lengths or shapes) is deprecated. If you meant to do this, you must specify 'dtype=object' when creating the ndarray.\n",
            "  concat_df = pd.DataFrame(np.array([stock, indicators, tries[0][0], tries[1][0], tries[2][0]]).reshape(1,5), columns=[\"STOCK\", \"WEIGHTS\", \"BUY TH\", \"SELL TH\", \"PROFIT\"])\n"
          ]
        },
        {
          "output_type": "stream",
          "name": "stdout",
          "text": [
            "    0   1       2\n",
            "0  54  62 6109.91\n",
            "1  54  61 6109.91\n",
            "2  79  45 5726.06\n",
            "3  79  44 5726.06\n",
            "4  46  44 5580.73\n",
            "ARCLK.IS\n"
          ]
        },
        {
          "output_type": "stream",
          "name": "stderr",
          "text": [
            "<ipython-input-294-66fc1ce873bd>:316: VisibleDeprecationWarning: Creating an ndarray from ragged nested sequences (which is a list-or-tuple of lists-or-tuples-or ndarrays with different lengths or shapes) is deprecated. If you meant to do this, you must specify 'dtype=object' when creating the ndarray.\n",
            "  concat_df = pd.DataFrame(np.array([stock, indicators, tries[0][0], tries[1][0], tries[2][0]]).reshape(1,5), columns=[\"STOCK\", \"WEIGHTS\", \"BUY TH\", \"SELL TH\", \"PROFIT\"])\n"
          ]
        },
        {
          "output_type": "stream",
          "name": "stdout",
          "text": [
            "0. Deneme\n",
            "    0   1       2\n",
            "0  54  44 3233.77\n",
            "1  52  43 3233.77\n",
            "2  52  44 3233.77\n",
            "3  55  43 3233.77\n",
            "4  55  44 3233.77\n",
            "1. Deneme\n"
          ]
        },
        {
          "output_type": "stream",
          "name": "stderr",
          "text": [
            "<ipython-input-294-66fc1ce873bd>:316: VisibleDeprecationWarning: Creating an ndarray from ragged nested sequences (which is a list-or-tuple of lists-or-tuples-or ndarrays with different lengths or shapes) is deprecated. If you meant to do this, you must specify 'dtype=object' when creating the ndarray.\n",
            "  concat_df = pd.DataFrame(np.array([stock, indicators, tries[0][0], tries[1][0], tries[2][0]]).reshape(1,5), columns=[\"STOCK\", \"WEIGHTS\", \"BUY TH\", \"SELL TH\", \"PROFIT\"])\n"
          ]
        },
        {
          "output_type": "stream",
          "name": "stdout",
          "text": [
            "    0   1       2\n",
            "0  62  45 3002.36\n",
            "1  62  47 3002.36\n",
            "2  62  46 3002.36\n",
            "3  61  45 3002.36\n",
            "4  61  46 3002.36\n",
            "2. Deneme\n"
          ]
        },
        {
          "output_type": "stream",
          "name": "stderr",
          "text": [
            "<ipython-input-294-66fc1ce873bd>:316: VisibleDeprecationWarning: Creating an ndarray from ragged nested sequences (which is a list-or-tuple of lists-or-tuples-or ndarrays with different lengths or shapes) is deprecated. If you meant to do this, you must specify 'dtype=object' when creating the ndarray.\n",
            "  concat_df = pd.DataFrame(np.array([stock, indicators, tries[0][0], tries[1][0], tries[2][0]]).reshape(1,5), columns=[\"STOCK\", \"WEIGHTS\", \"BUY TH\", \"SELL TH\", \"PROFIT\"])\n"
          ]
        },
        {
          "output_type": "stream",
          "name": "stdout",
          "text": [
            "    0   1       2\n",
            "0  63  40 3063.77\n",
            "1  64  40 3063.77\n",
            "2  68  40 2993.75\n",
            "3  65  40 2993.75\n",
            "4  67  40 2993.75\n",
            "3. Deneme\n"
          ]
        },
        {
          "output_type": "stream",
          "name": "stderr",
          "text": [
            "<ipython-input-294-66fc1ce873bd>:316: VisibleDeprecationWarning: Creating an ndarray from ragged nested sequences (which is a list-or-tuple of lists-or-tuples-or ndarrays with different lengths or shapes) is deprecated. If you meant to do this, you must specify 'dtype=object' when creating the ndarray.\n",
            "  concat_df = pd.DataFrame(np.array([stock, indicators, tries[0][0], tries[1][0], tries[2][0]]).reshape(1,5), columns=[\"STOCK\", \"WEIGHTS\", \"BUY TH\", \"SELL TH\", \"PROFIT\"])\n"
          ]
        },
        {
          "output_type": "stream",
          "name": "stdout",
          "text": [
            "    0   1       2\n",
            "0  62  42 2715.37\n",
            "1  60  42 2715.37\n",
            "2  60  43 2715.37\n",
            "3  62  43 2715.37\n",
            "4  61  42 2715.37\n",
            "4. Deneme\n"
          ]
        },
        {
          "output_type": "stream",
          "name": "stderr",
          "text": [
            "<ipython-input-294-66fc1ce873bd>:316: VisibleDeprecationWarning: Creating an ndarray from ragged nested sequences (which is a list-or-tuple of lists-or-tuples-or ndarrays with different lengths or shapes) is deprecated. If you meant to do this, you must specify 'dtype=object' when creating the ndarray.\n",
            "  concat_df = pd.DataFrame(np.array([stock, indicators, tries[0][0], tries[1][0], tries[2][0]]).reshape(1,5), columns=[\"STOCK\", \"WEIGHTS\", \"BUY TH\", \"SELL TH\", \"PROFIT\"])\n"
          ]
        },
        {
          "output_type": "stream",
          "name": "stdout",
          "text": [
            "    0   1       2\n",
            "0  52  40 3533.70\n",
            "1  52  41 3502.08\n",
            "2  52  42 3502.08\n",
            "3  52  43 3502.08\n",
            "4  52  44 3502.08\n",
            "5. Deneme\n"
          ]
        },
        {
          "output_type": "stream",
          "name": "stderr",
          "text": [
            "<ipython-input-294-66fc1ce873bd>:316: VisibleDeprecationWarning: Creating an ndarray from ragged nested sequences (which is a list-or-tuple of lists-or-tuples-or ndarrays with different lengths or shapes) is deprecated. If you meant to do this, you must specify 'dtype=object' when creating the ndarray.\n",
            "  concat_df = pd.DataFrame(np.array([stock, indicators, tries[0][0], tries[1][0], tries[2][0]]).reshape(1,5), columns=[\"STOCK\", \"WEIGHTS\", \"BUY TH\", \"SELL TH\", \"PROFIT\"])\n"
          ]
        },
        {
          "output_type": "stream",
          "name": "stdout",
          "text": [
            "    0   1       2\n",
            "0  64  47 2740.35\n",
            "1  65  48 2740.35\n",
            "2  64  48 2740.35\n",
            "3  65  47 2740.35\n",
            "4  64  45 2678.47\n",
            "6. Deneme\n"
          ]
        },
        {
          "output_type": "stream",
          "name": "stderr",
          "text": [
            "<ipython-input-294-66fc1ce873bd>:316: VisibleDeprecationWarning: Creating an ndarray from ragged nested sequences (which is a list-or-tuple of lists-or-tuples-or ndarrays with different lengths or shapes) is deprecated. If you meant to do this, you must specify 'dtype=object' when creating the ndarray.\n",
            "  concat_df = pd.DataFrame(np.array([stock, indicators, tries[0][0], tries[1][0], tries[2][0]]).reshape(1,5), columns=[\"STOCK\", \"WEIGHTS\", \"BUY TH\", \"SELL TH\", \"PROFIT\"])\n"
          ]
        },
        {
          "output_type": "stream",
          "name": "stdout",
          "text": [
            "    0   1       2\n",
            "0  42  49 3405.37\n",
            "1  42  50 3405.37\n",
            "2  41  50 3405.37\n",
            "3  41  49 3405.37\n",
            "4  44  49 3330.62\n",
            "7. Deneme\n"
          ]
        },
        {
          "output_type": "stream",
          "name": "stderr",
          "text": [
            "<ipython-input-294-66fc1ce873bd>:316: VisibleDeprecationWarning: Creating an ndarray from ragged nested sequences (which is a list-or-tuple of lists-or-tuples-or ndarrays with different lengths or shapes) is deprecated. If you meant to do this, you must specify 'dtype=object' when creating the ndarray.\n",
            "  concat_df = pd.DataFrame(np.array([stock, indicators, tries[0][0], tries[1][0], tries[2][0]]).reshape(1,5), columns=[\"STOCK\", \"WEIGHTS\", \"BUY TH\", \"SELL TH\", \"PROFIT\"])\n"
          ]
        },
        {
          "output_type": "stream",
          "name": "stdout",
          "text": [
            "    0   1       2\n",
            "0  52  59 3104.77\n",
            "1  53  59 3104.77\n",
            "2  53  55 3000.59\n",
            "3  52  56 3000.59\n",
            "4  52  58 3000.59\n",
            "8. Deneme\n"
          ]
        },
        {
          "output_type": "stream",
          "name": "stderr",
          "text": [
            "<ipython-input-294-66fc1ce873bd>:316: VisibleDeprecationWarning: Creating an ndarray from ragged nested sequences (which is a list-or-tuple of lists-or-tuples-or ndarrays with different lengths or shapes) is deprecated. If you meant to do this, you must specify 'dtype=object' when creating the ndarray.\n",
            "  concat_df = pd.DataFrame(np.array([stock, indicators, tries[0][0], tries[1][0], tries[2][0]]).reshape(1,5), columns=[\"STOCK\", \"WEIGHTS\", \"BUY TH\", \"SELL TH\", \"PROFIT\"])\n"
          ]
        },
        {
          "output_type": "stream",
          "name": "stdout",
          "text": [
            "    0   1       2\n",
            "0  74  43 3160.01\n",
            "1  63  43 3160.01\n",
            "2  68  42 3160.01\n",
            "3  69  42 3160.01\n",
            "4  69  43 3160.01\n",
            "9. Deneme\n"
          ]
        },
        {
          "output_type": "stream",
          "name": "stderr",
          "text": [
            "<ipython-input-294-66fc1ce873bd>:316: VisibleDeprecationWarning: Creating an ndarray from ragged nested sequences (which is a list-or-tuple of lists-or-tuples-or ndarrays with different lengths or shapes) is deprecated. If you meant to do this, you must specify 'dtype=object' when creating the ndarray.\n",
            "  concat_df = pd.DataFrame(np.array([stock, indicators, tries[0][0], tries[1][0], tries[2][0]]).reshape(1,5), columns=[\"STOCK\", \"WEIGHTS\", \"BUY TH\", \"SELL TH\", \"PROFIT\"])\n"
          ]
        },
        {
          "output_type": "stream",
          "name": "stdout",
          "text": [
            "    0   1       2\n",
            "0  64  42 3397.07\n",
            "1  65  42 3397.07\n",
            "2  66  42 3397.07\n",
            "3  65  41 3397.07\n",
            "4  64  41 3397.07\n",
            "ASELS.IS\n"
          ]
        },
        {
          "output_type": "stream",
          "name": "stderr",
          "text": [
            "<ipython-input-294-66fc1ce873bd>:316: VisibleDeprecationWarning: Creating an ndarray from ragged nested sequences (which is a list-or-tuple of lists-or-tuples-or ndarrays with different lengths or shapes) is deprecated. If you meant to do this, you must specify 'dtype=object' when creating the ndarray.\n",
            "  concat_df = pd.DataFrame(np.array([stock, indicators, tries[0][0], tries[1][0], tries[2][0]]).reshape(1,5), columns=[\"STOCK\", \"WEIGHTS\", \"BUY TH\", \"SELL TH\", \"PROFIT\"])\n"
          ]
        },
        {
          "output_type": "stream",
          "name": "stdout",
          "text": [
            "0. Deneme\n",
            "    0   1       2\n",
            "0  67  71 2802.72\n",
            "1  67  70 2802.72\n",
            "2  68  70 2802.72\n",
            "3  68  71 2802.72\n",
            "4  60  70 2534.52\n",
            "1. Deneme\n"
          ]
        },
        {
          "output_type": "stream",
          "name": "stderr",
          "text": [
            "<ipython-input-294-66fc1ce873bd>:316: VisibleDeprecationWarning: Creating an ndarray from ragged nested sequences (which is a list-or-tuple of lists-or-tuples-or ndarrays with different lengths or shapes) is deprecated. If you meant to do this, you must specify 'dtype=object' when creating the ndarray.\n",
            "  concat_df = pd.DataFrame(np.array([stock, indicators, tries[0][0], tries[1][0], tries[2][0]]).reshape(1,5), columns=[\"STOCK\", \"WEIGHTS\", \"BUY TH\", \"SELL TH\", \"PROFIT\"])\n"
          ]
        },
        {
          "output_type": "stream",
          "name": "stdout",
          "text": [
            "    0   1       2\n",
            "0  70  71 2061.56\n",
            "1  70  72 2061.56\n",
            "2  73  71 2006.89\n",
            "3  73  72 2006.89\n",
            "4  57  59 1943.90\n",
            "2. Deneme\n"
          ]
        },
        {
          "output_type": "stream",
          "name": "stderr",
          "text": [
            "<ipython-input-294-66fc1ce873bd>:316: VisibleDeprecationWarning: Creating an ndarray from ragged nested sequences (which is a list-or-tuple of lists-or-tuples-or ndarrays with different lengths or shapes) is deprecated. If you meant to do this, you must specify 'dtype=object' when creating the ndarray.\n",
            "  concat_df = pd.DataFrame(np.array([stock, indicators, tries[0][0], tries[1][0], tries[2][0]]).reshape(1,5), columns=[\"STOCK\", \"WEIGHTS\", \"BUY TH\", \"SELL TH\", \"PROFIT\"])\n"
          ]
        },
        {
          "output_type": "stream",
          "name": "stdout",
          "text": [
            "    0   1       2\n",
            "0  43  48 2240.08\n",
            "1  43  47 2240.08\n",
            "2  43  46 2092.27\n",
            "3  74  57 2089.80\n",
            "4  73  57 2089.80\n",
            "3. Deneme\n"
          ]
        },
        {
          "output_type": "stream",
          "name": "stderr",
          "text": [
            "<ipython-input-294-66fc1ce873bd>:316: VisibleDeprecationWarning: Creating an ndarray from ragged nested sequences (which is a list-or-tuple of lists-or-tuples-or ndarrays with different lengths or shapes) is deprecated. If you meant to do this, you must specify 'dtype=object' when creating the ndarray.\n",
            "  concat_df = pd.DataFrame(np.array([stock, indicators, tries[0][0], tries[1][0], tries[2][0]]).reshape(1,5), columns=[\"STOCK\", \"WEIGHTS\", \"BUY TH\", \"SELL TH\", \"PROFIT\"])\n"
          ]
        },
        {
          "output_type": "stream",
          "name": "stdout",
          "text": [
            "    0   1       2\n",
            "0  59  63 2894.02\n",
            "1  59  62 2894.02\n",
            "2  60  63 2894.02\n",
            "3  60  62 2894.02\n",
            "4  61  62 2813.57\n",
            "4. Deneme\n"
          ]
        },
        {
          "output_type": "stream",
          "name": "stderr",
          "text": [
            "<ipython-input-294-66fc1ce873bd>:316: VisibleDeprecationWarning: Creating an ndarray from ragged nested sequences (which is a list-or-tuple of lists-or-tuples-or ndarrays with different lengths or shapes) is deprecated. If you meant to do this, you must specify 'dtype=object' when creating the ndarray.\n",
            "  concat_df = pd.DataFrame(np.array([stock, indicators, tries[0][0], tries[1][0], tries[2][0]]).reshape(1,5), columns=[\"STOCK\", \"WEIGHTS\", \"BUY TH\", \"SELL TH\", \"PROFIT\"])\n"
          ]
        },
        {
          "output_type": "stream",
          "name": "stdout",
          "text": [
            "    0   1       2\n",
            "0  74  76 3080.22\n",
            "1  74  77 3080.22\n",
            "2  73  77 3080.22\n",
            "3  73  76 3080.22\n",
            "4  75  77 3006.01\n",
            "5. Deneme\n"
          ]
        },
        {
          "output_type": "stream",
          "name": "stderr",
          "text": [
            "<ipython-input-294-66fc1ce873bd>:316: VisibleDeprecationWarning: Creating an ndarray from ragged nested sequences (which is a list-or-tuple of lists-or-tuples-or ndarrays with different lengths or shapes) is deprecated. If you meant to do this, you must specify 'dtype=object' when creating the ndarray.\n",
            "  concat_df = pd.DataFrame(np.array([stock, indicators, tries[0][0], tries[1][0], tries[2][0]]).reshape(1,5), columns=[\"STOCK\", \"WEIGHTS\", \"BUY TH\", \"SELL TH\", \"PROFIT\"])\n"
          ]
        },
        {
          "output_type": "stream",
          "name": "stdout",
          "text": [
            "    0   1       2\n",
            "0  71  74 4253.86\n",
            "1  71  73 3950.01\n",
            "2  71  72 3950.01\n",
            "3  71  79 3517.95\n",
            "4  71  75 3493.57\n",
            "6. Deneme\n"
          ]
        },
        {
          "output_type": "stream",
          "name": "stderr",
          "text": [
            "<ipython-input-294-66fc1ce873bd>:316: VisibleDeprecationWarning: Creating an ndarray from ragged nested sequences (which is a list-or-tuple of lists-or-tuples-or ndarrays with different lengths or shapes) is deprecated. If you meant to do this, you must specify 'dtype=object' when creating the ndarray.\n",
            "  concat_df = pd.DataFrame(np.array([stock, indicators, tries[0][0], tries[1][0], tries[2][0]]).reshape(1,5), columns=[\"STOCK\", \"WEIGHTS\", \"BUY TH\", \"SELL TH\", \"PROFIT\"])\n"
          ]
        },
        {
          "output_type": "stream",
          "name": "stdout",
          "text": [
            "    0   1       2\n",
            "0  65  67 3088.43\n",
            "1  65  66 3088.43\n",
            "2  63  72 2989.05\n",
            "3  62  72 2989.05\n",
            "4  44  51 2975.52\n",
            "7. Deneme\n"
          ]
        },
        {
          "output_type": "stream",
          "name": "stderr",
          "text": [
            "<ipython-input-294-66fc1ce873bd>:316: VisibleDeprecationWarning: Creating an ndarray from ragged nested sequences (which is a list-or-tuple of lists-or-tuples-or ndarrays with different lengths or shapes) is deprecated. If you meant to do this, you must specify 'dtype=object' when creating the ndarray.\n",
            "  concat_df = pd.DataFrame(np.array([stock, indicators, tries[0][0], tries[1][0], tries[2][0]]).reshape(1,5), columns=[\"STOCK\", \"WEIGHTS\", \"BUY TH\", \"SELL TH\", \"PROFIT\"])\n"
          ]
        },
        {
          "output_type": "stream",
          "name": "stdout",
          "text": [
            "    0   1       2\n",
            "0  64  69 2884.47\n",
            "1  64  70 2884.47\n",
            "2  63  69 2884.47\n",
            "3  63  70 2884.47\n",
            "4  64  68 2629.87\n",
            "8. Deneme\n"
          ]
        },
        {
          "output_type": "stream",
          "name": "stderr",
          "text": [
            "<ipython-input-294-66fc1ce873bd>:316: VisibleDeprecationWarning: Creating an ndarray from ragged nested sequences (which is a list-or-tuple of lists-or-tuples-or ndarrays with different lengths or shapes) is deprecated. If you meant to do this, you must specify 'dtype=object' when creating the ndarray.\n",
            "  concat_df = pd.DataFrame(np.array([stock, indicators, tries[0][0], tries[1][0], tries[2][0]]).reshape(1,5), columns=[\"STOCK\", \"WEIGHTS\", \"BUY TH\", \"SELL TH\", \"PROFIT\"])\n"
          ]
        },
        {
          "output_type": "stream",
          "name": "stdout",
          "text": [
            "    0   1       2\n",
            "0  51  57 2902.06\n",
            "1  50  58 2902.06\n",
            "2  50  57 2902.06\n",
            "3  51  58 2902.06\n",
            "4  49  57 2902.06\n",
            "9. Deneme\n"
          ]
        },
        {
          "output_type": "stream",
          "name": "stderr",
          "text": [
            "<ipython-input-294-66fc1ce873bd>:316: VisibleDeprecationWarning: Creating an ndarray from ragged nested sequences (which is a list-or-tuple of lists-or-tuples-or ndarrays with different lengths or shapes) is deprecated. If you meant to do this, you must specify 'dtype=object' when creating the ndarray.\n",
            "  concat_df = pd.DataFrame(np.array([stock, indicators, tries[0][0], tries[1][0], tries[2][0]]).reshape(1,5), columns=[\"STOCK\", \"WEIGHTS\", \"BUY TH\", \"SELL TH\", \"PROFIT\"])\n"
          ]
        },
        {
          "output_type": "stream",
          "name": "stdout",
          "text": [
            "    0   1       2\n",
            "0  64  66 3188.01\n",
            "1  64  67 3188.01\n",
            "2  64  65 3188.01\n",
            "3  65  63 2894.62\n",
            "4  65  62 2894.62\n",
            "BIMAS.IS\n"
          ]
        },
        {
          "output_type": "stream",
          "name": "stderr",
          "text": [
            "<ipython-input-294-66fc1ce873bd>:316: VisibleDeprecationWarning: Creating an ndarray from ragged nested sequences (which is a list-or-tuple of lists-or-tuples-or ndarrays with different lengths or shapes) is deprecated. If you meant to do this, you must specify 'dtype=object' when creating the ndarray.\n",
            "  concat_df = pd.DataFrame(np.array([stock, indicators, tries[0][0], tries[1][0], tries[2][0]]).reshape(1,5), columns=[\"STOCK\", \"WEIGHTS\", \"BUY TH\", \"SELL TH\", \"PROFIT\"])\n"
          ]
        },
        {
          "output_type": "stream",
          "name": "stdout",
          "text": [
            "0. Deneme\n",
            "    0   1       2\n",
            "0  55  61 2112.05\n",
            "1  54  61 2112.05\n",
            "2  53  61 2112.05\n",
            "3  55  60 2006.85\n",
            "4  54  59 2006.85\n",
            "1. Deneme\n"
          ]
        },
        {
          "output_type": "stream",
          "name": "stderr",
          "text": [
            "<ipython-input-294-66fc1ce873bd>:316: VisibleDeprecationWarning: Creating an ndarray from ragged nested sequences (which is a list-or-tuple of lists-or-tuples-or ndarrays with different lengths or shapes) is deprecated. If you meant to do this, you must specify 'dtype=object' when creating the ndarray.\n",
            "  concat_df = pd.DataFrame(np.array([stock, indicators, tries[0][0], tries[1][0], tries[2][0]]).reshape(1,5), columns=[\"STOCK\", \"WEIGHTS\", \"BUY TH\", \"SELL TH\", \"PROFIT\"])\n"
          ]
        },
        {
          "output_type": "stream",
          "name": "stdout",
          "text": [
            "    0   1       2\n",
            "0  70  79 2610.04\n",
            "1  70  78 2610.04\n",
            "2  71  77 2425.24\n",
            "3  72  77 2425.24\n",
            "4  72  76 2425.24\n",
            "2. Deneme\n"
          ]
        },
        {
          "output_type": "stream",
          "name": "stderr",
          "text": [
            "<ipython-input-294-66fc1ce873bd>:316: VisibleDeprecationWarning: Creating an ndarray from ragged nested sequences (which is a list-or-tuple of lists-or-tuples-or ndarrays with different lengths or shapes) is deprecated. If you meant to do this, you must specify 'dtype=object' when creating the ndarray.\n",
            "  concat_df = pd.DataFrame(np.array([stock, indicators, tries[0][0], tries[1][0], tries[2][0]]).reshape(1,5), columns=[\"STOCK\", \"WEIGHTS\", \"BUY TH\", \"SELL TH\", \"PROFIT\"])\n"
          ]
        },
        {
          "output_type": "stream",
          "name": "stdout",
          "text": [
            "    0   1       2\n",
            "0  40  42 1708.29\n",
            "1  40  41 1708.29\n",
            "2  43  46 1637.34\n",
            "3  51  45 1602.30\n",
            "4  51  44 1602.30\n",
            "3. Deneme\n"
          ]
        },
        {
          "output_type": "stream",
          "name": "stderr",
          "text": [
            "<ipython-input-294-66fc1ce873bd>:316: VisibleDeprecationWarning: Creating an ndarray from ragged nested sequences (which is a list-or-tuple of lists-or-tuples-or ndarrays with different lengths or shapes) is deprecated. If you meant to do this, you must specify 'dtype=object' when creating the ndarray.\n",
            "  concat_df = pd.DataFrame(np.array([stock, indicators, tries[0][0], tries[1][0], tries[2][0]]).reshape(1,5), columns=[\"STOCK\", \"WEIGHTS\", \"BUY TH\", \"SELL TH\", \"PROFIT\"])\n"
          ]
        },
        {
          "output_type": "stream",
          "name": "stdout",
          "text": [
            "    0   1       2\n",
            "0  57  68 1945.05\n",
            "1  57  69 1945.05\n",
            "2  56  68 1945.05\n",
            "3  56  69 1945.05\n",
            "4  58  68 1917.35\n",
            "4. Deneme\n"
          ]
        },
        {
          "output_type": "stream",
          "name": "stderr",
          "text": [
            "<ipython-input-294-66fc1ce873bd>:316: VisibleDeprecationWarning: Creating an ndarray from ragged nested sequences (which is a list-or-tuple of lists-or-tuples-or ndarrays with different lengths or shapes) is deprecated. If you meant to do this, you must specify 'dtype=object' when creating the ndarray.\n",
            "  concat_df = pd.DataFrame(np.array([stock, indicators, tries[0][0], tries[1][0], tries[2][0]]).reshape(1,5), columns=[\"STOCK\", \"WEIGHTS\", \"BUY TH\", \"SELL TH\", \"PROFIT\"])\n"
          ]
        },
        {
          "output_type": "stream",
          "name": "stdout",
          "text": [
            "    0   1       2\n",
            "0  46  52 1919.57\n",
            "1  46  53 1919.57\n",
            "2  46  51 1919.57\n",
            "3  46  50 1919.57\n",
            "4  47  51 1866.18\n",
            "5. Deneme\n"
          ]
        },
        {
          "output_type": "stream",
          "name": "stderr",
          "text": [
            "<ipython-input-294-66fc1ce873bd>:316: VisibleDeprecationWarning: Creating an ndarray from ragged nested sequences (which is a list-or-tuple of lists-or-tuples-or ndarrays with different lengths or shapes) is deprecated. If you meant to do this, you must specify 'dtype=object' when creating the ndarray.\n",
            "  concat_df = pd.DataFrame(np.array([stock, indicators, tries[0][0], tries[1][0], tries[2][0]]).reshape(1,5), columns=[\"STOCK\", \"WEIGHTS\", \"BUY TH\", \"SELL TH\", \"PROFIT\"])\n"
          ]
        },
        {
          "output_type": "stream",
          "name": "stdout",
          "text": [
            "    0   1       2\n",
            "0  45  46 2126.69\n",
            "1  44  46 2126.69\n",
            "2  69  71 1999.29\n",
            "3  69  70 1999.29\n",
            "4  72  70 1840.42\n",
            "6. Deneme\n"
          ]
        },
        {
          "output_type": "stream",
          "name": "stderr",
          "text": [
            "<ipython-input-294-66fc1ce873bd>:316: VisibleDeprecationWarning: Creating an ndarray from ragged nested sequences (which is a list-or-tuple of lists-or-tuples-or ndarrays with different lengths or shapes) is deprecated. If you meant to do this, you must specify 'dtype=object' when creating the ndarray.\n",
            "  concat_df = pd.DataFrame(np.array([stock, indicators, tries[0][0], tries[1][0], tries[2][0]]).reshape(1,5), columns=[\"STOCK\", \"WEIGHTS\", \"BUY TH\", \"SELL TH\", \"PROFIT\"])\n"
          ]
        },
        {
          "output_type": "stream",
          "name": "stdout",
          "text": [
            "    0   1       2\n",
            "0  66  79 1855.81\n",
            "1  67  78 1855.81\n",
            "2  67  79 1855.81\n",
            "3  68  79 1855.81\n",
            "4  68  78 1855.81\n",
            "7. Deneme\n"
          ]
        },
        {
          "output_type": "stream",
          "name": "stderr",
          "text": [
            "<ipython-input-294-66fc1ce873bd>:316: VisibleDeprecationWarning: Creating an ndarray from ragged nested sequences (which is a list-or-tuple of lists-or-tuples-or ndarrays with different lengths or shapes) is deprecated. If you meant to do this, you must specify 'dtype=object' when creating the ndarray.\n",
            "  concat_df = pd.DataFrame(np.array([stock, indicators, tries[0][0], tries[1][0], tries[2][0]]).reshape(1,5), columns=[\"STOCK\", \"WEIGHTS\", \"BUY TH\", \"SELL TH\", \"PROFIT\"])\n"
          ]
        },
        {
          "output_type": "stream",
          "name": "stdout",
          "text": [
            "    0   1       2\n",
            "0  53  44 1780.34\n",
            "1  51  44 1780.34\n",
            "2  52  44 1780.34\n",
            "3  52  45 1780.34\n",
            "4  52  46 1780.34\n",
            "8. Deneme\n"
          ]
        },
        {
          "output_type": "stream",
          "name": "stderr",
          "text": [
            "<ipython-input-294-66fc1ce873bd>:316: VisibleDeprecationWarning: Creating an ndarray from ragged nested sequences (which is a list-or-tuple of lists-or-tuples-or ndarrays with different lengths or shapes) is deprecated. If you meant to do this, you must specify 'dtype=object' when creating the ndarray.\n",
            "  concat_df = pd.DataFrame(np.array([stock, indicators, tries[0][0], tries[1][0], tries[2][0]]).reshape(1,5), columns=[\"STOCK\", \"WEIGHTS\", \"BUY TH\", \"SELL TH\", \"PROFIT\"])\n"
          ]
        },
        {
          "output_type": "stream",
          "name": "stdout",
          "text": [
            "    0   1       2\n",
            "0  67  74 2427.26\n",
            "1  68  74 2427.26\n",
            "2  65  74 2249.70\n",
            "3  65  73 2240.31\n",
            "4  65  72 2240.31\n",
            "9. Deneme\n"
          ]
        },
        {
          "output_type": "stream",
          "name": "stderr",
          "text": [
            "<ipython-input-294-66fc1ce873bd>:316: VisibleDeprecationWarning: Creating an ndarray from ragged nested sequences (which is a list-or-tuple of lists-or-tuples-or ndarrays with different lengths or shapes) is deprecated. If you meant to do this, you must specify 'dtype=object' when creating the ndarray.\n",
            "  concat_df = pd.DataFrame(np.array([stock, indicators, tries[0][0], tries[1][0], tries[2][0]]).reshape(1,5), columns=[\"STOCK\", \"WEIGHTS\", \"BUY TH\", \"SELL TH\", \"PROFIT\"])\n"
          ]
        },
        {
          "output_type": "stream",
          "name": "stdout",
          "text": [
            "    0   1       2\n",
            "0  43  48 1838.73\n",
            "1  40  49 1838.73\n",
            "2  41  49 1838.73\n",
            "3  42  47 1838.73\n",
            "4  42  48 1838.73\n",
            "EKGYO.IS\n"
          ]
        },
        {
          "output_type": "stream",
          "name": "stderr",
          "text": [
            "<ipython-input-294-66fc1ce873bd>:316: VisibleDeprecationWarning: Creating an ndarray from ragged nested sequences (which is a list-or-tuple of lists-or-tuples-or ndarrays with different lengths or shapes) is deprecated. If you meant to do this, you must specify 'dtype=object' when creating the ndarray.\n",
            "  concat_df = pd.DataFrame(np.array([stock, indicators, tries[0][0], tries[1][0], tries[2][0]]).reshape(1,5), columns=[\"STOCK\", \"WEIGHTS\", \"BUY TH\", \"SELL TH\", \"PROFIT\"])\n"
          ]
        },
        {
          "output_type": "stream",
          "name": "stdout",
          "text": [
            "0. Deneme\n",
            "    0   1       2\n",
            "0  52  60 5059.73\n",
            "1  51  60 5059.73\n",
            "2  52  53 4963.33\n",
            "3  51  53 4963.33\n",
            "4  51  54 4963.33\n",
            "1. Deneme\n"
          ]
        },
        {
          "output_type": "stream",
          "name": "stderr",
          "text": [
            "<ipython-input-294-66fc1ce873bd>:316: VisibleDeprecationWarning: Creating an ndarray from ragged nested sequences (which is a list-or-tuple of lists-or-tuples-or ndarrays with different lengths or shapes) is deprecated. If you meant to do this, you must specify 'dtype=object' when creating the ndarray.\n",
            "  concat_df = pd.DataFrame(np.array([stock, indicators, tries[0][0], tries[1][0], tries[2][0]]).reshape(1,5), columns=[\"STOCK\", \"WEIGHTS\", \"BUY TH\", \"SELL TH\", \"PROFIT\"])\n"
          ]
        },
        {
          "output_type": "stream",
          "name": "stdout",
          "text": [
            "    0   1       2\n",
            "0  68  72 3892.80\n",
            "1  66  72 3863.85\n",
            "2  67  72 3863.85\n",
            "3  68  71 3843.07\n",
            "4  68  70 3843.07\n",
            "2. Deneme\n"
          ]
        },
        {
          "output_type": "stream",
          "name": "stderr",
          "text": [
            "<ipython-input-294-66fc1ce873bd>:316: VisibleDeprecationWarning: Creating an ndarray from ragged nested sequences (which is a list-or-tuple of lists-or-tuples-or ndarrays with different lengths or shapes) is deprecated. If you meant to do this, you must specify 'dtype=object' when creating the ndarray.\n",
            "  concat_df = pd.DataFrame(np.array([stock, indicators, tries[0][0], tries[1][0], tries[2][0]]).reshape(1,5), columns=[\"STOCK\", \"WEIGHTS\", \"BUY TH\", \"SELL TH\", \"PROFIT\"])\n"
          ]
        },
        {
          "output_type": "stream",
          "name": "stdout",
          "text": [
            "    0   1       2\n",
            "0  45  53 5427.16\n",
            "1  45  54 5427.16\n",
            "2  40  42 4998.02\n",
            "3  41  42 4998.02\n",
            "4  44  53 4980.86\n",
            "3. Deneme\n"
          ]
        },
        {
          "output_type": "stream",
          "name": "stderr",
          "text": [
            "<ipython-input-294-66fc1ce873bd>:316: VisibleDeprecationWarning: Creating an ndarray from ragged nested sequences (which is a list-or-tuple of lists-or-tuples-or ndarrays with different lengths or shapes) is deprecated. If you meant to do this, you must specify 'dtype=object' when creating the ndarray.\n",
            "  concat_df = pd.DataFrame(np.array([stock, indicators, tries[0][0], tries[1][0], tries[2][0]]).reshape(1,5), columns=[\"STOCK\", \"WEIGHTS\", \"BUY TH\", \"SELL TH\", \"PROFIT\"])\n"
          ]
        },
        {
          "output_type": "stream",
          "name": "stdout",
          "text": [
            "    0   1       2\n",
            "0  50  56 5257.08\n",
            "1  50  55 5257.08\n",
            "2  49  56 5257.08\n",
            "3  49  55 5257.08\n",
            "4  66  67 5051.36\n",
            "4. Deneme\n"
          ]
        },
        {
          "output_type": "stream",
          "name": "stderr",
          "text": [
            "<ipython-input-294-66fc1ce873bd>:316: VisibleDeprecationWarning: Creating an ndarray from ragged nested sequences (which is a list-or-tuple of lists-or-tuples-or ndarrays with different lengths or shapes) is deprecated. If you meant to do this, you must specify 'dtype=object' when creating the ndarray.\n",
            "  concat_df = pd.DataFrame(np.array([stock, indicators, tries[0][0], tries[1][0], tries[2][0]]).reshape(1,5), columns=[\"STOCK\", \"WEIGHTS\", \"BUY TH\", \"SELL TH\", \"PROFIT\"])\n"
          ]
        },
        {
          "output_type": "stream",
          "name": "stdout",
          "text": [
            "    0   1       2\n",
            "0  60  68 4799.72\n",
            "1  59  68 4799.72\n",
            "2  60  69 4799.72\n",
            "3  59  69 4799.72\n",
            "4  61  69 4741.54\n",
            "5. Deneme\n"
          ]
        },
        {
          "output_type": "stream",
          "name": "stderr",
          "text": [
            "<ipython-input-294-66fc1ce873bd>:316: VisibleDeprecationWarning: Creating an ndarray from ragged nested sequences (which is a list-or-tuple of lists-or-tuples-or ndarrays with different lengths or shapes) is deprecated. If you meant to do this, you must specify 'dtype=object' when creating the ndarray.\n",
            "  concat_df = pd.DataFrame(np.array([stock, indicators, tries[0][0], tries[1][0], tries[2][0]]).reshape(1,5), columns=[\"STOCK\", \"WEIGHTS\", \"BUY TH\", \"SELL TH\", \"PROFIT\"])\n"
          ]
        },
        {
          "output_type": "stream",
          "name": "stdout",
          "text": [
            "    0   1       2\n",
            "0  46  50 5051.43\n",
            "1  46  49 5051.43\n",
            "2  46  48 5034.07\n",
            "3  47  50 4582.35\n",
            "4  47  49 4582.35\n",
            "6. Deneme\n"
          ]
        },
        {
          "output_type": "stream",
          "name": "stderr",
          "text": [
            "<ipython-input-294-66fc1ce873bd>:316: VisibleDeprecationWarning: Creating an ndarray from ragged nested sequences (which is a list-or-tuple of lists-or-tuples-or ndarrays with different lengths or shapes) is deprecated. If you meant to do this, you must specify 'dtype=object' when creating the ndarray.\n",
            "  concat_df = pd.DataFrame(np.array([stock, indicators, tries[0][0], tries[1][0], tries[2][0]]).reshape(1,5), columns=[\"STOCK\", \"WEIGHTS\", \"BUY TH\", \"SELL TH\", \"PROFIT\"])\n"
          ]
        },
        {
          "output_type": "stream",
          "name": "stdout",
          "text": [
            "    0   1       2\n",
            "0  51  60 4244.19\n",
            "1  51  59 4244.19\n",
            "2  51  61 4236.40\n",
            "3  51  64 4087.08\n",
            "4  51  62 4087.08\n",
            "7. Deneme\n"
          ]
        },
        {
          "output_type": "stream",
          "name": "stderr",
          "text": [
            "<ipython-input-294-66fc1ce873bd>:316: VisibleDeprecationWarning: Creating an ndarray from ragged nested sequences (which is a list-or-tuple of lists-or-tuples-or ndarrays with different lengths or shapes) is deprecated. If you meant to do this, you must specify 'dtype=object' when creating the ndarray.\n",
            "  concat_df = pd.DataFrame(np.array([stock, indicators, tries[0][0], tries[1][0], tries[2][0]]).reshape(1,5), columns=[\"STOCK\", \"WEIGHTS\", \"BUY TH\", \"SELL TH\", \"PROFIT\"])\n"
          ]
        },
        {
          "output_type": "stream",
          "name": "stdout",
          "text": [
            "    0   1       2\n",
            "0  69  79 6849.83\n",
            "1  70  79 6849.83\n",
            "2  70  76 6599.83\n",
            "3  70  78 6599.83\n",
            "4  69  77 6599.83\n",
            "8. Deneme\n"
          ]
        },
        {
          "output_type": "stream",
          "name": "stderr",
          "text": [
            "<ipython-input-294-66fc1ce873bd>:316: VisibleDeprecationWarning: Creating an ndarray from ragged nested sequences (which is a list-or-tuple of lists-or-tuples-or ndarrays with different lengths or shapes) is deprecated. If you meant to do this, you must specify 'dtype=object' when creating the ndarray.\n",
            "  concat_df = pd.DataFrame(np.array([stock, indicators, tries[0][0], tries[1][0], tries[2][0]]).reshape(1,5), columns=[\"STOCK\", \"WEIGHTS\", \"BUY TH\", \"SELL TH\", \"PROFIT\"])\n"
          ]
        },
        {
          "output_type": "stream",
          "name": "stdout",
          "text": [
            "    0   1       2\n",
            "0  48  61 5995.28\n",
            "1  48  60 5995.28\n",
            "2  46  60 5976.36\n",
            "3  47  60 5976.36\n",
            "4  46  61 5976.36\n",
            "9. Deneme\n"
          ]
        },
        {
          "output_type": "stream",
          "name": "stderr",
          "text": [
            "<ipython-input-294-66fc1ce873bd>:316: VisibleDeprecationWarning: Creating an ndarray from ragged nested sequences (which is a list-or-tuple of lists-or-tuples-or ndarrays with different lengths or shapes) is deprecated. If you meant to do this, you must specify 'dtype=object' when creating the ndarray.\n",
            "  concat_df = pd.DataFrame(np.array([stock, indicators, tries[0][0], tries[1][0], tries[2][0]]).reshape(1,5), columns=[\"STOCK\", \"WEIGHTS\", \"BUY TH\", \"SELL TH\", \"PROFIT\"])\n"
          ]
        },
        {
          "output_type": "stream",
          "name": "stdout",
          "text": [
            "    0   1       2\n",
            "0  47  64 4545.25\n",
            "1  46  64 4545.25\n",
            "2  60  62 4168.77\n",
            "3  61  63 4168.77\n",
            "4  61  62 4168.77\n",
            "ENKAI.IS\n"
          ]
        },
        {
          "output_type": "stream",
          "name": "stderr",
          "text": [
            "<ipython-input-294-66fc1ce873bd>:316: VisibleDeprecationWarning: Creating an ndarray from ragged nested sequences (which is a list-or-tuple of lists-or-tuples-or ndarrays with different lengths or shapes) is deprecated. If you meant to do this, you must specify 'dtype=object' when creating the ndarray.\n",
            "  concat_df = pd.DataFrame(np.array([stock, indicators, tries[0][0], tries[1][0], tries[2][0]]).reshape(1,5), columns=[\"STOCK\", \"WEIGHTS\", \"BUY TH\", \"SELL TH\", \"PROFIT\"])\n"
          ]
        },
        {
          "output_type": "stream",
          "name": "stdout",
          "text": [
            "0. Deneme\n",
            "    0   1       2\n",
            "0  41  79 1751.12\n",
            "1  41  78 1751.12\n",
            "2  42  78 1751.12\n",
            "3  42  79 1751.12\n",
            "4  40  79 1692.88\n",
            "1. Deneme\n"
          ]
        },
        {
          "output_type": "stream",
          "name": "stderr",
          "text": [
            "<ipython-input-294-66fc1ce873bd>:316: VisibleDeprecationWarning: Creating an ndarray from ragged nested sequences (which is a list-or-tuple of lists-or-tuples-or ndarrays with different lengths or shapes) is deprecated. If you meant to do this, you must specify 'dtype=object' when creating the ndarray.\n",
            "  concat_df = pd.DataFrame(np.array([stock, indicators, tries[0][0], tries[1][0], tries[2][0]]).reshape(1,5), columns=[\"STOCK\", \"WEIGHTS\", \"BUY TH\", \"SELL TH\", \"PROFIT\"])\n"
          ]
        },
        {
          "output_type": "stream",
          "name": "stdout",
          "text": [
            "    0   1       2\n",
            "0  70  72 1650.57\n",
            "1  71  72 1650.57\n",
            "2  60  67 1390.76\n",
            "3  60  68 1390.76\n",
            "4  65  69 1336.39\n",
            "2. Deneme\n"
          ]
        },
        {
          "output_type": "stream",
          "name": "stderr",
          "text": [
            "<ipython-input-294-66fc1ce873bd>:316: VisibleDeprecationWarning: Creating an ndarray from ragged nested sequences (which is a list-or-tuple of lists-or-tuples-or ndarrays with different lengths or shapes) is deprecated. If you meant to do this, you must specify 'dtype=object' when creating the ndarray.\n",
            "  concat_df = pd.DataFrame(np.array([stock, indicators, tries[0][0], tries[1][0], tries[2][0]]).reshape(1,5), columns=[\"STOCK\", \"WEIGHTS\", \"BUY TH\", \"SELL TH\", \"PROFIT\"])\n"
          ]
        },
        {
          "output_type": "stream",
          "name": "stdout",
          "text": [
            "    0   1       2\n",
            "0  75  79 1639.32\n",
            "1  57  62 1605.33\n",
            "2  75  78 1481.66\n",
            "3  42  45 1440.28\n",
            "4  42  44 1412.10\n",
            "3. Deneme\n"
          ]
        },
        {
          "output_type": "stream",
          "name": "stderr",
          "text": [
            "<ipython-input-294-66fc1ce873bd>:316: VisibleDeprecationWarning: Creating an ndarray from ragged nested sequences (which is a list-or-tuple of lists-or-tuples-or ndarrays with different lengths or shapes) is deprecated. If you meant to do this, you must specify 'dtype=object' when creating the ndarray.\n",
            "  concat_df = pd.DataFrame(np.array([stock, indicators, tries[0][0], tries[1][0], tries[2][0]]).reshape(1,5), columns=[\"STOCK\", \"WEIGHTS\", \"BUY TH\", \"SELL TH\", \"PROFIT\"])\n"
          ]
        },
        {
          "output_type": "stream",
          "name": "stdout",
          "text": [
            "    0   1       2\n",
            "0  52  59 2257.52\n",
            "1  53  59 2257.52\n",
            "2  52  58 2257.52\n",
            "3  53  58 2257.52\n",
            "4  53  57 2093.91\n",
            "4. Deneme\n"
          ]
        },
        {
          "output_type": "stream",
          "name": "stderr",
          "text": [
            "<ipython-input-294-66fc1ce873bd>:316: VisibleDeprecationWarning: Creating an ndarray from ragged nested sequences (which is a list-or-tuple of lists-or-tuples-or ndarrays with different lengths or shapes) is deprecated. If you meant to do this, you must specify 'dtype=object' when creating the ndarray.\n",
            "  concat_df = pd.DataFrame(np.array([stock, indicators, tries[0][0], tries[1][0], tries[2][0]]).reshape(1,5), columns=[\"STOCK\", \"WEIGHTS\", \"BUY TH\", \"SELL TH\", \"PROFIT\"])\n"
          ]
        },
        {
          "output_type": "stream",
          "name": "stdout",
          "text": [
            "    0   1       2\n",
            "0  63  69 2339.43\n",
            "1  63  68 1801.77\n",
            "2  63  67 1801.77\n",
            "3  74  77 1789.81\n",
            "4  75  78 1789.81\n",
            "5. Deneme\n"
          ]
        },
        {
          "output_type": "stream",
          "name": "stderr",
          "text": [
            "<ipython-input-294-66fc1ce873bd>:316: VisibleDeprecationWarning: Creating an ndarray from ragged nested sequences (which is a list-or-tuple of lists-or-tuples-or ndarrays with different lengths or shapes) is deprecated. If you meant to do this, you must specify 'dtype=object' when creating the ndarray.\n",
            "  concat_df = pd.DataFrame(np.array([stock, indicators, tries[0][0], tries[1][0], tries[2][0]]).reshape(1,5), columns=[\"STOCK\", \"WEIGHTS\", \"BUY TH\", \"SELL TH\", \"PROFIT\"])\n"
          ]
        },
        {
          "output_type": "stream",
          "name": "stdout",
          "text": [
            "    0   1       2\n",
            "0  55  63 1780.64\n",
            "1  55  64 1780.64\n",
            "2  56  64 1780.64\n",
            "3  56  63 1780.64\n",
            "4  56  65 1734.37\n",
            "6. Deneme\n"
          ]
        },
        {
          "output_type": "stream",
          "name": "stderr",
          "text": [
            "<ipython-input-294-66fc1ce873bd>:316: VisibleDeprecationWarning: Creating an ndarray from ragged nested sequences (which is a list-or-tuple of lists-or-tuples-or ndarrays with different lengths or shapes) is deprecated. If you meant to do this, you must specify 'dtype=object' when creating the ndarray.\n",
            "  concat_df = pd.DataFrame(np.array([stock, indicators, tries[0][0], tries[1][0], tries[2][0]]).reshape(1,5), columns=[\"STOCK\", \"WEIGHTS\", \"BUY TH\", \"SELL TH\", \"PROFIT\"])\n"
          ]
        },
        {
          "output_type": "stream",
          "name": "stdout",
          "text": [
            "    0   1       2\n",
            "0  42  46 2226.55\n",
            "1  41  44 2152.07\n",
            "2  41  45 2152.07\n",
            "3  40  44 2152.07\n",
            "4  40  45 2152.07\n",
            "7. Deneme\n"
          ]
        },
        {
          "output_type": "stream",
          "name": "stderr",
          "text": [
            "<ipython-input-294-66fc1ce873bd>:316: VisibleDeprecationWarning: Creating an ndarray from ragged nested sequences (which is a list-or-tuple of lists-or-tuples-or ndarrays with different lengths or shapes) is deprecated. If you meant to do this, you must specify 'dtype=object' when creating the ndarray.\n",
            "  concat_df = pd.DataFrame(np.array([stock, indicators, tries[0][0], tries[1][0], tries[2][0]]).reshape(1,5), columns=[\"STOCK\", \"WEIGHTS\", \"BUY TH\", \"SELL TH\", \"PROFIT\"])\n"
          ]
        },
        {
          "output_type": "stream",
          "name": "stdout",
          "text": [
            "    0   1       2\n",
            "0  40  44 2368.62\n",
            "1  40  40 2154.62\n",
            "2  40  41 2154.62\n",
            "3  40  45 2152.04\n",
            "4  40  46 2152.04\n",
            "8. Deneme\n"
          ]
        },
        {
          "output_type": "stream",
          "name": "stderr",
          "text": [
            "<ipython-input-294-66fc1ce873bd>:316: VisibleDeprecationWarning: Creating an ndarray from ragged nested sequences (which is a list-or-tuple of lists-or-tuples-or ndarrays with different lengths or shapes) is deprecated. If you meant to do this, you must specify 'dtype=object' when creating the ndarray.\n",
            "  concat_df = pd.DataFrame(np.array([stock, indicators, tries[0][0], tries[1][0], tries[2][0]]).reshape(1,5), columns=[\"STOCK\", \"WEIGHTS\", \"BUY TH\", \"SELL TH\", \"PROFIT\"])\n"
          ]
        },
        {
          "output_type": "stream",
          "name": "stdout",
          "text": [
            "    0   1       2\n",
            "0  53  61 2560.91\n",
            "1  53  62 2560.91\n",
            "2  50  62 2178.43\n",
            "3  50  61 2178.43\n",
            "4  49  62 2160.80\n",
            "9. Deneme\n"
          ]
        },
        {
          "output_type": "stream",
          "name": "stderr",
          "text": [
            "<ipython-input-294-66fc1ce873bd>:316: VisibleDeprecationWarning: Creating an ndarray from ragged nested sequences (which is a list-or-tuple of lists-or-tuples-or ndarrays with different lengths or shapes) is deprecated. If you meant to do this, you must specify 'dtype=object' when creating the ndarray.\n",
            "  concat_df = pd.DataFrame(np.array([stock, indicators, tries[0][0], tries[1][0], tries[2][0]]).reshape(1,5), columns=[\"STOCK\", \"WEIGHTS\", \"BUY TH\", \"SELL TH\", \"PROFIT\"])\n"
          ]
        },
        {
          "output_type": "stream",
          "name": "stdout",
          "text": [
            "    0   1       2\n",
            "0  40  55 2046.51\n",
            "1  42  55 2046.51\n",
            "2  42  56 2046.51\n",
            "3  41  56 2046.51\n",
            "4  41  55 2046.51\n",
            "EREGL.IS\n"
          ]
        },
        {
          "output_type": "stream",
          "name": "stderr",
          "text": [
            "<ipython-input-294-66fc1ce873bd>:316: VisibleDeprecationWarning: Creating an ndarray from ragged nested sequences (which is a list-or-tuple of lists-or-tuples-or ndarrays with different lengths or shapes) is deprecated. If you meant to do this, you must specify 'dtype=object' when creating the ndarray.\n",
            "  concat_df = pd.DataFrame(np.array([stock, indicators, tries[0][0], tries[1][0], tries[2][0]]).reshape(1,5), columns=[\"STOCK\", \"WEIGHTS\", \"BUY TH\", \"SELL TH\", \"PROFIT\"])\n"
          ]
        },
        {
          "output_type": "stream",
          "name": "stdout",
          "text": [
            "0. Deneme\n",
            "    0   1       2\n",
            "0  77  79 1394.34\n",
            "1  78  79 1394.34\n",
            "2  42  68 1196.07\n",
            "3  42  67 1196.07\n",
            "4  43  68 1196.07\n",
            "1. Deneme\n"
          ]
        },
        {
          "output_type": "stream",
          "name": "stderr",
          "text": [
            "<ipython-input-294-66fc1ce873bd>:316: VisibleDeprecationWarning: Creating an ndarray from ragged nested sequences (which is a list-or-tuple of lists-or-tuples-or ndarrays with different lengths or shapes) is deprecated. If you meant to do this, you must specify 'dtype=object' when creating the ndarray.\n",
            "  concat_df = pd.DataFrame(np.array([stock, indicators, tries[0][0], tries[1][0], tries[2][0]]).reshape(1,5), columns=[\"STOCK\", \"WEIGHTS\", \"BUY TH\", \"SELL TH\", \"PROFIT\"])\n"
          ]
        },
        {
          "output_type": "stream",
          "name": "stdout",
          "text": [
            "    0   1       2\n",
            "0  72  79 1103.59\n",
            "1  72  78 1037.46\n",
            "2  40  67 1020.00\n",
            "3  41  67 1003.98\n",
            "4  50  78  976.63\n",
            "2. Deneme\n"
          ]
        },
        {
          "output_type": "stream",
          "name": "stderr",
          "text": [
            "<ipython-input-294-66fc1ce873bd>:316: VisibleDeprecationWarning: Creating an ndarray from ragged nested sequences (which is a list-or-tuple of lists-or-tuples-or ndarrays with different lengths or shapes) is deprecated. If you meant to do this, you must specify 'dtype=object' when creating the ndarray.\n",
            "  concat_df = pd.DataFrame(np.array([stock, indicators, tries[0][0], tries[1][0], tries[2][0]]).reshape(1,5), columns=[\"STOCK\", \"WEIGHTS\", \"BUY TH\", \"SELL TH\", \"PROFIT\"])\n"
          ]
        },
        {
          "output_type": "stream",
          "name": "stdout",
          "text": [
            "    0   1      2\n",
            "0  71  79 948.11\n",
            "1  70  79 948.11\n",
            "2  70  78 948.11\n",
            "3  71  78 948.11\n",
            "4  73  78 858.52\n",
            "3. Deneme\n"
          ]
        },
        {
          "output_type": "stream",
          "name": "stderr",
          "text": [
            "<ipython-input-294-66fc1ce873bd>:316: VisibleDeprecationWarning: Creating an ndarray from ragged nested sequences (which is a list-or-tuple of lists-or-tuples-or ndarrays with different lengths or shapes) is deprecated. If you meant to do this, you must specify 'dtype=object' when creating the ndarray.\n",
            "  concat_df = pd.DataFrame(np.array([stock, indicators, tries[0][0], tries[1][0], tries[2][0]]).reshape(1,5), columns=[\"STOCK\", \"WEIGHTS\", \"BUY TH\", \"SELL TH\", \"PROFIT\"])\n"
          ]
        },
        {
          "output_type": "stream",
          "name": "stdout",
          "text": [
            "    0   1       2\n",
            "0  73  79 1886.84\n",
            "1  74  79 1886.84\n",
            "2  74  78 1886.84\n",
            "3  73  78 1886.84\n",
            "4  72  78 1779.98\n",
            "4. Deneme\n"
          ]
        },
        {
          "output_type": "stream",
          "name": "stderr",
          "text": [
            "<ipython-input-294-66fc1ce873bd>:316: VisibleDeprecationWarning: Creating an ndarray from ragged nested sequences (which is a list-or-tuple of lists-or-tuples-or ndarrays with different lengths or shapes) is deprecated. If you meant to do this, you must specify 'dtype=object' when creating the ndarray.\n",
            "  concat_df = pd.DataFrame(np.array([stock, indicators, tries[0][0], tries[1][0], tries[2][0]]).reshape(1,5), columns=[\"STOCK\", \"WEIGHTS\", \"BUY TH\", \"SELL TH\", \"PROFIT\"])\n"
          ]
        },
        {
          "output_type": "stream",
          "name": "stdout",
          "text": [
            "    0   1       2\n",
            "0  44  75 1110.97\n",
            "1  44  73 1100.68\n",
            "2  44  74 1100.68\n",
            "3  43  75 1072.74\n",
            "4  42  75 1072.74\n",
            "5. Deneme\n"
          ]
        },
        {
          "output_type": "stream",
          "name": "stderr",
          "text": [
            "<ipython-input-294-66fc1ce873bd>:316: VisibleDeprecationWarning: Creating an ndarray from ragged nested sequences (which is a list-or-tuple of lists-or-tuples-or ndarrays with different lengths or shapes) is deprecated. If you meant to do this, you must specify 'dtype=object' when creating the ndarray.\n",
            "  concat_df = pd.DataFrame(np.array([stock, indicators, tries[0][0], tries[1][0], tries[2][0]]).reshape(1,5), columns=[\"STOCK\", \"WEIGHTS\", \"BUY TH\", \"SELL TH\", \"PROFIT\"])\n"
          ]
        },
        {
          "output_type": "stream",
          "name": "stdout",
          "text": [
            "    0   1      2\n",
            "0  52  66 897.63\n",
            "1  51  66 897.63\n",
            "2  52  67 884.38\n",
            "3  52  68 884.38\n",
            "4  51  67 884.38\n",
            "6. Deneme\n"
          ]
        },
        {
          "output_type": "stream",
          "name": "stderr",
          "text": [
            "<ipython-input-294-66fc1ce873bd>:316: VisibleDeprecationWarning: Creating an ndarray from ragged nested sequences (which is a list-or-tuple of lists-or-tuples-or ndarrays with different lengths or shapes) is deprecated. If you meant to do this, you must specify 'dtype=object' when creating the ndarray.\n",
            "  concat_df = pd.DataFrame(np.array([stock, indicators, tries[0][0], tries[1][0], tries[2][0]]).reshape(1,5), columns=[\"STOCK\", \"WEIGHTS\", \"BUY TH\", \"SELL TH\", \"PROFIT\"])\n"
          ]
        },
        {
          "output_type": "stream",
          "name": "stdout",
          "text": [
            "    0   1       2\n",
            "0  42  68 1478.72\n",
            "1  43  68 1478.72\n",
            "2  40  68 1440.09\n",
            "3  41  68 1440.09\n",
            "4  43  67 1091.78\n",
            "7. Deneme\n"
          ]
        },
        {
          "output_type": "stream",
          "name": "stderr",
          "text": [
            "<ipython-input-294-66fc1ce873bd>:316: VisibleDeprecationWarning: Creating an ndarray from ragged nested sequences (which is a list-or-tuple of lists-or-tuples-or ndarrays with different lengths or shapes) is deprecated. If you meant to do this, you must specify 'dtype=object' when creating the ndarray.\n",
            "  concat_df = pd.DataFrame(np.array([stock, indicators, tries[0][0], tries[1][0], tries[2][0]]).reshape(1,5), columns=[\"STOCK\", \"WEIGHTS\", \"BUY TH\", \"SELL TH\", \"PROFIT\"])\n"
          ]
        },
        {
          "output_type": "stream",
          "name": "stdout",
          "text": [
            "    0   1       2\n",
            "0  42  70 1073.32\n",
            "1  41  70 1073.32\n",
            "2  43  70 1073.32\n",
            "3  40  70 1064.33\n",
            "4  44  70 1044.39\n",
            "8. Deneme\n"
          ]
        },
        {
          "output_type": "stream",
          "name": "stderr",
          "text": [
            "<ipython-input-294-66fc1ce873bd>:316: VisibleDeprecationWarning: Creating an ndarray from ragged nested sequences (which is a list-or-tuple of lists-or-tuples-or ndarrays with different lengths or shapes) is deprecated. If you meant to do this, you must specify 'dtype=object' when creating the ndarray.\n",
            "  concat_df = pd.DataFrame(np.array([stock, indicators, tries[0][0], tries[1][0], tries[2][0]]).reshape(1,5), columns=[\"STOCK\", \"WEIGHTS\", \"BUY TH\", \"SELL TH\", \"PROFIT\"])\n"
          ]
        },
        {
          "output_type": "stream",
          "name": "stdout",
          "text": [
            "    0   1      2\n",
            "0  42  78 876.49\n",
            "1  43  79 876.49\n",
            "2  43  78 876.49\n",
            "3  42  79 876.49\n",
            "4  42  77 857.91\n",
            "9. Deneme\n"
          ]
        },
        {
          "output_type": "stream",
          "name": "stderr",
          "text": [
            "<ipython-input-294-66fc1ce873bd>:316: VisibleDeprecationWarning: Creating an ndarray from ragged nested sequences (which is a list-or-tuple of lists-or-tuples-or ndarrays with different lengths or shapes) is deprecated. If you meant to do this, you must specify 'dtype=object' when creating the ndarray.\n",
            "  concat_df = pd.DataFrame(np.array([stock, indicators, tries[0][0], tries[1][0], tries[2][0]]).reshape(1,5), columns=[\"STOCK\", \"WEIGHTS\", \"BUY TH\", \"SELL TH\", \"PROFIT\"])\n"
          ]
        },
        {
          "output_type": "stream",
          "name": "stdout",
          "text": [
            "    0   1       2\n",
            "0  41  70 1145.51\n",
            "1  40  70 1145.51\n",
            "2  41  71 1145.51\n",
            "3  41  72 1145.51\n",
            "4  40  71 1145.51\n",
            "FROTO.IS\n"
          ]
        },
        {
          "output_type": "stream",
          "name": "stderr",
          "text": [
            "<ipython-input-294-66fc1ce873bd>:316: VisibleDeprecationWarning: Creating an ndarray from ragged nested sequences (which is a list-or-tuple of lists-or-tuples-or ndarrays with different lengths or shapes) is deprecated. If you meant to do this, you must specify 'dtype=object' when creating the ndarray.\n",
            "  concat_df = pd.DataFrame(np.array([stock, indicators, tries[0][0], tries[1][0], tries[2][0]]).reshape(1,5), columns=[\"STOCK\", \"WEIGHTS\", \"BUY TH\", \"SELL TH\", \"PROFIT\"])\n"
          ]
        },
        {
          "output_type": "stream",
          "name": "stdout",
          "text": [
            "0. Deneme\n",
            "    0   1       2\n",
            "0  40  44 1967.41\n",
            "1  40  79 1819.47\n",
            "2  40  78 1819.47\n",
            "3  40  76 1761.91\n",
            "4  40  75 1761.91\n",
            "1. Deneme\n"
          ]
        },
        {
          "output_type": "stream",
          "name": "stderr",
          "text": [
            "<ipython-input-294-66fc1ce873bd>:316: VisibleDeprecationWarning: Creating an ndarray from ragged nested sequences (which is a list-or-tuple of lists-or-tuples-or ndarrays with different lengths or shapes) is deprecated. If you meant to do this, you must specify 'dtype=object' when creating the ndarray.\n",
            "  concat_df = pd.DataFrame(np.array([stock, indicators, tries[0][0], tries[1][0], tries[2][0]]).reshape(1,5), columns=[\"STOCK\", \"WEIGHTS\", \"BUY TH\", \"SELL TH\", \"PROFIT\"])\n"
          ]
        },
        {
          "output_type": "stream",
          "name": "stdout",
          "text": [
            "    0   1       2\n",
            "0  41  79 3531.14\n",
            "1  43  79 3459.63\n",
            "2  42  79 3459.63\n",
            "3  46  79 3436.99\n",
            "4  47  79 3436.99\n",
            "2. Deneme\n"
          ]
        },
        {
          "output_type": "stream",
          "name": "stderr",
          "text": [
            "<ipython-input-294-66fc1ce873bd>:316: VisibleDeprecationWarning: Creating an ndarray from ragged nested sequences (which is a list-or-tuple of lists-or-tuples-or ndarrays with different lengths or shapes) is deprecated. If you meant to do this, you must specify 'dtype=object' when creating the ndarray.\n",
            "  concat_df = pd.DataFrame(np.array([stock, indicators, tries[0][0], tries[1][0], tries[2][0]]).reshape(1,5), columns=[\"STOCK\", \"WEIGHTS\", \"BUY TH\", \"SELL TH\", \"PROFIT\"])\n"
          ]
        },
        {
          "output_type": "stream",
          "name": "stdout",
          "text": [
            "    0   1       2\n",
            "0  40  75 3440.39\n",
            "1  41  75 3440.39\n",
            "2  42  79 3437.13\n",
            "3  40  79 3437.13\n",
            "4  41  79 3437.13\n",
            "3. Deneme\n"
          ]
        },
        {
          "output_type": "stream",
          "name": "stderr",
          "text": [
            "<ipython-input-294-66fc1ce873bd>:316: VisibleDeprecationWarning: Creating an ndarray from ragged nested sequences (which is a list-or-tuple of lists-or-tuples-or ndarrays with different lengths or shapes) is deprecated. If you meant to do this, you must specify 'dtype=object' when creating the ndarray.\n",
            "  concat_df = pd.DataFrame(np.array([stock, indicators, tries[0][0], tries[1][0], tries[2][0]]).reshape(1,5), columns=[\"STOCK\", \"WEIGHTS\", \"BUY TH\", \"SELL TH\", \"PROFIT\"])\n"
          ]
        },
        {
          "output_type": "stream",
          "name": "stdout",
          "text": [
            "    0   1       2\n",
            "0  40  65 2281.31\n",
            "1  40  64 2281.31\n",
            "2  40  63 2259.47\n",
            "3  40  62 2198.23\n",
            "4  41  65 2023.77\n",
            "4. Deneme\n"
          ]
        },
        {
          "output_type": "stream",
          "name": "stderr",
          "text": [
            "<ipython-input-294-66fc1ce873bd>:316: VisibleDeprecationWarning: Creating an ndarray from ragged nested sequences (which is a list-or-tuple of lists-or-tuples-or ndarrays with different lengths or shapes) is deprecated. If you meant to do this, you must specify 'dtype=object' when creating the ndarray.\n",
            "  concat_df = pd.DataFrame(np.array([stock, indicators, tries[0][0], tries[1][0], tries[2][0]]).reshape(1,5), columns=[\"STOCK\", \"WEIGHTS\", \"BUY TH\", \"SELL TH\", \"PROFIT\"])\n"
          ]
        },
        {
          "output_type": "stream",
          "name": "stdout",
          "text": [
            "    0   1       2\n",
            "0  53  79 1583.52\n",
            "1  46  79 1563.99\n",
            "2  54  79 1553.81\n",
            "3  56  79 1515.19\n",
            "4  59  79 1515.19\n",
            "5. Deneme\n"
          ]
        },
        {
          "output_type": "stream",
          "name": "stderr",
          "text": [
            "<ipython-input-294-66fc1ce873bd>:316: VisibleDeprecationWarning: Creating an ndarray from ragged nested sequences (which is a list-or-tuple of lists-or-tuples-or ndarrays with different lengths or shapes) is deprecated. If you meant to do this, you must specify 'dtype=object' when creating the ndarray.\n",
            "  concat_df = pd.DataFrame(np.array([stock, indicators, tries[0][0], tries[1][0], tries[2][0]]).reshape(1,5), columns=[\"STOCK\", \"WEIGHTS\", \"BUY TH\", \"SELL TH\", \"PROFIT\"])\n"
          ]
        },
        {
          "output_type": "stream",
          "name": "stdout",
          "text": [
            "    0   1       2\n",
            "0  41  52 1781.12\n",
            "1  41  59 1763.02\n",
            "2  41  61 1755.93\n",
            "3  41  60 1755.93\n",
            "4  41  51 1750.37\n",
            "6. Deneme\n"
          ]
        },
        {
          "output_type": "stream",
          "name": "stderr",
          "text": [
            "<ipython-input-294-66fc1ce873bd>:316: VisibleDeprecationWarning: Creating an ndarray from ragged nested sequences (which is a list-or-tuple of lists-or-tuples-or ndarrays with different lengths or shapes) is deprecated. If you meant to do this, you must specify 'dtype=object' when creating the ndarray.\n",
            "  concat_df = pd.DataFrame(np.array([stock, indicators, tries[0][0], tries[1][0], tries[2][0]]).reshape(1,5), columns=[\"STOCK\", \"WEIGHTS\", \"BUY TH\", \"SELL TH\", \"PROFIT\"])\n"
          ]
        },
        {
          "output_type": "stream",
          "name": "stdout",
          "text": [
            "    0   1       2\n",
            "0  46  78 2444.09\n",
            "1  46  79 2444.09\n",
            "2  41  79 2444.09\n",
            "3  41  78 2444.09\n",
            "4  45  78 2444.09\n",
            "7. Deneme\n"
          ]
        },
        {
          "output_type": "stream",
          "name": "stderr",
          "text": [
            "<ipython-input-294-66fc1ce873bd>:316: VisibleDeprecationWarning: Creating an ndarray from ragged nested sequences (which is a list-or-tuple of lists-or-tuples-or ndarrays with different lengths or shapes) is deprecated. If you meant to do this, you must specify 'dtype=object' when creating the ndarray.\n",
            "  concat_df = pd.DataFrame(np.array([stock, indicators, tries[0][0], tries[1][0], tries[2][0]]).reshape(1,5), columns=[\"STOCK\", \"WEIGHTS\", \"BUY TH\", \"SELL TH\", \"PROFIT\"])\n"
          ]
        },
        {
          "output_type": "stream",
          "name": "stdout",
          "text": [
            "    0   1       2\n",
            "0  54  79 2401.42\n",
            "1  56  79 2388.32\n",
            "2  55  79 2388.32\n",
            "3  57  79 2179.08\n",
            "4  50  79 2162.52\n",
            "8. Deneme\n"
          ]
        },
        {
          "output_type": "stream",
          "name": "stderr",
          "text": [
            "<ipython-input-294-66fc1ce873bd>:316: VisibleDeprecationWarning: Creating an ndarray from ragged nested sequences (which is a list-or-tuple of lists-or-tuples-or ndarrays with different lengths or shapes) is deprecated. If you meant to do this, you must specify 'dtype=object' when creating the ndarray.\n",
            "  concat_df = pd.DataFrame(np.array([stock, indicators, tries[0][0], tries[1][0], tries[2][0]]).reshape(1,5), columns=[\"STOCK\", \"WEIGHTS\", \"BUY TH\", \"SELL TH\", \"PROFIT\"])\n"
          ]
        },
        {
          "output_type": "stream",
          "name": "stdout",
          "text": [
            "    0   1       2\n",
            "0  74  79 2744.31\n",
            "1  74  78 2744.31\n",
            "2  42  77 2650.89\n",
            "3  44  77 2650.89\n",
            "4  43  77 2650.89\n",
            "9. Deneme\n"
          ]
        },
        {
          "output_type": "stream",
          "name": "stderr",
          "text": [
            "<ipython-input-294-66fc1ce873bd>:316: VisibleDeprecationWarning: Creating an ndarray from ragged nested sequences (which is a list-or-tuple of lists-or-tuples-or ndarrays with different lengths or shapes) is deprecated. If you meant to do this, you must specify 'dtype=object' when creating the ndarray.\n",
            "  concat_df = pd.DataFrame(np.array([stock, indicators, tries[0][0], tries[1][0], tries[2][0]]).reshape(1,5), columns=[\"STOCK\", \"WEIGHTS\", \"BUY TH\", \"SELL TH\", \"PROFIT\"])\n"
          ]
        },
        {
          "output_type": "stream",
          "name": "stdout",
          "text": [
            "    0   1       2\n",
            "0  43  78 2033.37\n",
            "1  43  79 2033.37\n",
            "2  44  79 2033.37\n",
            "3  44  78 2033.37\n",
            "4  44  75 2000.59\n",
            "GARAN.IS\n"
          ]
        },
        {
          "output_type": "stream",
          "name": "stderr",
          "text": [
            "<ipython-input-294-66fc1ce873bd>:316: VisibleDeprecationWarning: Creating an ndarray from ragged nested sequences (which is a list-or-tuple of lists-or-tuples-or ndarrays with different lengths or shapes) is deprecated. If you meant to do this, you must specify 'dtype=object' when creating the ndarray.\n",
            "  concat_df = pd.DataFrame(np.array([stock, indicators, tries[0][0], tries[1][0], tries[2][0]]).reshape(1,5), columns=[\"STOCK\", \"WEIGHTS\", \"BUY TH\", \"SELL TH\", \"PROFIT\"])\n"
          ]
        },
        {
          "output_type": "stream",
          "name": "stdout",
          "text": [
            "0. Deneme\n",
            "    0   1       2\n",
            "0  66  77 4987.58\n",
            "1  62  74 4908.36\n",
            "2  66  74 4615.72\n",
            "3  63  74 4468.05\n",
            "4  67  77 4304.27\n",
            "1. Deneme\n"
          ]
        },
        {
          "output_type": "stream",
          "name": "stderr",
          "text": [
            "<ipython-input-294-66fc1ce873bd>:316: VisibleDeprecationWarning: Creating an ndarray from ragged nested sequences (which is a list-or-tuple of lists-or-tuples-or ndarrays with different lengths or shapes) is deprecated. If you meant to do this, you must specify 'dtype=object' when creating the ndarray.\n",
            "  concat_df = pd.DataFrame(np.array([stock, indicators, tries[0][0], tries[1][0], tries[2][0]]).reshape(1,5), columns=[\"STOCK\", \"WEIGHTS\", \"BUY TH\", \"SELL TH\", \"PROFIT\"])\n"
          ]
        },
        {
          "output_type": "stream",
          "name": "stdout",
          "text": [
            "    0   1       2\n",
            "0  61  66 3712.38\n",
            "1  61  65 3712.38\n",
            "2  64  66 3286.34\n",
            "3  65  65 3286.34\n",
            "4  64  65 3286.34\n",
            "2. Deneme\n"
          ]
        },
        {
          "output_type": "stream",
          "name": "stderr",
          "text": [
            "<ipython-input-294-66fc1ce873bd>:316: VisibleDeprecationWarning: Creating an ndarray from ragged nested sequences (which is a list-or-tuple of lists-or-tuples-or ndarrays with different lengths or shapes) is deprecated. If you meant to do this, you must specify 'dtype=object' when creating the ndarray.\n",
            "  concat_df = pd.DataFrame(np.array([stock, indicators, tries[0][0], tries[1][0], tries[2][0]]).reshape(1,5), columns=[\"STOCK\", \"WEIGHTS\", \"BUY TH\", \"SELL TH\", \"PROFIT\"])\n"
          ]
        },
        {
          "output_type": "stream",
          "name": "stdout",
          "text": [
            "    0   1       2\n",
            "0  62  74 3584.08\n",
            "1  63  74 3584.08\n",
            "2  70  77 3252.28\n",
            "3  61  79 3223.81\n",
            "4  61  77 3223.81\n",
            "3. Deneme\n"
          ]
        },
        {
          "output_type": "stream",
          "name": "stderr",
          "text": [
            "<ipython-input-294-66fc1ce873bd>:316: VisibleDeprecationWarning: Creating an ndarray from ragged nested sequences (which is a list-or-tuple of lists-or-tuples-or ndarrays with different lengths or shapes) is deprecated. If you meant to do this, you must specify 'dtype=object' when creating the ndarray.\n",
            "  concat_df = pd.DataFrame(np.array([stock, indicators, tries[0][0], tries[1][0], tries[2][0]]).reshape(1,5), columns=[\"STOCK\", \"WEIGHTS\", \"BUY TH\", \"SELL TH\", \"PROFIT\"])\n"
          ]
        },
        {
          "output_type": "stream",
          "name": "stdout",
          "text": [
            "    0   1       2\n",
            "0  62  65 3419.55\n",
            "1  64  65 3017.60\n",
            "2  63  65 3017.60\n",
            "3  62  67 2834.31\n",
            "4  62  66 2834.31\n",
            "4. Deneme\n"
          ]
        },
        {
          "output_type": "stream",
          "name": "stderr",
          "text": [
            "<ipython-input-294-66fc1ce873bd>:316: VisibleDeprecationWarning: Creating an ndarray from ragged nested sequences (which is a list-or-tuple of lists-or-tuples-or ndarrays with different lengths or shapes) is deprecated. If you meant to do this, you must specify 'dtype=object' when creating the ndarray.\n",
            "  concat_df = pd.DataFrame(np.array([stock, indicators, tries[0][0], tries[1][0], tries[2][0]]).reshape(1,5), columns=[\"STOCK\", \"WEIGHTS\", \"BUY TH\", \"SELL TH\", \"PROFIT\"])\n"
          ]
        },
        {
          "output_type": "stream",
          "name": "stdout",
          "text": [
            "    0   1       2\n",
            "0  68  69 3275.93\n",
            "1  68  70 2721.00\n",
            "2  71  69 2678.97\n",
            "3  72  69 2678.97\n",
            "4  70  69 2531.64\n",
            "5. Deneme\n"
          ]
        },
        {
          "output_type": "stream",
          "name": "stderr",
          "text": [
            "<ipython-input-294-66fc1ce873bd>:316: VisibleDeprecationWarning: Creating an ndarray from ragged nested sequences (which is a list-or-tuple of lists-or-tuples-or ndarrays with different lengths or shapes) is deprecated. If you meant to do this, you must specify 'dtype=object' when creating the ndarray.\n",
            "  concat_df = pd.DataFrame(np.array([stock, indicators, tries[0][0], tries[1][0], tries[2][0]]).reshape(1,5), columns=[\"STOCK\", \"WEIGHTS\", \"BUY TH\", \"SELL TH\", \"PROFIT\"])\n"
          ]
        },
        {
          "output_type": "stream",
          "name": "stdout",
          "text": [
            "    0   1       2\n",
            "0  62  75 4347.87\n",
            "1  62  76 4347.87\n",
            "2  66  76 4247.46\n",
            "3  66  75 4247.46\n",
            "4  64  76 3624.53\n",
            "6. Deneme\n"
          ]
        },
        {
          "output_type": "stream",
          "name": "stderr",
          "text": [
            "<ipython-input-294-66fc1ce873bd>:316: VisibleDeprecationWarning: Creating an ndarray from ragged nested sequences (which is a list-or-tuple of lists-or-tuples-or ndarrays with different lengths or shapes) is deprecated. If you meant to do this, you must specify 'dtype=object' when creating the ndarray.\n",
            "  concat_df = pd.DataFrame(np.array([stock, indicators, tries[0][0], tries[1][0], tries[2][0]]).reshape(1,5), columns=[\"STOCK\", \"WEIGHTS\", \"BUY TH\", \"SELL TH\", \"PROFIT\"])\n"
          ]
        },
        {
          "output_type": "stream",
          "name": "stdout",
          "text": [
            "    0   1       2\n",
            "0  67  70 3291.17\n",
            "1  68  71 3291.17\n",
            "2  68  70 3291.17\n",
            "3  67  71 3291.17\n",
            "4  75  79 3234.44\n",
            "7. Deneme\n"
          ]
        },
        {
          "output_type": "stream",
          "name": "stderr",
          "text": [
            "<ipython-input-294-66fc1ce873bd>:316: VisibleDeprecationWarning: Creating an ndarray from ragged nested sequences (which is a list-or-tuple of lists-or-tuples-or ndarrays with different lengths or shapes) is deprecated. If you meant to do this, you must specify 'dtype=object' when creating the ndarray.\n",
            "  concat_df = pd.DataFrame(np.array([stock, indicators, tries[0][0], tries[1][0], tries[2][0]]).reshape(1,5), columns=[\"STOCK\", \"WEIGHTS\", \"BUY TH\", \"SELL TH\", \"PROFIT\"])\n"
          ]
        },
        {
          "output_type": "stream",
          "name": "stdout",
          "text": [
            "    0   1       2\n",
            "0  50  62 2697.51\n",
            "1  49  61 2697.51\n",
            "2  49  62 2697.51\n",
            "3  50  61 2697.51\n",
            "4  58  62 2512.08\n",
            "8. Deneme\n"
          ]
        },
        {
          "output_type": "stream",
          "name": "stderr",
          "text": [
            "<ipython-input-294-66fc1ce873bd>:316: VisibleDeprecationWarning: Creating an ndarray from ragged nested sequences (which is a list-or-tuple of lists-or-tuples-or ndarrays with different lengths or shapes) is deprecated. If you meant to do this, you must specify 'dtype=object' when creating the ndarray.\n",
            "  concat_df = pd.DataFrame(np.array([stock, indicators, tries[0][0], tries[1][0], tries[2][0]]).reshape(1,5), columns=[\"STOCK\", \"WEIGHTS\", \"BUY TH\", \"SELL TH\", \"PROFIT\"])\n"
          ]
        },
        {
          "output_type": "stream",
          "name": "stdout",
          "text": [
            "    0   1       2\n",
            "0  66  73 4700.33\n",
            "1  65  73 4700.33\n",
            "2  67  73 3973.54\n",
            "3  68  73 3765.13\n",
            "4  69  73 3765.13\n",
            "9. Deneme\n"
          ]
        },
        {
          "output_type": "stream",
          "name": "stderr",
          "text": [
            "<ipython-input-294-66fc1ce873bd>:316: VisibleDeprecationWarning: Creating an ndarray from ragged nested sequences (which is a list-or-tuple of lists-or-tuples-or ndarrays with different lengths or shapes) is deprecated. If you meant to do this, you must specify 'dtype=object' when creating the ndarray.\n",
            "  concat_df = pd.DataFrame(np.array([stock, indicators, tries[0][0], tries[1][0], tries[2][0]]).reshape(1,5), columns=[\"STOCK\", \"WEIGHTS\", \"BUY TH\", \"SELL TH\", \"PROFIT\"])\n"
          ]
        },
        {
          "output_type": "stream",
          "name": "stdout",
          "text": [
            "    0   1       2\n",
            "0  69  79 3801.36\n",
            "1  57  58 3513.71\n",
            "2  57  59 3513.71\n",
            "3  70  74 3250.38\n",
            "4  71  74 3250.38\n",
            "GUBRF.IS\n"
          ]
        },
        {
          "output_type": "stream",
          "name": "stderr",
          "text": [
            "<ipython-input-294-66fc1ce873bd>:316: VisibleDeprecationWarning: Creating an ndarray from ragged nested sequences (which is a list-or-tuple of lists-or-tuples-or ndarrays with different lengths or shapes) is deprecated. If you meant to do this, you must specify 'dtype=object' when creating the ndarray.\n",
            "  concat_df = pd.DataFrame(np.array([stock, indicators, tries[0][0], tries[1][0], tries[2][0]]).reshape(1,5), columns=[\"STOCK\", \"WEIGHTS\", \"BUY TH\", \"SELL TH\", \"PROFIT\"])\n"
          ]
        },
        {
          "output_type": "stream",
          "name": "stdout",
          "text": [
            "0. Deneme\n",
            "    0   1       2\n",
            "0  42  53 8015.60\n",
            "1  42  51 8015.60\n",
            "2  43  50 8015.60\n",
            "3  42  50 8015.60\n",
            "4  43  51 8015.60\n",
            "1. Deneme\n"
          ]
        },
        {
          "output_type": "stream",
          "name": "stderr",
          "text": [
            "<ipython-input-294-66fc1ce873bd>:316: VisibleDeprecationWarning: Creating an ndarray from ragged nested sequences (which is a list-or-tuple of lists-or-tuples-or ndarrays with different lengths or shapes) is deprecated. If you meant to do this, you must specify 'dtype=object' when creating the ndarray.\n",
            "  concat_df = pd.DataFrame(np.array([stock, indicators, tries[0][0], tries[1][0], tries[2][0]]).reshape(1,5), columns=[\"STOCK\", \"WEIGHTS\", \"BUY TH\", \"SELL TH\", \"PROFIT\"])\n"
          ]
        },
        {
          "output_type": "stream",
          "name": "stdout",
          "text": [
            "    0   1       2\n",
            "0  40  40 6422.53\n",
            "1  40  41 6422.53\n",
            "2  43  42 6422.53\n",
            "3  42  42 6422.53\n",
            "4  42  41 6422.53\n",
            "2. Deneme\n"
          ]
        },
        {
          "output_type": "stream",
          "name": "stderr",
          "text": [
            "<ipython-input-294-66fc1ce873bd>:316: VisibleDeprecationWarning: Creating an ndarray from ragged nested sequences (which is a list-or-tuple of lists-or-tuples-or ndarrays with different lengths or shapes) is deprecated. If you meant to do this, you must specify 'dtype=object' when creating the ndarray.\n",
            "  concat_df = pd.DataFrame(np.array([stock, indicators, tries[0][0], tries[1][0], tries[2][0]]).reshape(1,5), columns=[\"STOCK\", \"WEIGHTS\", \"BUY TH\", \"SELL TH\", \"PROFIT\"])\n"
          ]
        },
        {
          "output_type": "stream",
          "name": "stdout",
          "text": [
            "    0   1       2\n",
            "0  53  56 7913.09\n",
            "1  53  55 7913.09\n",
            "2  54  55 7691.11\n",
            "3  54  56 7691.11\n",
            "4  43  49 7599.91\n",
            "3. Deneme\n"
          ]
        },
        {
          "output_type": "stream",
          "name": "stderr",
          "text": [
            "<ipython-input-294-66fc1ce873bd>:316: VisibleDeprecationWarning: Creating an ndarray from ragged nested sequences (which is a list-or-tuple of lists-or-tuples-or ndarrays with different lengths or shapes) is deprecated. If you meant to do this, you must specify 'dtype=object' when creating the ndarray.\n",
            "  concat_df = pd.DataFrame(np.array([stock, indicators, tries[0][0], tries[1][0], tries[2][0]]).reshape(1,5), columns=[\"STOCK\", \"WEIGHTS\", \"BUY TH\", \"SELL TH\", \"PROFIT\"])\n"
          ]
        },
        {
          "output_type": "stream",
          "name": "stdout",
          "text": [
            "    0   1       2\n",
            "0  40  46 7522.64\n",
            "1  41  46 7522.64\n",
            "2  40  43 7245.94\n",
            "3  40  44 7245.94\n",
            "4  40  45 7245.94\n",
            "4. Deneme\n"
          ]
        },
        {
          "output_type": "stream",
          "name": "stderr",
          "text": [
            "<ipython-input-294-66fc1ce873bd>:316: VisibleDeprecationWarning: Creating an ndarray from ragged nested sequences (which is a list-or-tuple of lists-or-tuples-or ndarrays with different lengths or shapes) is deprecated. If you meant to do this, you must specify 'dtype=object' when creating the ndarray.\n",
            "  concat_df = pd.DataFrame(np.array([stock, indicators, tries[0][0], tries[1][0], tries[2][0]]).reshape(1,5), columns=[\"STOCK\", \"WEIGHTS\", \"BUY TH\", \"SELL TH\", \"PROFIT\"])\n"
          ]
        },
        {
          "output_type": "stream",
          "name": "stdout",
          "text": [
            "    0   1       2\n",
            "0  55  43 6510.47\n",
            "1  55  42 6510.47\n",
            "2  54  43 6510.47\n",
            "3  54  42 6510.47\n",
            "4  56  43 6510.47\n",
            "5. Deneme\n"
          ]
        },
        {
          "output_type": "stream",
          "name": "stderr",
          "text": [
            "<ipython-input-294-66fc1ce873bd>:316: VisibleDeprecationWarning: Creating an ndarray from ragged nested sequences (which is a list-or-tuple of lists-or-tuples-or ndarrays with different lengths or shapes) is deprecated. If you meant to do this, you must specify 'dtype=object' when creating the ndarray.\n",
            "  concat_df = pd.DataFrame(np.array([stock, indicators, tries[0][0], tries[1][0], tries[2][0]]).reshape(1,5), columns=[\"STOCK\", \"WEIGHTS\", \"BUY TH\", \"SELL TH\", \"PROFIT\"])\n"
          ]
        },
        {
          "output_type": "stream",
          "name": "stdout",
          "text": [
            "    0   1       2\n",
            "0  48  52 6729.68\n",
            "1  48  51 6530.92\n",
            "2  48  50 6530.92\n",
            "3  48  49 6530.92\n",
            "4  48  54 5959.45\n",
            "6. Deneme\n"
          ]
        },
        {
          "output_type": "stream",
          "name": "stderr",
          "text": [
            "<ipython-input-294-66fc1ce873bd>:316: VisibleDeprecationWarning: Creating an ndarray from ragged nested sequences (which is a list-or-tuple of lists-or-tuples-or ndarrays with different lengths or shapes) is deprecated. If you meant to do this, you must specify 'dtype=object' when creating the ndarray.\n",
            "  concat_df = pd.DataFrame(np.array([stock, indicators, tries[0][0], tries[1][0], tries[2][0]]).reshape(1,5), columns=[\"STOCK\", \"WEIGHTS\", \"BUY TH\", \"SELL TH\", \"PROFIT\"])\n"
          ]
        },
        {
          "output_type": "stream",
          "name": "stdout",
          "text": [
            "    0   1       2\n",
            "0  45  48 6613.86\n",
            "1  46  48 6613.86\n",
            "2  44  48 6613.86\n",
            "3  43  48 6613.86\n",
            "4  42  48 6613.86\n",
            "7. Deneme\n"
          ]
        },
        {
          "output_type": "stream",
          "name": "stderr",
          "text": [
            "<ipython-input-294-66fc1ce873bd>:316: VisibleDeprecationWarning: Creating an ndarray from ragged nested sequences (which is a list-or-tuple of lists-or-tuples-or ndarrays with different lengths or shapes) is deprecated. If you meant to do this, you must specify 'dtype=object' when creating the ndarray.\n",
            "  concat_df = pd.DataFrame(np.array([stock, indicators, tries[0][0], tries[1][0], tries[2][0]]).reshape(1,5), columns=[\"STOCK\", \"WEIGHTS\", \"BUY TH\", \"SELL TH\", \"PROFIT\"])\n"
          ]
        },
        {
          "output_type": "stream",
          "name": "stdout",
          "text": [
            "    0   1       2\n",
            "0  41  47 7033.05\n",
            "1  41  50 7033.05\n",
            "2  41  48 7033.05\n",
            "3  41  49 7033.05\n",
            "4  47  50 6814.96\n",
            "8. Deneme\n"
          ]
        },
        {
          "output_type": "stream",
          "name": "stderr",
          "text": [
            "<ipython-input-294-66fc1ce873bd>:316: VisibleDeprecationWarning: Creating an ndarray from ragged nested sequences (which is a list-or-tuple of lists-or-tuples-or ndarrays with different lengths or shapes) is deprecated. If you meant to do this, you must specify 'dtype=object' when creating the ndarray.\n",
            "  concat_df = pd.DataFrame(np.array([stock, indicators, tries[0][0], tries[1][0], tries[2][0]]).reshape(1,5), columns=[\"STOCK\", \"WEIGHTS\", \"BUY TH\", \"SELL TH\", \"PROFIT\"])\n"
          ]
        },
        {
          "output_type": "stream",
          "name": "stdout",
          "text": [
            "    0   1       2\n",
            "0  42  48 7288.25\n",
            "1  41  48 7288.25\n",
            "2  44  48 7043.16\n",
            "3  45  48 7043.16\n",
            "4  43  48 7043.16\n",
            "9. Deneme\n"
          ]
        },
        {
          "output_type": "stream",
          "name": "stderr",
          "text": [
            "<ipython-input-294-66fc1ce873bd>:316: VisibleDeprecationWarning: Creating an ndarray from ragged nested sequences (which is a list-or-tuple of lists-or-tuples-or ndarrays with different lengths or shapes) is deprecated. If you meant to do this, you must specify 'dtype=object' when creating the ndarray.\n",
            "  concat_df = pd.DataFrame(np.array([stock, indicators, tries[0][0], tries[1][0], tries[2][0]]).reshape(1,5), columns=[\"STOCK\", \"WEIGHTS\", \"BUY TH\", \"SELL TH\", \"PROFIT\"])\n"
          ]
        },
        {
          "output_type": "stream",
          "name": "stdout",
          "text": [
            "    0   1       2\n",
            "0  58  60 6847.91\n",
            "1  57  60 6847.91\n",
            "2  57  61 6847.91\n",
            "3  58  61 6847.91\n",
            "4  57  63 6825.93\n",
            "HEKTS.IS\n"
          ]
        },
        {
          "output_type": "stream",
          "name": "stderr",
          "text": [
            "<ipython-input-294-66fc1ce873bd>:316: VisibleDeprecationWarning: Creating an ndarray from ragged nested sequences (which is a list-or-tuple of lists-or-tuples-or ndarrays with different lengths or shapes) is deprecated. If you meant to do this, you must specify 'dtype=object' when creating the ndarray.\n",
            "  concat_df = pd.DataFrame(np.array([stock, indicators, tries[0][0], tries[1][0], tries[2][0]]).reshape(1,5), columns=[\"STOCK\", \"WEIGHTS\", \"BUY TH\", \"SELL TH\", \"PROFIT\"])\n"
          ]
        },
        {
          "output_type": "stream",
          "name": "stdout",
          "text": [
            "0. Deneme\n",
            "    0   1        2\n",
            "0  73  65 12041.99\n",
            "1  73  66 12041.99\n",
            "2  73  61 12035.08\n",
            "3  73  60 12035.08\n",
            "4  73  64 12024.97\n",
            "1. Deneme\n"
          ]
        },
        {
          "output_type": "stream",
          "name": "stderr",
          "text": [
            "<ipython-input-294-66fc1ce873bd>:316: VisibleDeprecationWarning: Creating an ndarray from ragged nested sequences (which is a list-or-tuple of lists-or-tuples-or ndarrays with different lengths or shapes) is deprecated. If you meant to do this, you must specify 'dtype=object' when creating the ndarray.\n",
            "  concat_df = pd.DataFrame(np.array([stock, indicators, tries[0][0], tries[1][0], tries[2][0]]).reshape(1,5), columns=[\"STOCK\", \"WEIGHTS\", \"BUY TH\", \"SELL TH\", \"PROFIT\"])\n"
          ]
        },
        {
          "output_type": "stream",
          "name": "stdout",
          "text": [
            "    0   1        2\n",
            "0  73  43 14380.91\n",
            "1  73  51 14256.68\n",
            "2  73  50 14256.68\n",
            "3  73  56 14256.68\n",
            "4  73  55 14256.68\n",
            "2. Deneme\n"
          ]
        },
        {
          "output_type": "stream",
          "name": "stderr",
          "text": [
            "<ipython-input-294-66fc1ce873bd>:316: VisibleDeprecationWarning: Creating an ndarray from ragged nested sequences (which is a list-or-tuple of lists-or-tuples-or ndarrays with different lengths or shapes) is deprecated. If you meant to do this, you must specify 'dtype=object' when creating the ndarray.\n",
            "  concat_df = pd.DataFrame(np.array([stock, indicators, tries[0][0], tries[1][0], tries[2][0]]).reshape(1,5), columns=[\"STOCK\", \"WEIGHTS\", \"BUY TH\", \"SELL TH\", \"PROFIT\"])\n"
          ]
        },
        {
          "output_type": "stream",
          "name": "stdout",
          "text": [
            "    0   1        2\n",
            "0  73  43 14936.66\n",
            "1  73  44 14936.66\n",
            "2  73  42 14616.06\n",
            "3  73  52 14245.59\n",
            "4  73  48 14245.59\n",
            "3. Deneme\n"
          ]
        },
        {
          "output_type": "stream",
          "name": "stderr",
          "text": [
            "<ipython-input-294-66fc1ce873bd>:316: VisibleDeprecationWarning: Creating an ndarray from ragged nested sequences (which is a list-or-tuple of lists-or-tuples-or ndarrays with different lengths or shapes) is deprecated. If you meant to do this, you must specify 'dtype=object' when creating the ndarray.\n",
            "  concat_df = pd.DataFrame(np.array([stock, indicators, tries[0][0], tries[1][0], tries[2][0]]).reshape(1,5), columns=[\"STOCK\", \"WEIGHTS\", \"BUY TH\", \"SELL TH\", \"PROFIT\"])\n"
          ]
        },
        {
          "output_type": "stream",
          "name": "stdout",
          "text": [
            "    0   1        2\n",
            "0  75  51 14806.12\n",
            "1  75  52 14806.12\n",
            "2  73  52 14806.12\n",
            "3  73  51 14806.12\n",
            "4  74  52 14806.12\n",
            "4. Deneme\n"
          ]
        },
        {
          "output_type": "stream",
          "name": "stderr",
          "text": [
            "<ipython-input-294-66fc1ce873bd>:316: VisibleDeprecationWarning: Creating an ndarray from ragged nested sequences (which is a list-or-tuple of lists-or-tuples-or ndarrays with different lengths or shapes) is deprecated. If you meant to do this, you must specify 'dtype=object' when creating the ndarray.\n",
            "  concat_df = pd.DataFrame(np.array([stock, indicators, tries[0][0], tries[1][0], tries[2][0]]).reshape(1,5), columns=[\"STOCK\", \"WEIGHTS\", \"BUY TH\", \"SELL TH\", \"PROFIT\"])\n"
          ]
        },
        {
          "output_type": "stream",
          "name": "stdout",
          "text": [
            "    0   1        2\n",
            "0  74  74 13326.79\n",
            "1  74  75 13326.79\n",
            "2  75  75 13326.79\n",
            "3  75  74 13326.79\n",
            "4  71  50 12845.93\n",
            "5. Deneme\n"
          ]
        },
        {
          "output_type": "stream",
          "name": "stderr",
          "text": [
            "<ipython-input-294-66fc1ce873bd>:316: VisibleDeprecationWarning: Creating an ndarray from ragged nested sequences (which is a list-or-tuple of lists-or-tuples-or ndarrays with different lengths or shapes) is deprecated. If you meant to do this, you must specify 'dtype=object' when creating the ndarray.\n",
            "  concat_df = pd.DataFrame(np.array([stock, indicators, tries[0][0], tries[1][0], tries[2][0]]).reshape(1,5), columns=[\"STOCK\", \"WEIGHTS\", \"BUY TH\", \"SELL TH\", \"PROFIT\"])\n"
          ]
        },
        {
          "output_type": "stream",
          "name": "stdout",
          "text": [
            "    0   1        2\n",
            "0  66  58 14834.33\n",
            "1  65  58 14834.33\n",
            "2  67  58 14834.33\n",
            "3  65  59 14492.73\n",
            "4  66  59 14492.73\n",
            "6. Deneme\n"
          ]
        },
        {
          "output_type": "stream",
          "name": "stderr",
          "text": [
            "<ipython-input-294-66fc1ce873bd>:316: VisibleDeprecationWarning: Creating an ndarray from ragged nested sequences (which is a list-or-tuple of lists-or-tuples-or ndarrays with different lengths or shapes) is deprecated. If you meant to do this, you must specify 'dtype=object' when creating the ndarray.\n",
            "  concat_df = pd.DataFrame(np.array([stock, indicators, tries[0][0], tries[1][0], tries[2][0]]).reshape(1,5), columns=[\"STOCK\", \"WEIGHTS\", \"BUY TH\", \"SELL TH\", \"PROFIT\"])\n"
          ]
        },
        {
          "output_type": "stream",
          "name": "stdout",
          "text": [
            "    0   1        2\n",
            "0  68  61 15276.28\n",
            "1  68  62 15276.28\n",
            "2  67  61 15272.15\n",
            "3  67  62 15272.15\n",
            "4  68  66 15121.68\n",
            "7. Deneme\n"
          ]
        },
        {
          "output_type": "stream",
          "name": "stderr",
          "text": [
            "<ipython-input-294-66fc1ce873bd>:316: VisibleDeprecationWarning: Creating an ndarray from ragged nested sequences (which is a list-or-tuple of lists-or-tuples-or ndarrays with different lengths or shapes) is deprecated. If you meant to do this, you must specify 'dtype=object' when creating the ndarray.\n",
            "  concat_df = pd.DataFrame(np.array([stock, indicators, tries[0][0], tries[1][0], tries[2][0]]).reshape(1,5), columns=[\"STOCK\", \"WEIGHTS\", \"BUY TH\", \"SELL TH\", \"PROFIT\"])\n"
          ]
        },
        {
          "output_type": "stream",
          "name": "stdout",
          "text": [
            "    0   1        2\n",
            "0  70  42 12523.10\n",
            "1  65  56 12479.85\n",
            "2  68  56 12479.85\n",
            "3  65  55 12479.85\n",
            "4  67  55 12479.85\n",
            "8. Deneme\n"
          ]
        },
        {
          "output_type": "stream",
          "name": "stderr",
          "text": [
            "<ipython-input-294-66fc1ce873bd>:316: VisibleDeprecationWarning: Creating an ndarray from ragged nested sequences (which is a list-or-tuple of lists-or-tuples-or ndarrays with different lengths or shapes) is deprecated. If you meant to do this, you must specify 'dtype=object' when creating the ndarray.\n",
            "  concat_df = pd.DataFrame(np.array([stock, indicators, tries[0][0], tries[1][0], tries[2][0]]).reshape(1,5), columns=[\"STOCK\", \"WEIGHTS\", \"BUY TH\", \"SELL TH\", \"PROFIT\"])\n"
          ]
        },
        {
          "output_type": "stream",
          "name": "stdout",
          "text": [
            "    0   1        2\n",
            "0  66  60 14072.95\n",
            "1  67  60 14072.95\n",
            "2  72  60 12978.70\n",
            "3  69  60 12978.70\n",
            "4  70  60 12978.70\n",
            "9. Deneme\n"
          ]
        },
        {
          "output_type": "stream",
          "name": "stderr",
          "text": [
            "<ipython-input-294-66fc1ce873bd>:316: VisibleDeprecationWarning: Creating an ndarray from ragged nested sequences (which is a list-or-tuple of lists-or-tuples-or ndarrays with different lengths or shapes) is deprecated. If you meant to do this, you must specify 'dtype=object' when creating the ndarray.\n",
            "  concat_df = pd.DataFrame(np.array([stock, indicators, tries[0][0], tries[1][0], tries[2][0]]).reshape(1,5), columns=[\"STOCK\", \"WEIGHTS\", \"BUY TH\", \"SELL TH\", \"PROFIT\"])\n"
          ]
        },
        {
          "output_type": "stream",
          "name": "stdout",
          "text": [
            "    0   1        2\n",
            "0  75  54 13598.52\n",
            "1  75  53 13598.52\n",
            "2  75  64 13527.32\n",
            "3  75  51 13300.78\n",
            "4  75  50 13300.78\n",
            "KRDMD.IS\n"
          ]
        },
        {
          "output_type": "stream",
          "name": "stderr",
          "text": [
            "<ipython-input-294-66fc1ce873bd>:316: VisibleDeprecationWarning: Creating an ndarray from ragged nested sequences (which is a list-or-tuple of lists-or-tuples-or ndarrays with different lengths or shapes) is deprecated. If you meant to do this, you must specify 'dtype=object' when creating the ndarray.\n",
            "  concat_df = pd.DataFrame(np.array([stock, indicators, tries[0][0], tries[1][0], tries[2][0]]).reshape(1,5), columns=[\"STOCK\", \"WEIGHTS\", \"BUY TH\", \"SELL TH\", \"PROFIT\"])\n"
          ]
        },
        {
          "output_type": "stream",
          "name": "stdout",
          "text": [
            "0. Deneme\n",
            "    0   1       2\n",
            "0  71  77 2108.93\n",
            "1  71  76 2108.93\n",
            "2  72  77 2108.93\n",
            "3  72  76 2108.93\n",
            "4  71  78 1831.25\n",
            "1. Deneme\n"
          ]
        },
        {
          "output_type": "stream",
          "name": "stderr",
          "text": [
            "<ipython-input-294-66fc1ce873bd>:316: VisibleDeprecationWarning: Creating an ndarray from ragged nested sequences (which is a list-or-tuple of lists-or-tuples-or ndarrays with different lengths or shapes) is deprecated. If you meant to do this, you must specify 'dtype=object' when creating the ndarray.\n",
            "  concat_df = pd.DataFrame(np.array([stock, indicators, tries[0][0], tries[1][0], tries[2][0]]).reshape(1,5), columns=[\"STOCK\", \"WEIGHTS\", \"BUY TH\", \"SELL TH\", \"PROFIT\"])\n"
          ]
        },
        {
          "output_type": "stream",
          "name": "stdout",
          "text": [
            "    0   1       2\n",
            "0  74  77 2920.25\n",
            "1  74  78 2676.60\n",
            "2  74  79 2362.65\n",
            "3  74  76 2300.91\n",
            "4  74  75 2300.91\n",
            "2. Deneme\n"
          ]
        },
        {
          "output_type": "stream",
          "name": "stderr",
          "text": [
            "<ipython-input-294-66fc1ce873bd>:316: VisibleDeprecationWarning: Creating an ndarray from ragged nested sequences (which is a list-or-tuple of lists-or-tuples-or ndarrays with different lengths or shapes) is deprecated. If you meant to do this, you must specify 'dtype=object' when creating the ndarray.\n",
            "  concat_df = pd.DataFrame(np.array([stock, indicators, tries[0][0], tries[1][0], tries[2][0]]).reshape(1,5), columns=[\"STOCK\", \"WEIGHTS\", \"BUY TH\", \"SELL TH\", \"PROFIT\"])\n"
          ]
        },
        {
          "output_type": "stream",
          "name": "stdout",
          "text": [
            "    0   1       2\n",
            "0  40  59 1988.42\n",
            "1  41  59 1988.42\n",
            "2  40  61 1846.25\n",
            "3  40  60 1846.25\n",
            "4  41  61 1846.25\n",
            "3. Deneme\n"
          ]
        },
        {
          "output_type": "stream",
          "name": "stderr",
          "text": [
            "<ipython-input-294-66fc1ce873bd>:316: VisibleDeprecationWarning: Creating an ndarray from ragged nested sequences (which is a list-or-tuple of lists-or-tuples-or ndarrays with different lengths or shapes) is deprecated. If you meant to do this, you must specify 'dtype=object' when creating the ndarray.\n",
            "  concat_df = pd.DataFrame(np.array([stock, indicators, tries[0][0], tries[1][0], tries[2][0]]).reshape(1,5), columns=[\"STOCK\", \"WEIGHTS\", \"BUY TH\", \"SELL TH\", \"PROFIT\"])\n"
          ]
        },
        {
          "output_type": "stream",
          "name": "stdout",
          "text": [
            "    0   1       2\n",
            "0  65  75 2758.44\n",
            "1  65  76 2758.44\n",
            "2  66  76 2687.77\n",
            "3  67  75 2687.77\n",
            "4  67  76 2687.77\n",
            "4. Deneme\n"
          ]
        },
        {
          "output_type": "stream",
          "name": "stderr",
          "text": [
            "<ipython-input-294-66fc1ce873bd>:316: VisibleDeprecationWarning: Creating an ndarray from ragged nested sequences (which is a list-or-tuple of lists-or-tuples-or ndarrays with different lengths or shapes) is deprecated. If you meant to do this, you must specify 'dtype=object' when creating the ndarray.\n",
            "  concat_df = pd.DataFrame(np.array([stock, indicators, tries[0][0], tries[1][0], tries[2][0]]).reshape(1,5), columns=[\"STOCK\", \"WEIGHTS\", \"BUY TH\", \"SELL TH\", \"PROFIT\"])\n"
          ]
        },
        {
          "output_type": "stream",
          "name": "stdout",
          "text": [
            "    0   1       2\n",
            "0  46  78 2238.34\n",
            "1  46  79 2238.34\n",
            "2  47  79 2238.34\n",
            "3  47  78 2238.34\n",
            "4  47  65 1891.04\n",
            "5. Deneme\n"
          ]
        },
        {
          "output_type": "stream",
          "name": "stderr",
          "text": [
            "<ipython-input-294-66fc1ce873bd>:316: VisibleDeprecationWarning: Creating an ndarray from ragged nested sequences (which is a list-or-tuple of lists-or-tuples-or ndarrays with different lengths or shapes) is deprecated. If you meant to do this, you must specify 'dtype=object' when creating the ndarray.\n",
            "  concat_df = pd.DataFrame(np.array([stock, indicators, tries[0][0], tries[1][0], tries[2][0]]).reshape(1,5), columns=[\"STOCK\", \"WEIGHTS\", \"BUY TH\", \"SELL TH\", \"PROFIT\"])\n"
          ]
        },
        {
          "output_type": "stream",
          "name": "stdout",
          "text": [
            "    0   1       2\n",
            "0  47  52 1712.91\n",
            "1  46  52 1712.91\n",
            "2  45  52 1689.90\n",
            "3  46  51 1689.36\n",
            "4  47  50 1689.36\n",
            "6. Deneme\n"
          ]
        },
        {
          "output_type": "stream",
          "name": "stderr",
          "text": [
            "<ipython-input-294-66fc1ce873bd>:316: VisibleDeprecationWarning: Creating an ndarray from ragged nested sequences (which is a list-or-tuple of lists-or-tuples-or ndarrays with different lengths or shapes) is deprecated. If you meant to do this, you must specify 'dtype=object' when creating the ndarray.\n",
            "  concat_df = pd.DataFrame(np.array([stock, indicators, tries[0][0], tries[1][0], tries[2][0]]).reshape(1,5), columns=[\"STOCK\", \"WEIGHTS\", \"BUY TH\", \"SELL TH\", \"PROFIT\"])\n"
          ]
        },
        {
          "output_type": "stream",
          "name": "stdout",
          "text": [
            "    0   1       2\n",
            "0  43  49 4145.05\n",
            "1  43  50 4145.05\n",
            "2  42  49 4145.05\n",
            "3  42  50 4145.05\n",
            "4  40  49 4132.06\n",
            "7. Deneme\n"
          ]
        },
        {
          "output_type": "stream",
          "name": "stderr",
          "text": [
            "<ipython-input-294-66fc1ce873bd>:316: VisibleDeprecationWarning: Creating an ndarray from ragged nested sequences (which is a list-or-tuple of lists-or-tuples-or ndarrays with different lengths or shapes) is deprecated. If you meant to do this, you must specify 'dtype=object' when creating the ndarray.\n",
            "  concat_df = pd.DataFrame(np.array([stock, indicators, tries[0][0], tries[1][0], tries[2][0]]).reshape(1,5), columns=[\"STOCK\", \"WEIGHTS\", \"BUY TH\", \"SELL TH\", \"PROFIT\"])\n"
          ]
        },
        {
          "output_type": "stream",
          "name": "stdout",
          "text": [
            "    0   1       2\n",
            "0  60  75 1985.68\n",
            "1  57  75 1929.20\n",
            "2  65  72 1929.19\n",
            "3  64  72 1929.19\n",
            "4  55  75 1923.86\n",
            "8. Deneme\n"
          ]
        },
        {
          "output_type": "stream",
          "name": "stderr",
          "text": [
            "<ipython-input-294-66fc1ce873bd>:316: VisibleDeprecationWarning: Creating an ndarray from ragged nested sequences (which is a list-or-tuple of lists-or-tuples-or ndarrays with different lengths or shapes) is deprecated. If you meant to do this, you must specify 'dtype=object' when creating the ndarray.\n",
            "  concat_df = pd.DataFrame(np.array([stock, indicators, tries[0][0], tries[1][0], tries[2][0]]).reshape(1,5), columns=[\"STOCK\", \"WEIGHTS\", \"BUY TH\", \"SELL TH\", \"PROFIT\"])\n"
          ]
        },
        {
          "output_type": "stream",
          "name": "stdout",
          "text": [
            "    0   1       2\n",
            "0  49  59 2525.66\n",
            "1  49  57 2525.66\n",
            "2  50  59 2525.66\n",
            "3  50  58 2525.66\n",
            "4  50  57 2525.66\n",
            "9. Deneme\n"
          ]
        },
        {
          "output_type": "stream",
          "name": "stderr",
          "text": [
            "<ipython-input-294-66fc1ce873bd>:316: VisibleDeprecationWarning: Creating an ndarray from ragged nested sequences (which is a list-or-tuple of lists-or-tuples-or ndarrays with different lengths or shapes) is deprecated. If you meant to do this, you must specify 'dtype=object' when creating the ndarray.\n",
            "  concat_df = pd.DataFrame(np.array([stock, indicators, tries[0][0], tries[1][0], tries[2][0]]).reshape(1,5), columns=[\"STOCK\", \"WEIGHTS\", \"BUY TH\", \"SELL TH\", \"PROFIT\"])\n"
          ]
        },
        {
          "output_type": "stream",
          "name": "stdout",
          "text": [
            "    0   1       2\n",
            "0  66  76 2810.57\n",
            "1  66  77 2810.57\n",
            "2  65  77 2810.57\n",
            "3  65  76 2810.57\n",
            "4  67  77 2810.57\n",
            "KCHOL.IS\n"
          ]
        },
        {
          "output_type": "stream",
          "name": "stderr",
          "text": [
            "<ipython-input-294-66fc1ce873bd>:316: VisibleDeprecationWarning: Creating an ndarray from ragged nested sequences (which is a list-or-tuple of lists-or-tuples-or ndarrays with different lengths or shapes) is deprecated. If you meant to do this, you must specify 'dtype=object' when creating the ndarray.\n",
            "  concat_df = pd.DataFrame(np.array([stock, indicators, tries[0][0], tries[1][0], tries[2][0]]).reshape(1,5), columns=[\"STOCK\", \"WEIGHTS\", \"BUY TH\", \"SELL TH\", \"PROFIT\"])\n"
          ]
        },
        {
          "output_type": "stream",
          "name": "stdout",
          "text": [
            "0. Deneme\n",
            "    0   1       2\n",
            "0  49  66 3196.34\n",
            "1  48  66 3196.34\n",
            "2  42  47 3006.44\n",
            "3  42  46 2936.24\n",
            "4  42  45 2936.24\n",
            "1. Deneme\n"
          ]
        },
        {
          "output_type": "stream",
          "name": "stderr",
          "text": [
            "<ipython-input-294-66fc1ce873bd>:316: VisibleDeprecationWarning: Creating an ndarray from ragged nested sequences (which is a list-or-tuple of lists-or-tuples-or ndarrays with different lengths or shapes) is deprecated. If you meant to do this, you must specify 'dtype=object' when creating the ndarray.\n",
            "  concat_df = pd.DataFrame(np.array([stock, indicators, tries[0][0], tries[1][0], tries[2][0]]).reshape(1,5), columns=[\"STOCK\", \"WEIGHTS\", \"BUY TH\", \"SELL TH\", \"PROFIT\"])\n"
          ]
        },
        {
          "output_type": "stream",
          "name": "stdout",
          "text": [
            "    0   1       2\n",
            "0  40  64 5001.17\n",
            "1  40  63 5001.17\n",
            "2  43  63 4992.57\n",
            "3  42  63 4992.57\n",
            "4  42  64 4992.57\n",
            "2. Deneme\n"
          ]
        },
        {
          "output_type": "stream",
          "name": "stderr",
          "text": [
            "<ipython-input-294-66fc1ce873bd>:316: VisibleDeprecationWarning: Creating an ndarray from ragged nested sequences (which is a list-or-tuple of lists-or-tuples-or ndarrays with different lengths or shapes) is deprecated. If you meant to do this, you must specify 'dtype=object' when creating the ndarray.\n",
            "  concat_df = pd.DataFrame(np.array([stock, indicators, tries[0][0], tries[1][0], tries[2][0]]).reshape(1,5), columns=[\"STOCK\", \"WEIGHTS\", \"BUY TH\", \"SELL TH\", \"PROFIT\"])\n"
          ]
        },
        {
          "output_type": "stream",
          "name": "stdout",
          "text": [
            "    0   1       2\n",
            "0  53  78 3762.93\n",
            "1  53  74 3628.80\n",
            "2  51  78 3557.88\n",
            "3  52  78 3557.88\n",
            "4  53  79 3424.11\n",
            "3. Deneme\n"
          ]
        },
        {
          "output_type": "stream",
          "name": "stderr",
          "text": [
            "<ipython-input-294-66fc1ce873bd>:316: VisibleDeprecationWarning: Creating an ndarray from ragged nested sequences (which is a list-or-tuple of lists-or-tuples-or ndarrays with different lengths or shapes) is deprecated. If you meant to do this, you must specify 'dtype=object' when creating the ndarray.\n",
            "  concat_df = pd.DataFrame(np.array([stock, indicators, tries[0][0], tries[1][0], tries[2][0]]).reshape(1,5), columns=[\"STOCK\", \"WEIGHTS\", \"BUY TH\", \"SELL TH\", \"PROFIT\"])\n"
          ]
        },
        {
          "output_type": "stream",
          "name": "stdout",
          "text": [
            "    0   1       2\n",
            "0  48  65 3181.34\n",
            "1  48  58 3117.24\n",
            "2  48  64 3058.48\n",
            "3  48  63 3058.48\n",
            "4  48  59 3040.12\n",
            "4. Deneme\n"
          ]
        },
        {
          "output_type": "stream",
          "name": "stderr",
          "text": [
            "<ipython-input-294-66fc1ce873bd>:316: VisibleDeprecationWarning: Creating an ndarray from ragged nested sequences (which is a list-or-tuple of lists-or-tuples-or ndarrays with different lengths or shapes) is deprecated. If you meant to do this, you must specify 'dtype=object' when creating the ndarray.\n",
            "  concat_df = pd.DataFrame(np.array([stock, indicators, tries[0][0], tries[1][0], tries[2][0]]).reshape(1,5), columns=[\"STOCK\", \"WEIGHTS\", \"BUY TH\", \"SELL TH\", \"PROFIT\"])\n"
          ]
        },
        {
          "output_type": "stream",
          "name": "stdout",
          "text": [
            "    0   1       2\n",
            "0  64  79 3949.62\n",
            "1  65  79 3949.62\n",
            "2  51  71 3725.30\n",
            "3  51  70 3725.30\n",
            "4  65  78 3460.34\n",
            "5. Deneme\n"
          ]
        },
        {
          "output_type": "stream",
          "name": "stderr",
          "text": [
            "<ipython-input-294-66fc1ce873bd>:316: VisibleDeprecationWarning: Creating an ndarray from ragged nested sequences (which is a list-or-tuple of lists-or-tuples-or ndarrays with different lengths or shapes) is deprecated. If you meant to do this, you must specify 'dtype=object' when creating the ndarray.\n",
            "  concat_df = pd.DataFrame(np.array([stock, indicators, tries[0][0], tries[1][0], tries[2][0]]).reshape(1,5), columns=[\"STOCK\", \"WEIGHTS\", \"BUY TH\", \"SELL TH\", \"PROFIT\"])\n"
          ]
        },
        {
          "output_type": "stream",
          "name": "stdout",
          "text": [
            "    0   1       2\n",
            "0  61  74 2805.34\n",
            "1  60  74 2805.34\n",
            "2  61  68 2716.29\n",
            "3  60  68 2716.29\n",
            "4  60  67 2716.29\n",
            "6. Deneme\n"
          ]
        },
        {
          "output_type": "stream",
          "name": "stderr",
          "text": [
            "<ipython-input-294-66fc1ce873bd>:316: VisibleDeprecationWarning: Creating an ndarray from ragged nested sequences (which is a list-or-tuple of lists-or-tuples-or ndarrays with different lengths or shapes) is deprecated. If you meant to do this, you must specify 'dtype=object' when creating the ndarray.\n",
            "  concat_df = pd.DataFrame(np.array([stock, indicators, tries[0][0], tries[1][0], tries[2][0]]).reshape(1,5), columns=[\"STOCK\", \"WEIGHTS\", \"BUY TH\", \"SELL TH\", \"PROFIT\"])\n"
          ]
        },
        {
          "output_type": "stream",
          "name": "stdout",
          "text": [
            "    0   1       2\n",
            "0  64  75 3369.62\n",
            "1  64  76 3107.14\n",
            "2  64  73 3092.24\n",
            "3  64  74 3092.24\n",
            "4  65  75 3060.60\n",
            "7. Deneme\n"
          ]
        },
        {
          "output_type": "stream",
          "name": "stderr",
          "text": [
            "<ipython-input-294-66fc1ce873bd>:316: VisibleDeprecationWarning: Creating an ndarray from ragged nested sequences (which is a list-or-tuple of lists-or-tuples-or ndarrays with different lengths or shapes) is deprecated. If you meant to do this, you must specify 'dtype=object' when creating the ndarray.\n",
            "  concat_df = pd.DataFrame(np.array([stock, indicators, tries[0][0], tries[1][0], tries[2][0]]).reshape(1,5), columns=[\"STOCK\", \"WEIGHTS\", \"BUY TH\", \"SELL TH\", \"PROFIT\"])\n"
          ]
        },
        {
          "output_type": "stream",
          "name": "stdout",
          "text": [
            "    0   1       2\n",
            "0  40  49 3721.62\n",
            "1  41  49 3721.62\n",
            "2  41  48 3721.62\n",
            "3  42  48 3721.62\n",
            "4  42  49 3721.62\n",
            "8. Deneme\n"
          ]
        },
        {
          "output_type": "stream",
          "name": "stderr",
          "text": [
            "<ipython-input-294-66fc1ce873bd>:316: VisibleDeprecationWarning: Creating an ndarray from ragged nested sequences (which is a list-or-tuple of lists-or-tuples-or ndarrays with different lengths or shapes) is deprecated. If you meant to do this, you must specify 'dtype=object' when creating the ndarray.\n",
            "  concat_df = pd.DataFrame(np.array([stock, indicators, tries[0][0], tries[1][0], tries[2][0]]).reshape(1,5), columns=[\"STOCK\", \"WEIGHTS\", \"BUY TH\", \"SELL TH\", \"PROFIT\"])\n"
          ]
        },
        {
          "output_type": "stream",
          "name": "stdout",
          "text": [
            "    0   1       2\n",
            "0  50  74 2858.02\n",
            "1  43  56 2823.84\n",
            "2  43  57 2823.84\n",
            "3  44  57 2823.84\n",
            "4  44  56 2823.84\n",
            "9. Deneme\n"
          ]
        },
        {
          "output_type": "stream",
          "name": "stderr",
          "text": [
            "<ipython-input-294-66fc1ce873bd>:316: VisibleDeprecationWarning: Creating an ndarray from ragged nested sequences (which is a list-or-tuple of lists-or-tuples-or ndarrays with different lengths or shapes) is deprecated. If you meant to do this, you must specify 'dtype=object' when creating the ndarray.\n",
            "  concat_df = pd.DataFrame(np.array([stock, indicators, tries[0][0], tries[1][0], tries[2][0]]).reshape(1,5), columns=[\"STOCK\", \"WEIGHTS\", \"BUY TH\", \"SELL TH\", \"PROFIT\"])\n"
          ]
        },
        {
          "output_type": "stream",
          "name": "stdout",
          "text": [
            "    0   1       2\n",
            "0  68  78 2754.50\n",
            "1  70  78 2754.50\n",
            "2  69  78 2754.50\n",
            "3  70  76 2672.61\n",
            "4  70  77 2672.61\n",
            "KOZAL.IS\n"
          ]
        },
        {
          "output_type": "stream",
          "name": "stderr",
          "text": [
            "<ipython-input-294-66fc1ce873bd>:316: VisibleDeprecationWarning: Creating an ndarray from ragged nested sequences (which is a list-or-tuple of lists-or-tuples-or ndarrays with different lengths or shapes) is deprecated. If you meant to do this, you must specify 'dtype=object' when creating the ndarray.\n",
            "  concat_df = pd.DataFrame(np.array([stock, indicators, tries[0][0], tries[1][0], tries[2][0]]).reshape(1,5), columns=[\"STOCK\", \"WEIGHTS\", \"BUY TH\", \"SELL TH\", \"PROFIT\"])\n"
          ]
        },
        {
          "output_type": "stream",
          "name": "stdout",
          "text": [
            "0. Deneme\n",
            "    0   1       2\n",
            "0  63  62 6580.66\n",
            "1  64  62 6580.66\n",
            "2  64  60 6474.55\n",
            "3  63  60 6474.55\n",
            "4  63  61 6474.55\n",
            "1. Deneme\n"
          ]
        },
        {
          "output_type": "stream",
          "name": "stderr",
          "text": [
            "<ipython-input-294-66fc1ce873bd>:316: VisibleDeprecationWarning: Creating an ndarray from ragged nested sequences (which is a list-or-tuple of lists-or-tuples-or ndarrays with different lengths or shapes) is deprecated. If you meant to do this, you must specify 'dtype=object' when creating the ndarray.\n",
            "  concat_df = pd.DataFrame(np.array([stock, indicators, tries[0][0], tries[1][0], tries[2][0]]).reshape(1,5), columns=[\"STOCK\", \"WEIGHTS\", \"BUY TH\", \"SELL TH\", \"PROFIT\"])\n"
          ]
        },
        {
          "output_type": "stream",
          "name": "stdout",
          "text": [
            "    0   1       2\n",
            "0  44  57 6233.65\n",
            "1  43  57 5691.54\n",
            "2  46  57 5654.48\n",
            "3  45  57 5654.48\n",
            "4  73  54 5538.86\n",
            "2. Deneme\n"
          ]
        },
        {
          "output_type": "stream",
          "name": "stderr",
          "text": [
            "<ipython-input-294-66fc1ce873bd>:316: VisibleDeprecationWarning: Creating an ndarray from ragged nested sequences (which is a list-or-tuple of lists-or-tuples-or ndarrays with different lengths or shapes) is deprecated. If you meant to do this, you must specify 'dtype=object' when creating the ndarray.\n",
            "  concat_df = pd.DataFrame(np.array([stock, indicators, tries[0][0], tries[1][0], tries[2][0]]).reshape(1,5), columns=[\"STOCK\", \"WEIGHTS\", \"BUY TH\", \"SELL TH\", \"PROFIT\"])\n"
          ]
        },
        {
          "output_type": "stream",
          "name": "stdout",
          "text": [
            "    0   1       2\n",
            "0  74  79 9793.49\n",
            "1  73  79 9793.49\n",
            "2  74  78 6972.02\n",
            "3  73  78 6972.02\n",
            "4  75  79 6832.20\n",
            "3. Deneme\n"
          ]
        },
        {
          "output_type": "stream",
          "name": "stderr",
          "text": [
            "<ipython-input-294-66fc1ce873bd>:316: VisibleDeprecationWarning: Creating an ndarray from ragged nested sequences (which is a list-or-tuple of lists-or-tuples-or ndarrays with different lengths or shapes) is deprecated. If you meant to do this, you must specify 'dtype=object' when creating the ndarray.\n",
            "  concat_df = pd.DataFrame(np.array([stock, indicators, tries[0][0], tries[1][0], tries[2][0]]).reshape(1,5), columns=[\"STOCK\", \"WEIGHTS\", \"BUY TH\", \"SELL TH\", \"PROFIT\"])\n"
          ]
        },
        {
          "output_type": "stream",
          "name": "stdout",
          "text": [
            "    0   1       2\n",
            "0  40  53 7492.17\n",
            "1  40  54 7492.17\n",
            "2  40  63 7418.70\n",
            "3  40  62 7418.70\n",
            "4  40  61 7418.70\n",
            "4. Deneme\n"
          ]
        },
        {
          "output_type": "stream",
          "name": "stderr",
          "text": [
            "<ipython-input-294-66fc1ce873bd>:316: VisibleDeprecationWarning: Creating an ndarray from ragged nested sequences (which is a list-or-tuple of lists-or-tuples-or ndarrays with different lengths or shapes) is deprecated. If you meant to do this, you must specify 'dtype=object' when creating the ndarray.\n",
            "  concat_df = pd.DataFrame(np.array([stock, indicators, tries[0][0], tries[1][0], tries[2][0]]).reshape(1,5), columns=[\"STOCK\", \"WEIGHTS\", \"BUY TH\", \"SELL TH\", \"PROFIT\"])\n"
          ]
        },
        {
          "output_type": "stream",
          "name": "stdout",
          "text": [
            "    0   1       2\n",
            "0  64  68 6978.87\n",
            "1  63  68 6978.87\n",
            "2  62  66 6729.95\n",
            "3  62  67 6729.95\n",
            "4  65  68 6573.07\n",
            "5. Deneme\n"
          ]
        },
        {
          "output_type": "stream",
          "name": "stderr",
          "text": [
            "<ipython-input-294-66fc1ce873bd>:316: VisibleDeprecationWarning: Creating an ndarray from ragged nested sequences (which is a list-or-tuple of lists-or-tuples-or ndarrays with different lengths or shapes) is deprecated. If you meant to do this, you must specify 'dtype=object' when creating the ndarray.\n",
            "  concat_df = pd.DataFrame(np.array([stock, indicators, tries[0][0], tries[1][0], tries[2][0]]).reshape(1,5), columns=[\"STOCK\", \"WEIGHTS\", \"BUY TH\", \"SELL TH\", \"PROFIT\"])\n"
          ]
        },
        {
          "output_type": "stream",
          "name": "stdout",
          "text": [
            "    0   1       2\n",
            "0  68  55 6274.65\n",
            "1  68  56 6274.65\n",
            "2  67  55 6274.65\n",
            "3  67  56 6274.65\n",
            "4  70  56 6197.83\n",
            "6. Deneme\n"
          ]
        },
        {
          "output_type": "stream",
          "name": "stderr",
          "text": [
            "<ipython-input-294-66fc1ce873bd>:316: VisibleDeprecationWarning: Creating an ndarray from ragged nested sequences (which is a list-or-tuple of lists-or-tuples-or ndarrays with different lengths or shapes) is deprecated. If you meant to do this, you must specify 'dtype=object' when creating the ndarray.\n",
            "  concat_df = pd.DataFrame(np.array([stock, indicators, tries[0][0], tries[1][0], tries[2][0]]).reshape(1,5), columns=[\"STOCK\", \"WEIGHTS\", \"BUY TH\", \"SELL TH\", \"PROFIT\"])\n"
          ]
        },
        {
          "output_type": "stream",
          "name": "stdout",
          "text": [
            "    0   1       2\n",
            "0  69  72 6758.59\n",
            "1  69  73 6758.59\n",
            "2  71  73 5962.43\n",
            "3  71  72 5962.43\n",
            "4  70  73 5962.43\n",
            "7. Deneme\n"
          ]
        },
        {
          "output_type": "stream",
          "name": "stderr",
          "text": [
            "<ipython-input-294-66fc1ce873bd>:316: VisibleDeprecationWarning: Creating an ndarray from ragged nested sequences (which is a list-or-tuple of lists-or-tuples-or ndarrays with different lengths or shapes) is deprecated. If you meant to do this, you must specify 'dtype=object' when creating the ndarray.\n",
            "  concat_df = pd.DataFrame(np.array([stock, indicators, tries[0][0], tries[1][0], tries[2][0]]).reshape(1,5), columns=[\"STOCK\", \"WEIGHTS\", \"BUY TH\", \"SELL TH\", \"PROFIT\"])\n"
          ]
        },
        {
          "output_type": "stream",
          "name": "stdout",
          "text": [
            "    0   1       2\n",
            "0  66  54 6995.38\n",
            "1  67  54 6995.38\n",
            "2  67  53 6995.38\n",
            "3  66  53 6995.38\n",
            "4  67  55 6491.57\n",
            "8. Deneme\n"
          ]
        },
        {
          "output_type": "stream",
          "name": "stderr",
          "text": [
            "<ipython-input-294-66fc1ce873bd>:316: VisibleDeprecationWarning: Creating an ndarray from ragged nested sequences (which is a list-or-tuple of lists-or-tuples-or ndarrays with different lengths or shapes) is deprecated. If you meant to do this, you must specify 'dtype=object' when creating the ndarray.\n",
            "  concat_df = pd.DataFrame(np.array([stock, indicators, tries[0][0], tries[1][0], tries[2][0]]).reshape(1,5), columns=[\"STOCK\", \"WEIGHTS\", \"BUY TH\", \"SELL TH\", \"PROFIT\"])\n"
          ]
        },
        {
          "output_type": "stream",
          "name": "stdout",
          "text": [
            "    0   1       2\n",
            "0  71  65 6090.10\n",
            "1  71  64 6090.10\n",
            "2  71  63 6090.10\n",
            "3  72  64 6024.88\n",
            "4  73  63 6024.88\n",
            "9. Deneme\n"
          ]
        },
        {
          "output_type": "stream",
          "name": "stderr",
          "text": [
            "<ipython-input-294-66fc1ce873bd>:316: VisibleDeprecationWarning: Creating an ndarray from ragged nested sequences (which is a list-or-tuple of lists-or-tuples-or ndarrays with different lengths or shapes) is deprecated. If you meant to do this, you must specify 'dtype=object' when creating the ndarray.\n",
            "  concat_df = pd.DataFrame(np.array([stock, indicators, tries[0][0], tries[1][0], tries[2][0]]).reshape(1,5), columns=[\"STOCK\", \"WEIGHTS\", \"BUY TH\", \"SELL TH\", \"PROFIT\"])\n"
          ]
        },
        {
          "output_type": "stream",
          "name": "stdout",
          "text": [
            "    0   1       2\n",
            "0  67  75 5505.87\n",
            "1  67  74 5505.87\n",
            "2  66  75 5505.87\n",
            "3  66  74 5505.87\n",
            "4  57  63 5201.98\n",
            "KOZAA.IS\n"
          ]
        },
        {
          "output_type": "stream",
          "name": "stderr",
          "text": [
            "<ipython-input-294-66fc1ce873bd>:316: VisibleDeprecationWarning: Creating an ndarray from ragged nested sequences (which is a list-or-tuple of lists-or-tuples-or ndarrays with different lengths or shapes) is deprecated. If you meant to do this, you must specify 'dtype=object' when creating the ndarray.\n",
            "  concat_df = pd.DataFrame(np.array([stock, indicators, tries[0][0], tries[1][0], tries[2][0]]).reshape(1,5), columns=[\"STOCK\", \"WEIGHTS\", \"BUY TH\", \"SELL TH\", \"PROFIT\"])\n"
          ]
        },
        {
          "output_type": "stream",
          "name": "stdout",
          "text": [
            "0. Deneme\n",
            "    0   1       2\n",
            "0  69  79 3305.24\n",
            "1  71  79 3265.59\n",
            "2  70  79 3265.59\n",
            "3  68  79 3021.05\n",
            "4  70  75 3007.32\n",
            "1. Deneme\n"
          ]
        },
        {
          "output_type": "stream",
          "name": "stderr",
          "text": [
            "<ipython-input-294-66fc1ce873bd>:316: VisibleDeprecationWarning: Creating an ndarray from ragged nested sequences (which is a list-or-tuple of lists-or-tuples-or ndarrays with different lengths or shapes) is deprecated. If you meant to do this, you must specify 'dtype=object' when creating the ndarray.\n",
            "  concat_df = pd.DataFrame(np.array([stock, indicators, tries[0][0], tries[1][0], tries[2][0]]).reshape(1,5), columns=[\"STOCK\", \"WEIGHTS\", \"BUY TH\", \"SELL TH\", \"PROFIT\"])\n"
          ]
        },
        {
          "output_type": "stream",
          "name": "stdout",
          "text": [
            "    0   1       2\n",
            "0  65  78 3012.08\n",
            "1  66  78 3012.08\n",
            "2  67  78 3012.08\n",
            "3  67  75 3009.24\n",
            "4  66  75 3009.24\n",
            "2. Deneme\n"
          ]
        },
        {
          "output_type": "stream",
          "name": "stderr",
          "text": [
            "<ipython-input-294-66fc1ce873bd>:316: VisibleDeprecationWarning: Creating an ndarray from ragged nested sequences (which is a list-or-tuple of lists-or-tuples-or ndarrays with different lengths or shapes) is deprecated. If you meant to do this, you must specify 'dtype=object' when creating the ndarray.\n",
            "  concat_df = pd.DataFrame(np.array([stock, indicators, tries[0][0], tries[1][0], tries[2][0]]).reshape(1,5), columns=[\"STOCK\", \"WEIGHTS\", \"BUY TH\", \"SELL TH\", \"PROFIT\"])\n"
          ]
        },
        {
          "output_type": "stream",
          "name": "stdout",
          "text": [
            "    0   1       2\n",
            "0  58  70 2683.94\n",
            "1  57  70 2683.94\n",
            "2  59  70 2497.77\n",
            "3  78  40 2469.13\n",
            "4  79  40 2469.13\n",
            "3. Deneme\n"
          ]
        },
        {
          "output_type": "stream",
          "name": "stderr",
          "text": [
            "<ipython-input-294-66fc1ce873bd>:316: VisibleDeprecationWarning: Creating an ndarray from ragged nested sequences (which is a list-or-tuple of lists-or-tuples-or ndarrays with different lengths or shapes) is deprecated. If you meant to do this, you must specify 'dtype=object' when creating the ndarray.\n",
            "  concat_df = pd.DataFrame(np.array([stock, indicators, tries[0][0], tries[1][0], tries[2][0]]).reshape(1,5), columns=[\"STOCK\", \"WEIGHTS\", \"BUY TH\", \"SELL TH\", \"PROFIT\"])\n"
          ]
        },
        {
          "output_type": "stream",
          "name": "stdout",
          "text": [
            "    0   1       2\n",
            "0  60  65 2730.49\n",
            "1  60  66 2730.49\n",
            "2  59  65 2730.49\n",
            "3  59  66 2730.49\n",
            "4  79  49 2271.52\n",
            "4. Deneme\n"
          ]
        },
        {
          "output_type": "stream",
          "name": "stderr",
          "text": [
            "<ipython-input-294-66fc1ce873bd>:316: VisibleDeprecationWarning: Creating an ndarray from ragged nested sequences (which is a list-or-tuple of lists-or-tuples-or ndarrays with different lengths or shapes) is deprecated. If you meant to do this, you must specify 'dtype=object' when creating the ndarray.\n",
            "  concat_df = pd.DataFrame(np.array([stock, indicators, tries[0][0], tries[1][0], tries[2][0]]).reshape(1,5), columns=[\"STOCK\", \"WEIGHTS\", \"BUY TH\", \"SELL TH\", \"PROFIT\"])\n"
          ]
        },
        {
          "output_type": "stream",
          "name": "stdout",
          "text": [
            "    0   1       2\n",
            "0  58  64 3171.14\n",
            "1  57  64 3171.14\n",
            "2  57  65 2969.54\n",
            "3  57  66 2969.54\n",
            "4  58  66 2969.54\n",
            "5. Deneme\n"
          ]
        },
        {
          "output_type": "stream",
          "name": "stderr",
          "text": [
            "<ipython-input-294-66fc1ce873bd>:316: VisibleDeprecationWarning: Creating an ndarray from ragged nested sequences (which is a list-or-tuple of lists-or-tuples-or ndarrays with different lengths or shapes) is deprecated. If you meant to do this, you must specify 'dtype=object' when creating the ndarray.\n",
            "  concat_df = pd.DataFrame(np.array([stock, indicators, tries[0][0], tries[1][0], tries[2][0]]).reshape(1,5), columns=[\"STOCK\", \"WEIGHTS\", \"BUY TH\", \"SELL TH\", \"PROFIT\"])\n"
          ]
        },
        {
          "output_type": "stream",
          "name": "stdout",
          "text": [
            "    0   1       2\n",
            "0  40  53 3960.17\n",
            "1  40  54 3960.17\n",
            "2  40  51 3852.13\n",
            "3  40  52 3852.13\n",
            "4  43  53 3460.77\n",
            "6. Deneme\n"
          ]
        },
        {
          "output_type": "stream",
          "name": "stderr",
          "text": [
            "<ipython-input-294-66fc1ce873bd>:316: VisibleDeprecationWarning: Creating an ndarray from ragged nested sequences (which is a list-or-tuple of lists-or-tuples-or ndarrays with different lengths or shapes) is deprecated. If you meant to do this, you must specify 'dtype=object' when creating the ndarray.\n",
            "  concat_df = pd.DataFrame(np.array([stock, indicators, tries[0][0], tries[1][0], tries[2][0]]).reshape(1,5), columns=[\"STOCK\", \"WEIGHTS\", \"BUY TH\", \"SELL TH\", \"PROFIT\"])\n"
          ]
        },
        {
          "output_type": "stream",
          "name": "stdout",
          "text": [
            "    0   1       2\n",
            "0  64  76 3514.79\n",
            "1  64  75 3514.79\n",
            "2  65  76 3514.79\n",
            "3  65  75 3514.79\n",
            "4  65  74 3075.34\n",
            "7. Deneme\n"
          ]
        },
        {
          "output_type": "stream",
          "name": "stderr",
          "text": [
            "<ipython-input-294-66fc1ce873bd>:316: VisibleDeprecationWarning: Creating an ndarray from ragged nested sequences (which is a list-or-tuple of lists-or-tuples-or ndarrays with different lengths or shapes) is deprecated. If you meant to do this, you must specify 'dtype=object' when creating the ndarray.\n",
            "  concat_df = pd.DataFrame(np.array([stock, indicators, tries[0][0], tries[1][0], tries[2][0]]).reshape(1,5), columns=[\"STOCK\", \"WEIGHTS\", \"BUY TH\", \"SELL TH\", \"PROFIT\"])\n"
          ]
        },
        {
          "output_type": "stream",
          "name": "stdout",
          "text": [
            "    0   1       2\n",
            "0  62  73 3276.81\n",
            "1  63  73 3276.81\n",
            "2  58  73 3181.60\n",
            "3  59  73 3181.60\n",
            "4  60  73 3181.60\n",
            "8. Deneme\n"
          ]
        },
        {
          "output_type": "stream",
          "name": "stderr",
          "text": [
            "<ipython-input-294-66fc1ce873bd>:316: VisibleDeprecationWarning: Creating an ndarray from ragged nested sequences (which is a list-or-tuple of lists-or-tuples-or ndarrays with different lengths or shapes) is deprecated. If you meant to do this, you must specify 'dtype=object' when creating the ndarray.\n",
            "  concat_df = pd.DataFrame(np.array([stock, indicators, tries[0][0], tries[1][0], tries[2][0]]).reshape(1,5), columns=[\"STOCK\", \"WEIGHTS\", \"BUY TH\", \"SELL TH\", \"PROFIT\"])\n"
          ]
        },
        {
          "output_type": "stream",
          "name": "stdout",
          "text": [
            "    0   1       2\n",
            "0  53  65 3401.06\n",
            "1  53  64 3401.06\n",
            "2  54  64 3401.06\n",
            "3  54  65 3401.06\n",
            "4  73  78 3140.87\n",
            "9. Deneme\n"
          ]
        },
        {
          "output_type": "stream",
          "name": "stderr",
          "text": [
            "<ipython-input-294-66fc1ce873bd>:316: VisibleDeprecationWarning: Creating an ndarray from ragged nested sequences (which is a list-or-tuple of lists-or-tuples-or ndarrays with different lengths or shapes) is deprecated. If you meant to do this, you must specify 'dtype=object' when creating the ndarray.\n",
            "  concat_df = pd.DataFrame(np.array([stock, indicators, tries[0][0], tries[1][0], tries[2][0]]).reshape(1,5), columns=[\"STOCK\", \"WEIGHTS\", \"BUY TH\", \"SELL TH\", \"PROFIT\"])\n"
          ]
        },
        {
          "output_type": "stream",
          "name": "stdout",
          "text": [
            "    0   1       2\n",
            "0  77  44 2961.60\n",
            "1  78  44 2961.60\n",
            "2  79  44 2958.28\n",
            "3  75  44 2875.42\n",
            "4  79  42 2872.67\n",
            "ODAS.IS\n"
          ]
        },
        {
          "output_type": "stream",
          "name": "stderr",
          "text": [
            "<ipython-input-294-66fc1ce873bd>:316: VisibleDeprecationWarning: Creating an ndarray from ragged nested sequences (which is a list-or-tuple of lists-or-tuples-or ndarrays with different lengths or shapes) is deprecated. If you meant to do this, you must specify 'dtype=object' when creating the ndarray.\n",
            "  concat_df = pd.DataFrame(np.array([stock, indicators, tries[0][0], tries[1][0], tries[2][0]]).reshape(1,5), columns=[\"STOCK\", \"WEIGHTS\", \"BUY TH\", \"SELL TH\", \"PROFIT\"])\n"
          ]
        },
        {
          "output_type": "stream",
          "name": "stdout",
          "text": [
            "0. Deneme\n",
            "    0   1        2\n",
            "0  77  45 11005.85\n",
            "1  77  44 11005.85\n",
            "2  77  46 11005.85\n",
            "3  77  41 10839.81\n",
            "4  77  42 10839.81\n",
            "1. Deneme\n"
          ]
        },
        {
          "output_type": "stream",
          "name": "stderr",
          "text": [
            "<ipython-input-294-66fc1ce873bd>:316: VisibleDeprecationWarning: Creating an ndarray from ragged nested sequences (which is a list-or-tuple of lists-or-tuples-or ndarrays with different lengths or shapes) is deprecated. If you meant to do this, you must specify 'dtype=object' when creating the ndarray.\n",
            "  concat_df = pd.DataFrame(np.array([stock, indicators, tries[0][0], tries[1][0], tries[2][0]]).reshape(1,5), columns=[\"STOCK\", \"WEIGHTS\", \"BUY TH\", \"SELL TH\", \"PROFIT\"])\n"
          ]
        },
        {
          "output_type": "stream",
          "name": "stdout",
          "text": [
            "    0   1        2\n",
            "0  69  40 13466.78\n",
            "1  70  40 13466.78\n",
            "2  68  40 13466.78\n",
            "3  73  40 13466.78\n",
            "4  71  40 13466.78\n",
            "2. Deneme\n"
          ]
        }
      ]
    },
    {
      "cell_type": "code",
      "source": [
        "result_df"
      ],
      "metadata": {
        "colab": {
          "base_uri": "https://localhost:8080/",
          "height": 165
        },
        "id": "sdXvG3r8LGKs",
        "outputId": "da37d7f8-373b-41dd-a5ad-aa719e63c450"
      },
      "execution_count": 1,
      "outputs": [
        {
          "output_type": "error",
          "ename": "NameError",
          "evalue": "ignored",
          "traceback": [
            "\u001b[0;31m---------------------------------------------------------------------------\u001b[0m",
            "\u001b[0;31mNameError\u001b[0m                                 Traceback (most recent call last)",
            "\u001b[0;32m<ipython-input-1-bf7dab556292>\u001b[0m in \u001b[0;36m<cell line: 1>\u001b[0;34m()\u001b[0m\n\u001b[0;32m----> 1\u001b[0;31m \u001b[0mresult_df\u001b[0m\u001b[0;34m\u001b[0m\u001b[0;34m\u001b[0m\u001b[0m\n\u001b[0m",
            "\u001b[0;31mNameError\u001b[0m: name 'result_df' is not defined"
          ]
        }
      ]
    },
    {
      "cell_type": "markdown",
      "source": [
        "## score func"
      ],
      "metadata": {
        "id": "nmU1aRtpmbUp"
      }
    },
    {
      "cell_type": "code",
      "source": [
        "def score(data):\n",
        "  scaler = MinMaxScaler(feature_range=(0, 100))\n",
        "  scores = []\n",
        "\n",
        "  x = [0, 4, 5, 1, 0, 3, 4, 2, 5, 0, 1, 5, 2, 2, 3, 0, 1, 1, 0, 3, 0, 3, 4, 2, 2, 0, 2, 5, 2, 0, 4, 4, 1, 2, 5, 4, 2, 4, 0, 2, 0, 4, 5, 0, 0, 3, 2, 1, 0, 3, 4, 3, 2, 4, 0, 3, 4, 0, 2, 4]\n",
        "\n",
        "  for row in range(data.shape[0]):\n",
        "    score = 0\n",
        "\n",
        "    if data[\"RSI\"][row] < 30:\n",
        "      score+=x[0]\n",
        "    elif data[\"RSI\"][row] > 70:\n",
        "      score-=x[1]\n",
        "\n",
        "    if data[\"RSI\"][row] >= 75:\n",
        "      score+=x[58]\n",
        "    elif row > 0 and data[\"RSI\"][row-1] > 73 and data[\"RSI\"][row] < 73:\n",
        "      score-=x[59]\n",
        "\n",
        "    if row > 0 and data[\"RSI\"].iloc[row-1] > 63 and data[\"RSI\"].iloc[row] < 63:\n",
        "      score-=x[2]\n",
        "\n",
        "    if row > 0 and data[\"RSI\"].iloc[row-1] > 49 and data[\"RSI\"].iloc[row] < 49:\n",
        "      score-=x[3]\n",
        "    elif row > 0 and data[\"RSI\"].iloc[row-1] < 50 and data[\"RSI\"].iloc[row] > 50:\n",
        "      score+=x[4]\n",
        "\n",
        "    if data[\"SMA5\"].iloc[row] > data[\"SMA10\"].iloc[row]:\n",
        "      score+=x[5]\n",
        "    else:\n",
        "      score-=x[6]\n",
        "\n",
        "    if row > 0 and data['SMA5'].iloc[row-1] < data['SMA10'].iloc[row-1] and data['SMA5'].iloc[row] > data['SMA10'].iloc[row]:\n",
        "      score+=x[7]\n",
        "    else:\n",
        "      score-=x[8]\n",
        "\n",
        "    if data[\"SMA9\"][row] > data[\"SMA14\"][row]:\n",
        "      score+=x[9]\n",
        "    else:\n",
        "      score-=x[10]\n",
        "\n",
        "    if row > 0 and data['SMA9'].iloc[row-1] < data['SMA14'].iloc[row-1] and data['SMA9'].iloc[row] > data['SMA14'].iloc[row]:\n",
        "      score+=x[11]\n",
        "    else:\n",
        "      score-=x[12]\n",
        "\n",
        "    if data[\"SMA14\"][row] > data[\"SMA21\"][row]:\n",
        "      score+=x[13]\n",
        "    else:\n",
        "      score-=x[14]\n",
        "\n",
        "    if row > 0 and data['SMA14'].iloc[row-1] < data['SMA21'].iloc[row-1] and data['SMA14'].iloc[row] > data['SMA21'].iloc[row]:\n",
        "      score+=x[15]\n",
        "    else:\n",
        "      score-=x[16]\n",
        "\n",
        "    if row > 1 and data['SMA20'].iloc[row-1] < data[\"Close\"].iloc[row-1] and data['SMA20'].iloc[row] < data[\"Close\"].iloc[row]:\n",
        "      score+=x[17]\n",
        "    else:\n",
        "      score-=x[18]\n",
        "\n",
        "    if data[\"SMA21\"][row] > data[\"SMA50\"][row]:\n",
        "      score+=x[19]\n",
        "    else:\n",
        "      score-=x[20]\n",
        "\n",
        "    if row > 0 and data['SMA21'].iloc[row-1] < data['SMA50'].iloc[row-1] and data['SMA21'].iloc[row] > data['SMA50'].iloc[row]:\n",
        "      score+=x[21]\n",
        "    else:\n",
        "      score-=x[22]\n",
        "\n",
        "    if row > 0 and data['SMA50'].iloc[row-1] < data['SMA200'].iloc[row-1] and data['SMA50'].iloc[row] > data['SMA200'].iloc[row]:\n",
        "      score+=x[23]\n",
        "\n",
        "    if data['Close'][row] > data[\"EMA14\"][row]:\n",
        "      score+=x[24]\n",
        "    else:\n",
        "      score-=x[25]\n",
        "\n",
        "    if data[\"EMA5\"][row] > data[\"EMA14\"][row]:\n",
        "      score+=x[26]\n",
        "    else:\n",
        "      score-=x[27]\n",
        "\n",
        "    if row > 0 and data['EMA5'].iloc[row-1] < data['EMA14'].iloc[row-1] and data['EMA5'].iloc[row] > data['EMA14'].iloc[row]:\n",
        "      score+=x[28]\n",
        "    else:\n",
        "      score-=x[29]\n",
        "\n",
        "    if data[\"EMA14\"][row] > data[\"EMA21\"][row]:\n",
        "      score+=x[30]\n",
        "    else:\n",
        "      score-=x[31]\n",
        "\n",
        "    if row > 0 and data['EMA14'].iloc[row-1] < data['EMA21'].iloc[row-1] and data['EMA14'].iloc[row] > data['EMA21'].iloc[row]:\n",
        "      score+=x[32]\n",
        "    else:\n",
        "      score-=x[33]\n",
        "\n",
        "    if data[\"EMA21\"][row] > data[\"EMA50\"][row]:\n",
        "      score+=x[34]\n",
        "    else:\n",
        "      score-=x[35]\n",
        "\n",
        "    if row > 0 and data['EMA21'].iloc[row-1] < data['EMA50'].iloc[row-1] and data['EMA21'].iloc[row] > data['EMA50'].iloc[row]:\n",
        "      score+=x[36]\n",
        "    else:\n",
        "      score-=x[37]\n",
        "\n",
        "    if data[\"STOCH-D\"][row] <= 20:\n",
        "      score+=x[38]\n",
        "    elif data[\"STOCH-D\"][row] >= 80:\n",
        "      score-=x[39]\n",
        "\n",
        "    if row > 0 and data[\"STOCH-D\"][row-1] > 65 and data[\"STOCH-D\"][row] < 65:\n",
        "      score-=x[40]\n",
        "    elif row > 0 and data[\"STOCH-D\"][row-1] < 35 and data[\"STOCH-D\"][row] > 35:\n",
        "      score=+x[41]\n",
        "\n",
        "    if data[\"MACD\"][row] > data[\"SIGNAL\"][row]:\n",
        "      score+=x[42]\n",
        "    if row > 0 and data[\"MACD\"][row] > data[\"SIGNAL\"][row] and data[\"HISTOGRAM\"][row-1] < 0 and data[\"HISTOGRAM\"][row] > 0:\n",
        "      score+=x[43]\n",
        "    if row > 0 and data[\"MACD\"][row] < data[\"SIGNAL\"][row] and data[\"HISTOGRAM\"][row-1] > 0 and data[\"HISTOGRAM\"][row] < 0:\n",
        "      score-=x[44]\n",
        "    if data[\"MACD\"][row] < data[\"SIGNAL\"][row]:\n",
        "      score-=x[45]\n",
        "\n",
        "    if data['MACD'].tail(7).mean() > 0:\n",
        "      score+=x[46]\n",
        "    else:\n",
        "      score-=x[47]\n",
        "\n",
        "    if data['MACD'].tail(30).mean() > 0:\n",
        "      score+=x[48]\n",
        "    else:\n",
        "      score-=x[49]\n",
        "\n",
        "    if data[\"BB-LOWER\"].iloc[row] > data[\"Close\"].iloc[row]:\n",
        "        score+=x[50]\n",
        "    elif data[\"BB-UPPER\"].iloc[row] < data[\"Close\"].iloc[row]:\n",
        "        score-=x[51]\n",
        "    if data[\"BB-MID\"].iloc[row] < data[\"Close\"].iloc[row] and data[\"BB-LOWER\"].iloc[row] - data[\"Close\"].iloc[row] < data[\"BB-MID\"].iloc[row] - data[\"Close\"].iloc[row]:\n",
        "        score+=x[52]\n",
        "    elif data[\"BB-MID\"].iloc[row] > data[\"Close\"].iloc[row] and data[\"BB-UPPER\"].iloc[row] - data[\"Close\"].iloc[row] < data[\"BB-MID\"].iloc[row] - data[\"Close\"].iloc[row]:\n",
        "        score-=x[53]\n",
        "\n",
        "    if (data[\"STDEV\"].max() + data[\"STDEV\"].min()) / 2 > data[\"STDEV\"][row]:\n",
        "      score+=1\n",
        "    else:\n",
        "      score-=1\n",
        "\n",
        "    if data[\"PSAR\"][row] < data[\"Close\"][row]:\n",
        "      score+=1\n",
        "    else:\n",
        "      score-=1\n",
        "\n",
        "    if data[\"WILLIAMS\"][row] < -80:\n",
        "      score+=1\n",
        "    elif data[\"WILLIAMS\"][row] > -20:\n",
        "      score-=1\n",
        "\n",
        "    if data[\"AROON\"][row] > 0:\n",
        "      score-=1\n",
        "    else:\n",
        "      score+=1\n",
        "\n",
        "    if row > 0 and data[\"OBV\"][row-1] < data[\"OBV\"][row] and data[\"Close\"][row] > data[\"Close\"][row-1]:\n",
        "      score+=1\n",
        "    elif row > 0 and data[\"OBV\"][row-1] > data[\"OBV\"][row] and data[\"Close\"][row] < data[\"Close\"][row-1]:\n",
        "      score-=1\n",
        "\n",
        "    if row > 0 and (data['CCI'][row] > -100) & (data['CCI'][row-1] <= -100):\n",
        "      score+=1\n",
        "    elif row > 0 and (data['CCI'][row] < 100) & (data['CCI'][row-1] >= 100):\n",
        "      score-=1\n",
        "\n",
        "    if data[\"ROC\"][row] > 0:\n",
        "      score+=1\n",
        "    elif data[\"ROC\"][row] < 0:\n",
        "      score-=1\n",
        "\n",
        "    if data[\"BULL\"][row] > 0:\n",
        "      score+=1\n",
        "    elif data[\"BEAR\"][row] < 0:\n",
        "      score-=1\n",
        "\n",
        "    if (data['ADX'][row] > 25) and (data['+DI'][row] > data['-DI'][row]):\n",
        "      score+=x[54]\n",
        "    if data['ADX'][row] > data['+DI'][row] and data['ADX'][row] > data['-DI'][row]:\n",
        "      score+=x[55]\n",
        "    if data['ADX'][row] < data['+DI'][row] and data['ADX'][row] < data['-DI'][row]:\n",
        "      score-=x[56]\n",
        "    elif (data['ADX'][row] > 40) and (data['+DI'][row] < data['-DI'][row]):\n",
        "      score-=x[57]\n",
        "\n",
        "    scores.append(score)\n",
        "\n",
        "  data[\"SCORE\"] = scores\n",
        "  data[\"SCORE\"] = scaler.fit_transform(data[\"SCORE\"].values.reshape(-1, 1))\n",
        "  return data"
      ],
      "metadata": {
        "id": "7mP67E6chEWN"
      },
      "execution_count": 236,
      "outputs": []
    },
    {
      "cell_type": "markdown",
      "source": [
        "## profit calc"
      ],
      "metadata": {
        "id": "90nJSmNUmedP"
      }
    },
    {
      "cell_type": "code",
      "source": [
        "buy_threshold = 79\n",
        "sell_threshold = 40\n",
        "\n",
        "test_df = test_the_market([stock], buy_threshold, sell_threshold, start=start, end=end, balance=balance, today=today)\n",
        "\n",
        "profit_or_loss = []\n",
        "\n",
        "for stock in [stock]:\n",
        "  stock_df = test_df[test_df[\"STOCK\"] == stock]\n",
        "\n",
        "  if stock_df.empty != True:\n",
        "    profit_or_loss.append([stock_df[\"STOCK\"].iloc[-1] ,stock_df['TRY BALANCE'].tail(1).item() - balance])\n",
        "\n",
        "profit_df = pd.DataFrame(profit_or_loss)\n",
        "print(\"\\nTOPLAM KÂR: \" + str(int(sum(profit_df[1]))) + \"TL\")\n",
        "profit_df"
      ],
      "metadata": {
        "colab": {
          "base_uri": "https://localhost:8080/",
          "height": 115
        },
        "id": "5TZwTD7NjtXM",
        "outputId": "801d809a-4f58-4bdd-e400-f9abd6689a96"
      },
      "execution_count": 237,
      "outputs": [
        {
          "output_type": "stream",
          "name": "stdout",
          "text": [
            "\n",
            "TOPLAM KÂR: 10331TL\n"
          ]
        },
        {
          "output_type": "execute_result",
          "data": {
            "text/plain": [
              "          0        1\n",
              "0  PGSUS.IS 10331.45"
            ],
            "text/html": [
              "\n",
              "  <div id=\"df-1dc9a433-3e22-48bc-8c9d-d314f1226656\">\n",
              "    <div class=\"colab-df-container\">\n",
              "      <div>\n",
              "<style scoped>\n",
              "    .dataframe tbody tr th:only-of-type {\n",
              "        vertical-align: middle;\n",
              "    }\n",
              "\n",
              "    .dataframe tbody tr th {\n",
              "        vertical-align: top;\n",
              "    }\n",
              "\n",
              "    .dataframe thead th {\n",
              "        text-align: right;\n",
              "    }\n",
              "</style>\n",
              "<table border=\"1\" class=\"dataframe\">\n",
              "  <thead>\n",
              "    <tr style=\"text-align: right;\">\n",
              "      <th></th>\n",
              "      <th>0</th>\n",
              "      <th>1</th>\n",
              "    </tr>\n",
              "  </thead>\n",
              "  <tbody>\n",
              "    <tr>\n",
              "      <th>0</th>\n",
              "      <td>PGSUS.IS</td>\n",
              "      <td>10331.45</td>\n",
              "    </tr>\n",
              "  </tbody>\n",
              "</table>\n",
              "</div>\n",
              "      <button class=\"colab-df-convert\" onclick=\"convertToInteractive('df-1dc9a433-3e22-48bc-8c9d-d314f1226656')\"\n",
              "              title=\"Convert this dataframe to an interactive table.\"\n",
              "              style=\"display:none;\">\n",
              "        \n",
              "  <svg xmlns=\"http://www.w3.org/2000/svg\" height=\"24px\"viewBox=\"0 0 24 24\"\n",
              "       width=\"24px\">\n",
              "    <path d=\"M0 0h24v24H0V0z\" fill=\"none\"/>\n",
              "    <path d=\"M18.56 5.44l.94 2.06.94-2.06 2.06-.94-2.06-.94-.94-2.06-.94 2.06-2.06.94zm-11 1L8.5 8.5l.94-2.06 2.06-.94-2.06-.94L8.5 2.5l-.94 2.06-2.06.94zm10 10l.94 2.06.94-2.06 2.06-.94-2.06-.94-.94-2.06-.94 2.06-2.06.94z\"/><path d=\"M17.41 7.96l-1.37-1.37c-.4-.4-.92-.59-1.43-.59-.52 0-1.04.2-1.43.59L10.3 9.45l-7.72 7.72c-.78.78-.78 2.05 0 2.83L4 21.41c.39.39.9.59 1.41.59.51 0 1.02-.2 1.41-.59l7.78-7.78 2.81-2.81c.8-.78.8-2.07 0-2.86zM5.41 20L4 18.59l7.72-7.72 1.47 1.35L5.41 20z\"/>\n",
              "  </svg>\n",
              "      </button>\n",
              "      \n",
              "  <style>\n",
              "    .colab-df-container {\n",
              "      display:flex;\n",
              "      flex-wrap:wrap;\n",
              "      gap: 12px;\n",
              "    }\n",
              "\n",
              "    .colab-df-convert {\n",
              "      background-color: #E8F0FE;\n",
              "      border: none;\n",
              "      border-radius: 50%;\n",
              "      cursor: pointer;\n",
              "      display: none;\n",
              "      fill: #1967D2;\n",
              "      height: 32px;\n",
              "      padding: 0 0 0 0;\n",
              "      width: 32px;\n",
              "    }\n",
              "\n",
              "    .colab-df-convert:hover {\n",
              "      background-color: #E2EBFA;\n",
              "      box-shadow: 0px 1px 2px rgba(60, 64, 67, 0.3), 0px 1px 3px 1px rgba(60, 64, 67, 0.15);\n",
              "      fill: #174EA6;\n",
              "    }\n",
              "\n",
              "    [theme=dark] .colab-df-convert {\n",
              "      background-color: #3B4455;\n",
              "      fill: #D2E3FC;\n",
              "    }\n",
              "\n",
              "    [theme=dark] .colab-df-convert:hover {\n",
              "      background-color: #434B5C;\n",
              "      box-shadow: 0px 1px 3px 1px rgba(0, 0, 0, 0.15);\n",
              "      filter: drop-shadow(0px 1px 2px rgba(0, 0, 0, 0.3));\n",
              "      fill: #FFFFFF;\n",
              "    }\n",
              "  </style>\n",
              "\n",
              "      <script>\n",
              "        const buttonEl =\n",
              "          document.querySelector('#df-1dc9a433-3e22-48bc-8c9d-d314f1226656 button.colab-df-convert');\n",
              "        buttonEl.style.display =\n",
              "          google.colab.kernel.accessAllowed ? 'block' : 'none';\n",
              "\n",
              "        async function convertToInteractive(key) {\n",
              "          const element = document.querySelector('#df-1dc9a433-3e22-48bc-8c9d-d314f1226656');\n",
              "          const dataTable =\n",
              "            await google.colab.kernel.invokeFunction('convertToInteractive',\n",
              "                                                     [key], {});\n",
              "          if (!dataTable) return;\n",
              "\n",
              "          const docLinkHtml = 'Like what you see? Visit the ' +\n",
              "            '<a target=\"_blank\" href=https://colab.research.google.com/notebooks/data_table.ipynb>data table notebook</a>'\n",
              "            + ' to learn more about interactive tables.';\n",
              "          element.innerHTML = '';\n",
              "          dataTable['output_type'] = 'display_data';\n",
              "          await google.colab.output.renderOutput(dataTable, element);\n",
              "          const docLink = document.createElement('div');\n",
              "          docLink.innerHTML = docLinkHtml;\n",
              "          element.appendChild(docLink);\n",
              "        }\n",
              "      </script>\n",
              "    </div>\n",
              "  </div>\n",
              "  "
            ]
          },
          "metadata": {},
          "execution_count": 237
        }
      ]
    },
    {
      "cell_type": "code",
      "source": [
        "test_df\n",
        "#AKBNK 4421, BUY: 69 SELL: 76"
      ],
      "metadata": {
        "colab": {
          "base_uri": "https://localhost:8080/",
          "height": 300
        },
        "id": "_UemMUCVjuLk",
        "outputId": "0f456599-a5b7-4770-a8ef-adfd69683eb9"
      },
      "execution_count": 238,
      "outputs": [
        {
          "output_type": "execute_result",
          "data": {
            "text/plain": [
              "      STOCK    B/S                 DATE  PRICE  STOCK BALANCE  TRY BALANCE  \\\n",
              "0  PGSUS.IS    BUY  2022-03-17 00:00:00  95.40          20.96         0.00   \n",
              "1  PGSUS.IS   SELL  2022-07-27 00:00:00 166.50           0.00      3490.57   \n",
              "2  PGSUS.IS    BUY  2022-08-09 00:00:00 179.50          19.45         0.00   \n",
              "3  PGSUS.IS   SELL  2023-02-01 00:00:00 483.30           0.00      9398.28   \n",
              "4  PGSUS.IS    BUY  2023-03-06 00:00:00 497.60          18.89         0.00   \n",
              "5  PGSUS.IS   SELL  2023-03-16 00:00:00 496.40           0.00      9375.61   \n",
              "6  PGSUS.IS    BUY  2023-05-30 00:00:00 465.00          20.16         0.00   \n",
              "7  PGSUS.IS  CLOSE           2023-06-26 611.60           0.00     12331.45   \n",
              "\n",
              "   SCORE  LAST PRICE  \n",
              "0  85.51      611.60  \n",
              "1  37.68      611.60  \n",
              "2  95.65      611.60  \n",
              "3  33.33      611.60  \n",
              "4  86.96      611.60  \n",
              "5  39.13      611.60  \n",
              "6  85.51      611.60  \n",
              "7    NaN      611.60  "
            ],
            "text/html": [
              "\n",
              "  <div id=\"df-1b94c59d-a9ad-4606-a232-ed270caa2f57\">\n",
              "    <div class=\"colab-df-container\">\n",
              "      <div>\n",
              "<style scoped>\n",
              "    .dataframe tbody tr th:only-of-type {\n",
              "        vertical-align: middle;\n",
              "    }\n",
              "\n",
              "    .dataframe tbody tr th {\n",
              "        vertical-align: top;\n",
              "    }\n",
              "\n",
              "    .dataframe thead th {\n",
              "        text-align: right;\n",
              "    }\n",
              "</style>\n",
              "<table border=\"1\" class=\"dataframe\">\n",
              "  <thead>\n",
              "    <tr style=\"text-align: right;\">\n",
              "      <th></th>\n",
              "      <th>STOCK</th>\n",
              "      <th>B/S</th>\n",
              "      <th>DATE</th>\n",
              "      <th>PRICE</th>\n",
              "      <th>STOCK BALANCE</th>\n",
              "      <th>TRY BALANCE</th>\n",
              "      <th>SCORE</th>\n",
              "      <th>LAST PRICE</th>\n",
              "    </tr>\n",
              "  </thead>\n",
              "  <tbody>\n",
              "    <tr>\n",
              "      <th>0</th>\n",
              "      <td>PGSUS.IS</td>\n",
              "      <td>BUY</td>\n",
              "      <td>2022-03-17 00:00:00</td>\n",
              "      <td>95.40</td>\n",
              "      <td>20.96</td>\n",
              "      <td>0.00</td>\n",
              "      <td>85.51</td>\n",
              "      <td>611.60</td>\n",
              "    </tr>\n",
              "    <tr>\n",
              "      <th>1</th>\n",
              "      <td>PGSUS.IS</td>\n",
              "      <td>SELL</td>\n",
              "      <td>2022-07-27 00:00:00</td>\n",
              "      <td>166.50</td>\n",
              "      <td>0.00</td>\n",
              "      <td>3490.57</td>\n",
              "      <td>37.68</td>\n",
              "      <td>611.60</td>\n",
              "    </tr>\n",
              "    <tr>\n",
              "      <th>2</th>\n",
              "      <td>PGSUS.IS</td>\n",
              "      <td>BUY</td>\n",
              "      <td>2022-08-09 00:00:00</td>\n",
              "      <td>179.50</td>\n",
              "      <td>19.45</td>\n",
              "      <td>0.00</td>\n",
              "      <td>95.65</td>\n",
              "      <td>611.60</td>\n",
              "    </tr>\n",
              "    <tr>\n",
              "      <th>3</th>\n",
              "      <td>PGSUS.IS</td>\n",
              "      <td>SELL</td>\n",
              "      <td>2023-02-01 00:00:00</td>\n",
              "      <td>483.30</td>\n",
              "      <td>0.00</td>\n",
              "      <td>9398.28</td>\n",
              "      <td>33.33</td>\n",
              "      <td>611.60</td>\n",
              "    </tr>\n",
              "    <tr>\n",
              "      <th>4</th>\n",
              "      <td>PGSUS.IS</td>\n",
              "      <td>BUY</td>\n",
              "      <td>2023-03-06 00:00:00</td>\n",
              "      <td>497.60</td>\n",
              "      <td>18.89</td>\n",
              "      <td>0.00</td>\n",
              "      <td>86.96</td>\n",
              "      <td>611.60</td>\n",
              "    </tr>\n",
              "    <tr>\n",
              "      <th>5</th>\n",
              "      <td>PGSUS.IS</td>\n",
              "      <td>SELL</td>\n",
              "      <td>2023-03-16 00:00:00</td>\n",
              "      <td>496.40</td>\n",
              "      <td>0.00</td>\n",
              "      <td>9375.61</td>\n",
              "      <td>39.13</td>\n",
              "      <td>611.60</td>\n",
              "    </tr>\n",
              "    <tr>\n",
              "      <th>6</th>\n",
              "      <td>PGSUS.IS</td>\n",
              "      <td>BUY</td>\n",
              "      <td>2023-05-30 00:00:00</td>\n",
              "      <td>465.00</td>\n",
              "      <td>20.16</td>\n",
              "      <td>0.00</td>\n",
              "      <td>85.51</td>\n",
              "      <td>611.60</td>\n",
              "    </tr>\n",
              "    <tr>\n",
              "      <th>7</th>\n",
              "      <td>PGSUS.IS</td>\n",
              "      <td>CLOSE</td>\n",
              "      <td>2023-06-26</td>\n",
              "      <td>611.60</td>\n",
              "      <td>0.00</td>\n",
              "      <td>12331.45</td>\n",
              "      <td>NaN</td>\n",
              "      <td>611.60</td>\n",
              "    </tr>\n",
              "  </tbody>\n",
              "</table>\n",
              "</div>\n",
              "      <button class=\"colab-df-convert\" onclick=\"convertToInteractive('df-1b94c59d-a9ad-4606-a232-ed270caa2f57')\"\n",
              "              title=\"Convert this dataframe to an interactive table.\"\n",
              "              style=\"display:none;\">\n",
              "        \n",
              "  <svg xmlns=\"http://www.w3.org/2000/svg\" height=\"24px\"viewBox=\"0 0 24 24\"\n",
              "       width=\"24px\">\n",
              "    <path d=\"M0 0h24v24H0V0z\" fill=\"none\"/>\n",
              "    <path d=\"M18.56 5.44l.94 2.06.94-2.06 2.06-.94-2.06-.94-.94-2.06-.94 2.06-2.06.94zm-11 1L8.5 8.5l.94-2.06 2.06-.94-2.06-.94L8.5 2.5l-.94 2.06-2.06.94zm10 10l.94 2.06.94-2.06 2.06-.94-2.06-.94-.94-2.06-.94 2.06-2.06.94z\"/><path d=\"M17.41 7.96l-1.37-1.37c-.4-.4-.92-.59-1.43-.59-.52 0-1.04.2-1.43.59L10.3 9.45l-7.72 7.72c-.78.78-.78 2.05 0 2.83L4 21.41c.39.39.9.59 1.41.59.51 0 1.02-.2 1.41-.59l7.78-7.78 2.81-2.81c.8-.78.8-2.07 0-2.86zM5.41 20L4 18.59l7.72-7.72 1.47 1.35L5.41 20z\"/>\n",
              "  </svg>\n",
              "      </button>\n",
              "      \n",
              "  <style>\n",
              "    .colab-df-container {\n",
              "      display:flex;\n",
              "      flex-wrap:wrap;\n",
              "      gap: 12px;\n",
              "    }\n",
              "\n",
              "    .colab-df-convert {\n",
              "      background-color: #E8F0FE;\n",
              "      border: none;\n",
              "      border-radius: 50%;\n",
              "      cursor: pointer;\n",
              "      display: none;\n",
              "      fill: #1967D2;\n",
              "      height: 32px;\n",
              "      padding: 0 0 0 0;\n",
              "      width: 32px;\n",
              "    }\n",
              "\n",
              "    .colab-df-convert:hover {\n",
              "      background-color: #E2EBFA;\n",
              "      box-shadow: 0px 1px 2px rgba(60, 64, 67, 0.3), 0px 1px 3px 1px rgba(60, 64, 67, 0.15);\n",
              "      fill: #174EA6;\n",
              "    }\n",
              "\n",
              "    [theme=dark] .colab-df-convert {\n",
              "      background-color: #3B4455;\n",
              "      fill: #D2E3FC;\n",
              "    }\n",
              "\n",
              "    [theme=dark] .colab-df-convert:hover {\n",
              "      background-color: #434B5C;\n",
              "      box-shadow: 0px 1px 3px 1px rgba(0, 0, 0, 0.15);\n",
              "      filter: drop-shadow(0px 1px 2px rgba(0, 0, 0, 0.3));\n",
              "      fill: #FFFFFF;\n",
              "    }\n",
              "  </style>\n",
              "\n",
              "      <script>\n",
              "        const buttonEl =\n",
              "          document.querySelector('#df-1b94c59d-a9ad-4606-a232-ed270caa2f57 button.colab-df-convert');\n",
              "        buttonEl.style.display =\n",
              "          google.colab.kernel.accessAllowed ? 'block' : 'none';\n",
              "\n",
              "        async function convertToInteractive(key) {\n",
              "          const element = document.querySelector('#df-1b94c59d-a9ad-4606-a232-ed270caa2f57');\n",
              "          const dataTable =\n",
              "            await google.colab.kernel.invokeFunction('convertToInteractive',\n",
              "                                                     [key], {});\n",
              "          if (!dataTable) return;\n",
              "\n",
              "          const docLinkHtml = 'Like what you see? Visit the ' +\n",
              "            '<a target=\"_blank\" href=https://colab.research.google.com/notebooks/data_table.ipynb>data table notebook</a>'\n",
              "            + ' to learn more about interactive tables.';\n",
              "          element.innerHTML = '';\n",
              "          dataTable['output_type'] = 'display_data';\n",
              "          await google.colab.output.renderOutput(dataTable, element);\n",
              "          const docLink = document.createElement('div');\n",
              "          docLink.innerHTML = docLinkHtml;\n",
              "          element.appendChild(docLink);\n",
              "        }\n",
              "      </script>\n",
              "    </div>\n",
              "  </div>\n",
              "  "
            ]
          },
          "metadata": {},
          "execution_count": 238
        }
      ]
    },
    {
      "cell_type": "code",
      "source": [
        "data = score(data)\n",
        "data[data[\"Date\"] == \"2022-03-17\"]"
      ],
      "metadata": {
        "colab": {
          "base_uri": "https://localhost:8080/",
          "height": 110
        },
        "id": "zKTgqo4k59WW",
        "outputId": "d4cf44d3-736d-41e3-a4d0-427970edb364"
      },
      "execution_count": 248,
      "outputs": [
        {
          "output_type": "execute_result",
          "data": {
            "text/plain": [
              "        Date  Open  High   Low  Close  Adj Close   Volume   RSI  SMA5  SMA9  \\\n",
              "1 2022-03-17 96.00 96.65 94.95  95.40      95.40  1791645 50.38 92.80 89.45   \n",
              "\n",
              "   ...      OBV    CCI   ROC  BULL  BEAR   ADX   +DI   -DI     STOCK  SCORE  \n",
              "1  ... 83670.40 121.59 11.19  6.33  4.62 14.76 25.23 20.43  PGSUS.IS  85.51  \n",
              "\n",
              "[1 rows x 42 columns]"
            ],
            "text/html": [
              "\n",
              "  <div id=\"df-f5d17573-f9ab-4d2d-a18d-3bcfc1e981fc\">\n",
              "    <div class=\"colab-df-container\">\n",
              "      <div>\n",
              "<style scoped>\n",
              "    .dataframe tbody tr th:only-of-type {\n",
              "        vertical-align: middle;\n",
              "    }\n",
              "\n",
              "    .dataframe tbody tr th {\n",
              "        vertical-align: top;\n",
              "    }\n",
              "\n",
              "    .dataframe thead th {\n",
              "        text-align: right;\n",
              "    }\n",
              "</style>\n",
              "<table border=\"1\" class=\"dataframe\">\n",
              "  <thead>\n",
              "    <tr style=\"text-align: right;\">\n",
              "      <th></th>\n",
              "      <th>Date</th>\n",
              "      <th>Open</th>\n",
              "      <th>High</th>\n",
              "      <th>Low</th>\n",
              "      <th>Close</th>\n",
              "      <th>Adj Close</th>\n",
              "      <th>Volume</th>\n",
              "      <th>RSI</th>\n",
              "      <th>SMA5</th>\n",
              "      <th>SMA9</th>\n",
              "      <th>...</th>\n",
              "      <th>OBV</th>\n",
              "      <th>CCI</th>\n",
              "      <th>ROC</th>\n",
              "      <th>BULL</th>\n",
              "      <th>BEAR</th>\n",
              "      <th>ADX</th>\n",
              "      <th>+DI</th>\n",
              "      <th>-DI</th>\n",
              "      <th>STOCK</th>\n",
              "      <th>SCORE</th>\n",
              "    </tr>\n",
              "  </thead>\n",
              "  <tbody>\n",
              "    <tr>\n",
              "      <th>1</th>\n",
              "      <td>2022-03-17</td>\n",
              "      <td>96.00</td>\n",
              "      <td>96.65</td>\n",
              "      <td>94.95</td>\n",
              "      <td>95.40</td>\n",
              "      <td>95.40</td>\n",
              "      <td>1791645</td>\n",
              "      <td>50.38</td>\n",
              "      <td>92.80</td>\n",
              "      <td>89.45</td>\n",
              "      <td>...</td>\n",
              "      <td>83670.40</td>\n",
              "      <td>121.59</td>\n",
              "      <td>11.19</td>\n",
              "      <td>6.33</td>\n",
              "      <td>4.62</td>\n",
              "      <td>14.76</td>\n",
              "      <td>25.23</td>\n",
              "      <td>20.43</td>\n",
              "      <td>PGSUS.IS</td>\n",
              "      <td>85.51</td>\n",
              "    </tr>\n",
              "  </tbody>\n",
              "</table>\n",
              "<p>1 rows × 42 columns</p>\n",
              "</div>\n",
              "      <button class=\"colab-df-convert\" onclick=\"convertToInteractive('df-f5d17573-f9ab-4d2d-a18d-3bcfc1e981fc')\"\n",
              "              title=\"Convert this dataframe to an interactive table.\"\n",
              "              style=\"display:none;\">\n",
              "        \n",
              "  <svg xmlns=\"http://www.w3.org/2000/svg\" height=\"24px\"viewBox=\"0 0 24 24\"\n",
              "       width=\"24px\">\n",
              "    <path d=\"M0 0h24v24H0V0z\" fill=\"none\"/>\n",
              "    <path d=\"M18.56 5.44l.94 2.06.94-2.06 2.06-.94-2.06-.94-.94-2.06-.94 2.06-2.06.94zm-11 1L8.5 8.5l.94-2.06 2.06-.94-2.06-.94L8.5 2.5l-.94 2.06-2.06.94zm10 10l.94 2.06.94-2.06 2.06-.94-2.06-.94-.94-2.06-.94 2.06-2.06.94z\"/><path d=\"M17.41 7.96l-1.37-1.37c-.4-.4-.92-.59-1.43-.59-.52 0-1.04.2-1.43.59L10.3 9.45l-7.72 7.72c-.78.78-.78 2.05 0 2.83L4 21.41c.39.39.9.59 1.41.59.51 0 1.02-.2 1.41-.59l7.78-7.78 2.81-2.81c.8-.78.8-2.07 0-2.86zM5.41 20L4 18.59l7.72-7.72 1.47 1.35L5.41 20z\"/>\n",
              "  </svg>\n",
              "      </button>\n",
              "      \n",
              "  <style>\n",
              "    .colab-df-container {\n",
              "      display:flex;\n",
              "      flex-wrap:wrap;\n",
              "      gap: 12px;\n",
              "    }\n",
              "\n",
              "    .colab-df-convert {\n",
              "      background-color: #E8F0FE;\n",
              "      border: none;\n",
              "      border-radius: 50%;\n",
              "      cursor: pointer;\n",
              "      display: none;\n",
              "      fill: #1967D2;\n",
              "      height: 32px;\n",
              "      padding: 0 0 0 0;\n",
              "      width: 32px;\n",
              "    }\n",
              "\n",
              "    .colab-df-convert:hover {\n",
              "      background-color: #E2EBFA;\n",
              "      box-shadow: 0px 1px 2px rgba(60, 64, 67, 0.3), 0px 1px 3px 1px rgba(60, 64, 67, 0.15);\n",
              "      fill: #174EA6;\n",
              "    }\n",
              "\n",
              "    [theme=dark] .colab-df-convert {\n",
              "      background-color: #3B4455;\n",
              "      fill: #D2E3FC;\n",
              "    }\n",
              "\n",
              "    [theme=dark] .colab-df-convert:hover {\n",
              "      background-color: #434B5C;\n",
              "      box-shadow: 0px 1px 3px 1px rgba(0, 0, 0, 0.15);\n",
              "      filter: drop-shadow(0px 1px 2px rgba(0, 0, 0, 0.3));\n",
              "      fill: #FFFFFF;\n",
              "    }\n",
              "  </style>\n",
              "\n",
              "      <script>\n",
              "        const buttonEl =\n",
              "          document.querySelector('#df-f5d17573-f9ab-4d2d-a18d-3bcfc1e981fc button.colab-df-convert');\n",
              "        buttonEl.style.display =\n",
              "          google.colab.kernel.accessAllowed ? 'block' : 'none';\n",
              "\n",
              "        async function convertToInteractive(key) {\n",
              "          const element = document.querySelector('#df-f5d17573-f9ab-4d2d-a18d-3bcfc1e981fc');\n",
              "          const dataTable =\n",
              "            await google.colab.kernel.invokeFunction('convertToInteractive',\n",
              "                                                     [key], {});\n",
              "          if (!dataTable) return;\n",
              "\n",
              "          const docLinkHtml = 'Like what you see? Visit the ' +\n",
              "            '<a target=\"_blank\" href=https://colab.research.google.com/notebooks/data_table.ipynb>data table notebook</a>'\n",
              "            + ' to learn more about interactive tables.';\n",
              "          element.innerHTML = '';\n",
              "          dataTable['output_type'] = 'display_data';\n",
              "          await google.colab.output.renderOutput(dataTable, element);\n",
              "          const docLink = document.createElement('div');\n",
              "          docLink.innerHTML = docLinkHtml;\n",
              "          element.appendChild(docLink);\n",
              "        }\n",
              "      </script>\n",
              "    </div>\n",
              "  </div>\n",
              "  "
            ]
          },
          "metadata": {},
          "execution_count": 248
        }
      ]
    },
    {
      "cell_type": "code",
      "source": [
        "import matplotlib.pyplot as plt\n",
        "plt.figure(figsize=(128,10))\n",
        "\n",
        "plt.plot(data[\"Date\"], data[\"SCORE\"])\n",
        "plt.xticks(data[\"Date\"])\n",
        "plt.xticks(rotation=90)\n",
        "\n",
        "plt.axhline(y = buy_threshold, color = 'g', linestyle = '-')\n",
        "plt.axhline(y = sell_threshold, color = 'r', linestyle = '-')\n",
        "\n",
        "plt.scatter(test_df[test_df[\"B/S\"]== \"BUY\"][\"DATE\"], test_df[test_df[\"B/S\"]== \"BUY\"][\"SCORE\"], color = 'green')\n",
        "plt.scatter(test_df[test_df[\"B/S\"]== \"SELL\"][\"DATE\"], test_df[test_df[\"B/S\"]== \"SELL\"][\"SCORE\"], color = 'red')\n",
        "\n",
        "plt.show()"
      ],
      "metadata": {
        "id": "Iw6oWg3f0TKu"
      },
      "execution_count": null,
      "outputs": []
    },
    {
      "cell_type": "code",
      "source": [],
      "metadata": {
        "id": "eylEpaod90M7"
      },
      "execution_count": null,
      "outputs": []
    }
  ],
  "metadata": {
    "colab": {
      "provenance": [],
      "gpuType": "T4",
      "include_colab_link": true
    },
    "kernelspec": {
      "display_name": "Python 3",
      "name": "python3"
    },
    "language_info": {
      "codemirror_mode": {
        "name": "ipython",
        "version": 3
      },
      "file_extension": ".py",
      "mimetype": "text/x-python",
      "name": "python",
      "nbconvert_exporter": "python",
      "pygments_lexer": "ipython3",
      "version": "3.8.3"
    }
  },
  "nbformat": 4,
  "nbformat_minor": 0
}
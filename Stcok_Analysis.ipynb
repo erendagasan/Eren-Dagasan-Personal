{
  "cells": [
    {
      "cell_type": "markdown",
      "metadata": {
        "id": "view-in-github",
        "colab_type": "text"
      },
      "source": [
        "<a href=\"https://colab.research.google.com/github/erendagasan/Eren-Dagasan-Personal/blob/main/Stcok_Analysis.ipynb\" target=\"_parent\"><img src=\"https://colab.research.google.com/assets/colab-badge.svg\" alt=\"Open In Colab\"/></a>"
      ]
    },
    {
      "cell_type": "code",
      "execution_count": 1,
      "metadata": {
        "id": "CILEt1NgoCJG"
      },
      "outputs": [],
      "source": [
        "!pip install -q bta-lib\n",
        "!pip install -q ta\n",
        "!pip install -q yfinance"
      ]
    },
    {
      "cell_type": "code",
      "source": [
        "import yfinance as yf\n",
        "import btalib\n",
        "import numpy as np\n",
        "import pandas as pd\n",
        "from ta.trend import PSARIndicator\n",
        "from ta.momentum import WilliamsRIndicator\n",
        "from ta.trend import AroonIndicator\n",
        "from ta.volume import VolumePriceTrendIndicator\n",
        "from ta.trend import CCIIndicator\n",
        "from ta.momentum import ROCIndicator\n",
        "from ta.trend import ADXIndicator\n",
        "\n",
        "import warnings\n",
        "warnings.filterwarnings(\"ignore\", category=FutureWarning)\n",
        "warnings.filterwarnings(\"ignore\", category=RuntimeWarning)\n",
        "pd.set_option('display.float_format', lambda x: '%.2f' % x)\n",
        "pd.set_option('display.max_rows', 500)"
      ],
      "metadata": {
        "id": "WWvB2_sVlTqN"
      },
      "execution_count": 2,
      "outputs": []
    },
    {
      "cell_type": "code",
      "source": [
        "#@title Stock Lists\n",
        "xu030 = [\n",
        "        'AKBNK.IS',\n",
        "        'AKSEN.IS',\n",
        "        'ALARK.IS',\n",
        "        'ARCLK.IS',\n",
        "        'ASELS.IS',\n",
        "        'BIMAS.IS',\n",
        "        'EKGYO.IS',\n",
        "        'ENKAI.IS',\n",
        "        'EREGL.IS',\n",
        "        'FROTO.IS',\n",
        "        'GARAN.IS',\n",
        "        'GUBRF.IS',\n",
        "        'HEKTS.IS',\n",
        "        'KRDMD.IS',\n",
        "        'KCHOL.IS',\n",
        "        'KOZAL.IS',\n",
        "        'KOZAA.IS',\n",
        "        'ODAS.IS',\n",
        "        'PGSUS.IS',\n",
        "        'SAHOL.IS',\n",
        "        'SASA.IS',\n",
        "        'PETKM.IS',\n",
        "        'SISE.IS',\n",
        "        'TAVHL.IS',\n",
        "        'THYAO.IS',\n",
        "        'TUPRS.IS',\n",
        "        'TOASO.IS',\n",
        "        'TCELL.IS',\n",
        "        'ISCTR.IS',\n",
        "        'YKBNK.IS'\n",
        "          ]\n",
        "\n",
        "xu100 = ['ADESE.IS',\n",
        "        'AGHOL.IS',\n",
        "        'AKBNK.IS',\n",
        "        'AKSA.IS',\n",
        "        'AKSEN.IS',\n",
        "        'ALGYO.IS',\n",
        "        'ALARK.IS',\n",
        "        'ALKIM.IS',\n",
        "        'AEFES.IS',\n",
        "        'ARCLK.IS',\n",
        "        'ARDYZ.IS',\n",
        "        'ASELS.IS',\n",
        "        'AYDEM.IS',\n",
        "        'BERA.IS',\n",
        "        'BIMAS.IS',\n",
        "        'BRYAT.IS',\n",
        "        'BRISA.IS',\n",
        "        'CCOLA.IS',\n",
        "        'CANTE.IS',\n",
        "        'CEMAS.IS',\n",
        "        'CIMSA.IS',\n",
        "        'DOHOL.IS',\n",
        "        'DOAS.IS',\n",
        "        'EGEEN.IS',\n",
        "        'ECILC.IS',\n",
        "        'EKGYO.IS',\n",
        "        'ENJSA.IS',\n",
        "        'ENKAI.IS',\n",
        "        'ERBOS.IS',\n",
        "        'EREGL.IS',\n",
        "        'FROTO.IS',\n",
        "        'GENIL.IS',\n",
        "        'GESAN.IS',\n",
        "        'GLYHO.IS',\n",
        "        'GOZDE.IS',\n",
        "        'GUBRF.IS',\n",
        "        'SAHOL.IS',\n",
        "        'HEKTS.IS',\n",
        "        'INDES.IS',\n",
        "        'IPEKE.IS',\n",
        "        'ISDMR.IS',\n",
        "        'ISFIN.IS',\n",
        "        'ISGYO.IS',\n",
        "        'ISMEN.IS',\n",
        "        'IZMDC.IS',\n",
        "        'KRDMD.IS',\n",
        "        'KARSN.IS',\n",
        "        'KARTN.IS',\n",
        "        'KERVT.IS',\n",
        "        'KRVGD.IS',\n",
        "        'KCHOL.IS',\n",
        "        'KORDS.IS',\n",
        "        'KOZAL.IS',\n",
        "        'KOZAA.IS',\n",
        "        'LOGO.IS',\n",
        "        'MAVI.IS',\n",
        "        'MGROS.IS',\n",
        "        'NTHOL.IS',\n",
        "        'ODAS.IS',\n",
        "        'OTKAR.IS',\n",
        "        'OYAKC.IS',\n",
        "        'PARSN.IS',\n",
        "        'PGSUS.IS',\n",
        "        'PETKM.IS',\n",
        "        'QUAGR.IS',\n",
        "        'RTALB.IS',\n",
        "        'SARKY.IS',\n",
        "        'SASA.IS',\n",
        "        'SELEC.IS',\n",
        "        'SKBNK.IS',\n",
        "        'SOKM.IS',\n",
        "        'TAVHL.IS',\n",
        "        'TKFEN.IS',\n",
        "        'TKNSA.IS',\n",
        "        'TOASO.IS',\n",
        "        'TRGYO.IS',\n",
        "        'TCELL.IS',\n",
        "        'TUPRS.IS',\n",
        "        'THYAO.IS',\n",
        "        'TTKOM.IS',\n",
        "        'TTRAK.IS',\n",
        "        'GARAN.IS',\n",
        "        'HALKB.IS',\n",
        "        'ISCTR.IS',\n",
        "        'TSKB.IS',\n",
        "        'TURSG.IS',\n",
        "        'SISE.IS',\n",
        "        'VAKBN.IS',\n",
        "        'ULKER.IS',\n",
        "        'VERUS.IS',\n",
        "        'VESBE.IS',\n",
        "        'VESTL.IS',\n",
        "        'YKBNK.IS',\n",
        "        'YATAS.IS',\n",
        "        'ZRGYO.IS',\n",
        "        'ZOREN.IS']\n",
        "\n",
        "url = 'https://en.m.wikipedia.org/wiki/Nasdaq-100'\n",
        "nasdaq100 = pd.read_html(url, attrs={'id': \"constituents\"})[0]\n",
        "nasdaq100 = nasdaq100[\"Ticker\"].to_list()"
      ],
      "metadata": {
        "id": "TUKxemqyjEYd",
        "cellView": "form"
      },
      "execution_count": 3,
      "outputs": []
    },
    {
      "cell_type": "code",
      "source": [
        "def create_indicators(data):\n",
        "  # Below 30 is oversold, upper 70 is overbought\n",
        "  data[\"RSI\"] = btalib.rsi(data[\"Close\"], period=14).df\n",
        "\n",
        "  #If little period conflicts with the bigger one it means buy else sell.\n",
        "  data[\"SMA9\"] = btalib.sma(data['Close'], period=9).df\n",
        "  data[\"SMA20\"] = btalib.sma(data['Close'], period=20).df\n",
        "\n",
        "  #A reading below 20 generally represents an oversold market and a reading above 80 an overbought market. Look only STOCH-D.\n",
        "  data[\"STOCH-K\"] = btalib.stoch(data['High'], data['Low'], data['Close']).df[\"k\"]\n",
        "  data[\"STOCH-D\"] = btalib.stoch(data['High'], data['Low'], data['Close']).df[\"d\"]\n",
        "\n",
        "  #When the MACD line crosses above the signal line, it generates a buy signal. This indicates a potential bullish trend reversal.\n",
        "  #Additionally, monitor the MACD histogram. When the histogram bars turn positive (change from negative to positive), it confirms the buy signal and suggests increasing buying pressure.\n",
        "  data[\"MACD\"] = btalib.macd(data['Close']).df[\"macd\"]\n",
        "  data[\"SIGNAL\"] = btalib.macd(data['Close']).df[\"signal\"]\n",
        "  data[\"HISTOGRAM\"] = btalib.macd(data['Close']).df[\"histogram\"]\n",
        "\n",
        "  #Buy Signal: When the price of the stock touches or crosses below the lower Bollinger Band, it can be considered a buy signal.\n",
        "  #This suggests that the stock may be oversold, and a potential price rebound is expected.\n",
        "  #Sell Signal: When the price of the stock touches or crosses above the upper Bollinger Band, it can be considered a sell signal.\n",
        "  #This indicates that the stock may be overbought, and a potential price correction is expected.\n",
        "  data[\"BB-UPPER\"] = btalib.bbands(data['Close']).df['top']\n",
        "  data[\"BB-MID\"] = btalib.bbands(data['Close']).df['mid']\n",
        "  data[\"BB-LOWER\"] = btalib.bbands(data['Close']).df['bot']\n",
        "\n",
        "  #When the current price of the stock falls below a certain number of standard deviations (GET THE MIN AND MAX VALUE OF THE COLUMN AND MAKE IT THE THRESHOLD)\n",
        "  #from the mean, it generates a buy signal. This suggests that the price has deviated significantly from the average and may present a buying opportunity.\n",
        "  data[\"STDEV\"] = data[\"Close\"].rolling(window=10).std()\n",
        "\n",
        "  #Generate a buy signal when the price crosses above the PSAR.\n",
        "  #This indicates a potential reversal in the downward trend and suggests a buying opportunity.\n",
        "  data[\"PSAR\"] = PSARIndicator(data[\"High\"], data[\"Low\"], data[\"Close\"]).psar()\n",
        "\n",
        "  #Williams\n",
        "  #Use the Williams Percent Range (%R) formula to calculate the %R values based on historical price data.\n",
        "  #The %R values range from -100 to 0, where values close to -100 indicate oversold conditions and values close to 0 indicate overbought conditions.\n",
        "  #Generate a buy signal when the %R value crosses above a certain threshold (e.g., -80) from below.\n",
        "  #This indicates a potential reversal from oversold conditions and suggests a buying opportunity.\n",
        "  data[\"WILLIAMS\"] = WilliamsRIndicator(data[\"High\"], data[\"Low\"], data[\"Close\"]).williams_r()\n",
        "\n",
        "  #The difference between these two lines indicates whether there is overbought (a positive number) or oversold (a negative number).\n",
        "  data[\"AROON\"] = AroonIndicator(close=data[\"Close\"], window=25).aroon_indicator()\n",
        "\n",
        "  #obv\n",
        "  data[\"OBV\"] = VolumePriceTrendIndicator(close=data['Close'], volume=data['Volume']).volume_price_trend()\n",
        "\n",
        "  #CCI\n",
        "  data['CCI'] = CCIIndicator(close=data['Close'], low=data[\"Low\"], high=data[\"High\"], window=14).cci()\n",
        "\n",
        "  #ROC\n",
        "  data['ROC'] = ROCIndicator(close=data['Close'], window=5).roc()\n",
        "\n",
        "  #BULLBEARPOWER\n",
        "  data['BULL'] = data['High'] - (data['High'].rolling(13).max() + data['Low'].rolling(13).min()) / 2\n",
        "  data['BEAR'] = data['Low'] - (data['High'].rolling(13).max() + data['Low'].rolling(13).min()) / 2\n",
        "\n",
        "  #ADX\n",
        "  adx_indicator = ADXIndicator(high=data['High'], low=data['Low'], close=data['Close'], window=14)\n",
        "  data['ADX'] = adx_indicator.adx()\n",
        "  data['+DI'] = adx_indicator.adx_pos()\n",
        "  data['-DI'] = adx_indicator.adx_neg()\n",
        "\n",
        "  data = data.dropna()\n",
        "  data = data.reset_index()\n",
        "  return data\n",
        "\n",
        "def score(data):\n",
        "  scores = []\n",
        "\n",
        "  for row in range(data.shape[0]):\n",
        "    #MAX 15.25\n",
        "    #MIN -15.25\n",
        "\n",
        "    min_score = -15.25\n",
        "    max_score = 15.25\n",
        "    score = 0\n",
        "\n",
        "    if data[\"RSI\"][row] < 30:\n",
        "      score += 1\n",
        "    elif data[\"RSI\"][row] > 70:\n",
        "      score+=-1\n",
        "    # else:\n",
        "    #   score+=(100-int(data[\"RSI\"][row]))/70\n",
        "\n",
        "    if data[\"SMA9\"][row] > data[\"SMA20\"][row] and data[\"Close\"][row] > data[\"SMA9\"][row]:\n",
        "      score += 1\n",
        "    else:\n",
        "      score += -1\n",
        "\n",
        "    if data[\"STOCH-D\"][row] <= 20:\n",
        "      score += 1\n",
        "    elif data[\"STOCH-D\"][row] >= 80:\n",
        "      score += -1\n",
        "\n",
        "    if data[\"MACD\"][row] > data[\"SIGNAL\"][row]:\n",
        "      score+=1\n",
        "    if row > 0 and data[\"MACD\"][row] > data[\"SIGNAL\"][row] and data[\"HISTOGRAM\"][row-1] < 0 and data[\"HISTOGRAM\"][row] > 0:\n",
        "      score+=1\n",
        "    if row > 0 and data[\"MACD\"][row] < data[\"SIGNAL\"][row] and data[\"HISTOGRAM\"][row-1] > 0 and data[\"HISTOGRAM\"][row] > 0:\n",
        "      score+=-1\n",
        "    elif data[\"MACD\"][row] < data[\"SIGNAL\"][row]:\n",
        "      score+=-1\n",
        "\n",
        "    if data[\"BB-LOWER\"].iloc[row] > data[\"Close\"].iloc[row]:\n",
        "        score += 1\n",
        "    elif data[\"BB-MID\"].iloc[row] < data[\"Close\"].iloc[row] and data[\"BB-LOWER\"].iloc[row] - data[\"Close\"].iloc[row] < data[\"BB-MID\"].iloc[row] - data[\"Close\"].iloc[row]:\n",
        "        score += 0.25\n",
        "    elif data[\"BB-MID\"].iloc[row] > data[\"Close\"].iloc[row] and data[\"BB-LOWER\"].iloc[row] - data[\"Close\"].iloc[row] > data[\"BB-MID\"].iloc[row] - data[\"Close\"].iloc[row]:\n",
        "        score -= 0.25\n",
        "    elif data[\"BB-UPPER\"].iloc[row] < data[\"Close\"].iloc[row]:\n",
        "        score -= 1\n",
        "\n",
        "    if (data[\"STDEV\"].max() + data[\"STDEV\"].min()) / 2 > data[\"STDEV\"][row]:\n",
        "      score+=1\n",
        "    else:\n",
        "      score+=-1\n",
        "\n",
        "    if data[\"PSAR\"][row] < data[\"Close\"][row]:\n",
        "      score+=1\n",
        "    else:\n",
        "      score+=-1\n",
        "\n",
        "    if data[\"WILLIAMS\"][row] < -80:\n",
        "      score+=1\n",
        "    elif data[\"WILLIAMS\"][row] > -20:\n",
        "      score+=-1\n",
        "\n",
        "    if data[\"AROON\"][row] > 0:\n",
        "      score+=-1\n",
        "    else:\n",
        "      score+=1\n",
        "\n",
        "    if row > 0 and data[\"OBV\"][row-1] < data[\"OBV\"][row] and data[\"Close\"][row] > data[\"Close\"][row-1]:\n",
        "      score+=1\n",
        "    elif row > 0 and data[\"OBV\"][row-1] > data[\"OBV\"][row] and data[\"Close\"][row] < data[\"Close\"][row-1]:\n",
        "      score+=-1\n",
        "\n",
        "    if row > 0 and (data['CCI'][row] > -100) & (data['CCI'][row-1] <= -100):\n",
        "      score+=1\n",
        "    elif row > 0 and (data['CCI'][row] < 100) & (data['CCI'][row-1] >= 100):\n",
        "      score-=1\n",
        "\n",
        "    if data[\"ROC\"][row] > 0:\n",
        "      score+=1\n",
        "    elif data[\"ROC\"][row] < 0:\n",
        "      score-=1\n",
        "\n",
        "    if data[\"BULL\"][row] > 0:\n",
        "      score+=1\n",
        "    elif data[\"BEAR\"][row] < 0:\n",
        "      score-=1\n",
        "\n",
        "    if (data['ADX'][row] > 25) and (data['+DI'][row] > data['-DI'][row]):\n",
        "      score+=1\n",
        "    elif (data['ADX'][row] > 50) and (data['+DI'][row] < data['-DI'][row]):\n",
        "      score-=1\n",
        "\n",
        "    #normalized score between 0-100\n",
        "    normalized_score = ((score - min_score) / (max_score - min_score)) * (100 - 0) + 0\n",
        "    scores.append(normalized_score)\n",
        "\n",
        "  data[\"SCORE\"] = scores\n",
        "  return data\n",
        "\n",
        "def save_to_excel(stock, data):\n",
        "  output_file = stock + \":\" + start + \":\" + end + '.xlsx'\n",
        "  writer = pd.ExcelWriter(output_file)\n",
        "  data.to_excel(writer, index=True, sheet_name=stock)\n",
        "  writer.save()\n",
        "\n",
        "def buy_or_sell(stock, data, balance, upper_score, lower_score):\n",
        "  stock_balance = 0\n",
        "  transactions = []\n",
        "\n",
        "  for row in range(data.shape[0]):\n",
        "    if row > 0 and data[\"SCORE\"].iloc[row] >= upper_score and data[\"SCORE\"].iloc[row-1] < upper_score and balance > data[\"Close\"].iloc[row]:\n",
        "      stock_balance = balance / data[\"Close\"].iloc[row]\n",
        "      balance-= stock_balance*data[\"Close\"].iloc[row]\n",
        "      transactions.append([stock, \"BUY\", data[\"Date\"].iloc[row], data[\"Close\"].iloc[row], stock_balance, balance])\n",
        "\n",
        "    elif row > 0 and data[\"SCORE\"].iloc[row] <= lower_score and data[\"SCORE\"].iloc[row-1] > lower_score and stock_balance > 1:\n",
        "      balance+=stock_balance*data[\"Close\"].iloc[row]\n",
        "      stock_balance-=stock_balance\n",
        "      transactions.append([stock,\"SELL\", data[\"Date\"].iloc[row], data[\"Close\"].iloc[row], stock_balance, balance])\n",
        "\n",
        "  transactions_df = pd.DataFrame(transactions, columns=[\"STOCK\",\"B/S\", \"DATE\", \"PRICE\", \"STOCK BALANCE\", \"TRY BALANCE\"])\n",
        "  transactions_df[\"LAST PRICE\"] = data[\"Close\"].iloc[-1]\n",
        "  return transactions_df\n",
        "\n",
        "def test_the_market(market, buy_threshold, sell_threshold, start, end, balance):\n",
        "  test_df = pd.DataFrame()\n",
        "\n",
        "  for stock in market:\n",
        "    try:\n",
        "      data = yf.download(stock, start, end, progress=False)\n",
        "      data = create_indicators(data)\n",
        "      data = score(data)\n",
        "      simulation_df = buy_or_sell(stock, data, balance=balance, upper_score=buy_threshold, lower_score=sell_threshold)\n",
        "      test_df = pd.concat([test_df, simulation_df])\n",
        "\n",
        "    except:\n",
        "      print(\"Data error with stock named: \" + stock)\n",
        "\n",
        "  test_df = test_df.reset_index().drop([\"index\"], axis=1)\n",
        "\n",
        "  for row in range(test_df.shape[0]):\n",
        "    if test_df[\"B/S\"].iloc[row] == \"BUY\" and test_df[\"B/S\"].iloc[row+1] == \"BUY\" and not test_df[\"B/S\"].iloc[row] == \"CLOSE\" and not test_df[\"B/S\"].iloc[row+1] == \"CLOSE\":\n",
        "      add = pd.DataFrame({\"STOCK\": [test_df[\"STOCK\"][row]], \"B/S\": [\"CLOSE\"], \"DATE\": [\"TODAY\"], \"PRICE\": [test_df[\"LAST PRICE\"][row]],\n",
        "                          'STOCK BALANCE': [\"0\"], 'TRY BALANCE': [test_df[\"STOCK BALANCE\"][row]*test_df[\"LAST PRICE\"][row]], 'LAST PRICE' :[test_df[\"LAST PRICE\"][row]]})\n",
        "\n",
        "      df_top = test_df.loc[:row]\n",
        "      df_bottom = test_df.loc[row+1:]\n",
        "      test_df = pd.concat([df_top, add, df_bottom], ignore_index=True)\n",
        "\n",
        "  return test_df\n",
        "\n",
        "def optimal_threshold(market, start, end):\n",
        "  tries = []\n",
        "\n",
        "  for buy_threshold in range(40, 80):\n",
        "    print(f\"Tried buy threshold is: {buy_threshold}\")\n",
        "    for sell_threshold in range(40, 80):\n",
        "      print(f\"Tried sell threshold is: {sell_threshold}\")\n",
        "      test_df = test_the_market(market, buy_threshold, sell_threshold, start, end)\n",
        "\n",
        "      if test_df.empty != True:\n",
        "        profit_or_loss = []\n",
        "        buffer_stock = test_df[\"STOCK\"].iloc[0]\n",
        "\n",
        "        for row in range(test_df.shape[0]):\n",
        "          loop_stock = test_df[\"STOCK\"].iloc[row]\n",
        "\n",
        "          if buffer_stock != loop_stock:\n",
        "            profit_or_loss.append(test_df[\"TRY BALANCE\"].iloc[row-1]-2000)\n",
        "            buffer_stock = loop_stock\n",
        "\n",
        "        profit_or_loss.append(test_df[\"TRY BALANCE\"].iloc[-1]-2000)\n",
        "        profit = sum(profit_or_loss)\n",
        "\n",
        "        tries.append([buy_threshold, sell_threshold, profit])\n",
        "\n",
        "  return pd.DataFrame(tries, columns=[\"BUY TH\", \"SELL TH\", \"PROFIT\"])"
      ],
      "metadata": {
        "id": "YJK_7ot1ipoG"
      },
      "execution_count": 4,
      "outputs": []
    },
    {
      "cell_type": "code",
      "source": [
        "start=\"2010-01-01\"\n",
        "end=\"2023-06-18\"\n",
        "balance = 2000\n",
        "#57, 63 - 64, 62, - 46, 78\n",
        "buy_threshold = 57\n",
        "sell_threshold = 63"
      ],
      "metadata": {
        "id": "myQQY_GteXzb"
      },
      "execution_count": 5,
      "outputs": []
    },
    {
      "cell_type": "code",
      "source": [
        "buy_stocks = []\n",
        "sell_stocks = []\n",
        "simulation_stocks = pd.DataFrame()\n",
        "\n",
        "lookup_table = [\"PGSUS.IS\"]\n",
        "portfolio = []\n",
        "\n",
        "for stock in xu100:\n",
        "  try:\n",
        "    data = yf.download(stock, start=start, end=end, progress=False)\n",
        "    data = create_indicators(data)\n",
        "    data = score(data)\n",
        "\n",
        "    if stock in lookup_table:\n",
        "      # save_to_excel(stock, data)\n",
        "      portfolio.append([data.tail(1)[\"Date\"].item(), stock, data.tail(1)[\"Close\"].item(), data.tail(1)[\"SCORE\"].item(),\n",
        "                        \"BUY\" if data[\"SCORE\"].iloc[-1] > buy_threshold and data[\"SCORE\"].iloc[-2] < buy_threshold else \"SELL\" if data[\"SCORE\"].iloc[-1] < sell_threshold and data[\"SCORE\"].iloc[-2] > sell_threshold else \"HOLD\"])\n",
        "\n",
        "    if data[\"SCORE\"].iloc[-1] > buy_threshold and data[\"SCORE\"].iloc[-2] < buy_threshold:\n",
        "      buy_stocks.append([data.tail(1)[\"Date\"].item(), stock, data.tail(1)[\"Close\"].item(), data.tail(1)[\"SCORE\"].item(), \"BUY\"])\n",
        "      simulation_df = buy_or_sell(stock, data, balance=2000, upper_score=buy_threshold, lower_score=sell_threshold)\n",
        "      simulation_stocks = pd.concat([simulation_stocks, simulation_df])\n",
        "\n",
        "    elif data[\"SCORE\"].iloc[-1] < sell_threshold and data[\"SCORE\"].iloc[-2] > sell_threshold:\n",
        "      sell_stocks.append([data.tail(1)[\"Date\"].item(), stock, data.tail(1)[\"Close\"].item(), data.tail(1)[\"SCORE\"].item(), \"SELL\"])\n",
        "\n",
        "  except:\n",
        "    print(\"Data error at the stock named: \" + stock)"
      ],
      "metadata": {
        "id": "4y32Lax5l9cq"
      },
      "execution_count": null,
      "outputs": []
    },
    {
      "cell_type": "code",
      "source": [
        "portfolio = pd.DataFrame(portfolio, columns=[\"DATE\",\"STOCK\", \"PRICE\",\"SCORE\", \"B/S/H\"])\n",
        "portfolio = portfolio.sort_values(by='SCORE')\n",
        "portfolio"
      ],
      "metadata": {
        "id": "73Miv1W8IJek",
        "colab": {
          "base_uri": "https://localhost:8080/",
          "height": 81
        },
        "outputId": "49210ee2-a392-448a-c37e-75efc7076d14"
      },
      "execution_count": null,
      "outputs": [
        {
          "output_type": "execute_result",
          "data": {
            "text/plain": [
              "        DATE     STOCK  PRICE  SCORE B/S/H\n",
              "0 2023-06-16  PGSUS.IS 589.30  57.38   BUY"
            ],
            "text/html": [
              "\n",
              "  <div id=\"df-325a50f7-df6a-4dd1-833d-2ad3f18354f9\">\n",
              "    <div class=\"colab-df-container\">\n",
              "      <div>\n",
              "<style scoped>\n",
              "    .dataframe tbody tr th:only-of-type {\n",
              "        vertical-align: middle;\n",
              "    }\n",
              "\n",
              "    .dataframe tbody tr th {\n",
              "        vertical-align: top;\n",
              "    }\n",
              "\n",
              "    .dataframe thead th {\n",
              "        text-align: right;\n",
              "    }\n",
              "</style>\n",
              "<table border=\"1\" class=\"dataframe\">\n",
              "  <thead>\n",
              "    <tr style=\"text-align: right;\">\n",
              "      <th></th>\n",
              "      <th>DATE</th>\n",
              "      <th>STOCK</th>\n",
              "      <th>PRICE</th>\n",
              "      <th>SCORE</th>\n",
              "      <th>B/S/H</th>\n",
              "    </tr>\n",
              "  </thead>\n",
              "  <tbody>\n",
              "    <tr>\n",
              "      <th>0</th>\n",
              "      <td>2023-06-16</td>\n",
              "      <td>PGSUS.IS</td>\n",
              "      <td>589.30</td>\n",
              "      <td>57.38</td>\n",
              "      <td>BUY</td>\n",
              "    </tr>\n",
              "  </tbody>\n",
              "</table>\n",
              "</div>\n",
              "      <button class=\"colab-df-convert\" onclick=\"convertToInteractive('df-325a50f7-df6a-4dd1-833d-2ad3f18354f9')\"\n",
              "              title=\"Convert this dataframe to an interactive table.\"\n",
              "              style=\"display:none;\">\n",
              "        \n",
              "  <svg xmlns=\"http://www.w3.org/2000/svg\" height=\"24px\"viewBox=\"0 0 24 24\"\n",
              "       width=\"24px\">\n",
              "    <path d=\"M0 0h24v24H0V0z\" fill=\"none\"/>\n",
              "    <path d=\"M18.56 5.44l.94 2.06.94-2.06 2.06-.94-2.06-.94-.94-2.06-.94 2.06-2.06.94zm-11 1L8.5 8.5l.94-2.06 2.06-.94-2.06-.94L8.5 2.5l-.94 2.06-2.06.94zm10 10l.94 2.06.94-2.06 2.06-.94-2.06-.94-.94-2.06-.94 2.06-2.06.94z\"/><path d=\"M17.41 7.96l-1.37-1.37c-.4-.4-.92-.59-1.43-.59-.52 0-1.04.2-1.43.59L10.3 9.45l-7.72 7.72c-.78.78-.78 2.05 0 2.83L4 21.41c.39.39.9.59 1.41.59.51 0 1.02-.2 1.41-.59l7.78-7.78 2.81-2.81c.8-.78.8-2.07 0-2.86zM5.41 20L4 18.59l7.72-7.72 1.47 1.35L5.41 20z\"/>\n",
              "  </svg>\n",
              "      </button>\n",
              "      \n",
              "  <style>\n",
              "    .colab-df-container {\n",
              "      display:flex;\n",
              "      flex-wrap:wrap;\n",
              "      gap: 12px;\n",
              "    }\n",
              "\n",
              "    .colab-df-convert {\n",
              "      background-color: #E8F0FE;\n",
              "      border: none;\n",
              "      border-radius: 50%;\n",
              "      cursor: pointer;\n",
              "      display: none;\n",
              "      fill: #1967D2;\n",
              "      height: 32px;\n",
              "      padding: 0 0 0 0;\n",
              "      width: 32px;\n",
              "    }\n",
              "\n",
              "    .colab-df-convert:hover {\n",
              "      background-color: #E2EBFA;\n",
              "      box-shadow: 0px 1px 2px rgba(60, 64, 67, 0.3), 0px 1px 3px 1px rgba(60, 64, 67, 0.15);\n",
              "      fill: #174EA6;\n",
              "    }\n",
              "\n",
              "    [theme=dark] .colab-df-convert {\n",
              "      background-color: #3B4455;\n",
              "      fill: #D2E3FC;\n",
              "    }\n",
              "\n",
              "    [theme=dark] .colab-df-convert:hover {\n",
              "      background-color: #434B5C;\n",
              "      box-shadow: 0px 1px 3px 1px rgba(0, 0, 0, 0.15);\n",
              "      filter: drop-shadow(0px 1px 2px rgba(0, 0, 0, 0.3));\n",
              "      fill: #FFFFFF;\n",
              "    }\n",
              "  </style>\n",
              "\n",
              "      <script>\n",
              "        const buttonEl =\n",
              "          document.querySelector('#df-325a50f7-df6a-4dd1-833d-2ad3f18354f9 button.colab-df-convert');\n",
              "        buttonEl.style.display =\n",
              "          google.colab.kernel.accessAllowed ? 'block' : 'none';\n",
              "\n",
              "        async function convertToInteractive(key) {\n",
              "          const element = document.querySelector('#df-325a50f7-df6a-4dd1-833d-2ad3f18354f9');\n",
              "          const dataTable =\n",
              "            await google.colab.kernel.invokeFunction('convertToInteractive',\n",
              "                                                     [key], {});\n",
              "          if (!dataTable) return;\n",
              "\n",
              "          const docLinkHtml = 'Like what you see? Visit the ' +\n",
              "            '<a target=\"_blank\" href=https://colab.research.google.com/notebooks/data_table.ipynb>data table notebook</a>'\n",
              "            + ' to learn more about interactive tables.';\n",
              "          element.innerHTML = '';\n",
              "          dataTable['output_type'] = 'display_data';\n",
              "          await google.colab.output.renderOutput(dataTable, element);\n",
              "          const docLink = document.createElement('div');\n",
              "          docLink.innerHTML = docLinkHtml;\n",
              "          element.appendChild(docLink);\n",
              "        }\n",
              "      </script>\n",
              "    </div>\n",
              "  </div>\n",
              "  "
            ]
          },
          "metadata": {},
          "execution_count": 38
        }
      ]
    },
    {
      "cell_type": "code",
      "source": [
        "buy_stocks = pd.DataFrame(buy_stocks, columns=[\"DATE\",\"STOCK\", \"PRICE\",\"SCORE\", \"B/S/H\"])\n",
        "buy_stocks = buy_stocks.sort_values(by='SCORE')\n",
        "buy_stocks"
      ],
      "metadata": {
        "id": "0LGv0qSgv8JS",
        "colab": {
          "base_uri": "https://localhost:8080/",
          "height": 488
        },
        "outputId": "1888bc01-8f94-47ba-959f-0ac12b99c97d"
      },
      "execution_count": null,
      "outputs": [
        {
          "output_type": "execute_result",
          "data": {
            "text/plain": [
              "         DATE     STOCK   PRICE  SCORE B/S/H\n",
              "2  2023-06-16  EGEEN.IS 4958.40  57.38   BUY\n",
              "3  2023-06-16  ENKAI.IS   27.98  57.38   BUY\n",
              "5  2023-06-16  FROTO.IS  674.20  57.38   BUY\n",
              "6  2023-06-16  INDES.IS   19.00  57.38   BUY\n",
              "7  2023-06-16  ISFIN.IS    7.27  57.38   BUY\n",
              "10 2023-06-16  PGSUS.IS  589.30  57.38   BUY\n",
              "9  2023-06-16  KOZAA.IS   46.62  60.66   BUY\n",
              "1  2023-06-16  ARDYZ.IS    8.16  63.93   BUY\n",
              "8  2023-06-16  ISMEN.IS   56.95  63.93   BUY\n",
              "11 2023-06-16  SELEC.IS   34.62  63.93   BUY\n",
              "12 2023-06-16  TKFEN.IS   35.78  63.93   BUY\n",
              "13 2023-06-16  TURSG.IS   11.17  63.93   BUY\n",
              "0  2023-06-16  ADESE.IS    1.48  67.21   BUY\n",
              "4  2023-06-16  EREGL.IS   36.82  67.21   BUY"
            ],
            "text/html": [
              "\n",
              "  <div id=\"df-0f2ae818-1c86-41be-bb09-a2cf4443bdac\">\n",
              "    <div class=\"colab-df-container\">\n",
              "      <div>\n",
              "<style scoped>\n",
              "    .dataframe tbody tr th:only-of-type {\n",
              "        vertical-align: middle;\n",
              "    }\n",
              "\n",
              "    .dataframe tbody tr th {\n",
              "        vertical-align: top;\n",
              "    }\n",
              "\n",
              "    .dataframe thead th {\n",
              "        text-align: right;\n",
              "    }\n",
              "</style>\n",
              "<table border=\"1\" class=\"dataframe\">\n",
              "  <thead>\n",
              "    <tr style=\"text-align: right;\">\n",
              "      <th></th>\n",
              "      <th>DATE</th>\n",
              "      <th>STOCK</th>\n",
              "      <th>PRICE</th>\n",
              "      <th>SCORE</th>\n",
              "      <th>B/S/H</th>\n",
              "    </tr>\n",
              "  </thead>\n",
              "  <tbody>\n",
              "    <tr>\n",
              "      <th>2</th>\n",
              "      <td>2023-06-16</td>\n",
              "      <td>EGEEN.IS</td>\n",
              "      <td>4958.40</td>\n",
              "      <td>57.38</td>\n",
              "      <td>BUY</td>\n",
              "    </tr>\n",
              "    <tr>\n",
              "      <th>3</th>\n",
              "      <td>2023-06-16</td>\n",
              "      <td>ENKAI.IS</td>\n",
              "      <td>27.98</td>\n",
              "      <td>57.38</td>\n",
              "      <td>BUY</td>\n",
              "    </tr>\n",
              "    <tr>\n",
              "      <th>5</th>\n",
              "      <td>2023-06-16</td>\n",
              "      <td>FROTO.IS</td>\n",
              "      <td>674.20</td>\n",
              "      <td>57.38</td>\n",
              "      <td>BUY</td>\n",
              "    </tr>\n",
              "    <tr>\n",
              "      <th>6</th>\n",
              "      <td>2023-06-16</td>\n",
              "      <td>INDES.IS</td>\n",
              "      <td>19.00</td>\n",
              "      <td>57.38</td>\n",
              "      <td>BUY</td>\n",
              "    </tr>\n",
              "    <tr>\n",
              "      <th>7</th>\n",
              "      <td>2023-06-16</td>\n",
              "      <td>ISFIN.IS</td>\n",
              "      <td>7.27</td>\n",
              "      <td>57.38</td>\n",
              "      <td>BUY</td>\n",
              "    </tr>\n",
              "    <tr>\n",
              "      <th>10</th>\n",
              "      <td>2023-06-16</td>\n",
              "      <td>PGSUS.IS</td>\n",
              "      <td>589.30</td>\n",
              "      <td>57.38</td>\n",
              "      <td>BUY</td>\n",
              "    </tr>\n",
              "    <tr>\n",
              "      <th>9</th>\n",
              "      <td>2023-06-16</td>\n",
              "      <td>KOZAA.IS</td>\n",
              "      <td>46.62</td>\n",
              "      <td>60.66</td>\n",
              "      <td>BUY</td>\n",
              "    </tr>\n",
              "    <tr>\n",
              "      <th>1</th>\n",
              "      <td>2023-06-16</td>\n",
              "      <td>ARDYZ.IS</td>\n",
              "      <td>8.16</td>\n",
              "      <td>63.93</td>\n",
              "      <td>BUY</td>\n",
              "    </tr>\n",
              "    <tr>\n",
              "      <th>8</th>\n",
              "      <td>2023-06-16</td>\n",
              "      <td>ISMEN.IS</td>\n",
              "      <td>56.95</td>\n",
              "      <td>63.93</td>\n",
              "      <td>BUY</td>\n",
              "    </tr>\n",
              "    <tr>\n",
              "      <th>11</th>\n",
              "      <td>2023-06-16</td>\n",
              "      <td>SELEC.IS</td>\n",
              "      <td>34.62</td>\n",
              "      <td>63.93</td>\n",
              "      <td>BUY</td>\n",
              "    </tr>\n",
              "    <tr>\n",
              "      <th>12</th>\n",
              "      <td>2023-06-16</td>\n",
              "      <td>TKFEN.IS</td>\n",
              "      <td>35.78</td>\n",
              "      <td>63.93</td>\n",
              "      <td>BUY</td>\n",
              "    </tr>\n",
              "    <tr>\n",
              "      <th>13</th>\n",
              "      <td>2023-06-16</td>\n",
              "      <td>TURSG.IS</td>\n",
              "      <td>11.17</td>\n",
              "      <td>63.93</td>\n",
              "      <td>BUY</td>\n",
              "    </tr>\n",
              "    <tr>\n",
              "      <th>0</th>\n",
              "      <td>2023-06-16</td>\n",
              "      <td>ADESE.IS</td>\n",
              "      <td>1.48</td>\n",
              "      <td>67.21</td>\n",
              "      <td>BUY</td>\n",
              "    </tr>\n",
              "    <tr>\n",
              "      <th>4</th>\n",
              "      <td>2023-06-16</td>\n",
              "      <td>EREGL.IS</td>\n",
              "      <td>36.82</td>\n",
              "      <td>67.21</td>\n",
              "      <td>BUY</td>\n",
              "    </tr>\n",
              "  </tbody>\n",
              "</table>\n",
              "</div>\n",
              "      <button class=\"colab-df-convert\" onclick=\"convertToInteractive('df-0f2ae818-1c86-41be-bb09-a2cf4443bdac')\"\n",
              "              title=\"Convert this dataframe to an interactive table.\"\n",
              "              style=\"display:none;\">\n",
              "        \n",
              "  <svg xmlns=\"http://www.w3.org/2000/svg\" height=\"24px\"viewBox=\"0 0 24 24\"\n",
              "       width=\"24px\">\n",
              "    <path d=\"M0 0h24v24H0V0z\" fill=\"none\"/>\n",
              "    <path d=\"M18.56 5.44l.94 2.06.94-2.06 2.06-.94-2.06-.94-.94-2.06-.94 2.06-2.06.94zm-11 1L8.5 8.5l.94-2.06 2.06-.94-2.06-.94L8.5 2.5l-.94 2.06-2.06.94zm10 10l.94 2.06.94-2.06 2.06-.94-2.06-.94-.94-2.06-.94 2.06-2.06.94z\"/><path d=\"M17.41 7.96l-1.37-1.37c-.4-.4-.92-.59-1.43-.59-.52 0-1.04.2-1.43.59L10.3 9.45l-7.72 7.72c-.78.78-.78 2.05 0 2.83L4 21.41c.39.39.9.59 1.41.59.51 0 1.02-.2 1.41-.59l7.78-7.78 2.81-2.81c.8-.78.8-2.07 0-2.86zM5.41 20L4 18.59l7.72-7.72 1.47 1.35L5.41 20z\"/>\n",
              "  </svg>\n",
              "      </button>\n",
              "      \n",
              "  <style>\n",
              "    .colab-df-container {\n",
              "      display:flex;\n",
              "      flex-wrap:wrap;\n",
              "      gap: 12px;\n",
              "    }\n",
              "\n",
              "    .colab-df-convert {\n",
              "      background-color: #E8F0FE;\n",
              "      border: none;\n",
              "      border-radius: 50%;\n",
              "      cursor: pointer;\n",
              "      display: none;\n",
              "      fill: #1967D2;\n",
              "      height: 32px;\n",
              "      padding: 0 0 0 0;\n",
              "      width: 32px;\n",
              "    }\n",
              "\n",
              "    .colab-df-convert:hover {\n",
              "      background-color: #E2EBFA;\n",
              "      box-shadow: 0px 1px 2px rgba(60, 64, 67, 0.3), 0px 1px 3px 1px rgba(60, 64, 67, 0.15);\n",
              "      fill: #174EA6;\n",
              "    }\n",
              "\n",
              "    [theme=dark] .colab-df-convert {\n",
              "      background-color: #3B4455;\n",
              "      fill: #D2E3FC;\n",
              "    }\n",
              "\n",
              "    [theme=dark] .colab-df-convert:hover {\n",
              "      background-color: #434B5C;\n",
              "      box-shadow: 0px 1px 3px 1px rgba(0, 0, 0, 0.15);\n",
              "      filter: drop-shadow(0px 1px 2px rgba(0, 0, 0, 0.3));\n",
              "      fill: #FFFFFF;\n",
              "    }\n",
              "  </style>\n",
              "\n",
              "      <script>\n",
              "        const buttonEl =\n",
              "          document.querySelector('#df-0f2ae818-1c86-41be-bb09-a2cf4443bdac button.colab-df-convert');\n",
              "        buttonEl.style.display =\n",
              "          google.colab.kernel.accessAllowed ? 'block' : 'none';\n",
              "\n",
              "        async function convertToInteractive(key) {\n",
              "          const element = document.querySelector('#df-0f2ae818-1c86-41be-bb09-a2cf4443bdac');\n",
              "          const dataTable =\n",
              "            await google.colab.kernel.invokeFunction('convertToInteractive',\n",
              "                                                     [key], {});\n",
              "          if (!dataTable) return;\n",
              "\n",
              "          const docLinkHtml = 'Like what you see? Visit the ' +\n",
              "            '<a target=\"_blank\" href=https://colab.research.google.com/notebooks/data_table.ipynb>data table notebook</a>'\n",
              "            + ' to learn more about interactive tables.';\n",
              "          element.innerHTML = '';\n",
              "          dataTable['output_type'] = 'display_data';\n",
              "          await google.colab.output.renderOutput(dataTable, element);\n",
              "          const docLink = document.createElement('div');\n",
              "          docLink.innerHTML = docLinkHtml;\n",
              "          element.appendChild(docLink);\n",
              "        }\n",
              "      </script>\n",
              "    </div>\n",
              "  </div>\n",
              "  "
            ]
          },
          "metadata": {},
          "execution_count": 39
        }
      ]
    },
    {
      "cell_type": "code",
      "source": [
        "sell_stocks = pd.DataFrame(sell_stocks, columns=[\"DATE\",\"STOCK\", \"PRICE\",\"SCORE\", \"B/S/H\"])\n",
        "sell_stocks = sell_stocks.sort_values(by=\"SCORE\")\n",
        "sell_stocks\n",
        "# simulation_stocks.where(simulation_stocks[\"STOCK\"] == \"CCOLA\").dropna()"
      ],
      "metadata": {
        "id": "OH1kbNQ10LPw",
        "colab": {
          "base_uri": "https://localhost:8080/",
          "height": 332
        },
        "outputId": "1b50c523-06d3-44aa-f452-190da6c22840"
      },
      "execution_count": null,
      "outputs": [
        {
          "output_type": "execute_result",
          "data": {
            "text/plain": [
              "        DATE     STOCK  PRICE  SCORE B/S/H\n",
              "0 2023-06-16  ARCLK.IS 111.50  54.10  SELL\n",
              "1 2023-06-16  ASELS.IS  52.55  57.38  SELL\n",
              "4 2023-06-16   LOGO.IS  60.15  57.38  SELL\n",
              "5 2023-06-16  GARAN.IS  30.08  57.38  SELL\n",
              "2 2023-06-16  CANTE.IS  26.20  60.66  SELL\n",
              "3 2023-06-16  ISGYO.IS   9.56  60.66  SELL\n",
              "6 2023-06-16  ISCTR.IS  13.42  60.66  SELL\n",
              "7 2023-06-16   TSKB.IS   4.38  60.66  SELL\n",
              "8 2023-06-16  YKBNK.IS  12.80  60.66  SELL"
            ],
            "text/html": [
              "\n",
              "  <div id=\"df-3462548c-ca9a-4242-9a3f-4f668f804a29\">\n",
              "    <div class=\"colab-df-container\">\n",
              "      <div>\n",
              "<style scoped>\n",
              "    .dataframe tbody tr th:only-of-type {\n",
              "        vertical-align: middle;\n",
              "    }\n",
              "\n",
              "    .dataframe tbody tr th {\n",
              "        vertical-align: top;\n",
              "    }\n",
              "\n",
              "    .dataframe thead th {\n",
              "        text-align: right;\n",
              "    }\n",
              "</style>\n",
              "<table border=\"1\" class=\"dataframe\">\n",
              "  <thead>\n",
              "    <tr style=\"text-align: right;\">\n",
              "      <th></th>\n",
              "      <th>DATE</th>\n",
              "      <th>STOCK</th>\n",
              "      <th>PRICE</th>\n",
              "      <th>SCORE</th>\n",
              "      <th>B/S/H</th>\n",
              "    </tr>\n",
              "  </thead>\n",
              "  <tbody>\n",
              "    <tr>\n",
              "      <th>0</th>\n",
              "      <td>2023-06-16</td>\n",
              "      <td>ARCLK.IS</td>\n",
              "      <td>111.50</td>\n",
              "      <td>54.10</td>\n",
              "      <td>SELL</td>\n",
              "    </tr>\n",
              "    <tr>\n",
              "      <th>1</th>\n",
              "      <td>2023-06-16</td>\n",
              "      <td>ASELS.IS</td>\n",
              "      <td>52.55</td>\n",
              "      <td>57.38</td>\n",
              "      <td>SELL</td>\n",
              "    </tr>\n",
              "    <tr>\n",
              "      <th>4</th>\n",
              "      <td>2023-06-16</td>\n",
              "      <td>LOGO.IS</td>\n",
              "      <td>60.15</td>\n",
              "      <td>57.38</td>\n",
              "      <td>SELL</td>\n",
              "    </tr>\n",
              "    <tr>\n",
              "      <th>5</th>\n",
              "      <td>2023-06-16</td>\n",
              "      <td>GARAN.IS</td>\n",
              "      <td>30.08</td>\n",
              "      <td>57.38</td>\n",
              "      <td>SELL</td>\n",
              "    </tr>\n",
              "    <tr>\n",
              "      <th>2</th>\n",
              "      <td>2023-06-16</td>\n",
              "      <td>CANTE.IS</td>\n",
              "      <td>26.20</td>\n",
              "      <td>60.66</td>\n",
              "      <td>SELL</td>\n",
              "    </tr>\n",
              "    <tr>\n",
              "      <th>3</th>\n",
              "      <td>2023-06-16</td>\n",
              "      <td>ISGYO.IS</td>\n",
              "      <td>9.56</td>\n",
              "      <td>60.66</td>\n",
              "      <td>SELL</td>\n",
              "    </tr>\n",
              "    <tr>\n",
              "      <th>6</th>\n",
              "      <td>2023-06-16</td>\n",
              "      <td>ISCTR.IS</td>\n",
              "      <td>13.42</td>\n",
              "      <td>60.66</td>\n",
              "      <td>SELL</td>\n",
              "    </tr>\n",
              "    <tr>\n",
              "      <th>7</th>\n",
              "      <td>2023-06-16</td>\n",
              "      <td>TSKB.IS</td>\n",
              "      <td>4.38</td>\n",
              "      <td>60.66</td>\n",
              "      <td>SELL</td>\n",
              "    </tr>\n",
              "    <tr>\n",
              "      <th>8</th>\n",
              "      <td>2023-06-16</td>\n",
              "      <td>YKBNK.IS</td>\n",
              "      <td>12.80</td>\n",
              "      <td>60.66</td>\n",
              "      <td>SELL</td>\n",
              "    </tr>\n",
              "  </tbody>\n",
              "</table>\n",
              "</div>\n",
              "      <button class=\"colab-df-convert\" onclick=\"convertToInteractive('df-3462548c-ca9a-4242-9a3f-4f668f804a29')\"\n",
              "              title=\"Convert this dataframe to an interactive table.\"\n",
              "              style=\"display:none;\">\n",
              "        \n",
              "  <svg xmlns=\"http://www.w3.org/2000/svg\" height=\"24px\"viewBox=\"0 0 24 24\"\n",
              "       width=\"24px\">\n",
              "    <path d=\"M0 0h24v24H0V0z\" fill=\"none\"/>\n",
              "    <path d=\"M18.56 5.44l.94 2.06.94-2.06 2.06-.94-2.06-.94-.94-2.06-.94 2.06-2.06.94zm-11 1L8.5 8.5l.94-2.06 2.06-.94-2.06-.94L8.5 2.5l-.94 2.06-2.06.94zm10 10l.94 2.06.94-2.06 2.06-.94-2.06-.94-.94-2.06-.94 2.06-2.06.94z\"/><path d=\"M17.41 7.96l-1.37-1.37c-.4-.4-.92-.59-1.43-.59-.52 0-1.04.2-1.43.59L10.3 9.45l-7.72 7.72c-.78.78-.78 2.05 0 2.83L4 21.41c.39.39.9.59 1.41.59.51 0 1.02-.2 1.41-.59l7.78-7.78 2.81-2.81c.8-.78.8-2.07 0-2.86zM5.41 20L4 18.59l7.72-7.72 1.47 1.35L5.41 20z\"/>\n",
              "  </svg>\n",
              "      </button>\n",
              "      \n",
              "  <style>\n",
              "    .colab-df-container {\n",
              "      display:flex;\n",
              "      flex-wrap:wrap;\n",
              "      gap: 12px;\n",
              "    }\n",
              "\n",
              "    .colab-df-convert {\n",
              "      background-color: #E8F0FE;\n",
              "      border: none;\n",
              "      border-radius: 50%;\n",
              "      cursor: pointer;\n",
              "      display: none;\n",
              "      fill: #1967D2;\n",
              "      height: 32px;\n",
              "      padding: 0 0 0 0;\n",
              "      width: 32px;\n",
              "    }\n",
              "\n",
              "    .colab-df-convert:hover {\n",
              "      background-color: #E2EBFA;\n",
              "      box-shadow: 0px 1px 2px rgba(60, 64, 67, 0.3), 0px 1px 3px 1px rgba(60, 64, 67, 0.15);\n",
              "      fill: #174EA6;\n",
              "    }\n",
              "\n",
              "    [theme=dark] .colab-df-convert {\n",
              "      background-color: #3B4455;\n",
              "      fill: #D2E3FC;\n",
              "    }\n",
              "\n",
              "    [theme=dark] .colab-df-convert:hover {\n",
              "      background-color: #434B5C;\n",
              "      box-shadow: 0px 1px 3px 1px rgba(0, 0, 0, 0.15);\n",
              "      filter: drop-shadow(0px 1px 2px rgba(0, 0, 0, 0.3));\n",
              "      fill: #FFFFFF;\n",
              "    }\n",
              "  </style>\n",
              "\n",
              "      <script>\n",
              "        const buttonEl =\n",
              "          document.querySelector('#df-3462548c-ca9a-4242-9a3f-4f668f804a29 button.colab-df-convert');\n",
              "        buttonEl.style.display =\n",
              "          google.colab.kernel.accessAllowed ? 'block' : 'none';\n",
              "\n",
              "        async function convertToInteractive(key) {\n",
              "          const element = document.querySelector('#df-3462548c-ca9a-4242-9a3f-4f668f804a29');\n",
              "          const dataTable =\n",
              "            await google.colab.kernel.invokeFunction('convertToInteractive',\n",
              "                                                     [key], {});\n",
              "          if (!dataTable) return;\n",
              "\n",
              "          const docLinkHtml = 'Like what you see? Visit the ' +\n",
              "            '<a target=\"_blank\" href=https://colab.research.google.com/notebooks/data_table.ipynb>data table notebook</a>'\n",
              "            + ' to learn more about interactive tables.';\n",
              "          element.innerHTML = '';\n",
              "          dataTable['output_type'] = 'display_data';\n",
              "          await google.colab.output.renderOutput(dataTable, element);\n",
              "          const docLink = document.createElement('div');\n",
              "          docLink.innerHTML = docLinkHtml;\n",
              "          element.appendChild(docLink);\n",
              "        }\n",
              "      </script>\n",
              "    </div>\n",
              "  </div>\n",
              "  "
            ]
          },
          "metadata": {},
          "execution_count": 40
        }
      ]
    },
    {
      "cell_type": "code",
      "source": [
        "test_df = test_the_market(xu030, buy_threshold, sell_threshold, start=start, end=end, balance=balance)\n",
        "\n",
        "profit_or_loss = []\n",
        "buffer_stock = test_df[\"STOCK\"].iloc[0]\n",
        "\n",
        "for row in range(test_df.shape[0]):\n",
        "  loop_stock = test_df[\"STOCK\"].iloc[row]\n",
        "\n",
        "  if buffer_stock != loop_stock:\n",
        "    profit_or_loss.append(test_df[\"TRY BALANCE\"].iloc[row-1]-balance)\n",
        "    buffer_stock = loop_stock\n",
        "\n",
        "profit_or_loss.append(test_df[\"TRY BALANCE\"].iloc[-1]-balance)\n",
        "profit = sum(profit_or_loss)\n",
        "profit"
      ],
      "metadata": {
        "id": "1TqcSZyACdDK",
        "colab": {
          "base_uri": "https://localhost:8080/"
        },
        "outputId": "951e1ba4-9c7f-48ee-8df0-dd6bf20b6ea0"
      },
      "execution_count": null,
      "outputs": [
        {
          "output_type": "execute_result",
          "data": {
            "text/plain": [
              "-21933.49963003415"
            ]
          },
          "metadata": {},
          "execution_count": 34
        }
      ]
    },
    {
      "cell_type": "code",
      "source": [
        "stock_df = []\n",
        "for stock in xu030:\n",
        "  data = yf.download(stock, start=start, end=end, progress=False)\n",
        "  data = create_indicators(data)\n",
        "  data = score(data)\n",
        "  data[\"STOCK\"] = stock\n",
        "  stock_df.append(data)\n",
        "\n",
        "tries = []\n",
        "\n",
        "for buy_threshold in range(40, 80):\n",
        "  print(f\"Tried buy threshold is: {buy_threshold}\")\n",
        "  for sell_threshold in range(40, 80):\n",
        "    print(f\"Tried sell threshold is: {sell_threshold}\")\n",
        "\n",
        "    test_df = pd.DataFrame()\n",
        "\n",
        "    for df in stock_df:\n",
        "      simulation_df = buy_or_sell(df[\"STOCK\"].iloc[0], df, balance=balance, upper_score=buy_threshold, lower_score=sell_threshold)\n",
        "\n",
        "      if simulation_df.empty != True:\n",
        "        test_df = pd.concat([test_df, simulation_df])\n",
        "\n",
        "        if test_df.empty != True:\n",
        "            profit_or_loss = []\n",
        "            buffer_stock = test_df[\"STOCK\"].iloc[0]\n",
        "\n",
        "            for row in range(test_df.shape[0]):\n",
        "              loop_stock = test_df[\"STOCK\"].iloc[row]\n",
        "\n",
        "              if buffer_stock != loop_stock:\n",
        "                profit_or_loss.append(test_df[\"TRY BALANCE\"].iloc[row-1]-balance)\n",
        "                buffer_stock = loop_stock\n",
        "\n",
        "        test_df = test_df.reset_index().drop([\"index\"], axis=1)\n",
        "\n",
        "        for row in range(test_df.shape[0]):\n",
        "          if row+1 < test_df.shape[0] and test_df[\"B/S\"].iloc[row] == \"BUY\" and test_df[\"B/S\"].iloc[row+1] == \"BUY\" and not test_df[\"B/S\"].iloc[row] == \"CLOSE\" and not test_df[\"B/S\"].iloc[row+1] == \"CLOSE\":\n",
        "            add = pd.DataFrame({\"STOCK\": [test_df[\"STOCK\"][row]], \"B/S\": [\"CLOSE\"], \"DATE\": [\"TODAY\"], \"PRICE\": [test_df[\"LAST PRICE\"][row]],\n",
        "                                'STOCK BALANCE': [\"0\"], 'TRY BALANCE': [test_df[\"STOCK BALANCE\"][row]*test_df[\"LAST PRICE\"][row]], 'LAST PRICE' :[test_df[\"LAST PRICE\"][row]]})\n",
        "\n",
        "            df_top = test_df.loc[:row]\n",
        "            df_bottom = test_df.loc[row+1:]\n",
        "            test_df = pd.concat([df_top, add, df_bottom], ignore_index=True)\n",
        "\n",
        "        profit_or_loss.append(test_df[\"TRY BALANCE\"].iloc[-1]-balance)\n",
        "        profit = sum(profit_or_loss)\n",
        "\n",
        "        tries.append([buy_threshold, sell_threshold, profit])\n",
        "\n",
        "  result = pd.DataFrame(tries, columns=[\"BUY TH\", \"SELL TH\", \"PROFIT\"])\n",
        "  result = result.sort_values(by=\"PROFIT\", ascending=False)"
      ],
      "metadata": {
        "id": "F9T_7DN0wzNg"
      },
      "execution_count": null,
      "outputs": []
    },
    {
      "cell_type": "code",
      "source": [
        "test_df = pd.DataFrame()\n",
        "\n",
        "for stock in xu100:\n",
        "  print(\"Getting \" + stock)\n",
        "\n",
        "  data = yf.download(stock, start, end, progress=False)\n",
        "  data = create_indicators(data)\n",
        "  data = score(data)\n",
        "  data[\"LABEL\"] = 0.5\n",
        "\n",
        "  transactions = pd.DataFrame()\n",
        "\n",
        "  for row in range(data.shape[0]):\n",
        "    if row > 0 and data[\"SCORE\"].iloc[row] >= buy_threshold and data[\"SCORE\"].iloc[row-1] < buy_threshold:\n",
        "      data[\"LABEL\"].iloc[row] = 1\n",
        "\n",
        "    elif row > 0 and data[\"SCORE\"].iloc[row] <= sell_threshold and data[\"SCORE\"].iloc[row-1] > sell_threshold:\n",
        "      data[\"LABEL\"].iloc[row] = 0\n",
        "#   except:\n",
        "#     print(\"Data error with stock named: \" + stock)\n",
        "#     break\n",
        "\n",
        "# test_df = test_df.reset_index().drop([\"index\"], axis=1)\n",
        "\n",
        "# for row in range(test_df.shape[0]):\n",
        "#   if test_df[\"B/S\"].iloc[row] == \"BUY\" and test_df[\"B/S\"].iloc[row+1] == \"BUY\" and not test_df[\"B/S\"].iloc[row] == \"CLOSE\" and not test_df[\"B/S\"].iloc[row+1] == \"CLOSE\":\n",
        "#     add = pd.DataFrame({\"STOCK\": [test_df[\"STOCK\"][row]], \"B/S\": [\"CLOSE\"], \"DATE\": [\"TODAY\"], \"PRICE\": [test_df[\"LAST PRICE\"][row]],\n",
        "#                         'STOCK BALANCE': [\"0\"], 'TRY BALANCE': [test_df[\"STOCK BALANCE\"][row]*test_df[\"LAST PRICE\"][row]], 'LAST PRICE' :[test_df[\"LAST PRICE\"][row]]})\n",
        "\n",
        "#     df_top = test_df.loc[:row]\n",
        "#     df_bottom = test_df.loc[row+1:]\n",
        "#     test_df = pd.concat([df_top, add, df_bottom], ignore_index=True)\n",
        "\n",
        "# test_df"
      ],
      "metadata": {
        "id": "X_N6ZgFXRA3a",
        "outputId": "6216810f-c174-45c3-b56c-8edc806df7e2",
        "colab": {
          "base_uri": "https://localhost:8080/"
        }
      },
      "execution_count": 13,
      "outputs": [
        {
          "output_type": "stream",
          "name": "stderr",
          "text": [
            "<ipython-input-13-02254931f40c>:15: SettingWithCopyWarning: \n",
            "A value is trying to be set on a copy of a slice from a DataFrame\n",
            "\n",
            "See the caveats in the documentation: https://pandas.pydata.org/pandas-docs/stable/user_guide/indexing.html#returning-a-view-versus-a-copy\n",
            "  data[\"LABEL\"].iloc[row] = 1\n",
            "<ipython-input-13-02254931f40c>:18: SettingWithCopyWarning: \n",
            "A value is trying to be set on a copy of a slice from a DataFrame\n",
            "\n",
            "See the caveats in the documentation: https://pandas.pydata.org/pandas-docs/stable/user_guide/indexing.html#returning-a-view-versus-a-copy\n",
            "  data[\"LABEL\"].iloc[row] = 0\n"
          ]
        },
        {
          "output_type": "stream",
          "name": "stdout",
          "text": [
            "Getting ISDMR.IS\n"
          ]
        },
        {
          "output_type": "stream",
          "name": "stderr",
          "text": [
            "<ipython-input-13-02254931f40c>:15: SettingWithCopyWarning: \n",
            "A value is trying to be set on a copy of a slice from a DataFrame\n",
            "\n",
            "See the caveats in the documentation: https://pandas.pydata.org/pandas-docs/stable/user_guide/indexing.html#returning-a-view-versus-a-copy\n",
            "  data[\"LABEL\"].iloc[row] = 1\n",
            "<ipython-input-13-02254931f40c>:18: SettingWithCopyWarning: \n",
            "A value is trying to be set on a copy of a slice from a DataFrame\n",
            "\n",
            "See the caveats in the documentation: https://pandas.pydata.org/pandas-docs/stable/user_guide/indexing.html#returning-a-view-versus-a-copy\n",
            "  data[\"LABEL\"].iloc[row] = 0\n"
          ]
        },
        {
          "output_type": "stream",
          "name": "stdout",
          "text": [
            "Getting ISFIN.IS\n"
          ]
        },
        {
          "output_type": "stream",
          "name": "stderr",
          "text": [
            "<ipython-input-13-02254931f40c>:15: SettingWithCopyWarning: \n",
            "A value is trying to be set on a copy of a slice from a DataFrame\n",
            "\n",
            "See the caveats in the documentation: https://pandas.pydata.org/pandas-docs/stable/user_guide/indexing.html#returning-a-view-versus-a-copy\n",
            "  data[\"LABEL\"].iloc[row] = 1\n",
            "<ipython-input-13-02254931f40c>:18: SettingWithCopyWarning: \n",
            "A value is trying to be set on a copy of a slice from a DataFrame\n",
            "\n",
            "See the caveats in the documentation: https://pandas.pydata.org/pandas-docs/stable/user_guide/indexing.html#returning-a-view-versus-a-copy\n",
            "  data[\"LABEL\"].iloc[row] = 0\n"
          ]
        },
        {
          "output_type": "stream",
          "name": "stdout",
          "text": [
            "Getting ISGYO.IS\n"
          ]
        },
        {
          "output_type": "stream",
          "name": "stderr",
          "text": [
            "<ipython-input-13-02254931f40c>:15: SettingWithCopyWarning: \n",
            "A value is trying to be set on a copy of a slice from a DataFrame\n",
            "\n",
            "See the caveats in the documentation: https://pandas.pydata.org/pandas-docs/stable/user_guide/indexing.html#returning-a-view-versus-a-copy\n",
            "  data[\"LABEL\"].iloc[row] = 1\n",
            "<ipython-input-13-02254931f40c>:18: SettingWithCopyWarning: \n",
            "A value is trying to be set on a copy of a slice from a DataFrame\n",
            "\n",
            "See the caveats in the documentation: https://pandas.pydata.org/pandas-docs/stable/user_guide/indexing.html#returning-a-view-versus-a-copy\n",
            "  data[\"LABEL\"].iloc[row] = 0\n"
          ]
        },
        {
          "output_type": "stream",
          "name": "stdout",
          "text": [
            "Getting ISMEN.IS\n"
          ]
        },
        {
          "output_type": "stream",
          "name": "stderr",
          "text": [
            "<ipython-input-13-02254931f40c>:15: SettingWithCopyWarning: \n",
            "A value is trying to be set on a copy of a slice from a DataFrame\n",
            "\n",
            "See the caveats in the documentation: https://pandas.pydata.org/pandas-docs/stable/user_guide/indexing.html#returning-a-view-versus-a-copy\n",
            "  data[\"LABEL\"].iloc[row] = 1\n",
            "<ipython-input-13-02254931f40c>:18: SettingWithCopyWarning: \n",
            "A value is trying to be set on a copy of a slice from a DataFrame\n",
            "\n",
            "See the caveats in the documentation: https://pandas.pydata.org/pandas-docs/stable/user_guide/indexing.html#returning-a-view-versus-a-copy\n",
            "  data[\"LABEL\"].iloc[row] = 0\n"
          ]
        },
        {
          "output_type": "stream",
          "name": "stdout",
          "text": [
            "Getting IZMDC.IS\n"
          ]
        },
        {
          "output_type": "stream",
          "name": "stderr",
          "text": [
            "<ipython-input-13-02254931f40c>:15: SettingWithCopyWarning: \n",
            "A value is trying to be set on a copy of a slice from a DataFrame\n",
            "\n",
            "See the caveats in the documentation: https://pandas.pydata.org/pandas-docs/stable/user_guide/indexing.html#returning-a-view-versus-a-copy\n",
            "  data[\"LABEL\"].iloc[row] = 1\n",
            "<ipython-input-13-02254931f40c>:18: SettingWithCopyWarning: \n",
            "A value is trying to be set on a copy of a slice from a DataFrame\n",
            "\n",
            "See the caveats in the documentation: https://pandas.pydata.org/pandas-docs/stable/user_guide/indexing.html#returning-a-view-versus-a-copy\n",
            "  data[\"LABEL\"].iloc[row] = 0\n"
          ]
        },
        {
          "output_type": "stream",
          "name": "stdout",
          "text": [
            "Getting KRDMD.IS\n"
          ]
        },
        {
          "output_type": "stream",
          "name": "stderr",
          "text": [
            "<ipython-input-13-02254931f40c>:15: SettingWithCopyWarning: \n",
            "A value is trying to be set on a copy of a slice from a DataFrame\n",
            "\n",
            "See the caveats in the documentation: https://pandas.pydata.org/pandas-docs/stable/user_guide/indexing.html#returning-a-view-versus-a-copy\n",
            "  data[\"LABEL\"].iloc[row] = 1\n",
            "<ipython-input-13-02254931f40c>:18: SettingWithCopyWarning: \n",
            "A value is trying to be set on a copy of a slice from a DataFrame\n",
            "\n",
            "See the caveats in the documentation: https://pandas.pydata.org/pandas-docs/stable/user_guide/indexing.html#returning-a-view-versus-a-copy\n",
            "  data[\"LABEL\"].iloc[row] = 0\n"
          ]
        },
        {
          "output_type": "stream",
          "name": "stdout",
          "text": [
            "Getting KARSN.IS\n"
          ]
        },
        {
          "output_type": "stream",
          "name": "stderr",
          "text": [
            "<ipython-input-13-02254931f40c>:15: SettingWithCopyWarning: \n",
            "A value is trying to be set on a copy of a slice from a DataFrame\n",
            "\n",
            "See the caveats in the documentation: https://pandas.pydata.org/pandas-docs/stable/user_guide/indexing.html#returning-a-view-versus-a-copy\n",
            "  data[\"LABEL\"].iloc[row] = 1\n",
            "<ipython-input-13-02254931f40c>:18: SettingWithCopyWarning: \n",
            "A value is trying to be set on a copy of a slice from a DataFrame\n",
            "\n",
            "See the caveats in the documentation: https://pandas.pydata.org/pandas-docs/stable/user_guide/indexing.html#returning-a-view-versus-a-copy\n",
            "  data[\"LABEL\"].iloc[row] = 0\n"
          ]
        },
        {
          "output_type": "stream",
          "name": "stdout",
          "text": [
            "Getting KARTN.IS\n"
          ]
        },
        {
          "output_type": "stream",
          "name": "stderr",
          "text": [
            "<ipython-input-13-02254931f40c>:18: SettingWithCopyWarning: \n",
            "A value is trying to be set on a copy of a slice from a DataFrame\n",
            "\n",
            "See the caveats in the documentation: https://pandas.pydata.org/pandas-docs/stable/user_guide/indexing.html#returning-a-view-versus-a-copy\n",
            "  data[\"LABEL\"].iloc[row] = 0\n",
            "<ipython-input-13-02254931f40c>:15: SettingWithCopyWarning: \n",
            "A value is trying to be set on a copy of a slice from a DataFrame\n",
            "\n",
            "See the caveats in the documentation: https://pandas.pydata.org/pandas-docs/stable/user_guide/indexing.html#returning-a-view-versus-a-copy\n",
            "  data[\"LABEL\"].iloc[row] = 1\n"
          ]
        },
        {
          "output_type": "stream",
          "name": "stdout",
          "text": [
            "Getting KERVT.IS\n"
          ]
        },
        {
          "output_type": "stream",
          "name": "stderr",
          "text": [
            "<ipython-input-13-02254931f40c>:18: SettingWithCopyWarning: \n",
            "A value is trying to be set on a copy of a slice from a DataFrame\n",
            "\n",
            "See the caveats in the documentation: https://pandas.pydata.org/pandas-docs/stable/user_guide/indexing.html#returning-a-view-versus-a-copy\n",
            "  data[\"LABEL\"].iloc[row] = 0\n",
            "<ipython-input-13-02254931f40c>:15: SettingWithCopyWarning: \n",
            "A value is trying to be set on a copy of a slice from a DataFrame\n",
            "\n",
            "See the caveats in the documentation: https://pandas.pydata.org/pandas-docs/stable/user_guide/indexing.html#returning-a-view-versus-a-copy\n",
            "  data[\"LABEL\"].iloc[row] = 1\n"
          ]
        },
        {
          "output_type": "stream",
          "name": "stdout",
          "text": [
            "Getting KRVGD.IS\n"
          ]
        },
        {
          "output_type": "stream",
          "name": "stderr",
          "text": [
            "<ipython-input-13-02254931f40c>:15: SettingWithCopyWarning: \n",
            "A value is trying to be set on a copy of a slice from a DataFrame\n",
            "\n",
            "See the caveats in the documentation: https://pandas.pydata.org/pandas-docs/stable/user_guide/indexing.html#returning-a-view-versus-a-copy\n",
            "  data[\"LABEL\"].iloc[row] = 1\n",
            "<ipython-input-13-02254931f40c>:18: SettingWithCopyWarning: \n",
            "A value is trying to be set on a copy of a slice from a DataFrame\n",
            "\n",
            "See the caveats in the documentation: https://pandas.pydata.org/pandas-docs/stable/user_guide/indexing.html#returning-a-view-versus-a-copy\n",
            "  data[\"LABEL\"].iloc[row] = 0\n"
          ]
        },
        {
          "output_type": "stream",
          "name": "stdout",
          "text": [
            "Getting KCHOL.IS\n"
          ]
        },
        {
          "output_type": "stream",
          "name": "stderr",
          "text": [
            "<ipython-input-13-02254931f40c>:15: SettingWithCopyWarning: \n",
            "A value is trying to be set on a copy of a slice from a DataFrame\n",
            "\n",
            "See the caveats in the documentation: https://pandas.pydata.org/pandas-docs/stable/user_guide/indexing.html#returning-a-view-versus-a-copy\n",
            "  data[\"LABEL\"].iloc[row] = 1\n",
            "<ipython-input-13-02254931f40c>:18: SettingWithCopyWarning: \n",
            "A value is trying to be set on a copy of a slice from a DataFrame\n",
            "\n",
            "See the caveats in the documentation: https://pandas.pydata.org/pandas-docs/stable/user_guide/indexing.html#returning-a-view-versus-a-copy\n",
            "  data[\"LABEL\"].iloc[row] = 0\n"
          ]
        },
        {
          "output_type": "stream",
          "name": "stdout",
          "text": [
            "Getting KORDS.IS\n"
          ]
        },
        {
          "output_type": "stream",
          "name": "stderr",
          "text": [
            "<ipython-input-13-02254931f40c>:18: SettingWithCopyWarning: \n",
            "A value is trying to be set on a copy of a slice from a DataFrame\n",
            "\n",
            "See the caveats in the documentation: https://pandas.pydata.org/pandas-docs/stable/user_guide/indexing.html#returning-a-view-versus-a-copy\n",
            "  data[\"LABEL\"].iloc[row] = 0\n",
            "<ipython-input-13-02254931f40c>:15: SettingWithCopyWarning: \n",
            "A value is trying to be set on a copy of a slice from a DataFrame\n",
            "\n",
            "See the caveats in the documentation: https://pandas.pydata.org/pandas-docs/stable/user_guide/indexing.html#returning-a-view-versus-a-copy\n",
            "  data[\"LABEL\"].iloc[row] = 1\n"
          ]
        },
        {
          "output_type": "stream",
          "name": "stdout",
          "text": [
            "Getting KOZAL.IS\n"
          ]
        },
        {
          "output_type": "stream",
          "name": "stderr",
          "text": [
            "<ipython-input-13-02254931f40c>:18: SettingWithCopyWarning: \n",
            "A value is trying to be set on a copy of a slice from a DataFrame\n",
            "\n",
            "See the caveats in the documentation: https://pandas.pydata.org/pandas-docs/stable/user_guide/indexing.html#returning-a-view-versus-a-copy\n",
            "  data[\"LABEL\"].iloc[row] = 0\n",
            "<ipython-input-13-02254931f40c>:15: SettingWithCopyWarning: \n",
            "A value is trying to be set on a copy of a slice from a DataFrame\n",
            "\n",
            "See the caveats in the documentation: https://pandas.pydata.org/pandas-docs/stable/user_guide/indexing.html#returning-a-view-versus-a-copy\n",
            "  data[\"LABEL\"].iloc[row] = 1\n"
          ]
        },
        {
          "output_type": "stream",
          "name": "stdout",
          "text": [
            "Getting KOZAA.IS\n"
          ]
        },
        {
          "output_type": "stream",
          "name": "stderr",
          "text": [
            "<ipython-input-13-02254931f40c>:15: SettingWithCopyWarning: \n",
            "A value is trying to be set on a copy of a slice from a DataFrame\n",
            "\n",
            "See the caveats in the documentation: https://pandas.pydata.org/pandas-docs/stable/user_guide/indexing.html#returning-a-view-versus-a-copy\n",
            "  data[\"LABEL\"].iloc[row] = 1\n",
            "<ipython-input-13-02254931f40c>:18: SettingWithCopyWarning: \n",
            "A value is trying to be set on a copy of a slice from a DataFrame\n",
            "\n",
            "See the caveats in the documentation: https://pandas.pydata.org/pandas-docs/stable/user_guide/indexing.html#returning-a-view-versus-a-copy\n",
            "  data[\"LABEL\"].iloc[row] = 0\n"
          ]
        },
        {
          "output_type": "stream",
          "name": "stdout",
          "text": [
            "Getting LOGO.IS\n"
          ]
        },
        {
          "output_type": "stream",
          "name": "stderr",
          "text": [
            "<ipython-input-13-02254931f40c>:18: SettingWithCopyWarning: \n",
            "A value is trying to be set on a copy of a slice from a DataFrame\n",
            "\n",
            "See the caveats in the documentation: https://pandas.pydata.org/pandas-docs/stable/user_guide/indexing.html#returning-a-view-versus-a-copy\n",
            "  data[\"LABEL\"].iloc[row] = 0\n",
            "<ipython-input-13-02254931f40c>:15: SettingWithCopyWarning: \n",
            "A value is trying to be set on a copy of a slice from a DataFrame\n",
            "\n",
            "See the caveats in the documentation: https://pandas.pydata.org/pandas-docs/stable/user_guide/indexing.html#returning-a-view-versus-a-copy\n",
            "  data[\"LABEL\"].iloc[row] = 1\n"
          ]
        },
        {
          "output_type": "stream",
          "name": "stdout",
          "text": [
            "Getting MAVI.IS\n"
          ]
        },
        {
          "output_type": "stream",
          "name": "stderr",
          "text": [
            "<ipython-input-13-02254931f40c>:18: SettingWithCopyWarning: \n",
            "A value is trying to be set on a copy of a slice from a DataFrame\n",
            "\n",
            "See the caveats in the documentation: https://pandas.pydata.org/pandas-docs/stable/user_guide/indexing.html#returning-a-view-versus-a-copy\n",
            "  data[\"LABEL\"].iloc[row] = 0\n",
            "<ipython-input-13-02254931f40c>:15: SettingWithCopyWarning: \n",
            "A value is trying to be set on a copy of a slice from a DataFrame\n",
            "\n",
            "See the caveats in the documentation: https://pandas.pydata.org/pandas-docs/stable/user_guide/indexing.html#returning-a-view-versus-a-copy\n",
            "  data[\"LABEL\"].iloc[row] = 1\n"
          ]
        },
        {
          "output_type": "stream",
          "name": "stdout",
          "text": [
            "Getting MGROS.IS\n",
            "Getting NTHOL.IS\n"
          ]
        },
        {
          "output_type": "stream",
          "name": "stderr",
          "text": [
            "<ipython-input-13-02254931f40c>:15: SettingWithCopyWarning: \n",
            "A value is trying to be set on a copy of a slice from a DataFrame\n",
            "\n",
            "See the caveats in the documentation: https://pandas.pydata.org/pandas-docs/stable/user_guide/indexing.html#returning-a-view-versus-a-copy\n",
            "  data[\"LABEL\"].iloc[row] = 1\n",
            "<ipython-input-13-02254931f40c>:18: SettingWithCopyWarning: \n",
            "A value is trying to be set on a copy of a slice from a DataFrame\n",
            "\n",
            "See the caveats in the documentation: https://pandas.pydata.org/pandas-docs/stable/user_guide/indexing.html#returning-a-view-versus-a-copy\n",
            "  data[\"LABEL\"].iloc[row] = 0\n"
          ]
        },
        {
          "output_type": "stream",
          "name": "stdout",
          "text": [
            "Getting ODAS.IS\n"
          ]
        },
        {
          "output_type": "stream",
          "name": "stderr",
          "text": [
            "<ipython-input-13-02254931f40c>:15: SettingWithCopyWarning: \n",
            "A value is trying to be set on a copy of a slice from a DataFrame\n",
            "\n",
            "See the caveats in the documentation: https://pandas.pydata.org/pandas-docs/stable/user_guide/indexing.html#returning-a-view-versus-a-copy\n",
            "  data[\"LABEL\"].iloc[row] = 1\n",
            "<ipython-input-13-02254931f40c>:18: SettingWithCopyWarning: \n",
            "A value is trying to be set on a copy of a slice from a DataFrame\n",
            "\n",
            "See the caveats in the documentation: https://pandas.pydata.org/pandas-docs/stable/user_guide/indexing.html#returning-a-view-versus-a-copy\n",
            "  data[\"LABEL\"].iloc[row] = 0\n"
          ]
        },
        {
          "output_type": "stream",
          "name": "stdout",
          "text": [
            "Getting OTKAR.IS\n"
          ]
        },
        {
          "output_type": "stream",
          "name": "stderr",
          "text": [
            "<ipython-input-13-02254931f40c>:15: SettingWithCopyWarning: \n",
            "A value is trying to be set on a copy of a slice from a DataFrame\n",
            "\n",
            "See the caveats in the documentation: https://pandas.pydata.org/pandas-docs/stable/user_guide/indexing.html#returning-a-view-versus-a-copy\n",
            "  data[\"LABEL\"].iloc[row] = 1\n",
            "<ipython-input-13-02254931f40c>:18: SettingWithCopyWarning: \n",
            "A value is trying to be set on a copy of a slice from a DataFrame\n",
            "\n",
            "See the caveats in the documentation: https://pandas.pydata.org/pandas-docs/stable/user_guide/indexing.html#returning-a-view-versus-a-copy\n",
            "  data[\"LABEL\"].iloc[row] = 0\n"
          ]
        },
        {
          "output_type": "stream",
          "name": "stdout",
          "text": [
            "Getting OYAKC.IS\n"
          ]
        },
        {
          "output_type": "stream",
          "name": "stderr",
          "text": [
            "<ipython-input-13-02254931f40c>:18: SettingWithCopyWarning: \n",
            "A value is trying to be set on a copy of a slice from a DataFrame\n",
            "\n",
            "See the caveats in the documentation: https://pandas.pydata.org/pandas-docs/stable/user_guide/indexing.html#returning-a-view-versus-a-copy\n",
            "  data[\"LABEL\"].iloc[row] = 0\n",
            "<ipython-input-13-02254931f40c>:15: SettingWithCopyWarning: \n",
            "A value is trying to be set on a copy of a slice from a DataFrame\n",
            "\n",
            "See the caveats in the documentation: https://pandas.pydata.org/pandas-docs/stable/user_guide/indexing.html#returning-a-view-versus-a-copy\n",
            "  data[\"LABEL\"].iloc[row] = 1\n"
          ]
        },
        {
          "output_type": "stream",
          "name": "stdout",
          "text": [
            "Getting PARSN.IS\n"
          ]
        },
        {
          "output_type": "stream",
          "name": "stderr",
          "text": [
            "<ipython-input-13-02254931f40c>:15: SettingWithCopyWarning: \n",
            "A value is trying to be set on a copy of a slice from a DataFrame\n",
            "\n",
            "See the caveats in the documentation: https://pandas.pydata.org/pandas-docs/stable/user_guide/indexing.html#returning-a-view-versus-a-copy\n",
            "  data[\"LABEL\"].iloc[row] = 1\n",
            "<ipython-input-13-02254931f40c>:18: SettingWithCopyWarning: \n",
            "A value is trying to be set on a copy of a slice from a DataFrame\n",
            "\n",
            "See the caveats in the documentation: https://pandas.pydata.org/pandas-docs/stable/user_guide/indexing.html#returning-a-view-versus-a-copy\n",
            "  data[\"LABEL\"].iloc[row] = 0\n"
          ]
        },
        {
          "output_type": "stream",
          "name": "stdout",
          "text": [
            "Getting PGSUS.IS\n"
          ]
        },
        {
          "output_type": "stream",
          "name": "stderr",
          "text": [
            "<ipython-input-13-02254931f40c>:15: SettingWithCopyWarning: \n",
            "A value is trying to be set on a copy of a slice from a DataFrame\n",
            "\n",
            "See the caveats in the documentation: https://pandas.pydata.org/pandas-docs/stable/user_guide/indexing.html#returning-a-view-versus-a-copy\n",
            "  data[\"LABEL\"].iloc[row] = 1\n",
            "<ipython-input-13-02254931f40c>:18: SettingWithCopyWarning: \n",
            "A value is trying to be set on a copy of a slice from a DataFrame\n",
            "\n",
            "See the caveats in the documentation: https://pandas.pydata.org/pandas-docs/stable/user_guide/indexing.html#returning-a-view-versus-a-copy\n",
            "  data[\"LABEL\"].iloc[row] = 0\n"
          ]
        },
        {
          "output_type": "stream",
          "name": "stdout",
          "text": [
            "Getting PETKM.IS\n"
          ]
        },
        {
          "output_type": "stream",
          "name": "stderr",
          "text": [
            "<ipython-input-13-02254931f40c>:15: SettingWithCopyWarning: \n",
            "A value is trying to be set on a copy of a slice from a DataFrame\n",
            "\n",
            "See the caveats in the documentation: https://pandas.pydata.org/pandas-docs/stable/user_guide/indexing.html#returning-a-view-versus-a-copy\n",
            "  data[\"LABEL\"].iloc[row] = 1\n",
            "<ipython-input-13-02254931f40c>:18: SettingWithCopyWarning: \n",
            "A value is trying to be set on a copy of a slice from a DataFrame\n",
            "\n",
            "See the caveats in the documentation: https://pandas.pydata.org/pandas-docs/stable/user_guide/indexing.html#returning-a-view-versus-a-copy\n",
            "  data[\"LABEL\"].iloc[row] = 0\n"
          ]
        },
        {
          "output_type": "stream",
          "name": "stdout",
          "text": [
            "Getting QUAGR.IS\n"
          ]
        },
        {
          "output_type": "stream",
          "name": "stderr",
          "text": [
            "<ipython-input-13-02254931f40c>:15: SettingWithCopyWarning: \n",
            "A value is trying to be set on a copy of a slice from a DataFrame\n",
            "\n",
            "See the caveats in the documentation: https://pandas.pydata.org/pandas-docs/stable/user_guide/indexing.html#returning-a-view-versus-a-copy\n",
            "  data[\"LABEL\"].iloc[row] = 1\n",
            "<ipython-input-13-02254931f40c>:18: SettingWithCopyWarning: \n",
            "A value is trying to be set on a copy of a slice from a DataFrame\n",
            "\n",
            "See the caveats in the documentation: https://pandas.pydata.org/pandas-docs/stable/user_guide/indexing.html#returning-a-view-versus-a-copy\n",
            "  data[\"LABEL\"].iloc[row] = 0\n"
          ]
        },
        {
          "output_type": "stream",
          "name": "stdout",
          "text": [
            "Getting RTALB.IS\n"
          ]
        },
        {
          "output_type": "stream",
          "name": "stderr",
          "text": [
            "<ipython-input-13-02254931f40c>:18: SettingWithCopyWarning: \n",
            "A value is trying to be set on a copy of a slice from a DataFrame\n",
            "\n",
            "See the caveats in the documentation: https://pandas.pydata.org/pandas-docs/stable/user_guide/indexing.html#returning-a-view-versus-a-copy\n",
            "  data[\"LABEL\"].iloc[row] = 0\n",
            "<ipython-input-13-02254931f40c>:15: SettingWithCopyWarning: \n",
            "A value is trying to be set on a copy of a slice from a DataFrame\n",
            "\n",
            "See the caveats in the documentation: https://pandas.pydata.org/pandas-docs/stable/user_guide/indexing.html#returning-a-view-versus-a-copy\n",
            "  data[\"LABEL\"].iloc[row] = 1\n"
          ]
        },
        {
          "output_type": "stream",
          "name": "stdout",
          "text": [
            "Getting SARKY.IS\n"
          ]
        },
        {
          "output_type": "stream",
          "name": "stderr",
          "text": [
            "<ipython-input-13-02254931f40c>:15: SettingWithCopyWarning: \n",
            "A value is trying to be set on a copy of a slice from a DataFrame\n",
            "\n",
            "See the caveats in the documentation: https://pandas.pydata.org/pandas-docs/stable/user_guide/indexing.html#returning-a-view-versus-a-copy\n",
            "  data[\"LABEL\"].iloc[row] = 1\n",
            "<ipython-input-13-02254931f40c>:18: SettingWithCopyWarning: \n",
            "A value is trying to be set on a copy of a slice from a DataFrame\n",
            "\n",
            "See the caveats in the documentation: https://pandas.pydata.org/pandas-docs/stable/user_guide/indexing.html#returning-a-view-versus-a-copy\n",
            "  data[\"LABEL\"].iloc[row] = 0\n"
          ]
        },
        {
          "output_type": "stream",
          "name": "stdout",
          "text": [
            "Getting SASA.IS\n"
          ]
        },
        {
          "output_type": "stream",
          "name": "stderr",
          "text": [
            "<ipython-input-13-02254931f40c>:15: SettingWithCopyWarning: \n",
            "A value is trying to be set on a copy of a slice from a DataFrame\n",
            "\n",
            "See the caveats in the documentation: https://pandas.pydata.org/pandas-docs/stable/user_guide/indexing.html#returning-a-view-versus-a-copy\n",
            "  data[\"LABEL\"].iloc[row] = 1\n",
            "<ipython-input-13-02254931f40c>:18: SettingWithCopyWarning: \n",
            "A value is trying to be set on a copy of a slice from a DataFrame\n",
            "\n",
            "See the caveats in the documentation: https://pandas.pydata.org/pandas-docs/stable/user_guide/indexing.html#returning-a-view-versus-a-copy\n",
            "  data[\"LABEL\"].iloc[row] = 0\n"
          ]
        },
        {
          "output_type": "stream",
          "name": "stdout",
          "text": [
            "Getting SELEC.IS\n"
          ]
        },
        {
          "output_type": "stream",
          "name": "stderr",
          "text": [
            "<ipython-input-13-02254931f40c>:15: SettingWithCopyWarning: \n",
            "A value is trying to be set on a copy of a slice from a DataFrame\n",
            "\n",
            "See the caveats in the documentation: https://pandas.pydata.org/pandas-docs/stable/user_guide/indexing.html#returning-a-view-versus-a-copy\n",
            "  data[\"LABEL\"].iloc[row] = 1\n",
            "<ipython-input-13-02254931f40c>:18: SettingWithCopyWarning: \n",
            "A value is trying to be set on a copy of a slice from a DataFrame\n",
            "\n",
            "See the caveats in the documentation: https://pandas.pydata.org/pandas-docs/stable/user_guide/indexing.html#returning-a-view-versus-a-copy\n",
            "  data[\"LABEL\"].iloc[row] = 0\n"
          ]
        },
        {
          "output_type": "stream",
          "name": "stdout",
          "text": [
            "Getting SKBNK.IS\n"
          ]
        },
        {
          "output_type": "stream",
          "name": "stderr",
          "text": [
            "<ipython-input-13-02254931f40c>:15: SettingWithCopyWarning: \n",
            "A value is trying to be set on a copy of a slice from a DataFrame\n",
            "\n",
            "See the caveats in the documentation: https://pandas.pydata.org/pandas-docs/stable/user_guide/indexing.html#returning-a-view-versus-a-copy\n",
            "  data[\"LABEL\"].iloc[row] = 1\n",
            "<ipython-input-13-02254931f40c>:18: SettingWithCopyWarning: \n",
            "A value is trying to be set on a copy of a slice from a DataFrame\n",
            "\n",
            "See the caveats in the documentation: https://pandas.pydata.org/pandas-docs/stable/user_guide/indexing.html#returning-a-view-versus-a-copy\n",
            "  data[\"LABEL\"].iloc[row] = 0\n"
          ]
        },
        {
          "output_type": "stream",
          "name": "stdout",
          "text": [
            "Getting SOKM.IS\n"
          ]
        },
        {
          "output_type": "stream",
          "name": "stderr",
          "text": [
            "<ipython-input-13-02254931f40c>:18: SettingWithCopyWarning: \n",
            "A value is trying to be set on a copy of a slice from a DataFrame\n",
            "\n",
            "See the caveats in the documentation: https://pandas.pydata.org/pandas-docs/stable/user_guide/indexing.html#returning-a-view-versus-a-copy\n",
            "  data[\"LABEL\"].iloc[row] = 0\n",
            "<ipython-input-13-02254931f40c>:15: SettingWithCopyWarning: \n",
            "A value is trying to be set on a copy of a slice from a DataFrame\n",
            "\n",
            "See the caveats in the documentation: https://pandas.pydata.org/pandas-docs/stable/user_guide/indexing.html#returning-a-view-versus-a-copy\n",
            "  data[\"LABEL\"].iloc[row] = 1\n"
          ]
        },
        {
          "output_type": "stream",
          "name": "stdout",
          "text": [
            "Getting TAVHL.IS\n"
          ]
        },
        {
          "output_type": "stream",
          "name": "stderr",
          "text": [
            "<ipython-input-13-02254931f40c>:15: SettingWithCopyWarning: \n",
            "A value is trying to be set on a copy of a slice from a DataFrame\n",
            "\n",
            "See the caveats in the documentation: https://pandas.pydata.org/pandas-docs/stable/user_guide/indexing.html#returning-a-view-versus-a-copy\n",
            "  data[\"LABEL\"].iloc[row] = 1\n",
            "<ipython-input-13-02254931f40c>:18: SettingWithCopyWarning: \n",
            "A value is trying to be set on a copy of a slice from a DataFrame\n",
            "\n",
            "See the caveats in the documentation: https://pandas.pydata.org/pandas-docs/stable/user_guide/indexing.html#returning-a-view-versus-a-copy\n",
            "  data[\"LABEL\"].iloc[row] = 0\n"
          ]
        },
        {
          "output_type": "stream",
          "name": "stdout",
          "text": [
            "Getting TKFEN.IS\n"
          ]
        },
        {
          "output_type": "stream",
          "name": "stderr",
          "text": [
            "<ipython-input-13-02254931f40c>:18: SettingWithCopyWarning: \n",
            "A value is trying to be set on a copy of a slice from a DataFrame\n",
            "\n",
            "See the caveats in the documentation: https://pandas.pydata.org/pandas-docs/stable/user_guide/indexing.html#returning-a-view-versus-a-copy\n",
            "  data[\"LABEL\"].iloc[row] = 0\n",
            "<ipython-input-13-02254931f40c>:15: SettingWithCopyWarning: \n",
            "A value is trying to be set on a copy of a slice from a DataFrame\n",
            "\n",
            "See the caveats in the documentation: https://pandas.pydata.org/pandas-docs/stable/user_guide/indexing.html#returning-a-view-versus-a-copy\n",
            "  data[\"LABEL\"].iloc[row] = 1\n"
          ]
        },
        {
          "output_type": "stream",
          "name": "stdout",
          "text": [
            "Getting TKNSA.IS\n"
          ]
        },
        {
          "output_type": "stream",
          "name": "stderr",
          "text": [
            "<ipython-input-13-02254931f40c>:15: SettingWithCopyWarning: \n",
            "A value is trying to be set on a copy of a slice from a DataFrame\n",
            "\n",
            "See the caveats in the documentation: https://pandas.pydata.org/pandas-docs/stable/user_guide/indexing.html#returning-a-view-versus-a-copy\n",
            "  data[\"LABEL\"].iloc[row] = 1\n",
            "<ipython-input-13-02254931f40c>:18: SettingWithCopyWarning: \n",
            "A value is trying to be set on a copy of a slice from a DataFrame\n",
            "\n",
            "See the caveats in the documentation: https://pandas.pydata.org/pandas-docs/stable/user_guide/indexing.html#returning-a-view-versus-a-copy\n",
            "  data[\"LABEL\"].iloc[row] = 0\n"
          ]
        },
        {
          "output_type": "stream",
          "name": "stdout",
          "text": [
            "Getting TOASO.IS\n"
          ]
        },
        {
          "output_type": "stream",
          "name": "stderr",
          "text": [
            "<ipython-input-13-02254931f40c>:15: SettingWithCopyWarning: \n",
            "A value is trying to be set on a copy of a slice from a DataFrame\n",
            "\n",
            "See the caveats in the documentation: https://pandas.pydata.org/pandas-docs/stable/user_guide/indexing.html#returning-a-view-versus-a-copy\n",
            "  data[\"LABEL\"].iloc[row] = 1\n",
            "<ipython-input-13-02254931f40c>:18: SettingWithCopyWarning: \n",
            "A value is trying to be set on a copy of a slice from a DataFrame\n",
            "\n",
            "See the caveats in the documentation: https://pandas.pydata.org/pandas-docs/stable/user_guide/indexing.html#returning-a-view-versus-a-copy\n",
            "  data[\"LABEL\"].iloc[row] = 0\n"
          ]
        },
        {
          "output_type": "stream",
          "name": "stdout",
          "text": [
            "Getting TRGYO.IS\n"
          ]
        },
        {
          "output_type": "stream",
          "name": "stderr",
          "text": [
            "<ipython-input-13-02254931f40c>:15: SettingWithCopyWarning: \n",
            "A value is trying to be set on a copy of a slice from a DataFrame\n",
            "\n",
            "See the caveats in the documentation: https://pandas.pydata.org/pandas-docs/stable/user_guide/indexing.html#returning-a-view-versus-a-copy\n",
            "  data[\"LABEL\"].iloc[row] = 1\n",
            "<ipython-input-13-02254931f40c>:18: SettingWithCopyWarning: \n",
            "A value is trying to be set on a copy of a slice from a DataFrame\n",
            "\n",
            "See the caveats in the documentation: https://pandas.pydata.org/pandas-docs/stable/user_guide/indexing.html#returning-a-view-versus-a-copy\n",
            "  data[\"LABEL\"].iloc[row] = 0\n"
          ]
        },
        {
          "output_type": "stream",
          "name": "stdout",
          "text": [
            "Getting TCELL.IS\n"
          ]
        },
        {
          "output_type": "stream",
          "name": "stderr",
          "text": [
            "<ipython-input-13-02254931f40c>:15: SettingWithCopyWarning: \n",
            "A value is trying to be set on a copy of a slice from a DataFrame\n",
            "\n",
            "See the caveats in the documentation: https://pandas.pydata.org/pandas-docs/stable/user_guide/indexing.html#returning-a-view-versus-a-copy\n",
            "  data[\"LABEL\"].iloc[row] = 1\n",
            "<ipython-input-13-02254931f40c>:18: SettingWithCopyWarning: \n",
            "A value is trying to be set on a copy of a slice from a DataFrame\n",
            "\n",
            "See the caveats in the documentation: https://pandas.pydata.org/pandas-docs/stable/user_guide/indexing.html#returning-a-view-versus-a-copy\n",
            "  data[\"LABEL\"].iloc[row] = 0\n"
          ]
        },
        {
          "output_type": "stream",
          "name": "stdout",
          "text": [
            "Getting TUPRS.IS\n"
          ]
        },
        {
          "output_type": "stream",
          "name": "stderr",
          "text": [
            "<ipython-input-13-02254931f40c>:18: SettingWithCopyWarning: \n",
            "A value is trying to be set on a copy of a slice from a DataFrame\n",
            "\n",
            "See the caveats in the documentation: https://pandas.pydata.org/pandas-docs/stable/user_guide/indexing.html#returning-a-view-versus-a-copy\n",
            "  data[\"LABEL\"].iloc[row] = 0\n",
            "<ipython-input-13-02254931f40c>:15: SettingWithCopyWarning: \n",
            "A value is trying to be set on a copy of a slice from a DataFrame\n",
            "\n",
            "See the caveats in the documentation: https://pandas.pydata.org/pandas-docs/stable/user_guide/indexing.html#returning-a-view-versus-a-copy\n",
            "  data[\"LABEL\"].iloc[row] = 1\n"
          ]
        },
        {
          "output_type": "stream",
          "name": "stdout",
          "text": [
            "Getting THYAO.IS\n"
          ]
        },
        {
          "output_type": "stream",
          "name": "stderr",
          "text": [
            "<ipython-input-13-02254931f40c>:18: SettingWithCopyWarning: \n",
            "A value is trying to be set on a copy of a slice from a DataFrame\n",
            "\n",
            "See the caveats in the documentation: https://pandas.pydata.org/pandas-docs/stable/user_guide/indexing.html#returning-a-view-versus-a-copy\n",
            "  data[\"LABEL\"].iloc[row] = 0\n",
            "<ipython-input-13-02254931f40c>:15: SettingWithCopyWarning: \n",
            "A value is trying to be set on a copy of a slice from a DataFrame\n",
            "\n",
            "See the caveats in the documentation: https://pandas.pydata.org/pandas-docs/stable/user_guide/indexing.html#returning-a-view-versus-a-copy\n",
            "  data[\"LABEL\"].iloc[row] = 1\n"
          ]
        },
        {
          "output_type": "stream",
          "name": "stdout",
          "text": [
            "Getting TTKOM.IS\n"
          ]
        },
        {
          "output_type": "stream",
          "name": "stderr",
          "text": [
            "<ipython-input-13-02254931f40c>:15: SettingWithCopyWarning: \n",
            "A value is trying to be set on a copy of a slice from a DataFrame\n",
            "\n",
            "See the caveats in the documentation: https://pandas.pydata.org/pandas-docs/stable/user_guide/indexing.html#returning-a-view-versus-a-copy\n",
            "  data[\"LABEL\"].iloc[row] = 1\n",
            "<ipython-input-13-02254931f40c>:18: SettingWithCopyWarning: \n",
            "A value is trying to be set on a copy of a slice from a DataFrame\n",
            "\n",
            "See the caveats in the documentation: https://pandas.pydata.org/pandas-docs/stable/user_guide/indexing.html#returning-a-view-versus-a-copy\n",
            "  data[\"LABEL\"].iloc[row] = 0\n"
          ]
        },
        {
          "output_type": "stream",
          "name": "stdout",
          "text": [
            "Getting TTRAK.IS\n"
          ]
        },
        {
          "output_type": "stream",
          "name": "stderr",
          "text": [
            "<ipython-input-13-02254931f40c>:18: SettingWithCopyWarning: \n",
            "A value is trying to be set on a copy of a slice from a DataFrame\n",
            "\n",
            "See the caveats in the documentation: https://pandas.pydata.org/pandas-docs/stable/user_guide/indexing.html#returning-a-view-versus-a-copy\n",
            "  data[\"LABEL\"].iloc[row] = 0\n",
            "<ipython-input-13-02254931f40c>:15: SettingWithCopyWarning: \n",
            "A value is trying to be set on a copy of a slice from a DataFrame\n",
            "\n",
            "See the caveats in the documentation: https://pandas.pydata.org/pandas-docs/stable/user_guide/indexing.html#returning-a-view-versus-a-copy\n",
            "  data[\"LABEL\"].iloc[row] = 1\n"
          ]
        },
        {
          "output_type": "stream",
          "name": "stdout",
          "text": [
            "Getting GARAN.IS\n"
          ]
        },
        {
          "output_type": "stream",
          "name": "stderr",
          "text": [
            "<ipython-input-13-02254931f40c>:15: SettingWithCopyWarning: \n",
            "A value is trying to be set on a copy of a slice from a DataFrame\n",
            "\n",
            "See the caveats in the documentation: https://pandas.pydata.org/pandas-docs/stable/user_guide/indexing.html#returning-a-view-versus-a-copy\n",
            "  data[\"LABEL\"].iloc[row] = 1\n",
            "<ipython-input-13-02254931f40c>:18: SettingWithCopyWarning: \n",
            "A value is trying to be set on a copy of a slice from a DataFrame\n",
            "\n",
            "See the caveats in the documentation: https://pandas.pydata.org/pandas-docs/stable/user_guide/indexing.html#returning-a-view-versus-a-copy\n",
            "  data[\"LABEL\"].iloc[row] = 0\n"
          ]
        },
        {
          "output_type": "stream",
          "name": "stdout",
          "text": [
            "Getting HALKB.IS\n"
          ]
        },
        {
          "output_type": "stream",
          "name": "stderr",
          "text": [
            "<ipython-input-13-02254931f40c>:18: SettingWithCopyWarning: \n",
            "A value is trying to be set on a copy of a slice from a DataFrame\n",
            "\n",
            "See the caveats in the documentation: https://pandas.pydata.org/pandas-docs/stable/user_guide/indexing.html#returning-a-view-versus-a-copy\n",
            "  data[\"LABEL\"].iloc[row] = 0\n",
            "<ipython-input-13-02254931f40c>:15: SettingWithCopyWarning: \n",
            "A value is trying to be set on a copy of a slice from a DataFrame\n",
            "\n",
            "See the caveats in the documentation: https://pandas.pydata.org/pandas-docs/stable/user_guide/indexing.html#returning-a-view-versus-a-copy\n",
            "  data[\"LABEL\"].iloc[row] = 1\n"
          ]
        },
        {
          "output_type": "stream",
          "name": "stdout",
          "text": [
            "Getting ISCTR.IS\n",
            "Getting TSKB.IS\n"
          ]
        },
        {
          "output_type": "stream",
          "name": "stderr",
          "text": [
            "<ipython-input-13-02254931f40c>:18: SettingWithCopyWarning: \n",
            "A value is trying to be set on a copy of a slice from a DataFrame\n",
            "\n",
            "See the caveats in the documentation: https://pandas.pydata.org/pandas-docs/stable/user_guide/indexing.html#returning-a-view-versus-a-copy\n",
            "  data[\"LABEL\"].iloc[row] = 0\n",
            "<ipython-input-13-02254931f40c>:15: SettingWithCopyWarning: \n",
            "A value is trying to be set on a copy of a slice from a DataFrame\n",
            "\n",
            "See the caveats in the documentation: https://pandas.pydata.org/pandas-docs/stable/user_guide/indexing.html#returning-a-view-versus-a-copy\n",
            "  data[\"LABEL\"].iloc[row] = 1\n"
          ]
        },
        {
          "output_type": "stream",
          "name": "stdout",
          "text": [
            "Getting TURSG.IS\n"
          ]
        },
        {
          "output_type": "stream",
          "name": "stderr",
          "text": [
            "<ipython-input-13-02254931f40c>:15: SettingWithCopyWarning: \n",
            "A value is trying to be set on a copy of a slice from a DataFrame\n",
            "\n",
            "See the caveats in the documentation: https://pandas.pydata.org/pandas-docs/stable/user_guide/indexing.html#returning-a-view-versus-a-copy\n",
            "  data[\"LABEL\"].iloc[row] = 1\n",
            "<ipython-input-13-02254931f40c>:18: SettingWithCopyWarning: \n",
            "A value is trying to be set on a copy of a slice from a DataFrame\n",
            "\n",
            "See the caveats in the documentation: https://pandas.pydata.org/pandas-docs/stable/user_guide/indexing.html#returning-a-view-versus-a-copy\n",
            "  data[\"LABEL\"].iloc[row] = 0\n"
          ]
        },
        {
          "output_type": "stream",
          "name": "stdout",
          "text": [
            "Getting SISE.IS\n"
          ]
        },
        {
          "output_type": "stream",
          "name": "stderr",
          "text": [
            "<ipython-input-13-02254931f40c>:15: SettingWithCopyWarning: \n",
            "A value is trying to be set on a copy of a slice from a DataFrame\n",
            "\n",
            "See the caveats in the documentation: https://pandas.pydata.org/pandas-docs/stable/user_guide/indexing.html#returning-a-view-versus-a-copy\n",
            "  data[\"LABEL\"].iloc[row] = 1\n",
            "<ipython-input-13-02254931f40c>:18: SettingWithCopyWarning: \n",
            "A value is trying to be set on a copy of a slice from a DataFrame\n",
            "\n",
            "See the caveats in the documentation: https://pandas.pydata.org/pandas-docs/stable/user_guide/indexing.html#returning-a-view-versus-a-copy\n",
            "  data[\"LABEL\"].iloc[row] = 0\n"
          ]
        },
        {
          "output_type": "stream",
          "name": "stdout",
          "text": [
            "Getting VAKBN.IS\n"
          ]
        },
        {
          "output_type": "stream",
          "name": "stderr",
          "text": [
            "<ipython-input-13-02254931f40c>:18: SettingWithCopyWarning: \n",
            "A value is trying to be set on a copy of a slice from a DataFrame\n",
            "\n",
            "See the caveats in the documentation: https://pandas.pydata.org/pandas-docs/stable/user_guide/indexing.html#returning-a-view-versus-a-copy\n",
            "  data[\"LABEL\"].iloc[row] = 0\n",
            "<ipython-input-13-02254931f40c>:15: SettingWithCopyWarning: \n",
            "A value is trying to be set on a copy of a slice from a DataFrame\n",
            "\n",
            "See the caveats in the documentation: https://pandas.pydata.org/pandas-docs/stable/user_guide/indexing.html#returning-a-view-versus-a-copy\n",
            "  data[\"LABEL\"].iloc[row] = 1\n"
          ]
        },
        {
          "output_type": "stream",
          "name": "stdout",
          "text": [
            "Getting ULKER.IS\n"
          ]
        },
        {
          "output_type": "stream",
          "name": "stderr",
          "text": [
            "<ipython-input-13-02254931f40c>:15: SettingWithCopyWarning: \n",
            "A value is trying to be set on a copy of a slice from a DataFrame\n",
            "\n",
            "See the caveats in the documentation: https://pandas.pydata.org/pandas-docs/stable/user_guide/indexing.html#returning-a-view-versus-a-copy\n",
            "  data[\"LABEL\"].iloc[row] = 1\n",
            "<ipython-input-13-02254931f40c>:18: SettingWithCopyWarning: \n",
            "A value is trying to be set on a copy of a slice from a DataFrame\n",
            "\n",
            "See the caveats in the documentation: https://pandas.pydata.org/pandas-docs/stable/user_guide/indexing.html#returning-a-view-versus-a-copy\n",
            "  data[\"LABEL\"].iloc[row] = 0\n"
          ]
        },
        {
          "output_type": "stream",
          "name": "stdout",
          "text": [
            "Getting VERUS.IS\n"
          ]
        },
        {
          "output_type": "stream",
          "name": "stderr",
          "text": [
            "<ipython-input-13-02254931f40c>:15: SettingWithCopyWarning: \n",
            "A value is trying to be set on a copy of a slice from a DataFrame\n",
            "\n",
            "See the caveats in the documentation: https://pandas.pydata.org/pandas-docs/stable/user_guide/indexing.html#returning-a-view-versus-a-copy\n",
            "  data[\"LABEL\"].iloc[row] = 1\n",
            "<ipython-input-13-02254931f40c>:18: SettingWithCopyWarning: \n",
            "A value is trying to be set on a copy of a slice from a DataFrame\n",
            "\n",
            "See the caveats in the documentation: https://pandas.pydata.org/pandas-docs/stable/user_guide/indexing.html#returning-a-view-versus-a-copy\n",
            "  data[\"LABEL\"].iloc[row] = 0\n"
          ]
        },
        {
          "output_type": "stream",
          "name": "stdout",
          "text": [
            "Getting VESBE.IS\n"
          ]
        },
        {
          "output_type": "stream",
          "name": "stderr",
          "text": [
            "<ipython-input-13-02254931f40c>:15: SettingWithCopyWarning: \n",
            "A value is trying to be set on a copy of a slice from a DataFrame\n",
            "\n",
            "See the caveats in the documentation: https://pandas.pydata.org/pandas-docs/stable/user_guide/indexing.html#returning-a-view-versus-a-copy\n",
            "  data[\"LABEL\"].iloc[row] = 1\n",
            "<ipython-input-13-02254931f40c>:18: SettingWithCopyWarning: \n",
            "A value is trying to be set on a copy of a slice from a DataFrame\n",
            "\n",
            "See the caveats in the documentation: https://pandas.pydata.org/pandas-docs/stable/user_guide/indexing.html#returning-a-view-versus-a-copy\n",
            "  data[\"LABEL\"].iloc[row] = 0\n"
          ]
        },
        {
          "output_type": "stream",
          "name": "stdout",
          "text": [
            "Getting VESTL.IS\n"
          ]
        },
        {
          "output_type": "stream",
          "name": "stderr",
          "text": [
            "<ipython-input-13-02254931f40c>:15: SettingWithCopyWarning: \n",
            "A value is trying to be set on a copy of a slice from a DataFrame\n",
            "\n",
            "See the caveats in the documentation: https://pandas.pydata.org/pandas-docs/stable/user_guide/indexing.html#returning-a-view-versus-a-copy\n",
            "  data[\"LABEL\"].iloc[row] = 1\n",
            "<ipython-input-13-02254931f40c>:18: SettingWithCopyWarning: \n",
            "A value is trying to be set on a copy of a slice from a DataFrame\n",
            "\n",
            "See the caveats in the documentation: https://pandas.pydata.org/pandas-docs/stable/user_guide/indexing.html#returning-a-view-versus-a-copy\n",
            "  data[\"LABEL\"].iloc[row] = 0\n"
          ]
        },
        {
          "output_type": "stream",
          "name": "stdout",
          "text": [
            "Getting YKBNK.IS\n"
          ]
        },
        {
          "output_type": "stream",
          "name": "stderr",
          "text": [
            "<ipython-input-13-02254931f40c>:15: SettingWithCopyWarning: \n",
            "A value is trying to be set on a copy of a slice from a DataFrame\n",
            "\n",
            "See the caveats in the documentation: https://pandas.pydata.org/pandas-docs/stable/user_guide/indexing.html#returning-a-view-versus-a-copy\n",
            "  data[\"LABEL\"].iloc[row] = 1\n",
            "<ipython-input-13-02254931f40c>:18: SettingWithCopyWarning: \n",
            "A value is trying to be set on a copy of a slice from a DataFrame\n",
            "\n",
            "See the caveats in the documentation: https://pandas.pydata.org/pandas-docs/stable/user_guide/indexing.html#returning-a-view-versus-a-copy\n",
            "  data[\"LABEL\"].iloc[row] = 0\n"
          ]
        },
        {
          "output_type": "stream",
          "name": "stdout",
          "text": [
            "Getting YATAS.IS\n"
          ]
        },
        {
          "output_type": "stream",
          "name": "stderr",
          "text": [
            "<ipython-input-13-02254931f40c>:18: SettingWithCopyWarning: \n",
            "A value is trying to be set on a copy of a slice from a DataFrame\n",
            "\n",
            "See the caveats in the documentation: https://pandas.pydata.org/pandas-docs/stable/user_guide/indexing.html#returning-a-view-versus-a-copy\n",
            "  data[\"LABEL\"].iloc[row] = 0\n",
            "<ipython-input-13-02254931f40c>:15: SettingWithCopyWarning: \n",
            "A value is trying to be set on a copy of a slice from a DataFrame\n",
            "\n",
            "See the caveats in the documentation: https://pandas.pydata.org/pandas-docs/stable/user_guide/indexing.html#returning-a-view-versus-a-copy\n",
            "  data[\"LABEL\"].iloc[row] = 1\n"
          ]
        },
        {
          "output_type": "stream",
          "name": "stdout",
          "text": [
            "Getting ZRGYO.IS\n"
          ]
        },
        {
          "output_type": "stream",
          "name": "stderr",
          "text": [
            "<ipython-input-13-02254931f40c>:15: SettingWithCopyWarning: \n",
            "A value is trying to be set on a copy of a slice from a DataFrame\n",
            "\n",
            "See the caveats in the documentation: https://pandas.pydata.org/pandas-docs/stable/user_guide/indexing.html#returning-a-view-versus-a-copy\n",
            "  data[\"LABEL\"].iloc[row] = 1\n",
            "<ipython-input-13-02254931f40c>:18: SettingWithCopyWarning: \n",
            "A value is trying to be set on a copy of a slice from a DataFrame\n",
            "\n",
            "See the caveats in the documentation: https://pandas.pydata.org/pandas-docs/stable/user_guide/indexing.html#returning-a-view-versus-a-copy\n",
            "  data[\"LABEL\"].iloc[row] = 0\n"
          ]
        },
        {
          "output_type": "stream",
          "name": "stdout",
          "text": [
            "Getting ZOREN.IS\n"
          ]
        },
        {
          "output_type": "stream",
          "name": "stderr",
          "text": [
            "<ipython-input-13-02254931f40c>:18: SettingWithCopyWarning: \n",
            "A value is trying to be set on a copy of a slice from a DataFrame\n",
            "\n",
            "See the caveats in the documentation: https://pandas.pydata.org/pandas-docs/stable/user_guide/indexing.html#returning-a-view-versus-a-copy\n",
            "  data[\"LABEL\"].iloc[row] = 0\n",
            "<ipython-input-13-02254931f40c>:15: SettingWithCopyWarning: \n",
            "A value is trying to be set on a copy of a slice from a DataFrame\n",
            "\n",
            "See the caveats in the documentation: https://pandas.pydata.org/pandas-docs/stable/user_guide/indexing.html#returning-a-view-versus-a-copy\n",
            "  data[\"LABEL\"].iloc[row] = 1\n"
          ]
        }
      ]
    },
    {
      "cell_type": "code",
      "source": [
        "data"
      ],
      "metadata": {
        "id": "batR4PCZTuS2",
        "outputId": "b8fb7179-f425-46bb-cd59-af3674ac9aa7",
        "colab": {
          "base_uri": "https://localhost:8080/",
          "height": 79
        }
      },
      "execution_count": 12,
      "outputs": [
        {
          "output_type": "execute_result",
          "data": {
            "text/plain": [
              "Empty DataFrame\n",
              "Columns: [Date, Open, High, Low, Close, Adj Close, Volume, RSI, SMA9, SMA20, STOCH-K, STOCH-D, MACD, SIGNAL, HISTOGRAM, BB-UPPER, BB-MID, BB-LOWER, STDEV, PSAR, WILLIAMS, AROON, OBV, CCI, ROC, BULL, BEAR, ADX, +DI, -DI, SCORE, LABEL]\n",
              "Index: []\n",
              "\n",
              "[0 rows x 32 columns]"
            ],
            "text/html": [
              "\n",
              "  <div id=\"df-3f7e1890-12f4-4704-b2dd-07ddaefba6c8\">\n",
              "    <div class=\"colab-df-container\">\n",
              "      <div>\n",
              "<style scoped>\n",
              "    .dataframe tbody tr th:only-of-type {\n",
              "        vertical-align: middle;\n",
              "    }\n",
              "\n",
              "    .dataframe tbody tr th {\n",
              "        vertical-align: top;\n",
              "    }\n",
              "\n",
              "    .dataframe thead th {\n",
              "        text-align: right;\n",
              "    }\n",
              "</style>\n",
              "<table border=\"1\" class=\"dataframe\">\n",
              "  <thead>\n",
              "    <tr style=\"text-align: right;\">\n",
              "      <th></th>\n",
              "      <th>Date</th>\n",
              "      <th>Open</th>\n",
              "      <th>High</th>\n",
              "      <th>Low</th>\n",
              "      <th>Close</th>\n",
              "      <th>Adj Close</th>\n",
              "      <th>Volume</th>\n",
              "      <th>RSI</th>\n",
              "      <th>SMA9</th>\n",
              "      <th>SMA20</th>\n",
              "      <th>...</th>\n",
              "      <th>OBV</th>\n",
              "      <th>CCI</th>\n",
              "      <th>ROC</th>\n",
              "      <th>BULL</th>\n",
              "      <th>BEAR</th>\n",
              "      <th>ADX</th>\n",
              "      <th>+DI</th>\n",
              "      <th>-DI</th>\n",
              "      <th>SCORE</th>\n",
              "      <th>LABEL</th>\n",
              "    </tr>\n",
              "  </thead>\n",
              "  <tbody>\n",
              "  </tbody>\n",
              "</table>\n",
              "<p>0 rows × 32 columns</p>\n",
              "</div>\n",
              "      <button class=\"colab-df-convert\" onclick=\"convertToInteractive('df-3f7e1890-12f4-4704-b2dd-07ddaefba6c8')\"\n",
              "              title=\"Convert this dataframe to an interactive table.\"\n",
              "              style=\"display:none;\">\n",
              "        \n",
              "  <svg xmlns=\"http://www.w3.org/2000/svg\" height=\"24px\"viewBox=\"0 0 24 24\"\n",
              "       width=\"24px\">\n",
              "    <path d=\"M0 0h24v24H0V0z\" fill=\"none\"/>\n",
              "    <path d=\"M18.56 5.44l.94 2.06.94-2.06 2.06-.94-2.06-.94-.94-2.06-.94 2.06-2.06.94zm-11 1L8.5 8.5l.94-2.06 2.06-.94-2.06-.94L8.5 2.5l-.94 2.06-2.06.94zm10 10l.94 2.06.94-2.06 2.06-.94-2.06-.94-.94-2.06-.94 2.06-2.06.94z\"/><path d=\"M17.41 7.96l-1.37-1.37c-.4-.4-.92-.59-1.43-.59-.52 0-1.04.2-1.43.59L10.3 9.45l-7.72 7.72c-.78.78-.78 2.05 0 2.83L4 21.41c.39.39.9.59 1.41.59.51 0 1.02-.2 1.41-.59l7.78-7.78 2.81-2.81c.8-.78.8-2.07 0-2.86zM5.41 20L4 18.59l7.72-7.72 1.47 1.35L5.41 20z\"/>\n",
              "  </svg>\n",
              "      </button>\n",
              "      \n",
              "  <style>\n",
              "    .colab-df-container {\n",
              "      display:flex;\n",
              "      flex-wrap:wrap;\n",
              "      gap: 12px;\n",
              "    }\n",
              "\n",
              "    .colab-df-convert {\n",
              "      background-color: #E8F0FE;\n",
              "      border: none;\n",
              "      border-radius: 50%;\n",
              "      cursor: pointer;\n",
              "      display: none;\n",
              "      fill: #1967D2;\n",
              "      height: 32px;\n",
              "      padding: 0 0 0 0;\n",
              "      width: 32px;\n",
              "    }\n",
              "\n",
              "    .colab-df-convert:hover {\n",
              "      background-color: #E2EBFA;\n",
              "      box-shadow: 0px 1px 2px rgba(60, 64, 67, 0.3), 0px 1px 3px 1px rgba(60, 64, 67, 0.15);\n",
              "      fill: #174EA6;\n",
              "    }\n",
              "\n",
              "    [theme=dark] .colab-df-convert {\n",
              "      background-color: #3B4455;\n",
              "      fill: #D2E3FC;\n",
              "    }\n",
              "\n",
              "    [theme=dark] .colab-df-convert:hover {\n",
              "      background-color: #434B5C;\n",
              "      box-shadow: 0px 1px 3px 1px rgba(0, 0, 0, 0.15);\n",
              "      filter: drop-shadow(0px 1px 2px rgba(0, 0, 0, 0.3));\n",
              "      fill: #FFFFFF;\n",
              "    }\n",
              "  </style>\n",
              "\n",
              "      <script>\n",
              "        const buttonEl =\n",
              "          document.querySelector('#df-3f7e1890-12f4-4704-b2dd-07ddaefba6c8 button.colab-df-convert');\n",
              "        buttonEl.style.display =\n",
              "          google.colab.kernel.accessAllowed ? 'block' : 'none';\n",
              "\n",
              "        async function convertToInteractive(key) {\n",
              "          const element = document.querySelector('#df-3f7e1890-12f4-4704-b2dd-07ddaefba6c8');\n",
              "          const dataTable =\n",
              "            await google.colab.kernel.invokeFunction('convertToInteractive',\n",
              "                                                     [key], {});\n",
              "          if (!dataTable) return;\n",
              "\n",
              "          const docLinkHtml = 'Like what you see? Visit the ' +\n",
              "            '<a target=\"_blank\" href=https://colab.research.google.com/notebooks/data_table.ipynb>data table notebook</a>'\n",
              "            + ' to learn more about interactive tables.';\n",
              "          element.innerHTML = '';\n",
              "          dataTable['output_type'] = 'display_data';\n",
              "          await google.colab.output.renderOutput(dataTable, element);\n",
              "          const docLink = document.createElement('div');\n",
              "          docLink.innerHTML = docLinkHtml;\n",
              "          element.appendChild(docLink);\n",
              "        }\n",
              "      </script>\n",
              "    </div>\n",
              "  </div>\n",
              "  "
            ]
          },
          "metadata": {},
          "execution_count": 12
        }
      ]
    },
    {
      "cell_type": "code",
      "source": [
        "import numpy as np\n",
        "import matplotlib.pyplot as plt\n",
        "import pandas as pd\n",
        "import tensorflow as tf\n",
        "from tensorflow.keras.models import Sequential\n",
        "from tensorflow.keras.layers import Dense\n",
        "from tensorflow.keras.layers import LSTM\n",
        "from sklearn.preprocessing import MinMaxScaler\n",
        "from sklearn.metrics import mean_squared_error"
      ],
      "metadata": {
        "id": "rBctclmhRO47"
      },
      "execution_count": 9,
      "outputs": []
    },
    {
      "cell_type": "code",
      "source": [
        "# normalize the dataset\n",
        "scaler = MinMaxScaler(feature_range=(0, 1))\n",
        "dataset = scaler.fit_transform(dataset)"
      ],
      "metadata": {
        "id": "J3xvyhhITV1n"
      },
      "execution_count": null,
      "outputs": []
    },
    {
      "cell_type": "code",
      "source": [
        "# split into train and test sets\n",
        "train_size = int(len(dataset) * 0.67)\n",
        "test_size = len(dataset) - train_size\n",
        "train, test = dataset[0:train_size,:], dataset[train_size:len(dataset),:]\n",
        "print(len(train), len(test))"
      ],
      "metadata": {
        "id": "ZBvkC2NlTZf7"
      },
      "execution_count": null,
      "outputs": []
    },
    {
      "cell_type": "code",
      "source": [
        "# convert an array of values into a dataset matrix\n",
        "def create_dataset(dataset, look_back=1):\n",
        " dataX, dataY = [], []\n",
        " for i in range(len(dataset)-look_back-1):\n",
        " a = dataset[i:(i+look_back), 0]\n",
        " dataX.append(a)\n",
        " dataY.append(dataset[i + look_back, 0])\n",
        " return np.array(dataX), np.array(dataY)"
      ],
      "metadata": {
        "id": "6Xgd9UtLTdCR"
      },
      "execution_count": null,
      "outputs": []
    },
    {
      "cell_type": "code",
      "source": [
        "trainX, trainY = create_dataset(train, look_back)\n",
        "testX, testY = create_dataset(test, look_back)"
      ],
      "metadata": {
        "id": "O8kTMHQuTfbo"
      },
      "execution_count": null,
      "outputs": []
    },
    {
      "cell_type": "code",
      "source": [
        "trainX = np.reshape(trainX, (trainX.shape[0], 1, trainX.shape[1]))\n",
        "testX = np.reshape(testX, (testX.shape[0], 1, testX.shape[1]))"
      ],
      "metadata": {
        "id": "bqXc-My-ThZQ"
      },
      "execution_count": null,
      "outputs": []
    },
    {
      "cell_type": "code",
      "source": [
        "model = Sequential()\n",
        "model.add(LSTM(4, input_shape=(1, look_back)))\n",
        "model.add(Dense(1))\n",
        "model.compile(loss='mean_squared_error', optimizer='adam')\n",
        "model.fit(trainX, trainY, epochs=100, batch_size=1, verbose=2)"
      ],
      "metadata": {
        "id": "KB9X-f_pTjay"
      },
      "execution_count": null,
      "outputs": []
    },
    {
      "cell_type": "code",
      "source": [
        "model = Sequential()\n",
        "model.add(LSTM(4, input_shape=(1, look_back)))\n",
        "model.add(Dense(1))\n",
        "model.compile(loss='mean_squared_error', optimizer='adam')\n",
        "model.fit(trainX, trainY, epochs=100, batch_size=1, verbose=2)"
      ],
      "metadata": {
        "id": "FmG3HO-8TjW_"
      },
      "execution_count": null,
      "outputs": []
    }
  ],
  "metadata": {
    "colab": {
      "provenance": [],
      "gpuType": "T4",
      "include_colab_link": true
    },
    "kernelspec": {
      "display_name": "Python 3",
      "name": "python3"
    },
    "language_info": {
      "codemirror_mode": {
        "name": "ipython",
        "version": 3
      },
      "file_extension": ".py",
      "mimetype": "text/x-python",
      "name": "python",
      "nbconvert_exporter": "python",
      "pygments_lexer": "ipython3",
      "version": "3.8.3"
    },
    "accelerator": "GPU"
  },
  "nbformat": 4,
  "nbformat_minor": 0
}
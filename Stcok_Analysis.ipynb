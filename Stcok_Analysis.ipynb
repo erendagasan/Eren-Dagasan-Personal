{
  "cells": [
    {
      "cell_type": "markdown",
      "metadata": {
        "id": "view-in-github",
        "colab_type": "text"
      },
      "source": [
        "<a href=\"https://colab.research.google.com/github/erendagasan/Eren-Dagasan-Personal/blob/main/Stcok_Analysis.ipynb\" target=\"_parent\"><img src=\"https://colab.research.google.com/assets/colab-badge.svg\" alt=\"Open In Colab\"/></a>"
      ]
    },
    {
      "cell_type": "code",
      "execution_count": null,
      "metadata": {
        "id": "CILEt1NgoCJG"
      },
      "outputs": [],
      "source": [
        "!pip install -q bta-lib\n",
        "!pip install -q ta\n",
        "!pip install -q yfinance"
      ]
    },
    {
      "cell_type": "code",
      "source": [
        "import yfinance as yf\n",
        "import btalib\n",
        "import numpy as np\n",
        "import pandas as pd\n",
        "from ta.trend import PSARIndicator\n",
        "from ta.momentum import WilliamsRIndicator\n",
        "from ta.trend import AroonIndicator\n",
        "from ta.volume import VolumePriceTrendIndicator\n",
        "from ta.trend import CCIIndicator\n",
        "from ta.momentum import ROCIndicator\n",
        "from ta.trend import ADXIndicator\n",
        "\n",
        "import warnings\n",
        "warnings.filterwarnings(\"ignore\", category=FutureWarning)\n",
        "warnings.filterwarnings(\"ignore\", category=RuntimeWarning)\n",
        "pd.set_option('display.float_format', lambda x: '%.2f' % x)\n",
        "pd.set_option('display.max_rows', 500)"
      ],
      "metadata": {
        "id": "WWvB2_sVlTqN"
      },
      "execution_count": null,
      "outputs": []
    },
    {
      "cell_type": "code",
      "source": [
        "xu030 = [\n",
        "    \"AKBNK\", \"AKSEN\", \"ALARK\", \"ARCLK\", \"ASELS\", \"BIMAS\", \"EKGYO\", \"ENKAI\", \"EREGL\", \"FROTO\",\n",
        "    \"GARAN\", \"GUBRF\", \"HEKTS\",\"KRDMD\",\"KCHOL\", \"KOZAL\", \"KOZAA\", \"ODAS\", \"PGSUS\", \"SAHOL\",\n",
        "    \"SASA\", \"PETKM\", \"SISE\", \"TAVHL\", \"THYAO\", \"TUPRS\", \"TOASO\", \"TCELL\", \"ISCTR\", \"YKBNK\"]\n",
        "\n",
        "xu100 = [\n",
        "    \"ADESE\", \"AGHOL\", \"AKBNK\", \"AKSA\", \"AKSEN\", \"ALGYO\", \"ALARK\", \"ALKIM\", \"AEFES\", \"ARCLK\",\n",
        "    \"ARDYZ\", \"ASELS\", \"ASTOR\", \"AYDEM\", \"BASGZ\", \"BERA\", \"BIMAS\", \"BIOEN\", \"BRYAT\", \"BRISA\",\n",
        "    \"CCOLA\", \"CANTE\", \"CEMAS\", \"CIMSA\", \"DOHOL\", \"DOAS\", \"EGEEN\", \"ECILC\", \"EKGYO\", \"ENJSA\",\n",
        "    \"ENKAI\", \"ERBOS\", \"EREGL\", \"ESEN\", \"FROTO\", \"GENIL\", \"GESAN\", \"GLYHO\", \"GOZDE\", \"GUBRF\",\n",
        "    \"SAHOL\", \"HEKTS\", \"INDES\", \"IPEKE\", \"ISDMR\", \"ISFIN\", \"ISGYO\", \"ISMEN\", \"IZMDC\", \"KRDMD\",\n",
        "    \"KARSN\", \"KARTN\", \"KERVT\", \"KRVGD\", \"KCHOL\", \"KORDS\", \"KOZAL\", \"KOZAA\", \"LOGO\", \"MAVI\",\n",
        "    \"MGROS\", \"NTHOL\", \"ODAS\", \"OTKAR\", \"OYAKC\", \"PARSN\", \"PGSUS\", \"PETKM\", \"QUAGR\", \"RTALB\",\n",
        "    \"SARKY\", \"SASA\", \"SELEC\", \"SKBNK\", \"SOKE\", \"SOKM\", \"TAVHL\", \"TKFEN\", \"TKNSA\", \"TOASO\",\n",
        "    \"TRGYO\", \"TCELL\", \"TUPRS\", \"THYAO\", \"TTKOM\", \"TTRAK\", \"GARAN\", \"HALKB\", \"ISCTR\", \"TSKB\",\n",
        "    \"TURSG\", \"SISE\", \"VAKBN\", \"ULKER\", \"VERUS\", \"VESBE\", \"VESTL\", \"YKBNK\", \"YATAS\", \"ZRGYO\",\n",
        "    \"ZOREN\"\n",
        "]\n",
        "\n",
        "# url = 'https://en.m.wikipedia.org/wiki/Nasdaq-100'\n",
        "# nasdaq100 = pd.read_html(url, attrs={'id': \"constituents\"})[0]\n",
        "# nasdaq100 = nasdaq100[\"Ticker\"].to_list()"
      ],
      "metadata": {
        "id": "TUKxemqyjEYd"
      },
      "execution_count": null,
      "outputs": []
    },
    {
      "cell_type": "code",
      "source": [
        "def create_indicators(data):\n",
        "  # Below 30 is oversold, upper 70 is overbought\n",
        "  data[\"RSI\"] = btalib.rsi(data[\"Close\"], period=14).df\n",
        "\n",
        "  #If little period conflicts with the bigger one it means buy else sell.\n",
        "  data[\"SMA9\"] = btalib.sma(data['Close'], period=9).df\n",
        "  data[\"SMA20\"] = btalib.sma(data['Close'], period=20).df\n",
        "\n",
        "  #A reading below 20 generally represents an oversold market and a reading above 80 an overbought market. Look only STOCH-D.\n",
        "  data[\"STOCH-K\"] = btalib.stoch(data['High'], data['Low'], data['Close']).df[\"k\"]\n",
        "  data[\"STOCH-D\"] = btalib.stoch(data['High'], data['Low'], data['Close']).df[\"d\"]\n",
        "\n",
        "  #When the MACD line crosses above the signal line, it generates a buy signal. This indicates a potential bullish trend reversal.\n",
        "  #Additionally, monitor the MACD histogram. When the histogram bars turn positive (change from negative to positive), it confirms the buy signal and suggests increasing buying pressure.\n",
        "  data[\"MACD\"] = btalib.macd(data['Close']).df[\"macd\"]\n",
        "  data[\"SIGNAL\"] = btalib.macd(data['Close']).df[\"signal\"]\n",
        "  data[\"HISTOGRAM\"] = btalib.macd(data['Close']).df[\"histogram\"]\n",
        "\n",
        "  #Buy Signal: When the price of the stock touches or crosses below the lower Bollinger Band, it can be considered a buy signal.\n",
        "  #This suggests that the stock may be oversold, and a potential price rebound is expected.\n",
        "  #Sell Signal: When the price of the stock touches or crosses above the upper Bollinger Band, it can be considered a sell signal.\n",
        "  #This indicates that the stock may be overbought, and a potential price correction is expected.\n",
        "  data[\"BB-UPPER\"] = btalib.bbands(data['Close']).df['top']\n",
        "  data[\"BB-MID\"] = btalib.bbands(data['Close']).df['mid']\n",
        "  data[\"BB-LOWER\"] = btalib.bbands(data['Close']).df['bot']\n",
        "\n",
        "  #When the current price of the stock falls below a certain number of standard deviations (GET THE MIN AND MAX VALUE OF THE COLUMN AND MAKE IT THE THRESHOLD)\n",
        "  #from the mean, it generates a buy signal. This suggests that the price has deviated significantly from the average and may present a buying opportunity.\n",
        "  data[\"STDEV\"] = data[\"Close\"].rolling(window=10).std()\n",
        "\n",
        "  #Generate a buy signal when the price crosses above the PSAR.\n",
        "  #This indicates a potential reversal in the downward trend and suggests a buying opportunity.\n",
        "  data[\"PSAR\"] = PSARIndicator(data[\"High\"], data[\"Low\"], data[\"Close\"]).psar()\n",
        "\n",
        "  #Williams\n",
        "  #Use the Williams Percent Range (%R) formula to calculate the %R values based on historical price data.\n",
        "  #The %R values range from -100 to 0, where values close to -100 indicate oversold conditions and values close to 0 indicate overbought conditions.\n",
        "  #Generate a buy signal when the %R value crosses above a certain threshold (e.g., -80) from below.\n",
        "  #This indicates a potential reversal from oversold conditions and suggests a buying opportunity.\n",
        "  data[\"WILLIAMS\"] = WilliamsRIndicator(data[\"High\"], data[\"Low\"], data[\"Close\"]).williams_r()\n",
        "\n",
        "  #The difference between these two lines indicates whether there is overbought (a positive number) or oversold (a negative number).\n",
        "  data[\"AROON\"] = AroonIndicator(close=data[\"Close\"], window=25).aroon_indicator()\n",
        "\n",
        "  #obv\n",
        "  data[\"OBV\"] = VolumePriceTrendIndicator(close=data['Close'], volume=data['Volume']).volume_price_trend()\n",
        "\n",
        "  #CCI\n",
        "  data['CCI'] = CCIIndicator(close=data['Close'], low=data[\"Low\"], high=data[\"High\"], window=14).cci()\n",
        "\n",
        "  #ROC\n",
        "  data['ROC'] = ROCIndicator(close=data['Close'], window=5).roc()\n",
        "\n",
        "  #BULLBEARPOWER\n",
        "  data['BULL'] = data['High'] - (data['High'].rolling(13).max() + data['Low'].rolling(13).min()) / 2\n",
        "  data['BEAR'] = data['Low'] - (data['High'].rolling(13).max() + data['Low'].rolling(13).min()) / 2\n",
        "\n",
        "  #ADX\n",
        "  adx_indicator = ADXIndicator(high=data['High'], low=data['Low'], close=data['Close'], window=14)\n",
        "  data['ADX'] = adx_indicator.adx()\n",
        "  data['+DI'] = adx_indicator.adx_pos()\n",
        "  data['-DI'] = adx_indicator.adx_neg()\n",
        "\n",
        "  data = data.dropna()\n",
        "  data = data.reset_index()\n",
        "  return data\n",
        "\n",
        "def score(data):\n",
        "  scores = []\n",
        "\n",
        "  for row in range(data.shape[0]):\n",
        "    #MAX 15.25\n",
        "    #MIN -15.25\n",
        "\n",
        "    min_score = -15.25\n",
        "    max_score = 15.25\n",
        "    score = 0\n",
        "\n",
        "    if data[\"RSI\"][row] < 30:\n",
        "      score += 1\n",
        "    elif data[\"RSI\"][row] > 70:\n",
        "      score+=-1\n",
        "    # else:\n",
        "    #   score+=(100-int(data[\"RSI\"][row]))/70\n",
        "\n",
        "    if data[\"SMA9\"][row] > data[\"SMA20\"][row] and data[\"Close\"][row] > data[\"SMA9\"][row]:\n",
        "      score += 1\n",
        "    else:\n",
        "      score += -1\n",
        "\n",
        "    if data[\"STOCH-D\"][row] <= 20:\n",
        "      score += 1\n",
        "    elif data[\"STOCH-D\"][row] >= 80:\n",
        "      score += -1\n",
        "\n",
        "    if data[\"MACD\"][row] > data[\"SIGNAL\"][row]:\n",
        "      score+=1\n",
        "    if row > 0 and data[\"MACD\"][row] > data[\"SIGNAL\"][row] and data[\"HISTOGRAM\"][row-1] < 0 and data[\"HISTOGRAM\"][row] > 0:\n",
        "      score+=1\n",
        "    if row > 0 and data[\"MACD\"][row] < data[\"SIGNAL\"][row] and data[\"HISTOGRAM\"][row-1] > 0 and data[\"HISTOGRAM\"][row] > 0:\n",
        "      score+=-1\n",
        "    elif data[\"MACD\"][row] < data[\"SIGNAL\"][row]:\n",
        "      score+=-1\n",
        "\n",
        "    if data[\"BB-LOWER\"].iloc[row] > data[\"Close\"].iloc[row]:\n",
        "        score += 1\n",
        "    elif data[\"BB-MID\"].iloc[row] < data[\"Close\"].iloc[row] and data[\"BB-LOWER\"].iloc[row] - data[\"Close\"].iloc[row] < data[\"BB-MID\"].iloc[row] - data[\"Close\"].iloc[row]:\n",
        "        score += 0.25\n",
        "    elif data[\"BB-MID\"].iloc[row] > data[\"Close\"].iloc[row] and data[\"BB-LOWER\"].iloc[row] - data[\"Close\"].iloc[row] > data[\"BB-MID\"].iloc[row] - data[\"Close\"].iloc[row]:\n",
        "        score -= 0.25\n",
        "    elif data[\"BB-UPPER\"].iloc[row] < data[\"Close\"].iloc[row]:\n",
        "        score -= 1\n",
        "\n",
        "    if (data[\"STDEV\"].max() + data[\"STDEV\"].min()) / 2 > data[\"STDEV\"][row]:\n",
        "      score+=1\n",
        "    else:\n",
        "      score+=-1\n",
        "\n",
        "    if data[\"PSAR\"][row] < data[\"Close\"][row]:\n",
        "      score+=1\n",
        "    else:\n",
        "      score+=-1\n",
        "\n",
        "    if data[\"WILLIAMS\"][row] < -80:\n",
        "      score+=1\n",
        "    elif data[\"WILLIAMS\"][row] > -20:\n",
        "      score+=-1\n",
        "\n",
        "    if data[\"AROON\"][row] > 0:\n",
        "      score+=-1\n",
        "    else:\n",
        "      score+=1\n",
        "\n",
        "    if row > 0 and data[\"OBV\"][row-1] < data[\"OBV\"][row] and data[\"Close\"][row] > data[\"Close\"][row-1]:\n",
        "      score+=1\n",
        "    elif row > 0 and data[\"OBV\"][row-1] > data[\"OBV\"][row] and data[\"Close\"][row] < data[\"Close\"][row-1]:\n",
        "      score+=-1\n",
        "\n",
        "    if row > 0 and (data['CCI'][row] > -100) & (data['CCI'][row-1] <= -100):\n",
        "      score+=1\n",
        "    elif row > 0 and (data['CCI'][row] < 100) & (data['CCI'][row-1] >= 100):\n",
        "      score-=1\n",
        "\n",
        "    if data[\"ROC\"][row] > 0:\n",
        "      score+=1\n",
        "    elif data[\"ROC\"][row] < 0:\n",
        "      score-=1\n",
        "\n",
        "    if data[\"BULL\"][row] > 0:\n",
        "      score+=1\n",
        "    elif data[\"BEAR\"][row] < 0:\n",
        "      score-=1\n",
        "\n",
        "    if (data['ADX'][row] > 25) and (data['+DI'][row] > data['-DI'][row]):\n",
        "      score+=1\n",
        "    elif (data['ADX'][row] > 50) and (data['+DI'][row] < data['-DI'][row]):\n",
        "      score-=1\n",
        "\n",
        "    #normalized score between 0-100\n",
        "    normalized_score = ((score - min_score) / (max_score - min_score)) * (100 - 0) + 0\n",
        "    scores.append(normalized_score)\n",
        "\n",
        "  data[\"SCORE\"] = scores\n",
        "  return data\n",
        "\n",
        "def save_to_excel(stock, data):\n",
        "  output_file = stock + \":\" + start + \":\" + end + '.xlsx'\n",
        "  writer = pd.ExcelWriter(output_file)\n",
        "  data.to_excel(writer, index=True, sheet_name=stock)\n",
        "  writer.save()\n",
        "\n",
        "def simulation(stock, data, balance, upper_score, lower_score):\n",
        "  stock_balance = 0\n",
        "  transactions = []\n",
        "\n",
        "  for row in range(data.shape[0]):\n",
        "    if data[\"SCORE\"][row] >= upper_score and balance > data[\"Close\"][row]:\n",
        "      stock_balance = balance / data[\"Close\"][row]\n",
        "      balance-= stock_balance*data[\"Close\"][row]\n",
        "      transactions.append([stock, \"BUY\", data[\"Date\"][row], data[\"Close\"][row], stock_balance, balance])\n",
        "\n",
        "    elif data[\"SCORE\"][row] <= lower_score and stock_balance > 1:\n",
        "      balance+=stock_balance*data[\"Close\"][row]\n",
        "      stock_balance-=stock_balance\n",
        "      transactions.append([stock,\"SELL\", data[\"Date\"][row], data[\"Close\"][row], stock_balance, balance])\n",
        "\n",
        "  transactions_df = pd.DataFrame(transactions, columns=[\"STOCK\",\"B/S\", \"DATE\", \"PRICE\", \"STOCK BALANCE\", \"TRY BALANCE\"])\n",
        "  return transactions_df\n"
      ],
      "metadata": {
        "id": "YJK_7ot1ipoG"
      },
      "execution_count": null,
      "outputs": []
    },
    {
      "cell_type": "code",
      "source": [
        "start=\"2023-01-01\"\n",
        "end=\"2023-07-01\"\n",
        "\n",
        "buy_stocks = []\n",
        "sell_stocks = []\n",
        "simulation_stocks = pd.DataFrame()\n",
        "lookup_table = [\"AKBNK\", \"BIMAS\", \"ISCTR\", \"PGSUS\", \"GARAN\", \"ARCLK\"]\n",
        "portfolio = []\n",
        "\n",
        "buy_threshold = 70\n",
        "sell_threshold = 30\n",
        "\n",
        "for stock in xu100:\n",
        "  try:\n",
        "    data = yf.download(stock+\".IS\", start=start, end=end, progress=False)\n",
        "    data = create_indicators(data)\n",
        "    data = score(data)\n",
        "\n",
        "    if stock in lookup_table:\n",
        "      # save_to_excel(stock, data)\n",
        "      portfolio.append([data.tail(1)[\"Date\"].item(), stock, data.tail(1)[\"Close\"].item(), data.tail(1)[\"SCORE\"].item(),\n",
        "                        \"BUY\" if data.tail(1)[\"SCORE\"].item() > buy_threshold else \"SELL\" if data.tail(1)[\"SCORE\"].item() < sell_threshold else \"HOLD\"])\n",
        "\n",
        "    if data.tail(1)[\"SCORE\"].item() > buy_threshold:\n",
        "      buy_stocks.append([data.tail(1)[\"Date\"].item(), stock, data.tail(1)[\"Close\"].item(), data.tail(1)[\"SCORE\"].item(),\n",
        "                         \"BUY\" if data.tail(1)[\"SCORE\"].item() > buy_threshold else \"SELL\" if data.tail(1)[\"SCORE\"].item() < sell_threshold else \"HOLD\"])\n",
        "      simulation_df = simulation(stock, data, balance=2000, upper_score=buy_threshold, lower_score=sell_threshold)\n",
        "      simulation_stocks = pd.concat([simulation_stocks, simulation_df])\n",
        "\n",
        "    elif data.tail(1)[\"SCORE\"].item() < sell_threshold:\n",
        "      sell_stocks.append([data.tail(1)[\"Date\"].item(), stock, data.tail(1)[\"Close\"].item(), data.tail(1)[\"SCORE\"].item(),\n",
        "                          \"BUY\" if data.tail(1)[\"SCORE\"].item() > buy_threshold else \"SELL\" if data.tail(1)[\"SCORE\"].item() < sell_threshold else \"HOLD\"])\n",
        "\n",
        "  except:\n",
        "    print(\"Data error at the stock named: \" + stock)"
      ],
      "metadata": {
        "id": "4y32Lax5l9cq"
      },
      "execution_count": null,
      "outputs": []
    },
    {
      "cell_type": "code",
      "source": [
        "portfolio = pd.DataFrame(portfolio, columns=[\"Date\",\"Stock\", \"Price\",\"Score\", \"B/S/H\"])\n",
        "portfolio = portfolio.sort_values(by='Score', ascending=False)\n",
        "portfolio"
      ],
      "metadata": {
        "id": "73Miv1W8IJek"
      },
      "execution_count": null,
      "outputs": []
    },
    {
      "cell_type": "code",
      "source": [
        "buy_stocks = pd.DataFrame(buy_stocks, columns=[\"Date\",\"Stock\", \"Price\",\"Score\", \"B/S/H\"])\n",
        "buy_stocks = buy_stocks.sort_values(by='Score', ascending=False)\n",
        "buy_stocks"
      ],
      "metadata": {
        "id": "0LGv0qSgv8JS"
      },
      "execution_count": null,
      "outputs": []
    },
    {
      "cell_type": "code",
      "source": [
        "sell_stocks = pd.DataFrame(sell_stocks, columns=[\"Date\",\"Stock\", \"Price\",\"Score\", \"B/S/H\"])\n",
        "sell_stocks"
      ],
      "metadata": {
        "id": "OH1kbNQ10LPw"
      },
      "execution_count": null,
      "outputs": []
    },
    {
      "cell_type": "code",
      "source": [
        "simulation_stocks.where(simulation_stocks[\"STOCK\"] == \"CCOLA\").dropna()"
      ],
      "metadata": {
        "id": "51GcCrmQ484q"
      },
      "execution_count": null,
      "outputs": []
    },
    {
      "cell_type": "code",
      "source": [
        "test_dfs = pd.DataFrame()\n",
        "\n",
        "for stock in xu100:\n",
        "  try:\n",
        "    data = yf.download(stock+\".IS\", start, end, progress=False)\n",
        "    data = create_indicators(data)\n",
        "    data = score(data)\n",
        "    simulation_df = simulation(stock, data, balance=2000, upper_score=buy_threshold, lower_score=sell_threshold)\n",
        "    test_dfs = pd.concat([test_dfs, simulation_df])\n",
        "  except:\n",
        "    print(\"Data error with stock named: \" + stock)"
      ],
      "metadata": {
        "id": "tO7dN9qXavV-"
      },
      "execution_count": null,
      "outputs": []
    },
    {
      "cell_type": "code",
      "source": [
        "test_dfs"
      ],
      "metadata": {
        "id": "CBZgByejEbVH"
      },
      "execution_count": null,
      "outputs": []
    },
    {
      "cell_type": "code",
      "source": [],
      "metadata": {
        "id": "I7vUOk2XVVFU"
      },
      "execution_count": null,
      "outputs": []
    }
  ],
  "metadata": {
    "colab": {
      "provenance": [],
      "include_colab_link": true
    },
    "kernelspec": {
      "display_name": "Python 3",
      "language": "python",
      "name": "python3"
    },
    "language_info": {
      "codemirror_mode": {
        "name": "ipython",
        "version": 3
      },
      "file_extension": ".py",
      "mimetype": "text/x-python",
      "name": "python",
      "nbconvert_exporter": "python",
      "pygments_lexer": "ipython3",
      "version": "3.8.3"
    }
  },
  "nbformat": 4,
  "nbformat_minor": 0
}
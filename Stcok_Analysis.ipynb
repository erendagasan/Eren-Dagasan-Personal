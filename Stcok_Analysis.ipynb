{
  "cells": [
    {
      "cell_type": "markdown",
      "metadata": {
        "id": "view-in-github",
        "colab_type": "text"
      },
      "source": [
        "<a href=\"https://colab.research.google.com/github/erendagasan/Eren-Dagasan-Personal/blob/main/Stcok_Analysis.ipynb\" target=\"_parent\"><img src=\"https://colab.research.google.com/assets/colab-badge.svg\" alt=\"Open In Colab\"/></a>"
      ]
    },
    {
      "cell_type": "code",
      "execution_count": null,
      "metadata": {
        "id": "CILEt1NgoCJG"
      },
      "outputs": [],
      "source": [
        "!pip install bta-lib\n",
        "!pip install ta\n",
        "!pip install yfinance"
      ]
    },
    {
      "cell_type": "code",
      "execution_count": null,
      "metadata": {
        "colab": {
          "background_save": true,
          "base_uri": "https://localhost:8080/"
        },
        "id": "HvZTYeXeoDcp",
        "outputId": "67414790-c651-40cd-b140-74710a0842c2"
      },
      "outputs": [
        {
          "name": "stdout",
          "output_type": "stream",
          "text": [
            "\r[*********************100%***********************]  1 of 1 completed\n"
          ]
        },
        {
          "data": {
            "text/html": [
              "\n",
              "  <div id=\"df-e42ba7a4-83e9-49d7-ae28-7e7c49940c0a\">\n",
              "    <div class=\"colab-df-container\">\n",
              "      <div>\n",
              "<style scoped>\n",
              "    .dataframe tbody tr th:only-of-type {\n",
              "        vertical-align: middle;\n",
              "    }\n",
              "\n",
              "    .dataframe tbody tr th {\n",
              "        vertical-align: top;\n",
              "    }\n",
              "\n",
              "    .dataframe thead th {\n",
              "        text-align: right;\n",
              "    }\n",
              "</style>\n",
              "<table border=\"1\" class=\"dataframe\">\n",
              "  <thead>\n",
              "    <tr style=\"text-align: right;\">\n",
              "      <th></th>\n",
              "      <th>Open</th>\n",
              "      <th>High</th>\n",
              "      <th>Low</th>\n",
              "      <th>Close</th>\n",
              "      <th>Adj Close</th>\n",
              "      <th>Volume</th>\n",
              "    </tr>\n",
              "    <tr>\n",
              "      <th>Date</th>\n",
              "      <th></th>\n",
              "      <th></th>\n",
              "      <th></th>\n",
              "      <th></th>\n",
              "      <th></th>\n",
              "      <th></th>\n",
              "    </tr>\n",
              "  </thead>\n",
              "  <tbody>\n",
              "    <tr>\n",
              "      <th>2023-06-07</th>\n",
              "      <td>172.300003</td>\n",
              "      <td>174.800003</td>\n",
              "      <td>170.500000</td>\n",
              "      <td>172.500000</td>\n",
              "      <td>172.500000</td>\n",
              "      <td>58786669</td>\n",
              "    </tr>\n",
              "    <tr>\n",
              "      <th>2023-06-08</th>\n",
              "      <td>171.600006</td>\n",
              "      <td>173.000000</td>\n",
              "      <td>168.600006</td>\n",
              "      <td>171.600006</td>\n",
              "      <td>171.600006</td>\n",
              "      <td>43644443</td>\n",
              "    </tr>\n",
              "    <tr>\n",
              "      <th>2023-06-09</th>\n",
              "      <td>172.300003</td>\n",
              "      <td>178.100006</td>\n",
              "      <td>171.100006</td>\n",
              "      <td>176.899994</td>\n",
              "      <td>176.899994</td>\n",
              "      <td>71672679</td>\n",
              "    </tr>\n",
              "    <tr>\n",
              "      <th>2023-06-12</th>\n",
              "      <td>178.300003</td>\n",
              "      <td>185.800003</td>\n",
              "      <td>177.600006</td>\n",
              "      <td>183.300003</td>\n",
              "      <td>183.300003</td>\n",
              "      <td>64378620</td>\n",
              "    </tr>\n",
              "    <tr>\n",
              "      <th>2023-06-14</th>\n",
              "      <td>177.699997</td>\n",
              "      <td>182.899994</td>\n",
              "      <td>177.399994</td>\n",
              "      <td>181.000000</td>\n",
              "      <td>181.000000</td>\n",
              "      <td>40334729</td>\n",
              "    </tr>\n",
              "  </tbody>\n",
              "</table>\n",
              "</div>\n",
              "      <button class=\"colab-df-convert\" onclick=\"convertToInteractive('df-e42ba7a4-83e9-49d7-ae28-7e7c49940c0a')\"\n",
              "              title=\"Convert this dataframe to an interactive table.\"\n",
              "              style=\"display:none;\">\n",
              "        \n",
              "  <svg xmlns=\"http://www.w3.org/2000/svg\" height=\"24px\"viewBox=\"0 0 24 24\"\n",
              "       width=\"24px\">\n",
              "    <path d=\"M0 0h24v24H0V0z\" fill=\"none\"/>\n",
              "    <path d=\"M18.56 5.44l.94 2.06.94-2.06 2.06-.94-2.06-.94-.94-2.06-.94 2.06-2.06.94zm-11 1L8.5 8.5l.94-2.06 2.06-.94-2.06-.94L8.5 2.5l-.94 2.06-2.06.94zm10 10l.94 2.06.94-2.06 2.06-.94-2.06-.94-.94-2.06-.94 2.06-2.06.94z\"/><path d=\"M17.41 7.96l-1.37-1.37c-.4-.4-.92-.59-1.43-.59-.52 0-1.04.2-1.43.59L10.3 9.45l-7.72 7.72c-.78.78-.78 2.05 0 2.83L4 21.41c.39.39.9.59 1.41.59.51 0 1.02-.2 1.41-.59l7.78-7.78 2.81-2.81c.8-.78.8-2.07 0-2.86zM5.41 20L4 18.59l7.72-7.72 1.47 1.35L5.41 20z\"/>\n",
              "  </svg>\n",
              "      </button>\n",
              "      \n",
              "  <style>\n",
              "    .colab-df-container {\n",
              "      display:flex;\n",
              "      flex-wrap:wrap;\n",
              "      gap: 12px;\n",
              "    }\n",
              "\n",
              "    .colab-df-convert {\n",
              "      background-color: #E8F0FE;\n",
              "      border: none;\n",
              "      border-radius: 50%;\n",
              "      cursor: pointer;\n",
              "      display: none;\n",
              "      fill: #1967D2;\n",
              "      height: 32px;\n",
              "      padding: 0 0 0 0;\n",
              "      width: 32px;\n",
              "    }\n",
              "\n",
              "    .colab-df-convert:hover {\n",
              "      background-color: #E2EBFA;\n",
              "      box-shadow: 0px 1px 2px rgba(60, 64, 67, 0.3), 0px 1px 3px 1px rgba(60, 64, 67, 0.15);\n",
              "      fill: #174EA6;\n",
              "    }\n",
              "\n",
              "    [theme=dark] .colab-df-convert {\n",
              "      background-color: #3B4455;\n",
              "      fill: #D2E3FC;\n",
              "    }\n",
              "\n",
              "    [theme=dark] .colab-df-convert:hover {\n",
              "      background-color: #434B5C;\n",
              "      box-shadow: 0px 1px 3px 1px rgba(0, 0, 0, 0.15);\n",
              "      filter: drop-shadow(0px 1px 2px rgba(0, 0, 0, 0.3));\n",
              "      fill: #FFFFFF;\n",
              "    }\n",
              "  </style>\n",
              "\n",
              "      <script>\n",
              "        const buttonEl =\n",
              "          document.querySelector('#df-e42ba7a4-83e9-49d7-ae28-7e7c49940c0a button.colab-df-convert');\n",
              "        buttonEl.style.display =\n",
              "          google.colab.kernel.accessAllowed ? 'block' : 'none';\n",
              "\n",
              "        async function convertToInteractive(key) {\n",
              "          const element = document.querySelector('#df-e42ba7a4-83e9-49d7-ae28-7e7c49940c0a');\n",
              "          const dataTable =\n",
              "            await google.colab.kernel.invokeFunction('convertToInteractive',\n",
              "                                                     [key], {});\n",
              "          if (!dataTable) return;\n",
              "\n",
              "          const docLinkHtml = 'Like what you see? Visit the ' +\n",
              "            '<a target=\"_blank\" href=https://colab.research.google.com/notebooks/data_table.ipynb>data table notebook</a>'\n",
              "            + ' to learn more about interactive tables.';\n",
              "          element.innerHTML = '';\n",
              "          dataTable['output_type'] = 'display_data';\n",
              "          await google.colab.output.renderOutput(dataTable, element);\n",
              "          const docLink = document.createElement('div');\n",
              "          docLink.innerHTML = docLinkHtml;\n",
              "          element.appendChild(docLink);\n",
              "        }\n",
              "      </script>\n",
              "    </div>\n",
              "  </div>\n",
              "  "
            ],
            "text/plain": [
              "                  Open        High         Low       Close   Adj Close  \\\n",
              "Date                                                                     \n",
              "2023-06-07  172.300003  174.800003  170.500000  172.500000  172.500000   \n",
              "2023-06-08  171.600006  173.000000  168.600006  171.600006  171.600006   \n",
              "2023-06-09  172.300003  178.100006  171.100006  176.899994  176.899994   \n",
              "2023-06-12  178.300003  185.800003  177.600006  183.300003  183.300003   \n",
              "2023-06-14  177.699997  182.899994  177.399994  181.000000  181.000000   \n",
              "\n",
              "              Volume  \n",
              "Date                  \n",
              "2023-06-07  58786669  \n",
              "2023-06-08  43644443  \n",
              "2023-06-09  71672679  \n",
              "2023-06-12  64378620  \n",
              "2023-06-14  40334729  "
            ]
          },
          "execution_count": 256,
          "metadata": {},
          "output_type": "execute_result"
        }
      ],
      "source": [
        "import yfinance as yf\n",
        "import btalib\n",
        "import numpy as np\n",
        "import pandas as pd\n",
        "from ta.trend import PSARIndicator\n",
        "from ta.momentum import WilliamsRIndicator\n",
        "from ta.trend import AroonIndicator\n",
        "\n",
        "start=\"2022-01-01\"\n",
        "end=\"2023-06-20\"\n",
        "stock = \"THYAO.IS\"\n",
        "data = yf.download(stock, start=start, end=end)\n",
        "data.tail()"
      ]
    },
    {
      "cell_type": "code",
      "execution_count": null,
      "metadata": {
        "colab": {
          "background_save": true,
          "base_uri": "https://localhost:8080/"
        },
        "id": "Mfkp67C7oN1p",
        "outputId": "7e01f9dd-5f07-4092-b79c-27e3a48b9cfa"
      },
      "outputs": [
        {
          "name": "stderr",
          "output_type": "stream",
          "text": [
            "/usr/local/lib/python3.10/dist-packages/btalib/meta/lines.py:302: FutureWarning: The series.append method is deprecated and will be removed from pandas in a future version. Use pandas.concat instead.\n",
            "  trailer = trailprefix.append(series[p2:])\n",
            "/usr/local/lib/python3.10/dist-packages/btalib/meta/lines.py:302: FutureWarning: The series.append method is deprecated and will be removed from pandas in a future version. Use pandas.concat instead.\n",
            "  trailer = trailprefix.append(series[p2:])\n",
            "/usr/local/lib/python3.10/dist-packages/btalib/meta/lines.py:302: FutureWarning: The series.append method is deprecated and will be removed from pandas in a future version. Use pandas.concat instead.\n",
            "  trailer = trailprefix.append(series[p2:])\n",
            "/usr/local/lib/python3.10/dist-packages/btalib/meta/lines.py:302: FutureWarning: The series.append method is deprecated and will be removed from pandas in a future version. Use pandas.concat instead.\n",
            "  trailer = trailprefix.append(series[p2:])\n",
            "/usr/local/lib/python3.10/dist-packages/btalib/meta/lines.py:302: FutureWarning: The series.append method is deprecated and will be removed from pandas in a future version. Use pandas.concat instead.\n",
            "  trailer = trailprefix.append(series[p2:])\n",
            "/usr/local/lib/python3.10/dist-packages/btalib/meta/lines.py:302: FutureWarning: The series.append method is deprecated and will be removed from pandas in a future version. Use pandas.concat instead.\n",
            "  trailer = trailprefix.append(series[p2:])\n",
            "/usr/local/lib/python3.10/dist-packages/btalib/meta/lines.py:302: FutureWarning: The series.append method is deprecated and will be removed from pandas in a future version. Use pandas.concat instead.\n",
            "  trailer = trailprefix.append(series[p2:])\n",
            "/usr/local/lib/python3.10/dist-packages/btalib/meta/lines.py:302: FutureWarning: The series.append method is deprecated and will be removed from pandas in a future version. Use pandas.concat instead.\n",
            "  trailer = trailprefix.append(series[p2:])\n",
            "/usr/local/lib/python3.10/dist-packages/btalib/meta/lines.py:302: FutureWarning: The series.append method is deprecated and will be removed from pandas in a future version. Use pandas.concat instead.\n",
            "  trailer = trailprefix.append(series[p2:])\n",
            "/usr/local/lib/python3.10/dist-packages/btalib/meta/lines.py:302: FutureWarning: The series.append method is deprecated and will be removed from pandas in a future version. Use pandas.concat instead.\n",
            "  trailer = trailprefix.append(series[p2:])\n",
            "/usr/local/lib/python3.10/dist-packages/btalib/meta/lines.py:302: FutureWarning: The series.append method is deprecated and will be removed from pandas in a future version. Use pandas.concat instead.\n",
            "  trailer = trailprefix.append(series[p2:])\n"
          ]
        }
      ],
      "source": [
        "# Below 30 is oversold, upper 70 is overbought\n",
        "data[\"RSI\"] = btalib.rsi(data[\"Close\"], period=14).df\n",
        "\n",
        "#If little period conflicts with the bigger one it means buy else sell.\n",
        "data[\"SMA9\"] = btalib.sma(data['Close'], period=9).df\n",
        "data[\"SMA20\"] = btalib.sma(data['Close'], period=20).df\n",
        "\n",
        "#A reading below 20 generally represents an oversold market and a reading above 80 an overbought market. Look only STOCH-D.\n",
        "data[\"STOCH-K\"] = btalib.stoch(data['High'], data['Low'], data['Close']).df[\"k\"]\n",
        "data[\"STOCH-D\"] = btalib.stoch(data['High'], data['Low'], data['Close']).df[\"d\"]\n",
        "\n",
        "#When the MACD line crosses above the signal line, it generates a buy signal. This indicates a potential bullish trend reversal.\n",
        "#Additionally, monitor the MACD histogram. When the histogram bars turn positive (change from negative to positive), it confirms the buy signal and suggests increasing buying pressure.\n",
        "data[\"MACD\"] = btalib.macd(data['Close']).df[\"macd\"]\n",
        "data[\"SIGNAL\"] = btalib.macd(data['Close']).df[\"signal\"]\n",
        "data[\"HISTOGRAM\"] = btalib.macd(data['Close']).df[\"histogram\"]\n",
        "\n",
        "#Buy Signal: When the price of the stock touches or crosses below the lower Bollinger Band, it can be considered a buy signal.\n",
        "#This suggests that the stock may be oversold, and a potential price rebound is expected.\n",
        "#Sell Signal: When the price of the stock touches or crosses above the upper Bollinger Band, it can be considered a sell signal.\n",
        "#This indicates that the stock may be overbought, and a potential price correction is expected.\n",
        "data[\"BB-UPPER\"] = btalib.bbands(data['Close']).df['top']\n",
        "data[\"BB-MID\"] = btalib.bbands(data['Close']).df['mid']\n",
        "data[\"BB-LOWER\"] = btalib.bbands(data['Close']).df['bot']\n",
        "\n",
        "#When the current price of the stock falls below a certain number of standard deviations (GET THE MIN AND MAX VALUE OF THE COLUMN AND MAKE IT THE THRESHOLD)\n",
        "#from the mean, it generates a buy signal. This suggests that the price has deviated significantly from the average and may present a buying opportunity.\n",
        "data[\"STDEV\"] = data[\"Close\"].rolling(window=10).std()\n",
        "\n",
        "#Generate a buy signal when the price crosses above the PSAR.\n",
        "#This indicates a potential reversal in the downward trend and suggests a buying opportunity.\n",
        "data[\"PSAR\"] = PSARIndicator(data[\"High\"], data[\"Low\"], data[\"Close\"]).psar()\n",
        "\n",
        "#Williams\n",
        "#Use the Williams Percent Range (%R) formula to calculate the %R values based on historical price data.\n",
        "#The %R values range from -100 to 0, where values close to -100 indicate oversold conditions and values close to 0 indicate overbought conditions.\n",
        "#Generate a buy signal when the %R value crosses above a certain threshold (e.g., -80) from below.\n",
        "#This indicates a potential reversal from oversold conditions and suggests a buying opportunity.\n",
        "data[\"WILLIAMS\"] = WilliamsRIndicator(data[\"High\"], data[\"Low\"], data[\"Close\"]).williams_r()\n",
        "\n",
        "#The difference between these two lines indicates whether there is overbought (a positive number) or oversold (a negative number).\n",
        "data[\"AROON\"] = AroonIndicator(close=data[\"Close\"], window=25).aroon_indicator()"
      ]
    },
    {
      "cell_type": "code",
      "execution_count": null,
      "metadata": {
        "colab": {
          "background_save": true
        },
        "id": "-_yNt8t7P61-"
      },
      "outputs": [],
      "source": [
        "data = data.dropna()"
      ]
    },
    {
      "cell_type": "code",
      "execution_count": null,
      "metadata": {
        "colab": {
          "background_save": true,
          "base_uri": "https://localhost:8080/"
        },
        "id": "9j7wi30VScVe",
        "outputId": "70122b9e-e8fb-4f3e-cce0-fc097a3f942a"
      },
      "outputs": [
        {
          "name": "stderr",
          "output_type": "stream",
          "text": [
            "<ipython-input-259-4377df0d2635>:62: SettingWithCopyWarning: \n",
            "A value is trying to be set on a copy of a slice from a DataFrame.\n",
            "Try using .loc[row_indexer,col_indexer] = value instead\n",
            "\n",
            "See the caveats in the documentation: https://pandas.pydata.org/pandas-docs/stable/user_guide/indexing.html#returning-a-view-versus-a-copy\n",
            "  data[\"SCORE\"] = scores\n"
          ]
        }
      ],
      "source": [
        "scores = []\n",
        "for row in range(data.shape[0]):\n",
        "  score = 0\n",
        "\n",
        "  if data[\"RSI\"][row] < 30:\n",
        "    score += 1\n",
        "  else:\n",
        "    score+=(100-int(data[\"RSI\"][row]))/70\n",
        "\n",
        "  if data[\"SMA9\"][row] > data[\"SMA20\"][row] and data[\"Close\"][row] > data[\"SMA9\"][row]:\n",
        "    score += 1\n",
        "  else:\n",
        "    score += -1\n",
        "\n",
        "  if data[\"STOCH-D\"][row] <= 20:\n",
        "    score += 1\n",
        "  elif data[\"STOCH-D\"][row] >= 80:\n",
        "    score += -1\n",
        "\n",
        "  #TODO: Additionally, monitor the MACD histogram. When the histogram bars turn positive (change from negative to positive), it confirms the buy signal and suggests increasing buying pressure.\n",
        "  if data[\"MACD\"][row] > data[\"SIGNAL\"][row]:\n",
        "    score+=1\n",
        "  elif data[\"MACD\"][row] < data[\"SIGNAL\"][row]:\n",
        "    score+=-1\n",
        "\n",
        "  if data[\"BB-LOWER\"][row] > data[\"Close\"][row]:\n",
        "    score += 1\n",
        "  elif data[\"BB-MID\"][row] < data[\"Close\"][row]:\n",
        "    score += +0.25\n",
        "  elif data[\"BB-MID\"][row] > data[\"Close\"][row]:\n",
        "    score += -0.25\n",
        "  else:\n",
        "    score += -1\n",
        "\n",
        "  if (data[\"STDEV\"].max() + data[\"STDEV\"].min()) / 2 > data[\"STDEV\"][row]:\n",
        "    score+=1\n",
        "  else:\n",
        "    score+=-1\n",
        "\n",
        "  if data[\"PSAR\"][row] < data[\"Close\"][row]:\n",
        "    score+=1\n",
        "  else:\n",
        "    score+=-1\n",
        "\n",
        "  #-20 as the overbought threshold and -80 as the oversold threshold.\n",
        "  if data[\"WILLIAMS\"][row] > -20:\n",
        "    score+=-1\n",
        "  elif data[\"WILLIAMS\"][row] < -80:\n",
        "    score+=1\n",
        "\n",
        "  if data[\"AROON\"][row] > 0:\n",
        "    score+=-1\n",
        "  else:\n",
        "    score+=1\n",
        "\n",
        "  scores.append(score)\n",
        "\n",
        "data[\"SCORE\"] = scores"
      ]
    },
    {
      "cell_type": "code",
      "source": [
        "data = data.dropna()"
      ],
      "metadata": {
        "id": "kDR8L2grl3rk"
      },
      "execution_count": null,
      "outputs": []
    },
    {
      "cell_type": "code",
      "execution_count": null,
      "metadata": {
        "colab": {
          "background_save": true,
          "base_uri": "https://localhost:8080/"
        },
        "id": "Vt88HOYRXqES",
        "outputId": "425db078-12ab-4442-da8a-37232ca92cef"
      },
      "outputs": [
        {
          "name": "stderr",
          "output_type": "stream",
          "text": [
            "<ipython-input-260-f67379de50e6>:4: FutureWarning: save is not part of the public API, usage can give unexpected results and will be removed in a future version\n",
            "  writer.save()\n"
          ]
        }
      ],
      "source": [
        "scores = []\n",
        "\n",
        "for row in range(data.shape[0]):\n",
        "  score = 0\n",
        "\n",
        "  if data[\"RSI\"][row] < 30:\n",
        "    score += 1\n",
        "  else:\n",
        "    score+=(100-int(data[\"RSI\"][row]))/70\n",
        "\n",
        "  if data[\"SMA9\"][row] > data[\"SMA20\"][row]:\n",
        "    score+=1\n",
        "  elif data[\"SMA9\"][row] > data[\"SMA20\"][row] and data[\"Close\"][row] > data[\"SMA9\"][row]:\n",
        "    score+=1\n",
        "  else:\n",
        "    score+=-1\n",
        "\n",
        "  if data[\"STOCH-D\"][row] <= 20:\n",
        "    score += 1\n",
        "  elif data[\"STOCH-D\"][row] >= 80:\n",
        "    score += -1\n",
        "\n",
        "  if data[\"MACD\"][row] > data[\"SIGNAL\"][row]:\n",
        "    score+=1\n",
        "  if data[\"MACD\"][row] > data[\"SIGNAL\"][row] and data[\"HISTOGRAM\"][row-1] < 0 and data[\"HISTOGRAM\"][row] > 0:\n",
        "    score+=1\n",
        "  elif data[\"MACD\"][row] < data[\"SIGNAL\"][row]:\n",
        "    score+=-1\n",
        "\n",
        "  if data[\"BB-LOWER\"][row] > data[\"Close\"][row]:\n",
        "    score += 1\n",
        "  elif data[\"BB-MID\"][row] < data[\"Close\"][row]:\n",
        "    score += +0.25\n",
        "  elif data[\"BB-MID\"][row] > data[\"Close\"][row]:\n",
        "    score += -0.25\n",
        "  else:\n",
        "    score += -1\n",
        "\n",
        "  if (data[\"STDEV\"].max() + data[\"STDEV\"].min()) / 2 > data[\"STDEV\"][row]:\n",
        "    score+=1\n",
        "  else:\n",
        "    score+=-1\n",
        "\n",
        "  if data[\"PSAR\"][row] < data[\"Close\"][row]:\n",
        "    score+=1\n",
        "  else:\n",
        "    score+=-1\n",
        "\n",
        "  #-20 as the overbought threshold and -80 as the oversold threshold.\n",
        "  if data[\"WILLIAMS\"][row] > -20:\n",
        "    score+=-1\n",
        "  elif data[\"WILLIAMS\"][row] < -80:\n",
        "    score+=1\n",
        "\n",
        "  if data[\"AROON\"][row] > 0:\n",
        "    score+=-1\n",
        "  else:\n",
        "    score+=1\n",
        "\n",
        "  scores.append(score)\n",
        "\n",
        "data[\"SCORE\"] = scores"
      ]
    },
    {
      "cell_type": "code",
      "execution_count": null,
      "metadata": {
        "colab": {
          "background_save": true
        },
        "id": "aFww9pHKbmEA",
        "outputId": "83af4476-5bb6-4859-fc2c-b237e5193807"
      },
      "outputs": [
        {
          "name": "stdout",
          "output_type": "stream",
          "text": [
            "45.82195938024353\n"
          ]
        },
        {
          "data": {
            "text/plain": [
              "0.0"
            ]
          },
          "execution_count": 261,
          "metadata": {},
          "output_type": "execute_result"
        }
      ],
      "source": [
        "output_file = stock + \":\" + start + \":\" + end + '.xlsx'\n",
        "writer = pd.ExcelWriter(output_file)\n",
        "data.to_excel(writer, index=False, sheet_name=stock)\n",
        "writer.save()"
      ]
    },
    {
      "cell_type": "code",
      "source": [
        "tr_balance = 2000\n",
        "stock_balance = 0\n",
        "\n",
        "transactions = []\n",
        "\n",
        "for row in range(data.shape[0]):\n",
        "  if data[\"SCORE\"][row] >= 4.5 and tr_balance > 100:\n",
        "   stock_balance = tr_balance / data[\"Close\"][row]\n",
        "   tr_balance-= stock_balance*data[\"Close\"][row]\n",
        "   transactions.append([\"BUY\", data.index[row], data[\"Close\"][row], stock_balance, tr_balance])\n",
        "\n",
        "  elif data[\"SCORE\"][row] <= -3 and stock_balance > 0:\n",
        "    tr_balance+=stock_balance*data[\"Close\"][row]\n",
        "    stock_balance-=stock_balance\n",
        "    transactions.append([\"SELL\", data.index[row], data[\"Close\"][row], stock_balance, tr_balance])\n",
        "\n",
        "\n",
        "print(stock_balance)\n",
        "tr_balance"
      ],
      "metadata": {
        "id": "gJEnKVOIl7sZ"
      },
      "execution_count": null,
      "outputs": []
    },
    {
      "cell_type": "code",
      "source": [
        "transactions_df = pd.DataFrame(transactions, columns=[\"B/S\", \"DATE\", \"PRICE\", \"STOCK BALANCE\", \"TRY BALANCE\"])\n",
        "transactions_df"
      ],
      "metadata": {
        "id": "4y32Lax5l9cq"
      },
      "execution_count": null,
      "outputs": []
    }
  ],
  "metadata": {
    "colab": {
      "provenance": [],
      "include_colab_link": true
    },
    "kernelspec": {
      "display_name": "Python 3",
      "language": "python",
      "name": "python3"
    },
    "language_info": {
      "codemirror_mode": {
        "name": "ipython",
        "version": 3
      },
      "file_extension": ".py",
      "mimetype": "text/x-python",
      "name": "python",
      "nbconvert_exporter": "python",
      "pygments_lexer": "ipython3",
      "version": "3.8.3"
    }
  },
  "nbformat": 4,
  "nbformat_minor": 0
}
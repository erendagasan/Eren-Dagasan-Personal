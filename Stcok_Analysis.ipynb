{
  "cells": [
    {
      "cell_type": "markdown",
      "metadata": {
        "id": "view-in-github",
        "colab_type": "text"
      },
      "source": [
        "<a href=\"https://colab.research.google.com/github/erendagasan/Eren-Dagasan-Personal/blob/main/Stcok_Analysis.ipynb\" target=\"_parent\"><img src=\"https://colab.research.google.com/assets/colab-badge.svg\" alt=\"Open In Colab\"/></a>"
      ]
    },
    {
      "cell_type": "code",
      "execution_count": null,
      "metadata": {
        "id": "CILEt1NgoCJG"
      },
      "outputs": [],
      "source": [
        "!pip install bta-lib\n",
        "!pip install ta\n",
        "!pip install yfinance"
      ]
    },
    {
      "cell_type": "code",
      "source": [
        "import yfinance as yf\n",
        "import btalib\n",
        "import numpy as np\n",
        "import pandas as pd\n",
        "from ta.trend import PSARIndicator\n",
        "from ta.momentum import WilliamsRIndicator\n",
        "from ta.trend import AroonIndicator\n",
        "from ta.volume import VolumePriceTrendIndicator\n",
        "import warnings\n",
        "warnings.filterwarnings(\"ignore\", category=FutureWarning)\n",
        "pd.set_option('display.float_format', lambda x: '%.2f' % x)"
      ],
      "metadata": {
        "id": "WWvB2_sVlTqN"
      },
      "execution_count": 209,
      "outputs": []
    },
    {
      "cell_type": "code",
      "source": [
        "xu30 = [\"AKBNK\", \"AKSEN\", \"ALARK\", \"ARCLK\", \"ASELS\", \"BIMAS\", \"EKGYO\", \"ENKAI\", \"EREGL\", \"FROTO\", \"GARAN\", \"GUBRF\", \"HEKTS\",\"KRDMD\",\"KCHOL\", \"KOZAL\", \"KOZAA\", \"ODAS\", \"PGSUS\", \"SAHOL\",\n",
        "        \"SASA\", \"PETKM\", \"SISE\", \"TAVHL\", \"THYAO\", \"TUPRS\", \"TOASO\", \"TCELL\", \"ISCTR\", \"YKBNK\", \"BRSAN\"]\n",
        "\n",
        "url = 'https://en.m.wikipedia.org/wiki/Nasdaq-100'\n",
        "nasdaq100 = pd.read_html(url, attrs={'id': \"constituents\"})[0]\n",
        "nasdaq100 = nasdaq100[\"Ticker\"].to_list()"
      ],
      "metadata": {
        "id": "TUKxemqyjEYd"
      },
      "execution_count": 226,
      "outputs": []
    },
    {
      "cell_type": "code",
      "source": [
        "def create_indicators(data):\n",
        "  # Below 30 is oversold, upper 70 is overbought\n",
        "  data[\"RSI\"] = btalib.rsi(data[\"Close\"], period=14).df\n",
        "\n",
        "  #If little period conflicts with the bigger one it means buy else sell.\n",
        "  data[\"SMA9\"] = btalib.sma(data['Close'], period=9).df\n",
        "  data[\"SMA20\"] = btalib.sma(data['Close'], period=20).df\n",
        "\n",
        "  #A reading below 20 generally represents an oversold market and a reading above 80 an overbought market. Look only STOCH-D.\n",
        "  data[\"STOCH-K\"] = btalib.stoch(data['High'], data['Low'], data['Close']).df[\"k\"]\n",
        "  data[\"STOCH-D\"] = btalib.stoch(data['High'], data['Low'], data['Close']).df[\"d\"]\n",
        "\n",
        "  #When the MACD line crosses above the signal line, it generates a buy signal. This indicates a potential bullish trend reversal.\n",
        "  #Additionally, monitor the MACD histogram. When the histogram bars turn positive (change from negative to positive), it confirms the buy signal and suggests increasing buying pressure.\n",
        "  data[\"MACD\"] = btalib.macd(data['Close']).df[\"macd\"]\n",
        "  data[\"SIGNAL\"] = btalib.macd(data['Close']).df[\"signal\"]\n",
        "  data[\"HISTOGRAM\"] = btalib.macd(data['Close']).df[\"histogram\"]\n",
        "\n",
        "  #Buy Signal: When the price of the stock touches or crosses below the lower Bollinger Band, it can be considered a buy signal.\n",
        "  #This suggests that the stock may be oversold, and a potential price rebound is expected.\n",
        "  #Sell Signal: When the price of the stock touches or crosses above the upper Bollinger Band, it can be considered a sell signal.\n",
        "  #This indicates that the stock may be overbought, and a potential price correction is expected.\n",
        "  data[\"BB-UPPER\"] = btalib.bbands(data['Close']).df['top']\n",
        "  data[\"BB-MID\"] = btalib.bbands(data['Close']).df['mid']\n",
        "  data[\"BB-LOWER\"] = btalib.bbands(data['Close']).df['bot']\n",
        "\n",
        "  #When the current price of the stock falls below a certain number of standard deviations (GET THE MIN AND MAX VALUE OF THE COLUMN AND MAKE IT THE THRESHOLD)\n",
        "  #from the mean, it generates a buy signal. This suggests that the price has deviated significantly from the average and may present a buying opportunity.\n",
        "  data[\"STDEV\"] = data[\"Close\"].rolling(window=10).std()\n",
        "\n",
        "  #Generate a buy signal when the price crosses above the PSAR.\n",
        "  #This indicates a potential reversal in the downward trend and suggests a buying opportunity.\n",
        "  data[\"PSAR\"] = PSARIndicator(data[\"High\"], data[\"Low\"], data[\"Close\"]).psar()\n",
        "\n",
        "  #Williams\n",
        "  #Use the Williams Percent Range (%R) formula to calculate the %R values based on historical price data.\n",
        "  #The %R values range from -100 to 0, where values close to -100 indicate oversold conditions and values close to 0 indicate overbought conditions.\n",
        "  #Generate a buy signal when the %R value crosses above a certain threshold (e.g., -80) from below.\n",
        "  #This indicates a potential reversal from oversold conditions and suggests a buying opportunity.\n",
        "  data[\"WILLIAMS\"] = WilliamsRIndicator(data[\"High\"], data[\"Low\"], data[\"Close\"]).williams_r()\n",
        "\n",
        "  #The difference between these two lines indicates whether there is overbought (a positive number) or oversold (a negative number).\n",
        "  data[\"AROON\"] = AroonIndicator(close=data[\"Close\"], window=25).aroon_indicator()\n",
        "\n",
        "  #obv\n",
        "  data[\"OBV\"] = VolumePriceTrendIndicator(close=data['Close'], volume=data['Volume']).volume_price_trend()\n",
        "  data = data.dropna()\n",
        "  data = data.reset_index()\n",
        "  return data\n",
        "\n",
        "def score(data):\n",
        "  scores = []\n",
        "  for row in range(data.shape[0]):\n",
        "    score = 0\n",
        "    if data[\"RSI\"][row] < 30:\n",
        "      score += 1\n",
        "    else:\n",
        "      score+=(100-int(data[\"RSI\"][row]))/70\n",
        "\n",
        "    if data[\"SMA9\"][row] > data[\"SMA20\"][row] and data[\"Close\"][row] > data[\"SMA9\"][row]:\n",
        "      score += 1\n",
        "    else:\n",
        "      score += -1\n",
        "\n",
        "    if data[\"STOCH-D\"][row] <= 20:\n",
        "      score += 1\n",
        "    elif data[\"STOCH-D\"][row] >= 80:\n",
        "      score += -1\n",
        "\n",
        "    if data[\"MACD\"][row] > data[\"SIGNAL\"][row]:\n",
        "      score+=1\n",
        "    if row > 0 and data[\"MACD\"][row] > data[\"SIGNAL\"][row] and data[\"HISTOGRAM\"][row-1] < 0 and data[\"HISTOGRAM\"][row] > 0:\n",
        "      score+=1\n",
        "    elif data[\"MACD\"][row] < data[\"SIGNAL\"][row]:\n",
        "      score+=-1\n",
        "\n",
        "    if data[\"BB-LOWER\"][row] > data[\"Close\"][row]:\n",
        "      score += 1\n",
        "    elif data[\"BB-MID\"][row] < data[\"Close\"][row]:\n",
        "      score += +0.25\n",
        "    elif data[\"BB-MID\"][row] > data[\"Close\"][row]:\n",
        "      score += -0.25\n",
        "    else:\n",
        "      score += -1\n",
        "\n",
        "    if (data[\"STDEV\"].max() + data[\"STDEV\"].min()) / 2 > data[\"STDEV\"][row]:\n",
        "      score+=1\n",
        "    else:\n",
        "      score+=-1\n",
        "\n",
        "    if data[\"PSAR\"][row] < data[\"Close\"][row]:\n",
        "      score+=1\n",
        "    else:\n",
        "      score+=-1\n",
        "\n",
        "    if data[\"WILLIAMS\"][row] > -20:\n",
        "      score+=-1\n",
        "    elif data[\"WILLIAMS\"][row] < -80:\n",
        "      score+=1\n",
        "\n",
        "    if data[\"AROON\"][row] > 0:\n",
        "      score+=-1\n",
        "    else:\n",
        "      score+=1\n",
        "\n",
        "    if row > 0 and data[\"OBV\"][row-1] < data[\"OBV\"][row] and data[\"Close\"][row] > data[\"Close\"][row-1]:\n",
        "      score+=1\n",
        "    elif row > 0 and data[\"OBV\"][row-1] > data[\"OBV\"][row] and data[\"Close\"][row] < data[\"Close\"][row-1]:\n",
        "      score+=-1\n",
        "\n",
        "    scores.append(score)\n",
        "\n",
        "  data[\"SCORE\"] = scores\n",
        "  return data\n",
        "\n",
        "def save_to_excel(stock, data):\n",
        "  output_file = stock + \":\" + start + \":\" + end + '.xlsx'\n",
        "  writer = pd.ExcelWriter(output_file)\n",
        "  data.to_excel(writer, index=True, sheet_name=stock)\n",
        "  writer.save()\n",
        "\n",
        "def simulation(stock, data, balance):\n",
        "  tr_balance = balance\n",
        "  stock_balance = 0\n",
        "\n",
        "  transactions = []\n",
        "\n",
        "  for row in range(data.shape[0]):\n",
        "    if data[\"SCORE\"][row] >= 3.5 and tr_balance > 100:\n",
        "      stock_balance = tr_balance / data[\"Close\"][row]\n",
        "      tr_balance-= stock_balance*data[\"Close\"][row]\n",
        "      transactions.append([stock, \"BUY\", data[\"Date\"][row], data[\"Close\"][row], stock_balance, tr_balance])\n",
        "\n",
        "    elif data[\"SCORE\"][row] <= -3 and stock_balance > 0:\n",
        "      tr_balance+=stock_balance*data[\"Close\"][row]\n",
        "      stock_balance-=stock_balance\n",
        "      transactions.append([stock,\"SELL\", data[\"Date\"][row], data[\"Close\"][row], stock_balance, tr_balance])\n",
        "\n",
        "  transactions_df = pd.DataFrame(transactions, columns=[\"STOCK\",\"B/S\", \"DATE\", \"PRICE\", \"STOCK BALANCE\", \"TRY BALANCE\"])\n",
        "  return transactions_df\n",
        ""
      ],
      "metadata": {
        "id": "YJK_7ot1ipoG"
      },
      "execution_count": null,
      "outputs": []
    },
    {
      "cell_type": "code",
      "source": [
        "# start=\"2019-01-01\"\n",
        "# end=\"2023-06-20\"\n",
        "# stock = \"BIMAS.IS\"\n",
        "# data = yf.download(stock, start=start, end=end)\n",
        "# data = create_indicators(data)\n",
        "# data = score(data)\n",
        "# save_to_excel(stock, data)"
      ],
      "metadata": {
        "id": "6ssAutiMitAF"
      },
      "execution_count": null,
      "outputs": []
    },
    {
      "cell_type": "code",
      "source": [
        "start=\"2019-01-01\"\n",
        "end=\"2023-06-30\"\n",
        "\n",
        "buy_stocks = []\n",
        "sell_stocks = []\n",
        "simulation_stocks = pd.DataFrame()\n",
        "\n",
        "for stock in xu30:\n",
        "  data = yf.download(stock+\".IS\", start=start, end=end)\n",
        "  data = create_indicators(data)\n",
        "  data = score(data)\n",
        "  # save_to_excel(stock, data)\n",
        "\n",
        "  if data.tail(1)[\"SCORE\"].item() > 3.5:\n",
        "    buy_stocks.append([data.tail(1)[\"Date\"].item(), stock, data.tail(1)[\"Close\"].item(), data.tail(1)[\"SCORE\"].item()])\n",
        "    simulation_df = simulation(stock, data, balance=2000)\n",
        "    simulation_stocks = pd.concat([simulation_stocks, simulation_df])\n",
        "\n",
        "  elif data.tail(1)[\"SCORE\"].item() < -2.5:\n",
        "    sell_stocks.append([data.tail(1)[\"Date\"].item(), stock, data.tail(1)[\"Close\"].item(), data.tail(1)[\"SCORE\"].item()])"
      ],
      "metadata": {
        "id": "4y32Lax5l9cq"
      },
      "execution_count": null,
      "outputs": []
    },
    {
      "cell_type": "code",
      "source": [
        "buy_stocks = pd.DataFrame(buy_stocks, columns=[\"Date\",\"Stock\", \"Price\",\"Score\"])\n",
        "buy_stocks"
      ],
      "metadata": {
        "id": "0LGv0qSgv8JS"
      },
      "execution_count": null,
      "outputs": []
    },
    {
      "cell_type": "code",
      "source": [
        "sell_stocks = pd.DataFrame(sell_stocks, columns=[\"Date\",\"Stock\", \"Price\",\"Score\"])\n",
        "sell_stocks"
      ],
      "metadata": {
        "id": "OH1kbNQ10LPw"
      },
      "execution_count": null,
      "outputs": []
    },
    {
      "cell_type": "code",
      "source": [
        "simulation_stocks"
      ],
      "metadata": {
        "id": "51GcCrmQ484q"
      },
      "execution_count": null,
      "outputs": []
    },
    {
      "cell_type": "code",
      "source": [],
      "metadata": {
        "id": "9YDIbSVpGAK6"
      },
      "execution_count": 185,
      "outputs": []
    }
  ],
  "metadata": {
    "colab": {
      "provenance": [],
      "include_colab_link": true
    },
    "kernelspec": {
      "display_name": "Python 3",
      "language": "python",
      "name": "python3"
    },
    "language_info": {
      "codemirror_mode": {
        "name": "ipython",
        "version": 3
      },
      "file_extension": ".py",
      "mimetype": "text/x-python",
      "name": "python",
      "nbconvert_exporter": "python",
      "pygments_lexer": "ipython3",
      "version": "3.8.3"
    }
  },
  "nbformat": 4,
  "nbformat_minor": 0
}
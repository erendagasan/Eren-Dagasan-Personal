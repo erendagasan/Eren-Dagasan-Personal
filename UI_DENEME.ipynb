{
  "nbformat": 4,
  "nbformat_minor": 0,
  "metadata": {
    "colab": {
      "provenance": [],
      "authorship_tag": "ABX9TyOFGlEEziLgbfdM+c7ut6M6",
      "include_colab_link": true
    },
    "kernelspec": {
      "name": "python3",
      "display_name": "Python 3"
    },
    "language_info": {
      "name": "python"
    }
  },
  "cells": [
    {
      "cell_type": "markdown",
      "metadata": {
        "id": "view-in-github",
        "colab_type": "text"
      },
      "source": [
        "<a href=\"https://colab.research.google.com/github/erendagasan/Eren-Dagasan-Personal/blob/main/UI_DENEME.ipynb\" target=\"_parent\"><img src=\"https://colab.research.google.com/assets/colab-badge.svg\" alt=\"Open In Colab\"/></a>"
      ]
    },
    {
      "cell_type": "markdown",
      "source": [
        "# Gerekliler"
      ],
      "metadata": {
        "id": "Zeakwf7Y1VSr"
      }
    },
    {
      "cell_type": "markdown",
      "source": [
        "## Score and Market Test Function"
      ],
      "metadata": {
        "id": "BC4jNHgEKwvg"
      }
    },
    {
      "cell_type": "code",
      "source": [
        "import ast\n",
        "\n",
        "def test_the_market(market, buy_threshold, sell_threshold, start, end, balance, today, x):\n",
        "  test_df = pd.DataFrame()\n",
        "\n",
        "  for stock in market:\n",
        "    try:\n",
        "      data = yf.download(stock, start, end, progress=False)\n",
        "      data = create_indicators(data)\n",
        "      data = score(data, x)\n",
        "      simulation_df = buy_or_sell(stock, data, balance=balance, upper_score=buy_threshold, lower_score=sell_threshold)\n",
        "      test_df = pd.concat([test_df, simulation_df])\n",
        "\n",
        "    except:\n",
        "      print(\"Data error with stock named: \" + stock)\n",
        "\n",
        "  test_df = test_df.reset_index().drop([\"index\"], axis=1)\n",
        "  return_df = pd.DataFrame()\n",
        "\n",
        "  for stock in market:\n",
        "    stock_df = test_df[test_df[\"STOCK\"] == stock]\n",
        "\n",
        "    if stock_df.empty != True:\n",
        "      if stock_df['B/S'].iloc[-1] == \"BUY\":\n",
        "        add = pd.DataFrame({\"STOCK\": [stock_df[\"STOCK\"].iloc[-1]], \"B/S\": [\"CLOSE\"], \"DATE\": [today], \"PRICE\": [stock_df[\"LAST PRICE\"].iloc[-1]],\n",
        "                            'STOCK BALANCE': [0], 'TRY BALANCE': [(stock_df[\"STOCK BALANCE\"].iloc[-1]) * stock_df[\"LAST PRICE\"].iloc[-1]], 'LAST PRICE' :[stock_df[\"LAST PRICE\"].iloc[-1]]})\n",
        "\n",
        "        stock_df = stock_df.append(add)\n",
        "        return_df = pd.concat([return_df, stock_df], ignore_index=True)\n",
        "      else:\n",
        "        return_df = pd.concat([return_df, stock_df], ignore_index=True)\n",
        "\n",
        "  return return_df\n",
        "\n",
        "def score(data, x):\n",
        "  scaler = MinMaxScaler(feature_range=(0, 100))\n",
        "  scores = []\n",
        "\n",
        "  x = ast.literal_eval(x)\n",
        "\n",
        "  for row in range(data.shape[0]):\n",
        "    score = 0\n",
        "\n",
        "    if data[\"RSI\"][row] < 30:\n",
        "      score+=x[0]\n",
        "    elif data[\"RSI\"][row] > 70:\n",
        "      score-=x[1]\n",
        "\n",
        "    if data[\"RSI\"][row] >= 75:\n",
        "      score+=x[58]\n",
        "    elif row > 0 and data[\"RSI\"][row-1] > 73 and data[\"RSI\"][row] < 73:\n",
        "      score-=x[59]\n",
        "\n",
        "    if row > 0 and data[\"RSI\"].iloc[row-1] > 63 and data[\"RSI\"].iloc[row] < 63:\n",
        "      score-=x[2]\n",
        "\n",
        "    if row > 0 and data[\"RSI\"].iloc[row-1] > 49 and data[\"RSI\"].iloc[row] < 49:\n",
        "      score-=x[3]\n",
        "    elif row > 0 and data[\"RSI\"].iloc[row-1] < 50 and data[\"RSI\"].iloc[row] > 50:\n",
        "      score+=x[4]\n",
        "\n",
        "    if data[\"SMA5\"].iloc[row] > data[\"SMA10\"].iloc[row]:\n",
        "      score+=x[5]\n",
        "    else:\n",
        "      score-=x[6]\n",
        "\n",
        "    if row > 0 and data['SMA5'].iloc[row-1] < data['SMA10'].iloc[row-1] and data['SMA5'].iloc[row] > data['SMA10'].iloc[row]:\n",
        "      score+=x[7]\n",
        "    else:\n",
        "      score-=x[8]\n",
        "\n",
        "    if data[\"SMA9\"][row] > data[\"SMA14\"][row]:\n",
        "      score+=x[9]\n",
        "    else:\n",
        "      score-=x[10]\n",
        "\n",
        "    if row > 0 and data['SMA9'].iloc[row-1] < data['SMA14'].iloc[row-1] and data['SMA9'].iloc[row] > data['SMA14'].iloc[row]:\n",
        "      score+=x[11]\n",
        "    else:\n",
        "      score-=x[12]\n",
        "\n",
        "    if data[\"SMA14\"][row] > data[\"SMA21\"][row]:\n",
        "      score+=x[13]\n",
        "    else:\n",
        "      score-=x[14]\n",
        "\n",
        "    if row > 0 and data['SMA14'].iloc[row-1] < data['SMA21'].iloc[row-1] and data['SMA14'].iloc[row] > data['SMA21'].iloc[row]:\n",
        "      score+=x[15]\n",
        "    else:\n",
        "      score-=x[16]\n",
        "\n",
        "    if row > 1 and data['SMA20'].iloc[row-1] < data[\"Close\"].iloc[row-1] and data['SMA20'].iloc[row] < data[\"Close\"].iloc[row]:\n",
        "      score+=x[17]\n",
        "    else:\n",
        "      score-=x[18]\n",
        "\n",
        "    if data[\"SMA21\"][row] > data[\"SMA50\"][row]:\n",
        "      score+=x[19]\n",
        "    else:\n",
        "      score-=x[20]\n",
        "\n",
        "    if row > 0 and data['SMA21'].iloc[row-1] < data['SMA50'].iloc[row-1] and data['SMA21'].iloc[row] > data['SMA50'].iloc[row]:\n",
        "      score+=x[21]\n",
        "    else:\n",
        "      score-=x[22]\n",
        "\n",
        "    if row > 0 and data['SMA50'].iloc[row-1] < data['SMA200'].iloc[row-1] and data['SMA50'].iloc[row] > data['SMA200'].iloc[row]:\n",
        "      score+=x[23]\n",
        "\n",
        "    if data['Close'][row] > data[\"EMA14\"][row]:\n",
        "      score+=x[24]\n",
        "    else:\n",
        "      score-=x[25]\n",
        "\n",
        "    if data[\"EMA5\"][row] > data[\"EMA14\"][row]:\n",
        "      score+=x[26]\n",
        "    else:\n",
        "      score-=x[27]\n",
        "\n",
        "    if row > 0 and data['EMA5'].iloc[row-1] < data['EMA14'].iloc[row-1] and data['EMA5'].iloc[row] > data['EMA14'].iloc[row]:\n",
        "      score+=x[28]\n",
        "    else:\n",
        "      score-=x[29]\n",
        "\n",
        "    if data[\"EMA14\"][row] > data[\"EMA21\"][row]:\n",
        "      score+=x[30]\n",
        "    else:\n",
        "      score-=x[31]\n",
        "\n",
        "    if row > 0 and data['EMA14'].iloc[row-1] < data['EMA21'].iloc[row-1] and data['EMA14'].iloc[row] > data['EMA21'].iloc[row]:\n",
        "      score+=x[32]\n",
        "    else:\n",
        "      score-=x[33]\n",
        "\n",
        "    if data[\"EMA21\"][row] > data[\"EMA50\"][row]:\n",
        "      score+=x[34]\n",
        "    else:\n",
        "      score-=x[35]\n",
        "\n",
        "    if row > 0 and data['EMA21'].iloc[row-1] < data['EMA50'].iloc[row-1] and data['EMA21'].iloc[row] > data['EMA50'].iloc[row]:\n",
        "      score+=x[36]\n",
        "    else:\n",
        "      score-=x[37]\n",
        "\n",
        "    if data[\"STOCH-D\"][row] <= 20:\n",
        "      score+=x[38]\n",
        "    elif data[\"STOCH-D\"][row] >= 80:\n",
        "      score-=x[39]\n",
        "\n",
        "    if row > 0 and data[\"STOCH-D\"][row-1] > 65 and data[\"STOCH-D\"][row] < 65:\n",
        "      score-=x[40]\n",
        "    elif row > 0 and data[\"STOCH-D\"][row-1] < 35 and data[\"STOCH-D\"][row] > 35:\n",
        "      score=+x[41]\n",
        "\n",
        "    if data[\"MACD\"][row] > data[\"SIGNAL\"][row]:\n",
        "      score+=x[42]\n",
        "    if row > 0 and data[\"MACD\"][row] > data[\"SIGNAL\"][row] and data[\"HISTOGRAM\"][row-1] < 0 and data[\"HISTOGRAM\"][row] > 0:\n",
        "      score+=x[43]\n",
        "    if row > 0 and data[\"MACD\"][row] < data[\"SIGNAL\"][row] and data[\"HISTOGRAM\"][row-1] > 0 and data[\"HISTOGRAM\"][row] < 0:\n",
        "      score-=x[44]\n",
        "    if data[\"MACD\"][row] < data[\"SIGNAL\"][row]:\n",
        "      score-=x[45]\n",
        "\n",
        "    if data['MACD'].tail(7).mean() > 0:\n",
        "      score+=x[46]\n",
        "    else:\n",
        "      score-=x[47]\n",
        "\n",
        "    if data['MACD'].tail(30).mean() > 0:\n",
        "      score+=x[48]\n",
        "    else:\n",
        "      score-=x[49]\n",
        "\n",
        "    if data[\"BB-LOWER\"].iloc[row] > data[\"Close\"].iloc[row]:\n",
        "        score+=x[50]\n",
        "    elif data[\"BB-UPPER\"].iloc[row] < data[\"Close\"].iloc[row]:\n",
        "        score-=x[51]\n",
        "    if data[\"BB-MID\"].iloc[row] < data[\"Close\"].iloc[row] and data[\"BB-LOWER\"].iloc[row] - data[\"Close\"].iloc[row] < data[\"BB-MID\"].iloc[row] - data[\"Close\"].iloc[row]:\n",
        "        score+=x[52]\n",
        "    elif data[\"BB-MID\"].iloc[row] > data[\"Close\"].iloc[row] and data[\"BB-UPPER\"].iloc[row] - data[\"Close\"].iloc[row] < data[\"BB-MID\"].iloc[row] - data[\"Close\"].iloc[row]:\n",
        "        score-=x[53]\n",
        "\n",
        "    if (data[\"STDEV\"].max() + data[\"STDEV\"].min()) / 2 > data[\"STDEV\"][row]:\n",
        "      score+=1\n",
        "    else:\n",
        "      score-=1\n",
        "\n",
        "    if data[\"PSAR\"][row] < data[\"Close\"][row]:\n",
        "      score+=1\n",
        "    else:\n",
        "      score-=1\n",
        "\n",
        "    if data[\"WILLIAMS\"][row] < -80:\n",
        "      score+=1\n",
        "    elif data[\"WILLIAMS\"][row] > -20:\n",
        "      score-=1\n",
        "\n",
        "    if data[\"AROON\"][row] > 0:\n",
        "      score-=1\n",
        "    else:\n",
        "      score+=1\n",
        "\n",
        "    if row > 0 and data[\"OBV\"][row-1] < data[\"OBV\"][row] and data[\"Close\"][row] > data[\"Close\"][row-1]:\n",
        "      score+=1\n",
        "    elif row > 0 and data[\"OBV\"][row-1] > data[\"OBV\"][row] and data[\"Close\"][row] < data[\"Close\"][row-1]:\n",
        "      score-=1\n",
        "\n",
        "    if row > 0 and (data['CCI'][row] > -100) & (data['CCI'][row-1] <= -100):\n",
        "      score+=1\n",
        "    elif row > 0 and (data['CCI'][row] < 100) & (data['CCI'][row-1] >= 100):\n",
        "      score-=1\n",
        "\n",
        "    if data[\"ROC\"][row] > 0:\n",
        "      score+=1\n",
        "    elif data[\"ROC\"][row] < 0:\n",
        "      score-=1\n",
        "\n",
        "    if data[\"BULL\"][row] > 0:\n",
        "      score+=1\n",
        "    elif data[\"BEAR\"][row] < 0:\n",
        "      score-=1\n",
        "\n",
        "    if (data['ADX'][row] > 25) and (data['+DI'][row] > data['-DI'][row]):\n",
        "      score+=x[54]\n",
        "    if data['ADX'][row] > data['+DI'][row] and data['ADX'][row] > data['-DI'][row]:\n",
        "      score+=x[55]\n",
        "    if data['ADX'][row] < data['+DI'][row] and data['ADX'][row] < data['-DI'][row]:\n",
        "      score-=x[56]\n",
        "    elif (data['ADX'][row] > 40) and (data['+DI'][row] < data['-DI'][row]):\n",
        "      score-=x[57]\n",
        "\n",
        "    scores.append(score)\n",
        "\n",
        "  data[\"SCORE\"] = scores\n",
        "  data[\"SCORE\"] = scaler.fit_transform(data[\"SCORE\"].values.reshape(-1, 1))\n",
        "  return data"
      ],
      "metadata": {
        "id": "VWjFxfExKvYQ"
      },
      "execution_count": 2,
      "outputs": []
    },
    {
      "cell_type": "code",
      "execution_count": 3,
      "metadata": {
        "id": "CILEt1NgoCJG",
        "colab": {
          "base_uri": "https://localhost:8080/"
        },
        "outputId": "39eccd69-0aa6-4a6a-a928-d4e4b25dbc36"
      },
      "outputs": [
        {
          "output_type": "stream",
          "name": "stdout",
          "text": [
            "\u001b[?25l     \u001b[90m━━━━━━━━━━━━━━━━━━━━━━━━━━━━━━━━━━━━━━━━\u001b[0m \u001b[32m0.0/92.2 kB\u001b[0m \u001b[31m?\u001b[0m eta \u001b[36m-:--:--\u001b[0m\r\u001b[2K     \u001b[90m━━━━━━━━━━━━━━━━━━━━━━━━━━━━━━━━━━━━━━━━\u001b[0m \u001b[32m92.2/92.2 kB\u001b[0m \u001b[31m3.6 MB/s\u001b[0m eta \u001b[36m0:00:00\u001b[0m\n",
            "\u001b[?25h  Preparing metadata (setup.py) ... \u001b[?25l\u001b[?25hdone\n",
            "  Building wheel for ta (setup.py) ... \u001b[?25l\u001b[?25hdone\n"
          ]
        }
      ],
      "source": [
        "!pip install -q bta-lib\n",
        "!pip install -q ta\n",
        "!pip install -q yfinance"
      ]
    },
    {
      "cell_type": "code",
      "source": [
        "import yfinance as yf\n",
        "import btalib\n",
        "import numpy as np\n",
        "import pandas as pd\n",
        "from ta.trend import PSARIndicator\n",
        "from ta.momentum import WilliamsRIndicator\n",
        "from ta.trend import AroonIndicator\n",
        "from ta.volume import VolumePriceTrendIndicator\n",
        "from ta.trend import CCIIndicator\n",
        "from ta.momentum import ROCIndicator\n",
        "from ta.trend import ADXIndicator\n",
        "from datetime import datetime, timedelta\n",
        "from sklearn.preprocessing import MinMaxScaler\n",
        "import random\n",
        "import numpy as np\n",
        "import warnings\n",
        "from google.colab import drive\n",
        "\n",
        "drive.mount('/content/drive')\n",
        "\n",
        "warnings.filterwarnings(\"ignore\")\n",
        "pd.set_option('display.float_format', lambda x: '%.2f' % x)\n",
        "pd.set_option('display.max_rows', 500)"
      ],
      "metadata": {
        "id": "WWvB2_sVlTqN",
        "colab": {
          "base_uri": "https://localhost:8080/"
        },
        "outputId": "f13f33f5-602f-4619-e781-0decb1feb231"
      },
      "execution_count": 4,
      "outputs": [
        {
          "output_type": "stream",
          "name": "stdout",
          "text": [
            "Mounted at /content/drive\n"
          ]
        }
      ]
    },
    {
      "cell_type": "code",
      "source": [
        "result_df = pd.read_excel(\"/content/drive/MyDrive/stockmarket/XU030.xlsx\")"
      ],
      "metadata": {
        "id": "V-Ge3Q8FDTw0"
      },
      "execution_count": 5,
      "outputs": []
    },
    {
      "cell_type": "markdown",
      "source": [
        "##Variables"
      ],
      "metadata": {
        "id": "Gjl62JSewb2H"
      }
    },
    {
      "cell_type": "code",
      "source": [
        "today = datetime.today().date()\n",
        "tomorrow = today + timedelta(days=1)\n",
        "\n",
        "start=\"2021-06-01\"\n",
        "end = tomorrow.strftime(\"%Y-%m-%d\")\n",
        "\n",
        "balance = 2000"
      ],
      "metadata": {
        "id": "myQQY_GteXzb"
      },
      "execution_count": 6,
      "outputs": []
    },
    {
      "cell_type": "markdown",
      "source": [
        "# PROGRAM"
      ],
      "metadata": {
        "id": "ppOWuuM7UoRG"
      }
    },
    {
      "cell_type": "code",
      "source": [
        "def color_boolean(row):\n",
        "    color = ''\n",
        "\n",
        "    if row[\"BUY OR SELL\"] == \"SELL\":\n",
        "        color = 'red'\n",
        "    elif row[\"BUY OR SELL\"] == \"BUY\":\n",
        "        color = 'green'\n",
        "\n",
        "    return ['background-color: %s' % color] * len(row)\n",
        "\n",
        "buy_stocks = []\n",
        "sell_stocks = []\n",
        "\n",
        "for stock in result_df[\"STOCK\"].unique():\n",
        "\n",
        "  stock_df = result_df[result_df[\"STOCK\"] == stock].sort_values(by=\"PROFIT\", ascending=False)\n",
        "  buy_threshold = stock_df[\"BUY TH\"].iloc[0]\n",
        "  sell_threshold = stock_df[\"SELL TH\"].iloc[0]\n",
        "  x = stock_df[\"WEIGHTS\"].iloc[0]\n",
        "\n",
        "  try:\n",
        "    data = yf.download(stock, start=start, end=end, progress=False)\n",
        "    data = create_indicators(data)\n",
        "    data = score(data, x)\n",
        "\n",
        "    if data[\"SCORE\"].iloc[-1] > buy_threshold and data[\"SCORE\"].iloc[-2] < buy_threshold:\n",
        "      buy_stocks.append([data[\"Date\"].iloc[-1], stock, data[\"Close\"].iloc[-1], data[\"SCORE\"].iloc[-1], \"BUY\", \"%\" + str(round(((data[\"Close\"].iloc[-1]-data[\"Close\"].iloc[-2])/data[\"Close\"].iloc[-2])*100, 2))])\n",
        "\n",
        "    elif data[\"SCORE\"].iloc[-1] < sell_threshold and data[\"SCORE\"].iloc[-2] > sell_threshold:\n",
        "      sell_stocks.append([data[\"Date\"].iloc[-1], stock, data[\"Close\"].iloc[-1], data[\"SCORE\"].iloc[-1], \"SELL\", \"%\" + str(round(((data[\"Close\"].iloc[-1]-data[\"Close\"].iloc[-2])/data[\"Close\"].iloc[-2])*100, 2))])\n",
        "\n",
        "  except:\n",
        "    print(\"Data error at the stock named: \" + stock)\n",
        "\n",
        "buy_df = pd.DataFrame(buy_stocks, columns=[\"DATE\", \"STOCK\", \"PRICE\", \"SCORE\", \"BUY OR SELL\", \"CHANGE\"])\n",
        "buy_df.style.apply(color_boolean, axis=1).format({col: \"{:.2f}\" for col in transactions_df.select_dtypes(include='float').columns})\n",
        "\n",
        "sell_df = pd.DataFrame(sell_stocks, columns=[\"DATE\", \"STOCK\", \"PRICE\", \"SCORE\", \"BUY OR SELL\", \"CHANGE\"])\n",
        "sell_df.style.apply(color_boolean, axis=1).format({col: \"{:.2f}\" for col in transactions_df.select_dtypes(include='float').columns})\n",
        "\n",
        "pd.concat([buy_df, sell_df])"
      ],
      "metadata": {
        "colab": {
          "base_uri": "https://localhost:8080/",
          "height": 235
        },
        "id": "H8wMOaJgUrcE",
        "outputId": "5ad1850f-45e5-4ea3-a20d-dc2d2f67ee78"
      },
      "execution_count": 1,
      "outputs": [
        {
          "output_type": "error",
          "ename": "NameError",
          "evalue": "ignored",
          "traceback": [
            "\u001b[0;31m---------------------------------------------------------------------------\u001b[0m",
            "\u001b[0;31mNameError\u001b[0m                                 Traceback (most recent call last)",
            "\u001b[0;32m<ipython-input-1-04dd51ac6f1a>\u001b[0m in \u001b[0;36m<cell line: 251>\u001b[0;34m()\u001b[0m\n\u001b[1;32m    249\u001b[0m \u001b[0msell_stocks\u001b[0m \u001b[0;34m=\u001b[0m \u001b[0;34m[\u001b[0m\u001b[0;34m]\u001b[0m\u001b[0;34m\u001b[0m\u001b[0;34m\u001b[0m\u001b[0m\n\u001b[1;32m    250\u001b[0m \u001b[0;34m\u001b[0m\u001b[0m\n\u001b[0;32m--> 251\u001b[0;31m \u001b[0;32mfor\u001b[0m \u001b[0mstock\u001b[0m \u001b[0;32min\u001b[0m \u001b[0mresult_df\u001b[0m\u001b[0;34m[\u001b[0m\u001b[0;34m\"STOCK\"\u001b[0m\u001b[0;34m]\u001b[0m\u001b[0;34m.\u001b[0m\u001b[0munique\u001b[0m\u001b[0;34m(\u001b[0m\u001b[0;34m)\u001b[0m\u001b[0;34m:\u001b[0m\u001b[0;34m\u001b[0m\u001b[0;34m\u001b[0m\u001b[0m\n\u001b[0m\u001b[1;32m    252\u001b[0m \u001b[0;34m\u001b[0m\u001b[0m\n\u001b[1;32m    253\u001b[0m   \u001b[0mstock_df\u001b[0m \u001b[0;34m=\u001b[0m \u001b[0mresult_df\u001b[0m\u001b[0;34m[\u001b[0m\u001b[0mresult_df\u001b[0m\u001b[0;34m[\u001b[0m\u001b[0;34m\"STOCK\"\u001b[0m\u001b[0;34m]\u001b[0m \u001b[0;34m==\u001b[0m \u001b[0mstock\u001b[0m\u001b[0;34m]\u001b[0m\u001b[0;34m.\u001b[0m\u001b[0msort_values\u001b[0m\u001b[0;34m(\u001b[0m\u001b[0mby\u001b[0m\u001b[0;34m=\u001b[0m\u001b[0;34m\"PROFIT\"\u001b[0m\u001b[0;34m,\u001b[0m \u001b[0mascending\u001b[0m\u001b[0;34m=\u001b[0m\u001b[0;32mFalse\u001b[0m\u001b[0;34m)\u001b[0m\u001b[0;34m\u001b[0m\u001b[0;34m\u001b[0m\u001b[0m\n",
            "\u001b[0;31mNameError\u001b[0m: name 'result_df' is not defined"
          ]
        }
      ]
    }
  ]
}
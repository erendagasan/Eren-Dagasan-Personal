{
  "nbformat": 4,
  "nbformat_minor": 0,
  "metadata": {
    "colab": {
      "provenance": [],
      "gpuType": "T4",
      "include_colab_link": true
    },
    "kernelspec": {
      "name": "python3",
      "display_name": "Python 3"
    },
    "language_info": {
      "name": "python"
    },
    "accelerator": "GPU"
  },
  "cells": [
    {
      "cell_type": "markdown",
      "metadata": {
        "id": "view-in-github",
        "colab_type": "text"
      },
      "source": [
        "<a href=\"https://colab.research.google.com/github/erendagasan/Eren-Dagasan-Personal/blob/main/Untitled0.ipynb\" target=\"_parent\"><img src=\"https://colab.research.google.com/assets/colab-badge.svg\" alt=\"Open In Colab\"/></a>"
      ]
    },
    {
      "cell_type": "code",
      "source": [
        "#@title Libraries and Indicator Function\n",
        "\n",
        "!pip install -q bta-lib\n",
        "!pip install -q ta\n",
        "\n",
        "import btalib\n",
        "import numpy as np\n",
        "import pandas as pd\n",
        "from ta.trend import PSARIndicator\n",
        "from ta.momentum import WilliamsRIndicator\n",
        "from ta.trend import AroonIndicator\n",
        "from ta.volume import VolumePriceTrendIndicator\n",
        "from ta.trend import CCIIndicator\n",
        "from ta.momentum import ROCIndicator\n",
        "from ta.trend import ADXIndicator\n",
        "import yfinance as yf\n",
        "import warnings\n",
        "import tensorflow as tf\n",
        "from sklearn.model_selection import train_test_split\n",
        "from sklearn.preprocessing import StandardScaler\n",
        "from imblearn.over_sampling import RandomOverSampler\n",
        "from sklearn.metrics import f1_score\n",
        "warnings.filterwarnings(\"ignore\")\n",
        "\n",
        "\n",
        "def create_indicators(data):\n",
        "  data[\"RSI\"] = btalib.rsi(data[\"Close\"], period=14).df\n",
        "  data[\"SMA5\"] = btalib.sma(data['Close'], period=5).df\n",
        "  data[\"SMA9\"] = btalib.sma(data['Close'], period=9).df\n",
        "  data[\"SMA10\"] = btalib.sma(data['Close'], period=10).df\n",
        "  data[\"SMA14\"] = btalib.sma(data['Close'], period=14).df\n",
        "  data[\"SMA20\"] = btalib.sma(data['Close'], period=20).df\n",
        "  data[\"SMA21\"] = btalib.sma(data['Close'], period=21).df\n",
        "  data[\"SMA50\"] = btalib.sma(data['Close'], period=50).df\n",
        "  data[\"SMA200\"] = btalib.sma(data['Close'], period=200).df\n",
        "  data[\"EMA5\"] = btalib.ema(data['Close'], period=5).df\n",
        "  data[\"EMA14\"] = btalib.ema(data['Close'], period=14).df\n",
        "  data[\"EMA21\"] = btalib.ema(data['Close'], period=21).df\n",
        "  data[\"EMA50\"] = btalib.ema(data['Close'], period=50).df\n",
        "  data[\"STOCH-K\"] = btalib.stoch(data['High'], data['Low'], data['Close']).df[\"k\"]\n",
        "  data[\"STOCH-D\"] = btalib.stoch(data['High'], data['Low'], data['Close']).df[\"d\"]\n",
        "  data[\"MACD\"] = btalib.macd(data['Close']).df[\"macd\"]\n",
        "  data[\"SIGNAL\"] = btalib.macd(data['Close']).df[\"signal\"]\n",
        "  data[\"HISTOGRAM\"] = btalib.macd(data['Close']).df[\"histogram\"]\n",
        "  data[\"BB-UPPER\"] = btalib.bbands(data['Close']).df['top']\n",
        "  data[\"BB-MID\"] = btalib.bbands(data['Close']).df['mid']\n",
        "  data[\"BB-LOWER\"] = btalib.bbands(data['Close']).df['bot']\n",
        "  data[\"STDEV\"] = data[\"Close\"].rolling(window=10).std()\n",
        "  data[\"PSAR\"] = PSARIndicator(data[\"High\"], data[\"Low\"], data[\"Close\"]).psar()\n",
        "  data[\"WILLIAMS\"] = WilliamsRIndicator(data[\"High\"], data[\"Low\"], data[\"Close\"]).williams_r()\n",
        "  data[\"AROON\"] = AroonIndicator(close=data[\"Close\"], window=25).aroon_indicator()\n",
        "  data[\"OBV\"] = VolumePriceTrendIndicator(close=data['Close'], volume=data['Volume']).volume_price_trend()\n",
        "  data['CCI'] = CCIIndicator(close=data['Close'], low=data[\"Low\"], high=data[\"High\"], window=14).cci()\n",
        "  data['ROC'] = ROCIndicator(close=data['Close'], window=5).roc()\n",
        "  data['BULL'] = data['High'] - (data['High'].rolling(13).max() + data['Low'].rolling(13).min()) / 2\n",
        "  data['BEAR'] = data['Low'] - (data['High'].rolling(13).max() + data['Low'].rolling(13).min()) / 2\n",
        "  adx_indicator = ADXIndicator(high=data['High'], low=data['Low'], close=data['Close'], window=14)\n",
        "  data['ADX'] = adx_indicator.adx()\n",
        "  data['+DI'] = adx_indicator.adx_pos()\n",
        "  data['-DI'] = adx_indicator.adx_neg()\n",
        "\n",
        "  data = data.dropna()\n",
        "  data = data.reset_index()\n",
        "  return data"
      ],
      "metadata": {
        "id": "Lfv1WZ9SIIPB",
        "cellView": "form"
      },
      "execution_count": null,
      "outputs": []
    },
    {
      "cell_type": "code",
      "execution_count": null,
      "metadata": {
        "id": "hYS1wHF8FcB9"
      },
      "outputs": [],
      "source": [
        "# sheet_id = \"1RSqOXkFTAO7g4H9LEY3d3IX6H6bJaYk1\"\n",
        "# sheet_name = \"Sheet_1\"\n",
        "# url = f\"https://docs.google.com/spreadsheets/d/{sheet_id}/gviz/tq?tqx=out:csv&sheet={sheet_name}\"\n",
        "# result_df = pd.read_csv(url)\n",
        "\n",
        "sheet_id = \"1AA9MfqOtAAgO97__aomD79DciyT-PkRQ\"\n",
        "sheet_name = \"Sheet_1\"\n",
        "url = f\"https://docs.google.com/spreadsheets/d/{sheet_id}/gviz/tq?tqx=out:csv&sheet={sheet_name}\"\n",
        "result_df = pd.read_csv(url)\n",
        "\n",
        "data = pd.DataFrame()\n",
        "\n",
        "for stock in result_df[\"STOCK\"].unique():\n",
        "  print(stock)\n",
        "  stock_data = yf.download(stock, start=\"2000-01-01\", end=\"2023-08-08\", progress=False)\n",
        "  stock_data = create_indicators(stock_data)\n",
        "\n",
        "  stock_data[\"signal\"] = 0\n",
        "\n",
        "  for row in range(stock_data.shape[0]):\n",
        "    if row+1 != stock_data.shape[0] and stock_data[\"Close\"].iloc[row+1] > stock_data[\"Close\"].iloc[row] + 5*(stock_data[\"Close\"].iloc[row])/100:\n",
        "      stock_data[\"signal\"].iloc[row] = 1\n",
        "\n",
        "\n",
        "  stock_data = stock_data.drop([\"Date\", \"Open\", \"High\", \"Low\", \"Close\", \"Adj Close\", \"Volume\"], axis=1)\n",
        "  data = pd.concat([data, stock_data], ignore_index=True)"
      ]
    },
    {
      "cell_type": "code",
      "source": [
        "data.shape"
      ],
      "metadata": {
        "id": "qFzpmolvcpCL",
        "colab": {
          "base_uri": "https://localhost:8080/"
        },
        "outputId": "5e2baa78-c1ba-4273-f542-caf39cf16eea"
      },
      "execution_count": 3,
      "outputs": [
        {
          "output_type": "execute_result",
          "data": {
            "text/plain": [
              "(151008, 34)"
            ]
          },
          "metadata": {},
          "execution_count": 3
        }
      ]
    },
    {
      "cell_type": "code",
      "source": [
        "data[data[\"signal\"] == 1]"
      ],
      "metadata": {
        "id": "R7VTJgSzaIXR"
      },
      "execution_count": null,
      "outputs": []
    },
    {
      "cell_type": "code",
      "source": [
        "from tensorflow.keras.callbacks import EarlyStopping, ModelCheckpoint\n",
        "\n",
        "df = pd.DataFrame(data)\n",
        "\n",
        "input_columns = df.columns[:33]\n",
        "output_column = \"signal\"\n",
        "\n",
        "df[output_column] = df[output_column].astype(int)\n",
        "\n",
        "X = df[input_columns].values\n",
        "y = df[output_column].values\n",
        "\n",
        "scaler = StandardScaler()\n",
        "X = scaler.fit_transform(X)\n",
        "\n",
        "X_train, X_test, y_train, y_test = train_test_split(X, y, test_size=0.2, random_state=42)\n",
        "\n",
        "oversampler = RandomOverSampler(random_state=42)\n",
        "X_train_resampled, y_train_resampled = oversampler.fit_resample(X_train, y_train)\n",
        "\n",
        "# model = tf.keras.Sequential([\n",
        "#     tf.keras.layers.Input(shape=(X_train_resampled.shape[1],)),\n",
        "#     tf.keras.layers.Dense(256, activation='relu'),\n",
        "#     tf.keras.layers.Dropout(0.3),\n",
        "#     tf.keras.layers.Dense(128, activation='relu'),\n",
        "#     tf.keras.layers.Dropout(0.3),\n",
        "#     tf.keras.layers.Dense(64, activation='relu'),\n",
        "#     tf.keras.layers.Dropout(0.3),\n",
        "#     tf.keras.layers.BatchNormalization(),\n",
        "#     tf.keras.layers.Dense(32, activation='relu'),\n",
        "#     tf.keras.layers.Dropout(0.3),\n",
        "#     tf.keras.layers.Dense(16, activation='relu'),\n",
        "#     tf.keras.layers.Dropout(0.3),\n",
        "#     tf.keras.layers.Dense(1, activation='sigmoid')\n",
        "# ])\n",
        "\n",
        "model = tf.keras.Sequential([\n",
        "    tf.keras.layers.Input(shape=(X_train_resampled.shape[1], 1)),  # Add the input shape with 1 time step\n",
        "    tf.keras.layers.LSTM(256, return_sequences=True),  # Return sequences for stacking LSTM layers\n",
        "    tf.keras.layers.Dropout(0.3),\n",
        "    tf.keras.layers.LSTM(128),  # Second LSTM layer without returning sequences\n",
        "    tf.keras.layers.Dropout(0.3),\n",
        "    tf.keras.layers.BatchNormalization(),\n",
        "    tf.keras.layers.Dropout(0.3),\n",
        "    tf.keras.layers.Dense(1, activation='sigmoid')\n",
        "])\n",
        "\n",
        "model.compile(optimizer='adam', loss='binary_crossentropy', metrics=['accuracy'])\n",
        "\n",
        "early_stopping = EarlyStopping(monitor='val_loss', patience=5, restore_best_weights=True)\n",
        "model_checkpoint = ModelCheckpoint('best_model.h5', save_best_only=True)\n",
        "\n",
        "model.fit(X_train_resampled, y_train_resampled, epochs=500, batch_size=32, validation_split=0.2, callbacks=[early_stopping, model_checkpoint])\n",
        "\n",
        "y_pred = model.predict(X_test)\n",
        "y_pred_binary = (y_pred > 0.5).astype(int)\n",
        "f1 = f1_score(y_test, y_pred_binary)\n",
        "print(f\"F1-score on test data: {f1:.4f}\")"
      ],
      "metadata": {
        "id": "IfSHE91eZonR",
        "outputId": "46e3feaf-5694-4c7d-ac17-271567e41ef8",
        "colab": {
          "base_uri": "https://localhost:8080/"
        }
      },
      "execution_count": null,
      "outputs": [
        {
          "output_type": "stream",
          "name": "stdout",
          "text": [
            "Epoch 1/500\n",
            "5824/5824 [==============================] - 105s 10ms/step - loss: 0.6390 - accuracy: 0.6495 - val_loss: 0.9019 - val_accuracy: 0.2916\n",
            "Epoch 2/500\n",
            "5824/5824 [==============================] - 58s 10ms/step - loss: 0.6239 - accuracy: 0.6599 - val_loss: 0.8576 - val_accuracy: 0.3641\n",
            "Epoch 3/500\n",
            "5824/5824 [==============================] - 65s 11ms/step - loss: 0.6078 - accuracy: 0.6745 - val_loss: 0.8673 - val_accuracy: 0.3866\n",
            "Epoch 4/500\n",
            "5824/5824 [==============================] - 53s 9ms/step - loss: 0.5921 - accuracy: 0.6859 - val_loss: 0.8249 - val_accuracy: 0.4304\n",
            "Epoch 5/500\n",
            "5824/5824 [==============================] - 54s 9ms/step - loss: 0.5713 - accuracy: 0.6995 - val_loss: 0.7987 - val_accuracy: 0.4808\n",
            "Epoch 6/500\n",
            "5824/5824 [==============================] - 53s 9ms/step - loss: 0.5476 - accuracy: 0.7141 - val_loss: 0.6910 - val_accuracy: 0.5532\n",
            "Epoch 7/500\n",
            "5824/5824 [==============================] - 59s 10ms/step - loss: 0.5208 - accuracy: 0.7298 - val_loss: 0.7350 - val_accuracy: 0.5309\n",
            "Epoch 8/500\n",
            "5824/5824 [==============================] - 54s 9ms/step - loss: 0.4887 - accuracy: 0.7476 - val_loss: 0.5920 - val_accuracy: 0.7131\n",
            "Epoch 9/500\n",
            "5824/5824 [==============================] - 55s 9ms/step - loss: 0.4540 - accuracy: 0.7682 - val_loss: 0.5827 - val_accuracy: 0.6709\n",
            "Epoch 10/500\n",
            "5824/5824 [==============================] - 55s 9ms/step - loss: 0.4410 - accuracy: 0.7773 - val_loss: 0.4707 - val_accuracy: 0.7830\n",
            "Epoch 11/500\n",
            "5824/5824 [==============================] - 54s 9ms/step - loss: 0.3945 - accuracy: 0.8049 - val_loss: 0.4636 - val_accuracy: 0.7965\n",
            "Epoch 12/500\n",
            "5824/5824 [==============================] - 55s 10ms/step - loss: 0.3607 - accuracy: 0.8243 - val_loss: 0.4360 - val_accuracy: 0.7994\n",
            "Epoch 13/500\n",
            "5824/5824 [==============================] - 53s 9ms/step - loss: 0.3332 - accuracy: 0.8415 - val_loss: 0.3696 - val_accuracy: 0.8445\n",
            "Epoch 14/500\n",
            "5824/5824 [==============================] - 52s 9ms/step - loss: 0.3054 - accuracy: 0.8574 - val_loss: 0.3157 - val_accuracy: 0.8861\n",
            "Epoch 15/500\n",
            "5824/5824 [==============================] - 53s 9ms/step - loss: 0.2825 - accuracy: 0.8710 - val_loss: 0.2808 - val_accuracy: 0.9104\n",
            "Epoch 16/500\n",
            "5824/5824 [==============================] - 59s 10ms/step - loss: 0.2630 - accuracy: 0.8825 - val_loss: 0.2317 - val_accuracy: 0.9234\n",
            "Epoch 17/500\n",
            "5824/5824 [==============================] - 52s 9ms/step - loss: 0.2430 - accuracy: 0.8935 - val_loss: 0.2496 - val_accuracy: 0.9220\n",
            "Epoch 18/500\n",
            "5824/5824 [==============================] - 52s 9ms/step - loss: 0.2290 - accuracy: 0.9013 - val_loss: 0.1938 - val_accuracy: 0.9399\n",
            "Epoch 19/500\n",
            "5824/5824 [==============================] - 53s 9ms/step - loss: 0.2132 - accuracy: 0.9101 - val_loss: 0.1745 - val_accuracy: 0.9478\n",
            "Epoch 20/500\n",
            "5824/5824 [==============================] - 55s 9ms/step - loss: 0.2005 - accuracy: 0.9170 - val_loss: 0.1536 - val_accuracy: 0.9639\n",
            "Epoch 21/500\n",
            "5824/5824 [==============================] - 54s 9ms/step - loss: 0.1884 - accuracy: 0.9236 - val_loss: 0.1894 - val_accuracy: 0.9405\n",
            "Epoch 22/500\n",
            "5824/5824 [==============================] - 53s 9ms/step - loss: 0.1757 - accuracy: 0.9302 - val_loss: 0.1439 - val_accuracy: 0.9646\n",
            "Epoch 23/500\n",
            "5824/5824 [==============================] - 59s 10ms/step - loss: 0.1655 - accuracy: 0.9357 - val_loss: 0.1963 - val_accuracy: 0.9442\n",
            "Epoch 24/500\n",
            "5824/5824 [==============================] - 53s 9ms/step - loss: 0.1560 - accuracy: 0.9398 - val_loss: 0.0880 - val_accuracy: 0.9808\n",
            "Epoch 25/500\n",
            "5824/5824 [==============================] - 53s 9ms/step - loss: 0.1495 - accuracy: 0.9431 - val_loss: 0.1316 - val_accuracy: 0.9634\n",
            "Epoch 26/500\n",
            "5824/5824 [==============================] - 52s 9ms/step - loss: 0.1404 - accuracy: 0.9475 - val_loss: 0.0761 - val_accuracy: 0.9840\n",
            "Epoch 27/500\n",
            "5824/5824 [==============================] - 54s 9ms/step - loss: 0.1344 - accuracy: 0.9505 - val_loss: 0.0665 - val_accuracy: 0.9852\n",
            "Epoch 28/500\n",
            "4361/5824 [=====================>........] - ETA: 12s - loss: 0.1259 - accuracy: 0.9546"
          ]
        }
      ]
    },
    {
      "cell_type": "code",
      "source": [
        "model.save(\"xu030-long-deneme.h5\")\n",
        "# model = tf.keras.models.load_model(\"xutum_model_five_percent_1100epoch.h5\")"
      ],
      "metadata": {
        "id": "jqRgrzZg084k"
      },
      "execution_count": null,
      "outputs": []
    },
    {
      "cell_type": "code",
      "source": [
        "predictions = []\n",
        "\n",
        "for index in range(X_test.shape[0]):\n",
        "  new_data = X_test[index].reshape(1,-1)\n",
        "\n",
        "  new_data = scaler.transform(new_data)\n",
        "  prediction = model.predict(new_data, verbose=None)\n",
        "\n",
        "  if np.round(prediction[0][0]) == y_test[index]:\n",
        "    predictions.append(1)\n",
        "  else:\n",
        "    predictions.append(0)\n",
        "\n",
        "print(f\"\\nAccuracy: {predictions.count(1) / len(predictions) * 100}\")"
      ],
      "metadata": {
        "id": "vym-Yb_BZp3R"
      },
      "execution_count": null,
      "outputs": []
    },
    {
      "cell_type": "code",
      "source": [
        "predictions = []\n",
        "\n",
        "stock_data = yf.download(\"AKBNK.IS\", start=\"2000-01-01\", end=\"2023-08-08\", progress=False)\n",
        "stock_data = create_indicators(stock_data)\n",
        "\n",
        "stock_data[\"signal\"] = 0\n",
        "\n",
        "for row in range(stock_data.shape[0]):\n",
        "  if row+1 != stock_data.shape[0] and stock_data[\"Close\"].iloc[row+1] > stock_data[\"Close\"].iloc[row] + 5*(stock_data[\"Close\"].iloc[row])/100:\n",
        "    stock_data[\"signal\"].iloc[row] = 1\n",
        "\n",
        "stock_data = stock_data.drop([\"Open\", \"High\", \"Low\", \"Close\", \"Adj Close\", \"Volume\"], axis=1)\n",
        "tens = stock_data[stock_data[\"signal\"] == 1]\n",
        "\n",
        "for index, row in tens.iterrows():\n",
        "    x = row[1:34]\n",
        "\n",
        "    new_data = x.to_numpy().reshape(1, -1)\n",
        "\n",
        "    new_data = scaler.transform(new_data)\n",
        "    prediction = model.predict(new_data, verbose=None)\n",
        "\n",
        "    print(f\"Prediction for date {row[0]}: {np.round(prediction[0][0])}\")\n",
        "\n",
        "    predictions.append(np.round(prediction[0][0]))\n",
        "\n",
        "print(f\"\\nAccuracy: {predictions.count(1) / len(predictions) * 100}\")"
      ],
      "metadata": {
        "id": "GXskMvribBZo"
      },
      "execution_count": null,
      "outputs": []
    },
    {
      "cell_type": "code",
      "source": [
        "buy_stocks = []\n",
        "\n",
        "for stock in result_df[\"STOCK\"].unique():\n",
        "  stock_data = yf.download(stock, start=\"2021-06-01\", end=\"2023-08-09\", progress=False)\n",
        "  stock_data = create_indicators(stock_data)\n",
        "  stock_data = stock_data.drop([\"Date\", \"Open\", \"High\", \"Low\", \"Close\", \"Adj Close\", \"Volume\"], axis=1)\n",
        "\n",
        "  x = stock_data.tail(1)[:33]\n",
        "\n",
        "  new_data = x.to_numpy().reshape(1, -1)\n",
        "\n",
        "  new_data = scaler.transform(new_data)\n",
        "  prediction = model.predict(new_data, verbose=None)\n",
        "\n",
        "  if np.round(prediction[0][0]) == 1:\n",
        "    buy_stocks.append(stock)\n",
        "\n",
        "buy_stocks"
      ],
      "metadata": {
        "id": "YASh8fggUiZk"
      },
      "execution_count": null,
      "outputs": []
    },
    {
      "cell_type": "code",
      "source": [
        "balance = 10000\n",
        "stock_balance = 0\n",
        "\n",
        "stock_data = yf.download(\"THYAO.IS\", start=\"2020-01-01\", end=\"2023-08-09\", progress=False)\n",
        "stock_data = create_indicators(stock_data)\n",
        "stock_data = stock_data.drop([\"Date\", \"Open\", \"High\", \"Low\", \"Adj Close\", \"Volume\"], axis=1)\n",
        "\n",
        "for row in range(stock_data.shape[0]):\n",
        "  new_data = scaler.transform(stock_data.iloc[row][1:34].to_numpy().reshape(1, -1))\n",
        "  prediction = model.predict(new_data, verbose=None)\n",
        "\n",
        "  if np.round(prediction[0][0]) == 1 and balance >= stock_data.iloc[row][0]:\n",
        "    stock_balance = int(balance / stock_data.iloc[row][0])\n",
        "\n",
        "  elif stock_balance > 0 and np.round(prediction[0][0]) == 0:\n",
        "    balance = int(stock_balance*stock_data.iloc[row][0])\n",
        "\n",
        "balance"
      ],
      "metadata": {
        "id": "azBIRPBYpbBI"
      },
      "execution_count": null,
      "outputs": []
    }
  ]
}